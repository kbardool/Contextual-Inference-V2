{
 "cells": [
  {
   "cell_type": "markdown",
   "metadata": {
    "hideCode": true,
    "hidePrompt": true
   },
   "source": [
    "## Developement of FCN Losses"
   ]
  },
  {
   "cell_type": "code",
   "execution_count": 30,
   "metadata": {
    "ExecuteTime": {
     "end_time": "2019-01-31T12:29:52.601619Z",
     "start_time": "2019-01-31T12:29:52.526975Z"
    },
    "hideCode": false,
    "hideOutput": false,
    "hidePrompt": false
   },
   "outputs": [
    {
     "data": {
      "text/html": [
       "<style>.container { width:95% !important; }</style>"
      ],
      "text/plain": [
       "<IPython.core.display.HTML object>"
      ]
     },
     "metadata": {},
     "output_type": "display_data"
    },
    {
     "name": "stdout",
     "output_type": "stream",
     "text": [
      "The autoreload extension is already loaded. To reload it, use:\n",
      "  %reload_ext autoreload\n",
      "Current working dir:  /home/kbardool/git_projs/mrcnn3/notebooks\n"
     ]
    }
   ],
   "source": [
    "from IPython.core.display import display, HTML\n",
    "display(HTML(\"<style>.container { width:95% !important; }</style>\"))\n",
    "%matplotlib inline\n",
    "%load_ext autoreload\n",
    "%autoreload 2\n",
    "import sys,os, pprint, platform,pickle\n",
    "import tensorflow as tf\n",
    "import keras.backend as KB\n",
    "pp = pprint.PrettyPrinter(indent=2, width=100)\n",
    "print('Current working dir: ', os.getcwd())\n",
    "if '..' not in sys.path:\n",
    "    print(\"appending '..' to sys.path\")\n",
    "    sys.path.append('..')\n",
    "    \n",
    "syst = platform.system()\n",
    "if syst == 'Windows':\n",
    "    dataset_path = \"E:/git_projs/MRCNN3/train_newshapes/\"\n",
    "elif syst == 'Linux':\n",
    "    dataset_path = \"/home/kbardool/mrcnn3/train_newshapes/\"\n",
    "else :\n",
    "    raise Error('unrecognized system ')    \n",
    "import numpy as np\n",
    "import mrcnn.utils     as utils\n",
    "import mrcnn.visualize as visualize\n",
    "import mrcnn.prep_notebook as prep\n",
    "from mrcnn.prep_notebook import build_fcn_training_pipeline, run_fcn_training_pipeline\n",
    "from mrcnn.prep_notebook import build_fcn_training_pipeline_newshapes\n",
    "from mrcnn.visualize     import display_training_batch\n",
    "from mrcnn.newshapes     import prep_newshape_dataset\n",
    "from mrcnn.utils         import logt\n",
    "# from mrcnn.prep_notebook import get_inference_batch, get_image_batch"
   ]
  },
  {
   "cell_type": "code",
   "execution_count": 168,
   "metadata": {
    "ExecuteTime": {
     "end_time": "2019-01-31T14:04:40.146829Z",
     "start_time": "2019-01-31T14:04:40.077323Z"
    },
    "hideCode": false,
    "hideOutput": false,
    "hidePrompt": false
   },
   "outputs": [
    {
     "name": "stdout",
     "output_type": "stream",
     "text": [
      "\n",
      "   Arguments passed :\n",
      "   --------------------\n",
      "   batch_size                     2\n",
      "   coco_classes                   None\n",
      "   epochs                         2\n",
      "   evaluate_method                1\n",
      "   fcn_arch                       FCN8L2\n",
      "   fcn_bce_loss_class             3\n",
      "   fcn_bce_loss_method            2\n",
      "   fcn_layers                     ['all']\n",
      "   fcn_logs_dir                   train_fcn8_newshapes\n",
      "   fcn_losses                     fcn_BCE_loss\n",
      "   fcn_model                      init\n",
      "   last_epoch                     0\n",
      "   lr                             0.0001\n",
      "   mrcnn_exclude_layers           None\n",
      "   mrcnn_layers                   ['mrcnn', 'fpn', 'rpn']\n",
      "   mrcnn_logs_dir                 train_mrcnn_newshapes\n",
      "   mrcnn_model                    last\n",
      "   new_log_folder                 True\n",
      "   opt                            ADAM\n",
      "   scale_factor                   1\n",
      "   steps_in_epoch                 100\n",
      "   sysout                         SCREEN\n",
      "   val_steps                      5\n",
      "\n",
      "\n"
     ]
    }
   ],
   "source": [
    "\n",
    "##------------------------------------------------------------------------------------\n",
    "## Parse command line arguments\n",
    "##------------------------------------------------------------------------------------\n",
    "input_parms = \" --epochs 2 \" \n",
    "input_parms +=\" --steps_in_epoch    100 \"    \n",
    "input_parms +=\" --val_steps           5 \" \n",
    "input_parms +=\" --last_epoch          0 \"\n",
    "input_parms +=\" --batch_size          2 \"\n",
    "input_parms +=\" --lr             0.0001 \"\n",
    "input_parms +=\" --mrcnn_logs_dir   train_mrcnn_newshapes \"\n",
    "input_parms +=\" --fcn_logs_dir     train_fcn8_newshapes \"\n",
    "input_parms +=\" --mrcnn_model      last \"\n",
    "input_parms +=\" --fcn_model        init \"\n",
    "input_parms +=\" --fcn_bce_loss_method 2 \" \n",
    "input_parms +=\" --fcn_bce_loss_class  3 \" \n",
    "input_parms +=\" --opt              adam \"\n",
    "input_parms +=\" --fcn_arch         fcn8L2 \" \n",
    "input_parms +=\" --fcn_layers       all \" \n",
    "input_parms +=\" --sysout           screen \"\n",
    "input_parms +=\" --scale_factor        1 \" \n",
    "input_parms +=\" --new_log_folder   \"        \n",
    "\n",
    "parser = utils.command_line_parser()\n",
    "args = parser.parse_args(input_parms.split())\n",
    "utils.display_input_parms(args)"
   ]
  },
  {
   "cell_type": "code",
   "execution_count": 172,
   "metadata": {
    "ExecuteTime": {
     "end_time": "2019-01-31T14:13:44.361333Z",
     "start_time": "2019-01-31T14:13:28.509249Z"
    },
    "scrolled": false
   },
   "outputs": [
    {
     "name": "stdout",
     "output_type": "stream",
     "text": [
      "MODE IS: training\n",
      "\n",
      "   Arguments passed :\n",
      "   --------------------\n",
      "   batch_size                     2\n",
      "   coco_classes                   None\n",
      "   epochs                         2\n",
      "   evaluate_method                1\n",
      "   fcn_arch                       FCN8L2\n",
      "   fcn_bce_loss_class             3\n",
      "   fcn_bce_loss_method            2\n",
      "   fcn_layers                     ['all']\n",
      "   fcn_logs_dir                   train_fcn8_newshapes\n",
      "   fcn_losses                     fcn_BCE_loss\n",
      "   fcn_model                      init\n",
      "   last_epoch                     0\n",
      "   lr                             0.0001\n",
      "   mrcnn_exclude_layers           None\n",
      "   mrcnn_layers                   ['mrcnn', 'fpn', 'rpn']\n",
      "   mrcnn_logs_dir                 train_mrcnn_newshapes\n",
      "   mrcnn_model                    last\n",
      "   new_log_folder                 True\n",
      "   opt                            ADAM\n",
      "   scale_factor                   1\n",
      "   steps_in_epoch                 100\n",
      "   sysout                         SCREEN\n",
      "   val_steps                      5\n",
      "\n",
      "\n",
      ">>> Initialize Paths\n",
      " Linx  Linux\n",
      ">>> Initialize ModelBase model \n",
      "   Mode      :  training\n",
      "   Model dir :  /home/kbardool/models_newshapes/train_mrcnn_newshapes\n",
      ">>> set_log_dir(): model_path:  None\n",
      "    set_log_dir(): model_path has NOT been provided : None \n",
      "                   NewFolder: False  config.NEW_LOG_FOLDER: True \n",
      "    set_log_dir(): weight file template (self.checkpoint_path): /home/kbardool/models_newshapes/train_mrcnn_newshapes/mrcnn20190131T1413/mrcnn_{epoch:04d}.h5 \n",
      "    set_log_dir(): weight file dir      (self.log_dir)        : /home/kbardool/models_newshapes/train_mrcnn_newshapes/mrcnn20190131T1413 \n",
      "    set_log_dir(): Last completed epoch (self.epoch)          : 0 \n",
      ">>> ModelBase initialiation complete\n",
      ">>> ---Initialize MRCNN model, mode:  training\n",
      "\n",
      "----------------------------\n",
      ">>> Resnet Graph \n",
      "----------------------------\n",
      "     Input_image shape : (?, 128, 128, 3)\n",
      "\n",
      ">>> Feature Pyramid Network (FPN) Graph \n",
      "\n",
      ">>> RPN Layer \n",
      "\n",
      ">>> RPN Outputs  <class 'list'>\n",
      "      rpn_class_logits/rpn_class_logits:0\n",
      "      rpn_class/rpn_class:0\n",
      "      rpn_bbox/rpn_bbox:0\n",
      "\n",
      ">>> Proposal Layer - generate  2000  proposals\n",
      "    Init complete. Size of anchors:  (4092, 4)\n",
      "\n",
      ">>> Detection Target Layer (Training Mode)\n",
      "\n",
      ">>> FPN Classifier Graph \n",
      "--------------------------------\n",
      ">>>  CHM Layer  \n",
      "--------------------------------\n",
      "    > CHMLayer Call()              :  list length: 3\n",
      "--------------------------------\n",
      ">>>  CHM Layer COMPUTE OUTPUT SHAPE \n",
      "--------------------------------\n",
      "<class 'list'> 3\n",
      "\n",
      "-----------------------------------------\n",
      ">>>  CHM Layer (Ground Truth Generation) \n",
      "-----------------------------------------\n",
      "    Scatter out the probability distributions based on class --------------\n",
      " GT HM.op_type()       : Transpose\n",
      " GT HM SCORES.op_type(): ConcatV2\n",
      "\n",
      "\n",
      "---------------------------------------------------\n",
      "    building Loss Functions \n",
      "---------------------------------------------------\n",
      "\n",
      ">>> rpn_class_loss_graph\n",
      "    rpn_match size : (?, ?, 1)\n",
      "    tf default session:  None\n",
      "    loss      : (?,) Tensor(\"rpn_class_loss/Shape:0\", shape=(1,), dtype=int32) KerasTensor:  False\n",
      "    mean loss : () Tensor(\"rpn_class_loss/Shape_1:0\", shape=(0,), dtype=int32) KerasTensor:  False\n",
      "    reshaped mean loss : (1, 1) Tensor(\"rpn_class_loss/Shape_2:0\", shape=(2,), dtype=int32) KerasTensor:  False\n",
      "\n",
      ">>> rpn_class_loss_graph\n",
      "    rpn_match size : (?, ?, 1)\n",
      "    tf default session:  None\n",
      "    loss      : (?,) Tensor(\"rpn_class_loss/Shape_3:0\", shape=(1,), dtype=int32) KerasTensor:  False\n",
      "    mean loss : () Tensor(\"rpn_class_loss/Shape_4:0\", shape=(0,), dtype=int32) KerasTensor:  False\n",
      "    reshaped mean loss : (1, 1) Tensor(\"rpn_class_loss/Shape_5:0\", shape=(2,), dtype=int32) KerasTensor:  False\n",
      "\n",
      ">>> rpn_bbox_loss_graph\n",
      "    rpn_match size : (?, ?)\n",
      "    rpn_bbox  size : (?, ?, 4)\n",
      "    loss      : <unknown> Tensor(\"rpn_bbox_loss/Shape:0\", shape=(?,), dtype=int32) KerasTensor:  False\n",
      "    mean loss : () Tensor(\"rpn_bbox_loss/Shape_1:0\", shape=(0,), dtype=int32) KerasTensor:  False\n",
      "    reshaped mean loss : (1, 1) Tensor(\"rpn_bbox_loss/Shape_2:0\", shape=(2,), dtype=int32) KerasTensor:  False\n",
      "\n",
      ">>> rpn_bbox_loss_graph\n",
      "    rpn_match size : (?, ?)\n",
      "    rpn_bbox  size : (?, ?, 4)\n",
      "    loss      : <unknown> Tensor(\"rpn_bbox_loss/Shape_3:0\", shape=(?,), dtype=int32) KerasTensor:  False\n",
      "    mean loss : () Tensor(\"rpn_bbox_loss/Shape_4:0\", shape=(0,), dtype=int32) KerasTensor:  False\n",
      "    reshaped mean loss : (1, 1) Tensor(\"rpn_bbox_loss/Shape_5:0\", shape=(2,), dtype=int32) KerasTensor:  False\n",
      "\n",
      ">>> mrcnn_class_loss_graph \n",
      "    target_class_ids  size : (2, ?)\n",
      "    pred_class_logits size : (?, 32, 7)\n",
      "    active_class_ids  size : (?, ?)\n",
      "    loss      : (2, 32) Tensor(\"mrcnn_class_loss/Shape:0\", shape=(2,), dtype=int32) KerasTensor:  False\n",
      "    mean loss : () Tensor(\"mrcnn_class_loss/Shape_1:0\", shape=(0,), dtype=int32) KerasTensor:  False\n",
      "    reshaped mean loss : (1, 1) Tensor(\"mrcnn_class_loss/Shape_2:0\", shape=(2,), dtype=int32) KerasTensor:  False\n",
      "\n",
      ">>> mrcnn_class_loss_graph \n",
      "    target_class_ids  size : (?, 32)\n",
      "    pred_class_logits size : (?, 32, 7)\n",
      "    active_class_ids  size : (?, ?)\n",
      "    loss      : (?, 32) Tensor(\"mrcnn_class_loss/Shape_3:0\", shape=(2,), dtype=int32) KerasTensor:  False\n",
      "    mean loss : () Tensor(\"mrcnn_class_loss/Shape_4:0\", shape=(0,), dtype=int32) KerasTensor:  False\n",
      "    reshaped mean loss : (1, 1) Tensor(\"mrcnn_class_loss/Shape_5:0\", shape=(2,), dtype=int32) KerasTensor:  False\n",
      "\n",
      ">>> mrcnn_bbox_loss_graph \n",
      "    target_class_ids  size : (2, ?)\n",
      "    pred_bbox size         : (?, 32, 7, 4)\n",
      "    target_bbox size       : (2, ?, ?)\n",
      "    reshpaed pred_bbox size         : (?, 7, 4)\n",
      "    reshaped target_bbox size       : (?, 4)\n",
      "    pred_bbox size         : (?, 4)\n",
      "    target_bbox size       : (?, 4)\n",
      "    loss      : <unknown> Tensor(\"mrcnn_bbox_loss/Shape:0\", shape=(?,), dtype=int32) KerasTensor:  False\n",
      "    mean loss : () Tensor(\"mrcnn_bbox_loss/Shape_1:0\", shape=(0,), dtype=int32) KerasTensor:  False\n",
      "    reshaped mean loss : (1, 1) Tensor(\"mrcnn_bbox_loss/Shape_2:0\", shape=(2,), dtype=int32) KerasTensor:  False\n",
      "\n",
      ">>> mrcnn_bbox_loss_graph \n",
      "    target_class_ids  size : (?, 32)\n",
      "    pred_bbox size         : (?, 32, 7, 4)\n",
      "    target_bbox size       : (?, 32, 4)\n",
      "    reshpaed pred_bbox size         : (?, 7, 4)\n",
      "    reshaped target_bbox size       : (?, 4)\n",
      "    pred_bbox size         : (?, 4)\n",
      "    target_bbox size       : (?, 4)\n",
      "    loss      : <unknown> Tensor(\"mrcnn_bbox_loss/Shape_3:0\", shape=(?,), dtype=int32) KerasTensor:  False\n",
      "    mean loss : () Tensor(\"mrcnn_bbox_loss/Shape_4:0\", shape=(0,), dtype=int32) KerasTensor:  False\n",
      "    reshaped mean loss : (1, 1) Tensor(\"mrcnn_bbox_loss/Shape_5:0\", shape=(2,), dtype=int32) KerasTensor:  False\n",
      "\n",
      ">>> Build MaskRCNN build complete. mode:  training\n",
      ">>> MaskRCNN initialiation complete. Mode:  training\n",
      "\n",
      " MRCNN Configuration Parameters \n",
      " ------------------------------ \n",
      "\n",
      "Configuration Parameters:\n",
      "-------------------------\n",
      "BACKBONE_SHAPES                [[32 32]\n",
      " [16 16]\n",
      " [ 8  8]\n",
      " [ 4  4]\n",
      " [ 2  2]]\n",
      "BACKBONE_STRIDES               [4, 8, 16, 32, 64]\n",
      "BATCH_SIZE                     2\n",
      "BBOX_STD_DEV                   [0.1000 0.1000 0.2000 0.2000]\n",
      "DETECTION_MAX_INSTANCES        64\n",
      "DETECTION_MIN_CONFIDENCE       0.1\n",
      "DETECTION_NMS_THRESHOLD        0.3\n",
      "DETECTION_PER_CLASS            64\n",
      "DIR_DATASET                    /home/kbardool/MLDatasets\n",
      "DIR_PRETRAINED                 /home/kbardool/PretrainedModels\n",
      "DIR_TRAINING                   /home/kbardool/models_newshapes\n",
      "EARLY_STOP_MIN_DELTA           0.0001\n",
      "EARLY_STOP_PATIENCE            120\n",
      "EPOCHS_TO_RUN                  2\n",
      "FCN_INPUT_SHAPE                [128 128]\n",
      "GPU_COUNT                      1\n",
      "HEATMAP_SCALE_FACTOR           1\n",
      "IMAGES_PER_GPU                 2\n",
      "IMAGE_BUFFER                   20\n",
      "IMAGE_MAX_DIM                  128\n",
      "IMAGE_MIN_DIM                  128\n",
      "IMAGE_PADDING                  True\n",
      "IMAGE_SHAPE                    [128 128   3]\n",
      "LAST_EPOCH_RAN                 0\n",
      "LEARNING_MOMENTUM              0.9\n",
      "LEARNING_RATE                  0.0001\n",
      "MASK_POOL_SIZE                 14\n",
      "MASK_SHAPE                     [28, 28]\n",
      "MAX_GT_INSTANCES               100\n",
      "MAX_SHAPES_PER_IMAGE           15\n",
      "MEAN_PIXEL                     [123.7000 116.8000 103.9000]\n",
      "MINI_MASK_SHAPE                (56, 56)\n",
      "MIN_LR                         1e-10\n",
      "MIN_SHAPES_PER_IMAGE           1\n",
      "NAME                           mrcnn\n",
      "NEW_LOG_FOLDER                 True\n",
      "NUM_CLASSES                    7\n",
      "OPTIMIZER                      ADAM\n",
      "POOL_SIZE                      7\n",
      "POST_NMS_ROIS_INFERENCE        1000\n",
      "POST_NMS_ROIS_TRAINING         2000\n",
      "REDUCE_LR_COOLDOWN             30\n",
      "REDUCE_LR_FACTOR               0.5\n",
      "REDUCE_LR_PATIENCE             60\n",
      "RESNET_MODEL_PATH              /home/kbardool/PretrainedModels/resnet50_weights_tf_dim_ordering_tf_kernels_notop.h5\n",
      "ROI_GT_IOU_THRESHOLD           0.2\n",
      "ROI_POSITIVE_RATIO             0.33\n",
      "ROI_PROPOSAL_AREA_THRESHOLD    0\n",
      "RPN_ANCHOR_RATIOS              [0.5, 1, 2]\n",
      "RPN_ANCHOR_SCALES              (8, 16, 32, 64, 128)\n",
      "RPN_ANCHOR_STRIDE              1\n",
      "RPN_BBOX_STD_DEV               [0.1000 0.1000 0.2000 0.2000]\n",
      "RPN_NMS_THRESHOLD              0.7\n",
      "RPN_TRAIN_ANCHORS_PER_IMAGE    256\n",
      "SHAPES_MODEL_PATH              /home/kbardool/PretrainedModels/mask_rcnn_shapes.h5\n",
      "STEPS_PER_EPOCH                100\n",
      "SYSOUT                         SCREEN\n",
      "TRAINING_PATH                  /home/kbardool/models_newshapes/train_mrcnn_newshapes\n",
      "TRAIN_ROIS_PER_IMAGE           32\n",
      "USE_MINI_MASK                  True\n",
      "USE_RPN_ROIS                   True\n",
      "VALIDATION_STEPS               5\n",
      "VERBOSE                        0\n",
      "VGG16_MODEL_PATH               /home/kbardool/PretrainedModels/vgg16_weights_tf_dim_ordering_tf_kernels_notop.h5\n",
      "WEIGHT_DECAY                   0.0001\n",
      "\n",
      "\n",
      "\n",
      " MRCNN IO Layers \n",
      " --------------- \n",
      " Inputs:\n",
      " -------\n",
      " index:  0    input name : input_image:0                              Type: float32           Shape: (?, 128, 128, 3)\n",
      " index:  1    input name : input_image_meta:0                         Type: float32           Shape: (?, ?)\n",
      " index:  2    input name : input_rpn_match:0                          Type: int32             Shape: (?, ?, 1)\n",
      " index:  3    input name : input_rpn_bbox:0                           Type: float32           Shape: (?, ?, 4)\n",
      " index:  4    input name : input_gt_class_ids:0                       Type: int32             Shape: (?, ?)\n",
      " index:  5    input name : input_gt_boxes:0                           Type: float32           Shape: (?, ?, 4)\n",
      " Outputs:\n",
      " --------\n",
      " layer:  0    output name: cntxt_layer/pred_heatmap:0                 Type: float32           Shape: (2, 128, 128, 7)\n"
     ]
    },
    {
     "name": "stdout",
     "output_type": "stream",
     "text": [
      " layer:  1    output name: cntxt_layer/pred_heatmap_scores:0          Type: float32           Shape: (2, 7, 32, 23)\n",
      " layer:  2    output name: cntxt_layer_gt/gt_heatmap:0                Type: float32           Shape: (2, 128, 128, 7)\n",
      " layer:  3    output name: cntxt_layer_gt/gt_heatmap_scores:0         Type: float32           Shape: (2, 7, 32, 23)\n",
      " layer:  4    output name: mrcnn_class_lambda/mrcnn_class:0           Type: float32           Shape: (?, 32, 7)\n",
      " layer:  5    output name: mrcnn_bbox_lambda/mrcnn_bbox:0             Type: float32           Shape: (?, 32, 7, 4)\n",
      " layer:  6    output name: proposal_targets/output_rois:0             Type: float32           Shape: (2, ?, ?)\n",
      " layer:  7    output name: proposal_targets/target_class_ids:0        Type: int32             Shape: (2, ?)\n",
      " layer:  8    output name: proposal_targets/target_bbox_deltas:0      Type: float32           Shape: (2, ?, ?)\n",
      " layer:  9    output name: proposal_targets/roi_gt_boxes:0            Type: float32           Shape: (2, ?, ?)\n",
      " layer: 10    output name: mrcnn_logits_lambda/mrcnn_class_logits:0   Type: float32           Shape: (?, 32, 7)\n",
      " layer: 11    output name: active_class_ids/strided_slice_3:0         Type: float32           Shape: (?, ?)\n",
      " layer: 12    output name: ROI/rpn_roi_proposals:0                    Type: float32           Shape: (2, ?, ?)\n",
      " layer: 13    output name: rpn_class_loss/rpn_class_loss:0            Type: float32           Shape: (1, 1)\n",
      " layer: 14    output name: rpn_bbox_loss/rpn_bbox_loss:0              Type: float32           Shape: (1, 1)\n",
      " layer: 15    output name: mrcnn_class_loss/mrcnn_class_loss:0        Type: float32           Shape: (1, 1)\n",
      " layer: 16    output name: mrcnn_bbox_loss/mrcnn_bbox_loss:0          Type: float32           Shape: (1, 1)\n",
      "-----------------------------------------------\n",
      " Load Model with init parm: [ last ]\n",
      " Exclude layers: \n",
      "-----------------------------------------------\n",
      " ---> last\n",
      ">>> find_last checkpoint in :  /home/kbardool/models_newshapes/train_mrcnn_newshapes\n",
      ">>> find_last checkpoint in :  /home/kbardool/models_newshapes/train_mrcnn_newshapes\n",
      "    Dir starting with       :  mrcnn  : ['mrcnn20181216T0000', 'mrcnn20190131T1403', 'mrcnn20190131T1413', 'mrcnn20190131T1409', 'mrcnn20190131T1404', 'mrcnn20190131T1205', 'mrcnn20190131T1411', 'mrcnn20190131T1330']\n",
      "    Folder:  /home/kbardool/models_newshapes/train_mrcnn_newshapes/mrcnn20190131T1413\n",
      "    Checkpoints:  []\n",
      "    Folder:  /home/kbardool/models_newshapes/train_mrcnn_newshapes/mrcnn20190131T1411\n",
      "    Checkpoints:  []\n",
      "    Folder:  /home/kbardool/models_newshapes/train_mrcnn_newshapes/mrcnn20190131T1409\n",
      "    Checkpoints:  []\n",
      "    Folder:  /home/kbardool/models_newshapes/train_mrcnn_newshapes/mrcnn20190131T1404\n",
      "    Checkpoints:  []\n",
      "    Folder:  /home/kbardool/models_newshapes/train_mrcnn_newshapes/mrcnn20190131T1403\n",
      "    Checkpoints:  []\n",
      "    Folder:  /home/kbardool/models_newshapes/train_mrcnn_newshapes/mrcnn20190131T1330\n",
      "    Checkpoints:  []\n",
      "    Folder:  /home/kbardool/models_newshapes/train_mrcnn_newshapes/mrcnn20190131T1205\n",
      "    Checkpoints:  []\n",
      "    Folder:  /home/kbardool/models_newshapes/train_mrcnn_newshapes/mrcnn20181216T0000\n",
      "    Checkpoints:  ['mrcnn_0247.h5', 'mrcnn_0389.h5', 'mrcnn_0472.h5']\n",
      "    find_last():   dir_name: /home/kbardool/models_newshapes/train_mrcnn_newshapes/mrcnn20181216T0000\n",
      "    find_last(): checkpoint: /home/kbardool/models_newshapes/train_mrcnn_newshapes/mrcnn20181216T0000/mrcnn_0472.h5\n",
      ">>> load_weights() from : /home/kbardool/models_newshapes/train_mrcnn_newshapes/mrcnn20181216T0000/mrcnn_0472.h5\n",
      "    Weights file loaded: /home/kbardool/models_newshapes/train_mrcnn_newshapes/mrcnn20181216T0000/mrcnn_0472.h5 \n",
      "==========================================\n",
      "MRCNN  MODEL Load weight file COMPLETE \n",
      "==========================================\n",
      ">>> Initialize Paths\n",
      " Linx  Linux\n",
      "\n",
      "   Arguments passed :\n",
      "   --------------------\n",
      "   batch_size                     2\n",
      "   coco_classes                   None\n",
      "   epochs                         2\n",
      "   evaluate_method                1\n",
      "   fcn_arch                       FCN8L2\n",
      "   fcn_bce_loss_class             3\n",
      "   fcn_bce_loss_method            2\n",
      "   fcn_layers                     ['all']\n",
      "   fcn_logs_dir                   train_fcn8_newshapes\n",
      "   fcn_losses                     fcn_BCE_loss\n",
      "   fcn_model                      init\n",
      "   last_epoch                     0\n",
      "   lr                             0.0001\n",
      "   mrcnn_exclude_layers           None\n",
      "   mrcnn_layers                   ['mrcnn', 'fpn', 'rpn']\n",
      "   mrcnn_logs_dir                 train_mrcnn_newshapes\n",
      "   mrcnn_model                    last\n",
      "   new_log_folder                 True\n",
      "   opt                            ADAM\n",
      "   scale_factor                   1\n",
      "   steps_in_epoch                 100\n",
      "   sysout                         SCREEN\n",
      "   val_steps                      5\n",
      "\n",
      "\n",
      "\n",
      "   Paths:\n",
      "   -------------------------\n",
      "COCO_DATASET_PATH              /home/kbardool/MLDatasets/coco2014\n",
      "COCO_HEATMAP_PATH              /home/kbardool/MLDatasets/coco2014_heatmaps\n",
      "COCO_MODEL_PATH                /home/kbardool/PretrainedModels/mask_rcnn_coco.h5\n",
      "DIR_DATASET                    /home/kbardool/MLDatasets\n",
      "DIR_PRETRAINED                 /home/kbardool/PretrainedModels\n",
      "DIR_ROOT                       /home/kbardool/git_projs/mrcnn3/notebooks\n",
      "DIR_TRAINING                   /home/kbardool/models_newshapes\n",
      "FCN_TRAINING_PATH              /home/kbardool/models_newshapes/train_fcn8_newshapes\n",
      "FCN_VGG16_MODEL_PATH           /home/kbardool/PretrainedModels/fcn_vgg16_weights_tf_dim_ordering_tf_kernels.h5\n",
      "MRCNN_TRAINING_PATH            /home/kbardool/models_newshapes/train_mrcnn_newshapes\n",
      "RESNET_MODEL_PATH              /home/kbardool/PretrainedModels/resnet50_weights_tf_dim_ordering_tf_kernels_notop.h5\n",
      "SHAPES_MODEL_PATH              /home/kbardool/PretrainedModels/mask_rcnn_shapes.h5\n",
      "VGG16_MODEL_PATH               /home/kbardool/PretrainedModels/vgg16_weights_tf_dim_ordering_tf_kernels_notop.h5\n",
      "\n",
      ">>> Initialize ModelBase model \n",
      "   Mode      :  training\n",
      "   Model dir :  /home/kbardool/models_newshapes/train_fcn8_newshapes\n",
      ">>> set_log_dir(): model_path:  None\n",
      "    set_log_dir(): model_path has NOT been provided : None \n",
      "                   NewFolder: False  config.NEW_LOG_FOLDER: True \n",
      "    set_log_dir(): weight file template (self.checkpoint_path): /home/kbardool/models_newshapes/train_fcn8_newshapes/fcn20190131T1413/fcn_{epoch:04d}.h5 \n",
      "    set_log_dir(): weight file dir      (self.log_dir)        : /home/kbardool/models_newshapes/train_fcn8_newshapes/fcn20190131T1413 \n",
      "    set_log_dir(): Last completed epoch (self.epoch)          : 0 \n",
      ">>> ModelBase initialiation complete\n",
      ">>> Initialize FCN model, mode:  training architecture:  FCN8L2\n",
      "    arch set to FCN8 - with L2 Regularization\n",
      "<function fcn8_l2_graph at 0x7f82ceb6e620>\n",
      "\n",
      "\n",
      "---------------------------------------------------\n",
      " Build FCN Model -  Arch:  FCN8L2  mode:  training\n",
      "---------------------------------------------------\n",
      "   active_class_ids  shape is :  (None, None)  Keras tensor  True\n",
      "\n",
      "------------------------------------------------------\n",
      ">>> FCN8L2 Layer With Regularization - mode: training\n",
      "------------------------------------------------------\n",
      "     feature map      : (?, 128, 128, 7)\n",
      "     height : 128 width : 128 classes : 7\n",
      "     image_data_format:  channels_last\n",
      "     rois_per_class   :  channels_last\n",
      "     FCN L2 weight decay :  1e-06\n",
      "     Set learning phase to : 1\n",
      "   Input feature map                   :  (?, 128, 128, 7)\n",
      "   FCN Block 11 shape is               :  (None, 128, 128, 64)\n",
      "   FCN Block 12 shape is               :  (None, 128, 128, 64)\n",
      "   FCN Block 13 (Max pooling) shape is :  (None, 64, 64, 64)\n",
      "   FCN Block 21 shape is               :  (?, 64, 64, 128)\n",
      "   FCN Block 22 shape is               :  (None, 64, 64, 128)\n",
      "   FCN Block 23 (Max pooling) shape is :  (None, 32, 32, 128)\n",
      "   FCN Block 31 shape is               :  (None, 32, 32, 256)\n",
      "   FCN Block 32 shape is               :  (None, 32, 32, 256)\n",
      "   FCN Block 33 shape is               :  (None, 32, 32, 256)\n",
      "   FCN Block 34 (Max pooling) shape is :  (?, 16, 16, 256)\n",
      "   FCN Block 41 shape is               :  (None, 16, 16, 512)\n",
      "   FCN Block 42 shape is               :  (None, 16, 16, 512)\n",
      "   FCN Block 43 shape is               :  (None, 16, 16, 512)\n",
      "   FCN Block 44 (Max pooling) shape is :  (?, 8, 8, 512)\n",
      "   FCN Block 51 shape is               :  (None, 8, 8, 512)\n",
      "   FCN Block 52 shape is               :  (None, 8, 8, 512)\n",
      "   FCN Block 53 shape is               :  (None, 8, 8, 512)\n",
      "   FCN Block 54 (Max pooling) shape is :  (None, 4, 4, 512)\n",
      "\n",
      "   --- FCN32 ----------------------------\n",
      "   FCN fully connected 1 (fc1) shape   :  (None, 4, 4, 4096)\n",
      "   FCN fully connected 2 (fc2) shape   :  (None, 4, 4, 4096)\n",
      "   FCN conv2d (fcn32_deconv2D) shape   :  (?, 4, 4, 7)  keras_tensor  True\n"
     ]
    },
    {
     "name": "stdout",
     "output_type": "stream",
     "text": [
      "\n",
      "   --- FCN16 ----------------------------\n",
      "   FCN scorePool4 (Conv2D(Pool4)) shape is                   :  (None, 8, 8, 7)    keras_tensor  True\n",
      "   FCN 2x Upsampling (Deconvolution2D(fcn32_classify)) shape :  (None, 10, 10, 7)    keras_tensor  True\n",
      "   FCN 2x Upsampling/Cropped (Cropped2D(score2)) shape       :  (None, 8, 8, 7)    keras_tensor  True\n",
      "   FCN Add Score2,scorePool4 Add(score2_c, scorePool4) shape :  (None, 8, 8, 7)    keras_tensor  True\n",
      "   FCN upscore_pool4 (Deconv(fuse_Pool4)) shape              :  (None, 16, 16, 7)    keras_tensor  True\n",
      "\n",
      "   --- FCN8 ----------------------------\n",
      "   FCN scorePool4 (Conv2D(Pool4)) shape                      :  (None, 16, 16, 7)    keras_tensor  True\n",
      "   FCN 2x Upsampling/Cropped (Cropped2D(score2)) shape       :  (None, 16, 16, 7)    keras_tensor  True\n",
      "   FCN Add Score2,scorePool4 shape is                        :  (None, 16, 16, 7)    keras_tensor  True\n",
      "    FCN fcn8_classify/heatmap  (Deconv(fuse_Pool4)):  shape: (?, 128, 128, 7)      KB.shape:(None, 128, 128, 7)   Keras Tensor: True\n",
      "    fcn_hm (final)                 :  shape: (?, 128, 128, 7)      KB.shape:(None, 128, 128, 7)   Keras Tensor: True\n",
      "\n",
      "    fcn8_softmax                   :  shape: (?, 128, 128, 7)      KB.shape:(None, 128, 128, 7)   Keras Tensor: True\n",
      "    fcn_sm (final)                 :  shape: (?, 128, 128, 7)      KB.shape:(None, 128, 128, 7)   Keras Tensor: True\n",
      "\n",
      "\n",
      " \n",
      "----------------------\n",
      ">>> FCN Scoring Layer - mode: training\n",
      "----------------------\n",
      "    in_heatmap.shape               :  shape: (?, 128, 128, 7)      KB.shape:(None, 128, 128, 7)   Keras Tensor: True\n",
      "    pr_hm_scores.shape             :  shape: (?, 7, 32, 23)        KB.shape:(None, 7, 32, 23)     Keras Tensor: True\n",
      "    detctions_per_image :  32 pr_scores shape (?, 7, 32, 23)\n",
      "    rois_per_image      :  32\n",
      "    config.DETECTION_MAX_INSTANCES   :  64\n",
      "    config.DETECTIONS_PER_CLASS      :  64\n",
      "    sequence_column                  :  6\n",
      "    norm_score_column                :  7\n",
      "    in_heatmap                     :  shape: (?, 128, 128, 7)      KB.shape:(None, 128, 128, 7)   Keras Tensor: True\n",
      "    pr_scores.shape                :  shape: (?, 7, 32, 23)        KB.shape:(None, 7, 32, 23)     Keras Tensor: True\n",
      "    pt2_sum shape                  :  shape: (?, 7, 32)            KB.shape:(None, 7, 32)         Keras Tensor: False\n",
      "    pt2_ind shape                  :  shape: (?, 3)                KB.shape:(None, 3)             Keras Tensor: False\n",
      "    pt2_dense shape                :  shape: (?, 23)               KB.shape:(None, 23)            Keras Tensor: False\n",
      "    hm_indices                     :  shape: (?, 2)                KB.shape:(None, 2)             Keras Tensor: False\n",
      "    pt2_heatmaps                   :  shape: (?, 7, 128, 128)      KB.shape:(None, 7, 128, 128)   Keras Tensor: False\n",
      "    pt2_heatmaps                   :  shape: (?, 128, 128)         KB.shape:(None, 128, 128)      Keras Tensor: False\n",
      "    old_style_scores               :  shape: (?, 3)                KB.shape:(None, 3)             Keras Tensor: False\n",
      "    alt_scores_1                   :  shape: (?, 3)                KB.shape:(None, 3)             Keras Tensor: False\n",
      "    alt_scores_1_scattered         :  shape: (2, 7, 32, 3)         KB.shape:(2, 7, 32, 3)         Keras Tensor: False\n",
      "    alt_scores_1_norm(by_class)    :  shape: (2, 7, 32, 3)         KB.shape:(2, 7, 32, 3)         Keras Tensor: False\n",
      "    alt_scores_1_norm(by_image)    :  shape: (?, 3)                KB.shape:(None, 3)             Keras Tensor: False\n",
      "\n",
      "    Normalize heatmap within each class !-------------------------------------\n",
      "    in_heatmap_norm :  (?, 7, 128, 128) Keras tensor  False\n",
      "    normalizer shape   :  (?, 7, 1, 1)\n",
      "    normalized heatmap :  (?, 7, 128, 128)  Keras tensor  False\n",
      "    hm_indices shape               :  shape: (?, 2)                KB.shape:(None, 2)             Keras Tensor: False\n",
      "    pt2_heatmaps                   :  shape: (?, 128, 128)         KB.shape:(None, 128, 128)      Keras Tensor: False\n",
      "    alt_scores_2                   :  shape: (?, 3)                KB.shape:(None, 3)             Keras Tensor: False\n",
      "    alt_scores_2(scattered)        :  shape: (2, 7, 32, 3)         KB.shape:(2, 7, 32, 3)         Keras Tensor: False\n",
      "    alt_scores_2_norm(by_class)    :  shape: (2, 7, 32, 3)         KB.shape:(2, 7, 32, 3)         Keras Tensor: False\n",
      "    alt_scores_2_norm(by_image)    :  shape: (?, 3)                KB.shape:(None, 3)             Keras Tensor: False\n",
      "    fcn_scores_dense               :  shape: (?, 23)               KB.shape:(None, 23)            Keras Tensor: False\n",
      "    seq_ids                        :  shape: (?,)                  KB.shape:(None,)               Keras Tensor: False\n",
      "    sscatter_ids                   :  shape: (?, 2)                KB.shape:(None, 2)             Keras Tensor: False\n",
      "    fcn_scores_by_class            :  shape: (2, 7, 32, 23)        KB.shape:(2, 7, 32, 23)        Keras Tensor: False\n",
      "    complete                       \n",
      "\n",
      " \n",
      "----------------------\n",
      ">>> FCN Scoring Layer - mode: training\n",
      "----------------------\n",
      "    in_heatmap.shape               :  shape: (?, 128, 128, 7)      KB.shape:(None, 128, 128, 7)   Keras Tensor: False\n",
      "    pr_hm_scores.shape             :  shape: (?, 7, 32, 23)        KB.shape:(None, 7, 32, 23)     Keras Tensor: False\n",
      "    detctions_per_image :  32 pr_scores shape (?, 7, 32, 23)\n",
      "    rois_per_image      :  32\n",
      "    config.DETECTION_MAX_INSTANCES   :  64\n",
      "    config.DETECTIONS_PER_CLASS      :  64\n",
      "    sequence_column                  :  6\n",
      "    norm_score_column                :  7\n",
      "    in_heatmap                     :  shape: (?, 128, 128, 7)      KB.shape:(None, 128, 128, 7)   Keras Tensor: False\n",
      "    pr_scores.shape                :  shape: (?, 7, 32, 23)        KB.shape:(None, 7, 32, 23)     Keras Tensor: False\n",
      "    pt2_sum shape                  :  shape: (?, 7, 32)            KB.shape:(None, 7, 32)         Keras Tensor: False\n",
      "    pt2_ind shape                  :  shape: (?, 3)                KB.shape:(None, 3)             Keras Tensor: False\n",
      "    pt2_dense shape                :  shape: (?, 23)               KB.shape:(None, 23)            Keras Tensor: False\n",
      "    hm_indices                     :  shape: (?, 2)                KB.shape:(None, 2)             Keras Tensor: False\n",
      "    pt2_heatmaps                   :  shape: (?, 7, 128, 128)      KB.shape:(None, 7, 128, 128)   Keras Tensor: False\n",
      "    pt2_heatmaps                   :  shape: (?, 128, 128)         KB.shape:(None, 128, 128)      Keras Tensor: False\n",
      "    old_style_scores               :  shape: (?, 3)                KB.shape:(None, 3)             Keras Tensor: False\n",
      "    alt_scores_1                   :  shape: (?, 3)                KB.shape:(None, 3)             Keras Tensor: False\n",
      "    alt_scores_1_scattered         :  shape: (2, 7, 32, 3)         KB.shape:(2, 7, 32, 3)         Keras Tensor: False\n",
      "    alt_scores_1_norm(by_class)    :  shape: (2, 7, 32, 3)         KB.shape:(2, 7, 32, 3)         Keras Tensor: False\n",
      "    alt_scores_1_norm(by_image)    :  shape: (?, 3)                KB.shape:(None, 3)             Keras Tensor: False\n",
      "\n",
      "    Normalize heatmap within each class !-------------------------------------\n",
      "    in_heatmap_norm :  (?, 7, 128, 128) Keras tensor  False\n",
      "    normalizer shape   :  (?, 7, 1, 1)\n",
      "    normalized heatmap :  (?, 7, 128, 128)  Keras tensor  False\n",
      "    hm_indices shape               :  shape: (?, 2)                KB.shape:(None, 2)             Keras Tensor: False\n",
      "    pt2_heatmaps                   :  shape: (?, 128, 128)         KB.shape:(None, 128, 128)      Keras Tensor: False\n",
      "    alt_scores_2                   :  shape: (?, 3)                KB.shape:(None, 3)             Keras Tensor: False\n",
      "    alt_scores_2(scattered)        :  shape: (2, 7, 32, 3)         KB.shape:(2, 7, 32, 3)         Keras Tensor: False\n",
      "    alt_scores_2_norm(by_class)    :  shape: (2, 7, 32, 3)         KB.shape:(2, 7, 32, 3)         Keras Tensor: False\n",
      "    alt_scores_2_norm(by_image)    :  shape: (?, 3)                KB.shape:(None, 3)             Keras Tensor: False\n",
      "    fcn_scores_dense               :  shape: (?, 23)               KB.shape:(None, 23)            Keras Tensor: False\n",
      "    seq_ids                        :  shape: (?,)                  KB.shape:(None,)               Keras Tensor: False\n",
      "    sscatter_ids                   :  shape: (?, 2)                KB.shape:(None, 2)             Keras Tensor: False\n",
      "    fcn_scores_by_class            :  shape: (2, 7, 32, 23)        KB.shape:(2, 7, 32, 23)        Keras Tensor: False\n",
      "    complete                       \n",
      " GT HM.op_type()       : Placeholder\n",
      " GT HM SCORES.op_type(): Placeholder\n",
      "    * gt_hm_scores shape           :  shape: (?, 7, 32, 23)        KB.shape:(None, 7, 32, 23)     Keras Tensor: True\n",
      "    * pr_hm_scores shape           :  shape: (?, 7, 32, 23)        KB.shape:(None, 7, 32, 23)     Keras Tensor: True\n",
      "    * fcn_heatmap shape            :  shape: (?, 128, 128, 7)      KB.shape:(None, 128, 128, 7)   Keras Tensor: True\n",
      "    * fcn_softmax shape            :  shape: (?, 128, 128, 7)      KB.shape:(None, 128, 128, 7)   Keras Tensor: True\n",
      "    * fcn_scores shape             :  shape: (2, 7, 32, 23)        KB.shape:(2, 7, 32, 23)        Keras Tensor: True\n",
      "                                   \n",
      "    ---------------------------------------------------\n",
      "    building Loss Functions        \n",
      "    ---------------------------------------------------\n",
      "\n",
      "-------------------------------\n",
      ">>> fcn_heatmap_MSE_loss_graph \n",
      "-------------------------------\n",
      "    target_masks : (?, 128, 128, 7) (None, 128, 128, 7) KerasTensor:  True\n",
      "    pred_heatmap : (?, 128, 128, 7) (None, 128, 128, 7) KerasTensor:  True\n",
      "    loss         : (?, 128, 128) (None, 128, 128) KerasTensor:  False\n",
      "    loss mean    : () () KerasTensor:  False\n",
      "    loss final   : (1, 1) (1, 1) KerasTensor:  False\n",
      "\n",
      "-------------------------------\n",
      ">>> fcn_heatmap_MSE_loss_graph \n",
      "-------------------------------\n",
      "    target_masks : (?, 128, 128, 7) (None, 128, 128, 7) KerasTensor:  False\n",
      "    pred_heatmap : (?, 128, 128, 7) (None, 128, 128, 7) KerasTensor:  False\n",
      "    loss         : (?, 128, 128) (None, 128, 128) KerasTensor:  False\n",
      "    loss mean    : () () KerasTensor:  False\n",
      "    loss final   : (1, 1) (1, 1) KerasTensor:  False\n",
      "\n",
      "--------------------------------------------------------\n",
      ">>> fcn_heatmap_BCE_loss_graph_2 -- On ONE CLASS ONLY!  \n",
      "--------------------------------------------------------\n",
      "    target_class_ids  :            :  shape: (?, 128, 128, 7)      KB.shape:(None, 128, 128, 7)   Keras Tensor: True\n",
      "    pred_class_logits :            :  shape: (?, 128, 128, 7)      KB.shape:(None, 128, 128, 7)   Keras Tensor: True\n",
      "    fcn_bce_loss_class:            :  value: 3\n",
      "    trgt_heatmap                   :  shape: (?, 7, 128, 128)      KB.shape:(None, 7, 128, 128)   Keras Tensor: False\n",
      "    trgt_heatmap                   :  shape: (?, 7, 128, 128)      KB.shape:(None, 7, 128, 128)   Keras Tensor: False\n",
      "    loss2                          :  shape: (?, 1, 128, 128)      KB.shape:(None, 1, 128, 128)   Keras Tensor: False\n",
      "    loss2_mean                     :  shape: ()                    KB.shape:()                    Keras Tensor: False\n",
      "    loss2_final                    :  shape: (1, 1)                KB.shape:(1, 1)                Keras Tensor: False\n",
      "\n",
      "--------------------------------------------------------\n",
      ">>> fcn_heatmap_BCE_loss_graph_2 -- On ONE CLASS ONLY!  \n",
      "--------------------------------------------------------\n",
      "    target_class_ids  :            :  shape: (?, 128, 128, 7)      KB.shape:(None, 128, 128, 7)   Keras Tensor: False\n",
      "    pred_class_logits :            :  shape: (?, 128, 128, 7)      KB.shape:(None, 128, 128, 7)   Keras Tensor: False\n",
      "    fcn_bce_loss_class:            :  value: 3\n",
      "    trgt_heatmap                   :  shape: (?, 7, 128, 128)      KB.shape:(None, 7, 128, 128)   Keras Tensor: False\n",
      "    trgt_heatmap                   :  shape: (?, 7, 128, 128)      KB.shape:(None, 7, 128, 128)   Keras Tensor: False\n",
      "    loss2                          :  shape: (?, 1, 128, 128)      KB.shape:(None, 1, 128, 128)   Keras Tensor: False\n",
      "    loss2_mean                     :  shape: ()                    KB.shape:()                    Keras Tensor: False\n",
      "    loss2_final                    :  shape: (1, 1)                KB.shape:(1, 1)                Keras Tensor: False\n",
      " ================================================================\n",
      " self.keras_model.losses :  21\n",
      "0      Tensor(\"block1_conv1/add:0\", shape=(), dtype=float32)\n",
      "1      Tensor(\"block1_conv2/add:0\", shape=(), dtype=float32)\n",
      "2      Tensor(\"block3_conv3/add:0\", shape=(), dtype=float32)\n",
      "3      Tensor(\"fcn32_fc2/add:0\", shape=(), dtype=float32)\n",
      "4      Tensor(\"fcn16_score2/add:0\", shape=(), dtype=float32)\n",
      "5      Tensor(\"block5_conv1/add:0\", shape=(), dtype=float32)\n",
      "6      Tensor(\"fcn16_upscore_pool4/add:0\", shape=(), dtype=float32)\n",
      "7      Tensor(\"block3_conv1/add:0\", shape=(), dtype=float32)\n",
      "8      Tensor(\"block2_conv1/add:0\", shape=(), dtype=float32)\n",
      "9      Tensor(\"block4_conv2/add:0\", shape=(), dtype=float32)\n",
      "10      Tensor(\"block4_conv3/add:0\", shape=(), dtype=float32)\n",
      "11      Tensor(\"block5_conv2/add:0\", shape=(), dtype=float32)\n",
      "12      Tensor(\"block5_conv3/add:0\", shape=(), dtype=float32)\n",
      "13      Tensor(\"fcn16_score_pool4/add:0\", shape=(), dtype=float32)\n",
      "14      Tensor(\"block2_conv2/add:0\", shape=(), dtype=float32)\n",
      "15      Tensor(\"block4_conv1/add:0\", shape=(), dtype=float32)\n",
      "16      Tensor(\"fcn32_fc1/add:0\", shape=(), dtype=float32)\n",
      "17      Tensor(\"fcn8_heatmap/add:0\", shape=(), dtype=float32)\n",
      "18      Tensor(\"fcn32_deconv2D/add:0\", shape=(), dtype=float32)\n",
      "19      Tensor(\"fcn8_score_pool3/add:0\", shape=(), dtype=float32)\n",
      "20      Tensor(\"block3_conv2/add:0\", shape=(), dtype=float32)\n",
      " ================================================================\n",
      "\n",
      ">>> FCN build complete. mode:  training\n",
      ">>> FCN initialization complete. mode:  training\n",
      "\n",
      " FCN Configuration Parameters \n",
      " ------------------------------ \n",
      "\n",
      "Configuration Parameters:\n",
      "-------------------------\n",
      "BACKBONE_SHAPES                [[32 32]\n",
      " [16 16]\n",
      " [ 8  8]\n",
      " [ 4  4]\n",
      " [ 2  2]]\n",
      "BACKBONE_STRIDES               [4, 8, 16, 32, 64]\n",
      "BATCH_MOMENTUM                 0.9\n",
      "BATCH_SIZE                     2\n",
      "BBOX_STD_DEV                   [0.1000 0.1000 0.2000 0.2000]\n",
      "CHECKPOINT_PERIOD              1\n",
      "DETECTION_MAX_INSTANCES        64\n",
      "DETECTION_MIN_CONFIDENCE       0.1\n",
      "DETECTION_NMS_THRESHOLD        0.3\n",
      "DETECTION_PER_CLASS            64\n",
      "DIR_DATASET                    /home/kbardool/MLDatasets\n",
      "DIR_PRETRAINED                 /home/kbardool/PretrainedModels\n",
      "DIR_TRAINING                   /home/kbardool/models_newshapes\n",
      "EARLY_STOP_MIN_DELTA           1e-07\n",
      "EARLY_STOP_PATIENCE            500\n",
      "EPOCHS_TO_RUN                  2\n",
      "FCN_BCE_LOSS_CLASS             3\n",
      "FCN_BCE_LOSS_METHOD            2\n",
      "FCN_INPUT_SHAPE                [128 128]\n",
      "GPU_COUNT                      1\n",
      "HEATMAP_SCALE_FACTOR           1\n",
      "IMAGES_PER_GPU                 2\n",
      "IMAGE_BUFFER                   20\n",
      "IMAGE_MAX_DIM                  128\n",
      "IMAGE_MIN_DIM                  128\n",
      "IMAGE_PADDING                  True\n",
      "IMAGE_SHAPE                    [128 128   3]\n",
      "LAST_EPOCH_RAN                 0\n",
      "LEARNING_MOMENTUM              0.9\n",
      "LEARNING_RATE                  0.0001\n",
      "MASK_POOL_SIZE                 14\n",
      "MASK_SHAPE                     [28, 28]\n",
      "MAX_GT_INSTANCES               100\n",
      "MAX_SHAPES_PER_IMAGE           15\n",
      "MEAN_PIXEL                     [123.7000 116.8000 103.9000]\n",
      "MINI_MASK_SHAPE                (56, 56)\n",
      "MIN_LR                         1e-10\n",
      "MIN_SHAPES_PER_IMAGE           1\n",
      "NAME                           fcn\n",
      "NEW_LOG_FOLDER                 True\n",
      "NUM_CLASSES                    7\n",
      "OPTIMIZER                      ADAM\n",
      "POOL_SIZE                      7\n",
      "POST_NMS_ROIS_INFERENCE        1000\n",
      "POST_NMS_ROIS_TRAINING         2000\n",
      "REDUCE_LR_COOLDOWN             50\n",
      "REDUCE_LR_FACTOR               0.5\n",
      "REDUCE_LR_MIN_DELTA            1e-06\n",
      "REDUCE_LR_PATIENCE             350\n",
      "RESNET_MODEL_PATH              /home/kbardool/PretrainedModels/resnet50_weights_tf_dim_ordering_tf_kernels_notop.h5\n",
      "ROI_GT_IOU_THRESHOLD           0.2\n",
      "ROI_POSITIVE_RATIO             0.33\n",
      "ROI_PROPOSAL_AREA_THRESHOLD    0\n",
      "RPN_ANCHOR_RATIOS              [0.5, 1, 2]\n",
      "RPN_ANCHOR_SCALES              (8, 16, 32, 64, 128)\n",
      "RPN_ANCHOR_STRIDE              1\n",
      "RPN_BBOX_STD_DEV               [0.1000 0.1000 0.2000 0.2000]\n",
      "RPN_NMS_THRESHOLD              0.7\n",
      "RPN_TRAIN_ANCHORS_PER_IMAGE    256\n",
      "STEPS_PER_EPOCH                100\n",
      "SYSOUT                         SCREEN\n",
      "TRAINING_LAYERS                ['all']\n",
      "TRAINING_LOSSES                fcn_BCE_loss\n",
      "TRAINING_PATH                  /home/kbardool/models_newshapes/train_fcn8_newshapes\n",
      "TRAIN_ROIS_PER_IMAGE           32\n",
      "USE_MINI_MASK                  True\n",
      "USE_RPN_ROIS                   True\n",
      "VALIDATION_STEPS               5\n",
      "VERBOSE                        1\n",
      "VGG16_MODEL_PATH               /home/kbardool/PretrainedModels/fcn_vgg16_weights_tf_dim_ordering_tf_kernels.h5\n",
      "WEIGHT_DECAY                   1e-06\n",
      "\n",
      "\n",
      "\n",
      " FCN IO Layers \n",
      " --------------- \n",
      " Inputs:\n",
      " -------\n",
      " index:  0    input name : input_image_meta_1:0                       Type: float32           Shape: (?, ?)\n",
      " index:  1    input name : input_pr_hm_norm:0                         Type: float32           Shape: (?, 128, 128, 7)\n",
      " index:  2    input name : input_pr_hm_scores:0                       Type: float32           Shape: (?, 7, 32, 23)\n",
      " index:  3    input name : input_gt_hm_norm:0                         Type: float32           Shape: (?, 128, 128, 7)\n",
      " index:  4    input name : input_gt_hm_scores:0                       Type: float32           Shape: (?, 7, 32, 23)\n",
      " Outputs:\n",
      " --------\n",
      " layer:  0    output name: fcn_heatmap_lambda/fcn_hm:0                Type: float32           Shape: (?, 128, 128, 7)\n",
      " layer:  1    output name: fcn_softmax_lambda/fcn_sm:0                Type: float32           Shape: (?, 128, 128, 7)\n",
      " layer:  2    output name: fcn_MSE_loss/fcn_MSE_loss:0                Type: float32           Shape: (1, 1)\n",
      " layer:  3    output name: fcn_BCE_loss/fcn_BCE_loss:0                Type: float32           Shape: (1, 1)\n",
      " layer:  4    output name: fcn_scoring/fcn_hm_scores:0                Type: float32           Shape: (2, 7, 32, 23)\n",
      " FCN Training starting from randomly initialized weights ...\n"
     ]
    }
   ],
   "source": [
    "mrcnn_model, fcn_model = build_fcn_training_pipeline_newshapes(args = args, verbose = 1)"
   ]
  },
  {
   "cell_type": "code",
   "execution_count": 6,
   "metadata": {
    "ExecuteTime": {
     "end_time": "2019-01-31T12:12:13.560416Z",
     "start_time": "2019-01-31T12:12:13.524262Z"
    }
   },
   "outputs": [],
   "source": [
    "# mrcnn_model.keras_model.summary()\n",
    "# fcn_model.keras_model.summary()\n",
    "# mrcnn_model.display_layer_info()\n",
    "# fcn_model.display_layer_info()\n",
    "\n",
    "# mrcnn_model.config.display()\n",
    "# fcn_model.config.display()"
   ]
  },
  {
   "cell_type": "markdown",
   "metadata": {},
   "source": [
    "## Load Training Files and Display Images"
   ]
  },
  {
   "cell_type": "code",
   "execution_count": 11,
   "metadata": {
    "ExecuteTime": {
     "end_time": "2019-01-31T12:18:21.112045Z",
     "start_time": "2019-01-31T12:18:20.959995Z"
    },
    "hideCode": false,
    "hideOutput": true,
    "hidePrompt": false,
    "scrolled": false
   },
   "outputs": [
    {
     "name": "stdout",
     "output_type": "stream",
     "text": [
      "1 1\n",
      "10000 2500\n"
     ]
    }
   ],
   "source": [
    "##------------------------------------------------------------------------------------\n",
    "## Build & Load Training and Validation datasets\n",
    "##------------------------------------------------------------------------------------\n",
    "# dataset_train, train_generator = prep_newshape_dataset( mrcnn_model.config, 10000, generator=True)\n",
    "# dataset_val  , val_generator   = prep_newshape_dataset( mrcnn_model.config,  2500, generator=True)\n",
    "# with open('E:\\\\git_projs\\\\MRCNN3\\\\train_newshapes\\\\newshapes_training_dataset_10000_A.pkl', 'wb') as outfile:\n",
    "#     pickle.dump(dataset_train, outfile)\n",
    "# with open('E:\\\\git_projs\\\\MRCNN3\\\\train_newshapes\\\\newshapes_validation_dataset_2500_A.pkl', 'wb') as outfile:\n",
    "#     pickle.dump(dataset_val, outfile)\n",
    "\n",
    "## -- OR --\n",
    "\n",
    "with open(os.path.join(dataset_path, 'newshapes_training_dataset_10000_A.pkl'), 'rb') as outfile:\n",
    "    dataset_train = pickle.load(outfile)\n",
    "with open(os.path.join(dataset_path, 'newshapes_validation_dataset_2500_A.pkl'), 'rb') as outfile:\n",
    "    dataset_val = pickle.load(outfile)\n",
    "## If we desire a generator, here it is:    \n",
    "## train_generator = data_generator(dataset_train, mrcnn_model.config, batch_size=mrcnn_model.config.BATCH_SIZE,\n",
    "#                                    shuffle = True, augment = False) \n",
    "## val_generator = data_generator(dataset_val, mrcnn_model.config, batch_size=mrcnn_model.config.BATCH_SIZE,\n",
    "#                                    shuffle = True, augment = False) \n",
    "class_names = dataset_train.class_names\n",
    "# dataset_train.display_active_classes()\n",
    "# dataset_val.display_active_classes()\n",
    "print(mrcnn_model.config.BATCH_SIZE, fcn_model.config.BATCH_SIZE)\n",
    "print(len(dataset_train.image_ids), len(dataset_val.image_ids))"
   ]
  },
  {
   "cell_type": "markdown",
   "metadata": {},
   "source": [
    "###  Display some images from training and val datasets"
   ]
  },
  {
   "cell_type": "code",
   "execution_count": 14,
   "metadata": {
    "ExecuteTime": {
     "end_time": "2019-01-31T12:19:19.903992Z",
     "start_time": "2019-01-31T12:19:17.253592Z"
    }
   },
   "outputs": [
    {
     "data": {
      "image/png": "[encoded data removed]",
      "text/plain": [
       "<matplotlib.figure.Figure at 0x7f82cea89d30>"
      ]
     },
     "metadata": {},
     "output_type": "display_data"
    }
   ],
   "source": [
    "image_list = list(range(0,40))\n",
    "image_titles = [str(i) for i in image_list]\n",
    "images = prep.get_image_batch(dataset_train, image_list)\n",
    "visualize.display_images(images, titles = image_titles, cols = 8, width = 24)"
   ]
  },
  {
   "cell_type": "code",
   "execution_count": 15,
   "metadata": {
    "ExecuteTime": {
     "end_time": "2019-01-31T12:19:21.033456Z",
     "start_time": "2019-01-31T12:19:19.906549Z"
    }
   },
   "outputs": [
    {
     "data": {
      "image/png": "[encoded data removed]",
      "text/plain": [
       "<matplotlib.figure.Figure at 0x7f82cf3a7a58>"
      ]
     },
     "metadata": {},
     "output_type": "display_data"
    }
   ],
   "source": [
    "image_list = list(range(0,20))\n",
    "image_titles = [str(i) for i in image_list]\n",
    "images = prep.get_image_batch(dataset_val, image_list)\n",
    "visualize.display_images(images, titles = image_titles, cols = 8, width = 24)"
   ]
  },
  {
   "cell_type": "markdown",
   "metadata": {
    "heading_collapsed": true
   },
   "source": [
    "### Load a specific image using image_id  with Ground Truth bounding boxes and masks"
   ]
  },
  {
   "cell_type": "code",
   "execution_count": null,
   "metadata": {
    "ExecuteTime": {
     "end_time": "2018-12-17T12:28:26.389169Z",
     "start_time": "2018-12-17T12:28:24.936137Z"
    },
    "hidden": true,
    "hideCode": false,
    "hidePrompt": false,
    "scrolled": false
   },
   "outputs": [],
   "source": [
    "# train_batch_x, _ =  data_gen_simulate(dataset_train, mrcnn_model.config, [417])\n",
    "# visualize.display_training_batch(dataset_train, train_batch_x)"
   ]
  },
  {
   "cell_type": "code",
   "execution_count": 130,
   "metadata": {
    "ExecuteTime": {
     "end_time": "2019-01-31T13:30:57.976622Z",
     "start_time": "2019-01-31T13:30:57.604730Z"
    },
    "hidden": true,
    "hideCode": false,
    "hidePrompt": false,
    "scrolled": false
   },
   "outputs": [
    {
     "name": "stdout",
     "output_type": "stream",
     "text": [
      "image id :  0\n",
      " Image_id    :  0  Reference:  [('sun', (166, 25, 241), (27, 19, 8, 8)), ('cloud', (217, 76, 187), (46, 30, 35, 8)), ('building', (49, 104, 51), (38, 51, 12, 14)), ('tree', (198, 9, 23), (107, 52, 10, 10)), ('car', (128, 84, 25), (80, 72, 17, 8)), ('person', (230, 25, 197), (28, 74, 2, 12)), ('person', (92, 222, 203), (47, 77, 2, 13)), ('car', (80, 228, 85), (49, 90, 24, 12))] Coco Id: 0\n",
      " Image meta  :  [0 128 128 3 0 0 128 128]\n",
      " Class ids   :  (8,)    [3 6 4 5 2 1 1 2]\n",
      " Class Names :  ['sun', 'cloud', 'building', 'tree', 'car', 'person', 'person', 'car']\n"
     ]
    },
    {
     "data": {
      "image/png": "[encoded data removed]",
      "text/plain": [
       "<matplotlib.figure.Figure at 0x7f82b40f7c18>"
      ]
     },
     "metadata": {},
     "output_type": "display_data"
    },
    {
     "name": "stdout",
     "output_type": "stream",
     "text": [
      "image id :  1\n",
      " Image_id    :  1  Reference:  [('sun', (179, 194, 183), (64, 10, 5, 5)), ('cloud', (206, 167, 40), (89, 26, 27, 9)), ('building', (31, 69, 221), (70, 45, 10, 11))] Coco Id: 1\n",
      " Image meta  :  [1 128 128 3 0 0 128 128]\n",
      " Class ids   :  (3,)    [3 6 4]\n",
      " Class Names :  ['sun', 'cloud', 'building']\n"
     ]
    },
    {
     "data": {
      "image/png": "[encoded data removed]",
      "text/plain": [
       "<matplotlib.figure.Figure at 0x7f828315f518>"
      ]
     },
     "metadata": {},
     "output_type": "display_data"
    }
   ],
   "source": [
    "IMAGE_IDS = [0,1]\n",
    "# train_batch_x, train_batch_y = next(train_generator)\n",
    "train_batch_x, train_batch_y = prep.data_gen_simulate(dataset_train, mrcnn_model.config, IMAGE_IDS)\n",
    "visualize.display_training_batch(dataset_train, train_batch_x)"
   ]
  },
  {
   "cell_type": "markdown",
   "metadata": {
    "heading_collapsed": true
   },
   "source": [
    "###  Get training batch  from generator and display images"
   ]
  },
  {
   "cell_type": "code",
   "execution_count": 6,
   "metadata": {
    "ExecuteTime": {
     "end_time": "2018-12-21T10:39:45.100391Z",
     "start_time": "2018-12-21T10:39:44.698170Z"
    },
    "hidden": true,
    "hideCode": false,
    "hideOutput": true,
    "hidePrompt": false
   },
   "outputs": [],
   "source": [
    "train_batch_x, train_batch_y = next(train_generator)\n",
    "\n",
    "visualize.display_training_batch(dataset_train, train_batch_x) "
   ]
  },
  {
   "cell_type": "code",
   "execution_count": 8,
   "metadata": {
    "ExecuteTime": {
     "end_time": "2018-12-21T10:39:50.245091Z",
     "start_time": "2018-12-21T10:39:49.943245Z"
    },
    "hidden": true
   },
   "outputs": [],
   "source": [
    "# train_batch_x[5]\n",
    "\n",
    "# train_batch_x = get_training_batch(dataset_train, mrcnn_model.config, [2,3], display = True, masks = False)\n",
    "dataset_train.image_info[2]    "
   ]
  },
  {
   "cell_type": "markdown",
   "metadata": {},
   "source": [
    "##  Pass data thru MRCNN model"
   ]
  },
  {
   "cell_type": "markdown",
   "metadata": {},
   "source": [
    "#### Load a specific image using image_id  with Ground Truth bounding boxes and masks"
   ]
  },
  {
   "cell_type": "code",
   "execution_count": 173,
   "metadata": {
    "ExecuteTime": {
     "end_time": "2019-01-31T14:14:42.498217Z",
     "start_time": "2019-01-31T14:14:42.106451Z"
    },
    "hideCode": false,
    "hidePrompt": false,
    "scrolled": false
   },
   "outputs": [
    {
     "name": "stdout",
     "output_type": "stream",
     "text": [
      "image id :  0\n",
      " Image_id    :  0  Reference:  [('sun', (166, 25, 241), (27, 19, 8, 8)), ('cloud', (217, 76, 187), (46, 30, 35, 8)), ('building', (49, 104, 51), (38, 51, 12, 14)), ('tree', (198, 9, 23), (107, 52, 10, 10)), ('car', (128, 84, 25), (80, 72, 17, 8)), ('person', (230, 25, 197), (28, 74, 2, 12)), ('person', (92, 222, 203), (47, 77, 2, 13)), ('car', (80, 228, 85), (49, 90, 24, 12))] Coco Id: 0\n",
      " Image meta  :  [  0 128 128   3   0   0 128 128]\n",
      " Class ids   :  (8,)    [3 6 4 5 2 1 1 2]\n",
      " Class Names :  ['sun', 'cloud', 'building', 'tree', 'car', 'person', 'person', 'car']\n"
     ]
    },
    {
     "data": {
      "image/png": "[encoded data removed]",
      "text/plain": [
       "<matplotlib.figure.Figure at 0x7f8288e28668>"
      ]
     },
     "metadata": {},
     "output_type": "display_data"
    },
    {
     "name": "stdout",
     "output_type": "stream",
     "text": [
      "image id :  1\n",
      " Image_id    :  1  Reference:  [('sun', (179, 194, 183), (64, 10, 5, 5)), ('cloud', (206, 167, 40), (89, 26, 27, 9)), ('building', (31, 69, 221), (70, 45, 10, 11))] Coco Id: 1\n",
      " Image meta  :  [  1 128 128   3   0   0 128 128]\n",
      " Class ids   :  (3,)    [3 6 4]\n",
      " Class Names :  ['sun', 'cloud', 'building']\n"
     ]
    },
    {
     "data": {
      "image/png": "[encoded data removed]",
      "text/plain": [
       "<matplotlib.figure.Figure at 0x7f8242170e10>"
      ]
     },
     "metadata": {},
     "output_type": "display_data"
    }
   ],
   "source": [
    "IMAGE_IDS = [0,1]\n",
    "# train_batch_x, train_batch_y = next(train_generator)\n",
    "train_batch_x, train_batch_y = prep.data_gen_simulate(dataset_train, mrcnn_model.config, IMAGE_IDS)\n",
    "visualize.display_training_batch(dataset_train, train_batch_x)"
   ]
  },
  {
   "cell_type": "markdown",
   "metadata": {},
   "source": [
    "#### Pass data through pipeine"
   ]
  },
  {
   "cell_type": "code",
   "execution_count": 174,
   "metadata": {
    "ExecuteTime": {
     "end_time": "2019-01-31T14:14:54.251522Z",
     "start_time": "2019-01-31T14:14:49.900094Z"
    },
    "scrolled": true
   },
   "outputs": [
    {
     "name": "stdout",
     "output_type": "stream",
     "text": [
      "** Pass through MRCNN model:\n",
      "/* Inputs */\n",
      "Input  0:  (input_image:0                           ) \t  Input shape: (2, 128, 128, 3)\n",
      "Input  1:  (input_image_meta:0                      ) \t  Input shape: (2, 15)\n",
      "Input  2:  (input_rpn_match:0                       ) \t  Input shape: (2, 4092, 1)\n",
      "Input  3:  (input_rpn_bbox:0                        ) \t  Input shape: (2, 256, 4)\n",
      "Input  4:  (input_gt_class_ids:0                    ) \t  Input shape: (2, 100)\n",
      "Input  5:  (input_gt_boxes:0                        ) \t  Input shape: (2, 100, 4)\n",
      "\n",
      "Requested layers:\n",
      "-----------------\n",
      "Layer   0:  (cntxt_layer/pred_heatmap:0              ) \t  Output shape: (2, 128, 128, 7)\n",
      "Layer   1:  (cntxt_layer/pred_heatmap_scores:0       ) \t  Output shape: (2, 7, 32, 23)\n",
      "Layer   2:  (cntxt_layer_gt/gt_heatmap:0             ) \t  Output shape: (2, 128, 128, 7)\n",
      "Layer   3:  (cntxt_layer_gt/gt_heatmap_scores:0      ) \t  Output shape: (2, 7, 32, 23)\n",
      "Layer   4:  (mrcnn_class_lambda/mrcnn_class:0        ) \t  Output shape: (?, 32, 7)\n",
      "Layer   5:  (mrcnn_bbox_lambda/mrcnn_bbox:0          ) \t  Output shape: (?, 32, 7, 4)\n",
      "Layer   6:  (proposal_targets/output_rois:0          ) \t  Output shape: (2, ?, ?)\n",
      "Layer   7:  (proposal_targets/target_class_ids:0     ) \t  Output shape: (2, ?)\n",
      "Layer   8:  (proposal_targets/target_bbox_deltas:0   ) \t  Output shape: (2, ?, ?)\n",
      "Layer   9:  (proposal_targets/roi_gt_boxes:0         ) \t  Output shape: (2, ?, ?)\n",
      "Layer  10:  (mrcnn_logits_lambda/mrcnn_class_logits:0) \t  Output shape: (?, 32, 7)\n",
      "Layer  11:  (active_class_ids/strided_slice_3:0      ) \t  Output shape: (?, ?)\n",
      "Layer  12:  (ROI/rpn_roi_proposals:0                 ) \t  Output shape: (2, ?, ?)\n",
      "Layer  13:  (rpn_class_loss/rpn_class_loss:0         ) \t  Output shape: (1, 1)\n",
      "Layer  14:  (rpn_bbox_loss/rpn_bbox_loss:0           ) \t  Output shape: (1, 1)\n",
      "Layer  15:  (mrcnn_class_loss/mrcnn_class_loss:0     ) \t  Output shape: (1, 1)\n",
      "Layer  16:  (mrcnn_bbox_loss/mrcnn_bbox_loss:0       ) \t  Output shape: (1, 1)\n",
      "\n",
      "/* Outputs */\n",
      "Output idx:  0    Layer:  0: (cntxt_layer/pred_heatmap:0              ) \t  Output shape: (2, 128, 128, 7)\n",
      "Output idx:  1    Layer:  1: (cntxt_layer/pred_heatmap_scores:0       ) \t  Output shape: (2, 7, 32, 23)\n",
      "Output idx:  2    Layer:  2: (cntxt_layer_gt/gt_heatmap:0             ) \t  Output shape: (2, 128, 128, 7)\n",
      "Output idx:  3    Layer:  3: (cntxt_layer_gt/gt_heatmap_scores:0      ) \t  Output shape: (2, 7, 32, 23)\n",
      "Output idx:  4    Layer:  4: (mrcnn_class_lambda/mrcnn_class:0        ) \t  Output shape: (2, 32, 7)\n",
      "Output idx:  5    Layer:  5: (mrcnn_bbox_lambda/mrcnn_bbox:0          ) \t  Output shape: (2, 32, 7, 4)\n",
      "Output idx:  6    Layer:  6: (proposal_targets/output_rois:0          ) \t  Output shape: (2, 32, 4)\n",
      "Output idx:  7    Layer:  7: (proposal_targets/target_class_ids:0     ) \t  Output shape: (2, 32)\n",
      "Output idx:  8    Layer:  8: (proposal_targets/target_bbox_deltas:0   ) \t  Output shape: (2, 32, 4)\n",
      "Output idx:  9    Layer:  9: (proposal_targets/roi_gt_boxes:0         ) \t  Output shape: (2, 32, 4)\n",
      "Output idx: 10    Layer: 10: (mrcnn_logits_lambda/mrcnn_class_logits:0) \t  Output shape: (2, 32, 7)\n",
      "Output idx: 11    Layer: 11: (active_class_ids/strided_slice_3:0      ) \t  Output shape: (2, 7)\n",
      "Output idx: 12    Layer: 12: (ROI/rpn_roi_proposals:0                 ) \t  Output shape: (2, 2000, 4)\n",
      "Output idx: 13    Layer: 13: (rpn_class_loss/rpn_class_loss:0         ) \t  Output shape: (1, 1)\n",
      "Output idx: 14    Layer: 14: (rpn_bbox_loss/rpn_bbox_loss:0           ) \t  Output shape: (1, 1)\n",
      "Output idx: 15    Layer: 15: (mrcnn_class_loss/mrcnn_class_loss:0     ) \t  Output shape: (1, 1)\n",
      "Output idx: 16    Layer: 16: (mrcnn_bbox_loss/mrcnn_bbox_loss:0       ) \t  Output shape: (1, 1)\n",
      "\n",
      "Number of layers generated:  17 \n",
      "\n",
      "pred_heatmap              = model_output[0]          # layer:  0   shape: (2, 128, 128, 7)\n",
      "pred_heatmap_scores       = model_output[1]          # layer:  1   shape: (2, 7, 32, 23)\n",
      "gt_heatmap                = model_output[2]          # layer:  2   shape: (2, 128, 128, 7)\n",
      "gt_heatmap_scores         = model_output[3]          # layer:  3   shape: (2, 7, 32, 23)\n",
      "mrcnn_class               = model_output[4]          # layer:  4   shape: (2, 32, 7)\n",
      "mrcnn_bbox                = model_output[5]          # layer:  5   shape: (2, 32, 7, 4)\n",
      "output_rois               = model_output[6]          # layer:  6   shape: (2, 32, 4)\n",
      "target_class_ids          = model_output[7]          # layer:  7   shape: (2, 32)\n",
      "target_bbox_deltas        = model_output[8]          # layer:  8   shape: (2, 32, 4)\n",
      "roi_gt_boxes              = model_output[9]          # layer:  9   shape: (2, 32, 4)\n",
      "mrcnn_class_logits        = model_output[10]          # layer: 10   shape: (2, 32, 7)\n",
      "strided_slice_3           = model_output[11]          # layer: 11   shape: (2, 7)\n",
      "rpn_roi_proposals         = model_output[12]          # layer: 12   shape: (2, 2000, 4)\n",
      "rpn_class_loss            = model_output[13]          # layer: 13   shape: (1, 1)\n",
      "rpn_bbox_loss             = model_output[14]          # layer: 14   shape: (1, 1)\n",
      "mrcnn_class_loss          = model_output[15]          # layer: 15   shape: (1, 1)\n",
      "mrcnn_bbox_loss           = model_output[16]          # layer: 16   shape: (1, 1)\n",
      " mrcnn outputs: \n",
      "----------------\n",
      " length of mrcnn output :  17\n",
      "mrcnn output  0  shape:  (2, 128, 128, 7)\n",
      "mrcnn output  1  shape:  (2, 7, 32, 23)\n",
      "mrcnn output  2  shape:  (2, 128, 128, 7)\n",
      "mrcnn output  3  shape:  (2, 7, 32, 23)\n",
      "mrcnn output  4  shape:  (2, 32, 7)\n",
      "mrcnn output  5  shape:  (2, 32, 7, 4)\n",
      "mrcnn output  6  shape:  (2, 32, 4)\n",
      "mrcnn output  7  shape:  (2, 32)\n",
      "mrcnn output  8  shape:  (2, 32, 4)\n",
      "mrcnn output  9  shape:  (2, 32, 4)\n",
      "mrcnn output  10  shape:  (2, 32, 7)\n",
      "mrcnn output  11  shape:  (2, 7)\n",
      "mrcnn output  12  shape:  (2, 2000, 4)\n",
      "mrcnn output  13  shape:  (1, 1)\n",
      "mrcnn output  14  shape:  (1, 1)\n",
      "mrcnn output  15  shape:  (1, 1)\n",
      "mrcnn output  16  shape:  (1, 1)\n",
      "\n",
      "** Pass through FCN model:\n",
      "/* Inputs */\n",
      "Input  0:  (input_image_meta_1:0                    ) \t  Input shape: (2, 15)\n",
      "Input  1:  (input_pr_hm_norm:0                      ) \t  Input shape: (2, 128, 128, 7)\n",
      "Input  2:  (input_pr_hm_scores:0                    ) \t  Input shape: (2, 7, 32, 23)\n",
      "Input  3:  (input_gt_hm_norm:0                      ) \t  Input shape: (2, 128, 128, 7)\n",
      "Input  4:  (input_gt_hm_scores:0                    ) \t  Input shape: (2, 7, 32, 23)\n",
      "\n",
      "Requested layers:\n",
      "-----------------\n",
      "Layer   0:  (fcn_heatmap_lambda/fcn_hm:0             ) \t  Output shape: (?, 128, 128, 7)\n",
      "Layer   1:  (fcn_softmax_lambda/fcn_sm:0             ) \t  Output shape: (?, 128, 128, 7)\n",
      "Layer   2:  (fcn_MSE_loss/fcn_MSE_loss:0             ) \t  Output shape: (1, 1)\n",
      "Layer   3:  (fcn_BCE_loss/fcn_BCE_loss:0             ) \t  Output shape: (1, 1)\n",
      "Layer   4:  (fcn_scoring/fcn_hm_scores:0             ) \t  Output shape: (2, 7, 32, 23)\n",
      "\n",
      "/* Outputs */\n",
      "Output idx:  0    Layer:  0: (fcn_heatmap_lambda/fcn_hm:0             ) \t  Output shape: (2, 128, 128, 7)\n",
      "Output idx:  1    Layer:  1: (fcn_softmax_lambda/fcn_sm:0             ) \t  Output shape: (2, 128, 128, 7)\n",
      "Output idx:  2    Layer:  2: (fcn_MSE_loss/fcn_MSE_loss:0             ) \t  Output shape: (1, 1)\n",
      "Output idx:  3    Layer:  3: (fcn_BCE_loss/fcn_BCE_loss:0             ) \t  Output shape: (1, 1)\n",
      "Output idx:  4    Layer:  4: (fcn_scoring/fcn_hm_scores:0             ) \t  Output shape: (2, 7, 32, 23)\n",
      "\n",
      "Number of layers generated:  5 \n",
      "\n",
      "fcn_hm                    = model_output[0]          # layer:  0   shape: (2, 128, 128, 7)\n",
      "fcn_sm                    = model_output[1]          # layer:  1   shape: (2, 128, 128, 7)\n",
      "fcn_MSE_loss              = model_output[2]          # layer:  2   shape: (1, 1)\n",
      "fcn_BCE_loss              = model_output[3]          # layer:  3   shape: (1, 1)\n",
      "fcn_hm_scores             = model_output[4]          # layer:  4   shape: (2, 7, 32, 23)\n",
      "\n",
      " fcn outputs: \n",
      "----------------\n",
      "fcn input  0  shape:  (2, 15)\n",
      "fcn input  1  shape:  (2, 128, 128, 7)\n",
      "fcn input  2  shape:  (2, 7, 32, 23)\n",
      "fcn input  3  shape:  (2, 128, 128, 7)\n",
      "fcn input  4  shape:  (2, 7, 32, 23)\n",
      "fcn output  0  shape:  (2, 128, 128, 7)\n",
      "fcn output  1  shape:  (2, 128, 128, 7)\n",
      "fcn output  2  shape:  (1, 1)\n",
      "fcn output  3  shape:  (1, 1)\n",
      "fcn output  4  shape:  (2, 7, 32, 23)\n"
     ]
    }
   ],
   "source": [
    "from mrcnn.prep_notebook import run_full_training_pipeline\n",
    "# results = run_fcn_training_pipeline(mrcnn_model, fcn_model, dataset_train, mrcnn_input = train_batch_x, image_ids = None, verbose = 1)\n",
    "results = run_full_training_pipeline(mrcnn_model, fcn_model, dataset_train, mrcnn_input = train_batch_x, image_ids = None, verbose = 1)"
   ]
  },
  {
   "cell_type": "markdown",
   "metadata": {
    "heading_collapsed": true
   },
   "source": [
    "#### What is returned in `results`"
   ]
  },
  {
   "cell_type": "code",
   "execution_count": 21,
   "metadata": {
    "ExecuteTime": {
     "end_time": "2018-12-20T16:52:27.243732Z",
     "start_time": "2018-12-20T16:52:26.865463Z"
    },
    "hidden": true
   },
   "outputs": [
    {
     "name": "stdout",
     "output_type": "stream",
     "text": [
      "5\n",
      "dict_keys(['mrcnn_input', 'mrcnn_output', 'image_batch', 'fcn_input', 'fcn_output'])\n",
      "\n",
      " output  0    mrcnn_input <class 'list'>\n",
      "     0     (1, 128, 128, 3)\n",
      "     1     (1, 15)\n",
      "     2     (1, 4092, 1)\n",
      "     3     (1, 256, 4)\n",
      "     4     (1, 100)\n",
      "     5     (1, 100, 4)\n",
      "\n",
      " output  1    mrcnn_output <class 'list'>\n",
      "     0     (1, 128, 128, 7)\n",
      "     1     (1, 7, 32, 23)\n",
      "     2     (1, 128, 128, 7)\n",
      "     3     (1, 7, 32, 23)\n",
      "     4     (1, 32, 7)\n",
      "     5     (1, 32, 7, 4)\n",
      "     6     (1, 32, 4)\n",
      "     7     (1, 32)\n",
      "     8     (1, 32, 4)\n",
      "     9     (1, 32, 7)\n",
      "     10     (1, 7)\n",
      "     11     (1, 2000, 4)\n",
      "\n",
      " output  2    image_batch <class 'numpy.ndarray'>\n",
      "     0     (128, 128, 3)\n",
      "\n",
      " output  3    fcn_input <class 'list'>\n",
      "     0     (1, 15)\n",
      "     1     (1, 128, 128, 7)\n",
      "     2     (1, 7, 32, 23)\n",
      "     3     (1, 128, 128, 7)\n",
      "     4     (1, 7, 32, 23)\n",
      "\n",
      " output  4    fcn_output <class 'list'>\n",
      "     0     (1, 128, 128, 7)\n",
      "     1     (1, 128, 128, 7)\n",
      "     2     (1, 1)\n",
      "     3     (1, 1)\n",
      "     4     (1, 7, 32, 23)\n"
     ]
    }
   ],
   "source": [
    "print(len(results))\n",
    "print(results.keys())\n",
    "for i, r in enumerate(results):\n",
    "    print('\\n output ', i, '  ',r, type(results[r]))\n",
    "    for j, itm in enumerate(results[r]):\n",
    "        print('    ',j, '   ', itm.shape)\n",
    "#     for item in results[0][grp]:\n",
    "#         print(key.ljust(20), r[key].shape)"
   ]
  },
  {
   "cell_type": "markdown",
   "metadata": {},
   "source": [
    "####  load returned data to variables"
   ]
  },
  {
   "cell_type": "code",
   "execution_count": 175,
   "metadata": {
    "ExecuteTime": {
     "end_time": "2019-01-31T14:15:16.092270Z",
     "start_time": "2019-01-31T14:15:16.027763Z"
    }
   },
   "outputs": [
    {
     "name": "stdout",
     "output_type": "stream",
     "text": [
      "model_gt_hm       :  (2, 128, 128, 7)\n",
      "model_gt_hm_scores:  (2, 7, 32, 23)\n",
      "model_fcn_hm      :  (2, 128, 128, 7)\n",
      "model_fcn_sm      :  (2, 128, 128, 7)\n",
      "MSE heatmap loss  :  (1, 1) 0.0024161772\n",
      "BCE_loss          :  (1, 1) 0.024560377\n"
     ]
    }
   ],
   "source": [
    "model_input_image_meta     = results['mrcnn_input'][1]\n",
    "model_gt_class_ids         = results['mrcnn_input'][4] \n",
    "model_pr_hm                = results['mrcnn_output'][0] \n",
    "model_pr_hm_scores         = results['mrcnn_output'][1] \n",
    "model_gt_hm                = results['mrcnn_output'][2]          # layer:  2   shape: (1, 256, 256, 81)\n",
    "model_gt_hm_scores         = results['mrcnn_output'][3]          # layer:  3   shape: (1, 81, 100, 23)\n",
    "\n",
    "model_fcn_hm               = results['fcn_output'][0]          # layer:  0   shape: (1, 256, 256, 81)\n",
    "model_fcn_sm               = results['fcn_output'][1]          # layer:  0   shape: (1, 256, 256, 81)\n",
    "model_MSE_loss             = results['fcn_output'][2]          # layer:  1   shape: ()\n",
    "model_BCE_loss             = results['fcn_output'][3]\n",
    "model_fcn_hm_scores        = results['fcn_output'][4]\n",
    "# model_active_class_ids                = fcn_model_output[2]\n",
    "# hm_sum = np.sum(model_fcn_heatmap, axis=(1,2))\n",
    "print('model_gt_hm       : ', model_gt_hm.shape)\n",
    "print('model_gt_hm_scores: ', model_gt_hm_scores.shape)\n",
    "print('model_fcn_hm      : ', model_fcn_hm.shape)\n",
    "print('model_fcn_sm      : ', model_fcn_sm.shape)\n",
    "print('MSE heatmap loss  : ', model_MSE_loss.shape, model_MSE_loss[0,0])\n",
    "print('BCE_loss          : ', model_BCE_loss.shape, model_BCE_loss[0,0])"
   ]
  },
  {
   "cell_type": "code",
   "execution_count": 133,
   "metadata": {
    "ExecuteTime": {
     "end_time": "2019-01-31T13:31:39.285067Z",
     "start_time": "2019-01-31T13:31:39.225371Z"
    }
   },
   "outputs": [
    {
     "name": "stdout",
     "output_type": "stream",
     "text": [
      "model_gt_hm       :  (2, 128, 128, 7)\n",
      "model_gt_hm_scores:  (2, 7, 32, 23)\n",
      "model_fcn_hm      :  (2, 128, 128, 7)\n",
      "model_fcn_sm      :  (2, 128, 128, 7)\n",
      "MSE heatmap loss  :  (1, 1) 0.0017496777\n",
      "BCE_loss          :  (1, 1) 0.042059556\n"
     ]
    }
   ],
   "source": [
    "# model_active_class_ids                = fcn_model_output[2]\n",
    "# hm_sum = np.sum(model_fcn_heatmap, axis=(1,2))\n",
    "print('model_gt_hm       : ', model_gt_hm.shape)\n",
    "print('model_gt_hm_scores: ', model_gt_hm_scores.shape)\n",
    "print('model_fcn_hm      : ', model_fcn_hm.shape)\n",
    "print('model_fcn_sm      : ', model_fcn_sm.shape)\n",
    "print('MSE heatmap loss  : ', model_MSE_loss.shape, model_MSE_loss[0,0])\n",
    "print('BCE_loss          : ', model_BCE_loss.shape, model_BCE_loss[0,0])"
   ]
  },
  {
   "cell_type": "markdown",
   "metadata": {
    "heading_collapsed": true
   },
   "source": [
    "#### Display values from FCN_heatmap"
   ]
  },
  {
   "cell_type": "code",
   "execution_count": 102,
   "metadata": {
    "ExecuteTime": {
     "end_time": "2019-01-31T13:07:18.351152Z",
     "start_time": "2019-01-31T13:07:18.287487Z"
    },
    "hidden": true
   },
   "outputs": [
    {
     "name": "stdout",
     "output_type": "stream",
     "text": [
      "Image : 0  ClassIds: [0, 2, 3, 4, 5, 6]\n",
      "GT Heatmap  class:   0   min:   0.00000000    max:   0.00000000    sum:   0.00000000 \n",
      "PR Heatmap  class:   0   min:   0.00000000    max:   1.00000000    sum: 625.66143799 \n",
      "FCN Heatmap class:   0   min:  -0.00110550    max:   0.00118829    sum:  -0.01992500 \n",
      "\n",
      "GT Heatmap  class:   1   min:   0.00000000    max:   0.00000000    sum:   0.00000000 \n",
      "PR Heatmap  class:   1   min:   0.00000000    max:   0.00000000    sum:   0.00000000 \n",
      "FCN Heatmap class:   1   min:  -0.00123166    max:   0.00126209    sum:  -0.07191451 \n",
      "\n",
      "GT Heatmap  class:   2   min:   0.00000000    max:   1.00000000    sum: 124.00000000 \n",
      "PR Heatmap  class:   2   min:   0.00000000    max:   1.00000000    sum:  66.32003021 \n",
      "FCN Heatmap class:   2   min:  -0.00117547    max:   0.00140567    sum:  -0.18930230 \n",
      "\n",
      "GT Heatmap  class:   3   min:   0.00000000    max:   1.00000000    sum:  25.00000000 \n",
      "PR Heatmap  class:   3   min:   0.00000000    max:   0.00000000    sum:   0.00000000 \n",
      "FCN Heatmap class:   3   min:  -0.00108436    max:   0.00127977    sum:   0.07674486 \n",
      "\n",
      "GT Heatmap  class:   4   min:   0.00000000    max:   1.00000000    sum:  49.00000000 \n",
      "PR Heatmap  class:   4   min:   0.00000000    max:   1.00000000    sum:  33.11643600 \n",
      "FCN Heatmap class:   4   min:  -0.00097316    max:   0.00101973    sum:  -0.01978690 \n",
      "\n",
      "GT Heatmap  class:   5   min:   0.00000000    max:   1.00000000    sum:  63.00000000 \n",
      "PR Heatmap  class:   5   min:   0.00000000    max:   1.00000000    sum:  39.21812057 \n",
      "FCN Heatmap class:   5   min:  -0.00109315    max:   0.00105135    sum:   0.10263468 \n",
      "\n",
      "GT Heatmap  class:   6   min:   0.00000000    max:   1.00000000    sum:  77.00000000 \n",
      "PR Heatmap  class:   6   min:   0.00000000    max:   1.00000000    sum:  48.25290298 \n",
      "FCN Heatmap class:   6   min:  -0.00095914    max:   0.00133650    sum:   0.04859931 \n",
      "\n"
     ]
    }
   ],
   "source": [
    "img_id = 0 \n",
    "class_ids = np.unique(model_gt_hm_scores[img_id,:,:,4]).astype(int).tolist()\n",
    "print('Image : {}  ClassIds: {}'.format(img_id, class_ids))\n",
    "for i in range(class_ids[-1]+1):\n",
    "    \n",
    "    print('GT Heatmap  class: {:3d}   min: {:12.8f}    max: {:12.8f}    sum: {:12.8f} '.format(i, np.min(model_gt_hm[0,:,:,i]), \n",
    "                                                                    np.max(model_gt_hm[0,:,:,i]), \n",
    "                                                                    np.sum(model_gt_hm[0,:,:,i])))\n",
    "    print('PR Heatmap  class: {:3d}   min: {:12.8f}    max: {:12.8f}    sum: {:12.8f} '.format(i, np.min(model_pr_hm[0,:,:,i]), \n",
    "                                                                np.max(model_pr_hm[0,:,:,i]), \n",
    "                                                                np.sum(model_pr_hm[0,:,:,i])))\n",
    "    print('FCN Heatmap class: {:3d}   min: {:12.8f}    max: {:12.8f}    sum: {:12.8f} '.format(i, np.min(model_fcn_hm[0,:,:,i]), \n",
    "                                                                np.max(model_fcn_hm[0,:,:,i]), \n",
    "                                                                np.sum(model_fcn_hm[0,:,:,i])))\n",
    "\n",
    "    print()"
   ]
  },
  {
   "cell_type": "code",
   "execution_count": null,
   "metadata": {
    "hidden": true
   },
   "outputs": [],
   "source": [
    "# print(model_fcn_heatmap[0,0:10,:10,1])"
   ]
  },
  {
   "cell_type": "code",
   "execution_count": null,
   "metadata": {
    "hidden": true
   },
   "outputs": [],
   "source": [
    "# for i in range(10):\n",
    "#     print(model_fcn_heatmap[0,i,:,4])\n",
    "#     print(np.min(model_fcn_heatmap[0,i,:,1]), np.max(model_fcn_heatmap[0,i,:,1]))"
   ]
  },
  {
   "cell_type": "markdown",
   "metadata": {},
   "source": [
    "## Prepare data to pass to loss functions"
   ]
  },
  {
   "cell_type": "markdown",
   "metadata": {},
   "source": [
    "### `fcn_heatmap_BCE_loss_2()` Computing BCE Loss only on one class  (e.g. class 3)"
   ]
  },
  {
   "cell_type": "code",
   "execution_count": 176,
   "metadata": {
    "ExecuteTime": {
     "end_time": "2019-01-31T14:15:28.815988Z",
     "start_time": "2019-01-31T14:15:28.775465Z"
    }
   },
   "outputs": [],
   "source": [
    "np_format = {}\n",
    "np_format['float']= lambda x: \"%5.4f\" % x\n",
    "np_format['int']  = lambda x: \"%1d\" % x\n",
    "np.set_printoptions(linewidth=195, precision=5, floatmode='fixed', threshold =10000, formatter = np_format)"
   ]
  },
  {
   "cell_type": "code",
   "execution_count": 178,
   "metadata": {
    "ExecuteTime": {
     "end_time": "2019-01-31T14:15:35.407049Z",
     "start_time": "2019-01-31T14:15:35.081814Z"
    }
   },
   "outputs": [
    {
     "name": "stdout",
     "output_type": "stream",
     "text": [
      "    trgt_heatmap                   :  shape: (2, 7, 128, 128)      KB.shape:(2, 7, 128, 128)      Keras Tensor: False\n",
      "    trgt_heatmap                   :  shape: (2, 7, 128, 128)      KB.shape:(2, 7, 128, 128)      Keras Tensor: False\n",
      "    tgt_hm_sum                     :  shape: (2, 7)                KB.shape:(2, 7)                Keras Tensor: False\n",
      "    class indexes                  :  shape: (?, 2)                KB.shape:(None, 2)             Keras Tensor: False\n",
      "    active_tgt_heatmaps            :  shape: (?, 128, 128)         KB.shape:(None, 128, 128)      Keras Tensor: False\n",
      "    active_pred_heatmaps           :  shape: (?, 128, 128)         KB.shape:(None, 128, 128)      Keras Tensor: False\n",
      "    y_true :                       :  shape: (?,)                  KB.shape:(None,)               Keras Tensor: False\n",
      "    y_pred :                       :  shape: (?,)                  KB.shape:(None,)               Keras Tensor: False\n",
      "    loss                           :  shape: <unknown>             KB.shape:None                  Keras Tensor: False\n",
      "    mean loss                      :  shape: ()                    KB.shape:()                    Keras Tensor: False\n",
      "    loss (final)                   :  shape: (1, 1)                KB.shape:(1, 1)                Keras Tensor: False\n",
      "    loss1                          :  shape: (2, 7, 128, 128)      KB.shape:(2, 7, 128, 128)      Keras Tensor: False\n",
      "    loss1_mean                     :  shape: (2, 7)                KB.shape:(2, 7)                Keras Tensor: False\n",
      "    loss1_final                    :  shape: (2, 7)                KB.shape:(2, 7)                Keras Tensor: False\n",
      "    loss1_mean1                    :  shape: ()                    KB.shape:()                    Keras Tensor: False\n",
      "    loss2                          :  shape: (?, 128, 128)         KB.shape:(None, 128, 128)      Keras Tensor: False\n",
      "    loss2_mean                     :  shape: ()                    KB.shape:()                    Keras Tensor: False\n",
      "    loss3                          :  shape: (2, 1, 128, 128)      KB.shape:(2, 1, 128, 128)      Keras Tensor: False\n",
      "    loss3_mean                     :  shape: ()                    KB.shape:()                    Keras Tensor: False\n",
      "    loss3_final                    :  shape: (1, 1)                KB.shape:(1, 1)                Keras Tensor: False\n",
      "    loss3_mean0                    :  shape: (2, 1)                KB.shape:(2, 1)                Keras Tensor: False\n",
      "    loss3_final0                   :  shape: (2, 1)                KB.shape:(2, 1)                Keras Tensor: False\n",
      "    loss3_mean1                    :  shape: ()                    KB.shape:()                    Keras Tensor: False\n",
      "    loss3_final1                   :  shape: (1, 1)                KB.shape:(1, 1)                Keras Tensor: False\n"
     ]
    }
   ],
   "source": [
    "\n",
    "# gt_hm_scores     = tf.identity(model_gt_hm_scores)\n",
    "# print(gt_hm_scores.shape)\n",
    "# gt_classes       = gt_hm_scores[...,4]\n",
    "# print(gt_classes.shape)\n",
    "# gt_classes       = KB.flatten(gt_classes)\n",
    "# print(gt_classes.shape)\n",
    "# gt_unique_classes, gt_unique_idxs       = tf.unique(gt_classes)\n",
    "# print(gt_unique_classes.shape, gt_unique_idxs.shape)\n",
    "\n",
    "target_heatmap   = tf.identity(model_gt_hm)\n",
    "pred_heatmap     = tf.identity(model_fcn_hm)\n",
    "\n",
    "target_heatmap = tf.transpose(target_heatmap, [0,3,1,2])\n",
    "pred_heatmap   = tf.transpose(  pred_heatmap, [0,3,1,2])\n",
    "logt(' trgt_heatmap ', target_heatmap)\n",
    "logt(' trgt_heatmap ', pred_heatmap  )\n",
    "\n",
    "tgt_hm_sum = tf.reduce_sum(target_heatmap, axis = [2,3])\n",
    "logt(' tgt_hm_sum ',tgt_hm_sum)\n",
    "\n",
    "## Identify the Ground Truth heatmaps > 0\n",
    "## This identifyies which classes are present in the GT\n",
    "##---------------------------------------------------------------\n",
    "class_idxs = tf.where(tgt_hm_sum > 0)\n",
    "logt(' class indexes ', class_idxs)\n",
    "\n",
    "active_tgt_heatmaps  = tf.gather_nd(target_heatmap, class_idxs)\n",
    "active_pred_heatmaps = tf.gather_nd(pred_heatmap  , class_idxs)\n",
    "logt('active_tgt_heatmaps  ',active_tgt_heatmaps)\n",
    "logt('active_pred_heatmaps ',active_pred_heatmaps)\n",
    "\n",
    "y_true = tf.reshape(active_tgt_heatmaps, (-1,))\n",
    "y_pred = tf.reshape(active_pred_heatmaps, (-1,))\n",
    "logt('y_true : ', y_true)\n",
    "logt('y_pred : ', y_pred)\n",
    "\n",
    "# pred_softmax     = tf.identity(model_fcn_sm)\n",
    "# active_class_ids = tf.identity(model_input_image_meta[:,8:])\n",
    "\n",
    "\n",
    "loss = KB.switch(tf.size(y_true) > 0,\n",
    "                KB.binary_crossentropy(target=y_true, output=y_pred),\n",
    "                tf.constant(0.0))\n",
    "\n",
    "loss_mean = KB.mean(loss)\n",
    "loss_final = tf.reshape(loss_mean, [1, 1], name = 'fcn_BCE_loss')\n",
    "\n",
    "logt('loss', loss)\n",
    "logt('mean loss ', loss_mean)  \n",
    "logt('loss (final) ', loss_final)\n",
    "\n",
    "# LOSS 1: Loss on ALL Class heatmaps\n",
    "loss1 = KB.binary_crossentropy(target=target_heatmap, output=pred_heatmap)\n",
    "logt('loss1', loss1)\n",
    "loss1_mean = KB.mean(loss1,axis = (2,3))\n",
    "logt('loss1_mean', loss1_mean)\n",
    "loss1_final = tf.reshape(loss1_mean, loss1_mean.shape, name = 'fcn_BCE_loss1')\n",
    "logt('loss1_final', loss1_final)\n",
    "loss1_mean1= KB.mean(loss1_mean)\n",
    "logt('loss1_mean1', loss1_mean1)\n",
    "loss1_final1 = tf.reshape(loss1_mean1, [1, 1], name = 'fcn_BCE_loss1')\n",
    "\n",
    "\n",
    "\n",
    "\n",
    "# LOSS 2 : Loass on ACTIVE classes only\n",
    "loss2 = KB.binary_crossentropy(target=active_tgt_heatmaps, output=active_pred_heatmaps)\n",
    "loss2_mean = KB.mean(loss2,axis = (0,1,2))\n",
    "loss2_final = tf.reshape(loss2_mean, [1,1], name = 'fcn_BCE_loss2')\n",
    "logt('loss2', loss2)\n",
    "logt('loss2_mean', loss2_mean)\n",
    "\n",
    "\n",
    "# LOSS 3 : Loass on SUN class only\n",
    "loss3 = KB.binary_crossentropy(target=target_heatmap[:,3:4], output=pred_heatmap[:,3:4])\n",
    "logt('loss3', loss3)\n",
    "loss3_mean = KB.mean(loss3)\n",
    "logt('loss3_mean', loss3_mean)\n",
    "loss3_final = tf.reshape(loss3_mean, [1,1], name = 'fcn_BCE_loss2')\n",
    "logt('loss3_final', loss3_final)\n",
    "\n",
    "loss3_mean0 = KB.mean(loss3,axis = (2,3))\n",
    "logt('loss3_mean0', loss3_mean0)\n",
    "loss3_final0 = tf.reshape(loss3_mean0, loss3_mean0.shape, name = 'fcn_BCE_loss2')\n",
    "logt('loss3_final0', loss3_final0)\n",
    "loss3_mean1= KB.mean(loss3_mean)\n",
    "logt('loss3_mean1', loss3_mean1)\n",
    "loss3_final1 = tf.reshape(loss3_mean1, [1, 1], name = 'fcn_BCE_loss3')\n",
    "logt('loss3_final1', loss3_final1)\n",
    "# return loss    "
   ]
  },
  {
   "cell_type": "code",
   "execution_count": 179,
   "metadata": {
    "ExecuteTime": {
     "end_time": "2019-01-31T14:15:39.758592Z",
     "start_time": "2019-01-31T14:15:37.426269Z"
    }
   },
   "outputs": [],
   "source": [
    "sess = KB.get_session()\n",
    "with sess.as_default():\n",
    "    r_target_heatmap = target_heatmap.eval()\n",
    "    r_pred_heatmap = pred_heatmap.eval()\n",
    "#     r_gt_unique_classes = gt_unique_classes.eval()\n",
    "    r_class_idxs   =  class_idxs.eval()\n",
    "    r_active_tgt_heatmaps = active_tgt_heatmaps.eval()\n",
    "    r_active_pred_heatmaps = active_pred_heatmaps.eval()\n",
    "    r_y_true = y_true.eval()\n",
    "    r_y_pred = y_pred.eval()\n",
    "    r_loss = loss.eval()\n",
    "    r_loss_mean = loss_mean.eval()\n",
    "    r_loss_final = loss_final.eval()\n",
    "    \n",
    "    r_loss1       = loss1.eval()\n",
    "    r_loss1_mean  = loss1_mean.eval()\n",
    "    r_loss1_final = loss1_final.eval()\n",
    "    r_loss1_mean1 = loss1_mean1.eval()\n",
    "    r_loss1_final1= loss1_final1.eval()\n",
    "    \n",
    "    r_loss2       = loss2.eval()\n",
    "    r_loss2_mean  = loss2_mean.eval()\n",
    "    r_loss2_final = loss2_final.eval()\n",
    "    \n",
    "    r_loss3       = loss3.eval()\n",
    "    r_loss3_mean  = loss3_mean.eval()\n",
    "    r_loss3_final = loss3_final.eval()\n",
    "    r_loss3_mean0 = loss3_mean0.eval()\n",
    "    r_loss3_final0= loss3_final0.eval()\n",
    "    r_loss3_mean1 = loss3_mean1.eval()\n",
    "    r_loss3_final1= loss3_final1.eval()\n",
    "    "
   ]
  },
  {
   "cell_type": "markdown",
   "metadata": {},
   "source": [
    "###  find classes that are present in the gt_heatmaps, and build corresponding indices to get the corresponding heatmaps"
   ]
  },
  {
   "cell_type": "code",
   "execution_count": 180,
   "metadata": {
    "ExecuteTime": {
     "end_time": "2019-01-31T14:15:41.956846Z",
     "start_time": "2019-01-31T14:15:41.845036Z"
    }
   },
   "outputs": [
    {
     "name": "stdout",
     "output_type": "stream",
     "text": [
      "[1 2 3 4 6 3 4 6]\n",
      "(8, 128, 128)\n",
      "(8, 128, 128)\n",
      "(131072,) (131072,)\n",
      "\n",
      " On Active only Classes - Original Method\n",
      "------------------------------\n",
      "loss  shape      :  (131072,) [0.0000 0.0000 0.0000 ... 0.0000 0.0000 0.0000]\n",
      "loss mean shape  :  () 0.04535956\n",
      "loss final shape :  (1, 1) 0.04535956\n",
      "\n",
      " On All Classes\n",
      "------------------------------\n",
      "loss1 shape      :  (2, 7, 128, 128)\n",
      "loss1 mean shape :  (2, 7) [[0.0001 0.0215 0.0917 0.0300 0.0498 0.0001 0.0532]\n",
      " [0.0001 0.0001 0.0001 0.0191 0.0370 0.0001 0.0605]]\n",
      "loss1 final shape:  (2, 7) [0.0001 0.0215 0.0917 0.0300 0.0498 0.0001 0.0532]\n",
      "loss1 mean1 shape :  () 0.025964135\n",
      "loss1 final1 shape:  (1, 1) [0.0260]\n",
      "\n",
      " On Active only Classes\n",
      "------------------------------\n",
      "loss2 shape      :  (8, 128, 128)\n",
      "loss2 mean shape :  () 0.04535956\n",
      "loss final2 shape:  (1, 1) 0.04535956\n",
      "\n",
      " On Sun only Classes\n",
      "------------------------------\n",
      "loss3 shape       :  (2, 1, 128, 128)\n",
      "loss3 mean shape  :  () 0.024560291\n",
      "loss3 final shape :  (1, 1) 0.024560291\n",
      "\n",
      "loss3 mean0 shape :  (2, 1) [[0.0300]\n",
      " [0.0191]]\n",
      "loss3 final0 shape:  (2, 1) 0.030003648 0.019116981\n",
      "loss3 mean1 shape :  () 0.024560291\n",
      "loss3 final1 shape:  (1, 1) 0.024560291\n"
     ]
    }
   ],
   "source": [
    "print(r_class_idxs[:,1])\n",
    "print(r_active_pred_heatmaps.shape)\n",
    "print(r_active_tgt_heatmaps.shape)\n",
    "print(r_y_true.shape, r_y_pred.shape )\n",
    "print('\\n On Active only Classes - Original Method')\n",
    "print('-'*30)\n",
    "print('loss  shape      : ', r_loss.shape, r_loss)\n",
    "print('loss mean shape  : ', r_loss_mean.shape, r_loss_mean)\n",
    "print('loss final shape : ', r_loss_final.shape, r_loss_final[0,0])\n",
    "print('\\n On All Classes')\n",
    "print('-'*30)\n",
    "print('loss1 shape      : ', r_loss1.shape)\n",
    "print('loss1 mean shape : ', r_loss1_mean.shape, r_loss1_mean)\n",
    "print('loss1 final shape: ', r_loss1_final.shape, r_loss1_final[0])\n",
    "print('loss1 mean1 shape : ', r_loss1_mean1.shape, r_loss1_mean1)\n",
    "print('loss1 final1 shape: ', r_loss1_final1.shape, r_loss1_final1[0])\n",
    "print('\\n On Active only Classes')\n",
    "print('-'*30)\n",
    "print('loss2 shape      : ', r_loss2.shape)\n",
    "print('loss2 mean shape : ', r_loss2_mean.shape, r_loss2_mean)\n",
    "print('loss final2 shape: ', r_loss2_final.shape, r_loss2_final[0,0])\n",
    "\n",
    "\n",
    "print('\\n On Sun only Classes')\n",
    "print('-'*30 )\n",
    "print('loss3 shape       : ', r_loss3.shape)\n",
    "print('loss3 mean shape  : ', r_loss3_mean.shape , r_loss3_mean)\n",
    "print('loss3 final shape : ', r_loss3_final.shape, r_loss3_final[0,0])\n",
    "print()\n",
    "print('loss3 mean0 shape : ', r_loss3_mean0.shape, r_loss3_mean0)\n",
    "print('loss3 final0 shape: ', r_loss3_final0.shape, r_loss3_final0[0,0],r_loss3_final0[1,0])\n",
    "print('loss3 mean1 shape : ', r_loss3_mean1.shape, r_loss3_mean1)\n",
    "print('loss3 final1 shape: ', r_loss3_final1.shape, r_loss3_final1[0,0])\n",
    "\n",
    "# print\n",
    "# for i in range(100):\n",
    "#       print(r_active_pred_heatmaps[0,i])\n",
    "#     print(utils.mask_string(r_active_tgt_heatmaps[0,i]))\n",
    "\n",
    "\n",
    "#     print(utils.mask_string(r_active_pred_heatmaps[0,i]))"
   ]
  },
  {
   "cell_type": "code",
   "execution_count": 163,
   "metadata": {
    "ExecuteTime": {
     "end_time": "2019-01-31T13:47:02.729920Z",
     "start_time": "2019-01-31T13:47:02.691519Z"
    }
   },
   "outputs": [
    {
     "data": {
      "text/plain": [
       "0.0097046007685"
      ]
     },
     "execution_count": 163,
     "metadata": {},
     "output_type": "execute_result"
    }
   ],
   "source": [
    "(5.2924537e-05+ 0.019356277)/2"
   ]
  },
  {
   "cell_type": "code",
   "execution_count": 105,
   "metadata": {
    "ExecuteTime": {
     "end_time": "2019-01-31T13:09:27.217696Z",
     "start_time": "2019-01-31T13:09:27.166037Z"
    }
   },
   "outputs": [
    {
     "name": "stdout",
     "output_type": "stream",
     "text": [
      "\n",
      "GT Heatmap   class:   2   min:   0.00000000    max:   1.00000000    sum: 124.00000000 \n",
      "FCN Heatmap  class:   2   min:  -0.00117547    max:   0.00140567    sum:  -0.18930230 \n",
      "\n",
      "GT Heatmap   class:   3   min:   0.00000000    max:   1.00000000    sum:  25.00000000 \n",
      "FCN Heatmap  class:   3   min:  -0.00108436    max:   0.00127977    sum:   0.07674486 \n",
      "\n",
      "GT Heatmap   class:   4   min:   0.00000000    max:   1.00000000    sum:  49.00000000 \n",
      "FCN Heatmap  class:   4   min:  -0.00097316    max:   0.00101973    sum:  -0.01978690 \n",
      "\n",
      "GT Heatmap   class:   5   min:   0.00000000    max:   1.00000000    sum:  63.00000000 \n",
      "FCN Heatmap  class:   5   min:  -0.00109315    max:   0.00105135    sum:   0.10263468 \n",
      "\n",
      "GT Heatmap   class:   6   min:   0.00000000    max:   1.00000000    sum:  77.00000000 \n",
      "FCN Heatmap  class:   6   min:  -0.00095914    max:   0.00133650    sum:   0.04859931 \n"
     ]
    }
   ],
   "source": [
    "## Show Active heatmaps to compare with original \n",
    "\n",
    "for i,j in enumerate(r_class_idxs[:,1]):\n",
    "    print()\n",
    "    print('GT Heatmap   class: {:3d}   min: {:12.8f}    max: {:12.8f}    sum: {:12.8f} '.format(j, \n",
    "                                                                    np.min(r_active_tgt_heatmaps[i,:,:]), \n",
    "                                                                    np.max(r_active_tgt_heatmaps[i,:,:]), \n",
    "                                                                    np.sum(r_active_tgt_heatmaps[i,:,:])))\n",
    "    print('FCN Heatmap  class: {:3d}   min: {:12.8f}    max: {:12.8f}    sum: {:12.8f} '.format(j, \n",
    "                                                                    np.min(r_active_pred_heatmaps[i,:,:]), \n",
    "                                                                    np.max(r_active_pred_heatmaps[i,:,:]), \n",
    "                                                                    np.sum(r_active_pred_heatmaps[i,:,:])))\n",
    "    "
   ]
  },
  {
   "cell_type": "code",
   "execution_count": 41,
   "metadata": {
    "ExecuteTime": {
     "end_time": "2019-01-31T12:40:22.382700Z",
     "start_time": "2019-01-31T12:40:22.335718Z"
    }
   },
   "outputs": [
    {
     "name": "stdout",
     "output_type": "stream",
     "text": [
      "(1, 7, 128, 128)\n",
      " r_tgt_hm_sum_by_class :  (1, 7)\n",
      " indexes:  (array([0, 0, 0, 0, 0]), array([1, 2, 3, 4, 6]))\n",
      "(array([0, 0, 0, 0, 0]), array([1, 2, 3, 4, 6]))\n",
      " indexes:  (5, 2)\n",
      "[[0 1]\n",
      " [0 2]\n",
      " [0 3]\n",
      " [0 4]\n",
      " [0 6]]\n"
     ]
    }
   ],
   "source": [
    "print(r_target_heatmap.shape)  \n",
    "r_tgt_hm_sum_by_class = np.sum(r_target_heatmap, axis=(2,3))\n",
    "print(' r_tgt_hm_sum_by_class : ', r_tgt_hm_sum_by_class.shape)\n",
    "idxs = np.where(r_tgt_hm_sum_by_class > 0)\n",
    "print(' indexes: ', idxs)\n",
    "print(idxs)\n",
    "idxs = np.stack(idxs, axis = -1)\n",
    "print(' indexes: ', idxs.shape)\n",
    "print(idxs)\n",
    "\n",
    "# print(r_gt_unique_classes.shape, r_gt_unique_idxs.shape)\n",
    "# print(r_gt_unique_classes)\n",
    "# print(model_gt_class_ids)"
   ]
  },
  {
   "cell_type": "markdown",
   "metadata": {
    "heading_collapsed": true
   },
   "source": [
    "## Get Gradients"
   ]
  },
  {
   "cell_type": "code",
   "execution_count": 9,
   "metadata": {
    "ExecuteTime": {
     "end_time": "2018-12-21T10:40:08.912573Z",
     "start_time": "2018-12-21T10:40:08.582903Z"
    },
    "hidden": true
   },
   "outputs": [],
   "source": [
    "def get_gradients(model):\n",
    "    \"\"\"Return the gradient of every trainable weight in model\n",
    "\n",
    "    Parameters\n",
    "    -----------\n",
    "    model : a keras model instance\n",
    "\n",
    "    First, find all tensors which are trainable in the model. Surprisingly,\n",
    "    `model.trainable_weights` will return tensors for which\n",
    "    trainable=False has been set on their layer (last time I checked), hence the extra check.\n",
    "    Next, get the gradients of the loss with respect to the weights.\n",
    "\n",
    "    \"\"\"\n",
    "    weights = [tensor for tensor in model.trainable_weights if model.get_layer(tensor.name[:-2]).trainable]\n",
    "    optimizer = model.optimizer\n",
    "\n",
    "    return optimizer.get_gradients(model.total_loss, weights)"
   ]
  },
  {
   "cell_type": "code",
   "execution_count": 36,
   "metadata": {
    "ExecuteTime": {
     "end_time": "2018-12-21T10:50:38.446007Z",
     "start_time": "2018-12-21T10:50:38.096046Z"
    },
    "hidden": true
   },
   "outputs": [
    {
     "name": "stdout",
     "output_type": "stream",
     "text": [
      "<tf.Variable 'block1_conv1/kernel:0' shape=(3, 3, 7, 64) dtype=float32_ref> >>> block1_conv1 >>> block1_conv1 >>> True\n",
      "<tf.Variable 'block1_conv1/bias:0' shape=(64,) dtype=float32_ref> >>> block1_conv1 >>> block1_conv1 >>> True\n",
      "<tf.Variable 'block1_conv2/kernel:0' shape=(3, 3, 64, 64) dtype=float32_ref> >>> block1_conv2 >>> block1_conv2 >>> True\n",
      "<tf.Variable 'block1_conv2/bias:0' shape=(64,) dtype=float32_ref> >>> block1_conv2 >>> block1_conv2 >>> True\n",
      "<tf.Variable 'block2_conv1/kernel:0' shape=(3, 3, 64, 128) dtype=float32_ref> >>> block2_conv1 >>> block2_conv1 >>> True\n",
      "<tf.Variable 'block2_conv1/bias:0' shape=(128,) dtype=float32_ref> >>> block2_conv1 >>> block2_conv1 >>> True\n",
      "<tf.Variable 'block2_conv2/kernel:0' shape=(3, 3, 128, 128) dtype=float32_ref> >>> block2_conv2 >>> block2_conv2 >>> True\n",
      "<tf.Variable 'block2_conv2/bias:0' shape=(128,) dtype=float32_ref> >>> block2_conv2 >>> block2_conv2 >>> True\n",
      "<tf.Variable 'block3_conv1/kernel:0' shape=(3, 3, 128, 256) dtype=float32_ref> >>> block3_conv1 >>> block3_conv1 >>> True\n",
      "<tf.Variable 'block3_conv1/bias:0' shape=(256,) dtype=float32_ref> >>> block3_conv1 >>> block3_conv1 >>> True\n",
      "<tf.Variable 'block3_conv2/kernel:0' shape=(3, 3, 256, 256) dtype=float32_ref> >>> block3_conv2 >>> block3_conv2 >>> True\n",
      "<tf.Variable 'block3_conv2/bias:0' shape=(256,) dtype=float32_ref> >>> block3_conv2 >>> block3_conv2 >>> True\n",
      "<tf.Variable 'block3_conv3/kernel:0' shape=(3, 3, 256, 256) dtype=float32_ref> >>> block3_conv3 >>> block3_conv3 >>> True\n",
      "<tf.Variable 'block3_conv3/bias:0' shape=(256,) dtype=float32_ref> >>> block3_conv3 >>> block3_conv3 >>> True\n",
      "<tf.Variable 'block4_conv1/kernel:0' shape=(3, 3, 256, 512) dtype=float32_ref> >>> block4_conv1 >>> block4_conv1 >>> True\n",
      "<tf.Variable 'block4_conv1/bias:0' shape=(512,) dtype=float32_ref> >>> block4_conv1 >>> block4_conv1 >>> True\n",
      "<tf.Variable 'block4_conv2/kernel:0' shape=(3, 3, 512, 512) dtype=float32_ref> >>> block4_conv2 >>> block4_conv2 >>> True\n",
      "<tf.Variable 'block4_conv2/bias:0' shape=(512,) dtype=float32_ref> >>> block4_conv2 >>> block4_conv2 >>> True\n",
      "<tf.Variable 'block4_conv3/kernel:0' shape=(3, 3, 512, 512) dtype=float32_ref> >>> block4_conv3 >>> block4_conv3 >>> True\n",
      "<tf.Variable 'block4_conv3/bias:0' shape=(512,) dtype=float32_ref> >>> block4_conv3 >>> block4_conv3 >>> True\n",
      "<tf.Variable 'block5_conv1/kernel:0' shape=(3, 3, 512, 512) dtype=float32_ref> >>> block5_conv1 >>> block5_conv1 >>> True\n",
      "<tf.Variable 'block5_conv1/bias:0' shape=(512,) dtype=float32_ref> >>> block5_conv1 >>> block5_conv1 >>> True\n",
      "<tf.Variable 'block5_conv2/kernel:0' shape=(3, 3, 512, 512) dtype=float32_ref> >>> block5_conv2 >>> block5_conv2 >>> True\n",
      "<tf.Variable 'block5_conv2/bias:0' shape=(512,) dtype=float32_ref> >>> block5_conv2 >>> block5_conv2 >>> True\n",
      "<tf.Variable 'block5_conv3/kernel:0' shape=(3, 3, 512, 512) dtype=float32_ref> >>> block5_conv3 >>> block5_conv3 >>> True\n",
      "<tf.Variable 'block5_conv3/bias:0' shape=(512,) dtype=float32_ref> >>> block5_conv3 >>> block5_conv3 >>> True\n",
      "<tf.Variable 'fcn32_fc1/kernel:0' shape=(7, 7, 512, 4096) dtype=float32_ref> >>> fcn32_fc1 >>> fcn32_fc1 >>> True\n",
      "<tf.Variable 'fcn32_fc1/bias:0' shape=(4096,) dtype=float32_ref> >>> fcn32_fc1 >>> fcn32_fc1 >>> True\n",
      "<tf.Variable 'fcn32_fc2/kernel:0' shape=(1, 1, 4096, 4096) dtype=float32_ref> >>> fcn32_fc2 >>> fcn32_fc2 >>> True\n",
      "<tf.Variable 'fcn32_fc2/bias:0' shape=(4096,) dtype=float32_ref> >>> fcn32_fc2 >>> fcn32_fc2 >>> True\n",
      "<tf.Variable 'fcn32_deconv2D/kernel:0' shape=(1, 1, 4096, 7) dtype=float32_ref> >>> fcn32_deconv2D >>> fcn32_deconv2D >>> True\n",
      "<tf.Variable 'fcn32_deconv2D/bias:0' shape=(7,) dtype=float32_ref> >>> fcn32_deconv2D >>> fcn32_deconv2D >>> True\n",
      "<tf.Variable 'fcn16_score2/kernel:0' shape=(4, 4, 7, 7) dtype=float32_ref> >>> fcn16_score2 >>> fcn16_score2 >>> True\n",
      "<tf.Variable 'fcn16_score2/bias:0' shape=(7,) dtype=float32_ref> >>> fcn16_score2 >>> fcn16_score2 >>> True\n",
      "<tf.Variable 'fcn16_score_pool4/kernel:0' shape=(1, 1, 512, 7) dtype=float32_ref> >>> fcn16_score_pool4 >>> fcn16_score_pool4 >>> True\n",
      "<tf.Variable 'fcn16_score_pool4/bias:0' shape=(7,) dtype=float32_ref> >>> fcn16_score_pool4 >>> fcn16_score_pool4 >>> True\n",
      "<tf.Variable 'fcn16_upscore_pool4/kernel:0' shape=(4, 4, 7, 7) dtype=float32_ref> >>> fcn16_upscore_pool4 >>> fcn16_upscore_pool4 >>> True\n",
      "<tf.Variable 'fcn16_upscore_pool4/bias:0' shape=(7,) dtype=float32_ref> >>> fcn16_upscore_pool4 >>> fcn16_upscore_pool4 >>> True\n",
      "<tf.Variable 'fcn8_score_pool3/kernel:0' shape=(1, 1, 256, 7) dtype=float32_ref> >>> fcn8_score_pool3 >>> fcn8_score_pool3 >>> True\n",
      "<tf.Variable 'fcn8_score_pool3/bias:0' shape=(7,) dtype=float32_ref> >>> fcn8_score_pool3 >>> fcn8_score_pool3 >>> True\n",
      "<tf.Variable 'fcn8_heatmap/kernel:0' shape=(16, 16, 7, 7) dtype=float32_ref> >>> fcn8_heatmap >>> fcn8_heatmap >>> True\n",
      "<tf.Variable 'fcn8_heatmap/bias:0' shape=(7,) dtype=float32_ref> >>> fcn8_heatmap >>> fcn8_heatmap >>> True\n"
     ]
    },
    {
     "ename": "AttributeError",
     "evalue": "'FCN' object has no attribute 'optimizer'",
     "output_type": "error",
     "traceback": [
      "\u001b[1;31m---------------------------------------------------------------------------\u001b[0m",
      "\u001b[1;31mAttributeError\u001b[0m                            Traceback (most recent call last)",
      "\u001b[1;32m<ipython-input-36-e369e073c862>\u001b[0m in \u001b[0;36m<module>\u001b[1;34m()\u001b[0m\n\u001b[0;32m      3\u001b[0m     \u001b[0mprint\u001b[0m\u001b[1;33m(\u001b[0m\u001b[0mtensor\u001b[0m\u001b[1;33m,\u001b[0m\u001b[1;34m'>>>'\u001b[0m\u001b[1;33m,\u001b[0m \u001b[0mly\u001b[0m \u001b[1;33m,\u001b[0m\u001b[1;34m'>>>'\u001b[0m\u001b[1;33m,\u001b[0m \u001b[0mfcn_model\u001b[0m\u001b[1;33m.\u001b[0m\u001b[0mkeras_model\u001b[0m\u001b[1;33m.\u001b[0m\u001b[0mget_layer\u001b[0m\u001b[1;33m(\u001b[0m\u001b[0mly\u001b[0m\u001b[1;33m)\u001b[0m\u001b[1;33m.\u001b[0m\u001b[0mname\u001b[0m\u001b[1;33m,\u001b[0m\u001b[1;34m'>>>'\u001b[0m\u001b[1;33m,\u001b[0m \u001b[0mfcn_model\u001b[0m\u001b[1;33m.\u001b[0m\u001b[0mkeras_model\u001b[0m\u001b[1;33m.\u001b[0m\u001b[0mget_layer\u001b[0m\u001b[1;33m(\u001b[0m\u001b[0mly\u001b[0m\u001b[1;33m)\u001b[0m\u001b[1;33m.\u001b[0m\u001b[0mtrainable\u001b[0m\u001b[1;33m)\u001b[0m\u001b[1;33m\u001b[0m\u001b[0m\n\u001b[0;32m      4\u001b[0m \u001b[1;31m#     pp.pprint(dir(tensor))\u001b[0m\u001b[1;33m\u001b[0m\u001b[1;33m\u001b[0m\u001b[0m\n\u001b[1;32m----> 5\u001b[1;33m \u001b[0mfcn_model\u001b[0m\u001b[1;33m.\u001b[0m\u001b[0moptimizer\u001b[0m\u001b[1;33m\u001b[0m\u001b[0m\n\u001b[0m",
      "\u001b[1;31mAttributeError\u001b[0m: 'FCN' object has no attribute 'optimizer'"
     ]
    }
   ],
   "source": [
    "for tensor in fcn_model.keras_model.trainable_weights:\n",
    "    ly = tensor.name.split('/')[0]\n",
    "    print(tensor,'>>>', ly ,'>>>', fcn_model.keras_model.get_layer(ly).name,'>>>', fcn_model.keras_model.get_layer(ly).trainable)\n",
    "#     pp.pprint(dir(tensor))\n"
   ]
  },
  {
   "cell_type": "code",
   "execution_count": 42,
   "metadata": {
    "ExecuteTime": {
     "end_time": "2018-12-21T10:56:06.293959Z",
     "start_time": "2018-12-21T10:56:05.951344Z"
    },
    "hidden": true
   },
   "outputs": [
    {
     "data": {
      "text/plain": [
       "['all']"
      ]
     },
     "execution_count": 42,
     "metadata": {},
     "output_type": "execute_result"
    }
   ],
   "source": [
    "args.fcn_layers"
   ]
  },
  {
   "cell_type": "code",
   "execution_count": 46,
   "metadata": {
    "ExecuteTime": {
     "end_time": "2018-12-21T11:40:56.239236Z",
     "start_time": "2018-12-21T11:40:55.885858Z"
    },
    "hidden": true
   },
   "outputs": [
    {
     "name": "stdout",
     "output_type": "stream",
     "text": [
      "    learning rate :  0.0001\n",
      "    momentum      :  0.9\n",
      "\n",
      "\n",
      "Selecting layers to train\n",
      "-------------------------\n",
      "Layer    Layer Name               Layer Type\n",
      "   0  input_pr_hm_norm       (InputLayer          )   ............................no weights to train ]\n"
     ]
    },
    {
     "ename": "TypeError",
     "evalue": "unhashable type: 'list'",
     "output_type": "error",
     "traceback": [
      "\u001b[1;31m---------------------------------------------------------------------------\u001b[0m",
      "\u001b[1;31mTypeError\u001b[0m                                 Traceback (most recent call last)",
      "\u001b[1;32m<ipython-input-46-1c229dd3dfcf>\u001b[0m in \u001b[0;36m<module>\u001b[1;34m()\u001b[0m\n\u001b[0;32m      3\u001b[0m \u001b[1;31m# Train\u001b[0m\u001b[1;33m\u001b[0m\u001b[1;33m\u001b[0m\u001b[0m\n\u001b[0;32m      4\u001b[0m \u001b[1;33m\u001b[0m\u001b[0m\n\u001b[1;32m----> 5\u001b[1;33m \u001b[0mfcn_model\u001b[0m\u001b[1;33m.\u001b[0m\u001b[0mset_trainable\u001b[0m\u001b[1;33m(\u001b[0m\u001b[0margs\u001b[0m\u001b[1;33m.\u001b[0m\u001b[0mfcn_layers\u001b[0m\u001b[1;33m)\u001b[0m\u001b[1;33m\u001b[0m\u001b[0m\n\u001b[0m\u001b[0;32m      6\u001b[0m \u001b[1;31m# self.compile(learning_rate, self.config.LEARNING_MOMENTUM, losses)\u001b[0m\u001b[1;33m\u001b[0m\u001b[1;33m\u001b[0m\u001b[0m\n\u001b[0;32m      7\u001b[0m \u001b[0mfcn_model\u001b[0m\u001b[1;33m.\u001b[0m\u001b[0mcompile\u001b[0m\u001b[1;33m(\u001b[0m\u001b[0mlosses\u001b[0m\u001b[1;33m,\u001b[0m \u001b[0moptimizer\u001b[0m\u001b[1;33m)\u001b[0m\u001b[1;33m\u001b[0m\u001b[0m\n",
      "\u001b[1;32mE:\\git_projs\\MRCNN3\\mrcnn\\model_base.py\u001b[0m in \u001b[0;36mset_trainable\u001b[1;34m(self, layer_regex, keras_model, indent, verbose)\u001b[0m\n\u001b[0;32m    586\u001b[0m \u001b[1;33m\u001b[0m\u001b[0m\n\u001b[0;32m    587\u001b[0m             \u001b[1;31m# Is it trainable?\u001b[0m\u001b[1;33m\u001b[0m\u001b[1;33m\u001b[0m\u001b[0m\n\u001b[1;32m--> 588\u001b[1;33m             \u001b[0mtrainable\u001b[0m \u001b[1;33m=\u001b[0m \u001b[0mbool\u001b[0m\u001b[1;33m(\u001b[0m\u001b[0mre\u001b[0m\u001b[1;33m.\u001b[0m\u001b[0mfullmatch\u001b[0m\u001b[1;33m(\u001b[0m\u001b[0mlayer_regex\u001b[0m\u001b[1;33m,\u001b[0m \u001b[0mlayer\u001b[0m\u001b[1;33m.\u001b[0m\u001b[0mname\u001b[0m\u001b[1;33m)\u001b[0m\u001b[1;33m)\u001b[0m\u001b[1;33m\u001b[0m\u001b[0m\n\u001b[0m\u001b[0;32m    589\u001b[0m \u001b[1;33m\u001b[0m\u001b[0m\n\u001b[0;32m    590\u001b[0m             \u001b[1;31m# Update layer. If layer is a container, update inner layer.\u001b[0m\u001b[1;33m\u001b[0m\u001b[1;33m\u001b[0m\u001b[0m\n",
      "\u001b[1;32mD:\\Program Files\\Anaconda3\\envs\\TF\\lib\\re.py\u001b[0m in \u001b[0;36mfullmatch\u001b[1;34m(pattern, string, flags)\u001b[0m\n\u001b[0;32m    166\u001b[0m     \"\"\"Try to apply the pattern to all of the string, returning\n\u001b[0;32m    167\u001b[0m     a match object, or None if no match was found.\"\"\"\n\u001b[1;32m--> 168\u001b[1;33m     \u001b[1;32mreturn\u001b[0m \u001b[0m_compile\u001b[0m\u001b[1;33m(\u001b[0m\u001b[0mpattern\u001b[0m\u001b[1;33m,\u001b[0m \u001b[0mflags\u001b[0m\u001b[1;33m)\u001b[0m\u001b[1;33m.\u001b[0m\u001b[0mfullmatch\u001b[0m\u001b[1;33m(\u001b[0m\u001b[0mstring\u001b[0m\u001b[1;33m)\u001b[0m\u001b[1;33m\u001b[0m\u001b[0m\n\u001b[0m\u001b[0;32m    169\u001b[0m \u001b[1;33m\u001b[0m\u001b[0m\n\u001b[0;32m    170\u001b[0m \u001b[1;32mdef\u001b[0m \u001b[0msearch\u001b[0m\u001b[1;33m(\u001b[0m\u001b[0mpattern\u001b[0m\u001b[1;33m,\u001b[0m \u001b[0mstring\u001b[0m\u001b[1;33m,\u001b[0m \u001b[0mflags\u001b[0m\u001b[1;33m=\u001b[0m\u001b[1;36m0\u001b[0m\u001b[1;33m)\u001b[0m\u001b[1;33m:\u001b[0m\u001b[1;33m\u001b[0m\u001b[0m\n",
      "\u001b[1;32mD:\\Program Files\\Anaconda3\\envs\\TF\\lib\\re.py\u001b[0m in \u001b[0;36m_compile\u001b[1;34m(pattern, flags)\u001b[0m\n\u001b[0;32m    279\u001b[0m     \u001b[1;31m# internal: compile pattern\u001b[0m\u001b[1;33m\u001b[0m\u001b[1;33m\u001b[0m\u001b[0m\n\u001b[0;32m    280\u001b[0m     \u001b[1;32mtry\u001b[0m\u001b[1;33m:\u001b[0m\u001b[1;33m\u001b[0m\u001b[0m\n\u001b[1;32m--> 281\u001b[1;33m         \u001b[0mp\u001b[0m\u001b[1;33m,\u001b[0m \u001b[0mloc\u001b[0m \u001b[1;33m=\u001b[0m \u001b[0m_cache\u001b[0m\u001b[1;33m[\u001b[0m\u001b[0mtype\u001b[0m\u001b[1;33m(\u001b[0m\u001b[0mpattern\u001b[0m\u001b[1;33m)\u001b[0m\u001b[1;33m,\u001b[0m \u001b[0mpattern\u001b[0m\u001b[1;33m,\u001b[0m \u001b[0mflags\u001b[0m\u001b[1;33m]\u001b[0m\u001b[1;33m\u001b[0m\u001b[0m\n\u001b[0m\u001b[0;32m    282\u001b[0m         \u001b[1;32mif\u001b[0m \u001b[0mloc\u001b[0m \u001b[1;32mis\u001b[0m \u001b[1;32mNone\u001b[0m \u001b[1;32mor\u001b[0m \u001b[0mloc\u001b[0m \u001b[1;33m==\u001b[0m \u001b[0m_locale\u001b[0m\u001b[1;33m.\u001b[0m\u001b[0msetlocale\u001b[0m\u001b[1;33m(\u001b[0m\u001b[0m_locale\u001b[0m\u001b[1;33m.\u001b[0m\u001b[0mLC_CTYPE\u001b[0m\u001b[1;33m)\u001b[0m\u001b[1;33m:\u001b[0m\u001b[1;33m\u001b[0m\u001b[0m\n\u001b[0;32m    283\u001b[0m             \u001b[1;32mreturn\u001b[0m \u001b[0mp\u001b[0m\u001b[1;33m\u001b[0m\u001b[0m\n",
      "\u001b[1;31mTypeError\u001b[0m: unhashable type: 'list'"
     ]
    }
   ],
   "source": [
    "optimizer = fcn_model.set_optimizer()\n",
    "losses    = args.fcn_losses\n",
    "# Train\n",
    "\n",
    "fcn_model.set_trainable(args.fcn_layers)\n",
    "# self.compile(learning_rate, self.config.LEARNING_MOMENTUM, losses)\n",
    "fcn_model.compile(losses, optimizer)\n"
   ]
  },
  {
   "cell_type": "markdown",
   "metadata": {
    "heading_collapsed": true
   },
   "source": [
    "## Compute various loss functions "
   ]
  },
  {
   "cell_type": "code",
   "execution_count": null,
   "metadata": {
    "ExecuteTime": {
     "end_time": "2018-12-04T15:45:30.680610Z",
     "start_time": "2018-12-04T15:45:30.019239Z"
    },
    "hidden": true,
    "scrolled": true
   },
   "outputs": [],
   "source": [
    "##-----------------------------------------------------------------------\n",
    "##  FCN Categorical Cross Entropy loss  \n",
    "##-----------------------------------------------------------------------    \n",
    "# def fcn_heatmap_CE_loss_graph(target_heatmap, pred_heatmap, active_class_ids):\n",
    "'''\n",
    "Categorical Cross Entropy Loss for the FCN heatmaps.\n",
    "\n",
    "target_class_ids:       [batch, num_rois]. Integer class IDs. Uses zero\n",
    "                        padding to fill in the array.\n",
    "\n",
    "pred_class_logits:      [batch, num_rois, num_classes]\n",
    "\n",
    "active_class_ids:       [batch, num_classes]. Has a value of 1 for\n",
    "                        classes that are in the dataset of the image, and 0\n",
    "                        for classes that are not in the dataset. \n",
    "'''\n",
    "print('\\n>>> mrcnn_class_loss_graph ' )\n",
    "print('    target_class_ids  size :', target_heatmap.shape, target_heatmap.dtype)\n",
    "print('    pred_class_logits size :', pred_heatmap.shape  , pred_heatmap.dtype)\n",
    "print('    active_class_ids  size :', active_class_ids.shape, active_class_ids.dtype)    \n",
    "#     target_class_ids = tf.cast(target_class_ids, 'int64')\n",
    "\n",
    "# Find predictions of classes that are not in the dataset.\n",
    "\n",
    "pred_class_ids = tf.argmax(pred_heatmap, axis=3)\n",
    "gt_class_ids   = tf.argmax(target_heatmap, axis = 3 )\n",
    "print('    pred_class_ids        :', pred_class_ids.get_shape(), pred_class_ids.dtype ) \n",
    "print('    gt_class_ids          :', gt_class_ids.get_shape()  , gt_class_ids.dtype) \n",
    "\n",
    "# TODO: Update this line to work with batch > 1. Right now it assumes all\n",
    "#       images in a batch have the same active_class_ids\n",
    "pred_active = tf.gather(active_class_ids[0], pred_class_ids)\n",
    "print('    pred_active           :', pred_active.get_shape(),  pred_active.dtype)  \n",
    "\n",
    "#loss\n",
    "loss = tf.nn.softmax_cross_entropy_with_logits_v2(labels=target_heatmap, logits=pred_heatmap)\n",
    "print('    loss                  :', loss.get_shape(), loss.dtype)\n",
    "\n",
    "# Erase losses of predictions of classes that are not in the active\n",
    "# classes of the image.\n",
    "### all elements of pred_active are 1 - essentially loss_active == loss --> This line can be ignored\n",
    "loss_active = loss * tf.cast(pred_active, tf.float32)\n",
    "print('    loss_active           :', loss_active.get_shape(), KB.shape(loss), 'KerasTensor: ', KB.is_keras_tensor(loss_active))\n",
    "# loss = loss * pred_active\n",
    "# print('    loss*pred_active  :', KB.int_shape(loss), 'KerasTensor: ', KB.is_keras_tensor(loss))\n",
    "\n",
    "# Compute  loss mean. Use only predictions that contribute\n",
    "# to the loss to get a correct mean.\n",
    "loss = tf.reduce_sum(loss)   ##/ tf.reduce_sum(pred_active)\n",
    "loss_mean  = KB.mean(loss)\n",
    "loss_final = tf.reshape(loss_mean, [1, 1], name = \"fcn_CE_loss\")\n",
    "\n",
    "print('    loss              :', loss.get_shape()       , KB.int_shape(loss)       , 'KerasTensor: ', KB.is_keras_tensor(loss))\n",
    "print('    loss mean         :', loss_mean.get_shape()  , KB.int_shape(loss_mean)  , 'KerasTensor: ', KB.is_keras_tensor(loss_mean))\n",
    "print('    loss final        :', loss_final.get_shape() , KB.int_shape(loss_final) , 'KerasTensor: ', KB.is_keras_tensor(loss_final))\n",
    "\n",
    "##-----------------------------------------------------------------------------------------------------------\n",
    "##  Calculate additional losses\n",
    "##-----------------------------------------------------------------------------------------------------------\n",
    "## same as tf.nn.softmax_cross_entropy_with_logits\n",
    "#     lossV2 = tf.nn.softmax_cross_entropy_with_logits_v2(labels=target_heatmap, logits=pred_heatmap)\n",
    "#     print('    loss   V2             :', lossV2.get_shape(), lossV2.dtype)\n",
    "\n",
    "## same as tf.nn.softmax_cross_entropy_with_logits\n",
    "KB_CCE_logits = KB.categorical_crossentropy(target_heatmap, pred_softmax, from_logits = True)\n",
    "print('    KB_CCE_logits         :', KB_CCE_logits.get_shape(), KB_CCE_logits.dtype)\n",
    "KB_CCE_smax   = KB.categorical_crossentropy(target_heatmap, pred_softmax, from_logits = False)\n",
    "print('    KB_CCE_smax           :', KB_CCE_smax.get_shape(), KB_CCE_smax.dtype)\n",
    "sigmoid_CE_loss = tf.nn.sigmoid_cross_entropy_with_logits(labels=target_heatmap, logits=pred_heatmap)\n",
    "print('    TF_sigmoid_CE         :', sigmoid_CE_loss.get_shape(), sigmoid_CE_loss.dtype)\n"
   ]
  },
  {
   "cell_type": "code",
   "execution_count": null,
   "metadata": {
    "ExecuteTime": {
     "end_time": "2018-12-04T15:46:45.131423Z",
     "start_time": "2018-12-04T15:46:36.037420Z"
    },
    "hidden": true
   },
   "outputs": [],
   "source": [
    "# del loss2, lossV2, r_lossV2, r_loss2\n",
    "with sess.as_default():\n",
    "    r_pred_class_ids = pred_class_ids.eval()\n",
    "    r_loss           = loss.eval()\n",
    "    r_gt_class_ids   = gt_class_ids.eval()\n",
    "    r_pred_active    = pred_active.eval()\n",
    "    r_KB_CCE_logits  = KB_CCE_logits.eval()\n",
    "    r_KB_CCE_smax    = KB_CCE_smax.eval()\n",
    "    r_sigmoid_CE_loss= sigmoid_CE_loss.eval()\n",
    "    r_loss_active    = loss_active.eval()\n",
    "    r_red_sum        = red_sum.eval()\n",
    "    r_loss_sum       = loss_sum.eval()"
   ]
  },
  {
   "cell_type": "code",
   "execution_count": null,
   "metadata": {
    "ExecuteTime": {
     "end_time": "2018-12-04T15:51:52.026584Z",
     "start_time": "2018-12-04T15:51:51.692793Z"
    },
    "hidden": true
   },
   "outputs": [],
   "source": [
    "# r_pred_active.shape\n",
    "np.set_printoptions(linewidth=200,precision=4,threshold=1000, suppress = True)\n",
    "print(' gt_class_ids  : ', r_gt_class_ids.shape)\n",
    "print(' TF_CE (Loss)  : ', r_loss.shape)\n",
    "print(' KB_CCE_logits : ', r_KB_CCE_logits.shape)\n",
    "print(' KB_CCE_smax   : ', r_KB_CCE_smax.shape)\n",
    "print('sigmoid_CE_loss: ', r_sigmoid_CE_loss.shape)\n",
    "print(' r_pred_active : ', r_pred_active.shape)\n",
    "print(' r_loss_active : ', r_loss_active.shape)\n",
    "print(' r_loss_sum    : ', r_loss_sum.shape, r_loss_sum)\n",
    "print(' r_red_sum     : ', r_red_sum.shape, r_red_sum)\n",
    "print('r_pred_class_ids: ', r_pred_class_ids.shape)\n",
    "equal_test = np.equal(r_pred_class_ids, r_gt_class_ids)\n",
    "nonzero_gt= np.not_equal(r_gt_class_ids, 0)\n",
    "print(' equal_test    : ', equal_test.shape, np.all(equal_test))\n",
    "print(' non_zero_gt   : ', nonzero_gt.shape, np.all(nonzero_gt))\n",
    "st = 32"
   ]
  },
  {
   "cell_type": "code",
   "execution_count": null,
   "metadata": {
    "ExecuteTime": {
     "end_time": "2018-12-04T15:46:51.383281Z",
     "start_time": "2018-12-04T15:46:51.059541Z"
    },
    "hidden": true
   },
   "outputs": [],
   "source": [
    "print(r_loss[0,104])\n",
    "print(r_pred_active[0,104])\n",
    "print(r_loss_active[0,104])\n",
    "eq_test = np.equal(r_loss, r_loss_active)\n",
    "print(np.all(eq_test))"
   ]
  },
  {
   "cell_type": "code",
   "execution_count": null,
   "metadata": {
    "ExecuteTime": {
     "end_time": "2018-11-06T15:33:06.051512Z",
     "start_time": "2018-11-06T15:33:06.001991Z"
    },
    "hidden": true
   },
   "outputs": [],
   "source": [
    "def print_info(i,j):\n",
    "    class_id =  r_gt_class_ids[0,i,j]            \n",
    "    print('r/c',i,'/',j,' pr:', r_pred_class_ids[0,i,j], ' gt: ', r_gt_class_ids[0,i,j]\n",
    "          ,'  loss: ', r_loss[0,i,j]\n",
    "          ,'  KB_CCE_logits: ', r_KB_CCE_logits[0,i,j]\n",
    "          ,'  KB_CCE_smax  : ', r_KB_CCE_smax[0,i,j]\n",
    "          ,'  gt val: ', model_gt_heatmap[0,i,j,class_id] \n",
    "          ,'  pr_val: ', model_fcn_heatmap[0,i,j,class_id]\n",
    "          ,'  sm_val: ', model_fcn_softmax[0,i,j,class_id])\n",
    "    print('\\t\\t predict min ', np.amin(model_fcn_heatmap[0,i,j]), 'max: ', np.amax(model_fcn_heatmap[0,i,j]))\n",
    "    print('\\t\\t softmax min ', np.amin(model_fcn_softmax[0,i,j]), 'max: ', np.amax(model_fcn_softmax[0,i,j]))\n",
    "    print('   sigmoid_CE loss:', r_sigmoid_CE_loss[0,i,j])"
   ]
  },
  {
   "cell_type": "code",
   "execution_count": null,
   "metadata": {
    "ExecuteTime": {
     "end_time": "2018-11-06T15:39:19.645250Z",
     "start_time": "2018-11-06T15:39:18.266713Z"
    },
    "hidden": true
   },
   "outputs": [],
   "source": [
    "for i in range(256):\n",
    "#     print(r_pred_active[0,i])\n",
    "#     print(r_gt_class_ids[0,i])\n",
    "#     if np.any(r_gt_class_ids[0,i]):\n",
    "        for j in range(256):\n",
    "            if equal_test[0,i,j] : ## and nonzero_gt[0,i,j]: \n",
    "                 print('r/c',i,'/',j,' pr:', r_pred_class_ids[0,i,j], ' gt: ', r_gt_class_ids[0,i,j],'  loss: ', r_loss[0,i,j]  )\n",
    "#                 print_info(i,j)\n",
    "\n",
    "print_info(104,71)"
   ]
  },
  {
   "cell_type": "code",
   "execution_count": null,
   "metadata": {
    "ExecuteTime": {
     "end_time": "2018-11-06T15:33:47.331973Z",
     "start_time": "2018-11-06T15:33:47.186791Z"
    },
    "hidden": true
   },
   "outputs": [],
   "source": [
    "o1= np.sum(model_fcn_softmax, axis=-1, keepdims = True)\n",
    "print(o1.shape)\n",
    "o2 = model_fcn_softmax / o1\n",
    "print(o2.shape)\n",
    "print(KB.epsilon())\n",
    "a = np.arange(10)\n",
    "o3 = np.clip(o2,KB.epsilon(), 1.0 - KB.epsilon())\n",
    "print(o3.shape)\n",
    "o4 = np.log(o3)\n",
    "print(o4.shape)\n",
    "print(o4[0,104,70])\n",
    "print(model_gt_heatmap[0,104,70])\n",
    "o5 = model_gt_heatmap * o4\n",
    "print(o5.shape)\n",
    "print(o5[0,104,70])"
   ]
  },
  {
   "cell_type": "code",
   "execution_count": null,
   "metadata": {
    "ExecuteTime": {
     "end_time": "2018-11-05T16:48:52.979001Z",
     "start_time": "2018-11-05T16:48:52.915094Z"
    },
    "hidden": true
   },
   "outputs": [],
   "source": [
    "loss = fcn_heatmap_CE_loss_graph(target_heatmap, pred_heatmap,active_class_ids)"
   ]
  },
  {
   "cell_type": "markdown",
   "metadata": {
    "heading_collapsed": true
   },
   "source": [
    "## Calculate FCN Loss on heatmap"
   ]
  },
  {
   "cell_type": "code",
   "execution_count": null,
   "metadata": {
    "ExecuteTime": {
     "end_time": "2018-11-06T17:03:01.013800Z",
     "start_time": "2018-11-06T17:03:00.735087Z"
    },
    "hidden": true
   },
   "outputs": [],
   "source": [
    "target_heatmap = tf.identity(model_gt_heatmap)\n",
    "pred_heatmap  = tf.identity(model_fcn_heatmap)\n",
    "active_class_ids = tf.identity(input_image_meta[:,8:])\n",
    "print(target_heatmap, pred_heatmap,active_class_ids)"
   ]
  },
  {
   "cell_type": "code",
   "execution_count": null,
   "metadata": {
    "ExecuteTime": {
     "end_time": "2018-11-05T17:27:58.569318Z",
     "start_time": "2018-11-05T17:27:58.296738Z"
    },
    "hidden": true
   },
   "outputs": [],
   "source": [
    "for i in range(256):\n",
    "    if np.any(model_gt_heatmap[0,i,:,1]):\n",
    "        print(i, model_gt_heatmap[0,i,:,1])\n",
    "        print()\n",
    "        print(i, model_pred_heatmap_norm[0,i,:,1])\n",
    "        print()\n",
    "        print(i, model_fcn_heatmap[0,i,:,1])"
   ]
  },
  {
   "cell_type": "code",
   "execution_count": null,
   "metadata": {
    "ExecuteTime": {
     "end_time": "2018-11-06T17:03:07.170588Z",
     "start_time": "2018-11-06T17:03:06.881893Z"
    },
    "hidden": true
   },
   "outputs": [],
   "source": [
    "sess = KB.get_session()\n",
    "print(' New session obtained from Kras', sess)\n",
    "import keras.losses as KLosses\n",
    "losses = {}\n",
    "losses_mean = {}\n",
    "print()\n",
    "print('---------------------------' )\n",
    "print('>>> fcn_heatmap_loss_graph ' )\n",
    "print('---------------------------' )\n",
    "print('    target_masks :', target_heatmap.get_shape(), KB.shape(target_heatmap), 'KerasTensor: ', KB.is_keras_tensor(target_heatmap))\n",
    "print('    pred_heatmap :', pred_heatmap.get_shape()  , KB.shape(pred_heatmap)  , 'KerasTensor: ', KB.is_keras_tensor(pred_heatmap))\n",
    "\n",
    "loss = KB.binary_crossentropy(target_heatmap[...,1:], pred_heatmap[...,1:], from_logits= True)\n",
    "loss_mean = KB.mean(loss)\n",
    "print('loss: ',loss.shape)    \n",
    "print('loss_mean: ', loss_mean.shape)\n",
    "\n",
    "loss2 = KB.categorical_crossentropy(target_heatmap[...,1:], pred_heatmap[...,1:], from_logits=True)\n",
    "loss_mean2 = KB.mean(loss2)\n",
    "print('loss2: ',loss2.shape)\n",
    "print('loss_mean2: ',loss_mean2.shape)\n",
    "\n",
    "loss3 = KLosses.mean_squared_error(target_heatmap[...,1:], pred_heatmap[...,1:])\n",
    "loss_mean3 = KB.mean(loss3)\n",
    "print('loss3: ',loss3.shape)\n",
    "print('loss_mean3: ',loss_mean3.shape)\n",
    "\n",
    "loss4 = KLosses.mean_absolute_error(target_heatmap[...,1:], pred_heatmap[...,1:])\n",
    "loss_mean4 = KB.mean(loss4)\n",
    "print('loss4: ',loss4.shape)\n",
    "print('loss_mean4: ',loss_mean4.shape)\n",
    " \n",
    "loss5 = KLosses.mean_squared_logarithmic_error(target_heatmap[...,1:], pred_heatmap[...,1:])\n",
    "loss_mean5 = KB.mean(loss5)\n",
    "print('loss5: ',loss5.shape)\n",
    "print('loss_mean5: ',loss_mean5.shape)\n",
    "\n",
    "loss6 = KLosses.squared_hinge(target_heatmap[...,1:], pred_heatmap[...,1:])\n",
    "loss_mean6 = KB.mean(loss6)\n",
    "print('loss6: ',loss6.shape)\n",
    "print('loss_mean6: ',loss_mean6.shape)\n",
    "\n",
    "loss7 = KLosses.hinge(target_heatmap[...,1:], pred_heatmap[...,1:])\n",
    "loss_mean7 = KB.mean(loss7)\n",
    "print('loss7: ',loss7.shape)\n",
    "print('loss_mean7: ',loss_mean7.shape)"
   ]
  },
  {
   "cell_type": "code",
   "execution_count": null,
   "metadata": {
    "ExecuteTime": {
     "end_time": "2018-11-06T17:03:20.965025Z",
     "start_time": "2018-11-06T17:03:13.504713Z"
    },
    "hidden": true
   },
   "outputs": [],
   "source": [
    "with sess.as_default():\n",
    "    r_loss_mean = loss_mean.eval()\n",
    "    r_loss_mean2= loss_mean2.eval()\n",
    "    r_loss_mean3= loss_mean3.eval()\n",
    "    r_loss_mean4= loss_mean4.eval()\n",
    "    r_loss_mean5= loss_mean5.eval()\n",
    "    r_loss_mean6= loss_mean6.eval()\n",
    "    r_loss_mean7= loss_mean7.eval()"
   ]
  },
  {
   "cell_type": "code",
   "execution_count": null,
   "metadata": {
    "ExecuteTime": {
     "end_time": "2018-11-06T17:03:21.013276Z",
     "start_time": "2018-11-06T17:03:20.967968Z"
    },
    "hidden": true
   },
   "outputs": [],
   "source": [
    "print('Binary Cross Entropy      (from logits): ', r_loss_mean)\n",
    "print('Categorical Cross Entropy (from logits): ', r_loss_mean2)\n",
    "print('Mean Squared error                     : ', r_loss_mean3)\n",
    "print('Mean Absolute error                    : ', r_loss_mean4)\n",
    "print('mean_squared_logarithmic_error         : ', r_loss_mean5)\n",
    "print('squared_hinge                          : ', r_loss_mean6)\n",
    "print('hinge                                  : ', r_loss_mean7)"
   ]
  },
  {
   "cell_type": "markdown",
   "metadata": {
    "hidden": true
   },
   "source": [
    "#### Try flattening the results. \n",
    "\n",
    "Results are same except for Categorical Cross Entropy"
   ]
  },
  {
   "cell_type": "code",
   "execution_count": null,
   "metadata": {
    "hidden": true
   },
   "outputs": [],
   "source": [
    "sess = KB.get_session()\n",
    "print(' New session obtained from Kras', sess)\n",
    "import keras.losses as KLosses\n",
    "losses = {}\n",
    "losses_mean = {}\n",
    "print()\n",
    "print('---------------------------' )\n",
    "print('>>> fcn_heatmap_loss_graph ' )\n",
    "print('---------------------------' )\n",
    "print('    target_masks :', target_heatmap.get_shape(), KB.shape(target_heatmap), 'KerasTensor: ', KB.is_keras_tensor(target_heatmap))\n",
    "print('    pred :', pred_heatmap.get_shape()  , KB.shape(pred_heatmap)  , 'KerasTensor: ', KB.is_keras_tensor(pred_heatmap))\n",
    "trgt = tf.transpose(target_heatmap, [0, 3, 1, 2])\n",
    "pred = tf.transpose(pred_heatmap, [0, 3, 1, 2])\n",
    "print('    target_masks :', trgt.get_shape())\n",
    "print('    pred :', pred.get_shape())\n",
    "trgt = tf.reshape(trgt, [KB.shape(trgt)[0],KB.shape(trgt)[1],-1])\n",
    "pred = tf.reshape(pred, [KB.shape(pred)[0],KB.shape(pred)[1],-1])\n",
    "print('    target_masks :', trgt.get_shape())\n",
    "print('    pred :', pred.get_shape())\n",
    "\n",
    "loss = KB.binary_crossentropy(trgt[:,1:,:], pred[:,1:,:], from_logits= True)\n",
    "loss_mean = KB.mean(loss)\n",
    "print('loss: ',loss.shape)    \n",
    "print('loss_mean: ', loss_mean.shape)\n",
    "\n",
    "loss2 = KB.categorical_crossentropy(trgt[:,1:,:], pred[:,1:,:], from_logits=True)\n",
    "loss_mean2 = KB.mean(loss2)\n",
    "print('loss2: ',loss2.shape)\n",
    "print('loss_mean2: ',loss_mean2.shape)\n",
    "\n",
    "loss3 = KLosses.mean_squared_error(trgt[:,1:,:], pred[:,1:,:])\n",
    "loss_mean3 = KB.mean(loss3)\n",
    "print('loss3: ',loss3.shape)\n",
    "print('loss_mean3: ',loss_mean3.shape)\n",
    "\n",
    "loss4 = KLosses.mean_absolute_error(trgt[:,1:,:], pred[:,1:,:])\n",
    "loss_mean4 = KB.mean(loss4)\n",
    "print('loss4: ',loss4.shape)\n",
    "print('loss_mean4: ',loss_mean4.shape)\n",
    " \n",
    "loss5 = KLosses.mean_squared_logarithmic_error(trgt[:,1:,:], pred[:,1:,:])\n",
    "loss_mean5 = KB.mean(loss5)\n",
    "print('loss5: ',loss5.shape)\n",
    "print('loss_mean5: ',loss_mean5.shape)\n",
    "\n",
    "loss6 = KLosses.squared_hinge(trgt[:,1:,:], pred[:,1:,:])\n",
    "loss_mean6 = KB.mean(loss6)\n",
    "print('loss6: ',loss6.shape)\n",
    "print('loss_mean6: ',loss_mean6.shape)\n",
    "\n",
    "loss7 = KLosses.hinge(trgt[:,1:,:], pred[:,1:,:])\n",
    "loss_mean7 = KB.mean(loss7)\n",
    "print('loss7: ',loss7.shape)\n",
    "print('loss_mean7: ',loss_mean7.shape)"
   ]
  },
  {
   "cell_type": "code",
   "execution_count": null,
   "metadata": {
    "hidden": true
   },
   "outputs": [],
   "source": [
    "with sess.as_default():\n",
    "    r_loss_mean = loss_mean.eval()\n",
    "    r_loss_mean2= loss_mean2.eval()\n",
    "    r_loss_mean3= loss_mean3.eval()\n",
    "    r_loss_mean4= loss_mean4.eval()\n",
    "    r_loss_mean5= loss_mean5.eval()\n",
    "    r_loss_mean6= loss_mean6.eval()\n",
    "    r_loss_mean7= loss_mean7.eval()"
   ]
  },
  {
   "cell_type": "code",
   "execution_count": null,
   "metadata": {
    "hidden": true,
    "scrolled": true
   },
   "outputs": [],
   "source": [
    "print('Binary Cross Entropy (logits)     : ', r_loss_mean)\n",
    "print('Categorical Cross Entropy (logits): ', r_loss_mean2)\n",
    "print('Mean Squared error            : ', r_loss_mean3)\n",
    "print('Mean Absolute error           : ', r_loss_mean4)\n",
    "print('mean_squared_logarithmic_error: ', r_loss_mean5)\n",
    "print('squared_hinge                 : ', r_loss_mean6)\n",
    "print('hinge                         : ', r_loss_mean7)"
   ]
  },
  {
   "cell_type": "markdown",
   "metadata": {
    "heading_collapsed": true
   },
   "source": [
    "## Build `fcn_norm_loss_graph()`"
   ]
  },
  {
   "cell_type": "code",
   "execution_count": null,
   "metadata": {
    "ExecuteTime": {
     "end_time": "2018-05-20T17:41:01.276701Z",
     "start_time": "2018-05-20T17:41:01.030033Z"
    },
    "hidden": true
   },
   "outputs": [],
   "source": [
    "def smooth_l1_loss(y_true, y_pred):\n",
    "    \"\"\"Implements Smooth-L1 loss.\n",
    "    y_true and y_pred are typicallly: [N, 4], but could be any shape.\n",
    "    \"\"\"\n",
    "    diff = KB.abs(y_true - y_pred)\n",
    "    less_than_one = KB.cast(KB.less(diff, 1.0), \"float32\")\n",
    "    loss = (less_than_one * 0.5 * diff**2) + (1 - less_than_one) * (diff - 0.5)\n",
    "    return loss\n"
   ]
  },
  {
   "cell_type": "code",
   "execution_count": null,
   "metadata": {
    "ExecuteTime": {
     "end_time": "2018-05-20T17:41:03.447875Z",
     "start_time": "2018-05-20T17:41:03.156120Z"
    },
    "hidden": true,
    "hideCode": false,
    "hidePrompt": false
   },
   "outputs": [],
   "source": [
    "##--------------------------------------------------------------------------\n",
    "## setup input values\n",
    "input_target = tf.identity(gt_heatmap_scores)\n",
    "input_pred   = tf.identity(fcn_scores)\n",
    "# in_tensor = tf.placeholder(tf.float32, shape=[3,4,32,6], name = 'in_tensor')\n",
    "sess = KB.get_session()\n",
    "config = model.config\n",
    "names = ['Dev']\n",
    "##--------------------------------------------------------------------------\n",
    "\n",
    "\n",
    "##-----------------------------------------------------------------------\n",
    "##  FCN loss\n",
    "##-----------------------------------------------------------------------    \n",
    "# def fcn_norm_loss_graph(input_target,  input_pred):\n",
    "with sess.as_default():\n",
    "    '''\n",
    "    Generate Loss based on Normalized score in PRED_HEATMAP_SCORES and FCN_HEATMAP_SCORES \n",
    "    \n",
    "    Inputs:            \n",
    "    gt_heatmap_scores   [batch, num_classes, num_rois, 11 ] --> column 9 contains normalized score.\n",
    "    pred_heatmap:       [batch, num_classes, num_rois, 16 ] --> column 14 contains normalized score\n",
    "    '''\n",
    "    pred_scores   = input_pred[...,14]\n",
    "    target_scores = input_target[...,9]\n",
    "    # Reshape for simplicity. Merge first two dimensions into one.\n",
    "    print('\\n>>> fcn_norm_loss_graph ' )\n",
    "    print('    target_scores shape :', target_scores.shape)\n",
    "    print('    pred_scores   shape :', pred_scores.shape)    \n",
    "\n",
    "    target_scores1 = KB.reshape(target_scores, (-1,1))\n",
    "    print('    target_scores1 shape :', target_scores1.get_shape(), KB.int_shape(target_scores1))        \n",
    "    pred_scores1   = KB.reshape(pred_scores  , (-1,1))\n",
    "    print('    pred_scores1  shape :', pred_scores1.get_shape())        \n",
    "\n",
    "#     # Compute binary cross entropy. If no positive ROIs, then return 0.\n",
    "#     # shape: [batch, roi, num_classes]\n",
    "#     # Smooth-L1 Loss\n",
    "    loss        = KB.switch(tf.size(target_scores1) > 0,\n",
    "                    smooth_l1_loss(y_true=target_scores1, y_pred=pred_scores1),\n",
    "                    tf.constant(0.0))\n",
    "    loss        = KB.mean(loss)\n",
    "    loss        = tf.reshape(loss, [1, 1], name = 'fcn_normalized_loss')\n",
    "    print('    loss type is :', type(loss))\n",
    "    return loss\n",
    "     "
   ]
  },
  {
   "cell_type": "markdown",
   "metadata": {
    "heading_collapsed": true,
    "hideCode": true,
    "hidePrompt": true
   },
   "source": [
    "##  Softmax Sparse Cross Entropy Ignoring Last Label -- Used in Keras FCN"
   ]
  },
  {
   "cell_type": "code",
   "execution_count": null,
   "metadata": {
    "ExecuteTime": {
     "end_time": "2018-04-27T07:53:31.114036Z",
     "start_time": "2018-04-27T07:53:30.853311Z"
    },
    "hidden": true,
    "hideCode": true,
    "hidePrompt": true
   },
   "outputs": [],
   "source": [
    "import keras.backend as K \n",
    "\n",
    "y_pred = tf.placeholder(dtype=tf.float32, shape=(16,320,320,20))\n",
    "y_true = tf.placeholder(dtype=tf.float32, shape=(16,320,320,1))\n",
    "print(K.int_shape(y_pred), K.int_shape(y_true))\n",
    "y_pred = K.reshape(y_pred, (-1, K.int_shape(y_pred)[-1]))\n",
    "print(K.int_shape(y_pred))\n",
    "log_softmax = tf.nn.log_softmax(y_pred)\n",
    "print(K.int_shape(log_softmax))\n",
    "\n",
    "y_true = K.flatten(y_true)\n",
    "print(K.int_shape(y_true))\n",
    "\n",
    "y_true = K.one_hot(tf.to_int32(y_true), K.int_shape(y_pred)[-1]+1)\n",
    "print(K.int_shape(y_true))\n",
    "\n",
    "unpacked = tf.unstack(y_true, axis=-1)\n",
    "print(len(unpacked), unpacked[0].shape)\n",
    "\n",
    "y_true = tf.stack(unpacked[:-1], axis=-1)\n",
    "print(K.int_shape(y_true))\n",
    "\n",
    "\n",
    "cross_entropy = -K.sum(y_true * log_softmax, axis=1)\n",
    "print(K.int_shape(cross_entropy))\n",
    "\n",
    "cross_entropy_mean = K.mean(cross_entropy)\n",
    "print(K.int_shape(cross_entropy_mean))\n",
    "\n",
    "\n",
    "\n",
    "\n",
    "# import keras.backend as K\n",
    "# print(K.int_shape(bef_pos)[-1])\n",
    "# unpacked  = K.flatten(test)\n",
    "# unpacked.shape"
   ]
  },
  {
   "cell_type": "code",
   "execution_count": null,
   "metadata": {
    "hidden": true
   },
   "outputs": [],
   "source": [
    "target_heatmap = tf.identity(model_gt_heatmap)\n",
    "pred_heatmap  = tf.identity(model_fcn_heatmap)\n",
    "active_class_ids = tf.identity(model_active_class_ids)"
   ]
  },
  {
   "cell_type": "code",
   "execution_count": null,
   "metadata": {
    "ExecuteTime": {
     "end_time": "2018-10-29T19:58:10.517952Z",
     "start_time": "2018-10-29T19:58:05.840642Z"
    },
    "hidden": true,
    "scrolled": true
   },
   "outputs": [],
   "source": [
    "print('\\n>>> mrcnn_class_loss_graph ' )\n",
    "print('    target_class_ids  size :', target_heatmap.shape)\n",
    "print('    pred_class_logits size :', pred_heatmap.shape)\n",
    "print('    active_class_ids  size :', active_class_ids.shape)    \n",
    "target_class_ids = tf.cast(target_heatmap, 'int64')\n",
    "\n",
    "# Find predictions of classes that are not in the dataset.\n",
    "\n",
    "pred_class_ids = tf.argmax(pred_heatmap, axis=3)\n",
    "print(' pred_class_ids :',  KB.int_shape(pred_class_ids), 'KerasTensor: ', KB.is_keras_tensor(pred_class_ids))\n",
    "# TODO: Update this line to work with batch > 1. Right now it assumes all\n",
    "#       images in a batch have the same active_class_ids\n",
    "pred_active = tf.gather(active_class_ids[0], pred_class_ids)\n",
    "print('    pred_active :',  KB.int_shape(pred_active), 'KerasTensor: ', KB.is_keras_tensor(pred_active))\n",
    "\n",
    "# Loss\n",
    "loss = tf.nn.softmax_cross_entropy_with_logits(\n",
    "    labels=target_heatmap, logits=pred_heatmap)\n",
    "print('1    loss      :', loss.get_shape(), KB.shape(loss), 'KerasTensor: ', KB.is_keras_tensor(loss))\n",
    "\n",
    "# Erase losses of predictions of classes that are not in the active\n",
    "# classes of the image.\n",
    "loss = loss * pred_active\n",
    "print('2    loss      :', loss.get_shape(), KB.shape(loss), 'KerasTensor: ', KB.is_keras_tensor(loss))\n",
    "\n",
    "# Compute  loss mean. Use only predictions that contribute\n",
    "# to the loss to get a correct mean.\n",
    "\n",
    "mean_loss = tf.reduce_sum(loss) / tf.reduce_sum(pred_active)\n",
    "print('3    mean loss :', loss.get_shape(), KB.shape(loss), 'KerasTensor: ', KB.is_keras_tensor(loss))\n",
    "final_loss = tf.reshape(mean_loss, [1, 1], name = 'mrcnn_class_loss')\n",
    "print('4    reshaped mean loss :', loss.get_shape(), KB.shape(loss), 'KerasTensor: ', KB.is_keras_tensor(loss))\n",
    "# return loss\n",
    "with sess.as_default():\n",
    "    print(tf.reduce_sum(pred_active).eval())\n",
    "    print(tf.reduce_sum(loss).eval()) \n",
    "    print(mean_loss.eval())\n",
    "    r_pred_active = pred_active.eval()\n",
    "    r_target_active = tf.argmax(target_heatmap, axis=3).eval()"
   ]
  },
  {
   "cell_type": "code",
   "execution_count": null,
   "metadata": {
    "ExecuteTime": {
     "end_time": "2018-10-29T19:58:32.565934Z",
     "start_time": "2018-10-29T19:58:32.448261Z"
    },
    "hidden": true,
    "scrolled": false
   },
   "outputs": [],
   "source": [
    "print(r_target_active.shape)\n",
    "for i in range(100,200):\n",
    "    print(i,r_target_active[0,i])"
   ]
  },
  {
   "cell_type": "markdown",
   "metadata": {
    "heading_collapsed": true
   },
   "source": [
    "## Display Input / Output from MRCNN "
   ]
  },
  {
   "cell_type": "markdown",
   "metadata": {
    "heading_collapsed": true,
    "hidden": true
   },
   "source": [
    "####  display Pred_Tensor, Pred_heatmap, mrcnn_class"
   ]
  },
  {
   "cell_type": "code",
   "execution_count": null,
   "metadata": {
    "ExecuteTime": {
     "end_time": "2018-05-22T09:45:42.436974Z",
     "start_time": "2018-05-22T09:45:42.182291Z"
    },
    "hidden": true,
    "hideCode": false,
    "hideOutput": true,
    "scrolled": false
   },
   "outputs": [],
   "source": [
    "np.set_printoptions(precision=4, threshold=None, linewidth=210, suppress=True)\n",
    "img = 0\n",
    "\n",
    "# print(KB.int_shape(output_rois))\n",
    "# print(output_rois[img,:15]*[128, 128,128,128])\n",
    "# print(input_gt_class_ids[0])\n",
    "\n",
    "# print(' Pred_tensor')\n",
    "# print(pred_tensor.shape)\n",
    "# print(pred_tensor[img,:,:10])\n",
    "\n",
    "# print(' gt_tensor')\n",
    "# print(gt_tensor.shape)\n",
    "# print(gt_tensor[img,:,:10])\n",
    "\n",
    "# print(' output_rois')\n",
    "# print(output_rois.shape)\n",
    "# print(output_rois[img,:15] * [128, 128,128,128])\n",
    "\n",
    "\n",
    "# print(' roi_gt_boxes')\n",
    "# print(roi_gt_boxes.shape)\n",
    "# print(roi_gt_boxes[img,:15] * [128, 128,128,128])\n",
    "\n",
    "print(' Pred Heatmap Scores')\n",
    "print(pred_heatmap_scores.dtype)\n",
    "\n",
    "\n",
    "print(' FCN Scores')\n",
    "# print(fcn_scores.dtype)\n",
    "# for cls in range(4):\n",
    "#     for box in range(25):\n",
    "#         print(pred_heatmap_scores[img,cls,box])\n",
    "#         print(gt_heatmap_scores[img, cls,box])\n",
    "#         print()\n",
    "#     print(fcn_scores[img,cls,:10,2:])\n",
    "\n",
    "# img = 2\n",
    "# max_score = np.max(mrcnn_class, axis = -1)\n",
    "# max_class = np.argmax(mrcnn_class, axis = -1)\n",
    "# # print(' output_rois[',img,'] \\n', output_rois[1]*[128,128,128,128])\n",
    "# print('max class shape:',max_class.shape, 'max score shape: ',max_score.shape)\n",
    "# print('max class[',img,']\\n',max_class[img])\n",
    "# print('max score[',img,']\\n',max_score[img])\n",
    "# print('mrcnn class.shape ',mrcnn_class.shape)\n",
    "# print('mrcnn_class[',img,',:]\\n',mrcnn_class[img,:])\n",
    "# print(output_rois[1])\n",
    " "
   ]
  },
  {
   "cell_type": "markdown",
   "metadata": {
    "heading_collapsed": true,
    "hidden": true,
    "hideCode": true,
    "hidePrompt": true
   },
   "source": [
    "####  Display `output_rois`"
   ]
  },
  {
   "cell_type": "code",
   "execution_count": null,
   "metadata": {
    "ExecuteTime": {
     "end_time": "2018-05-21T20:45:16.040038Z",
     "start_time": "2018-05-21T20:45:15.807401Z"
    },
    "hidden": true,
    "hideCode": true,
    "hideOutput": true,
    "hidePrompt": false
   },
   "outputs": [],
   "source": [
    "np.set_printoptions(linewidth=150, precision=6)\n",
    "# print('scatter shape is ', pred_scatt.get_shape())\n",
    "print('output_rois shape is ', output_rois.shape)\n",
    "img = 0\n",
    "for img in range(5):\n",
    "    print('Image ', img , ' ------------')\n",
    "    print(output_rois[img]*[128,128,128,128])"
   ]
  },
  {
   "cell_type": "markdown",
   "metadata": {
    "heading_collapsed": true,
    "hidden": true,
    "hideCode": false,
    "hidePrompt": false
   },
   "source": [
    "####  Display `pred_tensor` "
   ]
  },
  {
   "cell_type": "code",
   "execution_count": null,
   "metadata": {
    "ExecuteTime": {
     "end_time": "2018-05-21T20:46:05.173284Z",
     "start_time": "2018-05-21T20:46:04.920073Z"
    },
    "hidden": true,
    "hideCode": true,
    "hideOutput": false,
    "hidePrompt": false,
    "scrolled": false
   },
   "outputs": [],
   "source": [
    "# with sess.as_default():\n",
    "np.set_printoptions(linewidth=150, precision=6)\n",
    "# print('scatter shape is ', pred_scatt.get_shape())\n",
    "print('pred_tensor shape is ', pred_tensor.shape)\n",
    "img = 0\n",
    "for k in range(4):\n",
    "    print('Image ', img , '/ Class ',k,' ------------')\n",
    "    print(pred_tensor[img,k])"
   ]
  },
  {
   "cell_type": "markdown",
   "metadata": {
    "heading_collapsed": true,
    "hidden": true,
    "hideCode": false,
    "hidePrompt": false
   },
   "source": [
    "####  Display  `gt_tensor` "
   ]
  },
  {
   "cell_type": "code",
   "execution_count": null,
   "metadata": {
    "ExecuteTime": {
     "end_time": "2018-05-17T20:31:43.625908Z",
     "start_time": "2018-05-17T20:31:43.364212Z"
    },
    "hidden": true,
    "hideCode": true,
    "hideOutput": false,
    "hidePrompt": false,
    "scrolled": false
   },
   "outputs": [],
   "source": [
    "np.set_printoptions(linewidth=150, precision=6)\n",
    "print('gt_tensor shape is ', gt_tensor.shape)\n",
    "img = 1\n",
    "for k in range(4):\n",
    "    print('Image ', img , '/ Class ',k,' ------------')\n",
    "    print(gt_tensor[img,k])"
   ]
  },
  {
   "cell_type": "markdown",
   "metadata": {
    "heading_collapsed": true,
    "hidden": true,
    "hideCode": false,
    "hidePrompt": true
   },
   "source": [
    "####  Display `pred_heatmap_scores`  "
   ]
  },
  {
   "cell_type": "code",
   "execution_count": null,
   "metadata": {
    "ExecuteTime": {
     "end_time": "2018-05-21T21:14:28.370605Z",
     "start_time": "2018-05-21T21:14:28.095876Z"
    },
    "hidden": true,
    "hideCode": false,
    "hideOutput": true,
    "hidePrompt": false,
    "scrolled": true
   },
   "outputs": [],
   "source": [
    "# with sess.as_default():\n",
    "np.set_printoptions(linewidth=150, precision=6, suppress=True)\n",
    "# print('scatter shape is ', pred_scatt.get_shape())\n",
    "print('pred_heatmap_scores shape is ', pred_heatmap_scores.shape)\n",
    "for img in [0,1,2]:\n",
    "    for k in range(4):\n",
    "        print('Image ', img , '/ Class ',k,' ------------')\n",
    "        print(np.min(pred_heatmap_scores[img,k,:,8]))\n",
    "        print(pred_heatmap_scores[img,k])"
   ]
  },
  {
   "cell_type": "markdown",
   "metadata": {
    "heading_collapsed": true,
    "hidden": true,
    "hideCode": true,
    "hidePrompt": false
   },
   "source": [
    "####  Display `GT_HEATMAP_SCORES`  "
   ]
  },
  {
   "cell_type": "code",
   "execution_count": null,
   "metadata": {
    "ExecuteTime": {
     "end_time": "2018-05-20T17:25:18.661505Z",
     "start_time": "2018-05-20T17:25:18.406810Z"
    },
    "hidden": true,
    "hideCode": false,
    "hideOutput": true,
    "hidePrompt": false,
    "scrolled": false
   },
   "outputs": [],
   "source": [
    "np.set_printoptions(linewidth=150, precision=6)\n",
    "print('gt_heatmap_scores shape is ', gt_heatmap_scores.shape)\n",
    "img = 1\n",
    "for k in range(4):\n",
    "    print('Image ', img , '/ Class ',k,' ------------')\n",
    "    print(gt_heatmap_scores[img,k])"
   ]
  },
  {
   "cell_type": "markdown",
   "metadata": {
    "heading_collapsed": true,
    "hidden": true,
    "hideCode": true,
    "hidePrompt": false
   },
   "source": [
    "####  Display `FCN_HEATMAP_SCORES`  "
   ]
  },
  {
   "cell_type": "code",
   "execution_count": null,
   "metadata": {
    "ExecuteTime": {
     "end_time": "2018-05-21T21:14:55.327892Z",
     "start_time": "2018-05-21T21:14:55.040309Z"
    },
    "hidden": true,
    "hideCode": false,
    "hideOutput": true,
    "hidePrompt": false
   },
   "outputs": [],
   "source": [
    "np.set_printoptions(linewidth=150, threshold=10000, precision=2)\n",
    "temp = fcn_heatmap_scores\n",
    "print('fcn_heatmap_scores shape is ', temp.shape)\n",
    "# img = 1\n",
    "for img in [1,2,3]:\n",
    "    for k in range(4):\n",
    "        print('Image ', img , '/ Class ',k,' ------------')\n",
    "        print(temp[img,k])\n",
    "    "
   ]
  },
  {
   "cell_type": "markdown",
   "metadata": {
    "heading_collapsed": true,
    "hidden": true,
    "hideCode": false,
    "hidePrompt": false
   },
   "source": [
    "####  Display `pred_heatmap_norm` "
   ]
  },
  {
   "cell_type": "code",
   "execution_count": null,
   "metadata": {
    "ExecuteTime": {
     "end_time": "2018-05-21T20:55:58.752564Z",
     "start_time": "2018-05-21T20:55:58.464796Z"
    },
    "hidden": true,
    "hideCode": false,
    "hideOutput": true
   },
   "outputs": [],
   "source": [
    "print(pred_heatmap_norm.shape)\n",
    "temp = pred_heatmap_norm\n",
    "np.set_printoptions(linewidth=150, threshold=10000, suppress=False)\n",
    "print('  Temp shape :',  temp.shape)\n",
    "temp_sum = np.sum(temp,axis=(1,2))\n",
    "print('temp_sum is ', temp_sum.shape)\n",
    "for i in range(5):\n",
    "    for j in range(4):\n",
    "        print('img ',i,' class ', j, ' sum:',temp_sum[i,j],  ' max: ',np.max(temp[i,:,:,j]),' mean: ', np.mean(temp[i,:,:,j]),' min: ', np.min(temp[i,:,:,j]))    "
   ]
  },
  {
   "cell_type": "markdown",
   "metadata": {
    "hidden": true,
    "hideCode": true,
    "hidePrompt": false
   },
   "source": [
    "\n",
    "####  Display for visual check - `fcn_heatmap is the final result from  `FCN`"
   ]
  },
  {
   "cell_type": "code",
   "execution_count": null,
   "metadata": {
    "ExecuteTime": {
     "end_time": "2018-05-21T20:56:07.906104Z",
     "start_time": "2018-05-21T20:56:07.641900Z"
    },
    "hidden": true,
    "hideCode": false,
    "hideOutput": true,
    "hidePrompt": false,
    "scrolled": false
   },
   "outputs": [],
   "source": [
    "np.set_printoptions(linewidth=150, threshold=10000, suppress=False)\n",
    "temp = fcn_heatmap_norm\n",
    "print('  Temp shape :',  temp.shape)\n",
    "temp_sum = np.sum(temp,axis=(1,2))\n",
    "print('temp_sum is ', temp_sum.shape)\n",
    "for i in range(5):\n",
    "    for j in range(4):\n",
    "        print('img ',i,' class ', j, ' sum:',temp_sum[i,j],  ' max: ',np.max(temp[i,:,:,j]),' mean: ', np.mean(temp[i,:,:,j]),' min: ', np.min(temp[i,:,:,j]))    "
   ]
  },
  {
   "cell_type": "code",
   "execution_count": null,
   "metadata": {
    "ExecuteTime": {
     "end_time": "2018-05-21T21:09:58.924538Z",
     "start_time": "2018-05-21T21:09:58.670388Z"
    },
    "hidden": true,
    "hideCode": false,
    "hideOutput": true
   },
   "outputs": [],
   "source": [
    "np.set_printoptions(linewidth=150, threshold=10000, suppress=False)\n",
    "temp = fcn_heatmap\n",
    "print('  Temp shape :',  temp.shape)\n",
    "temp_sum = np.sum(temp,axis=(1,2))\n",
    "print('temp_sum is ', temp_sum.shape)\n",
    "for i in range(5):\n",
    "    for j in range(4):\n",
    "        print('img ',i,' class ', j, ' sum:',temp_sum[i,j],  ' max: ',np.max(temp[i,:,:,j]),' mean: ', np.mean(temp[i,:,:,j]),' min: ', np.min(temp[i,:,:,j]))    \n",
    "\n",
    "\n",
    "# sess = KB.get_session()\n",
    "# with sess.as_default():\n",
    "#     temp = tf.identity(fcn_heatmap\n",
    "#     np.set_printoptions(linewidth=150, threshold=10000)\n",
    "#     print('  output shapes :',  temp.get_shape())\n",
    "#     temp_sum = tf.reduce_sum(temp, [2,3])\n",
    "#     temp_min = tf.reduce_min(temp, [2,3])\n",
    "#     temp_max = tf.reduce_max(temp, [2,3])\n",
    "#     temp_avg = tf.reduce_mean(temp, [2,3])\n",
    "#     print('temp_sum is ', temp_sum.shape)\n",
    "#     for i in range(5):\n",
    "#         for j in range(4):\n",
    "#                 print('img/cls ',i,'/', j,'  sum:',temp_sum[i,j], 'min',temp_min[i,j] ,'max',temp_max[i,j] ,'avg',temp_avg[i,j])"
   ]
  },
  {
   "cell_type": "code",
   "execution_count": null,
   "metadata": {
    "ExecuteTime": {
     "end_time": "2018-05-21T21:12:55.147060Z",
     "start_time": "2018-05-21T21:12:53.450743Z"
    },
    "hidden": true
   },
   "outputs": [],
   "source": [
    "np.set_printoptions(linewidth=150, threshold=10000, precision = 6,suppress=False)\n",
    "sess = KB.get_session()\n",
    "with sess.as_default():\n",
    "    tmp = tf.identity(fcn_heatmap)\n",
    "    print(tf.shape(tmp).eval())\n",
    "    reduce_max = tf.reduce_max(tmp,axis = [1,2], keepdims=True)\n",
    "    print(tf.shape(reduce_max).eval())\n",
    "    reduce_min = tf.reduce_min(tmp, axis = [1,2], keepdims=True)\n",
    "    print(tf.shape(reduce_min).eval())\n",
    "    print(reduce_min.eval())\n",
    "    print(reduce_max.eval())\n",
    "    y  =  (tmp - reduce_min) / (reduce_max - reduce_min)        \n",
    "    print(tf.shape(y).eval())"
   ]
  },
  {
   "cell_type": "markdown",
   "metadata": {
    "heading_collapsed": true,
    "hidden": true,
    "hideCode": false,
    "hidePrompt": true
   },
   "source": [
    "####  Display `gt_heatmap_scores`  and `fcn_heatmap_scores` "
   ]
  },
  {
   "cell_type": "code",
   "execution_count": null,
   "metadata": {
    "ExecuteTime": {
     "end_time": "2018-05-20T20:01:28.251086Z",
     "start_time": "2018-05-20T20:01:27.923729Z"
    },
    "hidden": true,
    "hideCode": false,
    "hideOutput": true,
    "hidePrompt": false,
    "scrolled": false
   },
   "outputs": [],
   "source": [
    "np.set_printoptions(precision=4, threshold=None, linewidth=200, suppress=True)\n",
    "# print(' gt_tensor')\n",
    "# print(gt_tensor.shape)\n",
    "# print(gt_tensor[img,:,:10])\n",
    "img_id = 1\n",
    "print(' GT Heatmap Scores')\n",
    "\n",
    "print('gt_heatmap_scores: ', model_gt_heatmap_scores.dtype,  model_gt_heatmap_scores.shape)\n",
    "print('pred_heatmap_scores: ', model_pred_heatmap_scores.dtype,  model_pred_heatmap_scores.shape)\n",
    "\n",
    "# print(gt_heatmap_scores[img,1])\n",
    "# for img_id in range(mrcnn_config.BATCH_SIZE):\n",
    "\n",
    "for img_id in [0]:    # print(pred_refined_heatmap_scores[img_id,:4])\n",
    "    pr_class_ids = np.unique(model_pred_heatmap_scores[img_id,:,:,4]).astype(int).tolist()\n",
    "    gt_class_ids = np.unique(model_gt_heatmap_scores[img_id,:,:,4]).astype(int).tolist() \n",
    "    union_class_ids = np.union1d(pr_class_ids, gt_class_ids)\n",
    "    print('-'*56)\n",
    "    print('Image : {}  GT ClassIds: {}   PR ClassIds: {} '.format(img_id, gt_class_ids, pr_class_ids))\n",
    "    print('Image : {}  Union ClassIds: {}'.format(img_id, union_class_ids))\n",
    "    print('-'*56)\n",
    "    for cls in union_class_ids:  \n",
    "        print()\n",
    "        for i in range(10):\n",
    "#             print(' GT: img_id:',img_id, ' cls: ',cls, ' -',gt_tensor[img_id, cls,i]) #, gt_heatmap_scores[img_id, cls,i,7] )\n",
    "#             print(' PR: img_id:',img_id, ' cls: ',cls, ' -',pred_tensor[img_id,cls,i]) #,pred_refined_heatmap_scores[img_id,cls,i,7])\n",
    "\n",
    "            print(' GT: img_id:',img_id, ' cls: ',cls, ' -',model_gt_heatmap_scores[img_id, cls,i]) #, gt_heatmap_scores[img_id, cls,i,7] )\n",
    "            print(' PR: img_id:',img_id, ' cls: ',cls, ' -',model_pred_heatmap_scores[img_id,cls,i]) #,pred_refined_heatmap_scores[img_id,cls,i,7])\n",
    "            print()"
   ]
  },
  {
   "cell_type": "markdown",
   "metadata": {},
   "source": [
    "## Display Heatmaps"
   ]
  },
  {
   "cell_type": "code",
   "execution_count": 27,
   "metadata": {
    "ExecuteTime": {
     "end_time": "2018-12-20T17:04:18.881498Z",
     "start_time": "2018-12-20T17:04:18.566922Z"
    },
    "hideCode": false,
    "hideOutput": false
   },
   "outputs": [],
   "source": [
    "from mrcnn.visualize import (plot_one_bbox_heatmap, plot_3d_heatmap,  plot_2d_heatmap, plot_2d_heatmap_with_bboxes,\n",
    "                            plot_2d_heatmap_compare)\n",
    "\n",
    "import matplotlib as plt\n",
    "\n",
    "%matplotlib inline\n",
    "# print('Image id: ',image_id)\n",
    "img_id = 0\n",
    "class_names = dataset_train.class_names"
   ]
  },
  {
   "cell_type": "markdown",
   "metadata": {},
   "source": [
    "### 2D Plots  "
   ]
  },
  {
   "cell_type": "markdown",
   "metadata": {},
   "source": [
    "####  2D plot of `model_gt_heatmap` returned from model"
   ]
  },
  {
   "cell_type": "code",
   "execution_count": 43,
   "metadata": {
    "ExecuteTime": {
     "end_time": "2018-12-20T17:12:55.229470Z",
     "start_time": "2018-12-20T17:12:54.927597Z"
    }
   },
   "outputs": [
    {
     "name": "stdout",
     "output_type": "stream",
     "text": [
      "[[70  6 88 47]\n",
      " [ 0  0  0  0]\n",
      " [ 0  0  0  0]\n",
      " [ 0  0  0  0]\n",
      " [ 0  0  0  0]\n",
      " [ 0  0  0  0]\n",
      " [ 0  0  0  0]\n",
      " [ 0  0  0  0]\n",
      " [ 0  0  0  0]\n",
      " [ 0  0  0  0]]\n",
      "[[ 70.   6.  88.  47.   2.   1.  32.   1. 738. 738. 738.  60.  60.   1.   1.   1.   1.  60.  60.\n",
      "    1.   1.   1.   1.]\n",
      " [ 70.   6.  88.  47.   2.   1.  31.   1. 738. 738. 738.  60.  60.   1.   1.   1.   1.  60.  60.\n",
      "    1.   1.   1.   1.]\n",
      " [ 70.   6.  88.  47.   2.   1.  30.   1. 738. 738. 738.  60.  60.   1.   1.   1.   1.  60.  60.\n",
      "    1.   1.   1.   1.]\n",
      " [ 70.   6.  88.  47.   2.   1.  29.   1. 738. 738. 738.  60.  60.   1.   1.   1.   1.  60.  60.\n",
      "    1.   1.   1.   1.]\n",
      " [ 70.   6.  88.  47.   2.   1.  28.   1. 738. 738. 738.  60.  60.   1.   1.   1.   1.  60.  60.\n",
      "    1.   1.   1.   1.]\n",
      " [ 70.   6.  88.  47.   2.   1.  27.   1. 738. 738. 738.  60.  60.   1.   1.   1.   1.  60.  60.\n",
      "    1.   1.   1.   1.]\n",
      " [ 70.   6.  88.  47.   2.   1.  26.   1. 738. 738. 738.  60.  60.   1.   1.   1.   1.  60.  60.\n",
      "    1.   1.   1.   1.]\n",
      " [ 70.   6.  88.  47.   2.   1.  25.   1. 738. 738. 738.  60.  60.   1.   1.   1.   1.  60.  60.\n",
      "    1.   1.   1.   1.]\n",
      " [ 70.   6.  88.  47.   2.   1.  24.   1. 738. 738. 738.  60.  60.   1.   1.   1.   1.  60.  60.\n",
      "    1.   1.   1.   1.]\n",
      " [  0.   0.   0.   0.   0.   0.   0.   0.   0.   0.   0.   0.   0.   0.   0.   0.   0.   0.   0.\n",
      "    0.   0.   0.   0.]]\n",
      "[[ 68.443    1.6316  86.7165  46.2677   2.       0.9592  32.       0.9615   0.9981 815.659\n",
      "    0.9597  46.0995  70.       0.6586   1.       1.       0.9318  35.7048  70.       0.5101\n",
      "    0.9499   1.       0.7515]\n",
      " [ 69.6569   5.7055  87.0266  45.7682   2.       0.9276  31.       0.93     0.9969 695.8777\n",
      "    0.9271  35.6094  54.       0.6594   0.7724   0.7714   0.933   36.6512  54.       0.6787\n",
      "    0.9751   0.7714   1.    ]\n",
      " [ 68.1934   4.1182  85.2609  47.1141   2.       0.84    30.       0.8421   0.998  733.8286\n",
      "    0.8404  33.4652  60.       0.5578   0.7259   0.8571   0.7892  27.4254  60.       0.4571\n",
      "    0.7296   0.8571   0.6735]\n",
      " [ 69.4972   6.9499  86.3488  47.3607   2.       0.9975  29.       1.       0.9951 680.9838\n",
      "    0.9951  38.1652  54.       0.7068   0.8279   0.7714   1.      35.0676  54.       0.6494\n",
      "    0.933    0.7714   0.9568]\n",
      " [ 68.392    6.1497  85.9608  45.6253   2.       0.7618  28.       0.7637   0.9971 693.5405\n",
      "    0.7614  29.2132  54.       0.541    0.6337   0.7714   0.7654  32.8474  54.       0.6083\n",
      "    0.8739   0.7714   0.8962]\n",
      " [ 69.7215   6.2876  86.5835  46.691    2.       0.9949  27.       0.9974   0.9941 681.2823\n",
      "    0.9915  37.3359  54.       0.6914   0.8099   0.7714   0.9783  36.6512  54.       0.6787\n",
      "    0.9751   0.7714   1.    ]\n",
      " [ 69.7279   5.9066  86.4956  46.5594   2.       0.9851  26.       0.9876   0.9944 681.6539\n",
      "    0.9821  40.8182  60.       0.6803   0.8854   0.8571   0.9626  37.5872  60.       0.6265\n",
      "    1.       0.8571   0.923 ]\n",
      " [ 70.8457   6.2318  87.2757  46.1946   2.       0.9818  25.       0.9842   0.995  656.5931\n",
      "    0.9794  37.06    54.       0.6863   0.8039   0.7714   0.971   33.1242  54.       0.6134\n",
      "    0.8813   0.7714   0.9038]\n",
      " [ 70.2379   2.8514  86.5056  48.7113   2.       0.9895  24.       0.9919   0.997  746.038\n",
      "    0.989   40.5885  60.       0.6765   0.8805   0.8571   0.9571  37.5589  60.       0.626\n",
      "    0.9992   0.8571   0.9223]\n",
      " [  0.       0.       0.       0.       0.       0.       0.       0.       0.       0.\n",
      "    0.       0.       0.       0.       0.       0.       0.       0.       0.       0.\n",
      "    0.       0.       0.    ]]\n"
     ]
    }
   ],
   "source": [
    "print(results['mrcnn_input'][5][0,:10])\n",
    "print(model_gt_hm_scores[0,2,:10])\n",
    "print(model_pr_hm_scores[0,2,:10])"
   ]
  },
  {
   "cell_type": "code",
   "execution_count": 48,
   "metadata": {
    "ExecuteTime": {
     "end_time": "2018-12-20T17:16:43.987301Z",
     "start_time": "2018-12-20T17:16:42.299082Z"
    },
    "hideCode": false,
    "hideOutput": false,
    "scrolled": false
   },
   "outputs": [
    {
     "name": "stdout",
     "output_type": "stream",
     "text": [
      "(1, 128, 128, 7) (1, 7, 32, 23)\n",
      "Image : 0  GT ClassIds: [0, 2]\n",
      "Image : 0  PR ClassIds: [0, 2]\n",
      " Scaling options are 'all', 'class'/'each', 'clip', or 'none' \n",
      " Shape of Z:  (1, 128, 128, 7)  boxes:  (1, 7, 32, 23)\n",
      " Image Id:  0  Display classes: [0, 2]\n",
      " rows   1  columns : 2 boxes.shape :  (7, 32, 23)\n",
      " min_z_all shape: ()  min_z_all: 0.0  max_z_all: () max_z_all: 1.0\n",
      " min_z_cls shape: (1, 1, 7)  max_z_cls shape: (1, 1, 7)\n",
      " SCALING == none \n"
     ]
    },
    {
     "data": {
      "image/png": "[encoded data removed]",
      "text/plain": [
       "<Figure size 1296x648 with 4 Axes>"
      ]
     },
     "metadata": {},
     "output_type": "display_data"
    },
    {
     "name": "stdout",
     "output_type": "stream",
     "text": [
      " Scaling options are 'all', 'class'/'each', 'clip', or 'none' \n",
      " Shape of Z:  (1, 128, 128, 7)  boxes:  (1, 7, 32, 23)\n",
      " Image Id:  0  Display classes: [0, 2]\n",
      " rows   1  columns : 2 boxes.shape :  (7, 32, 23)\n",
      " min_z_all shape: ()  min_z_all: 0.0  max_z_all: () max_z_all: 1.0\n",
      " min_z_cls shape: (1, 1, 7)  max_z_cls shape: (1, 1, 7)\n",
      " SCALING == none \n"
     ]
    },
    {
     "data": {
      "image/png": "[encoded data removed]",
      "text/plain": [
       "<Figure size 1296x648 with 4 Axes>"
      ]
     },
     "metadata": {},
     "output_type": "display_data"
    }
   ],
   "source": [
    "for img_id in [0]:     ##range(mrcnn_config.BATCH_SIZE):\n",
    "    print(model_gt_hm.shape, model_gt_hm_scores.shape)\n",
    "    gt_class_ids = np.unique(model_gt_hm_scores[img_id,:,:,4]).astype(int).tolist()\n",
    "    pr_class_ids = np.unique(model_pr_hm_scores[img_id,:,:,4]).astype(int).tolist()    \n",
    "    print('Image : {}  GT ClassIds: {}'.format(img_id, gt_class_ids))\n",
    "    print('Image : {}  PR ClassIds: {}'.format(img_id, pr_class_ids))\n",
    "#     plot_2d_heatmap_with_bboxes(model_gt_hm, model_gt_hm_scores, \n",
    "#                                 img_id, class_ids, class_names = class_names, size = (9,9), scale = 4)\n",
    "    plot_2d_heatmap(model_gt_hm, model_gt_hm_scores, \n",
    "                                img_id, class_ids, class_names = class_names, size = (9,9), scale = 1)\n",
    "    plot_2d_heatmap(model_pr_hm, model_pr_hm_scores, \n",
    "                                img_id, class_ids, class_names = class_names, size = (9,9), scale = 1)"
   ]
  },
  {
   "cell_type": "markdown",
   "metadata": {},
   "source": [
    "####  2D plot of `model_fcn_heatmap` returned from model"
   ]
  },
  {
   "cell_type": "code",
   "execution_count": 50,
   "metadata": {
    "ExecuteTime": {
     "end_time": "2018-12-20T17:17:00.792506Z",
     "start_time": "2018-12-20T17:16:59.736985Z"
    },
    "hideCode": false,
    "hideOutput": false,
    "scrolled": false
   },
   "outputs": [
    {
     "name": "stdout",
     "output_type": "stream",
     "text": [
      "(1, 128, 128, 7)\n",
      "Image : 0  ClassIds: [0, 2]\n",
      " Scaling options are 'all', 'class'/'each', 'clip', or 'none' \n",
      " Shape of Z:  (1, 128, 128, 7)  boxes:  (1, 7, 32, 23)\n",
      " Image Id:  0  Display classes: [0, 2]\n",
      " rows   1  columns : 2 boxes.shape :  (7, 32, 23)\n",
      " min_z_all shape: ()  min_z_all: -0.0026486753  max_z_all: () max_z_all: 0.003029962\n",
      " min_z_cls shape: (1, 1, 7)  max_z_cls shape: (1, 1, 7)\n",
      " SCALING == none \n"
     ]
    },
    {
     "data": {
      "image/png": "[encoded data removed]",
      "text/plain": [
       "<Figure size 1296x648 with 4 Axes>"
      ]
     },
     "metadata": {},
     "output_type": "display_data"
    }
   ],
   "source": [
    "for img_id in [0]:     ##range(mrcnn_config.BATCH_SIZE):\n",
    "    print(model_fcn_hm.shape)\n",
    "    class_ids = np.unique(model_fcn_hm_scores[img_id,:,:,4]).astype(int).tolist()\n",
    "    print('Image : {}  ClassIds: {}'.format(img_id, class_ids))\n",
    "    plot_2d_heatmap(model_fcn_hm, model_fcn_hm_scores, \n",
    "                                img_id, class_ids,size=(9,9), class_names = class_names, scale = 1)"
   ]
  },
  {
   "cell_type": "markdown",
   "metadata": {
    "heading_collapsed": true
   },
   "source": [
    "####  2D plot of `model_fcn_heatmap` returned from model - ALL CLASSES"
   ]
  },
  {
   "cell_type": "code",
   "execution_count": null,
   "metadata": {
    "ExecuteTime": {
     "end_time": "2018-10-29T20:38:21.606454Z",
     "start_time": "2018-10-29T20:37:34.407214Z"
    },
    "hidden": true,
    "hideCode": false,
    "hideOutput": false,
    "scrolled": false
   },
   "outputs": [],
   "source": [
    "from mrcnn.visualize import plot_2d_heatmap_all_classes\n",
    "for img_id in [0]: ##range(mrcnn_config.BATCH_SIZE):\n",
    "    class_ids = np.unique(model_pred_heatmap_scores[img_id,:,:,4]).astype(int).tolist()\n",
    "    print('Image : {}  Pred ClassIds: {}'.format(img_id, class_ids))\n",
    "    print('            Gt   ClassIds: {}'.format(np.unique(model_gt_heatmap_scores[img_id,:,:,4]).astype(int).tolist()))\n",
    "#     plot_3d_heatmap(model_fcn_heatmap, img_id, class_ids,class_names = class_names, size = (8,8), zlim=0)\n",
    "#     plot_2d_heatmap_with_bboxes(model_fcn_heatmap[...,:class_ids[-1]+1], model_gt_heatmap_scores, img_id, \n",
    "#                                 class_ids, class_names = class_names, columns = 2, scale = 4)\n",
    "    plot_2d_heatmap_all_classes(model_fcn_heatmap, model_gt_heatmap_scores, img_id,class_names = class_names, columns = 2, scale = 4)"
   ]
  },
  {
   "cell_type": "markdown",
   "metadata": {
    "heading_collapsed": true
   },
   "source": [
    "####  2D plot of `pred_heatmap_norm` returned from MRCNN "
   ]
  },
  {
   "cell_type": "code",
   "execution_count": null,
   "metadata": {
    "ExecuteTime": {
     "end_time": "2018-10-29T18:39:32.196057Z",
     "start_time": "2018-10-29T18:39:28.404045Z"
    },
    "hidden": true,
    "hideCode": false,
    "hideOutput": false,
    "scrolled": false
   },
   "outputs": [],
   "source": [
    "for img_id in [0]: ## range(mrcnn_config.BATCH_SIZE):\n",
    "    # print(pred_refined_heatmap_scores[img_id,:4])\n",
    "    print(model_pred_heatmap_norm.shape)\n",
    "    class_ids = np.unique(model_pred_heatmap_scores[img_id,:,:,4]).astype(int).tolist()\n",
    "    print('Image : {}  ClassIds: {}'.format(img_id, class_ids))\n",
    "    \n",
    "    plot_2d_heatmap_with_bboxes(model_pred_heatmap_norm, model_pred_heatmap_scores, \n",
    "                                img_id, class_ids, class_names = class_names, size = (9,9), scale = 4)\n",
    "#     plot_2d_heatmap(pred_heatmap_norm, img_id, class_ids, width=6, height=6, class_names = class_names)\n"
   ]
  },
  {
   "cell_type": "markdown",
   "metadata": {
    "heading_collapsed": true
   },
   "source": [
    "###  3D Plots"
   ]
  },
  {
   "cell_type": "markdown",
   "metadata": {
    "hidden": true
   },
   "source": [
    "####  3D plot of  `gt_heatmap_norm` returned form code above"
   ]
  },
  {
   "cell_type": "code",
   "execution_count": null,
   "metadata": {
    "ExecuteTime": {
     "end_time": "2018-10-30T16:49:32.708008Z",
     "start_time": "2018-10-30T16:49:32.625441Z"
    },
    "hidden": true,
    "hideCode": false,
    "hideOutput": false,
    "scrolled": false
   },
   "outputs": [],
   "source": [
    "for img_id in [0]: ## range(mrcnn_config.BATCH_SIZE):\n",
    "    print(model_gt_heatmap.shape)\n",
    "    class_ids = np.unique(model_gt_heatmap_scores[img_id,:,:,4]).astype(int).tolist()\n",
    "    print('Image : {}  ClassIds: {}'.format(img_id, class_ids))\n",
    "    plot_3d_heatmap(model_gt_heatmap, img_id, class_ids, class_names = class_names, size=(7,7))\n"
   ]
  },
  {
   "cell_type": "markdown",
   "metadata": {
    "heading_collapsed": true,
    "hidden": true
   },
   "source": [
    "####  3D plot of `pred_heatmap_norm` returned form model"
   ]
  },
  {
   "cell_type": "code",
   "execution_count": null,
   "metadata": {
    "ExecuteTime": {
     "end_time": "2018-10-29T18:39:59.834937Z",
     "start_time": "2018-10-29T18:39:54.969460Z"
    },
    "hidden": true,
    "hideCode": false,
    "hideOutput": false,
    "scrolled": false
   },
   "outputs": [],
   "source": [
    "for img_id in [0]: ##range(mrcnn_config.BATCH_SIZE):\n",
    "    print(model_pred_heatmap_norm.shape)\n",
    "    class_ids = np.unique(model_pred_heatmap_scores[img_id,:,:,4]).astype(int).tolist()\n",
    "    print('Image : {}  ClassIds: {}'.format(img_id, class_ids))\n",
    "    plot_3d_heatmap(model_pred_heatmap_norm, img_id, class_ids, class_names = class_names, size=(8,8) )\n"
   ]
  },
  {
   "cell_type": "markdown",
   "metadata": {
    "heading_collapsed": true,
    "hidden": true
   },
   "source": [
    "####  3D plot of `fcn_heatmap` returned form model - only classes in pred_scores"
   ]
  },
  {
   "cell_type": "code",
   "execution_count": null,
   "metadata": {
    "ExecuteTime": {
     "end_time": "2018-10-29T18:46:47.068108Z",
     "start_time": "2018-10-29T18:46:36.401998Z"
    },
    "hidden": true,
    "hideCode": false,
    "hideOutput": false,
    "scrolled": false
   },
   "outputs": [],
   "source": [
    "for img_id in [0]: ##range(mrcnn_config.BATCH_SIZE):\n",
    "    print(model_fcn_heatmap.shape)\n",
    "    class_ids = np.unique(model_pred_heatmap_scores[img_id,:,:,4]).astype(int).tolist()\n",
    "    print('Image : {}  ClassIds: {}'.format(img_id, class_ids))\n",
    "    plot_3d_heatmap(model_fcn_heatmap, img_id, class_ids,class_names = class_names, size = (8,8), zlim=0)\n"
   ]
  },
  {
   "cell_type": "markdown",
   "metadata": {
    "hidden": true
   },
   "source": [
    "####  3D plot of `fcn_heatmap` returned form model - all classes"
   ]
  },
  {
   "cell_type": "code",
   "execution_count": null,
   "metadata": {
    "ExecuteTime": {
     "end_time": "2018-11-05T16:36:16.188191Z",
     "start_time": "2018-11-05T16:36:16.183255Z"
    },
    "hidden": true,
    "hideCode": false,
    "hideOutput": false,
    "scrolled": false
   },
   "outputs": [],
   "source": [
    "# for img_id in [0]: ##range(mrcnn_config.BATCH_SIZE):\n",
    "#     class_ids = np.unique(model_pred_heatmap_scores[img_id,:,:,4]).astype(int).tolist()\n",
    "#     print('Image : {}  ClassIds: {}'.format(img_id, class_ids))\n",
    "# #     plot_3d_heatmap(model_fcn_heatmap, img_id, class_ids,class_names = class_names, size = (8,8), zlim=0)\n",
    "#     plot_3d_heatmap_all_classes(model_fcn_heatmap[...,:class_ids[-1]+1], img_id, class_names = class_names, size = (8,8), zlim=0.0)\n"
   ]
  },
  {
   "cell_type": "markdown",
   "metadata": {
    "hidden": true
   },
   "source": [
    "####  3D comparative display `pred_heatmap` / `fcn_heatmap` "
   ]
  },
  {
   "cell_type": "code",
   "execution_count": null,
   "metadata": {
    "ExecuteTime": {
     "end_time": "2018-10-29T18:57:03.165881Z",
     "start_time": "2018-10-29T18:56:47.654612Z"
    },
    "hidden": true,
    "hideCode": false,
    "hideOutput": false,
    "scrolled": false
   },
   "outputs": [],
   "source": [
    "from mrcnn.visualize import plot_3d_heatmap_compare\n",
    "for img_id in [0]: ##range(mrcnn_config.BATCH_SIZE):\n",
    "    print(model_pred_heatmap_norm.shape)\n",
    "    class_ids = np.unique(model_pred_heatmap_scores[img_id,:,:,4]).astype(int).tolist()\n",
    "    print('Image : {}  ClassIds: {}'.format(img_id, class_ids))\n",
    "    plot_3d_heatmap_compare(model_pred_heatmap_norm,model_fcn_heatmap, img_id, class_ids, class_names = class_names, size=(8,8), zlim = 0 )\n"
   ]
  },
  {
   "cell_type": "markdown",
   "metadata": {
    "heading_collapsed": true,
    "hidden": true
   },
   "source": [
    "####  3D comparative display `gt_heatmap` / `fcn_heatmap` "
   ]
  },
  {
   "cell_type": "code",
   "execution_count": null,
   "metadata": {
    "ExecuteTime": {
     "end_time": "2018-10-29T11:25:00.337744Z",
     "start_time": "2018-10-29T11:24:55.650684Z"
    },
    "hidden": true,
    "hideCode": false,
    "hideOutput": false,
    "scrolled": false
   },
   "outputs": [],
   "source": [
    "from mrcnn.visualize import plot_3d_heatmap_compare\n",
    "for img_id in [0]: ##range(mrcnn_config.BATCH_SIZE):\n",
    "    class_ids = np.unique(model_gt_heatmap_scores[img_id,:,:,4]).astype(int).tolist()\n",
    "    print('Image : {}  ClassIds: {}'.format(img_id, class_ids))\n",
    "    plot_3d_heatmap_compare(model_gt_heatmap,model_fcn_heatmap, img_id, class_ids, class_names = class_names, size=(8,8), zlim = 0 )\n"
   ]
  },
  {
   "cell_type": "markdown",
   "metadata": {
    "hidden": true
   },
   "source": [
    "####  2D comparative display `pred_heatmap` / `fcn_heatmap`  "
   ]
  },
  {
   "cell_type": "code",
   "execution_count": null,
   "metadata": {
    "ExecuteTime": {
     "end_time": "2018-10-29T18:51:37.246007Z",
     "start_time": "2018-10-29T18:51:29.204960Z"
    },
    "hidden": true,
    "hideCode": false,
    "hideOutput": false,
    "scrolled": false
   },
   "outputs": [],
   "source": [
    "from mrcnn.visualize import plot_2d_heatmap_compare\n",
    "for img_id in [0]: ##range(mrcnn_config.BATCH_SIZE):\n",
    "    class_ids = np.unique(model_pred_heatmap_scores[img_id,:,:,4]).astype(int).tolist()\n",
    "    print('Image : {}  ClassIds: {}'.format(img_id, class_ids))\n",
    "    plot_2d_heatmap_compare(model_pred_heatmap_norm, model_fcn_heatmap, model_pred_heatmap_scores,\n",
    "                            img_id, class_ids, class_names = class_names, size=(8,8), scale = 4 )"
   ]
  },
  {
   "cell_type": "markdown",
   "metadata": {
    "heading_collapsed": true
   },
   "source": [
    "##  Misc code"
   ]
  },
  {
   "cell_type": "markdown",
   "metadata": {
    "hidden": true,
    "hideCode": true,
    "hidePrompt": true
   },
   "source": [
    "###  Run TF session"
   ]
  },
  {
   "cell_type": "code",
   "execution_count": null,
   "metadata": {
    "ExecuteTime": {
     "end_time": "2018-05-14T22:50:07.054593Z",
     "start_time": "2018-05-14T22:50:05.476250Z"
    },
    "hidden": true,
    "hideCode": true,
    "hidePrompt": true
   },
   "outputs": [],
   "source": [
    "feed_dict = {input_tensor: pred_tensor}\n",
    "# fetches = [nz_boxes, int_masks]\n",
    "fetches = [bboxes, output, reshape_tensor, final_output]\n",
    "sess = tf.Session()\n",
    "print(' tfsession() is ', sess)\n",
    "sess.run(tf.global_variables_initializer())\n",
    "tt = sess.run(fetches, feed_dict = feed_dict )\n",
    "print(type(tt), len(tt))\n",
    "sess.close()"
   ]
  },
  {
   "cell_type": "code",
   "execution_count": null,
   "metadata": {
    "ExecuteTime": {
     "end_time": "2018-05-10T15:10:04.730267Z",
     "start_time": "2018-05-10T15:10:00.524802Z"
    },
    "hidden": true,
    "hideCode": false,
    "hidePrompt": true
   },
   "outputs": [],
   "source": [
    "feed_dict = {in_tensor: pred_tensor}\n",
    "fetches = [stacked_tensor, rnd_tensor, gauss_sum]\n",
    "sess = tf.Session()\n",
    "print(' tfsession() is ', sess)\n",
    "tt = sess.run(fetches, feed_dict = feed_dict )\n",
    "print(type(tt), len(tt))\n",
    "sess.close()"
   ]
  }
 ],
 "metadata": {
  "anaconda-cloud": {},
  "celltoolbar": "Hide code",
  "hide_code_all_hidden": true,
  "kernelspec": {
   "display_name": "Python [conda env:TFG]",
   "language": "python",
   "name": "conda-env-TFG-py"
  },
  "language_info": {
   "codemirror_mode": {
    "name": "ipython",
    "version": 3
   },
   "file_extension": ".py",
   "mimetype": "text/x-python",
   "name": "python",
   "nbconvert_exporter": "python",
   "pygments_lexer": "ipython3",
   "version": "3.5.4"
  },
  "toc": {
   "base_numbering": 1,
   "nav_menu": {
    "height": "363px",
    "width": "727px"
   },
   "number_sections": true,
   "sideBar": true,
   "skip_h1_title": false,
   "title_cell": "Table of Contents",
   "title_sidebar": "Contents",
   "toc_cell": false,
   "toc_position": {},
   "toc_section_display": true,
   "toc_window_display": false
  }
 },
 "nbformat": 4,
 "nbformat_minor": 2
}
