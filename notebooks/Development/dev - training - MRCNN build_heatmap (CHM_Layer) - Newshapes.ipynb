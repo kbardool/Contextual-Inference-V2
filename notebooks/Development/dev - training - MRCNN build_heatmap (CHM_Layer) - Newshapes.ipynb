{
 "cells": [
  {
   "cell_type": "markdown",
   "metadata": {
    "hideCode": false,
    "hidePrompt": false
   },
   "source": [
    "## Development notebook for `build_predictions()` and `build_heatmap()`\n"
   ]
  },
  {
   "cell_type": "code",
   "execution_count": null,
   "metadata": {
    "ExecuteTime": {
     "end_time": "2018-12-22T17:57:06.635054Z",
     "start_time": "2018-12-22T17:57:06.631071Z"
    }
   },
   "outputs": [],
   "source": [
    "# np_format = {}\n",
    "# np_format['float'] =  lambda x: \"%10.4f\" % x\n",
    "# np_format['int']   =  lambda x: \"%10d\" % x\n",
    "# np.set_printoptions(linewidth=195, precision=4, floatmode='fixed', threshold =10000, formatter = np_format)"
   ]
  },
  {
   "cell_type": "code",
   "execution_count": 2,
   "metadata": {
    "ExecuteTime": {
     "end_time": "2019-02-08T13:47:09.516238Z",
     "start_time": "2019-02-08T13:47:09.417142Z"
    },
    "hideCode": false,
    "hideOutput": true,
    "hidePrompt": false
   },
   "outputs": [
    {
     "data": {
      "text/html": [
       "<style>.container { width:95% !important; }</style>"
      ],
      "text/plain": [
       "<IPython.core.display.HTML object>"
      ]
     },
     "metadata": {},
     "output_type": "display_data"
    },
    {
     "name": "stdout",
     "output_type": "stream",
     "text": [
      "The autoreload extension is already loaded. To reload it, use:\n",
      "  %reload_ext autoreload\n",
      "Current working dir:  /home/kbardool/git_projs/mrcnn3/notebooks\n"
     ]
    }
   ],
   "source": [
    "from IPython.core.display import display, HTML\n",
    "display(HTML(\"<style>.container { width:95% !important; }</style>\"))\n",
    "%matplotlib inline\n",
    "%load_ext autoreload\n",
    "%autoreload 2\n",
    "import os, sys, math, io, time, gc, argparse, platform, pprint, pickle, copy\n",
    "import numpy as np\n",
    "import tensorflow as tf\n",
    "import keras\n",
    "import keras.backend as KB\n",
    "sys.path.append('../')\n",
    "\n",
    "print('Current working dir: ', os.getcwd())\n",
    "if '../..' not in sys.path:\n",
    "    print(\"appending '..' to sys.path\")\n",
    "    sys.path.append('../..')\n",
    "\n",
    "syst = platform.system()\n",
    "if syst == 'Windows':\n",
    "    dataset_path = \"E:/git_projs/MRCNN3/train_newshapes/\"\n",
    "elif syst == 'Linux':\n",
    "    dataset_path = \"/home/kbardool/mrcnn3/train_newshapes/\"\n",
    "else :\n",
    "    raise Error('unrecognized system ') \n",
    "import mrcnn.visualize     as visualize\n",
    "import mrcnn.visualize_2     as vis2\n",
    "import mrcnn.utils         as utils\n",
    "import mrcnn.prep_notebook as prep\n",
    "from datetime            import datetime   \n",
    "from mrcnn.utils         import command_line_parser, Paths, logt\n",
    "from mrcnn.config        import Config\n",
    "from mrcnn.dataset       import Dataset \n",
    "from mrcnn.prep_notebook import build_mrcnn_training_pipeline_newshapes, build_fcn_training_pipeline_newshapes\n",
    "# from mrcnn.prep_notebook import build_mrcnn_training_pipeline_newshapes\n",
    "from mrcnn.newshapes     import prep_newshape_dataset\n",
    "from mrcnn.datagen       import data_gen_simulate\n",
    "\n",
    "pp = pprint.PrettyPrinter(indent=2, width=100)\n",
    "np.set_printoptions(linewidth=100,precision=4,threshold=1000, suppress = True)"
   ]
  },
  {
   "cell_type": "code",
   "execution_count": 3,
   "metadata": {
    "ExecuteTime": {
     "end_time": "2019-02-08T13:47:09.579623Z",
     "start_time": "2019-02-08T13:47:09.518796Z"
    },
    "hideCode": false,
    "hideOutput": true,
    "hidePrompt": false,
    "scrolled": true
   },
   "outputs": [
    {
     "name": "stdout",
     "output_type": "stream",
     "text": [
      "\n",
      "   Arguments passed :\n",
      "   --------------------\n",
      "   batch_size                     2\n",
      "   coco_classes                   None\n",
      "   epochs                         2\n",
      "   evaluate_method                1\n",
      "   fcn_arch                       FCN8L2\n",
      "   fcn_bce_loss_class             0\n",
      "   fcn_bce_loss_method            1\n",
      "   fcn_layers                     ['all']\n",
      "   fcn_logs_dir                   train_fcn8L2_newshapes\n",
      "   fcn_losses                     fcn_BCE_loss\n",
      "   fcn_model                      init\n",
      "   last_epoch                     0\n",
      "   lr                             0.00001\n",
      "   mrcnn_exclude_layers           None\n",
      "   mrcnn_layers                   ['mrcnn', 'fpn', 'rpn']\n",
      "   mrcnn_logs_dir                 train_mrcnn_newshapes\n",
      "   mrcnn_model                    last\n",
      "   new_log_folder                 True\n",
      "   opt                            ADAGRAD\n",
      "   scale_factor                   1\n",
      "   steps_in_epoch                 10\n",
      "   sysout                         SCREEN\n",
      "   val_steps                      2\n",
      "\n",
      "\n"
     ]
    }
   ],
   "source": [
    "##------------------------------------------------------------------------------------\n",
    "## Parse command line arguments\n",
    "##------------------------------------------------------------------------------------\n",
    "parser = command_line_parser()\n",
    "input_parms = \" --epochs          2 \"\n",
    "input_parms +=\" --steps_in_epoch 10 \" \n",
    "input_parms +=\" --val_steps       2 \" \n",
    "input_parms +=\" --last_epoch      0 \"\n",
    "input_parms +=\" --batch_size      2 \"\n",
    "input_parms +=\" --lr        0.00001 \"\n",
    "input_parms +=\" --mrcnn_logs_dir train_mrcnn_newshapes\"\n",
    "input_parms +=\" --fcn_logs_dir   train_fcn8L2_newshapes \" \n",
    "input_parms +=\" --fcn_bce_loss_method    1  \" \n",
    "# input_parms +=\" --fcn_bce_loss_class     3  \"\n",
    "input_parms +=\" --scale_factor     1 \" \n",
    "input_parms +=\" --mrcnn_model    last \"\n",
    "input_parms +=\" --fcn_model      init \"\n",
    "input_parms +=\" --fcn_arch       fcn8l2 \" \n",
    "input_parms +=\" --fcn_layers     all \" \n",
    "input_parms +=\" --sysout        screen \"\n",
    "input_parms +=\" --new_log_folder   \"        \n",
    "\n",
    "parser = utils.command_line_parser()\n",
    "args = parser.parse_args(input_parms.split())\n",
    "utils.display_input_parms(args)"
   ]
  },
  {
   "cell_type": "markdown",
   "metadata": {},
   "source": [
    "#### Build Mrcnn model"
   ]
  },
  {
   "cell_type": "code",
   "execution_count": 4,
   "metadata": {
    "ExecuteTime": {
     "end_time": "2019-02-08T13:47:50.012434Z",
     "start_time": "2019-02-08T13:47:18.009580Z"
    },
    "scrolled": true
   },
   "outputs": [
    {
     "name": "stdout",
     "output_type": "stream",
     "text": [
      ">>> Initialize Paths\n",
      " Linx  Linux\n",
      "\n",
      "   Arguments passed :\n",
      "   --------------------\n",
      "   batch_size                     2\n",
      "   coco_classes                   None\n",
      "   epochs                         2\n",
      "   evaluate_method                1\n",
      "   fcn_arch                       FCN8L2\n",
      "   fcn_bce_loss_class             0\n",
      "   fcn_bce_loss_method            1\n",
      "   fcn_layers                     ['all']\n",
      "   fcn_logs_dir                   train_fcn8L2_newshapes\n",
      "   fcn_losses                     fcn_BCE_loss\n",
      "   fcn_model                      init\n",
      "   last_epoch                     0\n",
      "   lr                             0.00001\n",
      "   mrcnn_exclude_layers           None\n",
      "   mrcnn_layers                   ['mrcnn', 'fpn', 'rpn']\n",
      "   mrcnn_logs_dir                 train_mrcnn_newshapes\n",
      "   mrcnn_model                    last\n",
      "   new_log_folder                 True\n",
      "   opt                            ADAGRAD\n",
      "   scale_factor                   1\n",
      "   steps_in_epoch                 10\n",
      "   sysout                         SCREEN\n",
      "   val_steps                      2\n",
      "\n",
      "\n",
      "\n",
      "   Paths:\n",
      "   -------------------------\n",
      "   COCO_DATASET_PATH              /home/kbardool/MLDatasets/coco2014\n",
      "   COCO_HEATMAP_PATH              /home/kbardool/MLDatasets/coco2014_heatmaps\n",
      "   COCO_MODEL_PATH                /home/kbardool/PretrainedModels/mask_rcnn_coco.h5\n",
      "   DIR_DATASET                    /home/kbardool/MLDatasets\n",
      "   DIR_PRETRAINED                 /home/kbardool/PretrainedModels\n",
      "   DIR_ROOT                       /home/kbardool/git_projs/mrcnn3/notebooks\n",
      "   DIR_TRAINING                   /home/kbardool/models_newshapes\n",
      "   FCN_TRAINING_PATH              /home/kbardool/models_newshapes/train_fcn8L2_newshapes\n",
      "   FCN_VGG16_MODEL_PATH           /home/kbardool/PretrainedModels/fcn_vgg16_weights_tf_dim_ordering_tf_kernels.h5\n",
      "   MRCNN_TRAINING_PATH            /home/kbardool/models_newshapes/train_mrcnn_newshapes\n",
      "   RESNET_MODEL_PATH              /home/kbardool/PretrainedModels/resnet50_weights_tf_dim_ordering_tf_kernels_notop.h5\n",
      "   SHAPES_MODEL_PATH              /home/kbardool/PretrainedModels/mask_rcnn_shapes.h5\n",
      "   VGG16_MODEL_PATH               /home/kbardool/PretrainedModels/vgg16_weights_tf_dim_ordering_tf_kernels_notop.h5\n",
      "\n",
      ">>> Initialize ModelBase model \n",
      "   Mode      :  training\n",
      "   Model dir :  /home/kbardool/models_newshapes/train_mrcnn_newshapes\n",
      ">>> set_log_dir(): model_path:  None\n",
      "    set_log_dir(): model_path has NOT been provided : None \n",
      "                   NewFolder: False  config.NEW_LOG_FOLDER: True \n",
      "    set_log_dir(): weight file template (self.checkpoint_path): /home/kbardool/models_newshapes/train_mrcnn_newshapes/mrcnn20190208T1347/mrcnn_{epoch:04d}.h5 \n",
      "    set_log_dir(): weight file dir      (self.log_dir)        : /home/kbardool/models_newshapes/train_mrcnn_newshapes/mrcnn20190208T1347 \n",
      "    set_log_dir(): Last completed epoch (self.epoch)          : 0 \n",
      ">>> ModelBase initialiation complete\n",
      ">>> ---Initialize MRCNN model, mode:  training\n",
      "\n",
      "----------------------------\n",
      ">>> Resnet Graph \n",
      "----------------------------\n",
      "     Input_image shape : (?, 128, 128, 3)\n",
      "    After ZeroPadding2D            :  shape: (?, 134, 134, 3)      KB.shape:(None, 134, 134, 3)   Keras Tensor: True\n",
      "    After Conv2D padding :         :  shape: (?, 64, 64, 64)       KB.shape:(None, 64, 64, 64)    Keras Tensor: True\n",
      "    After BatchNorm                :  shape: (?, 64, 64, 64)       KB.shape:(None, 64, 64, 64)    Keras Tensor: True\n",
      "    C1                             :  shape: (?, 32, 32, 64)       KB.shape:(None, 32, 32, 64)    Keras Tensor: True\n",
      "    C2                             :  shape: (?, 32, 32, 256)      KB.shape:(None, 32, 32, 256)   Keras Tensor: True\n",
      "    C3                             :  shape: (?, 16, 16, 512)      KB.shape:(None, 16, 16, 512)   Keras Tensor: True\n",
      "    C4                             :  shape: (?, 8, 8, 1024)       KB.shape:(None, 8, 8, 1024)    Keras Tensor: True\n",
      "    C5                             :  shape: (?, 4, 4, 2048)       KB.shape:(None, 4, 4, 2048)    Keras Tensor: True\n",
      "self.verbose: 1\n",
      "\n",
      ">>> Feature Pyramid Network (FPN) Graph \n",
      "    Input FPN C5                   :  shape: (?, 4, 4, 2048)       KB.shape:(None, 4, 4, 2048)    Keras Tensor: True\n",
      "    Input FPN C4                   :  shape: (?, 8, 8, 1024)       KB.shape:(None, 8, 8, 1024)    Keras Tensor: True\n",
      "    Input FPN C3                   :  shape: (?, 16, 16, 512)      KB.shape:(None, 16, 16, 512)   Keras Tensor: True\n",
      "    Input FPN C2                   :  shape: (?, 32, 32, 256)      KB.shape:(None, 32, 32, 256)   Keras Tensor: True\n",
      "    FPN P5                         :  shape: (?, 4, 4, 256)        KB.shape:(None, 4, 4, 256)     Keras Tensor: True\n",
      "    Upsampled P5 (x)               :  shape: (?, 8, 8, 256)        KB.shape:(None, 8, 8, 256)     Keras Tensor: True\n",
      "    Conv2D    C4 (y)               :  shape: (?, 8, 8, 256)        KB.shape:(None, 8, 8, 256)     Keras Tensor: True\n",
      "    FPN P4 (x+y)                   :  shape: (?, 8, 8, 256)        KB.shape:(None, 8, 8, 256)     Keras Tensor: True\n",
      "    Upsampled P4 (x)               :  shape: (?, 16, 16, 256)      KB.shape:(None, 16, 16, 256)   Keras Tensor: True\n",
      "    Conv2D    C3 (y)               :  shape: (?, 16, 16, 256)      KB.shape:(None, 16, 16, 256)   Keras Tensor: True\n",
      "    FPN P3 (x+y)                   :  shape: (?, 16, 16, 256)      KB.shape:(None, 16, 16, 256)   Keras Tensor: True\n",
      "    Upsampled P3 (x)               :  shape: (?, 32, 32, 256)      KB.shape:(None, 32, 32, 256)   Keras Tensor: True\n",
      "    Conv2D    C2 (y)               :  shape: (?, 32, 32, 256)      KB.shape:(None, 32, 32, 256)   Keras Tensor: True\n",
      "    FPN P2 (x+y)                   :  shape: (?, 32, 32, 256)      KB.shape:(None, 32, 32, 256)   Keras Tensor: True\n",
      "\n",
      "    FPN Final output\n",
      "    FPN P6 (Maxpool2D of P5 w/ stride 2):  shape: (?, 2, 2, 256)        KB.shape:(None, 2, 2, 256)     Keras Tensor: True\n",
      "    FPN P5 (Conv2D (3,3) of P5)    :  shape: (?, 4, 4, 256)        KB.shape:(None, 4, 4, 256)     Keras Tensor: True\n",
      "    FPN P4 (Conv2D (3,3) of P4)    :  shape: (?, 8, 8, 256)        KB.shape:(None, 8, 8, 256)     Keras Tensor: True\n",
      "    FPN P3 (Conv2D (3,3) of P3)    :  shape: (?, 16, 16, 256)      KB.shape:(None, 16, 16, 256)   Keras Tensor: True\n",
      "    FPN P2 (Conv2D (3,3) of P2)    :  shape: (?, 32, 32, 256)      KB.shape:(None, 32, 32, 256)   Keras Tensor: True\n",
      "\n",
      ">>> RPN Layer \n",
      "     append Tensor(\"fpn_p2/BiasAdd:0\", shape=(?, 32, 32, 256), dtype=float32) to layer_outputs \n",
      "     append Tensor(\"fpn_p3/BiasAdd:0\", shape=(?, 16, 16, 256), dtype=float32) to layer_outputs \n",
      "     append Tensor(\"fpn_p4/BiasAdd:0\", shape=(?, 8, 8, 256), dtype=float32) to layer_outputs \n",
      "     append Tensor(\"fpn_p5/BiasAdd:0\", shape=(?, 4, 4, 256), dtype=float32) to layer_outputs \n",
      "     append Tensor(\"fpn_p6/MaxPool:0\", shape=(?, 2, 2, 256), dtype=float32) to layer_outputs \n",
      "\n",
      ">>> RPN Outputs  <class 'list'>\n",
      "      rpn_class_logits/rpn_class_logits:0\n",
      "      rpn_class/rpn_class:0\n",
      "      rpn_bbox/rpn_bbox:0\n",
      "\n",
      ">>> Proposal Layer - generate  2000  proposals\n",
      "    Init complete. Size of anchors:  (4092, 4)\n",
      "     Scores :  (2, 4092)\n",
      "     Deltas :  (2, 4092, 4)\n",
      "     Anchors:  (2, 4092, 4)\n",
      "     Boxes shape / type after processing: \n",
      "     Output: Proposals shape :  (2, ?, ?) (2, None, None)\n",
      "\n",
      ">>> Detection Target Layer (Training Mode)\n",
      "    Detection Target Layer : call()  <class 'list'> 3\n",
      "     proposals.shape    : (2, ?, ?) (2, ?, ?) (None, 2000, 4)\n",
      "     gt_class_ids.shape : (?, ?) (?, ?) (None, None)\n",
      "     gt_bboxes.shape    : (?, ?, 4) (?, ?, 4) (None, None, 4)\n",
      "\n",
      "    Detection Target Layer : return  <class 'list'> 4\n",
      "     output 0  shape (2, ?, ?)  type <class 'tensorflow.python.framework.ops.Tensor'> \n",
      "     output 1  shape (2, ?)  type <class 'tensorflow.python.framework.ops.Tensor'> \n",
      "     output 2  shape (2, ?, ?)  type <class 'tensorflow.python.framework.ops.Tensor'> \n",
      "     output 3  shape (2, ?, ?)  type <class 'tensorflow.python.framework.ops.Tensor'> \n",
      "\n",
      ">>> FPN Classifier Graph verbose: 1\n",
      "    INPUT: rois shape              :  shape: (2, ?, ?)             KB.shape:(None, 32, 4)         Keras Tensor: True\n",
      "    INPUT: mrcnn feature_maps      :  value: 4\n",
      "    -      feature_map P2          :  shape: (?, 32, 32, 256)      KB.shape:(None, 32, 32, 256)   Keras Tensor: True\n",
      "    -      feature_map P3          :  shape: (?, 16, 16, 256)      KB.shape:(None, 16, 16, 256)   Keras Tensor: True\n",
      "    -      feature_map P4          :  shape: (?, 8, 8, 256)        KB.shape:(None, 8, 8, 256)     Keras Tensor: True\n",
      "    -      feature_map P5          :  shape: (?, 4, 4, 256)        KB.shape:(None, 4, 4, 256)     Keras Tensor: True\n",
      "    INPUT: image_shape             :  shape: (3,)\n",
      "    INPUT: pool_size               :  value: 7\n",
      "    INPUT: num_classes             :  value: 7\n",
      "    roi_align_classifier           :  shape: (1, ?, 7, 7, 256)     KB.shape:(None, 32, 7, 7, 256)  Keras Tensor: True\n",
      "    mrcnn_class_conv1              :  shape: (?, 32, 1, 1, 1024)   KB.shape:(None, 32, 1, 1, 1024)  Keras Tensor: True\n",
      "    mrcnn_class_bn1                :  shape: (?, 32, 1, 1, 1024)   KB.shape:(None, 32, 1, 1, 1024)  Keras Tensor: True\n",
      "    mrcnn_class_relu1              :  shape: (?, 32, 1, 1, 1024)   KB.shape:(None, 32, 1, 1, 1024)  Keras Tensor: True\n",
      "                                   \n",
      "    mrcnn_class_conv2              :  shape: (?, 32, 1, 1, 1024)   KB.shape:(None, 32, 1, 1, 1024)  Keras Tensor: True\n",
      "    mrcnn_class_bn2                :  shape: (?, 32, 1, 1, 1024)   KB.shape:(None, 32, 1, 1, 1024)  Keras Tensor: True\n",
      "    mrcnn_class_relu2              :  shape: (?, 32, 1, 1, 1024)   KB.shape:(None, 32, 1, 1, 1024)  Keras Tensor: True\n",
      "                                   \n",
      "    pool_squeeze(Shared)           :  shape: (?, 32, 1024)         KB.shape:(None, 32, 1024)      Keras Tensor: True\n"
     ]
    },
    {
     "name": "stdout",
     "output_type": "stream",
     "text": [
      "    mrcnn_class_logits             :  shape: (?, 32, 7)            KB.shape:(None, 32, 7)         Keras Tensor: True\n",
      "    mrcnn_class_logits (final)     :  shape: (?, 32, 7)            KB.shape:(None, 32, 7)         Keras Tensor: True\n",
      "    mrcnn_probs                    :  shape: (?, 32, 7)            KB.shape:(None, 32, 7)         Keras Tensor: True\n",
      "    mrcnn_probs (final)            :  shape: (?, 32, 7)            KB.shape:(None, 32, 7)         Keras Tensor: True\n",
      "    mrcnn_bbox_fc                  :  shape: (?, 32, 28)           KB.shape:(None, 32, 28)        Keras Tensor: True\n",
      "    mrcnn_bbox_fc reshaped output  :  shape: (?, 32, 7, 4)         KB.shape:(None, 32, 7, 4)      Keras Tensor: True\n",
      "    mrcnn_bbox (final)             :  shape: (?, 32, 7, 4)         KB.shape:(None, 32, 7, 4)      Keras Tensor: True\n",
      "--------------------------------\n",
      ">>>  CHM Layer  \n",
      "--------------------------------\n",
      "    > CHMLayer Call()              :  list length: 4\n",
      "    mrcnn_class                    :  shape: (?, 32, 7)            KB.shape:(None, 32, 7)         Keras Tensor: True\n",
      "    mrcnn_bbox                     :  shape: (?, 32, 7, 4)         KB.shape:(None, 32, 7, 4)      Keras Tensor: True\n",
      "    output_rois                    :  shape: (2, ?, ?)             KB.shape:(None, 32, 4)         Keras Tensor: True\n",
      "    target_class_ids               :  shape: (2, ?)                KB.shape:(None, 32)            Keras Tensor: True\n",
      "    pr tensor                      :  shape: (?, 7, 32, 9)         KB.shape:(None, 7, 32, 9)      Keras Tensor: False\n",
      "\n",
      " \n",
      "  > build_pr_heatmap() for :  ['pred_heatmap']\n",
      "    in_tensor shape        :  (?, 7, 32, 9)\n",
      "    num bboxes per class   :  32\n",
      "    heatmap scale          :  1 Dimensions:  w: 128  h: 128\n",
      "    pt2_sum                        :  shape: (?, 7, 32)            KB.shape:(None, 7, 32)         Keras Tensor: False\n",
      "    pt2_ind                        :  shape: (?, 3)                KB.shape:(None, 3)             Keras Tensor: False\n",
      "    pt2_dense                      :  shape: (?, 9)                KB.shape:(None, 9)             Keras Tensor: False\n",
      "    X/Y shapes : (128, 128) (128, 128)\n",
      "    Ones:     (?, 1, 1)\n",
      "    ones_exp * X (?, 1, 1) * (128, 128) =  (?, 128, 128)\n",
      "    ones_exp * Y (?, 1, 1) * (128, 128) =  (?, 128, 128)\n",
      "    pos_grid before transpse       :  shape: (?, 128, 128, 2)      KB.shape:(None, 128, 128, 2)   Keras Tensor: False\n",
      "    pos_grid after transpose       :  shape: (128, 128, ?, 2)      KB.shape:(128, 128, None, 2)   Keras Tensor: False\n",
      "    Input to MVN.PROB: pos_grid (meshgrid):  shape: (128, 128, ?, 2)      KB.shape:(128, 128, None, 2)   Keras Tensor: False\n",
      "    Prob_grid shape from mvn.probe :  shape: (128, 128, ?)         KB.shape:(128, 128, None)      Keras Tensor: False\n",
      "    Prob_grid shape after tanspose :  shape: (?, 128, 128)         KB.shape:(None, 128, 128)      Keras Tensor: False\n",
      "    Output probabilities shape     :  shape: (?, 128, 128)         KB.shape:(None, 128, 128)      Keras Tensor: False\n",
      "    old_style_scores        :      :  shape: (2, 7, 32, 3)         KB.shape:(2, 7, 32, 3)         Keras Tensor: False\n",
      "    prob_grid_clipped :            :  shape: (?, 128, 128)         KB.shape:(None, 128, 128)      Keras Tensor: False\n",
      "    normalization ------------------------------------------------------\n",
      "    normalizer     :               :  shape: (?, 1, 1)             KB.shape:(None, 1, 1)          Keras Tensor: False\n",
      "    prob_grid_cns: clipped/normed/scaled ::  shape: (?, 128, 128)         KB.shape:(None, 128, 128)      Keras Tensor: False\n",
      "    alt_scores_1                   :  shape: (?, 3)                KB.shape:(None, 3)             Keras Tensor: False\n",
      "    alt_scores_1(by class)         :  shape: (2, 7, 32, 3)         KB.shape:(2, 7, 32, 3)         Keras Tensor: False\n",
      "    alt_scores_1_norm(by_class)    :  shape: (2, 7, 32, 3)         KB.shape:(2, 7, 32, 3)         Keras Tensor: False\n",
      "    Scatter out the probability distributions based on class --------------\n",
      "    pt2_ind shape                  :  shape: (?, 3)                KB.shape:(None, 3)             Keras Tensor: False\n",
      "    prob_grid_clippped             :  shape: (?, 128, 128)         KB.shape:(None, 128, 128)      Keras Tensor: False\n",
      "    gauss_heatmap                  :  shape: (2, 7, 32, 128, 128)  KB.shape:(2, 7, 32, 128, 128)  Keras Tensor: False\n",
      "    Reduce SUM based on class and normalize within each class -----------------------\n",
      "    gaussian_heatmap_sum           :  shape: (2, 7, 128, 128)      KB.shape:(2, 7, 128, 128)      Keras Tensor: False\n",
      "    normalizer shape   :           :  shape: (2, 7, 1, 1)          KB.shape:(2, 7, 1, 1)          Keras Tensor: False\n",
      "    normalized heatmap :           :  shape: (2, 7, 128, 128)      KB.shape:(2, 7, 128, 128)      Keras Tensor: False\n",
      "    hm_indices                     :  shape: (?, 2)                KB.shape:(None, 2)             Keras Tensor: False\n",
      "    pt2_heatmaps                   :  shape: (?, 128, 128)         KB.shape:(None, 128, 128)      Keras Tensor: False\n",
      "    alt_scores_2    :              :  shape: (?, 3)                KB.shape:(None, 3)             Keras Tensor: False\n",
      "    alt_scores_2(scattered)        :  shape: (2, 7, 32, 3)         KB.shape:(2, 7, 32, 3)         Keras Tensor: False\n",
      "    alt_scores_2_norm(by_class)    :  shape: (2, 7, 32, 3)         KB.shape:(2, 7, 32, 3)         Keras Tensor: False\n",
      "    reshaped heatmap               :  shape: (2, 128, 128, 7)      KB.shape:(2, 128, 128, 7)      Keras Tensor: False\n",
      "    gauss_scores    :              :  shape: (2, 7, 32, 24)        KB.shape:(2, 7, 32, 24)        Keras Tensor: False\n",
      "    complete                       \n",
      "                                   \n",
      "    pred_refined_heatmap           :  shape: (2, 128, 128, 7)      KB.shape:(2, 128, 128, 7)      Keras Tensor: False\n",
      "    pred_refnined_heatmap_scores   :  shape: (2, 7, 32, 24)        KB.shape:(2, 7, 32, 24)        Keras Tensor: False\n",
      "    complete                       \n",
      "--------------------------------\n",
      ">>>  CHM Layer COMPUTE OUTPUT SHAPE \n",
      "--------------------------------\n",
      "<class 'list'> 4\n",
      "\n",
      "-----------------------------------------\n",
      ">>>  CHM Layer (Ground Truth Generation) \n",
      "-----------------------------------------\n",
      "    > CHMLayerTgt Call()   :       :  list length: 2\n",
      "    tgt_class_ids.shape  :         :  shape: (2, ?)                KB.shape:(None, 32)            Keras Tensor: True\n",
      "    tgt_bboxes.shape     :         :  shape: (2, ?, ?)             KB.shape:(None, 32, 4)         Keras Tensor: True\n",
      "\n",
      "\n",
      "  > BUILD_GROUND TRUTH_TF()\n",
      "    num_bboxes             :  32 (building  gt_tensor )\n",
      "    gt_class_ids shape     :  (2, ?)    (None, 32)\n",
      "    norm_gt_bboxes.shape   :  (2, ?, ?)    (None, 32, 4)\n",
      "    gt_bboxes.shape        :  (2, 32, 4)    (2, 32, 4)\n",
      "    gt_classes_exp                 :  shape: (2, ?, 1)             KB.shape:(2, None, 1)          Keras Tensor: False\n",
      "    gt_scores_exp                  :  shape: (2, ?, 1)             KB.shape:(2, None, 1)          Keras Tensor: False\n",
      "    flag:                          :  shape: (2, ?, 1)             KB.shape:(2, None, 1)          Keras Tensor: False\n",
      "    gt_array                       :  shape: (2, 32, 9)            KB.shape:(2, 32, 9)            Keras Tensor: False\n",
      "    scatter_ind                    :  shape: (2, 32, 3)            KB.shape:(2, 32, 3)            Keras Tensor: False\n",
      "    gt_array                       :  shape: (2, 32, 9)            KB.shape:(2, 32, 9)            Keras Tensor: False\n",
      "    gt_scatter                     :  shape: (2, 7, 32, 9)         KB.shape:(2, 7, 32, 9)         Keras Tensor: False\n",
      "    sort_inds                      :  shape: (2, 7, 32)            KB.shape:(2, 7, 32)            Keras Tensor: False\n",
      "    class_grid                     :  shape: (2, 7, 32)            KB.shape:(2, 7, 32)            Keras Tensor: False\n",
      "    batch_grid                     :  shape: (2, 7, 32)            KB.shape:(2, 7, 32)            Keras Tensor: False\n",
      "    gather_inds                    :  shape: (2, 7, 32, 3)         KB.shape:(2, 7, 32, 3)         Keras Tensor: False\n",
      "    gt_tensor                      :  shape: (2, 7, 32, 9)         KB.shape:(2, 7, 32, 9)         Keras Tensor: False\n",
      "\n",
      " \n",
      "  > build_heatmap() for  ['gt_heatmap']\n",
      "    in_tensor shape        :  (2, 7, 32, 9)\n",
      "    num bboxes per class   :  32\n",
      "    heatmap scale        :  1 Dimensions:  w: 128  h: 128\n",
      "    pt2_sum                        :  shape: (2, 7, 32)            KB.shape:(2, 7, 32)            Keras Tensor: False\n",
      "    pt2_ind                        :  shape: (?, 3)                KB.shape:(None, 3)             Keras Tensor: False\n",
      "    pt2_dense                      :  shape: (?, 9)                KB.shape:(None, 9)             Keras Tensor: False\n",
      "    Prob_grid                      :  shape: (?, 128, 128)         KB.shape:(None, 128, 128)      Keras Tensor: False\n"
     ]
    },
    {
     "name": "stdout",
     "output_type": "stream",
     "text": [
      "    prob_grid_clipped              :  shape: (?, 128, 128)         KB.shape:(None, 128, 128)      Keras Tensor: False\n",
      "    old_style_scores               :  shape: (2, 7, 32, 3)         KB.shape:(2, 7, 32, 3)         Keras Tensor: False\n",
      "    alt_scores_1                   :  shape: (?, 3)                KB.shape:(None, 3)             Keras Tensor: False\n",
      "    alt_scores_1(by class)         :  shape: (2, 7, 32, 3)         KB.shape:(2, 7, 32, 3)         Keras Tensor: False\n",
      "    alt_scores_1_norm(by_class)    :  shape: (2, 7, 32, 3)         KB.shape:(2, 7, 32, 3)         Keras Tensor: False\n",
      "    Scatter out the probability distributions based on class --------------\n",
      "    pt2_ind                        :  shape: (?, 3)                KB.shape:(None, 3)             Keras Tensor: False\n",
      "    prob_grid                      :  shape: (?, 128, 128)         KB.shape:(None, 128, 128)      Keras Tensor: False\n",
      "    gauss_heatmap                  :  shape: (2, 7, 32, 128, 128)  KB.shape:(2, 7, 32, 128, 128)  Keras Tensor: False\n",
      "    Reduce MAX based on class -------------------------------------\n",
      "    gaussian_heatmap :             :  shape: (2, 7, 128, 128)      KB.shape:(2, 7, 128, 128)      Keras Tensor: False\n",
      "    hm_indices                     :  shape: (?, 2)                KB.shape:(None, 2)             Keras Tensor: False\n",
      "    pt2_heatmaps                   :  shape: (?, 128, 128)         KB.shape:(None, 128, 128)      Keras Tensor: False\n",
      "    alt_scores_2                   :  shape: (?, 3)                KB.shape:(None, 3)             Keras Tensor: False\n",
      "    alt_scores_2(by class)       : :  shape: (2, 7, 32, 3)         KB.shape:(2, 7, 32, 3)         Keras Tensor: False\n",
      "    alt_scores_2_norm(by_class)  : :  shape: (2, 7, 32, 3)         KB.shape:(2, 7, 32, 3)         Keras Tensor: False\n",
      "    gauss_heatmap                  :  shape: (2, 128, 128, 7)      KB.shape:(2, 128, 128, 7)      Keras Tensor: False\n",
      "    gauss_scores                   :  shape: (2, 7, 32, 24)        KB.shape:(2, 7, 32, 24)        Keras Tensor: False\n",
      "    complete                       \n",
      "                                   \n",
      "    gt_heatmap                     :  shape: (2, 128, 128, 7)      KB.shape:(2, 128, 128, 7)      Keras Tensor: False\n",
      "    gt_heatmap_scores              :  shape: (2, 7, 32, 24)        KB.shape:(2, 7, 32, 24)        Keras Tensor: False\n",
      "    complete                       \n",
      "    pr_hm                          :  shape: (2, 128, 128, 7)      KB.shape:(None, 128, 128, 7)   Keras Tensor: True\n",
      "    gt_hm                          :  shape: (2, 128, 128, 7)      KB.shape:(None, 128, 128, 7)   Keras Tensor: True\n",
      " GT HM.op_type()       : Transpose\n",
      " GT HM SCORES.op_type(): ConcatV2\n",
      "\n",
      "\n",
      "---------------------------------------------------\n",
      "    building Loss Functions \n",
      "---------------------------------------------------\n",
      "\n",
      ">>> rpn_class_loss_graph\n",
      "    rpn_match size : (?, ?, 1)\n",
      "    tf default session:  None\n",
      "    loss      : (?,) Tensor(\"rpn_class_loss/Shape:0\", shape=(1,), dtype=int32) KerasTensor:  False\n",
      "    mean loss : () Tensor(\"rpn_class_loss/Shape_1:0\", shape=(0,), dtype=int32) KerasTensor:  False\n",
      "    reshaped mean loss : (1, 1) Tensor(\"rpn_class_loss/Shape_2:0\", shape=(2,), dtype=int32) KerasTensor:  False\n",
      "\n",
      ">>> rpn_class_loss_graph\n",
      "    rpn_match size : (?, ?, 1)\n",
      "    tf default session:  None\n",
      "    loss      : (?,) Tensor(\"rpn_class_loss/Shape_3:0\", shape=(1,), dtype=int32) KerasTensor:  False\n",
      "    mean loss : () Tensor(\"rpn_class_loss/Shape_4:0\", shape=(0,), dtype=int32) KerasTensor:  False\n",
      "    reshaped mean loss : (1, 1) Tensor(\"rpn_class_loss/Shape_5:0\", shape=(2,), dtype=int32) KerasTensor:  False\n",
      "\n",
      ">>> rpn_bbox_loss_graph\n",
      "    rpn_match size : (?, ?)\n",
      "    rpn_bbox  size : (?, ?, 4)\n",
      "    loss      : <unknown> Tensor(\"rpn_bbox_loss/Shape:0\", shape=(?,), dtype=int32) KerasTensor:  False\n",
      "    mean loss : () Tensor(\"rpn_bbox_loss/Shape_1:0\", shape=(0,), dtype=int32) KerasTensor:  False\n",
      "    reshaped mean loss : (1, 1) Tensor(\"rpn_bbox_loss/Shape_2:0\", shape=(2,), dtype=int32) KerasTensor:  False\n",
      "\n",
      ">>> rpn_bbox_loss_graph\n",
      "    rpn_match size : (?, ?)\n",
      "    rpn_bbox  size : (?, ?, 4)\n",
      "    loss      : <unknown> Tensor(\"rpn_bbox_loss/Shape_3:0\", shape=(?,), dtype=int32) KerasTensor:  False\n",
      "    mean loss : () Tensor(\"rpn_bbox_loss/Shape_4:0\", shape=(0,), dtype=int32) KerasTensor:  False\n",
      "    reshaped mean loss : (1, 1) Tensor(\"rpn_bbox_loss/Shape_5:0\", shape=(2,), dtype=int32) KerasTensor:  False\n",
      "\n",
      ">>> mrcnn_class_loss_graph \n",
      "    target_class_ids  size : (2, ?)\n",
      "    pred_class_logits size : (?, 32, 7)\n",
      "    active_class_ids  size : (?, ?)\n",
      "    loss      : (2, 32) Tensor(\"mrcnn_class_loss/Shape:0\", shape=(2,), dtype=int32) KerasTensor:  False\n",
      "    mean loss : () Tensor(\"mrcnn_class_loss/Shape_1:0\", shape=(0,), dtype=int32) KerasTensor:  False\n",
      "    reshaped mean loss : (1, 1) Tensor(\"mrcnn_class_loss/Shape_2:0\", shape=(2,), dtype=int32) KerasTensor:  False\n",
      "\n",
      ">>> mrcnn_class_loss_graph \n",
      "    target_class_ids  size : (?, 32)\n",
      "    pred_class_logits size : (?, 32, 7)\n",
      "    active_class_ids  size : (?, ?)\n",
      "    loss      : (?, 32) Tensor(\"mrcnn_class_loss/Shape_3:0\", shape=(2,), dtype=int32) KerasTensor:  False\n",
      "    mean loss : () Tensor(\"mrcnn_class_loss/Shape_4:0\", shape=(0,), dtype=int32) KerasTensor:  False\n",
      "    reshaped mean loss : (1, 1) Tensor(\"mrcnn_class_loss/Shape_5:0\", shape=(2,), dtype=int32) KerasTensor:  False\n",
      "\n",
      ">>> mrcnn_bbox_loss_graph \n",
      "    target_class_ids  size : (2, ?)\n",
      "    pred_bbox size         : (?, 32, 7, 4)\n",
      "    target_bbox size       : (2, ?, ?)\n",
      "    reshpaed pred_bbox size         : (?, 7, 4)\n",
      "    reshaped target_bbox size       : (?, 4)\n",
      "    pred_bbox size         : (?, 4)\n",
      "    target_bbox size       : (?, 4)\n",
      "    loss      : <unknown> Tensor(\"mrcnn_bbox_loss/Shape:0\", shape=(?,), dtype=int32) KerasTensor:  False\n",
      "    mean loss : () Tensor(\"mrcnn_bbox_loss/Shape_1:0\", shape=(0,), dtype=int32) KerasTensor:  False\n",
      "    reshaped mean loss : (1, 1) Tensor(\"mrcnn_bbox_loss/Shape_2:0\", shape=(2,), dtype=int32) KerasTensor:  False\n",
      "\n",
      ">>> mrcnn_bbox_loss_graph \n",
      "    target_class_ids  size : (?, 32)\n",
      "    pred_bbox size         : (?, 32, 7, 4)\n",
      "    target_bbox size       : (?, 32, 4)\n",
      "    reshpaed pred_bbox size         : (?, 7, 4)\n",
      "    reshaped target_bbox size       : (?, 4)\n",
      "    pred_bbox size         : (?, 4)\n",
      "    target_bbox size       : (?, 4)\n",
      "    loss      : <unknown> Tensor(\"mrcnn_bbox_loss/Shape_3:0\", shape=(?,), dtype=int32) KerasTensor:  False\n",
      "    mean loss : () Tensor(\"mrcnn_bbox_loss/Shape_4:0\", shape=(0,), dtype=int32) KerasTensor:  False\n",
      "    reshaped mean loss : (1, 1) Tensor(\"mrcnn_bbox_loss/Shape_5:0\", shape=(2,), dtype=int32) KerasTensor:  False\n",
      " ================================================================\n",
      " self.keras_model.losses :  0\n",
      "[]\n",
      " ================================================================\n",
      "\n",
      ">>> Build MaskRCNN build complete. mode:  training\n",
      ">>> MaskRCNN initialiation complete. Mode:  training\n",
      "\n",
      " MRCNN Configuration Parameters \n",
      " ------------------------------ \n",
      "\n",
      "Configuration Parameters:\n",
      "-------------------------\n",
      "BACKBONE_SHAPES                [[32 32]\n",
      " [16 16]\n",
      " [ 8  8]\n",
      " [ 4  4]\n",
      " [ 2  2]]\n",
      "BACKBONE_STRIDES               [4, 8, 16, 32, 64]\n",
      "BATCH_SIZE                     2\n",
      "BBOX_STD_DEV                   [0.1 0.1 0.2 0.2]\n",
      "DETECTION_MAX_INSTANCES        64\n",
      "DETECTION_MIN_CONFIDENCE       0.1\n",
      "DETECTION_NMS_THRESHOLD        0.3\n",
      "DETECTION_PER_CLASS            64\n",
      "DIR_DATASET                    /home/kbardool/MLDatasets\n",
      "DIR_PRETRAINED                 /home/kbardool/PretrainedModels\n",
      "DIR_TRAINING                   /home/kbardool/models_newshapes\n",
      "EARLY_STOP_MIN_DELTA           0.0001\n",
      "EARLY_STOP_PATIENCE            120\n",
      "EPOCHS_TO_RUN                  2\n",
      "FCN_INPUT_SHAPE                [128 128]\n",
      "GPU_COUNT                      1\n",
      "HEATMAP_SCALE_FACTOR           1\n",
      "IMAGES_PER_GPU                 2\n",
      "IMAGE_BUFFER                   20\n",
      "IMAGE_MAX_DIM                  128\n",
      "IMAGE_MIN_DIM                  128\n",
      "IMAGE_PADDING                  True\n",
      "IMAGE_SHAPE                    [128 128   3]\n",
      "LAST_EPOCH_RAN                 0\n",
      "LEARNING_MOMENTUM              0.9\n",
      "LEARNING_RATE                  1e-05\n",
      "MASK_POOL_SIZE                 14\n",
      "MASK_SHAPE                     [28, 28]\n",
      "MAX_GT_INSTANCES               100\n",
      "MAX_SHAPES_PER_IMAGE           15\n",
      "MEAN_PIXEL                     [123.7 116.8 103.9]\n",
      "MINI_MASK_SHAPE                (56, 56)\n",
      "MIN_LR                         1e-10\n",
      "MIN_SHAPES_PER_IMAGE           1\n",
      "NAME                           mrcnn\n",
      "NEW_LOG_FOLDER                 True\n",
      "NUM_CLASSES                    7\n",
      "OPTIMIZER                      ADAGRAD\n",
      "POOL_SIZE                      7\n",
      "POST_NMS_ROIS_INFERENCE        1000\n",
      "POST_NMS_ROIS_TRAINING         2000\n",
      "REDUCE_LR_COOLDOWN             30\n",
      "REDUCE_LR_FACTOR               0.5\n",
      "REDUCE_LR_PATIENCE             60\n",
      "RESNET_MODEL_PATH              /home/kbardool/PretrainedModels/resnet50_weights_tf_dim_ordering_tf_kernels_notop.h5\n",
      "ROI_GT_IOU_THRESHOLD           0.2\n",
      "ROI_POSITIVE_RATIO             0.33\n",
      "ROI_PROPOSAL_AREA_THRESHOLD    0\n",
      "RPN_ANCHOR_RATIOS              [0.5, 1, 2]\n",
      "RPN_ANCHOR_SCALES              (8, 16, 32, 64, 128)\n",
      "RPN_ANCHOR_STRIDE              1\n",
      "RPN_BBOX_STD_DEV               [0.1 0.1 0.2 0.2]\n",
      "RPN_NMS_THRESHOLD              0.7\n",
      "RPN_TRAIN_ANCHORS_PER_IMAGE    256\n",
      "SHAPES_MODEL_PATH              /home/kbardool/PretrainedModels/mask_rcnn_shapes.h5\n",
      "STEPS_PER_EPOCH                10\n",
      "SYSOUT                         SCREEN\n",
      "TRAINING_PATH                  /home/kbardool/models_newshapes/train_mrcnn_newshapes\n",
      "TRAIN_ROIS_PER_IMAGE           32\n",
      "USE_MINI_MASK                  True\n",
      "USE_RPN_ROIS                   True\n",
      "VALIDATION_STEPS               2\n",
      "VERBOSE                        1\n",
      "VGG16_MODEL_PATH               /home/kbardool/PretrainedModels/vgg16_weights_tf_dim_ordering_tf_kernels_notop.h5\n",
      "WEIGHT_DECAY                   0.0001\n",
      "\n",
      "\n",
      "\n",
      " MRCNN IO Layers \n",
      " --------------- \n",
      " Inputs:\n",
      " -------\n",
      " index:  0    input name : input_image:0                              Type: float32           Shape: (?, 128, 128, 3)\n",
      " index:  1    input name : input_image_meta:0                         Type: float32           Shape: (?, ?)\n",
      " index:  2    input name : input_rpn_match:0                          Type: int32             Shape: (?, ?, 1)\n",
      " index:  3    input name : input_rpn_bbox:0                           Type: float32           Shape: (?, ?, 4)\n",
      " index:  4    input name : input_gt_class_ids:0                       Type: int32             Shape: (?, ?)\n",
      " index:  5    input name : input_gt_boxes:0                           Type: float32           Shape: (?, ?, 4)\n",
      " Outputs:\n",
      " --------\n",
      " layer:  0    output name: cntxt_layer/pred_heatmap:0                 Type: float32           Shape: (2, 128, 128, 7)\n",
      " layer:  1    output name: cntxt_layer/pred_heatmap_scores:0          Type: float32           Shape: (2, 7, 32, 24)\n",
      " layer:  2    output name: cntxt_layer_gt/gt_heatmap:0                Type: float32           Shape: (2, 128, 128, 7)\n",
      " layer:  3    output name: cntxt_layer_gt/gt_heatmap_scores:0         Type: float32           Shape: (2, 7, 32, 24)\n",
      " layer:  4    output name: mrcnn_class_lambda/mrcnn_class:0           Type: float32           Shape: (?, 32, 7)\n",
      " layer:  5    output name: mrcnn_bbox_lambda/mrcnn_bbox:0             Type: float32           Shape: (?, 32, 7, 4)\n",
      " layer:  6    output name: proposal_targets/output_rois:0             Type: float32           Shape: (2, ?, ?)\n",
      " layer:  7    output name: proposal_targets/target_class_ids:0        Type: int32             Shape: (2, ?)\n",
      " layer:  8    output name: proposal_targets/target_bbox_deltas:0      Type: float32           Shape: (2, ?, ?)\n",
      " layer:  9    output name: proposal_targets/roi_gt_boxes:0            Type: float32           Shape: (2, ?, ?)\n",
      " layer: 10    output name: mrcnn_logits_lambda/mrcnn_class_logits:0   Type: float32           Shape: (?, 32, 7)\n",
      " layer: 11    output name: active_class_ids/strided_slice_3:0         Type: float32           Shape: (?, ?)\n",
      " layer: 12    output name: ROI/rpn_roi_proposals:0                    Type: float32           Shape: (2, ?, ?)\n",
      " layer: 13    output name: cntxt_layer/pr_tensor:0                    Type: float32           Shape: (?, 7, 32, 9)\n",
      " layer: 14    output name: cntxt_layer_gt/gt_tensor:0                 Type: float32           Shape: (2, 7, 32, 9)\n",
      " layer: 15    output name: rpn_class_loss/rpn_class_loss:0            Type: float32           Shape: (1, 1)\n",
      " layer: 16    output name: rpn_bbox_loss/rpn_bbox_loss:0              Type: float32           Shape: (1, 1)\n",
      " layer: 17    output name: mrcnn_class_loss/mrcnn_class_loss:0        Type: float32           Shape: (1, 1)\n",
      " layer: 18    output name: mrcnn_bbox_loss/mrcnn_bbox_loss:0          Type: float32           Shape: (1, 1)\n",
      "-----------------------------------------------\n",
      " Load Model with init parm: [ last ]\n",
      " Exclude layers: \n",
      "-----------------------------------------------\n",
      " ---> last\n",
      ">>> find_last checkpoint in :  /home/kbardool/models_newshapes/train_mrcnn_newshapes\n",
      ">>> find_last checkpoint in :  /home/kbardool/models_newshapes/train_mrcnn_newshapes\n",
      "    Dir starting with       :  mrcnn  : ['mrcnn20181216T0000', 'mrcnn20190207T1040', 'mrcnn20190208T1347', 'mrcnn20190206T1508']\n",
      "    Folder:  /home/kbardool/models_newshapes/train_mrcnn_newshapes/mrcnn20190208T1347\n",
      "    Checkpoints:  []\n",
      "    Folder:  /home/kbardool/models_newshapes/train_mrcnn_newshapes/mrcnn20190207T1040\n",
      "    Checkpoints:  []\n",
      "    Folder:  /home/kbardool/models_newshapes/train_mrcnn_newshapes/mrcnn20190206T1508\n",
      "    Checkpoints:  []\n",
      "    Folder:  /home/kbardool/models_newshapes/train_mrcnn_newshapes/mrcnn20181216T0000\n",
      "    Checkpoints:  ['mrcnn_0247.h5', 'mrcnn_0389.h5', 'mrcnn_0472.h5']\n",
      "    find_last():   dir_name: /home/kbardool/models_newshapes/train_mrcnn_newshapes/mrcnn20181216T0000\n",
      "    find_last(): checkpoint: /home/kbardool/models_newshapes/train_mrcnn_newshapes/mrcnn20181216T0000/mrcnn_0472.h5\n",
      ">>> load_weights() from : /home/kbardool/models_newshapes/train_mrcnn_newshapes/mrcnn20181216T0000/mrcnn_0472.h5\n"
     ]
    },
    {
     "name": "stdout",
     "output_type": "stream",
     "text": [
      "    Weights file loaded: /home/kbardool/models_newshapes/train_mrcnn_newshapes/mrcnn20181216T0000/mrcnn_0472.h5 \n",
      "==========================================\n",
      "MRCNN  MODEL Load weight file COMPLETE \n",
      "==========================================\n"
     ]
    }
   ],
   "source": [
    "mrcnn_model = build_mrcnn_training_pipeline_newshapes(args, verbose = 1)"
   ]
  },
  {
   "cell_type": "markdown",
   "metadata": {},
   "source": [
    "##  Load dataset"
   ]
  },
  {
   "cell_type": "code",
   "execution_count": 5,
   "metadata": {
    "ExecuteTime": {
     "end_time": "2019-02-08T13:48:16.361277Z",
     "start_time": "2019-02-08T13:48:15.993070Z"
    }
   },
   "outputs": [
    {
     "name": "stdout",
     "output_type": "stream",
     "text": [
      "10000 2500\n"
     ]
    }
   ],
   "source": [
    "from mrcnn.datagen import data_generator\n",
    "\n",
    "##------------------------------------------------------------------------------------\n",
    "## Build & Load Training and Validation datasets\n",
    "##------------------------------------------------------------------------------------\n",
    "# dataset_train, train_generator = prep_newshape_dataset( mrcnn_model.config, 10000, generator=True)\n",
    "# dataset_val  , val_generator   = prep_newshape_dataset( mrcnn_model.config,  2500, generator=True)\n",
    "# with open('E:\\\\git_projs\\\\MRCNN3\\\\train_newshapes\\\\newshapes_training_dataset_10000_A.pkl', 'wb') as outfile:\n",
    "#     pickle.dump(dataset_train, outfile)\n",
    "# with open('E:\\\\git_projs\\\\MRCNN3\\\\train_newshapes\\\\newshapes_validation_dataset_2500_A.pkl', 'wb') as outfile:\n",
    "#     pickle.dump(dataset_val, outfile)\n",
    "\n",
    "## -- OR --\n",
    "\n",
    "with open(os.path.join(dataset_path, 'newshapes_training_dataset_10000_A.pkl'), 'rb') as outfile:\n",
    "    dataset_train = pickle.load(outfile)\n",
    "with open(os.path.join(dataset_path, 'newshapes_validation_dataset_2500_A.pkl'), 'rb') as outfile:\n",
    "    dataset_val = pickle.load(outfile)\n",
    "class_names = dataset_train.class_names\n",
    "# dataset_train.display_active_classes()\n",
    "# print(mrcnn_model.config.BATCH_SIZE, fcn_model.config.BATCH_SIZE)\n",
    "print(len(dataset_train.image_ids), len(dataset_val.image_ids))"
   ]
  },
  {
   "cell_type": "code",
   "execution_count": 6,
   "metadata": {
    "ExecuteTime": {
     "end_time": "2019-02-08T13:48:18.255838Z",
     "start_time": "2019-02-08T13:48:18.212535Z"
    },
    "scrolled": true
   },
   "outputs": [],
   "source": [
    "## If we desire a generator, here it is:    \n",
    "train_generator = data_generator(dataset_train, mrcnn_model.config, batch_size=mrcnn_model.config.BATCH_SIZE,\n",
    "                                   shuffle = False, augment = False) \n",
    "val_generator = data_generator(dataset_val, mrcnn_model.config, batch_size=mrcnn_model.config.BATCH_SIZE,\n",
    "                                   shuffle = False, augment = False) "
   ]
  },
  {
   "cell_type": "code",
   "execution_count": 7,
   "metadata": {
    "ExecuteTime": {
     "end_time": "2019-02-08T13:48:20.066174Z",
     "start_time": "2019-02-08T13:48:20.016885Z"
    }
   },
   "outputs": [
    {
     "name": "stdout",
     "output_type": "stream",
     "text": [
      "[1, 2, 3, 4, 5, 6]\n",
      "\n",
      "{None: [1, 2, 3, 4, 5, 6], 'background': [0]}\n",
      " dataset_train.source_objs:    {}\n",
      " len of dataset_train.image_info:  10000\n",
      "dict_keys(['id', 'bg_color', 'width', 'shapes', 'path', 'source', 'height'])\n",
      "0 4598 shapes None\n",
      "1 4598 shapes None\n",
      "2 4598 shapes None\n",
      "3 4598 shapes None\n",
      "4 4598 shapes None\n",
      "5 4598 shapes None\n",
      "6 4598 shapes None\n",
      "7 4598 shapes None\n",
      "8 4598 shapes None\n",
      "9 4598 shapes None\n"
     ]
    }
   ],
   "source": [
    "print(dataset_train.active_class_ids)\n",
    "# pp.pprint(dataset_train.category_to_class_map)\n",
    "print()\n",
    "pp.pprint(dataset_train.category_to_external_class_map)\n",
    "print(' dataset_train.source_objs:   ',dataset_train.source_objs)\n",
    "print(' len of dataset_train.image_info: ', len(dataset_train.image_info))\n",
    "print(dataset_train.image_info[0].keys())\n",
    "for i in range(10):\n",
    "    p = dataset_train.image_info[4598]\n",
    "    print(i,p['id'], p['source'], p['path'])###  Display some images from training and val datasets"
   ]
  },
  {
   "cell_type": "markdown",
   "metadata": {
    "heading_collapsed": true
   },
   "source": [
    "###  Display some images from training and val datasets"
   ]
  },
  {
   "cell_type": "code",
   "execution_count": 8,
   "metadata": {
    "ExecuteTime": {
     "end_time": "2019-02-08T13:48:33.245177Z",
     "start_time": "2019-02-08T13:48:29.147012Z"
    },
    "hidden": true,
    "scrolled": true
   },
   "outputs": [
    {
     "data": {
      "image/png": "[encoded data removed]",
      "text/plain": [
       "<matplotlib.figure.Figure at 0x7fcbd4590860>"
      ]
     },
     "metadata": {},
     "output_type": "display_data"
    },
    {
     "data": {
      "image/png": "[encoded data removed]",
      "text/plain": [
       "<matplotlib.figure.Figure at 0x7fcbcd700940>"
      ]
     },
     "metadata": {},
     "output_type": "display_data"
    }
   ],
   "source": [
    "image_list = list(range(0,40))\n",
    "image_titles = [str(i) for i in image_list]\n",
    "images = prep.get_image_batch(dataset_train, image_list)\n",
    "visualize.display_images(images, titles = image_titles, cols = 8, width = 24)\n",
    "\n",
    "image_list = list(range(0,20))\n",
    "image_titles = [str(i) for i in image_list]\n",
    "images = prep.get_image_batch(dataset_val, image_list)\n",
    "visualize.display_images(images, titles = image_titles, cols = 8, width = 24)"
   ]
  },
  {
   "cell_type": "markdown",
   "metadata": {
    "heading_collapsed": true
   },
   "source": [
    "### Display Images"
   ]
  },
  {
   "cell_type": "markdown",
   "metadata": {
    "heading_collapsed": true,
    "hidden": true
   },
   "source": [
    "####  Display image with Ground Truth bounding boxes and masks"
   ]
  },
  {
   "cell_type": "code",
   "execution_count": null,
   "metadata": {
    "ExecuteTime": {
     "end_time": "2019-02-07T18:39:08.379235Z",
     "start_time": "2019-02-07T18:39:07.596602Z"
    },
    "hidden": true,
    "hideCode": false,
    "hidePrompt": false
   },
   "outputs": [],
   "source": [
    "train_batch_x = prep.get_training_batch(dataset_train, mrcnn_model.config, [0,1])\n",
    "# train_batch_x, _ = next(train_generator) \n",
    "# train_batch_x = data_gen_simulate(dataset_train, mrcnn_model.config, [0,1])\n",
    "# visualize.display_training_batch(dataset_train, train_batch_x)\n"
   ]
  },
  {
   "cell_type": "code",
   "execution_count": null,
   "metadata": {
    "ExecuteTime": {
     "end_time": "2019-02-06T15:19:04.115764Z",
     "start_time": "2019-02-06T15:19:04.073558Z"
    },
    "hidden": true,
    "hideCode": false,
    "hidePrompt": false,
    "scrolled": false
   },
   "outputs": [],
   "source": [
    "# IMAGE_LIST = train_batch_x[1][:,0]\n",
    "# print('IMAGE_LIST : ', IMAGE_LIST)\n",
    "# for image_id in IMAGE_LIST:\n",
    "#     print()\n",
    "#     print('IMAGE_ID : ', image_id)#### Load a specific image using image_id\n",
    "#     annotations = dataset_train.image_info[image_id][\"annotations\"]\n",
    "# #     print(annotations)\n",
    "#     for annotation in annotations:\n",
    "#         class_id = dataset_train.map_source_class_id( \"coco.{}\".format(annotation['category_id']))\n",
    "#         print(\"coco.id: {} --> class_id : {}  - {} \".format(annotation['category_id'],class_id, dataset_train.class_names[class_id]))"
   ]
  },
  {
   "cell_type": "markdown",
   "metadata": {
    "heading_collapsed": true,
    "hidden": true
   },
   "source": [
    "####  Display Training / Validation Training set information"
   ]
  },
  {
   "cell_type": "code",
   "execution_count": null,
   "metadata": {
    "ExecuteTime": {
     "end_time": "2018-09-20T13:41:58.073076Z",
     "start_time": "2018-09-20T13:41:58.017365Z"
    },
    "hidden": true
   },
   "outputs": [],
   "source": [
    "print(\"Train Dataset Image Count: {}\".format(len(dataset_train.image_ids)))\n",
    "print(\"Training Dataset Class Count: {}\".format(dataset_train.num_classes))\n",
    "for i, info in enumerate(dataset_train.class_info):\n",
    "    print(\"{:3}. {:50}\".format(i, info['name']))\n",
    "    \n",
    "    \n",
    "print(\"Validation Dataset Image Count: {}\".format(len(dataset_val.image_ids)))\n",
    "print(\"Validation Dataset Class Count: {}\".format(dataset_val.num_classes))\n",
    "for i, info in enumerate(dataset_val.class_info):\n",
    "    print(\"{:3}. {:50}\".format(i, info['name']))    "
   ]
  },
  {
   "cell_type": "markdown",
   "metadata": {
    "heading_collapsed": true,
    "hidden": true
   },
   "source": [
    "#### Display top masks for a random group of images"
   ]
  },
  {
   "cell_type": "code",
   "execution_count": null,
   "metadata": {
    "ExecuteTime": {
     "end_time": "2018-09-20T13:42:01.523874Z",
     "start_time": "2018-09-20T13:41:58.075930Z"
    },
    "hidden": true
   },
   "outputs": [],
   "source": [
    "# Load and display random samples\n",
    "image_ids = np.random.choice(dataset_train.image_ids, 7)\n",
    "for image_id in image_ids:\n",
    "    image = dataset_train.load_image(image_id)\n",
    "    mask, class_ids = dataset_train.load_mask(image_id)\n",
    "    visualize.display_top_masks(image, mask, class_ids, dataset_train.class_names)"
   ]
  },
  {
   "cell_type": "markdown",
   "metadata": {
    "heading_collapsed": true,
    "hidden": true
   },
   "source": [
    "#### Display a random image with instances and mask"
   ]
  },
  {
   "cell_type": "code",
   "execution_count": null,
   "metadata": {
    "ExecuteTime": {
     "end_time": "2018-09-20T13:42:02.368569Z",
     "start_time": "2018-09-20T13:42:01.527170Z"
    },
    "hidden": true
   },
   "outputs": [],
   "source": [
    "# Load random image and mask.\n",
    "# image_id = np.random.choice(dataset_train.image_ids)\n",
    "\n",
    "\n",
    "image    = dataset_train.load_image(image_id)\n",
    "mask, class_ids = dataset_train.load_mask(image_id)\n",
    "# Compute Bounding box\n",
    "bbox = utils.extract_bboxes(mask)\n",
    "\n",
    "# Display image and additional stats\n",
    "print(\"image_id \", image_id, dataset_train.image_reference(image_id))\n",
    "log(\"image\", image)\n",
    "log(\"mask\", mask)\n",
    "log(\"class_ids\", class_ids)\n",
    "log(\"bbox\", bbox)\n",
    "print(class_ids.shape[0], bbox.shape[0])\n",
    "# Display image and instances\n",
    "visualize.display_instances_with_mask(image, bbox, mask, class_ids, dataset_train.class_names)"
   ]
  },
  {
   "cell_type": "markdown",
   "metadata": {},
   "source": [
    "## Run data through model"
   ]
  },
  {
   "cell_type": "code",
   "execution_count": 9,
   "metadata": {
    "ExecuteTime": {
     "end_time": "2019-02-08T13:48:37.565909Z",
     "start_time": "2019-02-08T13:48:37.077864Z"
    },
    "hideCode": false,
    "hidePrompt": false
   },
   "outputs": [
    {
     "name": "stdout",
     "output_type": "stream",
     "text": [
      "image id :  2\n",
      " Image_id    :  2  Reference:  [('sun', (139, 30, 119), (11, 19, 8, 8)), ('building', (41, 92, 130), (31, 51, 12, 14)), ('car', (170, 43, 151), (87, 90, 24, 12))] Coco Id: 2\n",
      " Image meta  :  [  2 128 128   3   0   0 128 128]\n",
      " Class ids   :  (3,)    [3 4 2]\n",
      " Class Names :  ['sun', 'building', 'car']\n",
      "image id :  3\n",
      " Image_id    :  3  Reference:  [('sun', (222, 106, 160), (98, 7, 4, 4)), ('cloud', (87, 33, 222), (27, 22, 19, 6)), ('cloud', (52, 202, 231), (104, 26, 27, 9)), ('building', (129, 161, 6), (64, 45, 10, 11)), ('car', (206, 81, 244), (64, 71, 17, 8)), ('car', (101, 215, 28), (27, 73, 18, 9)), ('tree', (109, 242, 147), (93, 90, 19, 19)), ('car', (167, 53, 216), (39, 92, 24, 12)), ('car', (170, 51, 31), (74, 100, 27, 13)), ('person', (189, 81, 192), (49, 106, 3, 19))] Coco Id: 3\n",
      " Image meta  :  [  3 128 128   3   0   0 128 128]\n",
      " Class ids   :  (10,)    [3 6 6 4 2 2 5 2 2 1]\n",
      " Class Names :  ['sun', 'cloud', 'cloud', 'building', 'car', 'car', 'tree', 'car', 'car', 'person']\n"
     ]
    },
    {
     "data": {
      "image/png": "[encoded data removed]",
      "text/plain": [
       "<matplotlib.figure.Figure at 0x7fcbd962ef60>"
      ]
     },
     "metadata": {},
     "output_type": "display_data"
    },
    {
     "data": {
      "image/png": "[encoded data removed]",
      "text/plain": [
       "<matplotlib.figure.Figure at 0x7fcbcfd8ecf8>"
      ]
     },
     "metadata": {},
     "output_type": "display_data"
    }
   ],
   "source": [
    "train_batch_x = prep.get_training_batch(dataset_train, mrcnn_model.config, [2,3])\n",
    "# train_batch_x, _ = next(train_generator) \n",
    "# train_batch_x = data_gen_simulate(dataset_train, mrcnn_model.config, [0,1])\n",
    "# visualize.display_training_batch(dataset_train, train_batch_x)\n"
   ]
  },
  {
   "cell_type": "markdown",
   "metadata": {},
   "source": [
    "###  `run_mrcnn_training_pipeline()`"
   ]
  },
  {
   "cell_type": "code",
   "execution_count": 10,
   "metadata": {
    "ExecuteTime": {
     "end_time": "2019-02-08T13:48:55.015655Z",
     "start_time": "2019-02-08T13:48:39.579905Z"
    },
    "scrolled": false
   },
   "outputs": [
    {
     "name": "stdout",
     "output_type": "stream",
     "text": [
      "/* Inputs */\n",
      "Input  0:  (input_image:0                           ) \t  Input shape: (2, 128, 128, 3)\n",
      "Input  1:  (input_image_meta:0                      ) \t  Input shape: (2, 15)\n",
      "Input  2:  (input_rpn_match:0                       ) \t  Input shape: (2, 4092, 1)\n",
      "Input  3:  (input_rpn_bbox:0                        ) \t  Input shape: (2, 256, 4)\n",
      "Input  4:  (input_gt_class_ids:0                    ) \t  Input shape: (2, 100)\n",
      "Input  5:  (input_gt_boxes:0                        ) \t  Input shape: (2, 100, 4)\n",
      "\n",
      "Requested layers:\n",
      "-----------------\n",
      "Layer   0:  (cntxt_layer/pred_heatmap:0              ) \t  Output shape: (2, 128, 128, 7)\n",
      "Layer   1:  (cntxt_layer/pred_heatmap_scores:0       ) \t  Output shape: (2, 7, 32, 24)\n",
      "Layer   2:  (cntxt_layer_gt/gt_heatmap:0             ) \t  Output shape: (2, 128, 128, 7)\n",
      "Layer   3:  (cntxt_layer_gt/gt_heatmap_scores:0      ) \t  Output shape: (2, 7, 32, 24)\n",
      "Layer   4:  (mrcnn_class_lambda/mrcnn_class:0        ) \t  Output shape: (?, 32, 7)\n",
      "Layer   5:  (mrcnn_bbox_lambda/mrcnn_bbox:0          ) \t  Output shape: (?, 32, 7, 4)\n",
      "Layer   6:  (proposal_targets/output_rois:0          ) \t  Output shape: (2, ?, ?)\n",
      "Layer   7:  (proposal_targets/target_class_ids:0     ) \t  Output shape: (2, ?)\n",
      "Layer   8:  (proposal_targets/target_bbox_deltas:0   ) \t  Output shape: (2, ?, ?)\n",
      "Layer   9:  (proposal_targets/roi_gt_boxes:0         ) \t  Output shape: (2, ?, ?)\n",
      "Layer  10:  (mrcnn_logits_lambda/mrcnn_class_logits:0) \t  Output shape: (?, 32, 7)\n",
      "Layer  11:  (active_class_ids/strided_slice_3:0      ) \t  Output shape: (?, ?)\n",
      "Layer  12:  (ROI/rpn_roi_proposals:0                 ) \t  Output shape: (2, ?, ?)\n",
      "Layer  13:  (cntxt_layer/pr_tensor:0                 ) \t  Output shape: (?, 7, 32, 9)\n",
      "Layer  14:  (cntxt_layer_gt/gt_tensor:0              ) \t  Output shape: (2, 7, 32, 9)\n",
      "Layer  15:  (rpn_class_loss/rpn_class_loss:0         ) \t  Output shape: (1, 1)\n",
      "Layer  16:  (rpn_bbox_loss/rpn_bbox_loss:0           ) \t  Output shape: (1, 1)\n",
      "Layer  17:  (mrcnn_class_loss/mrcnn_class_loss:0     ) \t  Output shape: (1, 1)\n",
      "Layer  18:  (mrcnn_bbox_loss/mrcnn_bbox_loss:0       ) \t  Output shape: (1, 1)\n",
      "\n",
      "/* Outputs */\n",
      "Output idx:  0    Layer:  0: (cntxt_layer/pred_heatmap:0              ) \t  Output shape: (2, 128, 128, 7)\n",
      "Output idx:  1    Layer:  1: (cntxt_layer/pred_heatmap_scores:0       ) \t  Output shape: (2, 7, 32, 24)\n",
      "Output idx:  2    Layer:  2: (cntxt_layer_gt/gt_heatmap:0             ) \t  Output shape: (2, 128, 128, 7)\n",
      "Output idx:  3    Layer:  3: (cntxt_layer_gt/gt_heatmap_scores:0      ) \t  Output shape: (2, 7, 32, 24)\n",
      "Output idx:  4    Layer:  4: (mrcnn_class_lambda/mrcnn_class:0        ) \t  Output shape: (2, 32, 7)\n",
      "Output idx:  5    Layer:  5: (mrcnn_bbox_lambda/mrcnn_bbox:0          ) \t  Output shape: (2, 32, 7, 4)\n",
      "Output idx:  6    Layer:  6: (proposal_targets/output_rois:0          ) \t  Output shape: (2, 32, 4)\n",
      "Output idx:  7    Layer:  7: (proposal_targets/target_class_ids:0     ) \t  Output shape: (2, 32)\n",
      "Output idx:  8    Layer:  8: (proposal_targets/target_bbox_deltas:0   ) \t  Output shape: (2, 32, 4)\n",
      "Output idx:  9    Layer:  9: (proposal_targets/roi_gt_boxes:0         ) \t  Output shape: (2, 32, 4)\n",
      "Output idx: 10    Layer: 10: (mrcnn_logits_lambda/mrcnn_class_logits:0) \t  Output shape: (2, 32, 7)\n",
      "Output idx: 11    Layer: 11: (active_class_ids/strided_slice_3:0      ) \t  Output shape: (2, 7)\n",
      "Output idx: 12    Layer: 12: (ROI/rpn_roi_proposals:0                 ) \t  Output shape: (2, 2000, 4)\n",
      "Output idx: 13    Layer: 13: (cntxt_layer/pr_tensor:0                 ) \t  Output shape: (2, 7, 32, 9)\n",
      "Output idx: 14    Layer: 14: (cntxt_layer_gt/gt_tensor:0              ) \t  Output shape: (2, 7, 32, 9)\n",
      "Output idx: 15    Layer: 15: (rpn_class_loss/rpn_class_loss:0         ) \t  Output shape: (1, 1)\n",
      "Output idx: 16    Layer: 16: (rpn_bbox_loss/rpn_bbox_loss:0           ) \t  Output shape: (1, 1)\n",
      "Output idx: 17    Layer: 17: (mrcnn_class_loss/mrcnn_class_loss:0     ) \t  Output shape: (1, 1)\n",
      "Output idx: 18    Layer: 18: (mrcnn_bbox_loss/mrcnn_bbox_loss:0       ) \t  Output shape: (1, 1)\n",
      "\n",
      "Number of layers generated:  19 \n",
      "\n",
      "pred_heatmap              = model_output[0]          # layer:  0   shape: (2, 128, 128, 7)\n",
      "pred_heatmap_scores       = model_output[1]          # layer:  1   shape: (2, 7, 32, 24)\n",
      "gt_heatmap                = model_output[2]          # layer:  2   shape: (2, 128, 128, 7)\n",
      "gt_heatmap_scores         = model_output[3]          # layer:  3   shape: (2, 7, 32, 24)\n",
      "mrcnn_class               = model_output[4]          # layer:  4   shape: (2, 32, 7)\n",
      "mrcnn_bbox                = model_output[5]          # layer:  5   shape: (2, 32, 7, 4)\n",
      "output_rois               = model_output[6]          # layer:  6   shape: (2, 32, 4)\n",
      "target_class_ids          = model_output[7]          # layer:  7   shape: (2, 32)\n",
      "target_bbox_deltas        = model_output[8]          # layer:  8   shape: (2, 32, 4)\n",
      "roi_gt_boxes              = model_output[9]          # layer:  9   shape: (2, 32, 4)\n",
      "mrcnn_class_logits        = model_output[10]          # layer: 10   shape: (2, 32, 7)\n",
      "strided_slice_3           = model_output[11]          # layer: 11   shape: (2, 7)\n",
      "rpn_roi_proposals         = model_output[12]          # layer: 12   shape: (2, 2000, 4)\n",
      "pr_tensor                 = model_output[13]          # layer: 13   shape: (2, 7, 32, 9)\n",
      "gt_tensor                 = model_output[14]          # layer: 14   shape: (2, 7, 32, 9)\n",
      "rpn_class_loss            = model_output[15]          # layer: 15   shape: (1, 1)\n",
      "rpn_bbox_loss             = model_output[16]          # layer: 16   shape: (1, 1)\n",
      "mrcnn_class_loss          = model_output[17]          # layer: 17   shape: (1, 1)\n",
      "mrcnn_bbox_loss           = model_output[18]          # layer: 18   shape: (1, 1)\n"
     ]
    }
   ],
   "source": [
    "# outputs = run_mrcnn_training_pipeline(mrcnn_model, dataset_train, train_batch_x, verbose= 1)\n",
    "model_output = mrcnn_model.get_layer_outputs(train_batch_x,  verbose = 1)"
   ]
  },
  {
   "cell_type": "markdown",
   "metadata": {},
   "source": [
    "#### Load output data"
   ]
  },
  {
   "cell_type": "code",
   "execution_count": 11,
   "metadata": {
    "ExecuteTime": {
     "end_time": "2019-02-08T13:48:58.420613Z",
     "start_time": "2019-02-08T13:48:58.347187Z"
    },
    "hideCode": false,
    "hideOutput": true,
    "hidePrompt": false,
    "scrolled": true
   },
   "outputs": [
    {
     "name": "stdout",
     "output_type": "stream",
     "text": [
      "19\n",
      "(2, 128, 128, 7)\n",
      "(2, 7, 32, 24)\n",
      "(2, 128, 128, 7)\n",
      "(2, 7, 32, 24)\n",
      "(2, 32, 7)\n",
      "(2, 32, 7, 4)\n",
      "(2, 32, 4)\n",
      "(2, 32)\n",
      "(2, 32, 4)\n",
      "(2, 32, 4)\n",
      "(2, 32, 7)\n",
      "(2, 7)\n",
      "(2, 2000, 4)\n",
      "(2, 7, 32, 9)\n",
      "(2, 7, 32, 9)\n",
      "(1, 1)\n",
      "(1, 1)\n",
      "(1, 1)\n",
      "(1, 1)\n"
     ]
    }
   ],
   "source": [
    "print(len(model_output))\n",
    "model_pred_heatmap              = model_output[0]          # layer:  0   shape: (2, 128, 128, 7)\n",
    "model_pred_heatmap_scores       = model_output[1]          # layer:  1   shape: (2, 7, 32, 23)\n",
    "model_gt_heatmap                = model_output[2]          # layer:  2   shape: (2, 128, 128, 7)\n",
    "model_gt_heatmap_scores         = model_output[3]          # layer:  3   shape: (2, 7, 32, 23)\n",
    "model_mrcnn_class               = model_output[4]          # layer:  4   shape: (2, 32, 7)\n",
    "model_mrcnn_bbox                = model_output[5]          # layer:  5   shape: (2, 32, 7, 4)\n",
    "model_output_rois               = model_output[6]          # layer:  6   shape: (2, 32, 4)\n",
    "model_target_class_ids          = model_output[7]          # layer:  7   shape: (2, 32)\n",
    "model_target_bbox_deltas        = model_output[8]          # layer:  8   shape: (2, 32, 4)\n",
    "model_roi_gt_boxes              = model_output[9]          # layer:  9   shape: (2, 32, 4)\n",
    "model_mrcnn_class_logits        = model_output[10]          # layer: 10   shape: (2, 32, 7)\n",
    "model_strided_slice_3           = model_output[11]          # layer: 11   shape: (2, 7)\n",
    "model_rpn_roi_proposals         = model_output[12]          # layer: 12   shape: (2, 2000, 4)\n",
    "model_pr_tensor                 = model_output[13]\n",
    "model_gt_tensor                 = model_output[14]          # layer: 14   shape: (2, 7, 32, 8)\n",
    "model_rpn_class_loss            = model_output[15]          # layer: 15   shape: (1, 1)\n",
    "model_rpn_bbox_loss             = model_output[16]          # layer: 16   shape: (1, 1)\n",
    "model_mrcnn_class_loss          = model_output[17]          # layer: 17   shape: (1, 1)\n",
    "model_mrcnn_bbox_loss           = model_output[18]          # layer: 18   shape: (1, 1)\n",
    "\n",
    "# model_mrcnn_class               = outputs[0]\n",
    "# model_mrcnn_bbox                = outputs[1]\n",
    "# model_output_rois               = outputs[2]\n",
    "# model_target_class_ids          = outputs[3]\n",
    "# model_roi_gt_boxes              = outputs[4]\n",
    "# model_mrcnn_class_logits        = outputs[5]\n",
    "for i in model_output:\n",
    "    print(i.shape)"
   ]
  },
  {
   "cell_type": "code",
   "execution_count": 12,
   "metadata": {
    "ExecuteTime": {
     "end_time": "2019-02-08T13:49:01.642078Z",
     "start_time": "2019-02-08T13:49:01.587381Z"
    },
    "hideCode": false,
    "hideOutput": true,
    "hidePrompt": false,
    "scrolled": true
   },
   "outputs": [
    {
     "name": "stdout",
     "output_type": "stream",
     "text": [
      " Input image shape is    : (2, 128, 128, 3)\n",
      " Input image_meta        : <class 'numpy.ndarray'> (2, 15)\n",
      " input_image_meta        : [  2 128 128   3   0   0 128 128   1   1]\n",
      " input_gt_class_ids      : (2, 100)\n",
      " input_gt_bboxes         : (2, 100, 4)\n",
      "h/w: 128 128\n"
     ]
    }
   ],
   "source": [
    "input_image          =  train_batch_x[0]\n",
    "input_image_meta     =  train_batch_x[1]\n",
    "input_gt_class_ids   =  train_batch_x[4]\n",
    "input_gt_bboxes      =  train_batch_x[5]\n",
    "print(' Input image shape is    :', input_image.shape)\n",
    "print(' Input image_meta        :', type(input_image_meta), input_image_meta.shape)\n",
    "print(' input_image_meta        :', input_image_meta[0,:10])\n",
    "print(' input_gt_class_ids      :', input_gt_class_ids.shape)\n",
    "print(' input_gt_bboxes         :', input_gt_bboxes.shape)\n",
    "h, w = input_image.shape[1], input_image.shape[2]      #  tf.shape(input_image)[1], tf.shape(input_image)[2]\n",
    "print('h/w:', h,w)\n",
    "# input_gt_bboxes_norm = tf.identity(input_gt_bboxes / [h,w,h,w])\n",
    "# print(' input_gt_bboxes_norm    :', input_gt_bboxes_norm.shape)"
   ]
  },
  {
   "cell_type": "markdown",
   "metadata": {},
   "source": [
    "###  Run using `model.predict()`"
   ]
  },
  {
   "cell_type": "code",
   "execution_count": null,
   "metadata": {
    "ExecuteTime": {
     "end_time": "2019-01-31T20:32:55.101725Z",
     "start_time": "2019-01-31T20:32:39.620694Z"
    },
    "hideCode": false,
    "hidePrompt": false
   },
   "outputs": [],
   "source": [
    "# from mrcnn.prep_notebook import display_training_batch\n",
    "# train_batch_x, _ =  data_gen_simulate(dataset_train, mrcnn_model.config, [12,13])\n",
    "\n",
    "for i in range(40):\n",
    "    train_batch_x, train_batch_y = next(train_generator)\n",
    "\n",
    "    results = mrcnn_model.keras_model.predict(train_batch_x)\n",
    "\n",
    "    for i in range(results[1].shape[0]):\n",
    "        if np.any(np.isnan(results[1][i])):\n",
    "            print('\\n Bad train_batch_x encountered (training phase) - epoch {} , image ids: {} -- Retry with next sample'.\n",
    "                  format(0, train_batch_x[1][i,0]))    \n",
    "        else:\n",
    "            print('\\n epoch {} , image ids: {} -- Is ok'.format(0, train_batch_x[1][i,0]))    \n",
    "        "
   ]
  },
  {
   "cell_type": "code",
   "execution_count": null,
   "metadata": {
    "ExecuteTime": {
     "end_time": "2019-01-31T18:14:28.131606Z",
     "start_time": "2019-01-31T18:14:28.046499Z"
    }
   },
   "outputs": [],
   "source": [
    "print(type(results))\n",
    "for i in results:\n",
    "#     print( i.shape)\n",
    "    print(i.shape, type(i), np.any(np.isnan(i)))\n",
    "print(len(results))\n",
    "# del mrcnn_detection, rpn_roi_proposals, mrcnn_class, mrcnn_bbox\n",
    "pred_heatmap              = results[0]          # layer:  0   shape: (1, 128, 128, 7)\n",
    "pred_heatmap_scores       = results[1]          # layer:  1   shape: (1, 7, 32, 23)\n",
    "gt_heatmap                = results[2]          # layer:  2   shape: (1, 128, 128, 7)\n",
    "gt_heatmap_scores         = results[3]          # layer:  3   shape: (1, 7, 32, 23)\n",
    "mrcnn_class               = results[4]          # layer:  2   shape: (1, 1000, 81)\n",
    "mrcnn_bbox                = results[5]          # layer:  3   shape: (1, 1000, 81, 4)\n",
    "output_rois               = results[6]          # layer:  4    \n",
    "target_class_ids          = results[7]          # layer:  4    \n",
    "target_bbox_deltas        = results[8]          # layer:  4   \n",
    "roi_gt_boxes              = results[9]          # layer:  0   shape: (1, 100, 6)\n",
    "mrcnn_logits              = results[10]\n",
    "active_class_ids          = results[11]\n",
    "rpn_roi_proposals         = results[12]          # layer:  1   shape: (1, 1000, 4)\n",
    "# mrcnn_class        = results['mrcnn_output'][2]          # layer:  2   shape: (1, 1000, 81)\n",
    "\n",
    "# model_pr_hm              = results['mrcnn_output'][4]          # layer:  4   shape: (1, 256, 256, 81)\n",
    "# model_pr_hm_scores       = results['mrcnn_output'][5]          # layer:  5   shape: (1, 81, 100, 11)\n",
    "# print(type(model_output[4]))\n",
    "# print(type(output_rois))\n",
    "print([i.name for i in mrcnn_model.keras_model.outputs])\n",
    "for i in results:\n",
    "    print( i.shape)\n",
    "        "
   ]
  },
  {
   "cell_type": "markdown",
   "metadata": {},
   "source": [
    "#### Run `model.predict()`  in a loop to catch problems"
   ]
  },
  {
   "cell_type": "code",
   "execution_count": null,
   "metadata": {
    "ExecuteTime": {
     "end_time": "2019-01-31T20:31:50.876601Z",
     "start_time": "2019-01-31T20:31:43.202485Z"
    }
   },
   "outputs": [],
   "source": [
    "for epoch_idx in range(20):\n",
    "    train_batch_x, train_batch_y = next(train_generator)\n",
    "    print(train_batch_x[1][:,0])\n",
    "    results = mrcnn_model.keras_model.predict(train_batch_x)\n",
    "    \n",
    "    if np.any(np.isnan(results[1])):\n",
    "        print('\\n Bad train_batch_x encountered (training phase) - epoch {} , image ids: {} -- Retry with next sample'.\n",
    "              format(epoch_idx, train_batch_x[1][:,0]))\n",
    "        break"
   ]
  },
  {
   "cell_type": "code",
   "execution_count": null,
   "metadata": {
    "ExecuteTime": {
     "end_time": "2019-01-31T18:22:33.641579Z",
     "start_time": "2019-01-31T18:22:30.036672Z"
    },
    "hideCode": false,
    "hidePrompt": true
   },
   "outputs": [],
   "source": [
    "results = prep.run_mrcnn_training_pipeline(mrcnn_model, dataset_train, train_batch_x, verbose = True)"
   ]
  },
  {
   "cell_type": "code",
   "execution_count": null,
   "metadata": {
    "ExecuteTime": {
     "end_time": "2019-01-31T18:26:47.105897Z",
     "start_time": "2019-01-31T18:26:47.056756Z"
    },
    "hideCode": false,
    "hidePrompt": true,
    "scrolled": true
   },
   "outputs": [],
   "source": [
    "for i in range(results['mrcnn_output'][1].shape[0]):\n",
    "    if np.any(np.isnan(results['mrcnn_output'][1][i])):\n",
    "        print('\\n Bad train_batch_x encountered (training phase) - epoch {} , image ids: {} -- Retry with next sample'.\n",
    "              format(0, train_batch_x[1][i,0]))    \n",
    "    else:\n",
    "        print('\\n epoch {} , image ids: {} -- Is ok'.format(0, train_batch_x[1][i,0]))    \n",
    "        "
   ]
  },
  {
   "cell_type": "markdown",
   "metadata": {},
   "source": [
    "#### Load output from pipeline into variables"
   ]
  },
  {
   "cell_type": "code",
   "execution_count": null,
   "metadata": {
    "ExecuteTime": {
     "end_time": "2019-01-31T18:27:03.696661Z",
     "start_time": "2019-01-31T18:27:03.630264Z"
    },
    "hideCode": false,
    "hidePrompt": true
   },
   "outputs": [],
   "source": [
    "print(len(results['mrcnn_output']))\n",
    "# del mrcnn_detection, rpn_roi_proposals, mrcnn_class, mrcnn_bbox\n",
    "# print(len(outputs), outputs.keys())\n",
    "model_pr_heatmap                = results['mrcnn_output'][0]          # layer:  0   shape: (1, 256, 256, 81)\n",
    "model_pr_heatmap_scores         = results['mrcnn_output'][1]          # layer:  1   shape: (1, 81, 200, 11)\n",
    "model_gt_heatmap                = results['mrcnn_output'][2]          # layer:  2   shape: (1, 256, 256, 81)\n",
    "model_gt_heatmap_scores         = results['mrcnn_output'][3]          # layer:  3   shape: (1, 81, 200, 11)\n",
    "model_mrcnn_class               = results['mrcnn_output'][4]\n",
    "model_mrcnn_bbox                = results['mrcnn_output'][5]\n",
    "model_output_rois               = results['mrcnn_output'][6]\n",
    "model_target_class_ids          = results['mrcnn_output'][7]\n",
    "model_target_bbox_deltas        = results['mrcnn_output'][8]\n",
    "model_roi_gt_boxes              = results['mrcnn_output'][9]\n",
    "model_mrcnn_class_logits        = results['mrcnn_output'][10]\n",
    "model_active_class_ids          = results['mrcnn_output'][11]          # layer:  6   shape: (1, 81)\n",
    "model_rpn_roi_proposals         = results['mrcnn_output'][12]          # layer:  6   shape: (1, 81)\n",
    "# print(type(output_rois))\n",
    "for i in results['mrcnn_output']:\n",
    "    print( i.shape)\n",
    "\n",
    "#### Display output shapes\n",
    "\n",
    "# print(outputs['image_batch'].shape)\n",
    "for i in results:\n",
    "    print('Group:', i.shape, np.any(np.isnan(i)))\n",
    "#     for item in outputs[i]:\n",
    "#         print(' Type ', type(item), item.shape)"
   ]
  },
  {
   "cell_type": "markdown",
   "metadata": {},
   "source": [
    "#### Load input data"
   ]
  },
  {
   "cell_type": "code",
   "execution_count": null,
   "metadata": {
    "ExecuteTime": {
     "end_time": "2019-02-06T15:16:37.677304Z",
     "start_time": "2019-02-06T15:16:37.624852Z"
    },
    "hideCode": false,
    "hideOutput": true,
    "hidePrompt": false,
    "scrolled": true
   },
   "outputs": [],
   "source": [
    "input_image          =  train_batch_x[0]\n",
    "input_image_meta     =  train_batch_x[1]\n",
    "input_gt_class_ids   =  train_batch_x[4]\n",
    "input_gt_bboxes      =  train_batch_x[5]\n",
    "print(' Input image shape is    :', input_image.shape)\n",
    "print(' Input image_meta        :', type(input_image_meta), input_image_meta.shape)\n",
    "print(' input_image_meta        :', input_image_meta[0,:10])\n",
    "print(' input_gt_class_ids      :', input_gt_class_ids.shape)\n",
    "print(' input_gt_bboxes         :', input_gt_bboxes.shape)\n",
    "h, w = input_image.shape[1], input_image.shape[2]      #  tf.shape(input_image)[1], tf.shape(input_image)[2]\n",
    "print('h/w:', h,w)\n",
    "# input_gt_bboxes_norm = tf.identity(input_gt_bboxes / [h,w,h,w])\n",
    "# print(' input_gt_bboxes_norm    :', input_gt_bboxes_norm.shape)"
   ]
  },
  {
   "cell_type": "markdown",
   "metadata": {},
   "source": [
    "## Display output from model"
   ]
  },
  {
   "cell_type": "code",
   "execution_count": null,
   "metadata": {
    "ExecuteTime": {
     "end_time": "2019-02-06T16:14:18.604428Z",
     "start_time": "2019-02-06T16:14:18.563236Z"
    }
   },
   "outputs": [],
   "source": [
    "float_formatter = lambda x: \"%10.4f\" % x\n",
    "np_format = {}\n",
    "np_format['float']=float_formatter\n",
    "np.set_printoptions(linewidth=195, precision=3, floatmode='fixed', threshold =10000, formatter = np_format)"
   ]
  },
  {
   "cell_type": "markdown",
   "metadata": {
    "heading_collapsed": true
   },
   "source": [
    "####  `input_gt_class_ids`, `input_gt_bboxes`"
   ]
  },
  {
   "cell_type": "code",
   "execution_count": null,
   "metadata": {
    "ExecuteTime": {
     "end_time": "2019-02-07T10:57:04.806494Z",
     "start_time": "2019-02-07T10:57:04.755172Z"
    },
    "hidden": true,
    "hideOutput": false,
    "scrolled": true
   },
   "outputs": [],
   "source": [
    "print(mrcnn_model.config.NUM_CLASSES)\n",
    "# print(roi_gt_boxes[0,:50] * [1024,1024,1024,1024])\n",
    "print(input_gt_class_ids[0])\n",
    "print(input_gt_class_ids[1])\n",
    "cls_count = np.bincount(input_gt_class_ids[0],minlength=mrcnn_model.config.NUM_CLASSES)\n",
    "print('cls_count: ', cls_count)\n",
    "print(input_gt_bboxes[0])\n",
    "# for i in range(input_gt_class_ids.shape[1]):\n",
    "#     if input_gt_class_ids[0,i] == 1:\n",
    "#         print(input_gt_class_ids[0,i], '   ', input_gt_bboxes[0,i])"
   ]
  },
  {
   "cell_type": "markdown",
   "metadata": {
    "heading_collapsed": true
   },
   "source": [
    "####  Display `output_rois`"
   ]
  },
  {
   "cell_type": "code",
   "execution_count": null,
   "metadata": {
    "ExecuteTime": {
     "end_time": "2019-02-06T15:18:11.969620Z",
     "start_time": "2019-02-06T15:18:11.922663Z"
    },
    "hidden": true,
    "hideCode": false,
    "hideOutput": true,
    "scrolled": false
   },
   "outputs": [],
   "source": [
    "np.set_printoptions(precision=4, threshold=4000, linewidth=210, suppress=True)\n",
    "img = 0\n",
    "print(' output_rois')\n",
    "print(model_output_rois.shape)\n",
    "# print(output_rois[0,:40,:])\n",
    "print(model_output_rois [0,:,:]* [h, w, h, w])"
   ]
  },
  {
   "cell_type": "code",
   "execution_count": null,
   "metadata": {
    "ExecuteTime": {
     "end_time": "2019-02-06T16:07:43.797444Z",
     "start_time": "2019-02-06T16:07:43.748580Z"
    },
    "hidden": true,
    "scrolled": false
   },
   "outputs": [],
   "source": [
    "# visualize.display_pr_hm_scores_box_info(model_pr_heatmap_scores[0], class_names, only = None)\n",
    "vis2.display_pr_hm_scores(model_pred_heatmap_scores[0], class_names)"
   ]
  },
  {
   "cell_type": "markdown",
   "metadata": {},
   "source": [
    "####  `mrcnn_class` , `argmax_mrcnn_class'"
   ]
  },
  {
   "cell_type": "code",
   "execution_count": 21,
   "metadata": {
    "ExecuteTime": {
     "end_time": "2019-02-08T13:56:31.154614Z",
     "start_time": "2019-02-08T13:56:31.093429Z"
    },
    "scrolled": true
   },
   "outputs": [
    {
     "name": "stdout",
     "output_type": "stream",
     "text": [
      " mrcnn_class (2, 32, 7)\n",
      "[[0.0063 0.     0.9936 0.     0.0001 0.     0.    ]\n",
      " [0.4746 0.     0.5229 0.     0.0006 0.002  0.    ]\n",
      " [0.0176 0.     0.9784 0.     0.0036 0.0004 0.    ]\n",
      " [0.0003 0.     0.     0.9984 0.0006 0.0005 0.0002]\n",
      " [0.0001 0.     0.9992 0.     0.0004 0.     0.0003]\n",
      " [0.0988 0.     0.893  0.     0.0069 0.0013 0.    ]\n",
      " [0.0004 0.     0.     0.     0.9996 0.     0.    ]\n",
      " [0.     0.     0.9997 0.     0.0002 0.     0.    ]\n",
      " [0.     0.     0.     0.     1.     0.     0.    ]\n",
      " [0.0001 0.     0.9996 0.     0.0003 0.     0.    ]\n",
      " [0.9994 0.     0.     0.     0.0002 0.0004 0.    ]\n",
      " [1.     0.     0.     0.     0.     0.     0.    ]\n",
      " [0.7446 0.     0.2496 0.     0.0033 0.0024 0.    ]\n",
      " [0.9999 0.     0.     0.     0.     0.     0.0001]\n",
      " [0.9999 0.     0.     0.     0.     0.     0.0001]\n",
      " [0.8609 0.     0.0007 0.     0.1377 0.0003 0.0004]\n",
      " [0.9998 0.     0.     0.     0.0002 0.     0.    ]\n",
      " [0.9996 0.     0.0001 0.     0.0001 0.0002 0.    ]\n",
      " [1.     0.     0.     0.     0.     0.     0.    ]\n",
      " [1.     0.     0.     0.     0.     0.     0.    ]\n",
      " [0.9997 0.     0.     0.     0.     0.0002 0.    ]\n",
      " [0.9983 0.     0.     0.     0.0015 0.     0.0002]\n",
      " [0.4425 0.     0.0006 0.     0.5559 0.0002 0.0007]\n",
      " [0.9998 0.     0.     0.     0.0002 0.     0.    ]\n",
      " [1.     0.     0.     0.     0.     0.     0.    ]\n",
      " [0.3388 0.     0.6429 0.     0.0015 0.0167 0.    ]\n",
      " [0.9997 0.     0.     0.     0.     0.0003 0.    ]\n",
      " [0.9998 0.     0.     0.     0.     0.     0.0002]\n",
      " [0.8811 0.     0.1027 0.     0.014  0.002  0.0001]\n",
      " [0.9999 0.     0.     0.     0.0001 0.0001 0.    ]\n",
      " [1.     0.     0.     0.     0.     0.     0.    ]\n",
      " [1.     0.     0.     0.     0.     0.     0.    ]]\n",
      "\n",
      " mrcnn_class Max Values   :  (2, 32)\n",
      "[[0.9936 0.5229 0.9784 0.9984 0.9992 0.893  0.9996 0.9997 1.     0.9996 0.9994 1.     0.7446 0.9999 0.9999 0.8609 0.9998 0.9996 1.     1.     0.9997 0.9983 0.5559 0.9998 1.     0.6429 0.9997 0.9998 0.8811\n",
      "  0.9999 1.     1.    ]\n",
      " [0.9998 0.9998 0.9836 0.9997 0.9974 0.9992 0.9986 0.9785 0.9994 0.9594 0.9998 0.9996 0.9924 0.9974 1.     0.9989 0.9964 0.9979 0.9851 0.9999 0.9991 0.6751 0.96   0.9726 0.998  0.9953 0.9973 0.9998 0.9369\n",
      "  0.9974 1.     1.    ]]\n",
      " mrcnn_class Argmax Values:  (2, 32)\n",
      "[2 2 2 3 2 2 4 2 4 2 0 0 0 0 0 0 0 0 0 0 0 0 4 0 0 2 0 0 0 0 0 0]\n",
      " target_class_ds    Values:  (2, 32)\n",
      "[2 2 2 3 2 2 4 2 4 2 0 0 0 0 0 0 0 0 0 0 0 0 0 0 0 0 0 0 0 0 0 0]\n"
     ]
    }
   ],
   "source": [
    "np.set_printoptions(precision=4, threshold=4000, linewidth=210, suppress=True)\n",
    "print(' mrcnn_class', model_mrcnn_class.shape)\n",
    "print( model_mrcnn_class[0])\n",
    "# \n",
    "max_mrcnn_class    = np.max(model_mrcnn_class, axis = 2)\n",
    "argmax_mrcnn_class = np.argmax(model_mrcnn_class, axis = 2)\n",
    "\n",
    "# print()\n",
    "print('\\n mrcnn_class Max Values   : ', max_mrcnn_class.shape)\n",
    "print(max_mrcnn_class)\n",
    "\n",
    "# print()\n",
    "print(' mrcnn_class Argmax Values: ', argmax_mrcnn_class.shape)\n",
    "print(argmax_mrcnn_class[0])\n",
    "\n",
    "print(' target_class_ds    Values: ', model_target_class_ids.shape)\n",
    "print(model_target_class_ids[0])\n",
    "\n",
    "# for i in range(100):\n",
    "#     print('Predicted: ', argmax_mrcnn_class[0,i],  '  Actual ', target_class_ids[0,i])\n",
    " "
   ]
  },
  {
   "cell_type": "markdown",
   "metadata": {
    "ExecuteTime": {
     "end_time": "2019-02-06T17:27:01.331189Z",
     "start_time": "2019-02-06T17:27:01.229601Z"
    },
    "scrolled": true
   },
   "source": [
    "#### GET mrcnn_boxes for mrcnn_class predictions with maximum score"
   ]
  },
  {
   "cell_type": "code",
   "execution_count": 23,
   "metadata": {
    "ExecuteTime": {
     "end_time": "2019-02-08T13:58:15.322191Z",
     "start_time": "2019-02-08T13:58:15.238348Z"
    },
    "scrolled": true
   },
   "outputs": [
    {
     "name": "stdout",
     "output_type": "stream",
     "text": [
      "[[0 0 0 0 0 0 0 0 0 0 0 0 0 0 0 0 0 0 0 0 0 0 0 0 0 0 0 0 0 0 0 0]\n",
      " [1 1 1 1 1 1 1 1 1 1 1 1 1 1 1 1 1 1 1 1 1 1 1 1 1 1 1 1 1 1 1 1]]\n",
      "[[ 0  1  2  3  4  5  6  7  8  9 10 11 12 13 14 15 16 17 18 19 20 21 22 23 24 25 26 27 28 29 30 31]\n",
      " [ 0  1  2  3  4  5  6  7  8  9 10 11 12 13 14 15 16 17 18 19 20 21 22 23 24 25 26 27 28 29 30 31]]\n",
      "\n",
      " mrcnn_class Argmax Values:  (2, 32)\n",
      "[2 2 2 3 2 2 4 2 4 2 0 0 0 0 0 0 0 0 0 0 0 0 4 0 0 2 0 0 0 0 0 0]\n",
      "[6 2 2 2 2 6 6 0 4 6 0 0 0 0 0 0 0 0 0 0 0 0 0 0 0 0 0 0 0 0 0 0]\n",
      "\n",
      " target_class_ds    Values:  (2, 32)\n",
      "[2 2 2 3 2 2 4 2 4 2 0 0 0 0 0 0 0 0 0 0 0 0 0 0 0 0 0 0 0 0 0 0]\n",
      "[6 2 2 2 2 6 6 2 4 6 0 0 0 0 0 0 0 0 0 0 0 0 0 0 0 0 0 0 0 0 0 0]\n",
      "\n",
      " mrcnn_deltas corresponding to highest predicted classes (2, 32, 4)\n",
      "-----------------------------------------------------------------------\n",
      "[[  3.4239   0.0472  -3.6041  -1.5494]\n",
      " [  4.3796   1.464   -3.8668  -1.6732]\n",
      " [  1.7829  -2.4331  -4.9403  -0.9593]\n",
      " [  0.7533  -0.8296   0.2705  -0.5579]\n",
      " [ -0.32     0.2081   0.1739  -0.1891]\n",
      " [ -1.3996   2.6503  -5.239   -1.652 ]\n",
      " [  0.1223   3.7177  -1.3823  -2.2735]\n",
      " [  2.6609  -0.07    -0.6883  -0.0483]\n",
      " [  1.2672  -1.4507  -1.3903  -3.0873]\n",
      " [  1.2713   1.3003  -2.9662  -1.0574]\n",
      " [  0.6914  -2.3839   0.688   -1.8492]\n",
      " [  0.5137  -5.1147   2.1799  -1.3533]\n",
      " [  0.0852  -5.0414   3.0902  -1.0265]\n",
      " [  2.8821  -5.5731   1.4376  -3.2679]\n",
      " [  4.019   -4.5549   0.6411  -0.1565]\n",
      " [ -0.2951  -4.3676   5.1473  -1.7345]\n",
      " [  2.1553  -4.3214   1.1255  -3.2746]\n",
      " [  0.5478  -2.209    1.1168  -2.0859]\n",
      " [  5.5883  -4.0158  -1.7477  -1.7167]\n",
      " [  2.331   -3.0444   1.3336  -2.3499]\n",
      " [  0.9525  -2.5156   0.6447  -1.9032]\n",
      " [  1.2601  -4.7763   3.6661  -3.4921]\n",
      " [ -1.7584  -2.3188  -2.3852  -4.7138]\n",
      " [  1.043   -3.6007   1.4118  -3.2017]\n",
      " [  4.2373  -2.948   -1.0307  -0.5617]\n",
      " [  2.6017   1.2868  -4.7054  -2.1491]\n",
      " [  0.778   -2.6259   1.1376  -1.8436]\n",
      " [  4.5712  -5.1309   1.021   -0.8865]\n",
      " [  0.2091  -3.6437   2.234   -2.0438]\n",
      " [  1.6863  -3.3805   1.6296  -2.006 ]\n",
      " [-12.7614 -13.7048   4.8676  -4.5722]\n",
      " [-12.7614 -13.7048   4.8676  -4.5722]]\n",
      " argmax_mrcnn_deltas.shape: (2, 32, 4)\n",
      "[[  0.246   -0.0939   0.1016   0.2753]\n",
      " [ -0.1964  -1.2814  -3.2959  -1.3002]\n",
      " [  1.6414   0.5578  -1.9004  -0.6104]\n",
      " [  1.0052  -0.9426  -3.2346   0.1872]\n",
      " [  0.8617   0.1962  -2.6103   1.442 ]\n",
      " [  0.7425  -2.6768  -2.4553  -0.5511]\n",
      " [ -1.2023   1.9008  -2.7626  -1.618 ]\n",
      " [ -0.7832  -3.9098   2.7241  -2.0183]\n",
      " [ -0.3702  -0.2548   0.0925  -0.1513]\n",
      " [  2.0518  -1.4168  -3.8904  -2.0822]\n",
      " [  0.5214  -2.9789   0.8746  -1.6644]\n",
      " [  0.8543  -2.903    2.316   -1.6569]\n",
      " [  1.5683  -3.8271   1.851   -2.149 ]\n",
      " [  1.1059  -4.1018   2.7117  -3.3371]\n",
      " [  1.6172  -4.1239   2.487   -2.2278]\n",
      " [  1.0612  -0.5682  -2.1382   0.9671]\n",
      " [  0.8762   0.3418  -1.8407   0.5501]\n",
      " [  1.2636  -4.4927   3.3662  -3.4545]\n",
      " [  5.0863  -3.8316  -0.9561  -0.5649]\n",
      " [  0.8698  -3.9063   2.1708  -1.0868]\n",
      " [  3.9607  -6.396    1.8765  -2.5338]\n",
      " [ -0.8009  -3.1065   1.5375  -2.3188]\n",
      " [  0.2207  -3.7545   2.4924  -2.0474]\n",
      " [  4.6904  -2.8721   0.1977   0.2533]\n",
      " [  0.5216  -3.985    2.8574  -3.3489]\n",
      " [  0.4864  -3.7769   2.7528  -2.668 ]\n",
      " [  1.295    0.0497  -2.868    0.962 ]\n",
      " [  1.6293  -5.2946   1.5672  -3.4559]\n",
      " [  0.1677  -2.6504  -1.8866  -0.2376]\n",
      " [  3.2805  -4.2337   1.067   -0.548 ]\n",
      " [-10.7427 -11.742    3.7961  -3.8289]\n",
      " [-10.7427 -11.742    3.7961  -3.8289]]\n",
      "\n",
      " mrcnn_class Max Values   :  (2, 32)\n",
      "[0.9936 0.5229 0.9784 0.9984 0.9992 0.893  0.9996 0.9997 1.     0.9996 0.9994 1.     0.7446 0.9999 0.9999 0.8609 0.9998 0.9996 1.     1.     0.9997 0.9983 0.5559 0.9998 1.     0.6429 0.9997 0.9998 0.8811\n",
      " 0.9999 1.     1.    ]\n",
      "[0.9998 0.9998 0.9836 0.9997 0.9974 0.9992 0.9986 0.9785 0.9994 0.9594 0.9998 0.9996 0.9924 0.9974 1.     0.9989 0.9964 0.9979 0.9851 0.9999 0.9991 0.6751 0.96   0.9726 0.998  0.9953 0.9973 0.9998 0.9369\n",
      " 0.9974 1.     1.    ]\n"
     ]
    }
   ],
   "source": [
    "img_idx, bbox_idx = np.meshgrid( np.arange(mrcnn_model.config.BATCH_SIZE),\n",
    "                                 np.arange(mrcnn_model.config.TRAIN_ROIS_PER_IMAGE), indexing = 'ij' )\n",
    "print(img_idx)\n",
    "print(bbox_idx)\n",
    "\n",
    "argmax_mrcnn_class = np.argmax(model_mrcnn_class, axis = 2)\n",
    "argmax_mrcnn_class_score = np.max(model_mrcnn_class, axis = 2)\n",
    "\n",
    "# print()\n",
    "print('\\n mrcnn_class Argmax Values: ', argmax_mrcnn_class.shape)\n",
    "print(argmax_mrcnn_class[0])\n",
    "print(argmax_mrcnn_class[1])\n",
    "\n",
    "print('\\n target_class_ds    Values: ', model_target_class_ids.shape)\n",
    "print(model_target_class_ids[0])\n",
    "print(model_target_class_ids[1])\n",
    "\n",
    "\n",
    "argmax_mrcnn_deltas = model_mrcnn_bbox[img_idx,bbox_idx, argmax_mrcnn_class]\n",
    "print('\\n mrcnn_deltas corresponding to highest predicted classes', argmax_mrcnn_deltas.shape)\n",
    "print('-----------------------------------------------------------------------')\n",
    "print(argmax_mrcnn_deltas[0])\n",
    "print(' argmax_mrcnn_deltas.shape:', argmax_mrcnn_deltas.shape)\n",
    "print(argmax_mrcnn_deltas[1])\n",
    "print('\\n mrcnn_class Max Values   : ', argmax_mrcnn_class_score.shape)\n",
    "print(argmax_mrcnn_class_score[0])\n",
    "print(argmax_mrcnn_class_score[1])\n",
    "\n",
    "\n",
    "\n",
    "\n",
    "# for i in range(100):\n",
    "#     print('Predicted: ', argmax_mrcnn_class[0,i],  '  Actual ', target_class_ids[0,i])\n",
    " "
   ]
  },
  {
   "cell_type": "code",
   "execution_count": null,
   "metadata": {
    "ExecuteTime": {
     "end_time": "2019-02-07T11:48:28.085297Z",
     "start_time": "2019-02-07T11:48:28.038905Z"
    }
   },
   "outputs": [],
   "source": [
    "img_id  = 0\n",
    "bbox_id = 28\n",
    "print(' bbox: ', bbox_id)\n",
    "selected_class_id =  argmax_mrcnn_class[0,bbox_id]\n",
    "print(' class scores: ', model_mrcnn_class[img_id,bbox_id], ' selected class:', selected_class_id)\n",
    "print(' mrcnn_bbox deltas:')\n",
    "print(model_mrcnn_bbox[img_id,bbox_id])\n",
    "print(' selected delta      :', model_mrcnn_bbox[img_id,bbox_id, selected_class_id])\n",
    "print(' argmax_mrcnn_deltas :', argmax_mrcnn_deltas[img_id,bbox_id])"
   ]
  },
  {
   "cell_type": "markdown",
   "metadata": {},
   "source": [
    "#### Display  `target_class_ids()`, `target_bbox_deltas`, `roi_gt_boxes`"
   ]
  },
  {
   "cell_type": "code",
   "execution_count": 26,
   "metadata": {
    "ExecuteTime": {
     "end_time": "2019-02-08T13:59:42.809677Z",
     "start_time": "2019-02-08T13:59:42.763559Z"
    },
    "hideCode": false,
    "hideOutput": true
   },
   "outputs": [
    {
     "name": "stdout",
     "output_type": "stream",
     "text": [
      "model_target_class_ids:  (2, 32)\n",
      "[2 2 2 3 2 2 4 2 4 2 0 0 0 0 0 0 0 0 0 0 0 0 0 0 0 0 0 0 0 0 0 0]\n",
      "\n",
      "model_roi_gt_boxes:  (2, 32, 4)\n",
      "[[0.6094 0.4922 0.7734 0.875 ]\n",
      " [0.6094 0.4922 0.7734 0.875 ]\n",
      " [0.6094 0.4922 0.7734 0.875 ]\n",
      " [0.0859 0.0234 0.2188 0.1562]\n",
      " [0.6094 0.4922 0.7734 0.875 ]\n",
      " [0.6094 0.4922 0.7734 0.875 ]\n",
      " [0.2891 0.1484 0.5156 0.3438]\n",
      " [0.6094 0.4922 0.7734 0.875 ]\n",
      " [0.2891 0.1484 0.5156 0.3438]\n",
      " [0.6094 0.4922 0.7734 0.875 ]\n",
      " [0.     0.     0.     0.    ]\n",
      " [0.     0.     0.     0.    ]\n",
      " [0.     0.     0.     0.    ]\n",
      " [0.     0.     0.     0.    ]\n",
      " [0.     0.     0.     0.    ]\n",
      " [0.     0.     0.     0.    ]\n",
      " [0.     0.     0.     0.    ]\n",
      " [0.     0.     0.     0.    ]\n",
      " [0.     0.     0.     0.    ]\n",
      " [0.     0.     0.     0.    ]\n",
      " [0.     0.     0.     0.    ]\n",
      " [0.     0.     0.     0.    ]\n",
      " [0.     0.     0.     0.    ]\n",
      " [0.     0.     0.     0.    ]\n",
      " [0.     0.     0.     0.    ]\n",
      " [0.     0.     0.     0.    ]\n",
      " [0.     0.     0.     0.    ]\n",
      " [0.     0.     0.     0.    ]\n",
      " [0.     0.     0.     0.    ]\n",
      " [0.     0.     0.     0.    ]\n",
      " [0.     0.     0.     0.    ]\n",
      " [0.     0.     0.     0.    ]]\n"
     ]
    }
   ],
   "source": [
    "print('model_target_class_ids: ', model_target_class_ids.shape)\n",
    "print(model_target_class_ids[0])\n",
    "# print(model_target_bbox_deltas.shape)\n",
    "# print(model_target_bbox_deltas[0])\n",
    "print('\\nmodel_roi_gt_boxes: ', model_roi_gt_boxes.shape)\n",
    "print(model_roi_gt_boxes[0])"
   ]
  },
  {
   "cell_type": "markdown",
   "metadata": {
    "heading_collapsed": true
   },
   "source": [
    "####  apply `deltas` from predicted delta `mrcnn_bbox`  to  `output_rois` to obtain refined rois "
   ]
  },
  {
   "cell_type": "code",
   "execution_count": 37,
   "metadata": {
    "ExecuteTime": {
     "end_time": "2019-02-08T14:05:12.645098Z",
     "start_time": "2019-02-08T14:05:12.548851Z"
    },
    "hidden": true,
    "scrolled": false
   },
   "outputs": [
    {
     "name": "stdout",
     "output_type": "stream",
     "text": [
      "mrcnn_class shape: (2, 32, 7)\n",
      "mrcnn_bbox shape : (2, 32, 7, 4)\n",
      "predicted_classes: (2, 32)\n",
      "predicted_deltas : (2, 32, 4)\n",
      "model_output_rois (2, 32, 4)\n",
      "deltas  (2, 32, 4)\n",
      "input_gt_class_ids.shape: (2, 100)\n",
      "[[3 4 2 0 0 0 0 0 0 0 0 0 0 0 0 0 0 0 0 0 0 0 0 0 0 0 0 0 0 0 0 0 0 0 0 0 0 0 0 0 0 0 0 0 0 0 0 0 0 0 0 0 0 0 0 0 0 0 0 0 0 0 0 0 0 0 0 0 0 0 0 0 0 0 0 0 0 0 0 0 0 0 0 0 0 0 0 0 0 0 0 0 0 0 0 0 0 0 0 0]\n",
      " [3 6 6 4 2 2 5 2 2 1 0 0 0 0 0 0 0 0 0 0 0 0 0 0 0 0 0 0 0 0 0 0 0 0 0 0 0 0 0 0 0 0 0 0 0 0 0 0 0 0 0 0 0 0 0 0 0 0 0 0 0 0 0 0 0 0 0 0 0 0 0 0 0 0 0 0 0 0 0 0 0 0 0 0 0 0 0 0 0 0 0 0 0 0 0 0 0 0 0 0]]\n",
      "2     [ 78  63  99 112]\n",
      "\n",
      " i:  0  class:  2\n",
      "   orig output_rois    :  [ 53.0712  57.0012  94.9063 120.7323]\n",
      "   refined ouptut_rois :  [ 78.1394  65.7934  98.4862 112.5419]\n",
      "   roi_gt_bboxes       :  [ 78.  63.  99. 112.]\n",
      "\n",
      "   predicted deltas    :  [ 3.4239  0.0472 -3.6041 -1.5494]\n",
      "   target deltas       :  [ 3.4687 -0.2145 -3.4461 -1.3143]\n",
      "\n",
      " i:  1  class:  2\n",
      "   orig output_rois    :  [ 43.2322  47.0632  92.5923 112.6236]\n",
      "   refined ouptut_rois :  [ 78.141   65.9842 100.9185 112.8988]\n",
      "   roi_gt_bboxes       :  [ 78.  63.  99. 112.]\n",
      "\n",
      "   predicted deltas    :  [ 4.3796  1.464  -3.8668 -1.6732]\n",
      "   target deltas       :  [ 4.1709  1.1679 -4.2731 -1.4558]\n",
      "\n",
      " i:  2  class:  2\n",
      "   orig output_rois    :  [ 53.4284  74.8479 108.5977 128.    ]\n",
      "   refined ouptut_rois :  [ 80.5796  66.5552 101.119  110.4277]\n",
      "   roi_gt_bboxes       :  [ 78.  63.  99. 112.]\n",
      "\n",
      "   predicted deltas    :  [ 1.7829 -2.4331 -4.9403 -0.9593]\n",
      "   target deltas       :  [ 1.3571 -2.6196 -4.8294 -0.4067]\n",
      "\n",
      " i:  4  class:  2\n",
      "   orig output_rois    :  [ 78.9099  60.9233  98.5082 110.5297]\n",
      "   refined ouptut_rois :  [ 77.9359  62.8762  98.2278 110.6417]\n",
      "   roi_gt_bboxes       :  [ 78.  63.  99. 112.]\n",
      "\n",
      "   predicted deltas    :  [-0.32    0.2081  0.1739 -0.1891]\n",
      "   target deltas       :  [-0.1067  0.3575  0.3454 -0.0615]\n",
      "\n",
      " i:  5  class:  2\n",
      "   orig output_rois    :  [ 66.2805  38.536  126.0137 107.9388]\n",
      "   refined ouptut_rois :  [ 77.3123  66.6937  98.2614 116.5691]\n",
      "   roi_gt_bboxes       :  [ 78.  63.  99. 112.]\n",
      "\n",
      "   predicted deltas    :  [-1.3996  2.6503 -5.239  -1.652 ]\n",
      "   target deltas       :  [-1.2802  2.0551 -5.2268 -1.7405]\n",
      "\n",
      " i:  7  class:  2\n",
      "   orig output_rois    :  [ 69.0537  64.6333  94.0564 112.759 ]\n",
      "   refined ouptut_rois :  [ 77.3143  64.5277  99.1016 112.1908]\n",
      "   roi_gt_bboxes       :  [ 78.  63.  99. 112.]\n",
      "\n",
      "   predicted deltas    :  [ 2.6609 -0.07   -0.6883 -0.0483]\n",
      "   target deltas       :  [ 2.7777 -0.2485 -0.8723  0.09  ]\n",
      "\n",
      " i:  9  class:  2\n",
      "   orig output_rois    :  [ 64.5002  49.7527 102.557  110.523 ]\n",
      "   refined ouptut_rois :  [ 77.8531  63.4464  98.8807 112.6332]\n",
      "   roi_gt_bboxes       :  [ 78.  63.  99. 112.]\n",
      "\n",
      "   predicted deltas    :  [ 1.2713  1.3003 -2.9662 -1.0574]\n",
      "   target deltas       :  [ 1.3063  1.2115 -2.9728 -1.0764]\n",
      "\n",
      " i:  25  class:  2\n",
      "   orig output_rois    :  [ 47.1033  35.269  103.5344 128.    ]\n",
      "   refined ouptut_rois :  [ 78.991   63.4002 101.0106 123.7336]\n",
      "   roi_gt_bboxes       :  [0. 0. 0. 0.]\n",
      "\n",
      "   predicted deltas    :  [ 2.6017  1.2868 -4.7054 -2.1491]\n",
      "   target deltas       :  [0. 0. 0. 0.]\n",
      "\n"
     ]
    }
   ],
   "source": [
    "np.set_printoptions(precision=4, threshold=4000, linewidth=210, suppress=True)\n",
    "img_idx = 0 \n",
    "classes, deltas = utils.get_predicted_mrcnn_deltas(model_mrcnn_class, model_mrcnn_bbox, verbose=True)\n",
    "print('model_output_rois',model_output_rois.shape)\n",
    "print('deltas ', deltas.shape)\n",
    "cls = 2\n",
    "\n",
    "print('input_gt_class_ids.shape:', input_gt_class_ids.shape)\n",
    "print(input_gt_class_ids)\n",
    "\n",
    "for i in range(input_gt_class_ids.shape[1]):\n",
    "    if input_gt_class_ids[0,i] == cls:\n",
    "        print(input_gt_class_ids[0,i], '   ', input_gt_bboxes[img_idx,i])\n",
    "\n",
    "        \n",
    "print()        \n",
    "for i in range(model_output_rois.shape[1]):\n",
    "    if classes[img_idx,i] ==cls:\n",
    "        print(' i: ', i, ' class: ',classes[img_idx,i])\n",
    "#         print('   orig           : ', output_rois[0,i])\n",
    "        d1 = deltas[0,i] * mrcnn_model.config.BBOX_STD_DEV\n",
    "#         print('   delta          : ', deltas[0,i],'   delta * std dev: ', d1)\n",
    "        d2 = utils.apply_box_delta(model_output_rois[img_idx,i],d1)\n",
    "#         print('   refined        : ', d2)\n",
    "#         print()\n",
    "        print('   orig output_rois    : ', model_output_rois[img_idx,i] * [h,w,h,w])\n",
    "        print('   refined ouptut_rois : ', d2 * [h,w,h,w]) \n",
    "        print('   roi_gt_bboxes       : ', model_roi_gt_boxes[img_idx,i]* [h,w,h,w]) \n",
    "        print()\n",
    "        print('   predicted deltas    : ', deltas[img_idx,i] )\n",
    "        print('   target deltas       : ', model_target_bbox_deltas[img_idx,i] )\n",
    "        print()\n"
   ]
  },
  {
   "cell_type": "markdown",
   "metadata": {
    "heading_collapsed": true
   },
   "source": [
    "####  Display roi_gt_boxes along with corresponding refined/clipped output_rois"
   ]
  },
  {
   "cell_type": "code",
   "execution_count": 42,
   "metadata": {
    "ExecuteTime": {
     "end_time": "2019-02-08T14:06:35.226581Z",
     "start_time": "2019-02-08T14:06:35.061293Z"
    },
    "hidden": true,
    "scrolled": false
   },
   "outputs": [
    {
     "name": "stdout",
     "output_type": "stream",
     "text": [
      "(32, 4) (32,) (32, 1)\n",
      "(2, 32, 7) (2, 32, 7, 4)\n",
      " windows coordinates:  [  0.   0. 128. 128.]\n",
      "mrcnn_class Argmax: \n",
      " [2 2 2 3 2 2 4 2 4 2 0 0 0 0 0 0 0 0 0 0 0 0 4 0 0 2 0 0 0 0 0 0]\n",
      "          gt_class: \n",
      " [3 4 2 0 0 0 0 0 0 0 0 0 0 0 0 0 0 0 0 0 0 0 0 0 0 0 0 0 0 0 0 0 0 0 0 0 0 0 0 0 0 0 0 0 0 0 0 0 0 0 0 0 0 0 0 0 0 0 0 0 0 0 0 0 0 0 0 0 0 0 0 0 0 0 0 0 0 0 0 0 0 0 0 0 0 0 0 0 0 0 0 0 0 0 0 0 0 0 0 0]\n",
      "mrcnn_class shape: (2, 32, 7)\n",
      "mrcnn_bbox shape : (2, 32, 7, 4)\n",
      "predicted_classes: (2, 32)\n",
      "predicted_deltas : (2, 32, 4)\n",
      "classes.shape:  (2, 32)  deltas.shape:  (2, 32, 4)\n",
      "\n",
      "refined output_rois :  (32, 4)\n",
      "[[ 0.6105  0.514   0.7694  0.8792]\n",
      " [ 0.6105  0.5155  0.7884  0.882 ]\n",
      " [ 0.6295  0.52    0.79    0.8627]\n",
      " [ 0.0859  0.0155  0.2224  0.1514]\n",
      " [ 0.6089  0.4912  0.7674  0.8644]\n",
      " [ 0.604   0.521   0.7677  0.9107]\n",
      " [ 0.2824  0.167   0.5162  0.3581]\n",
      " [ 0.604   0.5041  0.7742  0.8765]\n",
      " [ 0.2869  0.1381  0.5147  0.3369]\n",
      " [ 0.6082  0.4957  0.7725  0.8799]\n",
      " [ 0.2771  0.3977  0.5136  0.5044]\n",
      " [ 0.2855 -0.2562  1.1682  0.2412]\n",
      " [ 0.3584 -0.1365  1.1972  0.457 ]\n",
      " [ 0.2267  0.3073  0.6503  0.5808]\n",
      " [ 0.2155  0.2899  0.4346  0.7678]\n",
      " [-0.0289 -0.1679  1.0001  0.241 ]\n",
      " [ 0.2194  0.3013  0.5472  0.4872]\n",
      " [ 0.3443  0.3793  0.6906  0.526 ]\n",
      " [ 0.138   0.2736  0.2757  0.6838]\n",
      " [ 0.332   0.6798  0.662   0.859 ]\n",
      " [ 0.2903  0.4336  0.5062  0.5685]\n",
      " [ 0.0568 -0.2263  1.2903  0.271 ]\n",
      " [ 0.276   0.1244  0.5237  0.3461]\n",
      " [ 0.2274  0.3255  0.7162  0.5737]\n",
      " [ 0.1455  0.2091  0.3259  0.7784]\n",
      " [ 0.6171  0.4953  0.7891  0.9667]\n",
      " [ 0.2738  0.4914  0.5157  0.6326]\n",
      " [ 0.2116 -0.0784  0.4778  0.3931]\n",
      " [ 0.3604 -0.1495  0.9581  0.4888]\n",
      " [ 0.2881  0.587   0.6056  0.7889]\n",
      " [ 0.      0.      0.      0.    ]\n",
      " [ 0.      0.      0.      0.    ]]\n",
      "\n",
      "id:  32  GT :  2  - [ 78.  63.  99. 112.] \n",
      "\t\t\t Raw output_Roi (Norm):  [0.4146 0.4453 0.7415 0.9432] \n",
      "\t\t\t                 Delta:  [ 0.3424  0.0047 -0.7208 -0.3099] \n",
      "\t\t\t    Raw Roi  (Img X/Y):  [ 53.0712  57.0012  94.9063 120.7323] \n",
      "   PR Cls:  2 \t      output_Roi w/Delta Apply:  [ 78.1394  65.7934  98.4862 112.5419] \n",
      "\t\t\t          Clipped Rois:  [ 78.1394  65.7934  98.4862 112.5419]\n",
      "\n",
      "id:  31  GT :  2  - [ 78.  63.  99. 112.] \n",
      "\t\t\t Raw output_Roi (Norm):  [0.3378 0.3677 0.7234 0.8799] \n",
      "\t\t\t                 Delta:  [ 0.438   0.1464 -0.7734 -0.3346] \n",
      "\t\t\t    Raw Roi  (Img X/Y):  [ 43.2322  47.0632  92.5923 112.6236] \n",
      "   PR Cls:  2 \t      output_Roi w/Delta Apply:  [ 78.141   65.9843 100.9185 112.8988] \n",
      "\t\t\t          Clipped Rois:  [ 78.141   65.9843 100.9185 112.8988]\n",
      "\n",
      "id:  30  GT :  2  - [ 78.  63.  99. 112.] \n",
      "\t\t\t Raw output_Roi (Norm):  [0.4174 0.5847 0.8484 1.    ] \n",
      "\t\t\t                 Delta:  [ 0.1783 -0.2433 -0.9881 -0.1919] \n",
      "\t\t\t    Raw Roi  (Img X/Y):  [ 53.4284  74.8479 108.5977 128.    ] \n",
      "   PR Cls:  2 \t      output_Roi w/Delta Apply:  [ 80.5796  66.5552 101.119  110.4277] \n",
      "\t\t\t          Clipped Rois:  [ 80.5796  66.5552 101.119  110.4277]\n",
      "\n",
      "id:  29  GT :  3  - [11.  3. 28. 20.] \n",
      "\t\t\t Raw output_Roi (Norm):  [0.0797 0.0201 0.2091 0.1721] \n",
      "\t\t\t                 Delta:  [ 0.0753 -0.083   0.0541 -0.1116] \n",
      "\t\t\t    Raw Roi  (Img X/Y):  [10.2071  2.5676 26.7611 22.0226] \n",
      "   PR Cls:  3 \t      output_Roi w/Delta Apply:  [10.994   1.9806 28.4683 19.3816] \n",
      "\t\t\t          Clipped Rois:  [10.994   1.9806 28.4683 19.3816]\n",
      "\n",
      "id:  28  GT :  2  - [ 78.  63.  99. 112.] \n",
      "\t\t\t Raw output_Roi (Norm):  [0.6165 0.476  0.7696 0.8635] \n",
      "\t\t\t                 Delta:  [-0.032   0.0208  0.0348 -0.0378] \n",
      "\t\t\t    Raw Roi  (Img X/Y):  [ 78.9099  60.9233  98.5082 110.5297] \n",
      "   PR Cls:  2 \t      output_Roi w/Delta Apply:  [ 77.936   62.8762  98.2278 110.6417] \n",
      "\t\t\t          Clipped Rois:  [ 77.936   62.8762  98.2278 110.6417]\n",
      "\n",
      "id:  27  GT :  2  - [ 78.  63.  99. 112.] \n",
      "\t\t\t Raw output_Roi (Norm):  [0.5178 0.3011 0.9845 0.8433] \n",
      "\t\t\t                 Delta:  [-0.14    0.265  -1.0478 -0.3304] \n",
      "\t\t\t    Raw Roi  (Img X/Y):  [ 66.2805  38.536  126.0137 107.9388] \n",
      "   PR Cls:  2 \t      output_Roi w/Delta Apply:  [ 77.3123  66.6936  98.2614 116.5691] \n",
      "\t\t\t          Clipped Rois:  [ 77.3123  66.6936  98.2614 116.5691]\n",
      "\n",
      "id:  26  GT :  4  - [37. 19. 66. 44.] \n",
      "\t\t\t Raw output_Roi (Norm):  [0.2414 0.     0.5497 0.3011] \n",
      "\t\t\t                 Delta:  [ 0.0122  0.3718 -0.2765 -0.4547] \n",
      "\t\t\t    Raw Roi  (Img X/Y):  [30.894   0.     70.363  38.5433] \n",
      "   PR Cls:  4 \t      output_Roi w/Delta Apply:  [36.1434 21.3703 66.0794 45.8313] \n",
      "\t\t\t          Clipped Rois:  [36.1434 21.3703 66.0794 45.8313]\n",
      "\n",
      "id:  25  GT :  2  - [ 78.  63.  99. 112.] \n",
      "\t\t\t Raw output_Roi (Norm):  [0.5395 0.5049 0.7348 0.8809] \n",
      "\t\t\t                 Delta:  [ 0.2661 -0.007  -0.1377 -0.0097] \n",
      "\t\t\t    Raw Roi  (Img X/Y):  [ 69.0537  64.6333  94.0564 112.759 ] \n",
      "   PR Cls:  2 \t      output_Roi w/Delta Apply:  [ 77.3143  64.5277  99.1016 112.1908] \n",
      "\t\t\t          Clipped Rois:  [ 77.3143  64.5277  99.1016 112.1908]\n",
      "\n",
      "id:  24  GT :  4  - [37. 19. 66. 44.] \n",
      "\t\t\t Raw output_Roi (Norm):  [0.2123 0.1066 0.5131 0.4753] \n",
      "\t\t\t                 Delta:  [ 0.1267 -0.1451 -0.2781 -0.6175] \n",
      "\t\t\t    Raw Roi  (Img X/Y):  [27.1693 13.6505 65.6777 60.8361] \n",
      "   PR Cls:  4 \t      output_Roi w/Delta Apply:  [36.7229 17.6741 65.8833 43.1219] \n",
      "\t\t\t          Clipped Rois:  [36.7229 17.6741 65.8833 43.1219]\n",
      "\n",
      "id:  23  GT :  2  - [ 78.  63.  99. 112.] \n",
      "\t\t\t Raw output_Roi (Norm):  [0.5039 0.3887 0.8012 0.8635] \n",
      "\t\t\t                 Delta:  [ 0.1271  0.13   -0.5932 -0.2115] \n",
      "\t\t\t    Raw Roi  (Img X/Y):  [ 64.5002  49.7527 102.557  110.523 ] \n",
      "   PR Cls:  2 \t      output_Roi w/Delta Apply:  [ 77.8531  63.4464  98.8807 112.6331] \n",
      "\t\t\t          Clipped Rois:  [ 77.8531  63.4464  98.8807 112.6331]\n",
      "\n",
      "id:  22  GT :  0  - [0. 0. 0. 0.] \n",
      "\t\t\t Raw output_Roi (Norm):  [0.2781 0.4107 0.4841 0.565 ] \n",
      "\t\t\t                 Delta:  [ 0.0691 -0.2384  0.1376 -0.3698] \n",
      "\t\t\t    Raw Roi  (Img X/Y):  [35.597  52.5642 61.968  72.3212] \n",
      "   PR Cls:  0 \t      output_Roi w/Delta Apply:  [35.475  50.9083 65.7365 64.5572] \n",
      "\t\t\t          Clipped Rois:  [35.475  50.9083 65.7365 64.5572]\n",
      "\n",
      "id:  21  GT :  0  - [0. 0. 0. 0.] \n",
      "\t\t\t Raw output_Roi (Norm):  [0.4121 0.     0.9829 0.652 ] \n",
      "\t\t\t                 Delta:  [ 0.0514 -0.5115  0.436  -0.2707] \n",
      "\t\t\t    Raw Roi  (Img X/Y):  [ 52.7497   0.     125.8168  83.4527] \n",
      "   PR Cls:  0 \t      output_Roi w/Delta Apply:  [ 36.5381 -32.7893 149.5349  30.8751] \n",
      "\t\t\t          Clipped Rois:  [ 36.5381   0.     128.      30.8751]\n",
      "\n",
      "id:  20  GT :  0  - [0. 0. 0. 0.] \n",
      "\t\t\t Raw output_Roi (Norm):  [0.5479 0.1633 1.     0.8921] \n",
      "\t\t\t                 Delta:  [ 0.0085 -0.5041  0.618  -0.2053] \n",
      "\t\t\t    Raw Roi  (Img X/Y):  [ 70.1254  20.9022 128.     114.1876] \n",
      "   PR Cls:  0 \t      output_Roi w/Delta Apply:  [ 45.869  -17.4699 153.2428  58.5016] \n",
      "\t\t\t          Clipped Rois:  [ 45.869    0.     128.      58.5016]\n",
      "\n",
      "id:  19  GT :  0  - [0. 0. 0. 0.] \n",
      "\t\t\t Raw output_Roi (Norm):  [0.1881 0.4742 0.5058 1.    ] \n",
      "\t\t\t                 Delta:  [ 0.2882 -0.5573  0.2875 -0.6536] \n",
      "\t\t\t    Raw Roi  (Img X/Y):  [ 24.0755  60.7005  64.7445 128.    ] \n",
      "   PR Cls:  0 \t      output_Roi w/Delta Apply:  [29.0227 39.3398 83.2393 74.3475] \n",
      "\t\t\t          Clipped Rois:  [29.0227 39.3398 83.2393 74.3475]\n",
      "\n",
      "id:  18  GT :  0  - [0. 0. 0. 0.] \n",
      "\t\t\t Raw output_Roi (Norm):  [0.1512 0.5069 0.344  1.    ] \n",
      "\t\t\t                 Delta:  [ 0.4019 -0.4555  0.1282 -0.0313] \n",
      "\t\t\t    Raw Roi  (Img X/Y):  [ 19.3598  64.8799  44.0296 128.    ] \n",
      "   PR Cls:  0 \t      output_Roi w/Delta Apply:  [27.587  37.1018 55.6318 98.2767] \n",
      "\t\t\t          Clipped Rois:  [27.587  37.1018 55.6318 98.2767]\n",
      "\n",
      "id:  17  GT :  0  - [0. 0. 0. 0.] \n",
      "\t\t\t Raw output_Roi (Norm):  [0.3127 0.     0.6803 0.5785] \n",
      "\t\t\t                 Delta:  [-0.0295 -0.4368  1.0295 -0.3469] \n",
      "\t\t\t    Raw Roi  (Img X/Y):  [40.0238  0.     87.0727 74.047 ] \n",
      "   PR Cls:  0 \t      output_Roi w/Delta Apply:  [ -3.698  -21.4881 128.0176  30.8535] \n",
      "\t\t\t          Clipped Rois:  [  0.       0.     128.      30.8535]\n",
      "\n",
      "id:  16  GT :  0  - [0. 0. 0. 0.] \n",
      "\t\t\t Raw output_Roi (Norm):  [0.1961 0.37   0.4578 0.7279] \n",
      "\t\t\t                 Delta:  [ 0.2155 -0.4321  0.2251 -0.6549] \n",
      "\t\t\t    Raw Roi  (Img X/Y):  [25.0972 47.3569 58.5926 93.1772] \n",
      "   PR Cls:  0 \t      output_Roi w/Delta Apply:  [28.0885 38.565  70.0398 62.3679] \n",
      "\t\t\t          Clipped Rois:  [28.0885 38.565  70.0398 62.3679]\n",
      "\n",
      "id:  15  GT :  0  - [0. 0. 0. 0.] \n",
      "\t\t\t Raw output_Roi (Norm):  [0.3637 0.3905 0.6407 0.6131] \n",
      "\t\t\t                 Delta:  [ 0.0548 -0.2209  0.2234 -0.4172] \n",
      "\t\t\t    Raw Roi  (Img X/Y):  [46.5593 49.9826 82.0123 78.4776] \n",
      "   PR Cls:  0 \t      output_Roi w/Delta Apply:  [44.065  48.5479 88.3911 67.3233] \n",
      "\t\t\t          Clipped Rois:  [44.065  48.5479 88.3911 67.3233]\n",
      "\n",
      "id:  14  GT :  0  - [0. 0. 0. 0.] \n",
      "\t\t\t Raw output_Roi (Norm):  [0.     0.4218 0.1954 1.    ] \n",
      "\t\t\t                 Delta:  [ 0.5588 -0.4016 -0.3495 -0.3433] \n",
      "\t\t\t    Raw Roi  (Img X/Y):  [  0.      53.9904  25.0059 128.    ] \n",
      "   PR Cls:  0 \t      output_Roi w/Delta Apply:  [17.6624 35.0234 35.2919 87.5255] \n",
      "\t\t\t          Clipped Rois:  [17.6624 35.0234 35.2919 87.5255]\n",
      "\n",
      "id:  13  GT :  0  - [0. 0. 0. 0.] \n",
      "\t\t\t Raw output_Roi (Norm):  [0.3117 0.7133 0.5645 1.    ] \n",
      "\t\t\t                 Delta:  [ 0.2331 -0.3044  0.2667 -0.47  ] \n",
      "\t\t\t    Raw Roi  (Img X/Y):  [ 39.9012  91.302   72.2529 128.    ] \n",
      "   PR Cls:  0 \t      output_Roi w/Delta Apply:  [ 42.4978  87.0105  84.7389 109.9471] \n",
      "\t\t\t          Clipped Rois:  [ 42.4978  87.0105  84.7389 109.9471]\n",
      "\n",
      "id:  12  GT :  0  - [0. 0. 0. 0.] \n",
      "\t\t\t Raw output_Roi (Norm):  [0.2852 0.452  0.4751 0.6494] \n",
      "\t\t\t                 Delta:  [ 0.0953 -0.2516  0.1289 -0.3806] \n",
      "\t\t\t    Raw Roi  (Img X/Y):  [36.5108 57.8533 60.8086 83.126 ] \n",
      "   PR Cls:  0 \t      output_Roi w/Delta Apply:  [37.1532 55.4959 64.7951 72.7679] \n",
      "\t\t\t          Clipped Rois:  [37.1532 55.4959 64.7951 72.7679]\n",
      "\n",
      "id:  11  GT :  0  - [0. 0. 0. 0.] \n",
      "\t\t\t Raw output_Roi (Norm):  [0.3026 0.     0.8952 1.    ] \n",
      "\t\t\t                 Delta:  [ 0.126  -0.4776  0.7332 -0.6984] \n",
      "\t\t\t    Raw Roi  (Img X/Y):  [ 38.7327   0.     114.5813 128.    ] \n",
      "   PR Cls:  0 \t      output_Roi w/Delta Apply:  [  7.2645 -28.9687 165.1645  34.6942] \n",
      "\t\t\t          Clipped Rois:  [  7.2645   0.     128.      34.6942]\n",
      "\n",
      "id:  10  GT :  0  - [0. 0. 0. 0.] \n",
      "\t\t\t Raw output_Roi (Norm):  [0.2705 0.0827 0.6696 0.6516] \n",
      "\t\t\t                 Delta:  [-0.1758 -0.2319 -0.477  -0.9428] \n",
      "\t\t\t    Raw Roi  (Img X/Y):  [34.6187 10.5883 85.7027 83.407 ] \n",
      "   PR Cls:  4 \t      output_Roi w/Delta Apply:  [35.3263 15.929  67.0302 44.2954] \n",
      "\t\t\t          Clipped Rois:  [35.3263 15.929  67.0302 44.2954]\n",
      "\n",
      "id:  9  GT :  0  - [0. 0. 0. 0.] \n",
      "\t\t\t Raw output_Roi (Norm):  [0.2491 0.3837 0.6176 0.8545] \n",
      "\t\t\t                 Delta:  [ 0.1043 -0.3601  0.2824 -0.6403] \n",
      "\t\t\t    Raw Roi  (Img X/Y):  [ 31.8831  49.1129  79.055  109.3784] \n",
      "   PR Cls:  0 \t      output_Roi w/Delta Apply:  [29.1083 41.6623 91.6703 73.4293] \n",
      "\t\t\t          Clipped Rois:  [29.1083 41.6623 91.6703 73.4293]\n",
      "\n",
      "id:  8  GT :  0  - [0. 0. 0. 0.] \n",
      "\t\t\t Raw output_Roi (Norm):  [0.0309 0.363  0.2526 1.    ] \n",
      "\t\t\t                 Delta:  [ 0.4237 -0.2948 -0.2061 -0.1123] \n",
      "\t\t\t    Raw Roi  (Img X/Y):  [  3.9572  46.4697  32.3375 128.    ] \n",
      "   PR Cls:  0 \t      output_Roi w/Delta Apply:  [18.6262 26.7662 41.7197 99.6326] \n",
      "\t\t\t          Clipped Rois:  [18.6262 26.7662 41.7197 99.6326]\n",
      "\n",
      "id:  7  GT :  0  - [0. 0. 0. 0.] \n",
      "\t\t\t Raw output_Roi (Norm):  [0.368  0.2755 0.8089 1.    ] \n",
      "\t\t\t                 Delta:  [ 0.2602  0.1287 -0.9411 -0.4298] \n",
      "\t\t\t    Raw Roi  (Img X/Y):  [ 47.1033  35.269  103.5344 128.    ] \n",
      "   PR Cls:  2 \t      output_Roi w/Delta Apply:  [ 78.991   63.4002 101.0106 123.7336] \n",
      "\t\t\t          Clipped Rois:  [ 78.991   63.4002 101.0106 123.7336]\n",
      "\n",
      "id:  6  GT :  0  - [0. 0. 0. 0.] \n",
      "\t\t\t Raw output_Roi (Norm):  [0.2835 0.5136 0.4761 0.7176] \n",
      "\t\t\t                 Delta:  [ 0.0778 -0.2626  0.2275 -0.3687] \n",
      "\t\t\t    Raw Roi  (Img X/Y):  [36.2816 65.7367 60.941  91.8551] \n",
      "   PR Cls:  0 \t      output_Roi w/Delta Apply:  [35.0501 62.9056 66.0095 80.9694] \n",
      "\t\t\t          Clipped Rois:  [35.0501 62.9056 66.0095 80.9694]\n",
      "\n",
      "id:  5  GT :  0  - [0. 0. 0. 0.] \n",
      "\t\t\t Raw output_Roi (Norm):  [0.1369 0.1647 0.354  0.7277] \n",
      "\t\t\t                 Delta:  [ 0.4571 -0.5131  0.2042 -0.1773] \n",
      "\t\t\t    Raw Roi  (Img X/Y):  [17.5291 21.0817 45.3155 93.1413] \n",
      "   PR Cls:  0 \t      output_Roi w/Delta Apply:  [ 27.0833 -10.0376  61.1645  50.3142] \n",
      "\t\t\t          Clipped Rois:  [27.0833  0.     61.1645 50.3142]\n",
      "\n",
      "id:  4  GT :  0  - [0. 0. 0. 0.] \n",
      "\t\t\t Raw output_Roi (Norm):  [0.4601 0.0394 0.8424 1.    ] \n",
      "\t\t\t                 Delta:  [ 0.0209 -0.3644  0.4468 -0.4088] \n",
      "\t\t\t    Raw Roi  (Img X/Y):  [ 58.8886   5.043  107.8299 128.    ] \n",
      "   PR Cls:  0 \t      output_Roi w/Delta Apply:  [ 46.1278 -19.1317 122.6376  62.57  ] \n",
      "\t\t\t          Clipped Rois:  [ 46.1278   0.     122.6376  62.57  ]\n",
      "\n",
      "id:  3  GT :  0  - [0. 0. 0. 0.] \n",
      "\t\t\t Raw output_Roi (Norm):  [0.2936 0.6391 0.5228 0.9407] \n",
      "\t\t\t                 Delta:  [ 0.1686 -0.3381  0.3259 -0.4012] \n",
      "\t\t\t    Raw Roi  (Img X/Y):  [ 37.5836  81.8101  66.9146 120.4059] \n",
      "   PR Cls:  0 \t      output_Roi w/Delta Apply:  [ 36.8787  75.1401  77.5113 100.9809] \n",
      "\t\t\t          Clipped Rois:  [ 36.8787  75.1401  77.5113 100.9809]\n",
      "\n",
      "id:  2  GT :  0  - [0. 0. 0. 0.] \n",
      "\t\t\t Raw output_Roi (Norm):  [0. 0. 0. 0.] \n",
      "\t\t\t                 Delta:  [-1.2761 -1.3705  0.9735 -0.9144] \n",
      "\t\t\t    Raw Roi  (Img X/Y):  [0. 0. 0. 0.] \n",
      "   PR Cls:  0 \t      output_Roi w/Delta Apply:  [0. 0. 0. 0.] \n",
      "\t\t\t          Clipped Rois:  [0. 0. 0. 0.]\n",
      "\n",
      "id:  1  GT :  0  - [0. 0. 0. 0.] \n",
      "\t\t\t Raw output_Roi (Norm):  [0. 0. 0. 0.] \n",
      "\t\t\t                 Delta:  [-1.2761 -1.3705  0.9735 -0.9144] \n",
      "\t\t\t    Raw Roi  (Img X/Y):  [0. 0. 0. 0.] \n",
      "   PR Cls:  0 \t      output_Roi w/Delta Apply:  [0. 0. 0. 0.] \n",
      "\t\t\t          Clipped Rois:  [0. 0. 0. 0.]\n",
      "\n"
     ]
    }
   ],
   "source": [
    "img_id = 0\n",
    "print(model_roi_gt_boxes[0].shape, model_target_class_ids[0].shape , np.expand_dims(model_target_class_ids[0],axis=-1).shape)\n",
    "print(model_mrcnn_class.shape, model_mrcnn_bbox.shape)\n",
    "window = np.array([0,0,h,w], dtype =float)\n",
    "print(' windows coordinates: ',window)\n",
    "print('mrcnn_class Argmax: \\n', np.argmax(model_mrcnn_class[0], axis = -1))\n",
    "print('          gt_class: \\n', input_gt_class_ids[0])\n",
    "\n",
    "classes, deltas = utils.get_predicted_mrcnn_deltas(model_mrcnn_class, model_mrcnn_bbox, verbose=True)\n",
    "deltas *= mrcnn_model.config.BBOX_STD_DEV\n",
    "print('classes.shape: ',classes.shape, ' deltas.shape: ',deltas.shape)\n",
    "\n",
    "ref_out_roi = utils.apply_box_deltas_np(model_output_rois[img_id],deltas[img_id])\n",
    "#     ##   Clip boxes to image window    \n",
    "print('\\nrefined output_rois : ',ref_out_roi.shape)\n",
    "print(ref_out_roi)\n",
    "\n",
    "clipped_out_roi  = utils.clip_to_window_np( window, ref_out_roi*[ h, w, h, w])\n",
    "\n",
    "print()\n",
    "for i in range(32):\n",
    "#     ref_out_roi = utils.apply_box_delta_np(output_rois[0],d1[0])\n",
    "#     if classes[img_id,i] == 1 or target_class_ids[img_id,i] == 1 :\n",
    "\n",
    "    print('id: ',32-i,\n",
    "               ' GT : ', model_target_class_ids[img_id,i]  , \n",
    "               ' -', model_roi_gt_boxes[img_id,i]*[ h, w, h, w], \n",
    "               '\\n\\t\\t\\t Raw output_Roi (Norm): ', model_output_rois[img_id,i],\n",
    "               '\\n\\t\\t\\t                 Delta: ', deltas[img_id,i],\n",
    "               '\\n\\t\\t\\t    Raw Roi  (Img X/Y): ', model_output_rois[img_id,i]*[ h, w, h, w],\n",
    "               '\\n   PR Cls: ', classes[img_id,i],'\\t',\n",
    "               '     output_Roi w/Delta Apply: ', ref_out_roi[i]*[ h, w, h, w] ,\n",
    "               '\\n\\t\\t\\t          Clipped Rois: ', clipped_out_roi[i]   ) #) *[1024,1024,1024,1024]\n",
    "    print()"
   ]
  },
  {
   "cell_type": "markdown",
   "metadata": {
    "heading_collapsed": true
   },
   "source": [
    "####  Display roi_gt_boxes , and class_ids vs. output_bbox and prediceted class_ids"
   ]
  },
  {
   "cell_type": "code",
   "execution_count": 43,
   "metadata": {
    "ExecuteTime": {
     "end_time": "2019-02-08T14:07:16.007683Z",
     "start_time": "2019-02-08T14:07:15.965412Z"
    },
    "hidden": true,
    "scrolled": true
   },
   "outputs": [
    {
     "name": "stdout",
     "output_type": "stream",
     "text": [
      "[[ 0.6105  0.514   0.7694  0.8792]\n",
      " [ 0.6105  0.5155  0.7884  0.882 ]\n",
      " [ 0.6295  0.52    0.79    0.8627]\n",
      " [ 0.0859  0.0155  0.2224  0.1514]\n",
      " [ 0.6089  0.4912  0.7674  0.8644]\n",
      " [ 0.604   0.521   0.7677  0.9107]\n",
      " [ 0.2824  0.167   0.5162  0.3581]\n",
      " [ 0.604   0.5041  0.7742  0.8765]\n",
      " [ 0.2869  0.1381  0.5147  0.3369]\n",
      " [ 0.6082  0.4957  0.7725  0.8799]\n",
      " [ 0.2771  0.3977  0.5136  0.5044]\n",
      " [ 0.2855 -0.2562  1.1682  0.2412]\n",
      " [ 0.3584 -0.1365  1.1972  0.457 ]\n",
      " [ 0.2267  0.3073  0.6503  0.5808]\n",
      " [ 0.2155  0.2899  0.4346  0.7678]\n",
      " [-0.0289 -0.1679  1.0001  0.241 ]\n",
      " [ 0.2194  0.3013  0.5472  0.4872]\n",
      " [ 0.3443  0.3793  0.6906  0.526 ]\n",
      " [ 0.138   0.2736  0.2757  0.6838]\n",
      " [ 0.332   0.6798  0.662   0.859 ]\n",
      " [ 0.2903  0.4336  0.5062  0.5685]\n",
      " [ 0.0568 -0.2263  1.2903  0.271 ]\n",
      " [ 0.276   0.1244  0.5237  0.3461]\n",
      " [ 0.2274  0.3255  0.7162  0.5737]\n",
      " [ 0.1455  0.2091  0.3259  0.7784]\n",
      " [ 0.6171  0.4953  0.7891  0.9667]\n",
      " [ 0.2738  0.4914  0.5157  0.6326]\n",
      " [ 0.2116 -0.0784  0.4778  0.3931]\n",
      " [ 0.3604 -0.1495  0.9581  0.4888]\n",
      " [ 0.2881  0.587   0.6056  0.7889]\n",
      " [ 0.      0.      0.      0.    ]\n",
      " [ 0.      0.      0.      0.    ]]\n"
     ]
    }
   ],
   "source": [
    "print(ref_out_roi)"
   ]
  },
  {
   "cell_type": "code",
   "execution_count": 44,
   "metadata": {
    "ExecuteTime": {
     "end_time": "2019-02-08T14:07:45.363669Z",
     "start_time": "2019-02-08T14:07:45.285422Z"
    },
    "hidden": true
   },
   "outputs": [
    {
     "name": "stdout",
     "output_type": "stream",
     "text": [
      "[[ 78.1394  65.7934  98.4862 112.5419]\n",
      " [ 78.141   65.9843 100.9185 112.8988]\n",
      " [ 80.5796  66.5552 101.119  110.4277]\n",
      " [ 10.994    1.9806  28.4683  19.3816]\n",
      " [ 77.936   62.8762  98.2278 110.6417]\n",
      " [ 77.3123  66.6936  98.2614 116.5691]\n",
      " [ 36.1434  21.3703  66.0794  45.8313]\n",
      " [ 77.3143  64.5277  99.1016 112.1908]\n",
      " [ 36.7229  17.6741  65.8833  43.1219]\n",
      " [ 77.8531  63.4464  98.8807 112.6331]\n",
      " [ 35.475   50.9083  65.7365  64.5572]\n",
      " [ 36.5381 -32.7893 149.5349  30.8751]\n",
      " [ 45.869  -17.4699 153.2428  58.5016]\n",
      " [ 29.0227  39.3398  83.2393  74.3475]\n",
      " [ 27.587   37.1018  55.6318  98.2767]\n",
      " [ -3.698  -21.4881 128.0176  30.8535]\n",
      " [ 28.0885  38.565   70.0398  62.3679]\n",
      " [ 44.065   48.5479  88.3911  67.3233]\n",
      " [ 17.6624  35.0234  35.2919  87.5255]\n",
      " [ 42.4978  87.0105  84.7389 109.9471]\n",
      " [ 37.1532  55.4959  64.7951  72.7679]\n",
      " [  7.2645 -28.9687 165.1645  34.6942]\n",
      " [ 35.3263  15.929   67.0302  44.2954]\n",
      " [ 29.1083  41.6623  91.6703  73.4293]\n",
      " [ 18.6262  26.7662  41.7197  99.6326]\n",
      " [ 78.991   63.4002 101.0106 123.7336]\n",
      " [ 35.0501  62.9056  66.0095  80.9694]\n",
      " [ 27.0833 -10.0376  61.1645  50.3142]\n",
      " [ 46.1278 -19.1317 122.6376  62.57  ]\n",
      " [ 36.8787  75.1401  77.5113 100.9809]\n",
      " [  0.       0.       0.       0.    ]\n",
      " [  0.       0.       0.       0.    ]]\n",
      "(4,)\n",
      "(32, 4)\n",
      "[ 78.1394  65.7934  98.4862 112.5419]  ---  [ 78.1394  65.7934  98.4862 112.5419]\n",
      "[ 78.141   65.9843 100.9185 112.8988]  ---  [ 78.141   65.9843 100.9185 112.8988]\n",
      "[ 80.5796  66.5552 101.119  110.4277]  ---  [ 80.5796  66.5552 101.119  110.4277]\n",
      "[10.994   1.9806 28.4683 19.3816]  ---  [10.994   1.9806 28.4683 19.3816]\n",
      "[ 77.936   62.8762  98.2278 110.6417]  ---  [ 77.936   62.8762  98.2278 110.6417]\n",
      "[ 77.3123  66.6936  98.2614 116.5691]  ---  [ 77.3123  66.6936  98.2614 116.5691]\n",
      "[36.1434 21.3703 66.0794 45.8313]  ---  [36.1434 21.3703 66.0794 45.8313]\n",
      "[ 77.3143  64.5277  99.1016 112.1908]  ---  [ 77.3143  64.5277  99.1016 112.1908]\n",
      "[36.7229 17.6741 65.8833 43.1219]  ---  [36.7229 17.6741 65.8833 43.1219]\n",
      "[ 77.8531  63.4464  98.8807 112.6331]  ---  [ 77.8531  63.4464  98.8807 112.6331]\n",
      "[35.475  50.9083 65.7365 64.5572]  ---  [35.475  50.9083 65.7365 64.5572]\n",
      "[ 36.5381 -32.7893 149.5349  30.8751]  ---  [ 36.5381   0.     128.      30.8751]\n",
      "[ 45.869  -17.4699 153.2428  58.5016]  ---  [ 45.869    0.     128.      58.5016]\n",
      "[29.0227 39.3398 83.2393 74.3475]  ---  [29.0227 39.3398 83.2393 74.3475]\n",
      "[27.587  37.1018 55.6318 98.2767]  ---  [27.587  37.1018 55.6318 98.2767]\n",
      "[ -3.698  -21.4881 128.0176  30.8535]  ---  [  0.       0.     128.      30.8535]\n",
      "[28.0885 38.565  70.0398 62.3679]  ---  [28.0885 38.565  70.0398 62.3679]\n",
      "[44.065  48.5479 88.3911 67.3233]  ---  [44.065  48.5479 88.3911 67.3233]\n",
      "[17.6624 35.0234 35.2919 87.5255]  ---  [17.6624 35.0234 35.2919 87.5255]\n",
      "[ 42.4978  87.0105  84.7389 109.9471]  ---  [ 42.4978  87.0105  84.7389 109.9471]\n",
      "[37.1532 55.4959 64.7951 72.7679]  ---  [37.1532 55.4959 64.7951 72.7679]\n",
      "[  7.2645 -28.9687 165.1645  34.6942]  ---  [  7.2645   0.     128.      34.6942]\n",
      "[35.3263 15.929  67.0302 44.2954]  ---  [35.3263 15.929  67.0302 44.2954]\n",
      "[29.1083 41.6623 91.6703 73.4293]  ---  [29.1083 41.6623 91.6703 73.4293]\n",
      "[18.6262 26.7662 41.7197 99.6326]  ---  [18.6262 26.7662 41.7197 99.6326]\n",
      "[ 78.991   63.4002 101.0106 123.7336]  ---  [ 78.991   63.4002 101.0106 123.7336]\n",
      "[35.0501 62.9056 66.0095 80.9694]  ---  [35.0501 62.9056 66.0095 80.9694]\n",
      "[ 27.0833 -10.0376  61.1645  50.3142]  ---  [27.0833  0.     61.1645 50.3142]\n",
      "[ 46.1278 -19.1317 122.6376  62.57  ]  ---  [ 46.1278   0.     122.6376  62.57  ]\n",
      "[ 36.8787  75.1401  77.5113 100.9809]  ---  [ 36.8787  75.1401  77.5113 100.9809]\n",
      "[0. 0. 0. 0.]  ---  [0. 0. 0. 0.]\n",
      "[0. 0. 0. 0.]  ---  [0. 0. 0. 0.]\n"
     ]
    },
    {
     "ename": "IndexError",
     "evalue": "index 32 is out of bounds for axis 0 with size 32",
     "output_type": "error",
     "traceback": [
      "\u001b[0;31m---------------------------------------------------------------------------\u001b[0m",
      "\u001b[0;31mIndexError\u001b[0m                                Traceback (most recent call last)",
      "\u001b[0;32m<ipython-input-44-65e77bd20225>\u001b[0m in \u001b[0;36m<module>\u001b[0;34m()\u001b[0m\n\u001b[1;32m      6\u001b[0m \u001b[0mprint\u001b[0m\u001b[0;34m(\u001b[0m\u001b[0mref_out_roi2\u001b[0m\u001b[0;34m.\u001b[0m\u001b[0mshape\u001b[0m\u001b[0;34m)\u001b[0m\u001b[0;34m\u001b[0m\u001b[0m\n\u001b[1;32m      7\u001b[0m \u001b[0;32mfor\u001b[0m \u001b[0mi\u001b[0m \u001b[0;32min\u001b[0m \u001b[0mrange\u001b[0m\u001b[0;34m(\u001b[0m\u001b[0;36m200\u001b[0m\u001b[0;34m)\u001b[0m\u001b[0;34m:\u001b[0m\u001b[0;34m\u001b[0m\u001b[0m\n\u001b[0;32m----> 8\u001b[0;31m     \u001b[0mprint\u001b[0m\u001b[0;34m(\u001b[0m\u001b[0mref_out_roi1\u001b[0m\u001b[0;34m[\u001b[0m\u001b[0mi\u001b[0m\u001b[0;34m]\u001b[0m\u001b[0;34m,\u001b[0m\u001b[0;34m' --- '\u001b[0m\u001b[0;34m,\u001b[0m \u001b[0mref_out_roi2\u001b[0m\u001b[0;34m[\u001b[0m\u001b[0mi\u001b[0m\u001b[0;34m]\u001b[0m\u001b[0;34m)\u001b[0m\u001b[0;34m\u001b[0m\u001b[0m\n\u001b[0m",
      "\u001b[0;31mIndexError\u001b[0m: index 32 is out of bounds for axis 0 with size 32"
     ]
    }
   ],
   "source": [
    "ref_out_roi1 = ref_out_roi * [h,w,h,w]\n",
    "print(ref_out_roi1)\n",
    "window = np.array([0,0,h,w], dtype =float)\n",
    "print(window.shape)\n",
    "ref_out_roi2  = utils.clip_to_window_np( window, ref_out_roi1)\n",
    "print(ref_out_roi2.shape)\n",
    "for i in range(200):\n",
    "    print(ref_out_roi1[i],' --- ', ref_out_roi2[i])"
   ]
  },
  {
   "cell_type": "markdown",
   "metadata": {},
   "source": [
    "####  Compute refinement between `output_roi` and `roi_gt_bboxes` (individually and using numpy arrays)"
   ]
  },
  {
   "cell_type": "code",
   "execution_count": null,
   "metadata": {
    "ExecuteTime": {
     "end_time": "2019-02-06T16:12:41.404056Z",
     "start_time": "2019-02-06T16:12:41.334012Z"
    }
   },
   "outputs": [],
   "source": [
    "img_idx = 0\n",
    "print(model_target_class_ids.shape)\n",
    "pos_roi_count =  np.count_nonzero(model_target_class_ids[img_idx])\n",
    "print('positive roi count :', pos_roi_count, '    (delta refinement is only calculated on the positive rois) \\n')\n",
    "for i in range(pos_roi_count):\n",
    "    t1 = utils.box_refinement(model_output_rois[0,i], model_roi_gt_boxes[0,i])\n",
    "    t1 = t1 / mrcnn_model.config.BBOX_STD_DEV\n",
    "    \n",
    "    print(' row {:2d}            output roi:  {} '.format(i, model_output_rois[0,i])) \n",
    "    print('         corresponding gt_box:  {} '.format(model_roi_gt_boxes[0,i]))\n",
    "    print('   t1 (calculated refinement):  {} '.format(t1))          \n",
    "    print('      model_target_bbox_delta:  {} '.format(model_target_bbox_deltas[0,i]))\n",
    "    print()"
   ]
  },
  {
   "cell_type": "markdown",
   "metadata": {
    "heading_collapsed": true
   },
   "source": [
    "####  apply target_bbox_deltas to output_rois"
   ]
  },
  {
   "cell_type": "code",
   "execution_count": null,
   "metadata": {
    "ExecuteTime": {
     "end_time": "2019-02-07T11:54:15.897880Z",
     "start_time": "2019-02-07T11:54:15.788681Z"
    },
    "hidden": true,
    "hideCode": false,
    "hideOutput": false,
    "scrolled": true
   },
   "outputs": [],
   "source": [
    "np_format = {}\n",
    "np_format['float'] = lambda x: \"%8.4f\" % x\n",
    "np.set_printoptions(linewidth=210, precision=3, floatmode='fixed', threshold =10000, formatter = np_format)\n",
    "# np.set_printoptions(precision=4, threshold=4000, linewidth=210, suppress=True)\n",
    "img = 0\n",
    "print(' output_rois', model_output_rois.shape)\n",
    "scaler = [128,128,128,128]\n",
    "print('\\n mrcnn_class Max Values   : ', argmax_mrcnn_class_score.shape)\n",
    "# print(argmax_mrcnn_class_score[0])\n",
    "# print(argmax_mrcnn_class_score[1])\n",
    "\n",
    "\n",
    "##---------------------------------------------------------------------------\n",
    "## applying bbox deltas to output_rois results in the corresponding gt_bbox\n",
    "## for POSITIVE proposals in the output_roi. For negative samples, it returns \n",
    "## in the negative_bbox coordinates itself. \n",
    "##---------------------------------------------------------------------------\n",
    "print('------------------------------------')\n",
    "print(' Applying target_bbox_deltas to output_rois')\n",
    "print('------------------------------------')\n",
    "print(' BBOX STD DEV: ', mrcnn_model.config.BBOX_STD_DEV)\n",
    "target_deltas = model_target_bbox_deltas * mrcnn_model.config.BBOX_STD_DEV\n",
    "\n",
    "# print('\\n target_bbox_deltas : ', model_target_bbox_deltas[0].shape)\n",
    "# print(model_target_bbox_deltas[0,:70])\n",
    "\n",
    "# print('\\n target_bbox_deltas * STD_DEV ', mrcnn_model.config.BBOX_STD_DEV, ' : ', target_deltas.shape)\n",
    "# print(target_deltas[0,:70])\n",
    " \n",
    "refined_rois = utils.apply_box_deltas_np(model_output_rois[0], target_deltas[0] )\n",
    "refined_rois *= scaler\n",
    "print('\\n output_rois after apply bbox_deltas : ', refined_rois.shape)\n",
    "\n",
    "print(' model_target_class_ids.shape:',model_target_class_ids.shape)\n",
    "print(' model_mrcnn_class.shape     :',model_mrcnn_class.shape)\n",
    "# print(model_mrcnn_class[0])\n",
    "\n",
    "np.set_printoptions(linewidth=195, precision=3, floatmode='fixed', threshold =10000, formatter = np_format)\n",
    "print(' Application of target_bbox_deltas to output_roi '.center(194,'-'))\n",
    "# print('-'*194)\n",
    "print()\n",
    "print(' row/GTcls/PRcls \\t  unnormalized output_rois \\t Target Bbox Deltas \\t\\t\\t  delta-adjusted output_rois  \\t\\t  roi_gt_bboxes \\t\\t score')\n",
    "print('-'*194)\n",
    "for i in range(model_output_rois.shape[1]):\n",
    "    print(' {:2d}  {:2d} {:2d}   {}  {}  {} {}  {:.4f}'.format(i, model_target_class_ids[0,i], np.argmax(model_mrcnn_class[0,i]),\n",
    "                                                          model_output_rois[0,i]* scaler, \n",
    "                                                          target_deltas[0,i], \n",
    "                                                          refined_rois[i], model_roi_gt_boxes[0,i]* scaler, argmax_mrcnn_class_score[0,i]))\n",
    "\n"
   ]
  },
  {
   "cell_type": "markdown",
   "metadata": {
    "heading_collapsed": true
   },
   "source": [
    "####  apply mrcnn_bbox_deltas to output_rois"
   ]
  },
  {
   "cell_type": "code",
   "execution_count": null,
   "metadata": {
    "ExecuteTime": {
     "end_time": "2019-02-07T12:10:11.147811Z",
     "start_time": "2019-02-07T12:10:11.017379Z"
    },
    "hidden": true,
    "hideCode": false,
    "hideOutput": false,
    "scrolled": false
   },
   "outputs": [],
   "source": [
    "np_format = {}\n",
    "np_format['float'] = lambda x: \"%8.4f\" % x\n",
    "np.set_printoptions(linewidth=220, precision=3, floatmode='fixed', threshold =10000, formatter = np_format)\n",
    "# np.set_printoptions(precision=4, threshold=4000, linewidth=210, suppress=True)\n",
    "img = 0\n",
    "print(' output_rois', model_output_rois.shape)\n",
    "scaler = [128,128,128,128]\n",
    "window = [0,0,128,128]\n",
    "print('\\n mrcnn_class    : ', argmax_mrcnn_class_score.shape)\n",
    "print('\\n mrcnn_bbox     : ', argmax_mrcnn_deltas.shape)\n",
    "\n",
    "##---------------------------------------------------------------------------\n",
    "## applying bbox deltas to output_rois results in the corresponding gt_bbox\n",
    "## for POSITIVE proposals in the output_roi. For negative samples, it returns \n",
    "## in the negative_bbox coordinates itself. \n",
    "##---------------------------------------------------------------------------\n",
    "print('-----------------------------------------------------')\n",
    "print(' Applying predicted mrcnn_bbox_deltas to output_rois ')\n",
    "print('-----------------------------------------------------')\n",
    "print(' BBOX STD DEV: ', mrcnn_model.config.BBOX_STD_DEV)\n",
    "target_deltas = argmax_mrcnn_deltas * mrcnn_model.config.BBOX_STD_DEV\n",
    "\n",
    "# print('\\n target_bbox_deltas : ', model_target_bbox_deltas[0].shape)\n",
    "# print(model_target_bbox_deltas[0,:70])\n",
    "\n",
    "# print('\\n target_bbox_deltas * STD_DEV ', mrcnn_model.config.BBOX_STD_DEV, ' : ', target_deltas.shape)\n",
    "# print(target_deltas[0,:70])\n",
    " \n",
    "refined_rois = utils.apply_box_deltas_np(model_output_rois[0], target_deltas[0] )\n",
    "refined_rois *= scaler\n",
    "clipped_rois = utils.clip_to_window_np(window, refined_rois)\n",
    "\n",
    "refined_roi_area = (refined_rois[...,3] - refined_rois[...,1])*(refined_rois[...,2] - refined_rois[...,0]) \n",
    "clipped_roi_area = (clipped_rois[...,3] - clipped_rois[...,1])*(clipped_rois[...,2] - clipped_rois[...,0]) \n",
    "\n",
    "print('\\n output_rois after apply bbox_deltas :', refined_rois.shape)\n",
    "print(' model_target_class_ids.shape          :', model_target_class_ids.shape)\n",
    "print(' model_mrcnn_class.shape               :', model_mrcnn_class.shape)\n",
    "print(' refined_roi_area shape                :', refined_roi_area.shape)\n",
    "\n",
    "print(' Application of predicted mrcnn_bbox_deltas to output_rois '.center(194,'-'))\n",
    "# print('-'*194)\n",
    "print('    GT  PR',' '*160, ' ROI Area            ')\n",
    "print('row cls cls  \\t\\t output_rois  \\t\\t\\t  MRCNN Bbox Deltas \\t\\t\\t  delta-adjusted output_rois  \\t\\t  clipped refined rois \\t\\t   Refind Clippd  Score')\n",
    "print('-'*194)\n",
    "for i in range(model_output_rois.shape[1]):\n",
    "    print('{:2d}  {:2d}  {:2d}  {}  {}  {} {}  {:8.2f}  {:8.2f} {:.4f}'.format(i, model_target_class_ids[0,i], np.argmax(model_mrcnn_class[0,i]),\n",
    "                                                          model_output_rois[0,i]* scaler, \n",
    "                                                          target_deltas[0,i], \n",
    "                                                          refined_rois[i], \n",
    "#                                                           model_roi_gt_boxes[0,i]* scaler, \n",
    "                                                          clipped_rois[i],\n",
    "                                                          refined_roi_area[i],\n",
    "                                                          clipped_roi_area[i],\n",
    "                                                          argmax_mrcnn_class_score[0,i]))\n",
    "\n"
   ]
  },
  {
   "cell_type": "markdown",
   "metadata": {},
   "source": [
    "#### Split `refined_rois` into two arrays based on area > 0 "
   ]
  },
  {
   "cell_type": "code",
   "execution_count": null,
   "metadata": {
    "ExecuteTime": {
     "end_time": "2019-02-07T12:20:30.620500Z",
     "start_time": "2019-02-07T12:20:30.540584Z"
    }
   },
   "outputs": [],
   "source": [
    "print(argmax_mrcnn_class_score.shape)\n",
    "print(' refined_roi_area:')\n",
    "print('--------------------')\n",
    "print('refined_rois shape:', refined_rois.shape)\n",
    "# refined_roi_area = (refined_rois[...,3] - refined_rois[...,1])*(refined_rois[...,2] - refined_rois[...,0]) \n",
    "print(refined_roi_area.shape)\n",
    "print(refined_roi_area)\n",
    "refined_roi_area_condition = (refined_rois[...,3] - refined_rois[...,1])*(refined_rois[...,2] - refined_rois[...,0])  > 0\n",
    "print(refined_roi_area_condition.shape)\n",
    "print(refined_roi_area_condition)\n",
    "\n",
    "print(' clippped_roi_area:')\n",
    "print('--------------------')\n",
    "print(clipped_roi_area.shape)\n",
    "print(clipped_roi_area)\n",
    "clipped_roi_area_condition = (clipped_rois[...,3] - clipped_rois[...,1])*(clipped_rois[...,2] - clipped_rois[...,0])  > 0\n",
    "print(clipped_roi_area_condition.shape)\n",
    "print(clipped_roi_area_condition)\n",
    "\n",
    "\n",
    "# nonzero_idx = np.where(refined_roi_area )\n",
    "non_zero_rois = clipped_rois[clipped_roi_area_condition]\n",
    "zero_rois     = clipped_rois[~clipped_roi_area_condition]\n",
    "print('Non zero rois: ', non_zero_rois.shape)\n",
    "print(non_zero_rois)\n",
    "print('Non zero class predictions: ', argmax_mrcnn_class[0,clipped_roi_area_condition])\n",
    "print('Non zero class scores     : ', argmax_mrcnn_class_score[0,clipped_roi_area_condition])\n",
    "print('zero rois    : ', zero_rois.shape)\n",
    "print(zero_rois)\n",
    "print('zero class predictions: ', argmax_mrcnn_class[0, ~clipped_roi_area_condition])\n",
    "print('zero class scores     : ', argmax_mrcnn_class_score[0,~clipped_roi_area_condition])"
   ]
  },
  {
   "cell_type": "code",
   "execution_count": null,
   "metadata": {},
   "outputs": [],
   "source": []
  },
  {
   "cell_type": "code",
   "execution_count": null,
   "metadata": {},
   "outputs": [],
   "source": []
  },
  {
   "cell_type": "markdown",
   "metadata": {},
   "source": [
    "#### Display  `mrcnn_bbox` and apply `mrcnn_delta` to `output_rois`"
   ]
  },
  {
   "cell_type": "code",
   "execution_count": 45,
   "metadata": {
    "ExecuteTime": {
     "end_time": "2019-02-08T14:08:34.285621Z",
     "start_time": "2019-02-08T14:08:34.072293Z"
    },
    "scrolled": false
   },
   "outputs": [
    {
     "name": "stdout",
     "output_type": "stream",
     "text": [
      " mrcnn_class (2, 32, 7)\n",
      "\n",
      "\n",
      " mrcnn_class Max Values   :  (32,)\n",
      "[0.9998 0.9998 0.9836 0.9997 0.9992 0.9992 0.9996 0.9997 1.     0.9996 0.9998 1.     0.9924 0.9999 1.     0.9989 0.9998 0.9996 1.     1.     0.9997 0.9983 0.96   0.9998 1.     0.9953 0.9997 0.9998 0.9369\n",
      " 0.9999 1.     1.    ]\n",
      "\n",
      "\n",
      " mrcnn_class Argmax Values:  (2, 32)\n",
      "[[2 2 2 3 2 2 4 2 4 2 0 0 0 0 0 0 0 0 0 0 0 0 4 0 0 2 0 0 0 0 0 0]\n",
      " [6 2 2 2 2 6 6 0 4 6 0 0 0 0 0 0 0 0 0 0 0 0 0 0 0 0 0 0 0 0 0 0]]\n",
      " mrcnn_bbox (2, 32, 7, 4)\n",
      "128 128\n",
      "bbox/cls: 0/2  \n",
      "-------------------------\n",
      "mrcnn_bbox_deltas for bbox  0\n",
      "delta for predicted class: 2\n",
      "          output_roi:  [0.4146 0.4453 0.7415 0.9432] \n",
      "         mrcnn_delta:  [ 3.4239  0.0472 -3.6041 -1.5494]  mrcnn_delta * BBOX_STD_DEV:[ 0.3424  0.0047 -0.7208 -0.3099] \n",
      "       tgt(GT)_delta:  [ 3.4687 -0.2145 -3.4461 -1.3143]    tgt_delta * BBOX_STD_DEV:[ 0.3469 -0.0214 -0.6892 -0.2629] \n",
      " adjusted output_roi \n",
      "                     using rcnn_bbox_delta:  [ 78.1394  65.7934  98.4862 112.5419]\n",
      "                     using  tgt_bbox_delta:  [ 78.  63.  99. 112.]\n",
      "                              roi_gt_boxes:  [ 78.  63.  99. 112.]\n",
      "\n",
      "bbox/cls: 1/2  \n",
      "-------------------------\n",
      "mrcnn_bbox_deltas for bbox  1\n",
      "delta for predicted class: 2\n",
      "          output_roi:  [0.3378 0.3677 0.7234 0.8799] \n",
      "         mrcnn_delta:  [ 4.3796  1.464  -3.8668 -1.6732]  mrcnn_delta * BBOX_STD_DEV:[ 0.438   0.1464 -0.7734 -0.3346] \n",
      "       tgt(GT)_delta:  [ 4.1709  1.1679 -4.2731 -1.4558]    tgt_delta * BBOX_STD_DEV:[ 0.4171  0.1168 -0.8546 -0.2912] \n",
      " adjusted output_roi \n",
      "                     using rcnn_bbox_delta:  [ 78.141   65.9842 100.9185 112.8988]\n",
      "                     using  tgt_bbox_delta:  [ 78.  63.  99. 112.]\n",
      "                              roi_gt_boxes:  [ 78.  63.  99. 112.]\n",
      "\n",
      "bbox/cls: 2/2  \n",
      "-------------------------\n",
      "mrcnn_bbox_deltas for bbox  2\n",
      "delta for predicted class: 2\n",
      "          output_roi:  [0.4174 0.5847 0.8484 1.    ] \n",
      "         mrcnn_delta:  [ 1.7829 -2.4331 -4.9403 -0.9593]  mrcnn_delta * BBOX_STD_DEV:[ 0.1783 -0.2433 -0.9881 -0.1919] \n",
      "       tgt(GT)_delta:  [ 1.3571 -2.6196 -4.8294 -0.4067]    tgt_delta * BBOX_STD_DEV:[ 0.1357 -0.262  -0.9659 -0.0813] \n",
      " adjusted output_roi \n",
      "                     using rcnn_bbox_delta:  [ 80.5796  66.5552 101.119  110.4277]\n",
      "                     using  tgt_bbox_delta:  [ 78.  63.  99. 112.]\n",
      "                              roi_gt_boxes:  [ 78.  63.  99. 112.]\n",
      "\n",
      "bbox/cls: 3/3  \n",
      "-------------------------\n",
      "mrcnn_bbox_deltas for bbox  3\n",
      "delta for predicted class: 3\n",
      "          output_roi:  [0.0797 0.0201 0.2091 0.1721] \n",
      "         mrcnn_delta:  [ 0.7533 -0.8296  0.2705 -0.5579]  mrcnn_delta * BBOX_STD_DEV:[ 0.0753 -0.083   0.0541 -0.1116] \n",
      "       tgt(GT)_delta:  [ 0.6137 -0.4087  0.1329 -0.6744]    tgt_delta * BBOX_STD_DEV:[ 0.0614 -0.0409  0.0266 -0.1349] \n",
      " adjusted output_roi \n",
      "                     using rcnn_bbox_delta:  [10.994   1.9807 28.4683 19.3816]\n",
      "                     using  tgt_bbox_delta:  [11.  3. 28. 20.]\n",
      "                              roi_gt_boxes:  [11.  3. 28. 20.]\n",
      "\n",
      "bbox/cls: 4/2  \n",
      "-------------------------\n",
      "mrcnn_bbox_deltas for bbox  4\n",
      "delta for predicted class: 2\n",
      "          output_roi:  [0.6165 0.476  0.7696 0.8635] \n",
      "         mrcnn_delta:  [-0.32    0.2081  0.1739 -0.1891]  mrcnn_delta * BBOX_STD_DEV:[-0.032   0.0208  0.0348 -0.0378] \n",
      "       tgt(GT)_delta:  [-0.1067  0.3575  0.3454 -0.0615]    tgt_delta * BBOX_STD_DEV:[-0.0107  0.0358  0.0691 -0.0123] \n",
      " adjusted output_roi \n",
      "                     using rcnn_bbox_delta:  [ 77.9359  62.8762  98.2278 110.6417]\n",
      "                     using  tgt_bbox_delta:  [ 78.  63.  99. 112.]\n",
      "                              roi_gt_boxes:  [ 78.  63.  99. 112.]\n",
      "\n",
      "bbox/cls: 5/2  \n",
      "-------------------------\n",
      "mrcnn_bbox_deltas for bbox  5\n",
      "delta for predicted class: 2\n",
      "          output_roi:  [0.5178 0.3011 0.9845 0.8433] \n",
      "         mrcnn_delta:  [-1.3996  2.6503 -5.239  -1.652 ]  mrcnn_delta * BBOX_STD_DEV:[-0.14    0.265  -1.0478 -0.3304] \n",
      "       tgt(GT)_delta:  [-1.2802  2.0551 -5.2268 -1.7405]    tgt_delta * BBOX_STD_DEV:[-0.128   0.2055 -1.0454 -0.3481] \n",
      " adjusted output_roi \n",
      "                     using rcnn_bbox_delta:  [ 77.3123  66.6937  98.2614 116.5691]\n",
      "                     using  tgt_bbox_delta:  [ 78.  63.  99. 112.]\n",
      "                              roi_gt_boxes:  [ 78.  63.  99. 112.]\n",
      "\n",
      "bbox/cls: 6/4  \n",
      "-------------------------\n",
      "mrcnn_bbox_deltas for bbox  6\n",
      "delta for predicted class: 4\n",
      "          output_roi:  [0.2414 0.     0.5497 0.3011] \n",
      "         mrcnn_delta:  [ 0.1223  3.7177 -1.3823 -2.2735]  mrcnn_delta * BBOX_STD_DEV:[ 0.0122  0.3718 -0.2765 -0.4547] \n",
      "       tgt(GT)_delta:  [ 0.2208  3.1726 -1.5411 -2.1645]    tgt_delta * BBOX_STD_DEV:[ 0.0221  0.3173 -0.3082 -0.4329] \n",
      " adjusted output_roi \n",
      "                     using rcnn_bbox_delta:  [36.1434 21.3703 66.0794 45.8313]\n",
      "                     using  tgt_bbox_delta:  [37. 19. 66. 44.]\n",
      "                              roi_gt_boxes:  [37. 19. 66. 44.]\n",
      "\n",
      "bbox/cls: 7/2  \n",
      "-------------------------\n",
      "mrcnn_bbox_deltas for bbox  7\n",
      "delta for predicted class: 2\n",
      "          output_roi:  [0.5395 0.5049 0.7348 0.8809] \n",
      "         mrcnn_delta:  [ 2.6609 -0.07   -0.6883 -0.0483]  mrcnn_delta * BBOX_STD_DEV:[ 0.2661 -0.007  -0.1377 -0.0097] \n",
      "       tgt(GT)_delta:  [ 2.7777 -0.2485 -0.8723  0.09  ]    tgt_delta * BBOX_STD_DEV:[ 0.2778 -0.0249 -0.1745  0.018 ] \n",
      " adjusted output_roi \n",
      "                     using rcnn_bbox_delta:  [ 77.3143  64.5277  99.1016 112.1908]\n",
      "                     using  tgt_bbox_delta:  [ 78.  63.  99. 112.]\n",
      "                              roi_gt_boxes:  [ 78.  63.  99. 112.]\n",
      "\n",
      "bbox/cls: 8/4  \n",
      "-------------------------\n",
      "mrcnn_bbox_deltas for bbox  8\n",
      "delta for predicted class: 4\n",
      "          output_roi:  [0.2123 0.1066 0.5131 0.4753] \n",
      "         mrcnn_delta:  [ 1.2672 -1.4507 -1.3903 -3.0873]  mrcnn_delta * BBOX_STD_DEV:[ 0.1267 -0.1451 -0.2781 -0.6175] \n",
      "       tgt(GT)_delta:  [ 1.3183 -1.2172 -1.4179 -3.1761]    tgt_delta * BBOX_STD_DEV:[ 0.1318 -0.1217 -0.2836 -0.6352] \n",
      " adjusted output_roi \n",
      "                     using rcnn_bbox_delta:  [36.7229 17.6741 65.8833 43.1219]\n",
      "                     using  tgt_bbox_delta:  [37. 19. 66. 44.]\n",
      "                              roi_gt_boxes:  [37. 19. 66. 44.]\n",
      "\n",
      "bbox/cls: 9/2  \n",
      "-------------------------\n",
      "mrcnn_bbox_deltas for bbox  9\n",
      "delta for predicted class: 2\n",
      "          output_roi:  [0.5039 0.3887 0.8012 0.8635] \n",
      "         mrcnn_delta:  [ 1.2713  1.3003 -2.9662 -1.0574]  mrcnn_delta * BBOX_STD_DEV:[ 0.1271  0.13   -0.5932 -0.2115] \n",
      "       tgt(GT)_delta:  [ 1.3063  1.2115 -2.9728 -1.0764]    tgt_delta * BBOX_STD_DEV:[ 0.1306  0.1211 -0.5946 -0.2153] \n",
      " adjusted output_roi \n",
      "                     using rcnn_bbox_delta:  [ 77.8531  63.4464  98.8807 112.6332]\n",
      "                     using  tgt_bbox_delta:  [ 78.  63.  99. 112.]\n",
      "                              roi_gt_boxes:  [ 78.  63.  99. 112.]\n",
      "\n",
      "bbox/cls: 10/0  \n",
      "-------------------------\n",
      "mrcnn_bbox_deltas for bbox  10\n",
      "delta for predicted class: 0\n",
      "          output_roi:  [0.2781 0.4107 0.4841 0.565 ] \n",
      "         mrcnn_delta:  [ 0.6914 -2.3839  0.688  -1.8492]  mrcnn_delta * BBOX_STD_DEV:[ 0.0691 -0.2384  0.1376 -0.3698] \n",
      "       tgt(GT)_delta:  [0. 0. 0. 0.]    tgt_delta * BBOX_STD_DEV:[0. 0. 0. 0.] \n",
      " adjusted output_roi \n",
      "                     using rcnn_bbox_delta:  [35.475  50.9083 65.7365 64.5572]\n",
      "                     using  tgt_bbox_delta:  [35.597  52.5642 61.968  72.3212]\n",
      "                              roi_gt_boxes:  [0. 0. 0. 0.]\n",
      "\n",
      "bbox/cls: 11/0  \n",
      "-------------------------\n",
      "mrcnn_bbox_deltas for bbox  11\n",
      "delta for predicted class: 0\n",
      "          output_roi:  [0.4121 0.     0.9829 0.652 ] \n",
      "         mrcnn_delta:  [ 0.5137 -5.1147  2.1799 -1.3533]  mrcnn_delta * BBOX_STD_DEV:[ 0.0514 -0.5115  0.436  -0.2707] \n",
      "       tgt(GT)_delta:  [0. 0. 0. 0.]    tgt_delta * BBOX_STD_DEV:[0. 0. 0. 0.] \n",
      " adjusted output_roi \n",
      "                     using rcnn_bbox_delta:  [ 36.5381 -32.7893 149.5349  30.8751]\n",
      "                     using  tgt_bbox_delta:  [ 52.7497   0.     125.8168  83.4527]\n",
      "                              roi_gt_boxes:  [0. 0. 0. 0.]\n",
      "\n",
      "bbox/cls: 12/0  \n",
      "-------------------------\n",
      "mrcnn_bbox_deltas for bbox  12\n",
      "delta for predicted class: 0\n",
      "          output_roi:  [0.5479 0.1633 1.     0.8921] \n",
      "         mrcnn_delta:  [ 0.0852 -5.0414  3.0902 -1.0265]  mrcnn_delta * BBOX_STD_DEV:[ 0.0085 -0.5041  0.618  -0.2053] \n",
      "       tgt(GT)_delta:  [0. 0. 0. 0.]    tgt_delta * BBOX_STD_DEV:[0. 0. 0. 0.] \n",
      " adjusted output_roi \n",
      "                     using rcnn_bbox_delta:  [ 45.869  -17.4699 153.2428  58.5016]\n",
      "                     using  tgt_bbox_delta:  [ 70.1254  20.9022 128.     114.1876]\n",
      "                              roi_gt_boxes:  [0. 0. 0. 0.]\n",
      "\n",
      "bbox/cls: 13/0  \n",
      "-------------------------\n",
      "mrcnn_bbox_deltas for bbox  13\n",
      "delta for predicted class: 0\n",
      "          output_roi:  [0.1881 0.4742 0.5058 1.    ] \n",
      "         mrcnn_delta:  [ 2.8821 -5.5731  1.4376 -3.2679]  mrcnn_delta * BBOX_STD_DEV:[ 0.2882 -0.5573  0.2875 -0.6536] \n",
      "       tgt(GT)_delta:  [0. 0. 0. 0.]    tgt_delta * BBOX_STD_DEV:[0. 0. 0. 0.] \n",
      " adjusted output_roi \n",
      "                     using rcnn_bbox_delta:  [29.0227 39.3398 83.2393 74.3475]\n",
      "                     using  tgt_bbox_delta:  [ 24.0755  60.7005  64.7445 128.    ]\n",
      "                              roi_gt_boxes:  [0. 0. 0. 0.]\n",
      "\n",
      "bbox/cls: 14/0  \n",
      "-------------------------\n",
      "mrcnn_bbox_deltas for bbox  14\n",
      "delta for predicted class: 0\n",
      "          output_roi:  [0.1512 0.5069 0.344  1.    ] \n",
      "         mrcnn_delta:  [ 4.019  -4.5549  0.6411 -0.1565]  mrcnn_delta * BBOX_STD_DEV:[ 0.4019 -0.4555  0.1282 -0.0313] \n",
      "       tgt(GT)_delta:  [0. 0. 0. 0.]    tgt_delta * BBOX_STD_DEV:[0. 0. 0. 0.] \n",
      " adjusted output_roi \n",
      "                     using rcnn_bbox_delta:  [27.587  37.1018 55.6318 98.2767]\n",
      "                     using  tgt_bbox_delta:  [ 19.3598  64.8799  44.0296 128.    ]\n",
      "                              roi_gt_boxes:  [0. 0. 0. 0.]\n",
      "\n",
      "bbox/cls: 15/0  \n",
      "-------------------------\n",
      "mrcnn_bbox_deltas for bbox  15\n",
      "delta for predicted class: 0\n",
      "          output_roi:  [0.3127 0.     0.6803 0.5785] \n",
      "         mrcnn_delta:  [-0.2951 -4.3676  5.1473 -1.7345]  mrcnn_delta * BBOX_STD_DEV:[-0.0295 -0.4368  1.0295 -0.3469] \n",
      "       tgt(GT)_delta:  [0. 0. 0. 0.]    tgt_delta * BBOX_STD_DEV:[0. 0. 0. 0.] \n",
      " adjusted output_roi \n",
      "                     using rcnn_bbox_delta:  [ -3.698  -21.4881 128.0176  30.8535]\n",
      "                     using  tgt_bbox_delta:  [40.0238  0.     87.0727 74.047 ]\n",
      "                              roi_gt_boxes:  [0. 0. 0. 0.]\n",
      "\n",
      "bbox/cls: 16/0  \n",
      "-------------------------\n",
      "mrcnn_bbox_deltas for bbox  16\n",
      "delta for predicted class: 0\n",
      "          output_roi:  [0.1961 0.37   0.4578 0.7279] \n",
      "         mrcnn_delta:  [ 2.1553 -4.3214  1.1255 -3.2746]  mrcnn_delta * BBOX_STD_DEV:[ 0.2155 -0.4321  0.2251 -0.6549] \n",
      "       tgt(GT)_delta:  [0. 0. 0. 0.]    tgt_delta * BBOX_STD_DEV:[0. 0. 0. 0.] \n",
      " adjusted output_roi \n",
      "                     using rcnn_bbox_delta:  [28.0885 38.565  70.0398 62.3679]\n",
      "                     using  tgt_bbox_delta:  [25.0972 47.3569 58.5926 93.1772]\n",
      "                              roi_gt_boxes:  [0. 0. 0. 0.]\n",
      "\n",
      "bbox/cls: 17/0  \n",
      "-------------------------\n",
      "mrcnn_bbox_deltas for bbox  17\n",
      "delta for predicted class: 0\n",
      "          output_roi:  [0.3637 0.3905 0.6407 0.6131] \n",
      "         mrcnn_delta:  [ 0.5478 -2.209   1.1168 -2.0859]  mrcnn_delta * BBOX_STD_DEV:[ 0.0548 -0.2209  0.2234 -0.4172] \n",
      "       tgt(GT)_delta:  [0. 0. 0. 0.]    tgt_delta * BBOX_STD_DEV:[0. 0. 0. 0.] \n",
      " adjusted output_roi \n",
      "                     using rcnn_bbox_delta:  [44.065  48.5479 88.3911 67.3233]\n",
      "                     using  tgt_bbox_delta:  [46.5593 49.9826 82.0123 78.4776]\n",
      "                              roi_gt_boxes:  [0. 0. 0. 0.]\n",
      "\n",
      "bbox/cls: 18/0  \n",
      "-------------------------\n",
      "mrcnn_bbox_deltas for bbox  18\n",
      "delta for predicted class: 0\n",
      "          output_roi:  [0.     0.4218 0.1954 1.    ] \n",
      "         mrcnn_delta:  [ 5.5883 -4.0158 -1.7477 -1.7167]  mrcnn_delta * BBOX_STD_DEV:[ 0.5588 -0.4016 -0.3495 -0.3433] \n",
      "       tgt(GT)_delta:  [0. 0. 0. 0.]    tgt_delta * BBOX_STD_DEV:[0. 0. 0. 0.] \n",
      " adjusted output_roi \n",
      "                     using rcnn_bbox_delta:  [17.6624 35.0234 35.2919 87.5255]\n",
      "                     using  tgt_bbox_delta:  [  0.      53.9904  25.0059 128.    ]\n",
      "                              roi_gt_boxes:  [0. 0. 0. 0.]\n",
      "\n",
      "bbox/cls: 19/0  \n",
      "-------------------------\n",
      "mrcnn_bbox_deltas for bbox  19\n",
      "delta for predicted class: 0\n",
      "          output_roi:  [0.3117 0.7133 0.5645 1.    ] \n",
      "         mrcnn_delta:  [ 2.331  -3.0444  1.3336 -2.3499]  mrcnn_delta * BBOX_STD_DEV:[ 0.2331 -0.3044  0.2667 -0.47  ] \n",
      "       tgt(GT)_delta:  [0. 0. 0. 0.]    tgt_delta * BBOX_STD_DEV:[0. 0. 0. 0.] \n",
      " adjusted output_roi \n",
      "                     using rcnn_bbox_delta:  [ 42.4978  87.0105  84.7389 109.9471]\n",
      "                     using  tgt_bbox_delta:  [ 39.9012  91.302   72.2529 128.    ]\n",
      "                              roi_gt_boxes:  [0. 0. 0. 0.]\n",
      "\n",
      "bbox/cls: 20/0  \n",
      "-------------------------\n",
      "mrcnn_bbox_deltas for bbox  20\n",
      "delta for predicted class: 0\n",
      "          output_roi:  [0.2852 0.452  0.4751 0.6494] \n",
      "         mrcnn_delta:  [ 0.9525 -2.5156  0.6447 -1.9032]  mrcnn_delta * BBOX_STD_DEV:[ 0.0953 -0.2516  0.1289 -0.3806] \n",
      "       tgt(GT)_delta:  [0. 0. 0. 0.]    tgt_delta * BBOX_STD_DEV:[0. 0. 0. 0.] \n",
      " adjusted output_roi \n",
      "                     using rcnn_bbox_delta:  [37.1532 55.4959 64.7951 72.7679]\n",
      "                     using  tgt_bbox_delta:  [36.5108 57.8533 60.8086 83.126 ]\n",
      "                              roi_gt_boxes:  [0. 0. 0. 0.]\n",
      "\n",
      "bbox/cls: 21/0  \n",
      "-------------------------\n",
      "mrcnn_bbox_deltas for bbox  21\n",
      "delta for predicted class: 0\n",
      "          output_roi:  [0.3026 0.     0.8952 1.    ] \n",
      "         mrcnn_delta:  [ 1.2601 -4.7763  3.6661 -3.4921]  mrcnn_delta * BBOX_STD_DEV:[ 0.126  -0.4776  0.7332 -0.6984] \n",
      "       tgt(GT)_delta:  [0. 0. 0. 0.]    tgt_delta * BBOX_STD_DEV:[0. 0. 0. 0.] \n",
      " adjusted output_roi \n",
      "                     using rcnn_bbox_delta:  [  7.2645 -28.9687 165.1645  34.6942]\n",
      "                     using  tgt_bbox_delta:  [ 38.7327   0.     114.5812 128.    ]\n",
      "                              roi_gt_boxes:  [0. 0. 0. 0.]\n",
      "\n",
      "bbox/cls: 22/4  \n",
      "-------------------------\n",
      "mrcnn_bbox_deltas for bbox  22\n",
      "delta for predicted class: 4\n",
      "          output_roi:  [0.2705 0.0827 0.6696 0.6516] \n",
      "         mrcnn_delta:  [-1.7584 -2.3188 -2.3852 -4.7138]  mrcnn_delta * BBOX_STD_DEV:[-0.1758 -0.2319 -0.477  -0.9428] \n",
      "       tgt(GT)_delta:  [0. 0. 0. 0.]    tgt_delta * BBOX_STD_DEV:[0. 0. 0. 0.] \n",
      " adjusted output_roi \n",
      "                     using rcnn_bbox_delta:  [35.3263 15.929  67.0302 44.2954]\n",
      "                     using  tgt_bbox_delta:  [34.6187 10.5883 85.7027 83.407 ]\n",
      "                              roi_gt_boxes:  [0. 0. 0. 0.]\n",
      "\n",
      "bbox/cls: 23/0  \n",
      "-------------------------\n",
      "mrcnn_bbox_deltas for bbox  23\n",
      "delta for predicted class: 0\n",
      "          output_roi:  [0.2491 0.3837 0.6176 0.8545] \n",
      "         mrcnn_delta:  [ 1.043  -3.6007  1.4118 -3.2017]  mrcnn_delta * BBOX_STD_DEV:[ 0.1043 -0.3601  0.2824 -0.6403] \n",
      "       tgt(GT)_delta:  [0. 0. 0. 0.]    tgt_delta * BBOX_STD_DEV:[0. 0. 0. 0.] \n",
      " adjusted output_roi \n",
      "                     using rcnn_bbox_delta:  [29.1083 41.6623 91.6703 73.4293]\n",
      "                     using  tgt_bbox_delta:  [ 31.8831  49.1129  79.055  109.3784]\n",
      "                              roi_gt_boxes:  [0. 0. 0. 0.]\n",
      "\n",
      "bbox/cls: 24/0  \n",
      "-------------------------\n",
      "mrcnn_bbox_deltas for bbox  24\n",
      "delta for predicted class: 0\n",
      "          output_roi:  [0.0309 0.363  0.2526 1.    ] \n",
      "         mrcnn_delta:  [ 4.2373 -2.948  -1.0307 -0.5617]  mrcnn_delta * BBOX_STD_DEV:[ 0.4237 -0.2948 -0.2061 -0.1123] \n",
      "       tgt(GT)_delta:  [0. 0. 0. 0.]    tgt_delta * BBOX_STD_DEV:[0. 0. 0. 0.] \n",
      " adjusted output_roi \n",
      "                     using rcnn_bbox_delta:  [18.6262 26.7662 41.7197 99.6326]\n",
      "                     using  tgt_bbox_delta:  [  3.9572  46.4697  32.3375 128.    ]\n",
      "                              roi_gt_boxes:  [0. 0. 0. 0.]\n",
      "\n",
      "bbox/cls: 25/2  \n",
      "-------------------------\n",
      "mrcnn_bbox_deltas for bbox  25\n",
      "delta for predicted class: 2\n",
      "          output_roi:  [0.368  0.2755 0.8089 1.    ] \n",
      "         mrcnn_delta:  [ 2.6017  1.2868 -4.7054 -2.1491]  mrcnn_delta * BBOX_STD_DEV:[ 0.2602  0.1287 -0.9411 -0.4298] \n",
      "       tgt(GT)_delta:  [0. 0. 0. 0.]    tgt_delta * BBOX_STD_DEV:[0. 0. 0. 0.] \n",
      " adjusted output_roi \n",
      "                     using rcnn_bbox_delta:  [ 78.991   63.4002 101.0106 123.7336]\n",
      "                     using  tgt_bbox_delta:  [ 47.1033  35.269  103.5344 128.    ]\n",
      "                              roi_gt_boxes:  [0. 0. 0. 0.]\n",
      "\n",
      "bbox/cls: 26/0  \n",
      "-------------------------\n",
      "mrcnn_bbox_deltas for bbox  26\n",
      "delta for predicted class: 0\n",
      "          output_roi:  [0.2835 0.5136 0.4761 0.7176] \n",
      "         mrcnn_delta:  [ 0.778  -2.6259  1.1376 -1.8436]  mrcnn_delta * BBOX_STD_DEV:[ 0.0778 -0.2626  0.2275 -0.3687] \n",
      "       tgt(GT)_delta:  [0. 0. 0. 0.]    tgt_delta * BBOX_STD_DEV:[0. 0. 0. 0.] \n",
      " adjusted output_roi \n",
      "                     using rcnn_bbox_delta:  [35.0501 62.9056 66.0095 80.9694]\n",
      "                     using  tgt_bbox_delta:  [36.2816 65.7367 60.941  91.8551]\n",
      "                              roi_gt_boxes:  [0. 0. 0. 0.]\n",
      "\n",
      "bbox/cls: 27/0  \n",
      "-------------------------\n",
      "mrcnn_bbox_deltas for bbox  27\n",
      "delta for predicted class: 0\n",
      "          output_roi:  [0.1369 0.1647 0.354  0.7277] \n",
      "         mrcnn_delta:  [ 4.5712 -5.1309  1.021  -0.8865]  mrcnn_delta * BBOX_STD_DEV:[ 0.4571 -0.5131  0.2042 -0.1773] \n",
      "       tgt(GT)_delta:  [0. 0. 0. 0.]    tgt_delta * BBOX_STD_DEV:[0. 0. 0. 0.] \n",
      " adjusted output_roi \n",
      "                     using rcnn_bbox_delta:  [ 27.0833 -10.0376  61.1645  50.3142]\n",
      "                     using  tgt_bbox_delta:  [17.5291 21.0817 45.3155 93.1412]\n",
      "                              roi_gt_boxes:  [0. 0. 0. 0.]\n",
      "\n",
      "bbox/cls: 28/0  \n",
      "-------------------------\n",
      "mrcnn_bbox_deltas for bbox  28\n",
      "delta for predicted class: 0\n",
      "          output_roi:  [0.4601 0.0394 0.8424 1.    ] \n",
      "         mrcnn_delta:  [ 0.2091 -3.6437  2.234  -2.0438]  mrcnn_delta * BBOX_STD_DEV:[ 0.0209 -0.3644  0.4468 -0.4088] \n",
      "       tgt(GT)_delta:  [0. 0. 0. 0.]    tgt_delta * BBOX_STD_DEV:[0. 0. 0. 0.] \n",
      " adjusted output_roi \n",
      "                     using rcnn_bbox_delta:  [ 46.1277 -19.1317 122.6376  62.57  ]\n",
      "                     using  tgt_bbox_delta:  [ 58.8886   5.043  107.8299 128.    ]\n",
      "                              roi_gt_boxes:  [0. 0. 0. 0.]\n",
      "\n",
      "bbox/cls: 29/0  \n",
      "-------------------------\n",
      "mrcnn_bbox_deltas for bbox  29\n",
      "delta for predicted class: 0\n",
      "          output_roi:  [0.2936 0.6391 0.5228 0.9407] \n",
      "         mrcnn_delta:  [ 1.6863 -3.3805  1.6296 -2.006 ]  mrcnn_delta * BBOX_STD_DEV:[ 0.1686 -0.3381  0.3259 -0.4012] \n",
      "       tgt(GT)_delta:  [0. 0. 0. 0.]    tgt_delta * BBOX_STD_DEV:[0. 0. 0. 0.] \n",
      " adjusted output_roi \n",
      "                     using rcnn_bbox_delta:  [ 36.8787  75.1401  77.5113 100.9809]\n",
      "                     using  tgt_bbox_delta:  [ 37.5836  81.8101  66.9146 120.4059]\n",
      "                              roi_gt_boxes:  [0. 0. 0. 0.]\n",
      "\n",
      "bbox/cls: 30/0  \n",
      "-------------------------\n",
      "mrcnn_bbox_deltas for bbox  30\n",
      "delta for predicted class: 0\n",
      "          output_roi:  [0. 0. 0. 0.] \n",
      "         mrcnn_delta:  [-12.7614 -13.7048   4.8676  -4.5722]  mrcnn_delta * BBOX_STD_DEV:[-1.2761 -1.3705  0.9735 -0.9144] \n",
      "       tgt(GT)_delta:  [0. 0. 0. 0.]    tgt_delta * BBOX_STD_DEV:[0. 0. 0. 0.] \n",
      " adjusted output_roi \n",
      "                     using rcnn_bbox_delta:  [0. 0. 0. 0.]\n",
      "                     using  tgt_bbox_delta:  [0. 0. 0. 0.]\n",
      "                              roi_gt_boxes:  [0. 0. 0. 0.]\n",
      "\n",
      "bbox/cls: 31/0  \n",
      "-------------------------\n",
      "mrcnn_bbox_deltas for bbox  31\n",
      "delta for predicted class: 0\n",
      "          output_roi:  [0. 0. 0. 0.] \n",
      "         mrcnn_delta:  [-12.7614 -13.7048   4.8676  -4.5722]  mrcnn_delta * BBOX_STD_DEV:[-1.2761 -1.3705  0.9735 -0.9144] \n",
      "       tgt(GT)_delta:  [0. 0. 0. 0.]    tgt_delta * BBOX_STD_DEV:[0. 0. 0. 0.] \n",
      " adjusted output_roi \n",
      "                     using rcnn_bbox_delta:  [0. 0. 0. 0.]\n",
      "                     using  tgt_bbox_delta:  [0. 0. 0. 0.]\n",
      "                              roi_gt_boxes:  [0. 0. 0. 0.]\n",
      "\n",
      "[[ 11   3  28  20]\n",
      " [ 37  19  66  44]\n",
      " [ 78  63  99 112]\n",
      " [  0   0   0   0]\n",
      " [  0   0   0   0]\n",
      " [  0   0   0   0]\n",
      " [  0   0   0   0]\n",
      " [  0   0   0   0]\n",
      " [  0   0   0   0]\n",
      " [  0   0   0   0]\n",
      " [  0   0   0   0]\n",
      " [  0   0   0   0]\n",
      " [  0   0   0   0]\n",
      " [  0   0   0   0]\n",
      " [  0   0   0   0]\n",
      " [  0   0   0   0]\n",
      " [  0   0   0   0]\n",
      " [  0   0   0   0]\n",
      " [  0   0   0   0]\n",
      " [  0   0   0   0]]\n"
     ]
    }
   ],
   "source": [
    "np.set_printoptions(precision=4, threshold=4000, linewidth=210, suppress=True)\n",
    "\n",
    "print(' mrcnn_class', model_mrcnn_class.shape)\n",
    "# print( mrcnn_class[0,-1])\n",
    "max_mrcnn_class    = np.max(model_mrcnn_class, axis = (0,2))\n",
    "argmax_mrcnn_class = np.argmax(model_mrcnn_class, axis = 2)\n",
    "\n",
    "print()\n",
    "print('\\n mrcnn_class Max Values   : ', max_mrcnn_class.shape)\n",
    "print(max_mrcnn_class)\n",
    "\n",
    "print()\n",
    "print('\\n mrcnn_class Argmax Values: ', argmax_mrcnn_class.shape)\n",
    "print(argmax_mrcnn_class)\n",
    "\n",
    "# print(' mrcnn_class')\n",
    "# print( mrcnn_class.shape)\n",
    "# print( mrcnn_class[0,:,:])\n",
    "\n",
    "print(' mrcnn_bbox', model_mrcnn_bbox.shape)\n",
    "print(h,w)\n",
    "for i, delta in enumerate(model_mrcnn_bbox[0,:]):\n",
    "    # each delta is a 81 x 4 array\n",
    "    class_id     = argmax_mrcnn_class[0,i]\n",
    "    print('bbox/cls: {}/{}  '.format(i,class_id))\n",
    "    print('-------------------------')\n",
    "    print('mrcnn_bbox_deltas for bbox ',i)\n",
    "\n",
    "    mrcnn_delta  = delta[class_id]\n",
    "    mrcnn_delta_2 = mrcnn_delta * mrcnn_model.config.BBOX_STD_DEV\n",
    "    print('delta for predicted class:', class_id)\n",
    "    print('          output_roi:  {} '.format( model_output_rois[0,i]))\n",
    "    print('         mrcnn_delta:  {}  mrcnn_delta * BBOX_STD_DEV:{} '.format(mrcnn_delta ,mrcnn_delta_2))\n",
    "    \n",
    "    tgt_delta   = model_target_bbox_deltas[0,i]\n",
    "    tgt_delta_2 = tgt_delta * mrcnn_model.config.BBOX_STD_DEV\n",
    "    print('       tgt(GT)_delta:  {}    tgt_delta * BBOX_STD_DEV:{} '.format(tgt_delta ,tgt_delta_2))\n",
    "\n",
    "    t2 = utils.apply_box_delta(model_output_rois[0,i], mrcnn_delta_2 ) * [h,w,h,w]\n",
    "    t3 = utils.apply_box_delta(model_output_rois[0,i], tgt_delta_2  )  * [h,w,h,w]\n",
    "    print(' adjusted output_roi ')\n",
    "    print('                     using rcnn_bbox_delta: ', t2)\n",
    "    print('                     using  tgt_bbox_delta: ', t3)\n",
    "    print('                              roi_gt_boxes: ', model_roi_gt_boxes[0,i] * [h,w,h,w])\n",
    "    print()\n",
    "print(input_gt_bboxes[0,:20])    "
   ]
  },
  {
   "cell_type": "markdown",
   "metadata": {},
   "source": [
    "#### display gt_heatmap_scores and pred_heatmap_scores outputs"
   ]
  },
  {
   "cell_type": "code",
   "execution_count": null,
   "metadata": {
    "ExecuteTime": {
     "end_time": "2019-02-06T16:09:08.552231Z",
     "start_time": "2019-02-06T16:09:08.238282Z"
    },
    "scrolled": false
   },
   "outputs": [],
   "source": [
    "np.set_printoptions(precision=4, threshold=None, linewidth=200, suppress=True)\n",
    "# print(' gt_tensor')\n",
    "# print(gt_tensor.shape)\n",
    "# print(gt_tensor[img,:,:10])\n",
    "img_id = 1\n",
    "print(' GT Heatmap Scores')\n",
    "\n",
    "print('gt_heatmap_scores  : ', model_gt_heatmap_scores.dtype  ,  model_gt_heatmap_scores.shape)\n",
    "print('pred_heatmap_scores: ', model_pred_heatmap_scores.dtype,  model_pred_heatmap_scores.shape)\n",
    "\n",
    "# print(gt_heatmap_scores[img,1])\n",
    "# for img_id in range(mrcnn_config.BATCH_SIZE):\n",
    "\n",
    "for img_id in [0]:    # print(pred_refined_heatmap_scores[img_id,:4])\n",
    "    pr_class_ids = np.unique(model_pred_heatmap_scores[img_id,:,:,4]).astype(int).tolist()\n",
    "    gt_class_ids = np.unique(model_gt_heatmap_scores[img_id,:,:,4]).astype(int).tolist() \n",
    "    union_class_ids = np.union1d(pr_class_ids, gt_class_ids)\n",
    "    print('-'*56)\n",
    "    print('Image : {}  GT ClassIds: {}   PR ClassIds: {} '.format(img_id, gt_class_ids, pr_class_ids))\n",
    "    print('Image : {}  Union ClassIds: {}'.format(img_id, union_class_ids))\n",
    "    print('-'*56)\n",
    "    for cls in union_class_ids:  \n",
    "        print()\n",
    "        for i in range(25):\n",
    "#             print(' GT: img_id:',img_id, ' cls: ',cls, ' -',gt_tensor[img_id, cls,i]) #, gt_heatmap_scores[img_id, cls,i,7] )\n",
    "#             print(' PR: img_id:',img_id, ' cls: ',cls, ' -',pred_tensor[img_id,cls,i]) #,pred_refined_heatmap_scores[img_id,cls,i,7])\n",
    "\n",
    "            print(' GT: img_id:',img_id, ' cls: ',cls, ' -',model_gt_heatmap_scores[img_id, cls,i]) #, gt_heatmap_scores[img_id, cls,i,7] )\n",
    "            print(' PR: img_id:',img_id, ' cls: ',cls, ' -',model_pred_heatmap_scores[img_id,cls,i]) #,pred_refined_heatmap_scores[img_id,cls,i,7])\n",
    "            print()"
   ]
  },
  {
   "cell_type": "markdown",
   "metadata": {
    "heading_collapsed": true,
    "hideCode": false,
    "hidePrompt": true
   },
   "source": [
    "####  Display `output_rois` for visual check - passed on to  `build_pred_tensor()`"
   ]
  },
  {
   "cell_type": "code",
   "execution_count": null,
   "metadata": {
    "ExecuteTime": {
     "end_time": "2018-10-08T13:48:00.011050Z",
     "start_time": "2018-10-08T13:47:59.957418Z"
    },
    "hidden": true,
    "hideCode": false,
    "hideOutput": true,
    "hidePrompt": false
   },
   "outputs": [],
   "source": [
    "np.set_printoptions(linewidth=150, precision=6)\n",
    "# print('scatter shape is ', pred_scatt.get_shape())\n",
    "print('output_rois shape is ', model_output_rois.shape)\n",
    "img = 0\n",
    "for img in [0]:\n",
    "    print('Image ', img , ' ------------')\n",
    "    print(output_rois[img])"
   ]
  },
  {
   "cell_type": "markdown",
   "metadata": {
    "heading_collapsed": true,
    "hideCode": false,
    "hidePrompt": false
   },
   "source": [
    "####  Display  - `pred_refined_tensor` which is passed on to  `build_heatmap()`"
   ]
  },
  {
   "cell_type": "code",
   "execution_count": null,
   "metadata": {
    "ExecuteTime": {
     "end_time": "2018-10-08T15:34:53.538773Z",
     "start_time": "2018-10-08T15:34:53.480026Z"
    },
    "hidden": true,
    "hideCode": false,
    "hideOutput": false,
    "hidePrompt": false,
    "scrolled": false
   },
   "outputs": [],
   "source": [
    "np.set_printoptions(linewidth=150, precision=6)\n",
    "img_id = 0\n",
    "# print('scatter shape is ', pred_scatt.get_shape())\n",
    "print('model_pred_tensor shape is ', model_pred_tensor.shape)\n",
    "print(input_image_meta[0,:10])\n",
    "pr_class_ids = np.unique(model_pred_heatmap_scores[img_id,:,:,4]).astype(int).tolist()\n",
    "print('Image : {}  PR ClassIds: {} '.format(img_id, pr_class_ids))\n",
    "for k in pr_class_ids:\n",
    "    print('Image ', img , '/ Class ',k,' ------------')\n",
    "    print(model_pred_tensor[img,k,:30])\n",
    "    "
   ]
  },
  {
   "cell_type": "markdown",
   "metadata": {
    "heading_collapsed": true
   },
   "source": [
    "####  Compare  `pred_heatmap_scores` vs. `pred_refined_heatmap_scores`"
   ]
  },
  {
   "cell_type": "code",
   "execution_count": null,
   "metadata": {
    "ExecuteTime": {
     "end_time": "2018-09-21T12:52:40.296416Z",
     "start_time": "2018-09-21T12:52:40.217876Z"
    },
    "hidden": true
   },
   "outputs": [],
   "source": [
    "np.set_printoptions(precision=4, threshold=4000, linewidth=210, suppress=True)\n",
    "print('pred_refined_heatmap_scores',pred_refined_heatmap_scores.shape)\n",
    "cls = 1\n",
    "for i in range(input_gt_class_ids.shape[1]):\n",
    "    if input_gt_class_ids[0,i] == cls:\n",
    "        print(input_gt_class_ids[0,i], '   ', input_gt_bboxes[0,i])\n",
    "print()        \n",
    "for i in range(pred_heatmap_scores.shape[2]):\n",
    "#     print(' ref_ten   : ', pred_refined_tensor[0,1,i])\n",
    "    print(' hm_scr    : ', pred_heatmap_scores[0,1,i])\n",
    "    print(' ref_hm_scr: ', pred_refined_heatmap_scores[0,1,i])\n",
    "    print()    "
   ]
  },
  {
   "cell_type": "markdown",
   "metadata": {
    "heading_collapsed": true
   },
   "source": [
    "####   `rpn_roi_proposals`"
   ]
  },
  {
   "cell_type": "code",
   "execution_count": null,
   "metadata": {
    "ExecuteTime": {
     "end_time": "2019-02-06T16:46:44.929410Z",
     "start_time": "2019-02-06T16:46:44.878580Z"
    },
    "hidden": true
   },
   "outputs": [],
   "source": [
    "print(mrcnn_model.config.TRAIN_ROIS_PER_IMAGE, mrcnn_model.config.ROI_POSITIVE_RATIO)\n",
    "positive_count        = int(mrcnn_model.config.TRAIN_ROIS_PER_IMAGE * mrcnn_model.config.ROI_POSITIVE_RATIO)\n",
    "r = 1.0 / mrcnn_model.config.ROI_POSITIVE_RATIO\n",
    "negative_count        = int(r * positive_count) - positive_count\n",
    "print(' positive count: ', (mrcnn_model.config.TRAIN_ROIS_PER_IMAGE * mrcnn_model.config.ROI_POSITIVE_RATIO), positive_count)\n",
    "print('r: ', r, '  r * postiieve count :', r*positive_count, int( r*positive_count))\n",
    "print(' negative count: ', negative_count)\n",
    "print(model_output_rois[0])\n"
   ]
  },
  {
   "cell_type": "code",
   "execution_count": null,
   "metadata": {
    "ExecuteTime": {
     "end_time": "2019-02-06T16:57:53.956964Z",
     "start_time": "2019-02-06T16:57:53.683712Z"
    },
    "hidden": true,
    "scrolled": false
   },
   "outputs": [],
   "source": [
    "\n",
    "np.set_printoptions(precision=4, threshold=4000, linewidth=210, suppress=True)\n",
    "print(model_rpn_roi_proposals.shape)\n",
    "s = np.sum(model_rpn_roi_proposals, axis = -1)\n",
    "print(s.shape)\n",
    "non_zero_bbox = np.where(s[0] > 0 )\n",
    "print(non_zero_bbox)\n",
    "img = 0\n",
    "# for i in range(model_rpn_roi_proposals.shape[1]):\n",
    "for i in range(200):\n",
    "    j = model_rpn_roi_proposals[img,i] *[128,128,128,128]\n",
    "    print('i:', i, model_rpn_roi_proposals[img,i], s[img,i],j , (j[2]-j[0]) *(j[3]-j[1]))  "
   ]
  },
  {
   "cell_type": "markdown",
   "metadata": {
    "heading_collapsed": true
   },
   "source": [
    "#### Display  `gt_tensor`"
   ]
  },
  {
   "cell_type": "code",
   "execution_count": 15,
   "metadata": {
    "ExecuteTime": {
     "end_time": "2019-02-08T13:50:46.176741Z",
     "start_time": "2019-02-08T13:50:46.115457Z"
    },
    "hidden": true,
    "scrolled": false
   },
   "outputs": [
    {
     "name": "stdout",
     "output_type": "stream",
     "text": [
      "[3 6 6 4 2 2 5 2 2 1 0 0 0 0 0 0 0 0 0 0 0 0 0 0 0 0 0 0 0 0 0 0 0 0 0 0 0 0 0 0 0 0 0 0 0 0 0 0 0\n",
      " 0 0 0 0 0 0 0 0 0 0 0 0 0 0 0 0 0 0 0 0 0 0 0 0 0 0 0 0 0 0 0 0 0 0 0 0 0 0 0 0 0 0 0 0 0 0 0 0 0\n",
      " 0 0]\n",
      "[[0. 0. 0. 0. 0. 0. 0. 0. 0.]\n",
      " [0. 0. 0. 0. 0. 0. 0. 0. 0.]\n",
      " [0. 0. 0. 0. 0. 0. 0. 0. 0.]\n",
      " [0. 0. 0. 0. 0. 0. 0. 0. 0.]\n",
      " [0. 0. 0. 0. 0. 0. 0. 0. 0.]\n",
      " [0. 0. 0. 0. 0. 0. 0. 0. 0.]\n",
      " [0. 0. 0. 0. 0. 0. 0. 0. 0.]\n",
      " [0. 0. 0. 0. 0. 0. 0. 0. 0.]\n",
      " [0. 0. 0. 0. 0. 0. 0. 0. 0.]\n",
      " [0. 0. 0. 0. 0. 0. 0. 0. 0.]\n",
      " [0. 0. 0. 0. 0. 0. 0. 0. 0.]\n",
      " [0. 0. 0. 0. 0. 0. 0. 0. 0.]\n",
      " [0. 0. 0. 0. 0. 0. 0. 0. 0.]\n",
      " [0. 0. 0. 0. 0. 0. 0. 0. 0.]\n",
      " [0. 0. 0. 0. 0. 0. 0. 0. 0.]\n",
      " [0. 0. 0. 0. 0. 0. 0. 0. 0.]\n",
      " [0. 0. 0. 0. 0. 0. 0. 0. 0.]\n",
      " [0. 0. 0. 0. 0. 0. 0. 0. 0.]\n",
      " [0. 0. 0. 0. 0. 0. 0. 0. 0.]\n",
      " [0. 0. 0. 0. 0. 0. 0. 0. 0.]\n",
      " [0. 0. 0. 0. 0. 0. 0. 0. 0.]\n",
      " [0. 0. 0. 0. 0. 0. 0. 0. 0.]\n",
      " [0. 0. 0. 0. 0. 0. 0. 0. 0.]\n",
      " [0. 0. 0. 0. 0. 0. 0. 0. 0.]\n",
      " [0. 0. 0. 0. 0. 0. 0. 0. 0.]\n",
      " [0. 0. 0. 0. 0. 0. 0. 0. 0.]\n",
      " [0. 0. 0. 0. 0. 0. 0. 0. 0.]\n",
      " [0. 0. 0. 0. 0. 0. 0. 0. 0.]\n",
      " [0. 0. 0. 0. 0. 0. 0. 0. 0.]\n",
      " [0. 0. 0. 0. 0. 0. 0. 0. 0.]\n",
      " [0. 0. 0. 0. 0. 0. 0. 0. 0.]\n",
      " [0. 0. 0. 0. 0. 0. 0. 0. 0.]]\n",
      "\n",
      "[[0. 0. 0. 0. 0. 0. 0. 0. 0.]\n",
      " [0. 0. 0. 0. 0. 0. 0. 0. 0.]\n",
      " [0. 0. 0. 0. 0. 0. 0. 0. 0.]\n",
      " [0. 0. 0. 0. 0. 0. 0. 0. 0.]\n",
      " [0. 0. 0. 0. 0. 0. 0. 0. 0.]\n",
      " [0. 0. 0. 0. 0. 0. 0. 0. 0.]\n",
      " [0. 0. 0. 0. 0. 0. 0. 0. 0.]\n",
      " [0. 0. 0. 0. 0. 0. 0. 0. 0.]\n",
      " [0. 0. 0. 0. 0. 0. 0. 0. 0.]\n",
      " [0. 0. 0. 0. 0. 0. 0. 0. 0.]\n",
      " [0. 0. 0. 0. 0. 0. 0. 0. 0.]\n",
      " [0. 0. 0. 0. 0. 0. 0. 0. 0.]\n",
      " [0. 0. 0. 0. 0. 0. 0. 0. 0.]\n",
      " [0. 0. 0. 0. 0. 0. 0. 0. 0.]\n",
      " [0. 0. 0. 0. 0. 0. 0. 0. 0.]\n",
      " [0. 0. 0. 0. 0. 0. 0. 0. 0.]\n",
      " [0. 0. 0. 0. 0. 0. 0. 0. 0.]\n",
      " [0. 0. 0. 0. 0. 0. 0. 0. 0.]\n",
      " [0. 0. 0. 0. 0. 0. 0. 0. 0.]\n",
      " [0. 0. 0. 0. 0. 0. 0. 0. 0.]\n",
      " [0. 0. 0. 0. 0. 0. 0. 0. 0.]\n",
      " [0. 0. 0. 0. 0. 0. 0. 0. 0.]\n",
      " [0. 0. 0. 0. 0. 0. 0. 0. 0.]\n",
      " [0. 0. 0. 0. 0. 0. 0. 0. 0.]\n",
      " [0. 0. 0. 0. 0. 0. 0. 0. 0.]\n",
      " [0. 0. 0. 0. 0. 0. 0. 0. 0.]\n",
      " [0. 0. 0. 0. 0. 0. 0. 0. 0.]\n",
      " [0. 0. 0. 0. 0. 0. 0. 0. 0.]\n",
      " [0. 0. 0. 0. 0. 0. 0. 0. 0.]\n",
      " [0. 0. 0. 0. 0. 0. 0. 0. 0.]\n",
      " [0. 0. 0. 0. 0. 0. 0. 0. 0.]\n",
      " [0. 0. 0. 0. 0. 0. 0. 0. 0.]]\n",
      "\n",
      "[[ 64.   9.  80.  46.   2.   1.  99.  31.   1.]\n",
      " [ 63.  47.  77.  82.   2.   1.  99.  30.   1.]\n",
      " [ 64.   9.  80.  46.   2.   1.  99.  29.   1.]\n",
      " [ 64.   9.  80.  46.   2.   1.  99.  28.   1.]\n",
      " [ 80.  15. 101.  64.   2.   1.  99.  25.   1.]\n",
      " [  0.   0.   0.   0.   0.   0.   0.   0.   0.]\n",
      " [  0.   0.   0.   0.   0.   0.   0.   0.   0.]\n",
      " [  0.   0.   0.   0.   0.   0.   0.   0.   0.]\n",
      " [  0.   0.   0.   0.   0.   0.   0.   0.   0.]\n",
      " [  0.   0.   0.   0.   0.   0.   0.   0.   0.]\n",
      " [  0.   0.   0.   0.   0.   0.   0.   0.   0.]\n",
      " [  0.   0.   0.   0.   0.   0.   0.   0.   0.]\n",
      " [  0.   0.   0.   0.   0.   0.   0.   0.   0.]\n",
      " [  0.   0.   0.   0.   0.   0.   0.   0.   0.]\n",
      " [  0.   0.   0.   0.   0.   0.   0.   0.   0.]\n",
      " [  0.   0.   0.   0.   0.   0.   0.   0.   0.]\n",
      " [  0.   0.   0.   0.   0.   0.   0.   0.   0.]\n",
      " [  0.   0.   0.   0.   0.   0.   0.   0.   0.]\n",
      " [  0.   0.   0.   0.   0.   0.   0.   0.   0.]\n",
      " [  0.   0.   0.   0.   0.   0.   0.   0.   0.]\n",
      " [  0.   0.   0.   0.   0.   0.   0.   0.   0.]\n",
      " [  0.   0.   0.   0.   0.   0.   0.   0.   0.]\n",
      " [  0.   0.   0.   0.   0.   0.   0.   0.   0.]\n",
      " [  0.   0.   0.   0.   0.   0.   0.   0.   0.]\n",
      " [  0.   0.   0.   0.   0.   0.   0.   0.   0.]\n",
      " [  0.   0.   0.   0.   0.   0.   0.   0.   0.]\n",
      " [  0.   0.   0.   0.   0.   0.   0.   0.   0.]\n",
      " [  0.   0.   0.   0.   0.   0.   0.   0.   0.]\n",
      " [  0.   0.   0.   0.   0.   0.   0.   0.   0.]\n",
      " [  0.   0.   0.   0.   0.   0.   0.   0.   0.]\n",
      " [  0.   0.   0.   0.   0.   0.   0.   0.   0.]\n",
      " [  0.   0.   0.   0.   0.   0.   0.   0.   0.]]\n",
      "\n",
      "[[0. 0. 0. 0. 0. 0. 0. 0. 0.]\n",
      " [0. 0. 0. 0. 0. 0. 0. 0. 0.]\n",
      " [0. 0. 0. 0. 0. 0. 0. 0. 0.]\n",
      " [0. 0. 0. 0. 0. 0. 0. 0. 0.]\n",
      " [0. 0. 0. 0. 0. 0. 0. 0. 0.]\n",
      " [0. 0. 0. 0. 0. 0. 0. 0. 0.]\n",
      " [0. 0. 0. 0. 0. 0. 0. 0. 0.]\n",
      " [0. 0. 0. 0. 0. 0. 0. 0. 0.]\n",
      " [0. 0. 0. 0. 0. 0. 0. 0. 0.]\n",
      " [0. 0. 0. 0. 0. 0. 0. 0. 0.]\n",
      " [0. 0. 0. 0. 0. 0. 0. 0. 0.]\n",
      " [0. 0. 0. 0. 0. 0. 0. 0. 0.]\n",
      " [0. 0. 0. 0. 0. 0. 0. 0. 0.]\n",
      " [0. 0. 0. 0. 0. 0. 0. 0. 0.]\n",
      " [0. 0. 0. 0. 0. 0. 0. 0. 0.]\n",
      " [0. 0. 0. 0. 0. 0. 0. 0. 0.]\n",
      " [0. 0. 0. 0. 0. 0. 0. 0. 0.]\n",
      " [0. 0. 0. 0. 0. 0. 0. 0. 0.]\n",
      " [0. 0. 0. 0. 0. 0. 0. 0. 0.]\n",
      " [0. 0. 0. 0. 0. 0. 0. 0. 0.]\n",
      " [0. 0. 0. 0. 0. 0. 0. 0. 0.]\n",
      " [0. 0. 0. 0. 0. 0. 0. 0. 0.]\n",
      " [0. 0. 0. 0. 0. 0. 0. 0. 0.]\n",
      " [0. 0. 0. 0. 0. 0. 0. 0. 0.]\n",
      " [0. 0. 0. 0. 0. 0. 0. 0. 0.]\n",
      " [0. 0. 0. 0. 0. 0. 0. 0. 0.]\n",
      " [0. 0. 0. 0. 0. 0. 0. 0. 0.]\n",
      " [0. 0. 0. 0. 0. 0. 0. 0. 0.]\n",
      " [0. 0. 0. 0. 0. 0. 0. 0. 0.]\n",
      " [0. 0. 0. 0. 0. 0. 0. 0. 0.]\n",
      " [0. 0. 0. 0. 0. 0. 0. 0. 0.]\n",
      " [0. 0. 0. 0. 0. 0. 0. 0. 0.]]\n",
      "\n",
      "[[34. 54. 57. 75.  4.  1. 99. 24.  1.]\n",
      " [ 0.  0.  0.  0.  0.  0.  0.  0.  0.]\n",
      " [ 0.  0.  0.  0.  0.  0.  0.  0.  0.]\n",
      " [ 0.  0.  0.  0.  0.  0.  0.  0.  0.]\n",
      " [ 0.  0.  0.  0.  0.  0.  0.  0.  0.]\n",
      " [ 0.  0.  0.  0.  0.  0.  0.  0.  0.]\n",
      " [ 0.  0.  0.  0.  0.  0.  0.  0.  0.]\n",
      " [ 0.  0.  0.  0.  0.  0.  0.  0.  0.]\n",
      " [ 0.  0.  0.  0.  0.  0.  0.  0.  0.]\n",
      " [ 0.  0.  0.  0.  0.  0.  0.  0.  0.]\n",
      " [ 0.  0.  0.  0.  0.  0.  0.  0.  0.]\n",
      " [ 0.  0.  0.  0.  0.  0.  0.  0.  0.]\n",
      " [ 0.  0.  0.  0.  0.  0.  0.  0.  0.]\n",
      " [ 0.  0.  0.  0.  0.  0.  0.  0.  0.]\n",
      " [ 0.  0.  0.  0.  0.  0.  0.  0.  0.]\n",
      " [ 0.  0.  0.  0.  0.  0.  0.  0.  0.]\n",
      " [ 0.  0.  0.  0.  0.  0.  0.  0.  0.]\n",
      " [ 0.  0.  0.  0.  0.  0.  0.  0.  0.]\n",
      " [ 0.  0.  0.  0.  0.  0.  0.  0.  0.]\n",
      " [ 0.  0.  0.  0.  0.  0.  0.  0.  0.]\n",
      " [ 0.  0.  0.  0.  0.  0.  0.  0.  0.]\n",
      " [ 0.  0.  0.  0.  0.  0.  0.  0.  0.]\n",
      " [ 0.  0.  0.  0.  0.  0.  0.  0.  0.]\n",
      " [ 0.  0.  0.  0.  0.  0.  0.  0.  0.]\n",
      " [ 0.  0.  0.  0.  0.  0.  0.  0.  0.]\n",
      " [ 0.  0.  0.  0.  0.  0.  0.  0.  0.]\n",
      " [ 0.  0.  0.  0.  0.  0.  0.  0.  0.]\n",
      " [ 0.  0.  0.  0.  0.  0.  0.  0.  0.]\n",
      " [ 0.  0.  0.  0.  0.  0.  0.  0.  0.]\n",
      " [ 0.  0.  0.  0.  0.  0.  0.  0.  0.]\n",
      " [ 0.  0.  0.  0.  0.  0.  0.  0.  0.]\n",
      " [ 0.  0.  0.  0.  0.  0.  0.  0.  0.]]\n",
      "\n",
      "[[0. 0. 0. 0. 0. 0. 0. 0. 0.]\n",
      " [0. 0. 0. 0. 0. 0. 0. 0. 0.]\n",
      " [0. 0. 0. 0. 0. 0. 0. 0. 0.]\n",
      " [0. 0. 0. 0. 0. 0. 0. 0. 0.]\n",
      " [0. 0. 0. 0. 0. 0. 0. 0. 0.]\n",
      " [0. 0. 0. 0. 0. 0. 0. 0. 0.]\n",
      " [0. 0. 0. 0. 0. 0. 0. 0. 0.]\n",
      " [0. 0. 0. 0. 0. 0. 0. 0. 0.]\n",
      " [0. 0. 0. 0. 0. 0. 0. 0. 0.]\n",
      " [0. 0. 0. 0. 0. 0. 0. 0. 0.]\n",
      " [0. 0. 0. 0. 0. 0. 0. 0. 0.]\n",
      " [0. 0. 0. 0. 0. 0. 0. 0. 0.]\n",
      " [0. 0. 0. 0. 0. 0. 0. 0. 0.]\n",
      " [0. 0. 0. 0. 0. 0. 0. 0. 0.]\n",
      " [0. 0. 0. 0. 0. 0. 0. 0. 0.]\n",
      " [0. 0. 0. 0. 0. 0. 0. 0. 0.]\n",
      " [0. 0. 0. 0. 0. 0. 0. 0. 0.]\n",
      " [0. 0. 0. 0. 0. 0. 0. 0. 0.]\n",
      " [0. 0. 0. 0. 0. 0. 0. 0. 0.]\n",
      " [0. 0. 0. 0. 0. 0. 0. 0. 0.]\n",
      " [0. 0. 0. 0. 0. 0. 0. 0. 0.]\n",
      " [0. 0. 0. 0. 0. 0. 0. 0. 0.]\n",
      " [0. 0. 0. 0. 0. 0. 0. 0. 0.]\n",
      " [0. 0. 0. 0. 0. 0. 0. 0. 0.]\n",
      " [0. 0. 0. 0. 0. 0. 0. 0. 0.]\n",
      " [0. 0. 0. 0. 0. 0. 0. 0. 0.]\n",
      " [0. 0. 0. 0. 0. 0. 0. 0. 0.]\n",
      " [0. 0. 0. 0. 0. 0. 0. 0. 0.]\n",
      " [0. 0. 0. 0. 0. 0. 0. 0. 0.]\n",
      " [0. 0. 0. 0. 0. 0. 0. 0. 0.]\n",
      " [0. 0. 0. 0. 0. 0. 0. 0. 0.]\n",
      " [0. 0. 0. 0. 0. 0. 0. 0. 0.]]\n",
      "\n",
      "[[ 17.  77.  36. 128.   6.   1.  99.  32.   1.]\n",
      " [ 16.   8.  29.  47.   6.   1.  99.  27.   1.]\n",
      " [ 17.  77.  36. 128.   6.   1.  99.  26.   1.]\n",
      " [ 16.   8.  29.  47.   6.   1.  99.  23.   1.]\n",
      " [  0.   0.   0.   0.   0.   0.   0.   0.   0.]\n",
      " [  0.   0.   0.   0.   0.   0.   0.   0.   0.]\n",
      " [  0.   0.   0.   0.   0.   0.   0.   0.   0.]\n",
      " [  0.   0.   0.   0.   0.   0.   0.   0.   0.]\n",
      " [  0.   0.   0.   0.   0.   0.   0.   0.   0.]\n",
      " [  0.   0.   0.   0.   0.   0.   0.   0.   0.]\n",
      " [  0.   0.   0.   0.   0.   0.   0.   0.   0.]\n",
      " [  0.   0.   0.   0.   0.   0.   0.   0.   0.]\n",
      " [  0.   0.   0.   0.   0.   0.   0.   0.   0.]\n",
      " [  0.   0.   0.   0.   0.   0.   0.   0.   0.]\n",
      " [  0.   0.   0.   0.   0.   0.   0.   0.   0.]\n",
      " [  0.   0.   0.   0.   0.   0.   0.   0.   0.]\n",
      " [  0.   0.   0.   0.   0.   0.   0.   0.   0.]\n",
      " [  0.   0.   0.   0.   0.   0.   0.   0.   0.]\n",
      " [  0.   0.   0.   0.   0.   0.   0.   0.   0.]\n",
      " [  0.   0.   0.   0.   0.   0.   0.   0.   0.]\n",
      " [  0.   0.   0.   0.   0.   0.   0.   0.   0.]\n",
      " [  0.   0.   0.   0.   0.   0.   0.   0.   0.]\n",
      " [  0.   0.   0.   0.   0.   0.   0.   0.   0.]\n",
      " [  0.   0.   0.   0.   0.   0.   0.   0.   0.]\n",
      " [  0.   0.   0.   0.   0.   0.   0.   0.   0.]\n",
      " [  0.   0.   0.   0.   0.   0.   0.   0.   0.]\n",
      " [  0.   0.   0.   0.   0.   0.   0.   0.   0.]\n",
      " [  0.   0.   0.   0.   0.   0.   0.   0.   0.]\n",
      " [  0.   0.   0.   0.   0.   0.   0.   0.   0.]\n",
      " [  0.   0.   0.   0.   0.   0.   0.   0.   0.]\n",
      " [  0.   0.   0.   0.   0.   0.   0.   0.   0.]\n",
      " [  0.   0.   0.   0.   0.   0.   0.   0.   0.]]\n",
      "\n"
     ]
    }
   ],
   "source": [
    "img = 1\n",
    "print(input_gt_class_ids[img])\n",
    "\n",
    "for cls in [0,1,2,3,4,5,6]:\n",
    "    print(model_gt_tensor[img,cls])\n",
    "    print()"
   ]
  },
  {
   "cell_type": "markdown",
   "metadata": {},
   "source": [
    "#### Display `pr_tensor` "
   ]
  },
  {
   "cell_type": "code",
   "execution_count": 17,
   "metadata": {
    "ExecuteTime": {
     "end_time": "2019-02-08T13:52:28.506237Z",
     "start_time": "2019-02-08T13:52:28.441840Z"
    },
    "scrolled": false
   },
   "outputs": [
    {
     "name": "stdout",
     "output_type": "stream",
     "text": [
      "[6 2 2 2 2 6 6 2 4 6 0 0 0 0 0 0 0 0 0 0 0 0 0 0 0 0 0 0 0 0 0 0]\n",
      "[[ 22.2499   0.     113.9678  35.2144   0.       0.9785   1.      25.       0.9787]\n",
      " [ 24.1448  40.532  106.8247  74.7677   0.       0.9998  -1.       5.       1.    ]\n",
      " [ 24.0674   7.7267  65.5288  62.7717   0.       0.9974  -1.       3.       0.9976]\n",
      " [  0.       0.       0.       0.       0.       0.       0.       2.       0.    ]\n",
      " [  0.       0.       0.       0.       0.       0.       0.       1.       0.    ]\n",
      " [  0.       0.       0.       0.       0.       0.       0.       0.       0.    ]\n",
      " [  0.       0.       0.       0.       0.       0.       0.       0.       0.    ]\n",
      " [  0.       0.       0.       0.       0.       0.       0.       0.       0.    ]\n",
      " [  0.       0.       0.       0.       0.       0.       0.       0.       0.    ]\n",
      " [  0.       0.       0.       0.       0.       0.       0.       0.       0.    ]\n",
      " [  0.       0.       0.       0.       0.       0.       0.       0.       0.    ]\n",
      " [  0.       0.       0.       0.       0.       0.       0.       0.       0.    ]\n",
      " [  0.       0.       0.       0.       0.       0.       0.       0.       0.    ]\n",
      " [  0.       0.       0.       0.       0.       0.       0.       0.       0.    ]\n",
      " [  0.       0.       0.       0.       0.       0.       0.       0.       0.    ]\n",
      " [  0.       0.       0.       0.       0.       0.       0.       0.       0.    ]\n",
      " [  0.       0.       0.       0.       0.       0.       0.       0.       0.    ]\n",
      " [  0.       0.       0.       0.       0.       0.       0.       0.       0.    ]\n",
      " [  0.       0.       0.       0.       0.       0.       0.       0.       0.    ]\n",
      " [  0.       0.       0.       0.       0.       0.       0.       0.       0.    ]\n",
      " [  0.       0.       0.       0.       0.       0.       0.       0.       0.    ]\n",
      " [  0.       0.       0.       0.       0.       0.       0.       0.       0.    ]\n",
      " [  0.       0.       0.       0.       0.       0.       0.       0.       0.    ]\n",
      " [  0.       0.       0.       0.       0.       0.       0.       0.       0.    ]\n",
      " [  0.       0.       0.       0.       0.       0.       0.       0.       0.    ]\n",
      " [  0.       0.       0.       0.       0.       0.       0.       0.       0.    ]\n",
      " [  0.       0.       0.       0.       0.       0.       0.       0.       0.    ]\n",
      " [  0.       0.       0.       0.       0.       0.       0.       0.       0.    ]\n",
      " [  0.       0.       0.       0.       0.       0.       0.       0.       0.    ]\n",
      " [  0.       0.       0.       0.       0.       0.       0.       0.       0.    ]\n",
      " [  0.       0.       0.       0.       0.       0.       0.       0.       0.    ]\n",
      " [  0.       0.       0.       0.       0.       0.       0.       0.       0.    ]]\n",
      "\n",
      "[[0. 0. 0. 0. 0. 0. 0. 0. 0.]\n",
      " [0. 0. 0. 0. 0. 0. 0. 0. 0.]\n",
      " [0. 0. 0. 0. 0. 0. 0. 0. 0.]\n",
      " [0. 0. 0. 0. 0. 0. 0. 0. 0.]\n",
      " [0. 0. 0. 0. 0. 0. 0. 0. 0.]\n",
      " [0. 0. 0. 0. 0. 0. 0. 0. 0.]\n",
      " [0. 0. 0. 0. 0. 0. 0. 0. 0.]\n",
      " [0. 0. 0. 0. 0. 0. 0. 0. 0.]\n",
      " [0. 0. 0. 0. 0. 0. 0. 0. 0.]\n",
      " [0. 0. 0. 0. 0. 0. 0. 0. 0.]\n",
      " [0. 0. 0. 0. 0. 0. 0. 0. 0.]\n",
      " [0. 0. 0. 0. 0. 0. 0. 0. 0.]\n",
      " [0. 0. 0. 0. 0. 0. 0. 0. 0.]\n",
      " [0. 0. 0. 0. 0. 0. 0. 0. 0.]\n",
      " [0. 0. 0. 0. 0. 0. 0. 0. 0.]\n",
      " [0. 0. 0. 0. 0. 0. 0. 0. 0.]\n",
      " [0. 0. 0. 0. 0. 0. 0. 0. 0.]\n",
      " [0. 0. 0. 0. 0. 0. 0. 0. 0.]\n",
      " [0. 0. 0. 0. 0. 0. 0. 0. 0.]\n",
      " [0. 0. 0. 0. 0. 0. 0. 0. 0.]\n",
      " [0. 0. 0. 0. 0. 0. 0. 0. 0.]\n",
      " [0. 0. 0. 0. 0. 0. 0. 0. 0.]\n",
      " [0. 0. 0. 0. 0. 0. 0. 0. 0.]\n",
      " [0. 0. 0. 0. 0. 0. 0. 0. 0.]\n",
      " [0. 0. 0. 0. 0. 0. 0. 0. 0.]\n",
      " [0. 0. 0. 0. 0. 0. 0. 0. 0.]\n",
      " [0. 0. 0. 0. 0. 0. 0. 0. 0.]\n",
      " [0. 0. 0. 0. 0. 0. 0. 0. 0.]\n",
      " [0. 0. 0. 0. 0. 0. 0. 0. 0.]\n",
      " [0. 0. 0. 0. 0. 0. 0. 0. 0.]\n",
      " [0. 0. 0. 0. 0. 0. 0. 0. 0.]\n",
      " [0. 0. 0. 0. 0. 0. 0. 0. 0.]]\n",
      "\n",
      "[[ 64.321    9.9788  79.4573  46.099    2.       0.9998   1.      31.       1.    ]\n",
      " [ 62.0729  45.2736  77.2273  80.5433   2.       0.9836   1.      30.       0.9838]\n",
      " [ 65.615    9.3869  80.9063  44.3297   2.       0.9997   1.      29.       1.    ]\n",
      " [ 65.5848  10.418   81.057   42.5427   2.       0.9974   1.      28.       0.9976]\n",
      " [ 12.9053  86.2706  22.4036 110.6457   2.       0.9989  -1.      17.       0.9991]\n",
      " [ 10.9848  86.7316  23.8715 110.8088   2.       0.9964  -1.      16.       0.9966]\n",
      " [ 21.6819   0.     100.2518  22.9444   2.       0.9991  -1.      12.       0.9993]\n",
      " [ 23.7866   0.      78.9169  94.5627   2.       0.9726  -1.       9.       0.9728]\n",
      " [ 20.0384  10.5041 120.3888  57.6456   2.       0.998   -1.       8.       0.9982]\n",
      " [ 20.677    0.     128.      51.109    2.       0.9953  -1.       7.       0.9955]\n",
      " [ 13.9935  79.8272  21.4256 112.5268   2.       0.9973  -1.       6.       0.9975]\n",
      " [ 27.3057  32.7632  40.9831  70.8918   2.       0.9369  -1.       4.       0.9371]\n",
      " [  0.       0.       0.       0.       0.       0.       0.       0.       0.    ]\n",
      " [  0.       0.       0.       0.       0.       0.       0.       0.       0.    ]\n",
      " [  0.       0.       0.       0.       0.       0.       0.       0.       0.    ]\n",
      " [  0.       0.       0.       0.       0.       0.       0.       0.       0.    ]\n",
      " [  0.       0.       0.       0.       0.       0.       0.       0.       0.    ]\n",
      " [  0.       0.       0.       0.       0.       0.       0.       0.       0.    ]\n",
      " [  0.       0.       0.       0.       0.       0.       0.       0.       0.    ]\n",
      " [  0.       0.       0.       0.       0.       0.       0.       0.       0.    ]\n",
      " [  0.       0.       0.       0.       0.       0.       0.       0.       0.    ]\n",
      " [  0.       0.       0.       0.       0.       0.       0.       0.       0.    ]\n",
      " [  0.       0.       0.       0.       0.       0.       0.       0.       0.    ]\n",
      " [  0.       0.       0.       0.       0.       0.       0.       0.       0.    ]\n",
      " [  0.       0.       0.       0.       0.       0.       0.       0.       0.    ]\n",
      " [  0.       0.       0.       0.       0.       0.       0.       0.       0.    ]\n",
      " [  0.       0.       0.       0.       0.       0.       0.       0.       0.    ]\n",
      " [  0.       0.       0.       0.       0.       0.       0.       0.       0.    ]\n",
      " [  0.       0.       0.       0.       0.       0.       0.       0.       0.    ]\n",
      " [  0.       0.       0.       0.       0.       0.       0.       0.       0.    ]\n",
      " [  0.       0.       0.       0.       0.       0.       0.       0.       0.    ]\n",
      " [  0.       0.       0.       0.       0.       0.       0.       0.       0.    ]]\n",
      "\n",
      "[[0. 0. 0. 0. 0. 0. 0. 0. 0.]\n",
      " [0. 0. 0. 0. 0. 0. 0. 0. 0.]\n",
      " [0. 0. 0. 0. 0. 0. 0. 0. 0.]\n",
      " [0. 0. 0. 0. 0. 0. 0. 0. 0.]\n",
      " [0. 0. 0. 0. 0. 0. 0. 0. 0.]\n",
      " [0. 0. 0. 0. 0. 0. 0. 0. 0.]\n",
      " [0. 0. 0. 0. 0. 0. 0. 0. 0.]\n",
      " [0. 0. 0. 0. 0. 0. 0. 0. 0.]\n",
      " [0. 0. 0. 0. 0. 0. 0. 0. 0.]\n",
      " [0. 0. 0. 0. 0. 0. 0. 0. 0.]\n",
      " [0. 0. 0. 0. 0. 0. 0. 0. 0.]\n",
      " [0. 0. 0. 0. 0. 0. 0. 0. 0.]\n",
      " [0. 0. 0. 0. 0. 0. 0. 0. 0.]\n",
      " [0. 0. 0. 0. 0. 0. 0. 0. 0.]\n",
      " [0. 0. 0. 0. 0. 0. 0. 0. 0.]\n",
      " [0. 0. 0. 0. 0. 0. 0. 0. 0.]\n",
      " [0. 0. 0. 0. 0. 0. 0. 0. 0.]\n",
      " [0. 0. 0. 0. 0. 0. 0. 0. 0.]\n",
      " [0. 0. 0. 0. 0. 0. 0. 0. 0.]\n",
      " [0. 0. 0. 0. 0. 0. 0. 0. 0.]\n",
      " [0. 0. 0. 0. 0. 0. 0. 0. 0.]\n",
      " [0. 0. 0. 0. 0. 0. 0. 0. 0.]\n",
      " [0. 0. 0. 0. 0. 0. 0. 0. 0.]\n",
      " [0. 0. 0. 0. 0. 0. 0. 0. 0.]\n",
      " [0. 0. 0. 0. 0. 0. 0. 0. 0.]\n",
      " [0. 0. 0. 0. 0. 0. 0. 0. 0.]\n",
      " [0. 0. 0. 0. 0. 0. 0. 0. 0.]\n",
      " [0. 0. 0. 0. 0. 0. 0. 0. 0.]\n",
      " [0. 0. 0. 0. 0. 0. 0. 0. 0.]\n",
      " [0. 0. 0. 0. 0. 0. 0. 0. 0.]\n",
      " [0. 0. 0. 0. 0. 0. 0. 0. 0.]\n",
      " [0. 0. 0. 0. 0. 0. 0. 0. 0.]]\n",
      "\n",
      "[[ 34.1918  54.9636  56.2115  75.1359   4.       0.9994   1.      24.       1.    ]\n",
      " [ 43.2229  17.5299  91.6049  48.9318   4.       0.6751  -1.      11.       0.6755]\n",
      " [ 49.1916   0.     128.      54.4055   4.       0.96    -1.      10.       0.9606]\n",
      " [  0.       0.       0.       0.       0.       0.       0.       0.       0.    ]\n",
      " [  0.       0.       0.       0.       0.       0.       0.       0.       0.    ]\n",
      " [  0.       0.       0.       0.       0.       0.       0.       0.       0.    ]\n",
      " [  0.       0.       0.       0.       0.       0.       0.       0.       0.    ]\n",
      " [  0.       0.       0.       0.       0.       0.       0.       0.       0.    ]\n",
      " [  0.       0.       0.       0.       0.       0.       0.       0.       0.    ]\n",
      " [  0.       0.       0.       0.       0.       0.       0.       0.       0.    ]\n",
      " [  0.       0.       0.       0.       0.       0.       0.       0.       0.    ]\n",
      " [  0.       0.       0.       0.       0.       0.       0.       0.       0.    ]\n",
      " [  0.       0.       0.       0.       0.       0.       0.       0.       0.    ]\n",
      " [  0.       0.       0.       0.       0.       0.       0.       0.       0.    ]\n",
      " [  0.       0.       0.       0.       0.       0.       0.       0.       0.    ]\n",
      " [  0.       0.       0.       0.       0.       0.       0.       0.       0.    ]\n",
      " [  0.       0.       0.       0.       0.       0.       0.       0.       0.    ]\n",
      " [  0.       0.       0.       0.       0.       0.       0.       0.       0.    ]\n",
      " [  0.       0.       0.       0.       0.       0.       0.       0.       0.    ]\n",
      " [  0.       0.       0.       0.       0.       0.       0.       0.       0.    ]\n",
      " [  0.       0.       0.       0.       0.       0.       0.       0.       0.    ]\n",
      " [  0.       0.       0.       0.       0.       0.       0.       0.       0.    ]\n",
      " [  0.       0.       0.       0.       0.       0.       0.       0.       0.    ]\n",
      " [  0.       0.       0.       0.       0.       0.       0.       0.       0.    ]\n",
      " [  0.       0.       0.       0.       0.       0.       0.       0.       0.    ]\n",
      " [  0.       0.       0.       0.       0.       0.       0.       0.       0.    ]\n",
      " [  0.       0.       0.       0.       0.       0.       0.       0.       0.    ]\n",
      " [  0.       0.       0.       0.       0.       0.       0.       0.       0.    ]\n",
      " [  0.       0.       0.       0.       0.       0.       0.       0.       0.    ]\n",
      " [  0.       0.       0.       0.       0.       0.       0.       0.       0.    ]\n",
      " [  0.       0.       0.       0.       0.       0.       0.       0.       0.    ]\n",
      " [  0.       0.       0.       0.       0.       0.       0.       0.       0.    ]]\n",
      "\n",
      "[[0. 0. 0. 0. 0. 0. 0. 0. 0.]\n",
      " [0. 0. 0. 0. 0. 0. 0. 0. 0.]\n",
      " [0. 0. 0. 0. 0. 0. 0. 0. 0.]\n",
      " [0. 0. 0. 0. 0. 0. 0. 0. 0.]\n",
      " [0. 0. 0. 0. 0. 0. 0. 0. 0.]\n",
      " [0. 0. 0. 0. 0. 0. 0. 0. 0.]\n",
      " [0. 0. 0. 0. 0. 0. 0. 0. 0.]\n",
      " [0. 0. 0. 0. 0. 0. 0. 0. 0.]\n",
      " [0. 0. 0. 0. 0. 0. 0. 0. 0.]\n",
      " [0. 0. 0. 0. 0. 0. 0. 0. 0.]\n",
      " [0. 0. 0. 0. 0. 0. 0. 0. 0.]\n",
      " [0. 0. 0. 0. 0. 0. 0. 0. 0.]\n",
      " [0. 0. 0. 0. 0. 0. 0. 0. 0.]\n",
      " [0. 0. 0. 0. 0. 0. 0. 0. 0.]\n",
      " [0. 0. 0. 0. 0. 0. 0. 0. 0.]\n",
      " [0. 0. 0. 0. 0. 0. 0. 0. 0.]\n",
      " [0. 0. 0. 0. 0. 0. 0. 0. 0.]\n",
      " [0. 0. 0. 0. 0. 0. 0. 0. 0.]\n",
      " [0. 0. 0. 0. 0. 0. 0. 0. 0.]\n",
      " [0. 0. 0. 0. 0. 0. 0. 0. 0.]\n",
      " [0. 0. 0. 0. 0. 0. 0. 0. 0.]\n",
      " [0. 0. 0. 0. 0. 0. 0. 0. 0.]\n",
      " [0. 0. 0. 0. 0. 0. 0. 0. 0.]\n",
      " [0. 0. 0. 0. 0. 0. 0. 0. 0.]\n",
      " [0. 0. 0. 0. 0. 0. 0. 0. 0.]\n",
      " [0. 0. 0. 0. 0. 0. 0. 0. 0.]\n",
      " [0. 0. 0. 0. 0. 0. 0. 0. 0.]\n",
      " [0. 0. 0. 0. 0. 0. 0. 0. 0.]\n",
      " [0. 0. 0. 0. 0. 0. 0. 0. 0.]\n",
      " [0. 0. 0. 0. 0. 0. 0. 0. 0.]\n",
      " [0. 0. 0. 0. 0. 0. 0. 0. 0.]\n",
      " [0. 0. 0. 0. 0. 0. 0. 0. 0.]]\n",
      "\n",
      "[[ 17.4577  76.7237  35.6335 127.0064   6.       0.9998   1.      32.       0.9998]\n",
      " [ 16.725    5.7405  29.1046  46.2373   6.       0.9992   1.      27.       0.9992]\n",
      " [ 17.7858  72.3098  35.9634 128.       6.       0.9986   1.      26.       0.9987]\n",
      " [ 16.571    4.3894  28.8437  48.6231   6.       0.9594   1.      23.       0.9594]\n",
      " [ 37.7761  69.5866  99.0003 105.8      6.       0.9998  -1.      22.       0.9998]\n",
      " [ 32.495    0.      70.7788  18.7558   6.       0.9996  -1.      21.       0.9996]\n",
      " [ 23.8874  12.9162 128.      74.8996   6.       0.9924  -1.      20.       0.9924]\n",
      " [ 10.7358   0.     116.7765  26.2264   6.       0.9974  -1.      19.       0.9974]\n",
      " [ 26.9006   0.      83.9582  20.4711   6.       1.      -1.      18.       1.    ]\n",
      " [  9.1575   0.     128.      38.5657   6.       0.9979  -1.      15.       0.9979]\n",
      " [ 18.0172   0.      43.0004  51.2054   6.       0.9851  -1.      14.       0.9852]\n",
      " [ 32.2729   0.0773  73.8328  25.0799   6.       0.9999  -1.      13.       1.    ]\n",
      " [  0.       0.       0.       0.       0.       0.       0.       0.       0.    ]\n",
      " [  0.       0.       0.       0.       0.       0.       0.       0.       0.    ]\n",
      " [  0.       0.       0.       0.       0.       0.       0.       0.       0.    ]\n",
      " [  0.       0.       0.       0.       0.       0.       0.       0.       0.    ]\n",
      " [  0.       0.       0.       0.       0.       0.       0.       0.       0.    ]\n",
      " [  0.       0.       0.       0.       0.       0.       0.       0.       0.    ]\n",
      " [  0.       0.       0.       0.       0.       0.       0.       0.       0.    ]\n",
      " [  0.       0.       0.       0.       0.       0.       0.       0.       0.    ]\n",
      " [  0.       0.       0.       0.       0.       0.       0.       0.       0.    ]\n",
      " [  0.       0.       0.       0.       0.       0.       0.       0.       0.    ]\n",
      " [  0.       0.       0.       0.       0.       0.       0.       0.       0.    ]\n",
      " [  0.       0.       0.       0.       0.       0.       0.       0.       0.    ]\n",
      " [  0.       0.       0.       0.       0.       0.       0.       0.       0.    ]\n",
      " [  0.       0.       0.       0.       0.       0.       0.       0.       0.    ]\n",
      " [  0.       0.       0.       0.       0.       0.       0.       0.       0.    ]\n",
      " [  0.       0.       0.       0.       0.       0.       0.       0.       0.    ]\n",
      " [  0.       0.       0.       0.       0.       0.       0.       0.       0.    ]\n",
      " [  0.       0.       0.       0.       0.       0.       0.       0.       0.    ]\n",
      " [  0.       0.       0.       0.       0.       0.       0.       0.       0.    ]\n",
      " [  0.       0.       0.       0.       0.       0.       0.       0.       0.    ]]\n",
      "\n"
     ]
    }
   ],
   "source": [
    "img = 1\n",
    "print(model_target_class_ids[img])\n",
    "\n",
    "for cls in [0,1,2,3,4,5,6]:\n",
    "    print(model_pr_tensor[img,cls])\n",
    "    print()    "
   ]
  },
  {
   "cell_type": "markdown",
   "metadata": {
    "heading_collapsed": true
   },
   "source": [
    "#### Display `pr_tensor` and `gt_tensor`"
   ]
  },
  {
   "cell_type": "code",
   "execution_count": 74,
   "metadata": {
    "ExecuteTime": {
     "end_time": "2019-02-08T13:00:38.858576Z",
     "start_time": "2019-02-08T13:00:38.475809Z"
    },
    "hidden": true,
    "scrolled": false
   },
   "outputs": [
    {
     "name": "stdout",
     "output_type": "stream",
     "text": [
      "[   48.7774    64.9932    99.1125   107.1893     0.0000     0.6414     1.0000    27.0000     0.6414]\n",
      "[    0.0000     0.0000     0.0000     0.0000     0.0000     0.0000     0.0000     0.0000     0.0000]\n",
      "\n",
      "[   20.4950     6.9015    42.8319    50.5158     0.0000     1.0000    -1.0000     6.0000     1.0000]\n",
      "[    0.0000     0.0000     0.0000     0.0000     0.0000     0.0000     0.0000     0.0000     0.0000]\n",
      "\n",
      "[   24.4772    12.2721   119.0721    53.7876     0.0000     0.9982    -1.0000     3.0000     0.9982]\n",
      "[    0.0000     0.0000     0.0000     0.0000     0.0000     0.0000     0.0000     0.0000     0.0000]\n",
      "\n",
      "[    0.0000     0.0000     0.0000     0.0000     0.0000     0.0000     0.0000     2.0000     0.0000]\n",
      "[    0.0000     0.0000     0.0000     0.0000     0.0000     0.0000     0.0000     0.0000     0.0000]\n",
      "\n",
      "[    0.0000     0.0000     0.0000     0.0000     0.0000     0.0000     0.0000     1.0000     0.0000]\n",
      "[    0.0000     0.0000     0.0000     0.0000     0.0000     0.0000     0.0000     0.0000     0.0000]\n",
      "\n",
      "[    0.0000     0.0000     0.0000     0.0000     0.0000     0.0000     0.0000     0.0000     0.0000]\n",
      "[    0.0000     0.0000     0.0000     0.0000     0.0000     0.0000     0.0000     0.0000     0.0000]\n",
      "\n",
      "[    0.0000     0.0000     0.0000     0.0000     0.0000     0.0000     0.0000     0.0000     0.0000]\n",
      "[    0.0000     0.0000     0.0000     0.0000     0.0000     0.0000     0.0000     0.0000     0.0000]\n",
      "\n",
      "[    0.0000     0.0000     0.0000     0.0000     0.0000     0.0000     0.0000     0.0000     0.0000]\n",
      "[    0.0000     0.0000     0.0000     0.0000     0.0000     0.0000     0.0000     0.0000     0.0000]\n",
      "\n",
      "[    0.0000     0.0000     0.0000     0.0000     0.0000     0.0000     0.0000     0.0000     0.0000]\n",
      "[    0.0000     0.0000     0.0000     0.0000     0.0000     0.0000     0.0000     0.0000     0.0000]\n",
      "\n",
      "[    0.0000     0.0000     0.0000     0.0000     0.0000     0.0000     0.0000     0.0000     0.0000]\n",
      "[    0.0000     0.0000     0.0000     0.0000     0.0000     0.0000     0.0000     0.0000     0.0000]\n",
      "\n",
      "[    0.0000     0.0000     0.0000     0.0000     0.0000     0.0000     0.0000     0.0000     0.0000]\n",
      "[    0.0000     0.0000     0.0000     0.0000     0.0000     0.0000     0.0000     0.0000     0.0000]\n",
      "\n",
      "[    0.0000     0.0000     0.0000     0.0000     0.0000     0.0000     0.0000     0.0000     0.0000]\n",
      "[    0.0000     0.0000     0.0000     0.0000     0.0000     0.0000     0.0000     0.0000     0.0000]\n",
      "\n",
      "[    0.0000     0.0000     0.0000     0.0000     0.0000     0.0000     0.0000     0.0000     0.0000]\n",
      "[    0.0000     0.0000     0.0000     0.0000     0.0000     0.0000     0.0000     0.0000     0.0000]\n",
      "\n",
      "[    0.0000     0.0000     0.0000     0.0000     0.0000     0.0000     0.0000     0.0000     0.0000]\n",
      "[    0.0000     0.0000     0.0000     0.0000     0.0000     0.0000     0.0000     0.0000     0.0000]\n",
      "\n",
      "[    0.0000     0.0000     0.0000     0.0000     0.0000     0.0000     0.0000     0.0000     0.0000]\n",
      "[    0.0000     0.0000     0.0000     0.0000     0.0000     0.0000     0.0000     0.0000     0.0000]\n",
      "\n",
      "[    0.0000     0.0000     0.0000     0.0000     0.0000     0.0000     0.0000     0.0000     0.0000]\n",
      "[    0.0000     0.0000     0.0000     0.0000     0.0000     0.0000     0.0000     0.0000     0.0000]\n",
      "\n",
      "[    0.0000     0.0000     0.0000     0.0000     0.0000     0.0000     0.0000     0.0000     0.0000]\n",
      "[    0.0000     0.0000     0.0000     0.0000     0.0000     0.0000     0.0000     0.0000     0.0000]\n",
      "\n",
      "[    0.0000     0.0000     0.0000     0.0000     0.0000     0.0000     0.0000     0.0000     0.0000]\n",
      "[    0.0000     0.0000     0.0000     0.0000     0.0000     0.0000     0.0000     0.0000     0.0000]\n",
      "\n",
      "[    0.0000     0.0000     0.0000     0.0000     0.0000     0.0000     0.0000     0.0000     0.0000]\n",
      "[    0.0000     0.0000     0.0000     0.0000     0.0000     0.0000     0.0000     0.0000     0.0000]\n",
      "\n",
      "[    0.0000     0.0000     0.0000     0.0000     0.0000     0.0000     0.0000     0.0000     0.0000]\n",
      "[    0.0000     0.0000     0.0000     0.0000     0.0000     0.0000     0.0000     0.0000     0.0000]\n",
      "\n",
      "[    0.0000     0.0000     0.0000     0.0000     0.0000     0.0000     0.0000     0.0000     0.0000]\n",
      "[    0.0000     0.0000     0.0000     0.0000     0.0000     0.0000     0.0000     0.0000     0.0000]\n",
      "\n",
      "[    0.0000     0.0000     0.0000     0.0000     0.0000     0.0000     0.0000     0.0000     0.0000]\n",
      "[    0.0000     0.0000     0.0000     0.0000     0.0000     0.0000     0.0000     0.0000     0.0000]\n",
      "\n",
      "[    0.0000     0.0000     0.0000     0.0000     0.0000     0.0000     0.0000     0.0000     0.0000]\n",
      "[    0.0000     0.0000     0.0000     0.0000     0.0000     0.0000     0.0000     0.0000     0.0000]\n",
      "\n",
      "[    0.0000     0.0000     0.0000     0.0000     0.0000     0.0000     0.0000     0.0000     0.0000]\n",
      "[    0.0000     0.0000     0.0000     0.0000     0.0000     0.0000     0.0000     0.0000     0.0000]\n",
      "\n",
      "[    0.0000     0.0000     0.0000     0.0000     0.0000     0.0000     0.0000     0.0000     0.0000]\n",
      "[    0.0000     0.0000     0.0000     0.0000     0.0000     0.0000     0.0000     0.0000     0.0000]\n",
      "\n",
      "[    0.0000     0.0000     0.0000     0.0000     0.0000     0.0000     0.0000     0.0000     0.0000]\n",
      "[    0.0000     0.0000     0.0000     0.0000     0.0000     0.0000     0.0000     0.0000     0.0000]\n",
      "\n",
      "[    0.0000     0.0000     0.0000     0.0000     0.0000     0.0000     0.0000     0.0000     0.0000]\n",
      "[    0.0000     0.0000     0.0000     0.0000     0.0000     0.0000     0.0000     0.0000     0.0000]\n",
      "\n",
      "[    0.0000     0.0000     0.0000     0.0000     0.0000     0.0000     0.0000     0.0000     0.0000]\n",
      "[    0.0000     0.0000     0.0000     0.0000     0.0000     0.0000     0.0000     0.0000     0.0000]\n",
      "\n",
      "[    0.0000     0.0000     0.0000     0.0000     0.0000     0.0000     0.0000     0.0000     0.0000]\n",
      "[    0.0000     0.0000     0.0000     0.0000     0.0000     0.0000     0.0000     0.0000     0.0000]\n",
      "\n",
      "[    0.0000     0.0000     0.0000     0.0000     0.0000     0.0000     0.0000     0.0000     0.0000]\n",
      "[    0.0000     0.0000     0.0000     0.0000     0.0000     0.0000     0.0000     0.0000     0.0000]\n",
      "\n",
      "[    0.0000     0.0000     0.0000     0.0000     0.0000     0.0000     0.0000     0.0000     0.0000]\n",
      "[    0.0000     0.0000     0.0000     0.0000     0.0000     0.0000     0.0000     0.0000     0.0000]\n",
      "\n",
      "[    0.0000     0.0000     0.0000     0.0000     0.0000     0.0000     0.0000     0.0000     0.0000]\n",
      "[    0.0000     0.0000     0.0000     0.0000     0.0000     0.0000     0.0000     0.0000     0.0000]\n",
      "\n",
      "[    0.0000     0.0000     0.0000     0.0000     0.0000     0.0000     0.0000     0.0000     0.0000]\n",
      "[    0.0000     0.0000     0.0000     0.0000     0.0000     0.0000     0.0000     0.0000     0.0000]\n",
      "\n",
      "[    0.0000     0.0000     0.0000     0.0000     0.0000     0.0000     0.0000     0.0000     0.0000]\n",
      "[    0.0000     0.0000     0.0000     0.0000     0.0000     0.0000     0.0000     0.0000     0.0000]\n",
      "\n",
      "[    0.0000     0.0000     0.0000     0.0000     0.0000     0.0000     0.0000     0.0000     0.0000]\n",
      "[    0.0000     0.0000     0.0000     0.0000     0.0000     0.0000     0.0000     0.0000     0.0000]\n",
      "\n",
      "[    0.0000     0.0000     0.0000     0.0000     0.0000     0.0000     0.0000     0.0000     0.0000]\n",
      "[    0.0000     0.0000     0.0000     0.0000     0.0000     0.0000     0.0000     0.0000     0.0000]\n",
      "\n",
      "[    0.0000     0.0000     0.0000     0.0000     0.0000     0.0000     0.0000     0.0000     0.0000]\n",
      "[    0.0000     0.0000     0.0000     0.0000     0.0000     0.0000     0.0000     0.0000     0.0000]\n",
      "\n",
      "[    0.0000     0.0000     0.0000     0.0000     0.0000     0.0000     0.0000     0.0000     0.0000]\n",
      "[    0.0000     0.0000     0.0000     0.0000     0.0000     0.0000     0.0000     0.0000     0.0000]\n",
      "\n",
      "[    0.0000     0.0000     0.0000     0.0000     0.0000     0.0000     0.0000     0.0000     0.0000]\n",
      "[    0.0000     0.0000     0.0000     0.0000     0.0000     0.0000     0.0000     0.0000     0.0000]\n",
      "\n",
      "[    0.0000     0.0000     0.0000     0.0000     0.0000     0.0000     0.0000     0.0000     0.0000]\n",
      "[    0.0000     0.0000     0.0000     0.0000     0.0000     0.0000     0.0000     0.0000     0.0000]\n",
      "\n",
      "[    0.0000     0.0000     0.0000     0.0000     0.0000     0.0000     0.0000     0.0000     0.0000]\n",
      "[    0.0000     0.0000     0.0000     0.0000     0.0000     0.0000     0.0000     0.0000     0.0000]\n",
      "\n",
      "[    0.0000     0.0000     0.0000     0.0000     0.0000     0.0000     0.0000     0.0000     0.0000]\n",
      "[    0.0000     0.0000     0.0000     0.0000     0.0000     0.0000     0.0000     0.0000     0.0000]\n",
      "\n",
      "[    0.0000     0.0000     0.0000     0.0000     0.0000     0.0000     0.0000     0.0000     0.0000]\n",
      "[    0.0000     0.0000     0.0000     0.0000     0.0000     0.0000     0.0000     0.0000     0.0000]\n",
      "\n",
      "[    0.0000     0.0000     0.0000     0.0000     0.0000     0.0000     0.0000     0.0000     0.0000]\n",
      "[    0.0000     0.0000     0.0000     0.0000     0.0000     0.0000     0.0000     0.0000     0.0000]\n",
      "\n",
      "[    0.0000     0.0000     0.0000     0.0000     0.0000     0.0000     0.0000     0.0000     0.0000]\n",
      "[    0.0000     0.0000     0.0000     0.0000     0.0000     0.0000     0.0000     0.0000     0.0000]\n",
      "\n",
      "[    0.0000     0.0000     0.0000     0.0000     0.0000     0.0000     0.0000     0.0000     0.0000]\n",
      "[    0.0000     0.0000     0.0000     0.0000     0.0000     0.0000     0.0000     0.0000     0.0000]\n",
      "\n",
      "[    0.0000     0.0000     0.0000     0.0000     0.0000     0.0000     0.0000     0.0000     0.0000]\n",
      "[    0.0000     0.0000     0.0000     0.0000     0.0000     0.0000     0.0000     0.0000     0.0000]\n",
      "\n",
      "[    0.0000     0.0000     0.0000     0.0000     0.0000     0.0000     0.0000     0.0000     0.0000]\n",
      "[    0.0000     0.0000     0.0000     0.0000     0.0000     0.0000     0.0000     0.0000     0.0000]\n",
      "\n",
      "[    0.0000     0.0000     0.0000     0.0000     0.0000     0.0000     0.0000     0.0000     0.0000]\n",
      "[    0.0000     0.0000     0.0000     0.0000     0.0000     0.0000     0.0000     0.0000     0.0000]\n",
      "\n",
      "[    0.0000     0.0000     0.0000     0.0000     0.0000     0.0000     0.0000     0.0000     0.0000]\n",
      "[    0.0000     0.0000     0.0000     0.0000     0.0000     0.0000     0.0000     0.0000     0.0000]\n",
      "\n",
      "[    0.0000     0.0000     0.0000     0.0000     0.0000     0.0000     0.0000     0.0000     0.0000]\n",
      "[    0.0000     0.0000     0.0000     0.0000     0.0000     0.0000     0.0000     0.0000     0.0000]\n",
      "\n",
      "[    0.0000     0.0000     0.0000     0.0000     0.0000     0.0000     0.0000     0.0000     0.0000]\n",
      "[    0.0000     0.0000     0.0000     0.0000     0.0000     0.0000     0.0000     0.0000     0.0000]\n",
      "\n",
      "[    0.0000     0.0000     0.0000     0.0000     0.0000     0.0000     0.0000     0.0000     0.0000]\n",
      "[    0.0000     0.0000     0.0000     0.0000     0.0000     0.0000     0.0000     0.0000     0.0000]\n",
      "\n",
      "[    0.0000     0.0000     0.0000     0.0000     0.0000     0.0000     0.0000     0.0000     0.0000]\n",
      "[    0.0000     0.0000     0.0000     0.0000     0.0000     0.0000     0.0000     0.0000     0.0000]\n",
      "\n",
      "[    0.0000     0.0000     0.0000     0.0000     0.0000     0.0000     0.0000     0.0000     0.0000]\n",
      "[    0.0000     0.0000     0.0000     0.0000     0.0000     0.0000     0.0000     0.0000     0.0000]\n",
      "\n",
      "[    0.0000     0.0000     0.0000     0.0000     0.0000     0.0000     0.0000     0.0000     0.0000]\n",
      "[    0.0000     0.0000     0.0000     0.0000     0.0000     0.0000     0.0000     0.0000     0.0000]\n",
      "\n",
      "[    0.0000     0.0000     0.0000     0.0000     0.0000     0.0000     0.0000     0.0000     0.0000]\n",
      "[    0.0000     0.0000     0.0000     0.0000     0.0000     0.0000     0.0000     0.0000     0.0000]\n",
      "\n",
      "[    0.0000     0.0000     0.0000     0.0000     0.0000     0.0000     0.0000     0.0000     0.0000]\n",
      "[    0.0000     0.0000     0.0000     0.0000     0.0000     0.0000     0.0000     0.0000     0.0000]\n",
      "\n",
      "[    0.0000     0.0000     0.0000     0.0000     0.0000     0.0000     0.0000     0.0000     0.0000]\n",
      "[    0.0000     0.0000     0.0000     0.0000     0.0000     0.0000     0.0000     0.0000     0.0000]\n",
      "\n",
      "[    0.0000     0.0000     0.0000     0.0000     0.0000     0.0000     0.0000     0.0000     0.0000]\n",
      "[    0.0000     0.0000     0.0000     0.0000     0.0000     0.0000     0.0000     0.0000     0.0000]\n",
      "\n",
      "[    0.0000     0.0000     0.0000     0.0000     0.0000     0.0000     0.0000     0.0000     0.0000]\n",
      "[    0.0000     0.0000     0.0000     0.0000     0.0000     0.0000     0.0000     0.0000     0.0000]\n",
      "\n",
      "[    0.0000     0.0000     0.0000     0.0000     0.0000     0.0000     0.0000     0.0000     0.0000]\n",
      "[    0.0000     0.0000     0.0000     0.0000     0.0000     0.0000     0.0000     0.0000     0.0000]\n",
      "\n",
      "[    0.0000     0.0000     0.0000     0.0000     0.0000     0.0000     0.0000     0.0000     0.0000]\n",
      "[    0.0000     0.0000     0.0000     0.0000     0.0000     0.0000     0.0000     0.0000     0.0000]\n",
      "\n",
      "[    0.0000     0.0000     0.0000     0.0000     0.0000     0.0000     0.0000     0.0000     0.0000]\n",
      "[    0.0000     0.0000     0.0000     0.0000     0.0000     0.0000     0.0000     0.0000     0.0000]\n",
      "\n",
      "[   79.7181    67.0689   100.1324   113.7237     2.0000     0.9936     1.0000    30.0000     0.9936]\n",
      "[   78.0000    63.0000    99.0000   112.0000     2.0000     1.0000    99.0000    30.0000     1.0000]\n",
      "\n",
      "[   79.0125    66.5068    99.3123   101.1148     2.0000     0.5730     1.0000    28.0000     0.5730]\n",
      "[   78.0000    63.0000    99.0000   112.0000     2.0000     1.0000    99.0000    28.0000     1.0000]\n",
      "\n",
      "[   77.3143    64.5277    99.1016   112.1908     2.0000     0.9997     1.0000    25.0000     0.9997]\n",
      "[   78.0000    63.0000    99.0000   112.0000     2.0000     1.0000    99.0000    27.0000     1.0000]\n",
      "\n",
      "[   80.2745    64.6875   100.1684   109.5178     2.0000     0.9999     1.0000    24.0000     0.9999]\n",
      "[   78.0000    63.0000    99.0000   112.0000     2.0000     1.0000    99.0000    25.0000     1.0000]\n",
      "\n",
      "[   33.0690    10.2546   125.6613    59.8994     2.0000     0.9439    -1.0000    21.0000     0.9439]\n",
      "[   78.0000    63.0000    99.0000   112.0000     2.0000     1.0000    99.0000    24.0000     1.0000]\n",
      "\n",
      "[   27.4554     0.0000    93.1276    40.2756     2.0000     0.9995    -1.0000    20.0000     0.9995]\n",
      "[    0.0000     0.0000     0.0000     0.0000     0.0000     0.0000     0.0000     0.0000     0.0000]\n",
      "\n",
      "[    3.4013     0.0000   128.0000    32.6664     2.0000     0.9935    -1.0000    19.0000     0.9935]\n",
      "[    0.0000     0.0000     0.0000     0.0000     0.0000     0.0000     0.0000     0.0000     0.0000]\n",
      "\n",
      "[   30.8019    37.0610    81.4911    66.8527     2.0000     0.9999    -1.0000    13.0000     0.9999]\n",
      "[    0.0000     0.0000     0.0000     0.0000     0.0000     0.0000     0.0000     0.0000     0.0000]\n",
      "\n",
      "[   49.3906     0.0000   128.0000    23.1212     2.0000     1.0000    -1.0000    10.0000     1.0000]\n",
      "[    0.0000     0.0000     0.0000     0.0000     0.0000     0.0000     0.0000     0.0000     0.0000]\n",
      "\n",
      "[   29.9009     0.0000   118.7375    23.2261     2.0000     0.9998    -1.0000     9.0000     0.9999]\n",
      "[    0.0000     0.0000     0.0000     0.0000     0.0000     0.0000     0.0000     0.0000     0.0000]\n",
      "\n",
      "[   24.3260     0.0000    68.7869    21.6810     2.0000     0.9961    -1.0000     8.0000     0.9961]\n",
      "[    0.0000     0.0000     0.0000     0.0000     0.0000     0.0000     0.0000     0.0000     0.0000]\n",
      "\n",
      "[   45.6118     0.0000    96.5811    32.5752     2.0000     0.9999    -1.0000     7.0000     0.9999]\n",
      "[    0.0000     0.0000     0.0000     0.0000     0.0000     0.0000     0.0000     0.0000     0.0000]\n",
      "\n",
      "[    0.0000     0.0000     0.0000     0.0000     0.0000     0.0000     0.0000     0.0000     0.0000]\n",
      "[    0.0000     0.0000     0.0000     0.0000     0.0000     0.0000     0.0000     0.0000     0.0000]\n",
      "\n",
      "[    0.0000     0.0000     0.0000     0.0000     0.0000     0.0000     0.0000     0.0000     0.0000]\n",
      "[    0.0000     0.0000     0.0000     0.0000     0.0000     0.0000     0.0000     0.0000     0.0000]\n",
      "\n",
      "[    0.0000     0.0000     0.0000     0.0000     0.0000     0.0000     0.0000     0.0000     0.0000]\n",
      "[    0.0000     0.0000     0.0000     0.0000     0.0000     0.0000     0.0000     0.0000     0.0000]\n",
      "\n",
      "[    0.0000     0.0000     0.0000     0.0000     0.0000     0.0000     0.0000     0.0000     0.0000]\n",
      "[    0.0000     0.0000     0.0000     0.0000     0.0000     0.0000     0.0000     0.0000     0.0000]\n",
      "\n",
      "[    0.0000     0.0000     0.0000     0.0000     0.0000     0.0000     0.0000     0.0000     0.0000]\n",
      "[    0.0000     0.0000     0.0000     0.0000     0.0000     0.0000     0.0000     0.0000     0.0000]\n",
      "\n",
      "[    0.0000     0.0000     0.0000     0.0000     0.0000     0.0000     0.0000     0.0000     0.0000]\n",
      "[    0.0000     0.0000     0.0000     0.0000     0.0000     0.0000     0.0000     0.0000     0.0000]\n",
      "\n",
      "[    0.0000     0.0000     0.0000     0.0000     0.0000     0.0000     0.0000     0.0000     0.0000]\n",
      "[    0.0000     0.0000     0.0000     0.0000     0.0000     0.0000     0.0000     0.0000     0.0000]\n",
      "\n",
      "[    0.0000     0.0000     0.0000     0.0000     0.0000     0.0000     0.0000     0.0000     0.0000]\n",
      "[    0.0000     0.0000     0.0000     0.0000     0.0000     0.0000     0.0000     0.0000     0.0000]\n",
      "\n",
      "[    0.0000     0.0000     0.0000     0.0000     0.0000     0.0000     0.0000     0.0000     0.0000]\n",
      "[    0.0000     0.0000     0.0000     0.0000     0.0000     0.0000     0.0000     0.0000     0.0000]\n",
      "\n",
      "[    0.0000     0.0000     0.0000     0.0000     0.0000     0.0000     0.0000     0.0000     0.0000]\n",
      "[    0.0000     0.0000     0.0000     0.0000     0.0000     0.0000     0.0000     0.0000     0.0000]\n",
      "\n",
      "[    0.0000     0.0000     0.0000     0.0000     0.0000     0.0000     0.0000     0.0000     0.0000]\n",
      "[    0.0000     0.0000     0.0000     0.0000     0.0000     0.0000     0.0000     0.0000     0.0000]\n",
      "\n",
      "[    0.0000     0.0000     0.0000     0.0000     0.0000     0.0000     0.0000     0.0000     0.0000]\n",
      "[    0.0000     0.0000     0.0000     0.0000     0.0000     0.0000     0.0000     0.0000     0.0000]\n",
      "\n",
      "[    0.0000     0.0000     0.0000     0.0000     0.0000     0.0000     0.0000     0.0000     0.0000]\n",
      "[    0.0000     0.0000     0.0000     0.0000     0.0000     0.0000     0.0000     0.0000     0.0000]\n",
      "\n",
      "[    0.0000     0.0000     0.0000     0.0000     0.0000     0.0000     0.0000     0.0000     0.0000]\n",
      "[    0.0000     0.0000     0.0000     0.0000     0.0000     0.0000     0.0000     0.0000     0.0000]\n",
      "\n",
      "[    0.0000     0.0000     0.0000     0.0000     0.0000     0.0000     0.0000     0.0000     0.0000]\n",
      "[    0.0000     0.0000     0.0000     0.0000     0.0000     0.0000     0.0000     0.0000     0.0000]\n",
      "\n",
      "[    0.0000     0.0000     0.0000     0.0000     0.0000     0.0000     0.0000     0.0000     0.0000]\n",
      "[    0.0000     0.0000     0.0000     0.0000     0.0000     0.0000     0.0000     0.0000     0.0000]\n",
      "\n",
      "[    0.0000     0.0000     0.0000     0.0000     0.0000     0.0000     0.0000     0.0000     0.0000]\n",
      "[    0.0000     0.0000     0.0000     0.0000     0.0000     0.0000     0.0000     0.0000     0.0000]\n",
      "\n",
      "[    0.0000     0.0000     0.0000     0.0000     0.0000     0.0000     0.0000     0.0000     0.0000]\n",
      "[    0.0000     0.0000     0.0000     0.0000     0.0000     0.0000     0.0000     0.0000     0.0000]\n",
      "\n",
      "[    0.0000     0.0000     0.0000     0.0000     0.0000     0.0000     0.0000     0.0000     0.0000]\n",
      "[    0.0000     0.0000     0.0000     0.0000     0.0000     0.0000     0.0000     0.0000     0.0000]\n",
      "\n",
      "[    0.0000     0.0000     0.0000     0.0000     0.0000     0.0000     0.0000     0.0000     0.0000]\n",
      "[    0.0000     0.0000     0.0000     0.0000     0.0000     0.0000     0.0000     0.0000     0.0000]\n",
      "\n",
      "[   11.4407     2.2153    28.5692    19.9690     3.0000     0.9982     1.0000    23.0000     0.9982]\n",
      "[   11.0000     3.0000    28.0000    20.0000     3.0000     1.0000    99.0000    23.0000     1.0000]\n",
      "\n",
      "[   31.8045    60.7773    71.0275    80.7683     3.0000     0.9994    -1.0000     5.0000     0.9995]\n",
      "[    0.0000     0.0000     0.0000     0.0000     0.0000     0.0000     0.0000     0.0000     0.0000]\n",
      "\n",
      "[   27.2955    19.8961    91.8137    71.4957     3.0000     1.0000    -1.0000     4.0000     1.0000]\n",
      "[    0.0000     0.0000     0.0000     0.0000     0.0000     0.0000     0.0000     0.0000     0.0000]\n",
      "\n",
      "[    0.0000     0.0000     0.0000     0.0000     0.0000     0.0000     0.0000     0.0000     0.0000]\n",
      "[    0.0000     0.0000     0.0000     0.0000     0.0000     0.0000     0.0000     0.0000     0.0000]\n",
      "\n",
      "[    0.0000     0.0000     0.0000     0.0000     0.0000     0.0000     0.0000     0.0000     0.0000]\n",
      "[    0.0000     0.0000     0.0000     0.0000     0.0000     0.0000     0.0000     0.0000     0.0000]\n",
      "\n",
      "[    0.0000     0.0000     0.0000     0.0000     0.0000     0.0000     0.0000     0.0000     0.0000]\n",
      "[    0.0000     0.0000     0.0000     0.0000     0.0000     0.0000     0.0000     0.0000     0.0000]\n",
      "\n",
      "[    0.0000     0.0000     0.0000     0.0000     0.0000     0.0000     0.0000     0.0000     0.0000]\n",
      "[    0.0000     0.0000     0.0000     0.0000     0.0000     0.0000     0.0000     0.0000     0.0000]\n",
      "\n",
      "[    0.0000     0.0000     0.0000     0.0000     0.0000     0.0000     0.0000     0.0000     0.0000]\n",
      "[    0.0000     0.0000     0.0000     0.0000     0.0000     0.0000     0.0000     0.0000     0.0000]\n",
      "\n",
      "[    0.0000     0.0000     0.0000     0.0000     0.0000     0.0000     0.0000     0.0000     0.0000]\n",
      "[    0.0000     0.0000     0.0000     0.0000     0.0000     0.0000     0.0000     0.0000     0.0000]\n",
      "\n",
      "[    0.0000     0.0000     0.0000     0.0000     0.0000     0.0000     0.0000     0.0000     0.0000]\n",
      "[    0.0000     0.0000     0.0000     0.0000     0.0000     0.0000     0.0000     0.0000     0.0000]\n",
      "\n",
      "[    0.0000     0.0000     0.0000     0.0000     0.0000     0.0000     0.0000     0.0000     0.0000]\n",
      "[    0.0000     0.0000     0.0000     0.0000     0.0000     0.0000     0.0000     0.0000     0.0000]\n",
      "\n",
      "[    0.0000     0.0000     0.0000     0.0000     0.0000     0.0000     0.0000     0.0000     0.0000]\n",
      "[    0.0000     0.0000     0.0000     0.0000     0.0000     0.0000     0.0000     0.0000     0.0000]\n",
      "\n",
      "[    0.0000     0.0000     0.0000     0.0000     0.0000     0.0000     0.0000     0.0000     0.0000]\n",
      "[    0.0000     0.0000     0.0000     0.0000     0.0000     0.0000     0.0000     0.0000     0.0000]\n",
      "\n",
      "[    0.0000     0.0000     0.0000     0.0000     0.0000     0.0000     0.0000     0.0000     0.0000]\n",
      "[    0.0000     0.0000     0.0000     0.0000     0.0000     0.0000     0.0000     0.0000     0.0000]\n",
      "\n",
      "[    0.0000     0.0000     0.0000     0.0000     0.0000     0.0000     0.0000     0.0000     0.0000]\n",
      "[    0.0000     0.0000     0.0000     0.0000     0.0000     0.0000     0.0000     0.0000     0.0000]\n",
      "\n",
      "[    0.0000     0.0000     0.0000     0.0000     0.0000     0.0000     0.0000     0.0000     0.0000]\n",
      "[    0.0000     0.0000     0.0000     0.0000     0.0000     0.0000     0.0000     0.0000     0.0000]\n",
      "\n",
      "[    0.0000     0.0000     0.0000     0.0000     0.0000     0.0000     0.0000     0.0000     0.0000]\n",
      "[    0.0000     0.0000     0.0000     0.0000     0.0000     0.0000     0.0000     0.0000     0.0000]\n",
      "\n",
      "[    0.0000     0.0000     0.0000     0.0000     0.0000     0.0000     0.0000     0.0000     0.0000]\n",
      "[    0.0000     0.0000     0.0000     0.0000     0.0000     0.0000     0.0000     0.0000     0.0000]\n",
      "\n",
      "[    0.0000     0.0000     0.0000     0.0000     0.0000     0.0000     0.0000     0.0000     0.0000]\n",
      "[    0.0000     0.0000     0.0000     0.0000     0.0000     0.0000     0.0000     0.0000     0.0000]\n",
      "\n",
      "[    0.0000     0.0000     0.0000     0.0000     0.0000     0.0000     0.0000     0.0000     0.0000]\n",
      "[    0.0000     0.0000     0.0000     0.0000     0.0000     0.0000     0.0000     0.0000     0.0000]\n",
      "\n",
      "[    0.0000     0.0000     0.0000     0.0000     0.0000     0.0000     0.0000     0.0000     0.0000]\n",
      "[    0.0000     0.0000     0.0000     0.0000     0.0000     0.0000     0.0000     0.0000     0.0000]\n",
      "\n",
      "[    0.0000     0.0000     0.0000     0.0000     0.0000     0.0000     0.0000     0.0000     0.0000]\n",
      "[    0.0000     0.0000     0.0000     0.0000     0.0000     0.0000     0.0000     0.0000     0.0000]\n",
      "\n",
      "[    0.0000     0.0000     0.0000     0.0000     0.0000     0.0000     0.0000     0.0000     0.0000]\n",
      "[    0.0000     0.0000     0.0000     0.0000     0.0000     0.0000     0.0000     0.0000     0.0000]\n",
      "\n",
      "[    0.0000     0.0000     0.0000     0.0000     0.0000     0.0000     0.0000     0.0000     0.0000]\n",
      "[    0.0000     0.0000     0.0000     0.0000     0.0000     0.0000     0.0000     0.0000     0.0000]\n",
      "\n",
      "[    0.0000     0.0000     0.0000     0.0000     0.0000     0.0000     0.0000     0.0000     0.0000]\n",
      "[    0.0000     0.0000     0.0000     0.0000     0.0000     0.0000     0.0000     0.0000     0.0000]\n",
      "\n",
      "[    0.0000     0.0000     0.0000     0.0000     0.0000     0.0000     0.0000     0.0000     0.0000]\n",
      "[    0.0000     0.0000     0.0000     0.0000     0.0000     0.0000     0.0000     0.0000     0.0000]\n",
      "\n",
      "[    0.0000     0.0000     0.0000     0.0000     0.0000     0.0000     0.0000     0.0000     0.0000]\n",
      "[    0.0000     0.0000     0.0000     0.0000     0.0000     0.0000     0.0000     0.0000     0.0000]\n",
      "\n",
      "[    0.0000     0.0000     0.0000     0.0000     0.0000     0.0000     0.0000     0.0000     0.0000]\n",
      "[    0.0000     0.0000     0.0000     0.0000     0.0000     0.0000     0.0000     0.0000     0.0000]\n",
      "\n",
      "[    0.0000     0.0000     0.0000     0.0000     0.0000     0.0000     0.0000     0.0000     0.0000]\n",
      "[    0.0000     0.0000     0.0000     0.0000     0.0000     0.0000     0.0000     0.0000     0.0000]\n",
      "\n",
      "[    0.0000     0.0000     0.0000     0.0000     0.0000     0.0000     0.0000     0.0000     0.0000]\n",
      "[    0.0000     0.0000     0.0000     0.0000     0.0000     0.0000     0.0000     0.0000     0.0000]\n",
      "\n",
      "[    0.0000     0.0000     0.0000     0.0000     0.0000     0.0000     0.0000     0.0000     0.0000]\n",
      "[    0.0000     0.0000     0.0000     0.0000     0.0000     0.0000     0.0000     0.0000     0.0000]\n",
      "\n",
      "[    0.0000     0.0000     0.0000     0.0000     0.0000     0.0000     0.0000     0.0000     0.0000]\n",
      "[    0.0000     0.0000     0.0000     0.0000     0.0000     0.0000     0.0000     0.0000     0.0000]\n",
      "\n",
      "[   35.3569    19.2360    65.1774    43.1223     4.0000     1.0000     1.0000    32.0000     1.0000]\n",
      "[   37.0000    19.0000    66.0000    44.0000     4.0000     1.0000    99.0000    32.0000     1.0000]\n",
      "\n",
      "[   37.9331    17.6972    66.9819    41.8116     4.0000     1.0000     1.0000    31.0000     1.0000]\n",
      "[   37.0000    19.0000    66.0000    44.0000     4.0000     1.0000    99.0000    31.0000     1.0000]\n",
      "\n",
      "[   36.2209    19.2902    65.3579    42.7812     4.0000     1.0000     1.0000    29.0000     1.0000]\n",
      "[   37.0000    19.0000    66.0000    44.0000     4.0000     1.0000    99.0000    29.0000     1.0000]\n",
      "\n",
      "[   34.5918    19.5119    65.6297    42.0148     4.0000     1.0000     1.0000    26.0000     1.0000]\n",
      "[   37.0000    19.0000    66.0000    44.0000     4.0000     1.0000    99.0000    26.0000     1.0000]\n",
      "\n",
      "[   15.1296     0.0000   128.0000    17.4734     4.0000     0.9989    -1.0000    22.0000     0.9989]\n",
      "[    0.0000     0.0000     0.0000     0.0000     0.0000     0.0000     0.0000     0.0000     0.0000]\n",
      "\n",
      "[   17.8814    41.4560    37.5243    89.8717     4.0000     1.0000    -1.0000    18.0000     1.0000]\n",
      "[    0.0000     0.0000     0.0000     0.0000     0.0000     0.0000     0.0000     0.0000     0.0000]\n",
      "\n",
      "[   78.9910    63.4002   101.0106   123.7336     4.0000     0.6429    -1.0000    17.0000     0.6429]\n",
      "[    0.0000     0.0000     0.0000     0.0000     0.0000     0.0000     0.0000     0.0000     0.0000]\n",
      "\n",
      "[   37.1532    55.4959    64.7951    72.7680     4.0000     0.9997    -1.0000    16.0000     0.9997]\n",
      "[    0.0000     0.0000     0.0000     0.0000     0.0000     0.0000     0.0000     0.0000     0.0000]\n",
      "\n",
      "[   29.6320    67.5648    76.4083    93.4223     4.0000     0.9996    -1.0000    15.0000     0.9996]\n",
      "[    0.0000     0.0000     0.0000     0.0000     0.0000     0.0000     0.0000     0.0000     0.0000]\n",
      "\n",
      "[   36.8649    48.4614    82.6591    74.4596     4.0000     0.9999    -1.0000    14.0000     0.9999]\n",
      "[    0.0000     0.0000     0.0000     0.0000     0.0000     0.0000     0.0000     0.0000     0.0000]\n",
      "\n",
      "[   27.0483     0.0000    71.4672    17.8301     4.0000     0.9865    -1.0000    12.0000     0.9865]\n",
      "[    0.0000     0.0000     0.0000     0.0000     0.0000     0.0000     0.0000     0.0000     0.0000]\n",
      "\n",
      "[   22.0889     0.0000    98.1909    11.8119     4.0000     0.9872    -1.0000    11.0000     0.9872]\n",
      "[    0.0000     0.0000     0.0000     0.0000     0.0000     0.0000     0.0000     0.0000     0.0000]\n",
      "\n",
      "[    0.0000     0.0000     0.0000     0.0000     0.0000     0.0000     0.0000     0.0000     0.0000]\n",
      "[    0.0000     0.0000     0.0000     0.0000     0.0000     0.0000     0.0000     0.0000     0.0000]\n",
      "\n",
      "[    0.0000     0.0000     0.0000     0.0000     0.0000     0.0000     0.0000     0.0000     0.0000]\n",
      "[    0.0000     0.0000     0.0000     0.0000     0.0000     0.0000     0.0000     0.0000     0.0000]\n",
      "\n",
      "[    0.0000     0.0000     0.0000     0.0000     0.0000     0.0000     0.0000     0.0000     0.0000]\n",
      "[    0.0000     0.0000     0.0000     0.0000     0.0000     0.0000     0.0000     0.0000     0.0000]\n",
      "\n",
      "[    0.0000     0.0000     0.0000     0.0000     0.0000     0.0000     0.0000     0.0000     0.0000]\n",
      "[    0.0000     0.0000     0.0000     0.0000     0.0000     0.0000     0.0000     0.0000     0.0000]\n",
      "\n",
      "[    0.0000     0.0000     0.0000     0.0000     0.0000     0.0000     0.0000     0.0000     0.0000]\n",
      "[    0.0000     0.0000     0.0000     0.0000     0.0000     0.0000     0.0000     0.0000     0.0000]\n",
      "\n",
      "[    0.0000     0.0000     0.0000     0.0000     0.0000     0.0000     0.0000     0.0000     0.0000]\n",
      "[    0.0000     0.0000     0.0000     0.0000     0.0000     0.0000     0.0000     0.0000     0.0000]\n",
      "\n",
      "[    0.0000     0.0000     0.0000     0.0000     0.0000     0.0000     0.0000     0.0000     0.0000]\n",
      "[    0.0000     0.0000     0.0000     0.0000     0.0000     0.0000     0.0000     0.0000     0.0000]\n",
      "\n",
      "[    0.0000     0.0000     0.0000     0.0000     0.0000     0.0000     0.0000     0.0000     0.0000]\n",
      "[    0.0000     0.0000     0.0000     0.0000     0.0000     0.0000     0.0000     0.0000     0.0000]\n",
      "\n",
      "[    0.0000     0.0000     0.0000     0.0000     0.0000     0.0000     0.0000     0.0000     0.0000]\n",
      "[    0.0000     0.0000     0.0000     0.0000     0.0000     0.0000     0.0000     0.0000     0.0000]\n",
      "\n",
      "[    0.0000     0.0000     0.0000     0.0000     0.0000     0.0000     0.0000     0.0000     0.0000]\n",
      "[    0.0000     0.0000     0.0000     0.0000     0.0000     0.0000     0.0000     0.0000     0.0000]\n",
      "\n",
      "[    0.0000     0.0000     0.0000     0.0000     0.0000     0.0000     0.0000     0.0000     0.0000]\n",
      "[    0.0000     0.0000     0.0000     0.0000     0.0000     0.0000     0.0000     0.0000     0.0000]\n",
      "\n",
      "[    0.0000     0.0000     0.0000     0.0000     0.0000     0.0000     0.0000     0.0000     0.0000]\n",
      "[    0.0000     0.0000     0.0000     0.0000     0.0000     0.0000     0.0000     0.0000     0.0000]\n",
      "\n",
      "[    0.0000     0.0000     0.0000     0.0000     0.0000     0.0000     0.0000     0.0000     0.0000]\n",
      "[    0.0000     0.0000     0.0000     0.0000     0.0000     0.0000     0.0000     0.0000     0.0000]\n",
      "\n",
      "[    0.0000     0.0000     0.0000     0.0000     0.0000     0.0000     0.0000     0.0000     0.0000]\n",
      "[    0.0000     0.0000     0.0000     0.0000     0.0000     0.0000     0.0000     0.0000     0.0000]\n",
      "\n",
      "[    0.0000     0.0000     0.0000     0.0000     0.0000     0.0000     0.0000     0.0000     0.0000]\n",
      "[    0.0000     0.0000     0.0000     0.0000     0.0000     0.0000     0.0000     0.0000     0.0000]\n",
      "\n",
      "[    0.0000     0.0000     0.0000     0.0000     0.0000     0.0000     0.0000     0.0000     0.0000]\n",
      "[    0.0000     0.0000     0.0000     0.0000     0.0000     0.0000     0.0000     0.0000     0.0000]\n",
      "\n",
      "[    0.0000     0.0000     0.0000     0.0000     0.0000     0.0000     0.0000     0.0000     0.0000]\n",
      "[    0.0000     0.0000     0.0000     0.0000     0.0000     0.0000     0.0000     0.0000     0.0000]\n",
      "\n",
      "[    0.0000     0.0000     0.0000     0.0000     0.0000     0.0000     0.0000     0.0000     0.0000]\n",
      "[    0.0000     0.0000     0.0000     0.0000     0.0000     0.0000     0.0000     0.0000     0.0000]\n",
      "\n",
      "[    0.0000     0.0000     0.0000     0.0000     0.0000     0.0000     0.0000     0.0000     0.0000]\n",
      "[    0.0000     0.0000     0.0000     0.0000     0.0000     0.0000     0.0000     0.0000     0.0000]\n",
      "\n",
      "[    0.0000     0.0000     0.0000     0.0000     0.0000     0.0000     0.0000     0.0000     0.0000]\n",
      "[    0.0000     0.0000     0.0000     0.0000     0.0000     0.0000     0.0000     0.0000     0.0000]\n",
      "\n",
      "[    0.0000     0.0000     0.0000     0.0000     0.0000     0.0000     0.0000     0.0000     0.0000]\n",
      "[    0.0000     0.0000     0.0000     0.0000     0.0000     0.0000     0.0000     0.0000     0.0000]\n",
      "\n",
      "[    0.0000     0.0000     0.0000     0.0000     0.0000     0.0000     0.0000     0.0000     0.0000]\n",
      "[    0.0000     0.0000     0.0000     0.0000     0.0000     0.0000     0.0000     0.0000     0.0000]\n",
      "\n",
      "[    0.0000     0.0000     0.0000     0.0000     0.0000     0.0000     0.0000     0.0000     0.0000]\n",
      "[    0.0000     0.0000     0.0000     0.0000     0.0000     0.0000     0.0000     0.0000     0.0000]\n",
      "\n",
      "[    0.0000     0.0000     0.0000     0.0000     0.0000     0.0000     0.0000     0.0000     0.0000]\n",
      "[    0.0000     0.0000     0.0000     0.0000     0.0000     0.0000     0.0000     0.0000     0.0000]\n",
      "\n",
      "[    0.0000     0.0000     0.0000     0.0000     0.0000     0.0000     0.0000     0.0000     0.0000]\n",
      "[    0.0000     0.0000     0.0000     0.0000     0.0000     0.0000     0.0000     0.0000     0.0000]\n",
      "\n",
      "[    0.0000     0.0000     0.0000     0.0000     0.0000     0.0000     0.0000     0.0000     0.0000]\n",
      "[    0.0000     0.0000     0.0000     0.0000     0.0000     0.0000     0.0000     0.0000     0.0000]\n",
      "\n",
      "[    0.0000     0.0000     0.0000     0.0000     0.0000     0.0000     0.0000     0.0000     0.0000]\n",
      "[    0.0000     0.0000     0.0000     0.0000     0.0000     0.0000     0.0000     0.0000     0.0000]\n",
      "\n",
      "[    0.0000     0.0000     0.0000     0.0000     0.0000     0.0000     0.0000     0.0000     0.0000]\n",
      "[    0.0000     0.0000     0.0000     0.0000     0.0000     0.0000     0.0000     0.0000     0.0000]\n",
      "\n",
      "[    0.0000     0.0000     0.0000     0.0000     0.0000     0.0000     0.0000     0.0000     0.0000]\n",
      "[    0.0000     0.0000     0.0000     0.0000     0.0000     0.0000     0.0000     0.0000     0.0000]\n",
      "\n",
      "[    0.0000     0.0000     0.0000     0.0000     0.0000     0.0000     0.0000     0.0000     0.0000]\n",
      "[    0.0000     0.0000     0.0000     0.0000     0.0000     0.0000     0.0000     0.0000     0.0000]\n",
      "\n",
      "[    0.0000     0.0000     0.0000     0.0000     0.0000     0.0000     0.0000     0.0000     0.0000]\n",
      "[    0.0000     0.0000     0.0000     0.0000     0.0000     0.0000     0.0000     0.0000     0.0000]\n",
      "\n",
      "[    0.0000     0.0000     0.0000     0.0000     0.0000     0.0000     0.0000     0.0000     0.0000]\n",
      "[    0.0000     0.0000     0.0000     0.0000     0.0000     0.0000     0.0000     0.0000     0.0000]\n",
      "\n",
      "[    0.0000     0.0000     0.0000     0.0000     0.0000     0.0000     0.0000     0.0000     0.0000]\n",
      "[    0.0000     0.0000     0.0000     0.0000     0.0000     0.0000     0.0000     0.0000     0.0000]\n",
      "\n",
      "[    0.0000     0.0000     0.0000     0.0000     0.0000     0.0000     0.0000     0.0000     0.0000]\n",
      "[    0.0000     0.0000     0.0000     0.0000     0.0000     0.0000     0.0000     0.0000     0.0000]\n",
      "\n",
      "[    0.0000     0.0000     0.0000     0.0000     0.0000     0.0000     0.0000     0.0000     0.0000]\n",
      "[    0.0000     0.0000     0.0000     0.0000     0.0000     0.0000     0.0000     0.0000     0.0000]\n",
      "\n",
      "[    0.0000     0.0000     0.0000     0.0000     0.0000     0.0000     0.0000     0.0000     0.0000]\n",
      "[    0.0000     0.0000     0.0000     0.0000     0.0000     0.0000     0.0000     0.0000     0.0000]\n",
      "\n",
      "[    0.0000     0.0000     0.0000     0.0000     0.0000     0.0000     0.0000     0.0000     0.0000]\n",
      "[    0.0000     0.0000     0.0000     0.0000     0.0000     0.0000     0.0000     0.0000     0.0000]\n",
      "\n",
      "[    0.0000     0.0000     0.0000     0.0000     0.0000     0.0000     0.0000     0.0000     0.0000]\n",
      "[    0.0000     0.0000     0.0000     0.0000     0.0000     0.0000     0.0000     0.0000     0.0000]\n",
      "\n",
      "[    0.0000     0.0000     0.0000     0.0000     0.0000     0.0000     0.0000     0.0000     0.0000]\n",
      "[    0.0000     0.0000     0.0000     0.0000     0.0000     0.0000     0.0000     0.0000     0.0000]\n",
      "\n",
      "[    0.0000     0.0000     0.0000     0.0000     0.0000     0.0000     0.0000     0.0000     0.0000]\n",
      "[    0.0000     0.0000     0.0000     0.0000     0.0000     0.0000     0.0000     0.0000     0.0000]\n",
      "\n",
      "[    0.0000     0.0000     0.0000     0.0000     0.0000     0.0000     0.0000     0.0000     0.0000]\n",
      "[    0.0000     0.0000     0.0000     0.0000     0.0000     0.0000     0.0000     0.0000     0.0000]\n",
      "\n",
      "[    0.0000     0.0000     0.0000     0.0000     0.0000     0.0000     0.0000     0.0000     0.0000]\n",
      "[    0.0000     0.0000     0.0000     0.0000     0.0000     0.0000     0.0000     0.0000     0.0000]\n",
      "\n",
      "[    0.0000     0.0000     0.0000     0.0000     0.0000     0.0000     0.0000     0.0000     0.0000]\n",
      "[    0.0000     0.0000     0.0000     0.0000     0.0000     0.0000     0.0000     0.0000     0.0000]\n",
      "\n",
      "[    0.0000     0.0000     0.0000     0.0000     0.0000     0.0000     0.0000     0.0000     0.0000]\n",
      "[    0.0000     0.0000     0.0000     0.0000     0.0000     0.0000     0.0000     0.0000     0.0000]\n",
      "\n",
      "[    0.0000     0.0000     0.0000     0.0000     0.0000     0.0000     0.0000     0.0000     0.0000]\n",
      "[    0.0000     0.0000     0.0000     0.0000     0.0000     0.0000     0.0000     0.0000     0.0000]\n",
      "\n",
      "[    0.0000     0.0000     0.0000     0.0000     0.0000     0.0000     0.0000     0.0000     0.0000]\n",
      "[    0.0000     0.0000     0.0000     0.0000     0.0000     0.0000     0.0000     0.0000     0.0000]\n",
      "\n",
      "[    0.0000     0.0000     0.0000     0.0000     0.0000     0.0000     0.0000     0.0000     0.0000]\n",
      "[    0.0000     0.0000     0.0000     0.0000     0.0000     0.0000     0.0000     0.0000     0.0000]\n",
      "\n",
      "[    0.0000     0.0000     0.0000     0.0000     0.0000     0.0000     0.0000     0.0000     0.0000]\n",
      "[    0.0000     0.0000     0.0000     0.0000     0.0000     0.0000     0.0000     0.0000     0.0000]\n",
      "\n",
      "[    0.0000     0.0000     0.0000     0.0000     0.0000     0.0000     0.0000     0.0000     0.0000]\n",
      "[    0.0000     0.0000     0.0000     0.0000     0.0000     0.0000     0.0000     0.0000     0.0000]\n",
      "\n",
      "[    0.0000     0.0000     0.0000     0.0000     0.0000     0.0000     0.0000     0.0000     0.0000]\n",
      "[    0.0000     0.0000     0.0000     0.0000     0.0000     0.0000     0.0000     0.0000     0.0000]\n",
      "\n",
      "[    0.0000     0.0000     0.0000     0.0000     0.0000     0.0000     0.0000     0.0000     0.0000]\n",
      "[    0.0000     0.0000     0.0000     0.0000     0.0000     0.0000     0.0000     0.0000     0.0000]\n",
      "\n",
      "[    0.0000     0.0000     0.0000     0.0000     0.0000     0.0000     0.0000     0.0000     0.0000]\n",
      "[    0.0000     0.0000     0.0000     0.0000     0.0000     0.0000     0.0000     0.0000     0.0000]\n",
      "\n"
     ]
    }
   ],
   "source": [
    "for cls in [0,1,2,3,4,5]:\n",
    "    for box in range(32):\n",
    "        print(model_pr_tensor[0,cls,box])\n",
    "        print(model_gt_tensor[0,cls,box])\n",
    "        print()"
   ]
  },
  {
   "cell_type": "markdown",
   "metadata": {
    "hideCode": false,
    "hidePrompt": false
   },
   "source": [
    "##   Numpy `build_pr_tensor()` "
   ]
  },
  {
   "cell_type": "code",
   "execution_count": null,
   "metadata": {
    "ExecuteTime": {
     "end_time": "2019-02-08T10:44:04.244559Z",
     "start_time": "2019-02-08T10:44:03.921893Z"
    }
   },
   "outputs": [],
   "source": [
    "np_format = {}\n",
    "np_format['float'] =  lambda x: \"%10.4f\" % x\n",
    "# np_format['int']   =  lambda x: \"%7d\" % x\n",
    "\n",
    "np.set_printoptions(linewidth=195, precision=4, floatmode='fixed', threshold =10000, formatter = np_format)"
   ]
  },
  {
   "cell_type": "code",
   "execution_count": 20,
   "metadata": {
    "ExecuteTime": {
     "end_time": "2019-02-08T13:55:54.122946Z",
     "start_time": "2019-02-08T13:55:54.079681Z"
    }
   },
   "outputs": [
    {
     "name": "stdout",
     "output_type": "stream",
     "text": [
      "[2 2 2 3 2 2 4 2 4 2 0 0 0 0 0 0 0 0 0 0 0 0 0 0 0 0 0 0 0 0 0 0]\n",
      "10\n"
     ]
    }
   ],
   "source": [
    "img = 0\n",
    "print(model_target_class_ids[img])\n",
    "print(np.count_nonzero(model_target_class_ids[img]))\n",
    "\n",
    "# build_pr_tensor_np(model_output_rois[img], model_mrcnn_class[img], model_mrcnn_bbox[img], model_target_class_ids[img], mrcnn_model.config)"
   ]
  },
  {
   "cell_type": "code",
   "execution_count": null,
   "metadata": {
    "ExecuteTime": {
     "end_time": "2019-02-08T11:31:37.422531Z",
     "start_time": "2019-02-08T11:31:37.074282Z"
    }
   },
   "outputs": [],
   "source": [
    "del build_pr_tensor_function, build_pr_tensor_np, build_pr_tensor_wrapper"
   ]
  },
  {
   "cell_type": "code",
   "execution_count": null,
   "metadata": {
    "ExecuteTime": {
     "end_time": "2019-02-08T11:31:40.255967Z",
     "start_time": "2019-02-08T11:31:38.617334Z"
    }
   },
   "outputs": [],
   "source": [
    "def build_pr_tensor_np(norm_output_rois, mrcnn_class, mrcnn_bbox, target_class_ids, config, verbose = 0):\n",
    "    '''\n",
    "    Split output_rois by class id, and add class_id and class_score \n",
    "    \n",
    "    input\n",
    "    ------\n",
    "    input_rois          Normalized Proposed ROIs   [Batch Size, NumRois, 4]\n",
    "    mrcnn_class\n",
    "    mrcnn_bbox \n",
    "\n",
    "    output:\n",
    "    -------\n",
    "    pred_tensor:        [ Bsz, Num_Classes, Num_Rois, 8: \n",
    "                          {y1, x1, y2, x2, class_id, score, sequence_id, score normalized per class}]                    \n",
    "                          y1,x1, y2,x2 are in image dimension format\n",
    "    '''\n",
    "#     verbose         = config.VERBOSE\n",
    "    batch_size      = config.BATCH_SIZE\n",
    "    num_classes     = config.NUM_CLASSES\n",
    "    h, w            = config.IMAGE_SHAPE[:2]\n",
    "    num_rois1       = config.TRAIN_ROIS_PER_IMAGE\n",
    "    num_rois2       = norm_output_rois.shape[1]    \n",
    "    scale           = np.array([h,w,h,w], dtype = np.float32)\n",
    "    det_per_class   = config.TRAIN_ROIS_PER_IMAGE\n",
    "    \n",
    "    CLASS_COLUMN      = 4\n",
    "    SCORE_COLUMN      = 5\n",
    "    DT_TYPE_COLUMN    = 6\n",
    "    SEQUENCE_COLUMN   = 7\n",
    "    NORM_SCORE_COLUMN = 8\n",
    "    \n",
    "    if verbose:\n",
    "        logt()\n",
    "        logt('  > build_pr_tensor()')\n",
    "        logt('    num_rois1  ', num_rois1 )\n",
    "        logt('    num_rois2  ', num_rois2 )\n",
    "        logt('    norm_input_rois ', norm_output_rois)\n",
    "        logt('    scale      ', scale)\n",
    "        logt()\n",
    "        logt('    mrcnn_class', mrcnn_class)\n",
    "        logt('    mrcnn_bbox ', mrcnn_bbox )\n",
    "        logt('    config.image_shape ', config.IMAGE_SHAPE)\n",
    "\n",
    "    #---------------------------------------------------------------------------\n",
    "    # Build a meshgrid for image id and bbox to use in gathering of bbox delta information \n",
    "    #---------------------------------------------------------------------------\n",
    "    bbox_idx = np.arange(config.TRAIN_ROIS_PER_IMAGE)\n",
    "    \n",
    "    #------------------------------------------------------------------------------------\n",
    "    # use the argmaxof each row to determine the dominating (predicted) class\n",
    "    #------------------------------------------------------------------------------------\n",
    "    pred_scores  = np.max(mrcnn_class, axis = -1, keepdims= True)\n",
    "    pred_classes = np.argmax(mrcnn_class, axis = -1)\n",
    "    pred_deltas  = mrcnn_bbox[bbox_idx, pred_classes]\n",
    "    logt('* pred_scores', pred_scores, verbose = verbose)\n",
    "    logt('* pred_classes', pred_classes, verbose = verbose)\n",
    "    logt('* pred_deltas', pred_deltas, verbose = verbose)\n",
    "    \n",
    "    ##------------------------------------------------------------------------------------\n",
    "    ## apply delta refinements to the rois,  based on deltas provided by the mrcnn head \n",
    "    ##------------------------------------------------------------------------------------\n",
    "    pred_deltas  *= config.BBOX_STD_DEV\n",
    "    output_rois   = norm_output_rois * scale\n",
    "    refined_rois  = utils.apply_box_deltas_np(output_rois, pred_deltas)\n",
    "    \n",
    "    ##   Clip refined boxes to image window        \n",
    "    clip_window   = np.array([0,0,h,w], dtype = np.float32)\n",
    "    refined_rois  = utils.clip_to_window_np(clip_window, refined_rois)\n",
    "    logt('clip widow', clip_window, verbose = verbose)\n",
    "    logt('refined rois',refined_rois, verbose = verbose)\n",
    "    logt('refined rois ', refined_rois, verbose = verbose)\n",
    "    \n",
    "    ##------------------------------------------------------------------------------------\n",
    "    ## Remove RoIs that have an area of zero \n",
    "    ## 31-01-2019 Added to prevent NaN that occur when delta refinement causes the \n",
    "    ## boxes coordiantes to generate a zero area bbox. \n",
    "    ##------------------------------------------------------------------------------------\n",
    "    roi_area           = (refined_rois[...,3] - refined_rois[...,1])*(refined_rois[...,2] - refined_rois[...,0]) > 0\n",
    "    roi_area_condition = (refined_rois[...,3] - refined_rois[...,1])*(refined_rois[...,2] - refined_rois[...,0]) > 0\n",
    "    nonzero_idx        = np.where(roi_area > 0)\n",
    "\n",
    "\n",
    "    clean_rois    = refined_rois[roi_area_condition]\n",
    "    clean_scores  = pred_scores[roi_area_condition]  \n",
    "    clean_classes = pred_classes[roi_area_condition]  \n",
    "    class_counts  = np.bincount(clean_classes, minlength=config.NUM_CLASSES)\n",
    "    first_neg_example = np.count_nonzero(target_class_ids)\n",
    "    \n",
    "    if verbose:\n",
    "        logt(' roi_area ', roi_area, verbose = verbose)\n",
    "        logt(' roi_area_condition ', roi_area_condition, verbose = verbose)\n",
    "        logt(' nonzero_idx   ', nonzero_idx, verbose = verbose)\n",
    "        logt(' clean_rois    ', clean_rois, verbose = verbose)\n",
    "        logt(' clean_scores  ', clean_scores, verbose = verbose)\n",
    "        logt(' clean_classes ', clean_classes, verbose = verbose)\n",
    "        logt(' class_counts  ', class_counts, verbose = verbose)\n",
    "        logt(' clean_classes ', clean_classes, verbose = verbose)\n",
    "        logt(' target_class_ids', target_class_ids, verbose = verbose)\n",
    "        logt(' first_neg_example', first_neg_example, verbose = verbose)\n",
    "\n",
    "    clean_classes_exp = np.expand_dims(clean_classes, -1)\n",
    "    \n",
    "    pos_array  = np.concatenate([ clean_rois       [:first_neg_example, :], \n",
    "                                  clean_classes_exp[:first_neg_example, :] ,\n",
    "                                  clean_scores     [:first_neg_example, :] ,\n",
    "                                  np.ones_like(clean_scores[:first_neg_example])], axis = -1)\n",
    "    \n",
    "    neg_array  = np.concatenate([ clean_rois       [first_neg_example:, :], \n",
    "                                  clean_classes_exp[first_neg_example:, :],\n",
    "                                  clean_scores     [first_neg_example:, :],\n",
    "                                  np.ones_like(clean_scores[first_neg_example:]) * -1 ], axis = -1)\n",
    "    \n",
    "    pos_class_counts  = np.bincount(clean_classes[:first_neg_example], minlength=config.NUM_CLASSES)\n",
    "    ttl_pos_examples  = pos_array.shape[0]\n",
    "    ttl_neg_examples  = neg_array.shape[0]\n",
    "    \n",
    "    \n",
    "    ## determine how many false examples should be assigned to each class\n",
    "    assign_neg_to_classes = ((pos_class_counts * ttl_neg_examples) /  ttl_pos_examples)\n",
    "    assign_negs = np.rint(assign_neg_to_classes).astype(np.int)\n",
    "\n",
    "    if verbose:\n",
    "        print('pos_class_counts: ', pos_class_counts, 'ttl ', ttl_pos_examples)\n",
    "    #     print(pos_array)\n",
    "        print(' neg_array ttl :', ttl_neg_examples)\n",
    "    #     print(neg_array)\n",
    "        print(' pos_class_counts: ', pos_class_counts, 'ttl ', ttl_pos_examples)\n",
    "        print(assign_negs.sum() == ttl_neg_examples, ' ttl_neg_examples: ', ttl_neg_examples,'  assign_negs     : ', assign_negs, 'sum : ', assign_negs.sum())   \n",
    "\n",
    "    ## Calculate IoUs between Positive and Negative examples \n",
    "    overlaps = utils.compute_overlaps(neg_array[:,:CLASS_COLUMN], pos_array[:, :CLASS_COLUMN])\n",
    "    overlaps_argsorts = np.argsort(overlaps, axis = 1)\n",
    "\n",
    "#     print(' overalps: ',overlaps.shape)\n",
    "#     print(overlaps)\n",
    "#     print('arg_max: ',np.argmax(overlaps, axis = 1))\n",
    "#     print('arg_min: ',np.argmin(overlaps, axis = 1))\n",
    "#     print('argsort \\n', overlaps_argsorts)\n",
    "    \n",
    "    assign_neg_bin_count = copy.deepcopy(assign_negs)\n",
    "    negs_assigned = 0\n",
    "    negs_not_assigned = assign_negs.sum()\n",
    "    neg_idx = 0\n",
    "    pos_indexes = np.arange(ttl_pos_examples)\n",
    "    \n",
    "    while neg_idx < ttl_neg_examples and negs_not_assigned:\n",
    "        for pos_idx in pos_indexes:\n",
    "            min_idx = overlaps_argsorts[neg_idx, pos_idx]\n",
    "            min_cls_id = clean_classes[min_idx]\n",
    "#             print('neg_idx {} pos_idx: {} min_idx: {} min_cls_id: {}  overlap: {}'.format(neg_idx, pos_idx, min_idx, min_cls_id, overlaps[neg_idx, min_idx]))\n",
    "            if assign_neg_bin_count[min_cls_id] > 0:\n",
    "#                 print('found non zero bin count for class', min_cls_id, ' bin is ', assign_neg_bin_count)\n",
    "                assign_neg_bin_count[min_cls_id] -= 1\n",
    "                negs_not_assigned  -= 1\n",
    "                break\n",
    "#         print('      Assign neg_array[{}] to class {}  bin is {} '.format(neg_idx, min_cls_id, assign_neg_bin_count))\n",
    "        neg_array[neg_idx, CLASS_COLUMN] = min_cls_id\n",
    "        negs_assigned += 1\n",
    "        neg_idx += 1\n",
    "        \n",
    "        \n",
    "#     print('While loop finisehd - negs_not_assigned :', negs_not_assigned, 'negs_assigned: ', negs_assigned)\n",
    "#     print()\n",
    "#     print('pos_class_counts: ', pos_class_counts, 'ttl ', ttl_pos_examples)\n",
    "#     print(pos_array)    \n",
    "#     print(' neg_array ttl :', ttl_neg_examples)\n",
    "#     print(neg_array)\n",
    "\n",
    "    pos_neg_array = np.vstack([pos_array, neg_array])\n",
    "    \n",
    "    ## Pad resulting array as needed ......\n",
    "    gap = config.TRAIN_ROIS_PER_IMAGE - pos_neg_array.shape[0]\n",
    "    assert gap >= 0\n",
    "    if gap > 0:\n",
    "        pos_neg_array = np.pad(pos_neg_array, [(0, gap), (0, 0)], 'constant', constant_values=0)\n",
    " \n",
    "    ## Add a sequence column to assist with sorting and keeing the order \n",
    "    sequence = np.expand_dims(np.arange(config.TRAIN_ROIS_PER_IMAGE,0,-1),-1)\n",
    "    pos_neg_array = np.hstack([pos_neg_array, sequence])\n",
    "#     print(' pos_neg_array ttl :', pos_neg_array.shape)\n",
    "#     print(pos_neg_array)\n",
    "      \n",
    "    ## Equivalent of scatter_nd\n",
    "    class_idx    = pos_neg_array[:,CLASS_COLUMN].astype(np.int32)\n",
    "    pred_scatter = np.zeros((num_classes, num_rois1, pos_neg_array.shape[-1]))\n",
    "    pred_scatter[class_idx, bbox_idx] = pos_neg_array[bbox_idx]\n",
    "    \n",
    "#     print('pred_scatter :', pred_scatter.shape)\n",
    "#     for i in range(pred_scatter.shape[0]):\n",
    "#         print('pred_scatter[',i,']')\n",
    "#         print(pred_scatter[i])\n",
    "\n",
    "    ## Normalization \n",
    "    normalizer   = np.amax(pred_scatter[:,:,SCORE_COLUMN], axis = -1, keepdims=True)\n",
    "    normalizer   = np.where(normalizer < 1.0e-8,  1.00, normalizer)    \n",
    "    norm_score   = pred_scatter[...,SCORE_COLUMN]/normalizer \n",
    "    pred_scatter = np.dstack([pred_scatter, norm_score])\n",
    "\n",
    "#     print(' normalizer: ',normalizer.shape)\n",
    "#     print(normalizer)\n",
    "#     print(' norm_score: ',norm_score.shape)\n",
    "#     print(norm_score)\n",
    "#     print(' pred_scatter ', pred_scatter.shape)\n",
    "              \n",
    "\n",
    "    ## sort by descending sequence id in each class \n",
    "    sort_inds = np.argsort(-pred_scatter[:,:, SEQUENCE_COLUMN])\n",
    "    pred_tensor = np.zeros_like(pred_scatter)\n",
    "    cls_ix, box_ix = np.indices(pred_tensor.shape[:2])\n",
    "    \n",
    "#     print(sort_inds.shape)\n",
    "#     print(sort_inds)\n",
    "#     print(' pred_tensor: ', pred_tensor.shape)\n",
    "#     print('cls_ix', cls_ix.shape)\n",
    "#     print(cls_ix)\n",
    "#     print('box_ix', box_ix.shape)\n",
    "#     print(box_ix)\n",
    "#     print('sort_inds[cls_ix, box_ix]')\n",
    "#     print(sort_inds[cls_ix, box_ix])\n",
    "    \n",
    "    pred_tensor[cls_ix, box_ix] = pred_scatter[cls_ix, sort_inds[cls_ix, box_ix] ]    \n",
    "#     for i in range(pred_tensor.shape[0]):\n",
    "#         print('pred_tensor[',i,']')\n",
    "#         print(pred_tensor[i])\n",
    "        \n",
    "         \n",
    "#     logt('sort_inds      ', sort_inds  , verbose = verbose)\n",
    "#     logt('class_ix       ', cls_ix , verbose = verbose)\n",
    "#     logt('bbox_ix        ', box_ix , verbose = verbose)\n",
    "#     logt('pred_tensor    ', pred_tensor, verbose = verbose)        \n",
    "    return pred_tensor"
   ]
  },
  {
   "cell_type": "code",
   "execution_count": null,
   "metadata": {
    "ExecuteTime": {
     "end_time": "2019-02-08T11:32:54.552916Z",
     "start_time": "2019-02-08T11:32:54.209672Z"
    }
   },
   "outputs": [],
   "source": [
    "def build_pr_tensor_wrapper(norm_output_rois, mrcnn_class, mrcnn_bbox, target_class_ids):\n",
    "    pr_tensor_batch = []\n",
    "    for b in range(mrcnn_model.config.BATCH_SIZE):\n",
    "\n",
    "        pr_tensor = build_pr_tensor_np(norm_output_rois[b], mrcnn_class[b], mrcnn_bbox[b], target_class_ids[b], mrcnn_model.config, verbose = 0)\n",
    "        pr_tensor_batch.append(pr_tensor)\n",
    "\n",
    "    pr_tensor_batch = np.array(pr_tensor_batch).astype(np.float32)\n",
    "    return pr_tensor_batch\n",
    "\n"
   ]
  },
  {
   "cell_type": "code",
   "execution_count": null,
   "metadata": {
    "ExecuteTime": {
     "end_time": "2019-02-08T11:32:55.563861Z",
     "start_time": "2019-02-08T11:32:55.204607Z"
    },
    "hideCode": false,
    "hideOutput": true,
    "scrolled": true
   },
   "outputs": [],
   "source": [
    "# del sess\n",
    "# del mrcnn_bbox, mrcnn_class, norm_input_rois\n",
    "import tensorflow as tf\n",
    "\n",
    "# from mrcnn.chm_layer import build_pr_tensor, build_pr_heatmap\n",
    "# from mrcnn.chm_layer_tgt import build_gt_tensor, build_gt_heatmap\n",
    "norm_output_rois  = tf.identity(model_output_rois)\n",
    "norm_input_rois  = tf.identity(model_output_rois)\n",
    "mrcnn_class      = tf.identity(model_mrcnn_class)\n",
    "mrcnn_bbox       = tf.identity(model_mrcnn_bbox)\n",
    "target_class_ids = tf.identity(model_target_class_ids)\n",
    "roi_gt_boxes     = tf.identity(model_roi_gt_boxes)\n",
    "config           = mrcnn_model.config\n",
    " "
   ]
  },
  {
   "cell_type": "code",
   "execution_count": null,
   "metadata": {
    "ExecuteTime": {
     "end_time": "2019-02-08T11:32:55.853876Z",
     "start_time": "2019-02-08T11:32:55.565863Z"
    }
   },
   "outputs": [],
   "source": [
    "pr_tensor1 = tf.py_func(build_pr_tensor_wrapper, [norm_output_rois, mrcnn_class, mrcnn_bbox, target_class_ids], tf.float32, name=\"pr_tensor\")\n",
    " "
   ]
  },
  {
   "cell_type": "code",
   "execution_count": null,
   "metadata": {
    "ExecuteTime": {
     "end_time": "2019-02-08T11:33:36.476891Z",
     "start_time": "2019-02-08T11:33:36.122574Z"
    },
    "scrolled": false
   },
   "outputs": [],
   "source": [
    "sess = KB.get_session()\n",
    "del r_pred_tensor1\n",
    "with sess.as_default():\n",
    "    r_pr_tensor1  = pr_tensor1.eval()"
   ]
  },
  {
   "cell_type": "code",
   "execution_count": null,
   "metadata": {
    "ExecuteTime": {
     "end_time": "2019-02-08T11:33:38.714105Z",
     "start_time": "2019-02-08T11:33:38.385870Z"
    }
   },
   "outputs": [],
   "source": [
    "r_pr_tensor1.shape"
   ]
  },
  {
   "cell_type": "markdown",
   "metadata": {
    "hideCode": false,
    "hidePrompt": false
   },
   "source": [
    "##  Tensorflow `build_pr_tensor()` , `build_gt_tensor()`"
   ]
  },
  {
   "cell_type": "markdown",
   "metadata": {
    "hideCode": false,
    "hidePrompt": false
   },
   "source": [
    "- pick the class with highest probability from mrcnn_class, and it's corresponding bounding box delta\n",
    "- apply the deltas to the output_rois (output_roi)\n",
    "- build tensor separating bounding boxes by class_id\n",
    "- normalize scores per class\n",
    "- sort based on sequence number \n",
    " "
   ]
  },
  {
   "cell_type": "markdown",
   "metadata": {},
   "source": [
    "### `build_pr_tensor()`"
   ]
  },
  {
   "cell_type": "code",
   "execution_count": 38,
   "metadata": {
    "ExecuteTime": {
     "end_time": "2019-02-08T12:34:50.604190Z",
     "start_time": "2019-02-08T12:34:50.328613Z"
    },
    "hideCode": false,
    "hideOutput": true,
    "scrolled": true
   },
   "outputs": [],
   "source": [
    "# del sess\n",
    "# del mrcnn_bbox, mrcnn_class, norm_input_rois\n",
    "import tensorflow as tf\n",
    "from mrcnn.utils import logt\n",
    "# from mrcnn.chm_layer import build_pr_tensor, build_pr_heatmap\n",
    "# from mrcnn.chm_layer_tgt import build_gt_tensor, build_gt_heatmap\n",
    "\n",
    "mrcnn_bbox       = tf.identity(model_mrcnn_bbox)\n",
    "mrcnn_class      = tf.identity(model_mrcnn_class)\n",
    "norm_input_rois  = tf.identity(model_output_rois)\n",
    "target_class_ids = tf.identity(model_target_class_ids)\n",
    "roi_gt_boxes     = tf.identity(model_roi_gt_boxes)\n",
    "config           = mrcnn_model.config\n",
    " "
   ]
  },
  {
   "cell_type": "code",
   "execution_count": 64,
   "metadata": {
    "ExecuteTime": {
     "end_time": "2019-02-08T12:53:08.081998Z",
     "start_time": "2019-02-08T12:53:06.817753Z"
    }
   },
   "outputs": [
    {
     "name": "stdout",
     "output_type": "stream",
     "text": [
      "\n",
      "  > build_pr_tensor()\n",
      "    num_rois               :  32\n",
      "    norm_input_rois.shape  :  <class 'tensorflow.python.framework.ops.Tensor'> (2, 32, 4)\n",
      "    scale.shape            :  <class 'tensorflow.python.framework.ops.Tensor'> (4,) (4,)\n",
      "    dup_scale.shape        :  <class 'tensorflow.python.framework.ops.Tensor'> (2, 32, 4) (2, 32, 4)\n",
      "\n",
      "    mrcnn_class shape      :  (2, 32, 7)\n",
      "    mrcnn_bbox.shape       :  (2, 32, 7, 4) (2, 32, 7, 4)\n",
      "    config image shape     :  [       128        128          3] h: 128 w: 128\n",
      "    pred_scores                    :  shape: (2, 32, 1)            KB.shape:(2, 32, 1)            Keras Tensor: False\n",
      "    pred_classes                   :  shape: (2, 32)               KB.shape:(2, 32)               Keras Tensor: False\n",
      "    pred_classes                   :  shape: (2, 32, 1)            KB.shape:(2, 32, 1)            Keras Tensor: False\n",
      "    refined rois                   :  shape: (2, 32, 4)            KB.shape:(2, 32, 4)            Keras Tensor: False\n",
      "    input_rois                     :  shape: (2, 32, 4)            KB.shape:(2, 32, 4)            Keras Tensor: False\n",
      "    refined_rois                   :  shape: (2, 32, 4)            KB.shape:(2, 32, 4)            Keras Tensor: False\n",
      "    refined_roi_area               :  shape: (2, 32)               KB.shape:(2, 32)               Keras Tensor: False\n",
      "    nonzero_ix                     :  shape: (?, 2)                KB.shape:(None, 2)             Keras Tensor: False\n",
      "    clean_rois                     :  shape: (2, 32, 4)            KB.shape:(2, 32, 4)            Keras Tensor: False\n",
      "    clean_scores                   :  shape: (2, 32, 1)            KB.shape:(2, 32, 1)            Keras Tensor: False\n",
      "    clean_classes                  :  shape: (2, 32, 1)            KB.shape:(2, 32, 1)            Keras Tensor: False\n",
      "    sequence                       :  shape: (2, 32, 1)            KB.shape:(2, 32, 1)            Keras Tensor: False\n",
      "    flag:                          :  shape: (2, 32, 1)            KB.shape:(2, 32, 1)            Keras Tensor: False\n",
      "    pred_array                     :  shape: (2, 32, 8)            KB.shape:(2, 32, 8)            Keras Tensor: False\n",
      "    scatter_ind                    :  shape: (2, 32, 3)            KB.shape:(2, 32, 3)            Keras Tensor: False\n",
      "    pred_scatter                   :  shape: (2, 7, 32, 8)         KB.shape:(2, 7, 32, 8)         Keras Tensor: False\n",
      "    - Add normalized score --      \n",
      "    normalizer                     :  shape: (2, 7, 1)             KB.shape:(2, 7, 1)             Keras Tensor: False\n",
      "    norm_score                     :  shape: (2, 7, 32, 1)         KB.shape:(2, 7, 32, 1)         Keras Tensor: False\n",
      "    pred_scatter                   :  shape: (2, 7, 32, 9)         KB.shape:(2, 7, 32, 9)         Keras Tensor: False\n",
      "    sort_inds                      :  shape: (2, 7, 32)            KB.shape:(2, 7, 32)            Keras Tensor: False\n",
      "    class_grid                     :  shape: (2, 7, 32)            KB.shape:(2, 7, 32)            Keras Tensor: False\n",
      "    batch_grid                     :  shape: (2, 7, 32)            KB.shape:(2, 7, 32)            Keras Tensor: False\n",
      "    roi_grid shape                 :  shape: (2, 7, 32)            KB.shape:(2, 7, 32)            Keras Tensor: False\n",
      "    gather_inds                    :  shape: (2, 7, 32, 3)         KB.shape:(2, 7, 32, 3)         Keras Tensor: False\n",
      "    pred_tensor                    :  shape: (2, 7, 32, 9)         KB.shape:(2, 7, 32, 9)         Keras Tensor: False\n"
     ]
    }
   ],
   "source": [
    "# def build_pr_tensor(norm_input_rois, mrcnn_class, mrcnn_bbox, config):\n",
    "'''\n",
    "Split output_rois by class id, and add class_id and class_score \n",
    "\n",
    "input\n",
    "------\n",
    "input_rois          Normalized Proposed ROIs   [Batch Size, NumRois, 4]\n",
    "mrcnn_class\n",
    "mrcnn_bbox \n",
    "\n",
    "\n",
    "output:\n",
    "-------\n",
    "pred_tensor:        [ Bsz, Num_Classes, Num_Rois, 8: \n",
    "                        {y1, x1, y2, x2, class_id, score, sequence_id, score normalized per class}]\n",
    "\n",
    "                    y1,x1, y2,x2 are in image dimension format\n",
    "'''\n",
    "config = mrcnn_model.config\n",
    "verbose         = config.VERBOSE\n",
    "batch_size      = config.BATCH_SIZE\n",
    "num_classes     = config.NUM_CLASSES\n",
    "h, w            = config.IMAGE_SHAPE[:2]\n",
    "# num_rois        = config.TRAIN_ROIS_PER_IMAGE\n",
    "num_rois        = KB.int_shape(norm_input_rois)[1]\n",
    "scale           = tf.constant([h,w,h,w], dtype = tf.float32)\n",
    "# dup_scale       = tf.reshape(tf.tile(scale, [num_rois]),[num_rois,-1])\n",
    "dup_scale       = scale * tf.ones([batch_size, num_rois, 1], dtype = 'float32')\n",
    "det_per_class   = config.TRAIN_ROIS_PER_IMAGE\n",
    "\n",
    "if verbose:\n",
    "    print()\n",
    "    print('  > build_pr_tensor()')\n",
    "    print('    num_rois               : ', num_rois )\n",
    "    print('    norm_input_rois.shape  : ', type(norm_input_rois), KB.int_shape(norm_input_rois))\n",
    "    print('    scale.shape            : ', type(scale), KB.int_shape(scale), scale.get_shape())\n",
    "    print('    dup_scale.shape        : ', type(dup_scale), KB.int_shape(dup_scale), dup_scale.get_shape())\n",
    "    print()\n",
    "    print('    mrcnn_class shape      : ', KB.int_shape(mrcnn_class))\n",
    "    print('    mrcnn_bbox.shape       : ', KB.int_shape(mrcnn_bbox), mrcnn_bbox.shape )\n",
    "    print('    config image shape     : ', config.IMAGE_SHAPE, 'h:',h,'w:',w)\n",
    "\n",
    "#---------------------------------------------------------------------------\n",
    "# Build a meshgrid for image id and bbox to use in gathering of bbox delta information \n",
    "#---------------------------------------------------------------------------\n",
    "batch_grid, bbox_grid = tf.meshgrid( tf.range(batch_size, dtype=tf.int32),\n",
    "                                     tf.range(num_rois, dtype=tf.int32), indexing = 'ij' )\n",
    "\n",
    "#------------------------------------------------------------------------------------\n",
    "# use the argmaxof each row to determine the dominating (predicted) class\n",
    "#------------------------------------------------------------------------------------\n",
    "pred_classes = tf.argmax( mrcnn_class,axis=-1,output_type = tf.int32)\n",
    "pred_classes_exp = tf.to_float(tf.expand_dims(pred_classes ,axis=-1))    \n",
    "\n",
    "gather_ind   = tf.stack([batch_grid , bbox_grid, pred_classes],axis = -1)\n",
    "pred_scores  = tf.gather_nd(mrcnn_class, gather_ind)\n",
    "pred_scores  = tf.expand_dims(pred_scores, axis = -1)    \n",
    "pred_deltas  = tf.gather_nd(mrcnn_bbox , gather_ind)\n",
    "logt('pred_scores', pred_scores)\n",
    "logt('pred_classes',pred_classes)\n",
    "logt('pred_classes',pred_classes_exp)\n",
    "\n",
    "##------------------------------------------------------------------------------------\n",
    "## apply delta refinements to the rois,  based on deltas provided by the mrcnn head \n",
    "##------------------------------------------------------------------------------------\n",
    "pred_deltas  = tf.multiply(pred_deltas, config.BBOX_STD_DEV, name = 'pred_deltas')\n",
    "input_rois   = tf.multiply(norm_input_rois , dup_scale )\n",
    "refined_rois = utils.apply_box_deltas_tf(input_rois, pred_deltas)\n",
    "\n",
    "##   Clip refined boxes to image window    \n",
    "window = tf.constant([[0,0,h,w]], dtype = tf.float32)\n",
    "refined_rois  = utils.clip_to_window_tf( window, refined_rois)\n",
    "\n",
    "logt('refined rois ', refined_rois, verbose = verbose)\n",
    "logt('input_rois   ', input_rois  , verbose = verbose)\n",
    "logt('refined_rois ', refined_rois, verbose = verbose)\n",
    "\n",
    "##------------------------------------------------------------------------------------\n",
    "## 31-01-2019 Added to prevent NaN that occur when delta refinement causes the \n",
    "## boxes coordiantes to generate a zero area bbox. \n",
    "##------------------------------------------------------------------------------------\n",
    "refined_roi_area = (refined_rois[...,3] - refined_rois[...,1])*(refined_rois[...,2] - refined_rois[...,0])\n",
    "nonzero_ix = tf.where(refined_roi_area > 0)\n",
    "logt('refined_roi_area ', refined_roi_area, verbose = verbose)\n",
    "logt(' nonzero_ix', nonzero_ix, verbose = verbose)\n",
    "\n",
    "nonzero_rois    = tf.gather_nd( refined_rois, nonzero_ix) \n",
    "nonzero_scores  = tf.gather_nd( pred_scores , nonzero_ix) \n",
    "nonzero_classes = tf.gather_nd( pred_classes_exp , nonzero_ix) \n",
    "\n",
    "clean_rois      = tf.scatter_nd(nonzero_ix, nonzero_rois  , refined_rois.shape)\n",
    "clean_scores    = tf.scatter_nd(nonzero_ix, nonzero_scores, pred_scores.shape)\n",
    "clean_classes   = tf.scatter_nd(nonzero_ix, nonzero_classes, pred_classes_exp.shape)\n",
    "logt('clean_rois   ', clean_rois, verbose = verbose)\n",
    "logt('clean_scores ', clean_scores, verbose = verbose)\n",
    "logt('clean_classes ', clean_classes, verbose = verbose)\n",
    "\n",
    "##------------------------------------------------------------------------------------\n",
    "##  Build Pred_Scatter: tensor of bounding boxes by Image / Class\n",
    "##------------------------------------------------------------------------------------\n",
    "## sequence id is used to preserve the order of rois as passed to this routine\n",
    "##  This may be important in the post matching process but for now it's not being used.\n",
    "## 22-09-18 : We need to use this sequence as the sort process based on score will cause\n",
    "##            mismatch between the bboxes from output_rois and roi_gt_bboxes\n",
    "##------------------------------------------------------------------------------------\n",
    "sequence = tf.ones_like(pred_classes, dtype = tf.int32) * (bbox_grid[...,::-1] + 1) \n",
    "sequence = tf.to_float(tf.expand_dims(sequence, axis = -1))   \n",
    "logt('sequence ', sequence, verbose = verbose)\n",
    "\n",
    "flag = tf.where(clean_classes >3, tf.ones_like(clean_classes, dtype=tf.float32), tf.zeros_like(clean_classes, dtype=tf.float32))\n",
    "logt('flag:', flag)\n",
    "##--------------------------------------------------------------------------------------------------\n",
    "##  Build array of bbox coordinates, pred_classes, scores, and sequence ids\n",
    "##  Scatter by class_id to create pred_scatter (Batch_Sz, Num_classes, Num_detections, num_columns)\n",
    "##--------------------------------------------------------------------------------------------------\n",
    "# pred_array  = tf.concat([ refined_rois, pred_classes_exp , pred_scores, sequence],\n",
    "                        # axis=-1, name = 'pred_array')\n",
    "## 31-01-2019: Replaced above line with following line to insert clean roi and scores:\n",
    "##-----------------------------------------------------------------------------------\n",
    "pred_array  = tf.concat([ clean_rois, clean_classes , clean_scores , flag, sequence], axis=-1, name = 'pred_array')\n",
    "\n",
    "\n",
    "scatter_ind = tf.stack([batch_grid , pred_classes, bbox_grid],axis = -1)\n",
    "pred_scatt  = tf.scatter_nd(scatter_ind, pred_array, [batch_size, num_classes, num_rois, pred_array.shape[-1]])\n",
    "logt('pred_array   ', pred_array, verbose = verbose)\n",
    "logt('scatter_ind  ', scatter_ind, verbose = verbose)\n",
    "logt('pred_scatter ', pred_scatt, verbose = verbose)\n",
    "\n",
    "##--------------------------------------------------------------------------------------------\n",
    "##  Apply a per class score normalization using the score column (COLUMN 5)\n",
    "##--------------------------------------------------------------------------------------------\n",
    "normalizer   = tf.reduce_max(pred_scatt[...,5], axis = -1, keepdims=True)\n",
    "normalizer   = tf.where(normalizer < 1.0e-15,  tf.ones_like(normalizer), normalizer)\n",
    "norm_score   = tf.expand_dims(pred_scatt[...,5]/normalizer, axis = -1)\n",
    "pred_scatt   = tf.concat([pred_scatt, norm_score],axis = -1)   \n",
    "logt('- Add normalized score --\\n', verbose = verbose)\n",
    "logt('normalizer   ', normalizer, verbose = verbose)\n",
    "logt('norm_score   ', norm_score, verbose = verbose)\n",
    "logt('pred_scatter ', pred_scatt, verbose = verbose)\n",
    "\n",
    "##------------------------------------------------------------------------------------\n",
    "## Sort pred_scatt in each class dimension based on sequence number, to push valid  \n",
    "##      to top for each class dimension\n",
    "##\n",
    "## 22-09-2018: sort is now based on sequence which was added as last column\n",
    "##             (previously sort was on bbox scores)\n",
    "##------------------------------------------------------------------------------------\n",
    "_, sort_inds = tf.nn.top_k(pred_scatt[...,6], k=pred_scatt.shape[2])\n",
    "\n",
    "# build indexes to gather rows from pred_scatter based on sort order    \n",
    "class_grid, batch_grid, roi_grid = tf.meshgrid(tf.range(num_classes),tf.range(batch_size), tf.range(num_rois))\n",
    "\n",
    "gather_inds  = tf.stack([batch_grid , class_grid, sort_inds],axis = -1)\n",
    "pred_tensor  = tf.gather_nd(pred_scatt, gather_inds, name = 'pred_tensor')    \n",
    "\n",
    "logt('sort_inds      ', sort_inds  , verbose = verbose)\n",
    "logt('class_grid     ', class_grid , verbose = verbose)\n",
    "logt('batch_grid     ', batch_grid , verbose = verbose)\n",
    "logt('roi_grid shape ', roi_grid   , verbose = verbose)\n",
    "logt('gather_inds    ', gather_inds, verbose = verbose)\n",
    "logt('pred_tensor    ', pred_tensor, verbose = verbose)\n",
    "\n",
    "#     return  pred_tensor"
   ]
  },
  {
   "cell_type": "markdown",
   "metadata": {},
   "source": [
    "## setup tensors and call `build_pr_tensor()` "
   ]
  },
  {
   "cell_type": "markdown",
   "metadata": {},
   "source": [
    "### Evaluate results from `build_heatmap()`"
   ]
  },
  {
   "cell_type": "code",
   "execution_count": 42,
   "metadata": {
    "ExecuteTime": {
     "end_time": "2019-02-08T12:34:58.489947Z",
     "start_time": "2019-02-08T12:34:58.197249Z"
    }
   },
   "outputs": [],
   "source": [
    "np_format = {}\n",
    "np_format['float'] = lambda x: \"%10.4f\" % x\n",
    "np_format['int']   = lambda x: \"%10d\" % x\n",
    "np.set_printoptions(linewidth=195, precision=4, floatmode='fixed', threshold =10000, formatter = np_format)"
   ]
  },
  {
   "cell_type": "code",
   "execution_count": 61,
   "metadata": {
    "ExecuteTime": {
     "end_time": "2019-02-08T12:48:42.311324Z",
     "start_time": "2019-02-08T12:48:41.074475Z"
    },
    "hideCode": false,
    "hideOutput": false,
    "scrolled": false
   },
   "outputs": [],
   "source": [
    "sess = KB.get_session()\n",
    "with sess.as_default():\n",
    "    r_refined_rois = refined_rois.eval()\n",
    "    r_pred_tensor  = pred_tensor.eval()\n",
    "#     r_pr_tensor1 = pr_tensor1.eval?()\n",
    "    r_nonzero_ix   = nonzero_ix.eval()\n",
    "    r_refined_roi_area  = refined_roi_area.eval()\n",
    "    r_nonzero_rois = nonzero_rois.eval()\n",
    "    r_nonzero_scores = nonzero_scores.eval()\n",
    "    r_clean_rois = clean_rois.eval()\n",
    "    r_clean_scores = clean_scores.eval()\n",
    "    r_bbox_grid = bbox_grid.eval()\n",
    "    r_flag      = flag.eval()\n",
    "#     r_gt_heatmap        = gt_heatmap.eval()\n",
    "#     r_gt_heatmap_scores = gt_heatmap_scores.eval()\n",
    "    \n",
    "#     r_pr_heatmap_norm   = gauss_heatmap_sum_normalized.eval()\n",
    "#     r_pr_heatmap_max        = gauss_heatmap_max.eval()\n",
    "#     r_pr_heatmap_max_norm   = gauss_heatmap_max_normalized.eval()\n"
   ]
  },
  {
   "cell_type": "markdown",
   "metadata": {},
   "source": [
    "### display some results"
   ]
  },
  {
   "cell_type": "code",
   "execution_count": 62,
   "metadata": {
    "ExecuteTime": {
     "end_time": "2019-02-08T12:48:43.027327Z",
     "start_time": "2019-02-08T12:48:42.725860Z"
    }
   },
   "outputs": [
    {
     "data": {
      "text/plain": [
       "array([[[    1.0000],\n",
       "        [    0.0000],\n",
       "        [    0.0000],\n",
       "        [    0.0000],\n",
       "        [    0.0000],\n",
       "        [    1.0000],\n",
       "        [    1.0000],\n",
       "        [    0.0000],\n",
       "        [    0.0000],\n",
       "        [    1.0000],\n",
       "        [    0.0000],\n",
       "        [    0.0000],\n",
       "        [    0.0000],\n",
       "        [    0.0000],\n",
       "        [    0.0000],\n",
       "        [    0.0000],\n",
       "        [    0.0000],\n",
       "        [    0.0000],\n",
       "        [    0.0000],\n",
       "        [    0.0000],\n",
       "        [    0.0000],\n",
       "        [    0.0000],\n",
       "        [    0.0000],\n",
       "        [    0.0000],\n",
       "        [    0.0000],\n",
       "        [    0.0000],\n",
       "        [    0.0000],\n",
       "        [    0.0000],\n",
       "        [    0.0000],\n",
       "        [    0.0000],\n",
       "        [    0.0000],\n",
       "        [    0.0000]],\n",
       "\n",
       "       [[    1.0000],\n",
       "        [    0.0000],\n",
       "        [    1.0000],\n",
       "        [    0.0000],\n",
       "        [    0.0000],\n",
       "        [    1.0000],\n",
       "        [    1.0000],\n",
       "        [    1.0000],\n",
       "        [    0.0000],\n",
       "        [    0.0000],\n",
       "        [    0.0000],\n",
       "        [    0.0000],\n",
       "        [    0.0000],\n",
       "        [    0.0000],\n",
       "        [    0.0000],\n",
       "        [    0.0000],\n",
       "        [    0.0000],\n",
       "        [    0.0000],\n",
       "        [    0.0000],\n",
       "        [    0.0000],\n",
       "        [    0.0000],\n",
       "        [    0.0000],\n",
       "        [    0.0000],\n",
       "        [    0.0000],\n",
       "        [    0.0000],\n",
       "        [    0.0000],\n",
       "        [    0.0000],\n",
       "        [    0.0000],\n",
       "        [    0.0000],\n",
       "        [    0.0000],\n",
       "        [    0.0000],\n",
       "        [    0.0000]]], dtype=float32)"
      ]
     },
     "execution_count": 62,
     "metadata": {},
     "output_type": "execute_result"
    }
   ],
   "source": [
    "r_flag"
   ]
  },
  {
   "cell_type": "code",
   "execution_count": null,
   "metadata": {
    "ExecuteTime": {
     "end_time": "2019-01-31T20:17:49.708897Z",
     "start_time": "2019-01-31T20:17:49.645046Z"
    }
   },
   "outputs": [],
   "source": [
    "print(r_refined_roi_area)\n",
    "print(r_cleaned_up.shape)\n",
    "# print(r_cleaned_up)\n",
    "print(r_clean_rois.shape)\n",
    "for i  in range(32):\n",
    "    print( r_refined_rois[0,i],r_clean_rois[0,i], '  ', r_clean_scores[0,i])\n",
    "\n",
    "    "
   ]
  },
  {
   "cell_type": "code",
   "execution_count": null,
   "metadata": {
    "ExecuteTime": {
     "end_time": "2019-01-31T20:16:15.707054Z",
     "start_time": "2019-01-31T20:16:15.653451Z"
    },
    "hideCode": false,
    "hideOutput": false
   },
   "outputs": [],
   "source": [
    "print(r_refined_rois.shape)\n",
    "# print(r_refined_rois[0])\n",
    "for j in r_refined_rois[0]:\n",
    "    print(j , (j[2]-j[0]) *(j[3]-j[1]))  "
   ]
  },
  {
   "cell_type": "markdown",
   "metadata": {},
   "source": [
    "### `pr_tensor`"
   ]
  },
  {
   "cell_type": "code",
   "execution_count": null,
   "metadata": {},
   "outputs": [],
   "source": [
    "[[ 34.756   22.603   73.5572  46.0384   4.       0.7223   1.      32.    ]\n",
    " [ 34.2326  26.2107  75.8833  54.8379   4.       0.6746   1.      31.    ]\n",
    " [ 37.6727  24.0232  66.7437  51.6863   4.       0.9999   1.      30.    ]\n",
    " [ 35.1535  24.4942  66.0352  50.2473   4.       0.9999   1.      29.    ]\n",
    " [ 64.4614  61.5067  79.3424  99.003    2.       0.9994   1.      28.    ]\n",
    " [ 16.9717  12.3936  30.3897  75.9108   0.       0.9203   1.      27.    ]\n",
    " [ 11.9953  18.1776  24.7865  32.521    3.       0.915    1.      26.    ]\n",
    " [ 69.5654  50.3869  87.828   85.5339   2.       0.4976   1.      25.    ]\n",
    " [ 21.4709  12.7948  39.2978  85.3833   6.       0.9762   1.      24.    ]\n",
    " [ 67.4057  47.97    82.772   89.1043   2.       0.5823   1.      23.    ]\n",
    " [  0.       0.     128.      26.0628   4.       0.9959  -1.      22.    ]\n",
    " [ 69.482   73.422  118.4129 104.0467   4.       0.9999  -1.      21.    ]\n",
    " [  6.0818   0.     128.      28.5235   2.       0.6082  -1.      20.    ]\n",
    " [ 12.8568   0.     125.5684  47.6132   2.       0.9895  -1.      19.    ]\n",
    " [ 19.6556   0.     128.      55.8785   2.       0.9899  -1.      18.    ]\n",
    " [  0.       0.     128.      27.0747   2.       0.9988  -1.      17.    ]\n",
    " [ 36.986   53.7815  72.9014  79.5165   4.       1.      -1.      16.    ]\n",
    " [ 26.3791   0.     128.      32.7993   2.       0.9985  -1.      15.    ]\n",
    " [ 33.1078  56.2936  85.1214 107.172    4.       0.8693  -1.      14.    ]\n",
    " [ 20.7472   0.      38.9797  55.6493   2.       0.9981  -1.      13.    ]\n",
    " [ 34.8291  25.9397 111.9001  75.3596   0.       0.8929  -1.      12.    ]\n",
    " [  3.3309   0.     113.7789  17.6689   4.       0.9852  -1.      11.    ]\n",
    " [ 55.6239  54.7176  81.5061  71.2276   4.       0.9611  -1.      10.    ]\n",
    " [ 25.2435   0.     128.      13.7198   4.       0.9964  -1.       9.    ]\n",
    " [ 27.7913  39.004   72.1212  74.5679   3.       0.997   -1.       8.    ]\n",
    " [ 29.3948  28.689   64.9529  64.6546   3.       0.9663  -1.       7.    ]\n",
    " [ 57.5903   6.3152  80.655   48.4083   0.       0.9859  -1.       6.    ]\n",
    " [  9.7643   0.      91.6548  82.9211   4.       0.7419  -1.       5.    ]\n",
    " [ 67.2818  20.9807  97.654   37.7549   6.       0.5232  -1.       4.    ]\n",
    " [ 15.4455   0.     111.9389  30.1166   6.       0.7366  -1.       3.    ]\n",
    " [  0.       0.       0.       0.       0.       0.       0.       2.    ]\n",
    " [  0.       0.       0.       0.       0.       0.       0.       1.    ]]"
   ]
  },
  {
   "cell_type": "code",
   "execution_count": 63,
   "metadata": {
    "ExecuteTime": {
     "end_time": "2019-02-08T12:49:02.355287Z",
     "start_time": "2019-02-08T12:49:02.055969Z"
    },
    "scrolled": false
   },
   "outputs": [
    {
     "name": "stdout",
     "output_type": "stream",
     "text": [
      "\n",
      "[[    0.0000     0.0000     0.0000     0.0000     0.0000     0.0000     0.0000     0.0000     0.0000]\n",
      " [    0.0000     0.0000     0.0000     0.0000     0.0000     0.0000     0.0000     0.0000     0.0000]\n",
      " [    0.0000     0.0000     0.0000     0.0000     0.0000     0.0000     0.0000     0.0000     0.0000]\n",
      " [    0.0000     0.0000     0.0000     0.0000     0.0000     0.0000     0.0000     0.0000     0.0000]\n",
      " [    0.0000     0.0000     0.0000     0.0000     0.0000     0.0000     0.0000     0.0000     0.0000]\n",
      " [    0.0000     0.0000     0.0000     0.0000     0.0000     0.0000     0.0000     0.0000     0.0000]\n",
      " [    0.0000     0.0000     0.0000     0.0000     0.0000     0.0000     0.0000     0.0000     0.0000]\n",
      " [    0.0000     0.0000     0.0000     0.0000     0.0000     0.0000     0.0000     0.0000     0.0000]\n",
      " [    0.0000     0.0000     0.0000     0.0000     0.0000     0.0000     0.0000     0.0000     0.0000]\n",
      " [    0.0000     0.0000     0.0000     0.0000     0.0000     0.0000     0.0000     0.0000     0.0000]\n",
      " [   43.2228    17.5299    91.6051    48.9317     0.0000     0.6751     0.0000    22.0000     0.6751]\n",
      " [   39.2709     7.3330   123.7655    77.2704     0.0000     0.9953     0.0000    21.0000     0.9954]\n",
      " [   17.9640    23.9256    39.8048    90.4359     0.0000     0.9872     0.0000    20.0000     0.9872]\n",
      " [   32.4950     0.0000    70.7789    18.7558     0.0000     0.9996     0.0000    19.0000     0.9996]\n",
      " [   24.0674     7.7265    65.5289    62.7717     0.0000     0.9974     0.0000    18.0000     0.9974]\n",
      " [   27.7346     0.0000    79.4879    52.5973     0.0000     0.9939     0.0000    17.0000     0.9939]\n",
      " [   10.1826     8.1220    22.5740    75.5469     0.0000     1.0000     0.0000    16.0000     1.0000]\n",
      " [   31.4238    67.8364    56.2885    99.3492     0.0000     0.9853     0.0000    15.0000     0.9854]\n",
      " [   21.8318     0.0000    68.4723    72.0021     0.0000     0.9667     0.0000    14.0000     0.9667]\n",
      " [   20.6770     0.0000   128.0000    51.1092     0.0000     0.9953     0.0000    13.0000     0.9953]\n",
      " [   35.4315     0.0000   128.0000    58.0310     0.0000     0.9982     0.0000    12.0000     0.9982]\n",
      " [   27.3018    26.9533    47.6016    72.3451     0.0000     0.9985     0.0000    11.0000     0.9985]\n",
      " [    6.7870     7.7848   128.0000    61.5786     0.0000     0.9985     0.0000    10.0000     0.9985]\n",
      " [   16.2808    12.8227    98.4397    51.4742     0.0000     0.9829     0.0000     9.0000     0.9829]\n",
      " [   26.9006     0.0000    83.9581    20.4711     0.0000     1.0000     0.0000     8.0000     1.0000]\n",
      " [    5.0994    27.3481    19.2848    85.7001     0.0000     0.9997     0.0000     7.0000     0.9997]\n",
      " [   23.7866     0.0000    78.9168    94.5628     0.0000     0.9726     0.0000     6.0000     0.9726]\n",
      " [   29.9291    10.0490   105.6953    58.6049     0.0000     0.9948     0.0000     5.0000     0.9949]\n",
      " [   32.1375     0.0000   128.0000    57.4957     0.0000     0.9950     0.0000     4.0000     0.9950]\n",
      " [    0.0000    88.5020    28.4283   105.5485     0.0000     0.9961     0.0000     3.0000     0.9961]\n",
      " [    0.0000     0.0000     0.0000     0.0000     0.0000     0.0000     0.0000     2.0000     0.0000]\n",
      " [    0.0000     0.0000     0.0000     0.0000     0.0000     0.0000     0.0000     1.0000     0.0000]]\n",
      "\n",
      "[[    0.0000     0.0000     0.0000     0.0000     0.0000     0.0000     0.0000     0.0000     0.0000]\n",
      " [    0.0000     0.0000     0.0000     0.0000     0.0000     0.0000     0.0000     0.0000     0.0000]\n",
      " [    0.0000     0.0000     0.0000     0.0000     0.0000     0.0000     0.0000     0.0000     0.0000]\n",
      " [    0.0000     0.0000     0.0000     0.0000     0.0000     0.0000     0.0000     0.0000     0.0000]\n",
      " [    0.0000     0.0000     0.0000     0.0000     0.0000     0.0000     0.0000     0.0000     0.0000]\n",
      " [    0.0000     0.0000     0.0000     0.0000     0.0000     0.0000     0.0000     0.0000     0.0000]\n",
      " [    0.0000     0.0000     0.0000     0.0000     0.0000     0.0000     0.0000     0.0000     0.0000]\n",
      " [    0.0000     0.0000     0.0000     0.0000     0.0000     0.0000     0.0000     0.0000     0.0000]\n",
      " [    0.0000     0.0000     0.0000     0.0000     0.0000     0.0000     0.0000     0.0000     0.0000]\n",
      " [    0.0000     0.0000     0.0000     0.0000     0.0000     0.0000     0.0000     0.0000     0.0000]\n",
      " [    0.0000     0.0000     0.0000     0.0000     0.0000     0.0000     0.0000     0.0000     0.0000]\n",
      " [    0.0000     0.0000     0.0000     0.0000     0.0000     0.0000     0.0000     0.0000     0.0000]\n",
      " [    0.0000     0.0000     0.0000     0.0000     0.0000     0.0000     0.0000     0.0000     0.0000]\n",
      " [    0.0000     0.0000     0.0000     0.0000     0.0000     0.0000     0.0000     0.0000     0.0000]\n",
      " [    0.0000     0.0000     0.0000     0.0000     0.0000     0.0000     0.0000     0.0000     0.0000]\n",
      " [    0.0000     0.0000     0.0000     0.0000     0.0000     0.0000     0.0000     0.0000     0.0000]\n",
      " [    0.0000     0.0000     0.0000     0.0000     0.0000     0.0000     0.0000     0.0000     0.0000]\n",
      " [    0.0000     0.0000     0.0000     0.0000     0.0000     0.0000     0.0000     0.0000     0.0000]\n",
      " [    0.0000     0.0000     0.0000     0.0000     0.0000     0.0000     0.0000     0.0000     0.0000]\n",
      " [    0.0000     0.0000     0.0000     0.0000     0.0000     0.0000     0.0000     0.0000     0.0000]\n",
      " [    0.0000     0.0000     0.0000     0.0000     0.0000     0.0000     0.0000     0.0000     0.0000]\n",
      " [    0.0000     0.0000     0.0000     0.0000     0.0000     0.0000     0.0000     0.0000     0.0000]\n",
      " [    0.0000     0.0000     0.0000     0.0000     0.0000     0.0000     0.0000     0.0000     0.0000]\n",
      " [    0.0000     0.0000     0.0000     0.0000     0.0000     0.0000     0.0000     0.0000     0.0000]\n",
      " [    0.0000     0.0000     0.0000     0.0000     0.0000     0.0000     0.0000     0.0000     0.0000]\n",
      " [    0.0000     0.0000     0.0000     0.0000     0.0000     0.0000     0.0000     0.0000     0.0000]\n",
      " [    0.0000     0.0000     0.0000     0.0000     0.0000     0.0000     0.0000     0.0000     0.0000]\n",
      " [    0.0000     0.0000     0.0000     0.0000     0.0000     0.0000     0.0000     0.0000     0.0000]\n",
      " [    0.0000     0.0000     0.0000     0.0000     0.0000     0.0000     0.0000     0.0000     0.0000]\n",
      " [    0.0000     0.0000     0.0000     0.0000     0.0000     0.0000     0.0000     0.0000     0.0000]\n",
      " [    0.0000     0.0000     0.0000     0.0000     0.0000     0.0000     0.0000     0.0000     0.0000]\n",
      " [    0.0000     0.0000     0.0000     0.0000     0.0000     0.0000     0.0000     0.0000     0.0000]]\n",
      "\n",
      "[[    0.0000     0.0000     0.0000     0.0000     0.0000     0.0000     0.0000     0.0000     0.0000]\n",
      " [    0.0000     0.0000     0.0000     0.0000     0.0000     0.0000     0.0000     0.0000     0.0000]\n",
      " [    0.0000     0.0000     0.0000     0.0000     0.0000     0.0000     0.0000     0.0000     0.0000]\n",
      " [   62.2013    52.3150    75.4505    80.1945     2.0000     0.9928     0.0000    29.0000     0.9938]\n",
      " [   87.8219    47.9395   109.8900   102.0609     2.0000     0.9989     0.0000    28.0000     1.0000]\n",
      " [    0.0000     0.0000     0.0000     0.0000     0.0000     0.0000     0.0000     0.0000     0.0000]\n",
      " [    0.0000     0.0000     0.0000     0.0000     0.0000     0.0000     0.0000     0.0000     0.0000]\n",
      " [    0.0000     0.0000     0.0000     0.0000     0.0000     0.0000     0.0000     0.0000     0.0000]\n",
      " [   63.6009    44.1804    80.0383    75.1722     2.0000     0.7579     0.0000    24.0000     0.7587]\n",
      " [   69.0914    49.1309    88.7551    89.8557     2.0000     0.4820     0.0000    23.0000     0.4825]\n",
      " [    0.0000     0.0000     0.0000     0.0000     0.0000     0.0000     0.0000     0.0000     0.0000]\n",
      " [    0.0000     0.0000     0.0000     0.0000     0.0000     0.0000     0.0000     0.0000     0.0000]\n",
      " [    0.0000     0.0000     0.0000     0.0000     0.0000     0.0000     0.0000     0.0000     0.0000]\n",
      " [    0.0000     0.0000     0.0000     0.0000     0.0000     0.0000     0.0000     0.0000     0.0000]\n",
      " [    0.0000     0.0000     0.0000     0.0000     0.0000     0.0000     0.0000     0.0000     0.0000]\n",
      " [    0.0000     0.0000     0.0000     0.0000     0.0000     0.0000     0.0000     0.0000     0.0000]\n",
      " [    0.0000     0.0000     0.0000     0.0000     0.0000     0.0000     0.0000     0.0000     0.0000]\n",
      " [    0.0000     0.0000     0.0000     0.0000     0.0000     0.0000     0.0000     0.0000     0.0000]\n",
      " [    0.0000     0.0000     0.0000     0.0000     0.0000     0.0000     0.0000     0.0000     0.0000]\n",
      " [    0.0000     0.0000     0.0000     0.0000     0.0000     0.0000     0.0000     0.0000     0.0000]\n",
      " [    0.0000     0.0000     0.0000     0.0000     0.0000     0.0000     0.0000     0.0000     0.0000]\n",
      " [    0.0000     0.0000     0.0000     0.0000     0.0000     0.0000     0.0000     0.0000     0.0000]\n",
      " [    0.0000     0.0000     0.0000     0.0000     0.0000     0.0000     0.0000     0.0000     0.0000]\n",
      " [    0.0000     0.0000     0.0000     0.0000     0.0000     0.0000     0.0000     0.0000     0.0000]\n",
      " [    0.0000     0.0000     0.0000     0.0000     0.0000     0.0000     0.0000     0.0000     0.0000]\n",
      " [    0.0000     0.0000     0.0000     0.0000     0.0000     0.0000     0.0000     0.0000     0.0000]\n",
      " [    0.0000     0.0000     0.0000     0.0000     0.0000     0.0000     0.0000     0.0000     0.0000]\n",
      " [    0.0000     0.0000     0.0000     0.0000     0.0000     0.0000     0.0000     0.0000     0.0000]\n",
      " [    0.0000     0.0000     0.0000     0.0000     0.0000     0.0000     0.0000     0.0000     0.0000]\n",
      " [    0.0000     0.0000     0.0000     0.0000     0.0000     0.0000     0.0000     0.0000     0.0000]\n",
      " [    0.0000     0.0000     0.0000     0.0000     0.0000     0.0000     0.0000     0.0000     0.0000]\n",
      " [    0.0000     0.0000     0.0000     0.0000     0.0000     0.0000     0.0000     0.0000     0.0000]]\n",
      "\n",
      "[[    0.0000     0.0000     0.0000     0.0000     0.0000     0.0000     0.0000     0.0000     0.0000]\n",
      " [    2.9294    93.6945    13.2923   103.7429     3.0000     0.9986     0.0000    31.0000     1.0000]\n",
      " [    0.0000     0.0000     0.0000     0.0000     0.0000     0.0000     0.0000     0.0000     0.0000]\n",
      " [    0.0000     0.0000     0.0000     0.0000     0.0000     0.0000     0.0000     0.0000     0.0000]\n",
      " [    0.0000     0.0000     0.0000     0.0000     0.0000     0.0000     0.0000     0.0000     0.0000]\n",
      " [    0.0000     0.0000     0.0000     0.0000     0.0000     0.0000     0.0000     0.0000     0.0000]\n",
      " [    0.0000     0.0000     0.0000     0.0000     0.0000     0.0000     0.0000     0.0000     0.0000]\n",
      " [    0.0000     0.0000     0.0000     0.0000     0.0000     0.0000     0.0000     0.0000     0.0000]\n",
      " [    0.0000     0.0000     0.0000     0.0000     0.0000     0.0000     0.0000     0.0000     0.0000]\n",
      " [    0.0000     0.0000     0.0000     0.0000     0.0000     0.0000     0.0000     0.0000     0.0000]\n",
      " [    0.0000     0.0000     0.0000     0.0000     0.0000     0.0000     0.0000     0.0000     0.0000]\n",
      " [    0.0000     0.0000     0.0000     0.0000     0.0000     0.0000     0.0000     0.0000     0.0000]\n",
      " [    0.0000     0.0000     0.0000     0.0000     0.0000     0.0000     0.0000     0.0000     0.0000]\n",
      " [    0.0000     0.0000     0.0000     0.0000     0.0000     0.0000     0.0000     0.0000     0.0000]\n",
      " [    0.0000     0.0000     0.0000     0.0000     0.0000     0.0000     0.0000     0.0000     0.0000]\n",
      " [    0.0000     0.0000     0.0000     0.0000     0.0000     0.0000     0.0000     0.0000     0.0000]\n",
      " [    0.0000     0.0000     0.0000     0.0000     0.0000     0.0000     0.0000     0.0000     0.0000]\n",
      " [    0.0000     0.0000     0.0000     0.0000     0.0000     0.0000     0.0000     0.0000     0.0000]\n",
      " [    0.0000     0.0000     0.0000     0.0000     0.0000     0.0000     0.0000     0.0000     0.0000]\n",
      " [    0.0000     0.0000     0.0000     0.0000     0.0000     0.0000     0.0000     0.0000     0.0000]\n",
      " [    0.0000     0.0000     0.0000     0.0000     0.0000     0.0000     0.0000     0.0000     0.0000]\n",
      " [    0.0000     0.0000     0.0000     0.0000     0.0000     0.0000     0.0000     0.0000     0.0000]\n",
      " [    0.0000     0.0000     0.0000     0.0000     0.0000     0.0000     0.0000     0.0000     0.0000]\n",
      " [    0.0000     0.0000     0.0000     0.0000     0.0000     0.0000     0.0000     0.0000     0.0000]\n",
      " [    0.0000     0.0000     0.0000     0.0000     0.0000     0.0000     0.0000     0.0000     0.0000]\n",
      " [    0.0000     0.0000     0.0000     0.0000     0.0000     0.0000     0.0000     0.0000     0.0000]\n",
      " [    0.0000     0.0000     0.0000     0.0000     0.0000     0.0000     0.0000     0.0000     0.0000]\n",
      " [    0.0000     0.0000     0.0000     0.0000     0.0000     0.0000     0.0000     0.0000     0.0000]\n",
      " [    0.0000     0.0000     0.0000     0.0000     0.0000     0.0000     0.0000     0.0000     0.0000]\n",
      " [    0.0000     0.0000     0.0000     0.0000     0.0000     0.0000     0.0000     0.0000     0.0000]\n",
      " [    0.0000     0.0000     0.0000     0.0000     0.0000     0.0000     0.0000     0.0000     0.0000]\n",
      " [    0.0000     0.0000     0.0000     0.0000     0.0000     0.0000     0.0000     0.0000     0.0000]]\n",
      "\n",
      "[[    0.0000     0.0000     0.0000     0.0000     0.0000     0.0000     0.0000     0.0000     0.0000]\n",
      " [    0.0000     0.0000     0.0000     0.0000     0.0000     0.0000     0.0000     0.0000     0.0000]\n",
      " [    0.0000     0.0000     0.0000     0.0000     0.0000     0.0000     0.0000     0.0000     0.0000]\n",
      " [    0.0000     0.0000     0.0000     0.0000     0.0000     0.0000     0.0000     0.0000     0.0000]\n",
      " [    0.0000     0.0000     0.0000     0.0000     0.0000     0.0000     0.0000     0.0000     0.0000]\n",
      " [    0.0000     0.0000     0.0000     0.0000     0.0000     0.0000     0.0000     0.0000     0.0000]\n",
      " [    0.0000     0.0000     0.0000     0.0000     0.0000     0.0000     0.0000     0.0000     0.0000]\n",
      " [    0.0000     0.0000     0.0000     0.0000     0.0000     0.0000     0.0000     0.0000     0.0000]\n",
      " [    0.0000     0.0000     0.0000     0.0000     0.0000     0.0000     0.0000     0.0000     0.0000]\n",
      " [    0.0000     0.0000     0.0000     0.0000     0.0000     0.0000     0.0000     0.0000     0.0000]\n",
      " [    0.0000     0.0000     0.0000     0.0000     0.0000     0.0000     0.0000     0.0000     0.0000]\n",
      " [    0.0000     0.0000     0.0000     0.0000     0.0000     0.0000     0.0000     0.0000     0.0000]\n",
      " [    0.0000     0.0000     0.0000     0.0000     0.0000     0.0000     0.0000     0.0000     0.0000]\n",
      " [    0.0000     0.0000     0.0000     0.0000     0.0000     0.0000     0.0000     0.0000     0.0000]\n",
      " [    0.0000     0.0000     0.0000     0.0000     0.0000     0.0000     0.0000     0.0000     0.0000]\n",
      " [    0.0000     0.0000     0.0000     0.0000     0.0000     0.0000     0.0000     0.0000     0.0000]\n",
      " [    0.0000     0.0000     0.0000     0.0000     0.0000     0.0000     0.0000     0.0000     0.0000]\n",
      " [    0.0000     0.0000     0.0000     0.0000     0.0000     0.0000     0.0000     0.0000     0.0000]\n",
      " [    0.0000     0.0000     0.0000     0.0000     0.0000     0.0000     0.0000     0.0000     0.0000]\n",
      " [    0.0000     0.0000     0.0000     0.0000     0.0000     0.0000     0.0000     0.0000     0.0000]\n",
      " [    0.0000     0.0000     0.0000     0.0000     0.0000     0.0000     0.0000     0.0000     0.0000]\n",
      " [    0.0000     0.0000     0.0000     0.0000     0.0000     0.0000     0.0000     0.0000     0.0000]\n",
      " [    0.0000     0.0000     0.0000     0.0000     0.0000     0.0000     0.0000     0.0000     0.0000]\n",
      " [    0.0000     0.0000     0.0000     0.0000     0.0000     0.0000     0.0000     0.0000     0.0000]\n",
      " [    0.0000     0.0000     0.0000     0.0000     0.0000     0.0000     0.0000     0.0000     0.0000]\n",
      " [    0.0000     0.0000     0.0000     0.0000     0.0000     0.0000     0.0000     0.0000     0.0000]\n",
      " [    0.0000     0.0000     0.0000     0.0000     0.0000     0.0000     0.0000     0.0000     0.0000]\n",
      " [    0.0000     0.0000     0.0000     0.0000     0.0000     0.0000     0.0000     0.0000     0.0000]\n",
      " [    0.0000     0.0000     0.0000     0.0000     0.0000     0.0000     0.0000     0.0000     0.0000]\n",
      " [    0.0000     0.0000     0.0000     0.0000     0.0000     0.0000     0.0000     0.0000     0.0000]\n",
      " [    0.0000     0.0000     0.0000     0.0000     0.0000     0.0000     0.0000     0.0000     0.0000]\n",
      " [    0.0000     0.0000     0.0000     0.0000     0.0000     0.0000     0.0000     0.0000     0.0000]]\n",
      "\n",
      "[[   74.9489    84.2641   100.9334   104.7258     5.0000     0.9996     1.0000    27.0000     1.0000]\n",
      " [   76.7996    85.5382   100.0642   107.1119     5.0000     0.9974     1.0000    26.0000     0.9978]\n",
      " [   76.6857    82.3323   106.2998   107.4935     5.0000     0.9964     1.0000    25.0000     0.9968]\n",
      " [    0.0000     0.0000     0.0000     0.0000     0.0000     0.0000     0.0000     0.0000     0.0000]\n",
      " [    0.0000     0.0000     0.0000     0.0000     0.0000     0.0000     0.0000     0.0000     0.0000]\n",
      " [    0.0000     0.0000     0.0000     0.0000     0.0000     0.0000     0.0000     0.0000     0.0000]\n",
      " [    0.0000     0.0000     0.0000     0.0000     0.0000     0.0000     0.0000     0.0000     0.0000]\n",
      " [    0.0000     0.0000     0.0000     0.0000     0.0000     0.0000     0.0000     0.0000     0.0000]\n",
      " [    0.0000     0.0000     0.0000     0.0000     0.0000     0.0000     0.0000     0.0000     0.0000]\n",
      " [    0.0000     0.0000     0.0000     0.0000     0.0000     0.0000     0.0000     0.0000     0.0000]\n",
      " [    0.0000     0.0000     0.0000     0.0000     0.0000     0.0000     0.0000     0.0000     0.0000]\n",
      " [    0.0000     0.0000     0.0000     0.0000     0.0000     0.0000     0.0000     0.0000     0.0000]\n",
      " [    0.0000     0.0000     0.0000     0.0000     0.0000     0.0000     0.0000     0.0000     0.0000]\n",
      " [    0.0000     0.0000     0.0000     0.0000     0.0000     0.0000     0.0000     0.0000     0.0000]\n",
      " [    0.0000     0.0000     0.0000     0.0000     0.0000     0.0000     0.0000     0.0000     0.0000]\n",
      " [    0.0000     0.0000     0.0000     0.0000     0.0000     0.0000     0.0000     0.0000     0.0000]\n",
      " [    0.0000     0.0000     0.0000     0.0000     0.0000     0.0000     0.0000     0.0000     0.0000]\n",
      " [    0.0000     0.0000     0.0000     0.0000     0.0000     0.0000     0.0000     0.0000     0.0000]\n",
      " [    0.0000     0.0000     0.0000     0.0000     0.0000     0.0000     0.0000     0.0000     0.0000]\n",
      " [    0.0000     0.0000     0.0000     0.0000     0.0000     0.0000     0.0000     0.0000     0.0000]\n",
      " [    0.0000     0.0000     0.0000     0.0000     0.0000     0.0000     0.0000     0.0000     0.0000]\n",
      " [    0.0000     0.0000     0.0000     0.0000     0.0000     0.0000     0.0000     0.0000     0.0000]\n",
      " [    0.0000     0.0000     0.0000     0.0000     0.0000     0.0000     0.0000     0.0000     0.0000]\n",
      " [    0.0000     0.0000     0.0000     0.0000     0.0000     0.0000     0.0000     0.0000     0.0000]\n",
      " [    0.0000     0.0000     0.0000     0.0000     0.0000     0.0000     0.0000     0.0000     0.0000]\n",
      " [    0.0000     0.0000     0.0000     0.0000     0.0000     0.0000     0.0000     0.0000     0.0000]\n",
      " [    0.0000     0.0000     0.0000     0.0000     0.0000     0.0000     0.0000     0.0000     0.0000]\n",
      " [    0.0000     0.0000     0.0000     0.0000     0.0000     0.0000     0.0000     0.0000     0.0000]\n",
      " [    0.0000     0.0000     0.0000     0.0000     0.0000     0.0000     0.0000     0.0000     0.0000]\n",
      " [    0.0000     0.0000     0.0000     0.0000     0.0000     0.0000     0.0000     0.0000     0.0000]\n",
      " [    0.0000     0.0000     0.0000     0.0000     0.0000     0.0000     0.0000     0.0000     0.0000]\n",
      " [    0.0000     0.0000     0.0000     0.0000     0.0000     0.0000     0.0000     0.0000     0.0000]]\n",
      "\n",
      "[[   16.3883    75.5949    39.0793   126.9107     6.0000     0.9999     1.0000    32.0000     1.0000]\n",
      " [   17.2144    78.5282    36.2628   128.0000     6.0000     0.9092     1.0000    30.0000     0.9093]\n",
      " [    0.0000     0.0000     0.0000     0.0000     0.0000     0.0000     0.0000     0.0000     0.0000]\n",
      " [    0.0000     0.0000     0.0000     0.0000     0.0000     0.0000     0.0000     0.0000     0.0000]\n",
      " [    0.0000     0.0000     0.0000     0.0000     0.0000     0.0000     0.0000     0.0000     0.0000]\n",
      " [    0.0000     0.0000     0.0000     0.0000     0.0000     0.0000     0.0000     0.0000     0.0000]\n",
      " [    0.0000     0.0000     0.0000     0.0000     0.0000     0.0000     0.0000     0.0000     0.0000]\n",
      " [    0.0000     0.0000     0.0000     0.0000     0.0000     0.0000     0.0000     0.0000     0.0000]\n",
      " [    0.0000     0.0000     0.0000     0.0000     0.0000     0.0000     0.0000     0.0000     0.0000]\n",
      " [    0.0000     0.0000     0.0000     0.0000     0.0000     0.0000     0.0000     0.0000     0.0000]\n",
      " [    0.0000     0.0000     0.0000     0.0000     0.0000     0.0000     0.0000     0.0000     0.0000]\n",
      " [    0.0000     0.0000     0.0000     0.0000     0.0000     0.0000     0.0000     0.0000     0.0000]\n",
      " [    0.0000     0.0000     0.0000     0.0000     0.0000     0.0000     0.0000     0.0000     0.0000]\n",
      " [    0.0000     0.0000     0.0000     0.0000     0.0000     0.0000     0.0000     0.0000     0.0000]\n",
      " [    0.0000     0.0000     0.0000     0.0000     0.0000     0.0000     0.0000     0.0000     0.0000]\n",
      " [    0.0000     0.0000     0.0000     0.0000     0.0000     0.0000     0.0000     0.0000     0.0000]\n",
      " [    0.0000     0.0000     0.0000     0.0000     0.0000     0.0000     0.0000     0.0000     0.0000]\n",
      " [    0.0000     0.0000     0.0000     0.0000     0.0000     0.0000     0.0000     0.0000     0.0000]\n",
      " [    0.0000     0.0000     0.0000     0.0000     0.0000     0.0000     0.0000     0.0000     0.0000]\n",
      " [    0.0000     0.0000     0.0000     0.0000     0.0000     0.0000     0.0000     0.0000     0.0000]\n",
      " [    0.0000     0.0000     0.0000     0.0000     0.0000     0.0000     0.0000     0.0000     0.0000]\n",
      " [    0.0000     0.0000     0.0000     0.0000     0.0000     0.0000     0.0000     0.0000     0.0000]\n",
      " [    0.0000     0.0000     0.0000     0.0000     0.0000     0.0000     0.0000     0.0000     0.0000]\n",
      " [    0.0000     0.0000     0.0000     0.0000     0.0000     0.0000     0.0000     0.0000     0.0000]\n",
      " [    0.0000     0.0000     0.0000     0.0000     0.0000     0.0000     0.0000     0.0000     0.0000]\n",
      " [    0.0000     0.0000     0.0000     0.0000     0.0000     0.0000     0.0000     0.0000     0.0000]\n",
      " [    0.0000     0.0000     0.0000     0.0000     0.0000     0.0000     0.0000     0.0000     0.0000]\n",
      " [    0.0000     0.0000     0.0000     0.0000     0.0000     0.0000     0.0000     0.0000     0.0000]\n",
      " [    0.0000     0.0000     0.0000     0.0000     0.0000     0.0000     0.0000     0.0000     0.0000]\n",
      " [    0.0000     0.0000     0.0000     0.0000     0.0000     0.0000     0.0000     0.0000     0.0000]\n",
      " [    0.0000     0.0000     0.0000     0.0000     0.0000     0.0000     0.0000     0.0000     0.0000]\n",
      " [    0.0000     0.0000     0.0000     0.0000     0.0000     0.0000     0.0000     0.0000     0.0000]]\n"
     ]
    }
   ],
   "source": [
    "img = 1\n",
    "for cls in [0,1,2,3,4,5,6]:\n",
    "    print()\n",
    "#     for box in range(32):\n",
    "    print(r_pred_tensor[img,cls,:])\n",
    "#     print('pr_tensor1')\n",
    "#     print(r_pr_tensor1[img,cls,:])"
   ]
  },
  {
   "cell_type": "markdown",
   "metadata": {
    "heading_collapsed": true
   },
   "source": [
    "#### Display pred_refined_tensor and gt_tensor"
   ]
  },
  {
   "cell_type": "code",
   "execution_count": null,
   "metadata": {
    "ExecuteTime": {
     "end_time": "2018-10-15T17:36:09.035876Z",
     "start_time": "2018-10-15T17:36:07.892418Z"
    },
    "hidden": true
   },
   "outputs": [],
   "source": [
    "for cls in [1]:\n",
    "    for box in range(20):\n",
    "        print(pred_tensor[0,cls,box])\n",
    "        print(gt_tensor[0,cls,box])\n",
    "        print()"
   ]
  },
  {
   "cell_type": "markdown",
   "metadata": {},
   "source": [
    "### Some tests on the results"
   ]
  },
  {
   "cell_type": "markdown",
   "metadata": {
    "hideCode": false,
    "hidePrompt": false
   },
   "source": [
    "####  Display `pred_tensor`  from model code and code above, `pred_heatmap_scores`  "
   ]
  },
  {
   "cell_type": "code",
   "execution_count": null,
   "metadata": {
    "ExecuteTime": {
     "end_time": "2018-11-25T23:13:44.885662Z",
     "start_time": "2018-11-25T23:13:44.461635Z"
    },
    "hideCode": false,
    "hidePrompt": false,
    "scrolled": true
   },
   "outputs": [],
   "source": [
    "\n",
    "print(pred_tensor)\n",
    "# print('scatter shape is ', pred_scatt.get_shape())\n",
    "sess = KB.get_session()\n",
    "# print('pred tensor from model : ', model_pred_tensor.shape)\n",
    "with sess.as_default():\n",
    "#     print('pred_tensor            : ', pred_tensor.get_shape() )\n",
    "    r_pred_tensor = pred_tensor.eval()\n",
    "    \n",
    "    \n",
    "for img in range(2):\n",
    "    class_ids = np.unique(r_pred_tensor[img,:,:,4]).astype(int).tolist()    \n",
    "    print('Classids: ', class_ids)\n",
    "    for i in class_ids:\n",
    "        print('Image ', img , '/ Class ',i,' ------------')\n",
    "        for j in range(25):\n",
    "            print(r_pred_tensor[img,i,j])\n",
    "#             print(model_pred_tensor[img,i,j])\n",
    "#             print(model_pred_heatmap_scores[img,i,j])\n",
    "#             print(pred_heatmap_scores[img,i,j])\n",
    "            print()\n"
   ]
  },
  {
   "cell_type": "code",
   "execution_count": null,
   "metadata": {
    "ExecuteTime": {
     "end_time": "2018-09-25T10:03:58.910808Z",
     "start_time": "2018-09-25T10:03:58.726130Z"
    },
    "hideCode": false
   },
   "outputs": [],
   "source": [
    "np.set_printoptions(precision=4, threshold=4000, linewidth=210, suppress=True)\n",
    "with sess.as_default():\n",
    "    print(scatter_ind.shape)\n",
    "    print(pred_scatt.shape)\n",
    "    print(pred_array.shape)\n",
    "#     r_clipped_rois = clipped_rois.eval()\n",
    "    r_pred_array = pred_array.eval()\n",
    "for i in range(200):\n",
    "#     print()\n",
    "#     print('input_ro:  ', r0[0,i]) \n",
    "#     print('original (clipped) :  ', r_clipped_rois[0,i])\n",
    "    print('pred_array         :  ', r_pred_array[0,i])"
   ]
  },
  {
   "cell_type": "code",
   "execution_count": null,
   "metadata": {
    "ExecuteTime": {
     "end_time": "2018-09-25T10:05:06.237621Z",
     "start_time": "2018-09-25T10:05:06.190986Z"
    },
    "scrolled": false
   },
   "outputs": [],
   "source": [
    "np.set_printoptions(precision=4, threshold=4000, linewidth=210, suppress=True)\n",
    "\n",
    "# with sess.as_default():\n",
    "#     print(pred_scores.eval())\n",
    "#     print(pred_classes.eval())\n",
    "#     print(scatter_ind.eval()[0])\n",
    "#     print(norm_score.eval()[0,9])\n",
    "#     print(pred_array.eval()[0,:200])\n",
    "#     print(scatter_ind.shape)\n",
    "#     print(pred_scatt.shape)\n",
    "#     print(pred_array.shape)\n",
    "#     r_clipped_rois = clipped_rois.eval()\n",
    "#     r_pred_array   = pred_array.eval()\n",
    "#     print(pred_scatt.eval()[0,1,0:200])\n",
    "#     print(normalizer.eval()[0,9])\n"
   ]
  },
  {
   "cell_type": "markdown",
   "metadata": {},
   "source": [
    "####  Test that refined_rois is correctly working in `clip_to_window_tf` "
   ]
  },
  {
   "cell_type": "code",
   "execution_count": null,
   "metadata": {
    "ExecuteTime": {
     "end_time": "2018-05-18T13:42:38.351532Z",
     "start_time": "2018-05-18T13:42:37.820120Z"
    },
    "hideCode": false,
    "hideOutput": true,
    "scrolled": true
   },
   "outputs": [],
   "source": [
    "with sess.as_default():\n",
    "    test_np = refined_rois.eval()\n",
    "    test_tf = refined_rois_clipped.eval()\n",
    "    window_np = np.array([0,0,128,128])\n",
    " \n",
    "    print(window_np.shape)\n",
    "    for i in range(5):\n",
    "#         print('Before', i)\n",
    "#         print(test_np[i])\n",
    "        test_np[i] = clip_to_window(window_np, test_np[i])\n",
    "#         print('After', i)\n",
    "#         print(test_np[i])\n",
    "#         print('   tensor flow')\n",
    "#         print(test_tf[i])\n",
    "        \n",
    "    for i in range(5):\n",
    "      all_equal = np.all(test_np == refined_rois_clipped.eval())\n",
    "      print('i: ', i, '--- EQUAL : ', all_equal)\n"
   ]
  },
  {
   "cell_type": "markdown",
   "metadata": {},
   "source": [
    "####  Test that pred_classes and pred_deltas have been properly selected when using tf.gather_nd ()"
   ]
  },
  {
   "cell_type": "code",
   "execution_count": null,
   "metadata": {
    "ExecuteTime": {
     "end_time": "2018-05-18T13:32:01.297444Z",
     "start_time": "2018-05-18T13:32:00.765661Z"
    },
    "hideCode": false,
    "hideOutput": true,
    "scrolled": true
   },
   "outputs": [],
   "source": [
    "with sess.as_default():\n",
    "    tmp0 = pred_classes.eval()\n",
    "    tmp1 = mrcnn_bbox.eval()\n",
    "    tmp2 = pred_deltas.eval()\n",
    "    tmp4 = mrcnn_class.eval()\n",
    "    tmp3 = pred_scores2.eval()\n",
    "    tmp5 = pred_scores.eval()\n",
    "    \n",
    "\n",
    "for i in range(5):\n",
    "    for j in range(32):\n",
    "        print('i: ', i, ' j :', j,'--- class: ',tmp0[i,j],'---------------')\n",
    "    #     print(tmp0[i,j])\n",
    "        print(tmp1[i,j])\n",
    "        print(' ===> ', tmp2[i,j])\n",
    "        print(' mrcnn_score: ', tmp4[i,j,tmp0[i,j]], ' pred_score:', tmp5[i,j,0], 'pred_score2: ', tmp3[i,j])\n"
   ]
  },
  {
   "cell_type": "markdown",
   "metadata": {
    "hideCode": false
   },
   "source": [
    "####  Verify refined_rois generated by TF and NP are equal when using `apply_box_deltas_tf( )`"
   ]
  },
  {
   "cell_type": "code",
   "execution_count": null,
   "metadata": {
    "ExecuteTime": {
     "end_time": "2018-05-18T10:48:35.696940Z",
     "start_time": "2018-05-18T10:48:34.824880Z"
    },
    "hideCode": false,
    "hideOutput": true,
    "scrolled": true
   },
   "outputs": [],
   "source": [
    "from mrcnn.utils import apply_box_deltas, apply_box_deltas_tf\n",
    "with sess.as_default():\n",
    "    refined_rois_tf = apply_box_deltas_3d(output_rois, pred_deltas).eval()\n",
    "    print(' refined rois_tf: ', refined_rois_tf.shape, refined_rois_tf.dtype)\n",
    "    tmp = []\n",
    "    bxs = output_rois.eval()\n",
    "    dlt = pred_deltas.eval()\n",
    "    for i in range(5):\n",
    "        tmp.append(apply_box_deltas(bxs[i], dlt[i]))\n",
    "    refined_rois_np = np.asarray(tmp)\n",
    "    print(' refined rois_np: ', refined_rois_np.shape,refined_rois_np.dtype)\n",
    "    print(' refined rois_np == refined rois_tf ?? :', np.all(refined_rois_tf[0,1] == refined_rois_np[0,1]))\n",
    "\n",
    "#     for i in range(5):\n",
    "#         for j in range(32):\n",
    "#             all_eq = np.all(refined_rois_tf[0,1] == refined_rois_np[0,1])\n",
    "#             if ~all_eq:\n",
    "#                 print(' Not equal : ',i,'/',j)\n",
    "#                 print(refined_rois_tf[i,j])\n",
    "#                 print(refined_rois_np[i,j])\n",
    "#             else:\n",
    "#                 print(' equal : ',i,'/',j)\n",
    "print(refined_rois_tf[0])\n",
    "print(refined_rois_np[0])\n"
   ]
  },
  {
   "cell_type": "markdown",
   "metadata": {
    "heading_collapsed": true
   },
   "source": [
    "##  `build_hm_score_v2()` , `build_hm_score_v3()` , `clip_heatmap()`"
   ]
  },
  {
   "cell_type": "code",
   "execution_count": null,
   "metadata": {
    "ExecuteTime": {
     "end_time": "2018-11-30T16:33:52.412903Z",
     "start_time": "2018-11-30T16:33:52.033635Z"
    },
    "hidden": true,
    "hideCode": false
   },
   "outputs": [],
   "source": [
    "\"\"\"\n",
    "##-----------------------------------------------------------------------------------------------------------\n",
    "## Build Mask and Score \n",
    "##----------------------------------------------------------------------------------------------------------- \n",
    "def build_hm_score_v2(input_list):\n",
    "    '''\n",
    "    Inputs:\n",
    "    -----------\n",
    "        heatmap_tensor :    [ image height, image width ]\n",
    "        input_row      :    [y1, x1, y2, x2] in absolute (non-normalized) scale\n",
    "\n",
    "    Returns\n",
    "    -----------\n",
    "        gaussian_sum :      sum of gaussian heatmap vlaues over the area covered by the bounding box\n",
    "        bbox_area    :      bounding box area (in pixels)\n",
    "        weighted_sum :      gaussian_sum * bbox_score\n",
    "    '''\n",
    "    heatmap_tensor, input_bbox, input_norm_score = input_list\n",
    "    \n",
    "    with tf.variable_scope('mask_routine'):\n",
    "        y_extent     = tf.range(input_bbox[0], input_bbox[2])\n",
    "        x_extent     = tf.range(input_bbox[1], input_bbox[3])\n",
    "        Y,X          = tf.meshgrid(y_extent, x_extent)\n",
    "        bbox_mask    = tf.stack([Y,X],axis=2)        \n",
    "        mask_indices = tf.reshape(bbox_mask,[-1,2])\n",
    "        mask_indices = tf.to_int32(mask_indices)\n",
    "        mask_size    = tf.shape(mask_indices)[0]\n",
    "        mask_updates = tf.ones([mask_size], dtype = tf.float32)    \n",
    "        mask         = tf.scatter_nd(mask_indices, mask_updates, tf.shape(heatmap_tensor))\n",
    "        # mask_sum    =  tf.reduce_sum(mask)\n",
    "        heatmap_tensor = tf.multiply(heatmap_tensor, mask, name = 'mask_applied')\n",
    "        bbox_area    = tf.to_float((input_bbox[2]-input_bbox[0]) * (input_bbox[3]-input_bbox[1]))\n",
    "        gaussian_sum = tf.reduce_sum(heatmap_tensor)\n",
    "\n",
    "        # Multiply gaussian_sum by score to obtain weighted sum    \n",
    "        # weighted_sum = gaussian_sum * input_row[5]\n",
    "\n",
    "        # Replaced lines above with following lines 21-09-2018\n",
    "        # Multiply gaussian_sum by normalized score to obtain weighted_norm_sum \n",
    "        weighted_norm_sum = gaussian_sum * input_norm_score    # input_list[7]\n",
    "\n",
    "    return tf.stack([gaussian_sum, bbox_area, weighted_norm_sum], axis = -1)\n",
    "\n",
    "##-----------------------------------------------------------------------------------------------------------\n",
    "## Clip Heatmap - Clips heatmap to a predefined vicinity (+/- 5 pixels of cy,cx)\n",
    "##----------------------------------------------------------------------------------------------------------- \n",
    "def clip_heatmap(input_list):\n",
    "    '''\n",
    "    Inputs:\n",
    "    -----------\n",
    "        heatmap_tensor :    [ image height, image width ]\n",
    "        cy,cx, covar   :   \n",
    "        \n",
    "    Returns\n",
    "    -----------\n",
    "        Clipped heatmap tensor \n",
    "    '''\n",
    "    heatmap_tensor, cy, cx, covar = input_list\n",
    "\n",
    "    with tf.variable_scope('mask_routine'):\n",
    "        start_y      = tf.maximum(cy-covar[1],0)\n",
    "        end_y        = tf.minimum(cy+covar[1], KB.int_shape(heatmap_tensor)[0])\n",
    "        start_x      = tf.maximum(cx-covar[0],0)\n",
    "        end_x        = tf.minimum(cx+covar[0], KB.int_shape(heatmap_tensor)[1])\n",
    "        y_extent     = tf.range(start_y, end_y)\n",
    "        x_extent     = tf.range(start_x, end_x)\n",
    "        Y,X          = tf.meshgrid(y_extent, x_extent)\n",
    "        mask_indices = tf.stack([Y,X],axis=2)        \n",
    "        mask_indices = tf.reshape(mask_indices,[-1,2])\n",
    "        mask_indices = tf.to_int32(mask_indices)\n",
    "        mask_size    = tf.shape(mask_indices)[0]\n",
    "        mask_updates = tf.ones([mask_size], dtype = tf.float32)    \n",
    "        mask         = tf.scatter_nd(mask_indices, mask_updates, tf.shape(heatmap_tensor))\n",
    "        # mask_sum    =  tf.reduce_sum(mask)\n",
    "        heatmap_tensor = tf.multiply(heatmap_tensor, mask, name = 'mask_applied')\n",
    "\n",
    "    return  heatmap_tensor\n",
    "\n",
    "\n",
    "\n",
    "##--------------------------------------------------------------------------------------------------------\n",
    "##\n",
    "##--------------------------------------------------------------------------------------------------------        \n",
    "def build_hm_score_v3(input_list):\n",
    "    '''\n",
    "    Inputs:\n",
    "    -----------\n",
    "        heatmap_tensor :    [ image height, image width ]\n",
    "        input_row      :    [y1, x1, y2, x2] in absolute (non-normalized) scale\n",
    "\n",
    "    Returns\n",
    "    -----------\n",
    "        gaussian_sum :      sum of gaussian heatmap vlaues over the area covered by the bounding box\n",
    "        bbox_area    :      bounding box area (in pixels)\n",
    "    '''\n",
    "    heatmap_tensor, cy, cx, covar = input_list\n",
    "    with tf.variable_scope('mask_routine'):\n",
    "        start_y      = tf.maximum(cy-covar[1], 0.0)\n",
    "        end_y        = tf.minimum(cy+covar[1], KB.int_shape(heatmap_tensor)[0])\n",
    "        start_x      = tf.maximum(cx-covar[0], 0.0)\n",
    "        end_x        = tf.minimum(cx+covar[0], KB.int_shape(heatmap_tensor)[1])\n",
    "        \n",
    "        #---------------------------------------------------------------------------------------\n",
    "        # though rounding was an option, after analyzig the output data, opted to not use it. \n",
    "        # Also not used in FCN Scoring layer routine    11-26-2018\n",
    "        #---------------------------------------------------------------------------------------\n",
    "        # y_extent     = tf.range(tf.round(start_y), tf.round(end_y))  ##  Rounding is NOT USED \n",
    "        # x_extent     = tf.range(tf.round(start_x), tf.round(end_x))  ##  here or in FCN scoring\n",
    "        y_extent     = tf.range(start_y, end_y) \n",
    "        x_extent     = tf.range(start_x, end_x)        \n",
    "        Y,X          = tf.meshgrid(y_extent, x_extent)\n",
    "    \n",
    "        mask_indices = tf.stack([Y,X],axis=2)        \n",
    "        mask_indices = tf.reshape(mask_indices,[-1,2])\n",
    "        mask_indices = tf.to_int32(mask_indices)\n",
    "        mask_size    = tf.shape(mask_indices)[0]\n",
    "        mask_updates = tf.ones([mask_size], dtype = tf.float32)    \n",
    "        \n",
    "        mask         = tf.scatter_nd(mask_indices, mask_updates, tf.shape(heatmap_tensor))\n",
    "        \n",
    "        heatmap_tensor = tf.multiply(heatmap_tensor, mask, name = 'mask_applied')\n",
    "        score        = tf.reduce_sum(heatmap_tensor)\n",
    "        \n",
    "        mask_area    = tf.to_float((end_y -start_y) * (end_x-  start_x))        \n",
    "        mask_sum     = tf.reduce_sum(mask)\n",
    "\n",
    "    return tf.stack([  score, mask_area, mask_sum, score/mask_area, score/mask_sum], axis = -1)  \n",
    "\n",
    "\n",
    "    #                      start_y, end_y, start_x, end_x,\n",
    "    #                      tf.round(start_y), tf.round(end_y),tf.round(start_x), tf.round(end_x) ], \n",
    "\"\"\""
   ]
  },
  {
   "cell_type": "markdown",
   "metadata": {
    "heading_collapsed": true,
    "hideCode": false,
    "hidePrompt": true
   },
   "source": [
    "## `build_heatmap()`"
   ]
  },
  {
   "cell_type": "code",
   "execution_count": null,
   "metadata": {
    "ExecuteTime": {
     "end_time": "2018-12-22T18:29:59.564344Z",
     "start_time": "2018-12-22T18:29:58.925353Z"
    },
    "hidden": true,
    "hideCode": false,
    "hideOutput": true,
    "scrolled": true
   },
   "outputs": [],
   "source": [
    "# del sess\n",
    "# del mrcnn_bbox, mrcnn_class, norm_input_rois\n",
    "import tensorflow as tf\n",
    "from mrcnn.chm_layer import build_pr_tensor, build_pr_heatmap\n",
    "from mrcnn.chm_layer_tgt import build_gt_tensor, build_gt_heatmap\n",
    "\n",
    "mrcnn_bbox       = tf.identity(model_mrcnn_bbox)\n",
    "mrcnn_class      = tf.identity(model_mrcnn_class)\n",
    "output_rois      = tf.identity(model_output_rois)\n",
    "target_class_ids = tf.identity(model_target_class_ids)\n",
    "roi_gt_boxes     = tf.identity(model_roi_gt_boxes)\n",
    "config      = mrcnn_model.config\n",
    "\n",
    "pr_tensor   = build_pr_tensor(output_rois, mrcnn_class, mrcnn_bbox, config)\n",
    "gt_tensor   = build_gt_tensor(target_class_ids, roi_gt_boxes, config) \n",
    " \n",
    "# gt_heatmap, gt_heatmap_scores  = build_gt_heatmap(gt_tensor, config, names = ['gt_heatmap'])\n",
    "# pr_heatmap, pr_heatmap_scores =  build_pr_heatmap(pr_tensor, mrcnn_model.config, names = ['pr_heatmap'])\n",
    "    \n",
    "# print(pred_tensor)\n",
    "# with sess.as_default():\n",
    "#     r_pred_tensor = pred_tensor.eval()\n",
    "# print(r_pred_tensor.shape)\n",
    "\n"
   ]
  },
  {
   "cell_type": "markdown",
   "metadata": {
    "hidden": true
   },
   "source": [
    "### `build_gt_heatmap()`"
   ]
  },
  {
   "cell_type": "markdown",
   "metadata": {
    "hidden": true
   },
   "source": [
    "###  `build_pr_heatmap()` "
   ]
  },
  {
   "cell_type": "code",
   "execution_count": null,
   "metadata": {
    "ExecuteTime": {
     "end_time": "2018-12-22T19:15:44.952116Z",
     "start_time": "2018-12-22T19:15:41.868729Z"
    },
    "hidden": true
   },
   "outputs": [],
   "source": [
    "from mrcnn.utils import logt\n",
    "from mrcnn.chm_layer import build_hm_score_v2, build_hm_score_v3, clip_heatmap, normalize_scores\n",
    "in_tensor = pr_tensor\n",
    "config = mrcnn_model.config\n",
    "names = ['pr_heatmap']\n",
    "# def build_pr_heatmap(in_tensor, config, names = None):\n",
    "'''\n",
    "input:\n",
    "-------\n",
    "pred_tensor:        [ Bsz, Num_Classes, Num_Rois, 8: \n",
    "                        {y1, x1, y2, x2, class_id, score, sequence_id, score normalized per class}]\n",
    "\n",
    "output:\n",
    "-------\n",
    "    pr_heatmap      (None,  Heatmap-height, Heatmap_width, num_classes)\n",
    "    pr_scores       (None, num_classes, 200, 23) \n",
    "                    [batchSz, Detection_Max_instance, (y1,x1,y2,x2, class, score, sequence_id, normalized_score,\n",
    "                                                       scores-0: gaussian_sum, bbox_area, weighted_norm_sum \n",
    "                                                       scores-1: score, mask_sum, score/mask_sum, (score, mask_sum, score/mask_sum) normalized by class\n",
    "                                                       scores-2: score, mask_sum, score/mask_sum, (score, mask_sum, score/mask_sum) normalized by class ]\n",
    "'''\n",
    "verbose         = 1\n",
    "img_h, img_w    = config.IMAGE_SHAPE[:2]\n",
    "batch_size      = config.BATCH_SIZE\n",
    "num_classes     = config.NUM_CLASSES  \n",
    "heatmap_scale   = config.HEATMAP_SCALE_FACTOR\n",
    "grid_h, grid_w  = config.IMAGE_SHAPE[:2] // heatmap_scale    \n",
    "# rois per image is determined by size of input tensor \n",
    "#   detection mode:   config.TRAIN_ROIS_PER_IMAGE \n",
    "#   ground_truth  :   config.DETECTION_MAX_INSTANCES\n",
    "#   strt_cls        = 0 if rois_per_image == 32 else 1\n",
    "# rois_per_image  = config.DETECTION_PER_CLASS\n",
    "rois_per_image  = (in_tensor.shape)[2]  \n",
    "\n",
    "if verbose:\n",
    "    print('\\n ')\n",
    "    print('  > build_pr_heatmap() for : ', names )\n",
    "    print('    in_tensor shape        : ', in_tensor.shape)       \n",
    "    print('    num bboxes per class   : ', rois_per_image )\n",
    "    print('    heatmap scale          : ', heatmap_scale, 'Dimensions:  w:', grid_w,' h:', grid_h)\n",
    "\n",
    "##-----------------------------------------------------------------------------    \n",
    "## Stack non_zero bboxes from in_tensor into pt2_dense \n",
    "##-----------------------------------------------------------------------------\n",
    "# pt2_ind shape is [?, 3]. \n",
    "#    pt2_ind[0] corresponds to image_index \n",
    "#    pt2_ind[1] corresponds to class_index \n",
    "#    pt2_ind[2] corresponds to roi row_index \n",
    "# pt2_dense shape is [?, 7]\n",
    "#    pt2_dense[0:3]  roi coordinates \n",
    "#    pt2_dense[4]    is class id \n",
    "#    pt2_dense[5]    is score from mrcnn    \n",
    "#    pt2_dense[6]    is bbox sequence id    \n",
    "#    pt2_dense[7]    is normalized score (per class)    \n",
    "#-----------------------------------------------------------------------------\n",
    "pt2_sum = tf.reduce_sum(tf.abs(in_tensor[:,:,:,:4]), axis=-1)\n",
    "pt2_ind = tf.where(pt2_sum > 0)\n",
    "pt2_dense = tf.gather_nd( in_tensor, pt2_ind)\n",
    "\n",
    "logt('pt2_sum   ', pt2_sum, verbose = verbose)\n",
    "logt('pt2_ind   ', pt2_ind, verbose = verbose)\n",
    "logt('pt2_dense ', pt2_dense, verbose = verbose)\n",
    "\n",
    "##-----------------------------------------------------------------------------\n",
    "## Build mesh-grid to hold pixel coordinates  \n",
    "##-----------------------------------------------------------------------------\n",
    "X = tf.range(grid_w, dtype=tf.int32)\n",
    "Y = tf.range(grid_h, dtype=tf.int32)\n",
    "X, Y = tf.meshgrid(X, Y)\n",
    "\n",
    "# duplicate (repeat) X and Y into a  batch_size x rois_per_image tensor\n",
    "ones = tf.ones([tf.shape(pt2_dense)[0] , 1, 1], dtype = tf.int32)\n",
    "rep_X = ones * X\n",
    "rep_Y = ones * Y \n",
    "\n",
    "if verbose:\n",
    "    print('    X/Y shapes :',  X.get_shape(), Y.get_shape())\n",
    "    print('    Ones:    ', ones.shape)                \n",
    "    print('    ones_exp * X', ones.shape, '*', X.shape, '= ',rep_X.shape)\n",
    "    print('    ones_exp * Y', ones.shape, '*', Y.shape, '= ',rep_Y.shape)\n",
    "\n",
    "# # stack the X and Y grids \n",
    "pos_grid = tf.to_float(tf.stack([rep_X,rep_Y], axis = -1))\n",
    "logt('pos_grid before transpse ', pos_grid, verbose = verbose)\n",
    "pos_grid = tf.transpose(pos_grid,[1,2,0,3])\n",
    "logt('pos_grid after transpose ', pos_grid, verbose = verbose)  \n",
    "\n",
    "##-----------------------------------------------------------------------------\n",
    "##  Build mean and convariance tensors for Multivariate Normal Distribution \n",
    "##-----------------------------------------------------------------------------\n",
    "bboxes_scaled = pt2_dense[:,:4]/heatmap_scale\n",
    "width  = bboxes_scaled[:,3] - bboxes_scaled[:,1]      # x2 - x1\n",
    "height = bboxes_scaled[:,2] - bboxes_scaled[:,0]\n",
    "cx     = bboxes_scaled[:,1] + ( width  / 2.0)\n",
    "cy     = bboxes_scaled[:,0] + ( height / 2.0)\n",
    "means  = tf.stack((cx,cy),axis = -1)\n",
    "covar  = tf.stack((width * 0.5 , height * 0.5), axis = -1)\n",
    "covar  = tf.sqrt(covar)\n",
    "\n",
    "##-----------------------------------------------------------------------------\n",
    "##  Compute Normal Distribution for bounding boxes\n",
    "##-----------------------------------------------------------------------------    \n",
    "tfd = tf.contrib.distributions\n",
    "mvn = tfd.MultivariateNormalDiag(loc = means,  scale_diag = covar)\n",
    "prob_grid = mvn.prob(pos_grid)\n",
    "logt('Input to MVN.PROB: pos_grid (meshgrid) ', pos_grid, verbose = verbose)\n",
    "logt('Prob_grid shape from mvn.probe  ',prob_grid, verbose = verbose)\n",
    "prob_grid = tf.transpose(prob_grid,[2,0,1])\n",
    "logt('Prob_grid shape after tanspose ', prob_grid, verbose = verbose)\n",
    "logt('Output probabilities shape   '  , prob_grid, verbose = verbose)\n",
    "\n",
    "##--------------------------------------------------------------------------------------------\n",
    "## (0) Generate scores using prob_grid and pt2_dense - (NEW METHOD added 09-21-2018)\n",
    "##--------------------------------------------------------------------------------------------\n",
    "old_style_scores = tf.map_fn(build_hm_score_v2, [prob_grid, bboxes_scaled, pt2_dense[:,7]], \n",
    "                             dtype = tf.float32, swap_memory = True)\n",
    "old_style_scores_by_class = tf.scatter_nd(pt2_ind, old_style_scores, \n",
    "                                 [batch_size, num_classes, rois_per_image, KB.int_shape(old_style_scores)[-1]],\n",
    "                                 name = 'scores_scattered')\n",
    "logt('old_style_scores        ',  old_style_scores, verbose = verbose)\n",
    "logt('old_style_scores_by_class',  old_style_scores_by_class, verbose = verbose)\n",
    "\n",
    "##----------------------------------------------------------------------------------------------------\n",
    "## Generate scores using same method as FCN, over the prob_grid\n",
    "## using (prob_grid_clipped) as input is superfluous == RETURNS EXACT SAME Results AS prob_grid above\n",
    "##----------------------------------------------------------------------------------------------------\n",
    "# alt_scores_0 = tf.map_fn(build_hm_score_v3, [prob_grid, cy, cx,covar], dtype=tf.float32)    \n",
    "# print('    alt_scores_0 : ', KB.int_shape(alt_scores_0), ' Keras tensor ', KB.is_keras_tensor(alt_scores_0) )\n",
    "# alt_scores_0 = tf.scatter_nd(pt2_ind, alt_scores_0, \n",
    "#                                  [batch_size, num_classes, rois_per_image, KB.int_shape(alt_scores_0)[-1]], name = 'alt_scores_0')\n",
    "\n",
    "##---------------------------------------------------------------------------------------------\n",
    "## (NEW STEP - Clipped heatmaps) \n",
    "## (1)  Clip heatmap to region surrounding Cy,Cx and Covar X, Y \n",
    "##      Similar ro what is being done for gt_heatmap in CHMLayerTarget \n",
    "##---------------------------------------------------------------------------------------------    \n",
    "prob_grid_clipped = tf.map_fn(clip_heatmap, [prob_grid, cy,cx, covar], dtype = tf.float32, swap_memory = True)  \n",
    "logt('    prob_grid_clipped : ', prob_grid_clipped, verbose = verbose)\n",
    "\n",
    "\n",
    "##---------------------------------------------------------------------------------------------\n",
    "## (2) apply normalization per bbox heatmap instance\n",
    "##---------------------------------------------------------------------------------------------\n",
    "logt('\\n    normalization ------------------------------------------------------', verbose = verbose)   \n",
    "normalizer = tf.reduce_max(prob_grid_clipped, axis=[-2,-1], keepdims = True)\n",
    "normalizer = tf.where(normalizer < 1.0e-15,  tf.ones_like(normalizer), normalizer)\n",
    "logt('    normalizer     : ', normalizer, verbose = verbose)\n",
    "prob_grid_cns = prob_grid_clipped / normalizer\n",
    "\n",
    "\n",
    "##---------------------------------------------------------------------------------------------\n",
    "## (3) multiply normalized heatmap by normalized score in in_tensor/ (pt2_dense column 7)\n",
    "##     broadcasting : https://stackoverflow.com/questions/49705831/automatic-broadcasting-in-tensorflow\n",
    "##---------------------------------------------------------------------------------------------    \n",
    "prob_grid_cns = tf.transpose(tf.transpose(prob_grid_cns) * pt2_dense[:,7])\n",
    "logt('    prob_grid_cns: clipped/normed/scaled : ', prob_grid_cns, verbose = verbose)\n",
    "\n",
    "\n",
    "##---------------------------------------------------------------------------------------------\n",
    "## - Build alternative scores based on normalized/scaled/clipped heatmap\n",
    "##---------------------------------------------------------------------------------------------\n",
    "alt_scores_1 = tf.map_fn(build_hm_score_v3, [prob_grid_cns, cy, cx,covar], dtype=tf.float32)    \n",
    "logt('alt_scores_1 ', alt_scores_1, verbose = verbose)\n",
    "alt_scores_1_by_class = tf.scatter_nd(pt2_ind, alt_scores_1, \n",
    "                                 [batch_size, num_classes, rois_per_image, KB.int_shape(alt_scores_1)[-1]], name = 'alt_scores_1')  \n",
    "\n",
    "logt('alt_scores_1(by class) ', alt_scores_1_by_class, verbose = verbose)\n",
    "alt_scores_1_norm = normalize_scores(alt_scores_1_by_class)\n",
    "logt('alt_scores_1_norm(by_class) ', alt_scores_1_norm, verbose = verbose)\n",
    "# alt_scores_1_norm = tf.gather_nd(alt_scores_1_norm, pt2_ind)\n",
    "# print('    alt_scores_1_norm(by_image)  : ', alt_scores_1_norm.shape, KB.int_shape(alt_scores_1_norm))\n",
    "\n",
    "##-------------------------------------------------------------------------------------\n",
    "## (3) scatter out the probability distributions based on class \n",
    "##-------------------------------------------------------------------------------------\n",
    "gauss_heatmap   = tf.scatter_nd(pt2_ind, prob_grid_cns, \n",
    "                                [batch_size, num_classes, rois_per_image, grid_w, grid_h], name = 'gauss_scatter')\n",
    "logt('\\n    Scatter out the probability distributions based on class --------------', verbose = verbose)\n",
    "logt('pt2_ind shape      ', pt2_ind      , verbose = verbose)\n",
    "logt('prob_grid_clippped ', prob_grid_cns, verbose = verbose)\n",
    "logt('gauss_heatmap      ', gauss_heatmap, verbose = verbose)   # batch_sz , num_classes, num_rois, image_h, image_w\n",
    "\n",
    "##-------------------------------------------------------------------------------------\n",
    "## Construction of Gaussian Heatmap output using Reduce SUM\n",
    "##\n",
    "## (4) SUM : Reduce and sum up gauss_heatmaps by class  \n",
    "## (5) heatmap normalization (per class)\n",
    "## (6) Transpose heatmap to shape required for FCN\n",
    "##-------------------------------------------------------------------------------------\n",
    "gauss_heatmap_sum = tf.reduce_sum(gauss_heatmap, axis=2, name='gauss_heatmap_sum')\n",
    "logt('\\n    Reduce SUM based on class and normalize within each class -----------------------', verbose = verbose)\n",
    "logt('gaussian_heatmap_sum ', gauss_heatmap_sum , verbose = verbose)\n",
    "\n",
    "## normalize in class\n",
    "normalizer = tf.reduce_max(gauss_heatmap_sum, axis=[-2,-1], keepdims = True)\n",
    "normalizer = tf.where(normalizer < 1.0e-15,  tf.ones_like(normalizer), normalizer)\n",
    "gauss_heatmap_sum = gauss_heatmap_sum / normalizer\n",
    "# gauss_heatmap_sum_normalized = gauss_heatmap_sum / normalizer\n",
    "logt('normalizer shape   : ', normalizer, verbose = verbose)\n",
    "logt('normalized heatmap : ', gauss_heatmap_sum, verbose = verbose)\n",
    "\n",
    "##---------------------------------------------------------------------------------------------\n",
    "##  Score on reduced sum heatmaps. \n",
    "##\n",
    "##  build indices and extract heatmaps corresponding to each bounding boxes' class id\n",
    "##  build alternative scores#  based on normalized/sclaked clipped heatmap\n",
    "##---------------------------------------------------------------------------------------------\n",
    "hm_indices = tf.cast(pt2_ind[:, :2],dtype=tf.int32)\n",
    "logt('hm_indices   ',  hm_indices, verbose = verbose)\n",
    "\n",
    "pt2_heatmaps = tf.gather_nd(gauss_heatmap_sum, hm_indices )\n",
    "logt('pt2_heatmaps ',  pt2_heatmaps, verbose = verbose)\n",
    "\n",
    "alt_scores_2 = tf.map_fn(build_hm_score_v3, [pt2_heatmaps, cy, cx,covar], dtype=tf.float32)    \n",
    "logt('    alt_scores_2    : ', alt_scores_2, verbose = verbose)\n",
    "\n",
    "alt_scores_2_by_class = tf.scatter_nd(pt2_ind, alt_scores_2, \n",
    "                            [batch_size, num_classes, rois_per_image, KB.int_shape(alt_scores_2)[-1]], name = 'alt_scores_2')  \n",
    "\n",
    "logt('alt_scores_2_by_class     ', alt_scores_2_by_class, verbose = verbose)\n",
    "alt_scores_2_norm = normalize_scores(alt_scores_2_by_class)\n",
    "logt('alt_scores_2_norm(by_class) ', alt_scores_2_norm, verbose = verbose)\n",
    "\n",
    "# ##---------------------------------------------------------------------------------------------\n",
    "# ## Construction of Gaussian Heatmap output using Reduce MAX\n",
    "# ## (4) MAX : Reduce and sum up gauss_heatmaps by class  \n",
    "# ## (5) heatmap normalization\n",
    "# ## (6) Transpose heatmap to shape required for FCN\n",
    "# ##---------------------------------------------------------------------------------------------\n",
    "# print('\\n    Reduce MAX based on class and normalize within each class -------------------------------------')         \n",
    "# gauss_heatmap_max = tf.reduce_max(gauss_heatmap, axis=2, name='gauss_heatmap_max')\n",
    "# print('    gaussian_heatmap : ', gauss_heatmap_max.get_shape(), 'Keras tensor ', KB.is_keras_tensor(gauss_heatmap_max) )      \n",
    "# ## normalize in class\n",
    "# normalizer = tf.reduce_max(gauss_heatmap_max, axis=[-2,-1], keepdims = True)\n",
    "# normalizer = tf.where(normalizer < 1.0e-15,  tf.ones_like(normalizer), normalizer)\n",
    "# gauss_heatmap_max            = gauss_heatmap_max / normalizer\n",
    "# # gauss_heatmap_max_normalized = gauss_heatmap_max / normalizer\n",
    "# print('    normalizer shape   : ', normalizer.shape)   \n",
    "# print('    normalized heatmap_max : ', gauss_heatmap_max.shape   ,' Keras tensor ', KB.is_keras_tensor(gauss_heatmap_max) )\n",
    "\n",
    "\n",
    "# ##---------------------------------------------------------------------------------------------\n",
    "# ##  Score on reduced max heatmaps. \n",
    "# ##\n",
    "# ##   # ##  build indices and extract heatmaps corresponding to each bounding boxes' class id\n",
    "# ##  build alternative scores based on normalized/sclaked clipped heatmap\n",
    "# ##---------------------------------------------------------------------------------------------\n",
    "# hm_indices = tf.cast(pt2_ind[:, :2],dtype=tf.int32)\n",
    "# print('    hm_indices shape         :',  hm_indices.get_shape(), KB.int_shape(hm_indices))\n",
    "# pt2_heatmaps = tf.gather_nd(gauss_heatmap_max_normalized, hm_indices )\n",
    "# print('    pt2_heatmaps             :',  pt2_heatmaps.get_shape(), KB.int_shape(pt2_heatmaps))\n",
    "\n",
    "# alt_scores_3 = tf.map_fn(build_hm_score_v3, [pt2_heatmaps, cy, cx,covar], dtype=tf.float32)    \n",
    "# print('    alt_scores_3    : ', KB.int_shape(alt_scores_3), ' Keras tensor ', KB.is_keras_tensor(alt_scores_3) )\n",
    "# alt_scores_3 = tf.scatter_nd(pt2_ind, alt_scores_3, \n",
    "#                                  [batch_size, num_classes, rois_per_image, KB.int_shape(alt_scores_3)[-1]], name = 'alt_scores_3')  \n",
    "\n",
    "##---------------------------------------------------------------------------------------------\n",
    "## (6) Transpose heatmaps to shape required for FCN [batchsize , width, height, num_classes]\n",
    "##---------------------------------------------------------------------------------------------    \n",
    "gauss_heatmap_sum            = tf.transpose(gauss_heatmap_sum           ,[0,2,3,1], name = names[0])\n",
    "logt('reshaped heatmap ', gauss_heatmap_sum, verbose = verbose)\n",
    "# gauss_heatmap_sum_normalized = tf.transpose(gauss_heatmap_sum_normalized,[0,2,3,1], name = names[0]+'_norm')   \n",
    "# print('    reshaped heatmap normalized    : ', gauss_heatmap_sum_normalized.shape,' Keras tensor ', KB.is_keras_tensor(gauss_heatmap_sum_normalized) )\n",
    "\n",
    "# gauss_heatmap_max            = tf.transpose(gauss_heatmap_max           ,[0,2,3,1], name = names[0]+'_max')\n",
    "# print('    reshaped heatmap_max           : ', gauss_heatmap_max.shape,' Keras tensor ', KB.is_keras_tensor(gauss_heatmap_max) )\n",
    "# gauss_heatmap_max_normalized = tf.transpose(gauss_heatmap_max_normalized,[0,2,3,1], name = names[0]+'_max_norm') \n",
    "# print('    reshaped heatmap_max normalized: ', gauss_heatmap_max_normalized.shape,' Keras tensor ', KB.is_keras_tensor(gauss_heatmap_max_normalized) )\n",
    "\n",
    "##--------------------------------------------------------------------------------------------\n",
    "## APPEND ALL SCORES TO input score tensor TO YIELD output scores tensor\n",
    "##--------------------------------------------------------------------------------------------\n",
    "gauss_scores     = tf.concat([in_tensor, old_style_scores_by_class, alt_scores_1_by_class, alt_scores_1_norm, alt_scores_2_by_class, alt_scores_2_norm],\n",
    "                              axis = -1,name = names[0]+'_scores')\n",
    "logt('    gauss_scores    : ', gauss_scores, verbose = verbose)\n",
    "logt('    complete', verbose = verbose)\n",
    "\n",
    "#     return   gauss_heatmap_sum, gauss_scores  \n"
   ]
  },
  {
   "cell_type": "code",
   "execution_count": null,
   "metadata": {
    "ExecuteTime": {
     "end_time": "2018-12-21T15:33:35.929632Z",
     "start_time": "2018-12-21T15:33:35.593259Z"
    },
    "hidden": true
   },
   "outputs": [],
   "source": []
  },
  {
   "cell_type": "markdown",
   "metadata": {
    "heading_collapsed": true
   },
   "source": [
    "## setup tensors and call `build_heatmap()` "
   ]
  },
  {
   "cell_type": "markdown",
   "metadata": {
    "hidden": true
   },
   "source": [
    "### Evaluate results from `build_heatmap()`"
   ]
  },
  {
   "cell_type": "code",
   "execution_count": null,
   "metadata": {
    "ExecuteTime": {
     "end_time": "2018-12-22T19:15:55.618961Z",
     "start_time": "2018-12-22T19:15:49.716233Z"
    },
    "hidden": true,
    "hideCode": false,
    "hideOutput": false
   },
   "outputs": [],
   "source": [
    "#     pred_heatmap        = gauss_sum.eval()\n",
    "#     r_normalizer        = normalizer.eval()\n",
    "#     prob_grid           = prob_grid.eval()\n",
    "#     r_scores_from_sum2 = scores_from_sum2.eval()\n",
    "#     r_pt2_ind = pt2_ind.eval()\n",
    "#     r_pr_heatmap_scores = gauss_scores.eval()\n",
    "#     r_hm_indices        = hm_indices.eval()\n",
    " \n",
    "# del r_pr_heatmap, r_pr_heatmap_norm\n",
    "# del r_pr_heatmap_max, r_pr_heatmap_max_norm\n",
    "import keras.backend as KB\n",
    "sess = KB.get_session()\n",
    "with sess.as_default():\n",
    "    r_pt2_sum = pt2_sum.eval()\n",
    "    r_pt2_ind = pt2_ind.eval()\n",
    "    r_pt2_dense = pt2_dense.eval()\n",
    "    r_cx = cx.eval()\n",
    "    r_cy = cy.eval()\n",
    "    r_covar = covar.eval()\n",
    "    r_old_style_scores  = old_style_scores.eval()\n",
    "    r_alt_scores_1      = alt_scores_1.eval()\n",
    "    r_alt_scores_1_norm = alt_scores_1_norm.eval()\n",
    "    r_alt_scores_2      = alt_scores_2.eval()\n",
    "    r_alt_scores_2_norm = alt_scores_2_norm.eval()\n",
    "    r_gt_tensor         = gt_tensor.eval()\n",
    "    r_pr_tensor         = pr_tensor.eval()\n",
    "    r_pr_heatmap        = gauss_heatmap_sum.eval()\n",
    "    r_pr_heatmap_scores = gauss_scores.eval()\n",
    "#     r_gt_heatmap        = gt_heatmap.eval()\n",
    "#     r_gt_heatmap_scores = gt_heatmap_scores.eval()\n",
    "    \n",
    "#     r_pr_heatmap_norm   = gauss_heatmap_sum_normalized.eval()\n",
    "#     r_pr_heatmap_max        = gauss_heatmap_max.eval()\n",
    "#     r_pr_heatmap_max_norm   = gauss_heatmap_max_normalized.eval()\n"
   ]
  },
  {
   "cell_type": "code",
   "execution_count": null,
   "metadata": {
    "ExecuteTime": {
     "end_time": "2018-12-22T19:13:37.982578Z",
     "start_time": "2018-12-22T19:13:37.612317Z"
    },
    "hidden": true,
    "hideCode": false,
    "hideOutput": false,
    "scrolled": true
   },
   "outputs": [],
   "source": [
    "# print(r_pr_tensor.shape, np.any(np.isnan(r_pr_tensor)))\n",
    "# print(r_gt_tensor.shape, np.any(np.isnan(r_gt_tensor)))\n",
    "print(r_cx.shape, r_cy.shape)\n",
    "print(r_covar.shape    , np.any(np.isnan(r_covar)))\n",
    "print('old style_scores: ',r_old_style_scores.shape, np.any(np.isnan(r_old_style_scores)))\n",
    "print('alt_scores_1: ',r_alt_scores_1.shape    , np.any(np.isnan(r_alt_scores_1)))\n",
    "print('alt_scores_1_norm:',r_alt_scores_1_norm.shape    , np.any(np.isnan(r_alt_scores_1_norm)))\n",
    "print('alt_scores_2: ',r_alt_scores_2.shape    , np.any(np.isnan(r_alt_scores_2)))\n",
    "print('alt_scores_1_norm:',r_alt_scores_2_norm.shape    , np.any(np.isnan(r_alt_scores_2_norm)))\n",
    "# print(r_gt_heatmap.shape, np.any(np.isnan(r_gt_heatmap)))\n",
    "# print(r_gt_heatmap_scores.shape, np.any(np.isnan(r_gt_heatmap_scores)))\n",
    "print(r_pr_heatmap.shape, np.any(np.isnan(r_pr_heatmap)))\n",
    "print(r_pr_heatmap_scores.shape, np.any(np.isnan(r_pr_heatmap_scores)))\n",
    "# print(r_pr_heatmap_scores2.shape)\n",
    "# print(r_pr_heatmap.shape, r_pr_heatmap_norm.shape)\n",
    "# print(r_pr_heatmap_max.shape, r_pr_heatmap_max_norm.shape)"
   ]
  },
  {
   "cell_type": "markdown",
   "metadata": {
    "hidden": true
   },
   "source": [
    "####  cx, cy, covar display"
   ]
  },
  {
   "cell_type": "code",
   "execution_count": null,
   "metadata": {
    "ExecuteTime": {
     "end_time": "2018-12-22T18:27:22.109063Z",
     "start_time": "2018-12-22T18:27:21.770825Z"
    },
    "hidden": true
   },
   "outputs": [],
   "source": [
    "float_formatter = lambda x: \"%9.4f\" % x\n",
    "np_format = {}\n",
    "np_format['float']=float_formatter\n",
    "np.set_printoptions(linewidth=200, precision=3, floatmode='fixed', threshold =10000, formatter = np_format)   "
   ]
  },
  {
   "cell_type": "code",
   "execution_count": null,
   "metadata": {
    "ExecuteTime": {
     "end_time": "2018-12-22T19:19:49.602450Z",
     "start_time": "2018-12-22T19:19:49.240193Z"
    },
    "hidden": true
   },
   "outputs": [],
   "source": [
    "print(input_gt_class_ids)\n",
    "print(input_gt_bboxes[0,:10])\n",
    "print(r_pr_tensor.shape)\n",
    "print(r_pr_tensor[0,0,:])"
   ]
  },
  {
   "cell_type": "code",
   "execution_count": null,
   "metadata": {
    "ExecuteTime": {
     "end_time": "2018-12-22T19:00:56.420478Z",
     "start_time": "2018-12-22T19:00:56.036205Z"
    },
    "hidden": true,
    "scrolled": false
   },
   "outputs": [],
   "source": [
    "# print(model_pr_heatmap_scores[0,0,:50])\n",
    "# print('Image ids: ', outputs['mrcnn_input'][1][:,0])\n",
    "print('Image ids: ', input_image_meta[:,0])\n",
    "print(' pt2_dense  :', r_pt2_dense.shape)\n",
    "print(r_pt2_dense)\n",
    "print(' pt2_sum    :', r_pt2_sum.shape)\n",
    "print(r_pt2_sum)\n",
    "\n",
    "# img_id = 0\n",
    "# gt_class_ids = np.unique(model_gt_heatmap_scores[img_id,:,:,4]).astype(int).tolist()\n",
    "# pr_class_ids = np.unique(model_pr_heatmap_scores[img_id,:,:,4]).astype(int).tolist()\n",
    "# print('Image : {}  GT ClassIds: {}'.format(img_id, gt_class_ids))\n",
    "# print('Image : {}  PR ClassIds: {}'.format(img_id, pr_class_ids))\n",
    "\n",
    "print(' cx / cy/ covar:', r_cy.shape, r_cy.shape, r_covar.shape)\n",
    "print(r_cx, r_cy)\n",
    "r_xy = np.stack([r_cx,r_cy ], axis = 1 )\n",
    "r_xy_covar = np.concatenate([r_xy, r_covar], axis = 1)\n",
    "print(r_cx[12], r_cy[12], r_covar[12,:])\n",
    "\n",
    "# print('\\n map_output')\n",
    "# print(r_map_output[:20])\n",
    "\n",
    "print('\\n r_xy_covar')\n",
    "print(r_xy_covar[:60])"
   ]
  },
  {
   "cell_type": "markdown",
   "metadata": {
    "hidden": true
   },
   "source": [
    "####  Second"
   ]
  },
  {
   "cell_type": "code",
   "execution_count": null,
   "metadata": {
    "ExecuteTime": {
     "end_time": "2018-12-22T18:55:01.241370Z",
     "start_time": "2018-12-22T18:55:00.892122Z"
    },
    "hidden": true
   },
   "outputs": [],
   "source": [
    "float_formatter = lambda x: \"%10.4f\" % x\n",
    "np_format = {}\n",
    "np_format['float']=float_formatter\n",
    "np.set_printoptions(linewidth=195, precision=3, floatmode='fixed', threshold =10000, formatter = np_format)\n",
    "\n",
    "img_id = 0\n",
    "# gt_class_ids = np.unique(model_gt_heatmap_scores[img_id,:,:,4]).astype(int).tolist()\n",
    "# model_pr_class_ids = np.unique(model_pr_heatmap_scores[img_id,:,:,4]).astype(int).tolist()\n",
    "pr_class_ids = np.unique(r_pr_heatmap_scores[img_id,:,:,4]).astype(int).tolist()\n",
    "# pr_class_ids2 = np.unique(r_pr_heatmap_scores2[img_id,:,:,4]).astype(int).tolist()\n",
    "# print('Image : {}  MODEL GT ClassIds: {}'.format(img_id, gt_class_ids))\n",
    "# print('Image : {}  MODEL PR ClassIds: {}'.format(img_id, model_pr_class_ids))\n",
    "print('Image : {}        PR ClassIds: {}'.format(img_id, pr_class_ids))\n",
    "# print('Image : {}       PR2 ClassIds: {}'.format(img_id, pr_class_ids2))"
   ]
  },
  {
   "cell_type": "code",
   "execution_count": null,
   "metadata": {
    "ExecuteTime": {
     "end_time": "2018-12-22T19:16:31.055782Z",
     "start_time": "2018-12-22T19:16:30.680514Z"
    },
    "hidden": true
   },
   "outputs": [],
   "source": [
    "print(r_alt_scores_1.shape)\n",
    "print(r_alt_scores_1)\n",
    "print(r_old_style_scores.shape)\n",
    "print(r_old_style_scores)\n",
    "print(r_alt_scores_2.shape)\n",
    "print(r_alt_scores_2)"
   ]
  },
  {
   "cell_type": "markdown",
   "metadata": {
    "hidden": true
   },
   "source": [
    "####  pr_heatmap_scores"
   ]
  },
  {
   "cell_type": "code",
   "execution_count": null,
   "metadata": {
    "ExecuteTime": {
     "end_time": "2018-12-22T19:03:51.200766Z",
     "start_time": "2018-12-22T19:03:50.639579Z"
    },
    "hidden": true,
    "scrolled": false
   },
   "outputs": [],
   "source": [
    "img_id = 0 \n",
    "print(r_pr_heatmap_scores.shape)\n",
    "print(pr_class_ids)\n",
    "for i in  pr_class_ids:\n",
    "#     if i == 0 :\n",
    "#         continue\n",
    "    print()\n",
    "    print('class:', i, '-', dataset_train.class_names[i],'predicted in MRCNN' if i in pr_class_ids else ' ' )\n",
    "    for j in range(32):\n",
    "#         print('{:>86s} {}  '.format('PR bbox :  ',  r_pr_heatmap_scores[img_id, i,j,:4]))        \n",
    "        print('{:>86s} {}'.format('Y1, X1, Y2,X2:  ',  r_pr_heatmap_scores[img_id, i,j,:4]))\n",
    "        print('{:>86s} {}'.format('class, score, seqIid, norm_score:  ',  r_pr_heatmap_scores[img_id, i,j,[4,5,6,7]]))\n",
    "#         print('{:>86s} {}'.format(' model old style_scores:  ',model_pr_heatmap_scores[img_id, i,j,[8,9,10]]))\n",
    "        print('{:>86s} {}'.format(' r_pr  old style_scores:  ', r_pr_heatmap_scores[img_id, i,j,[8,9,10]]))\n",
    "#         print('{:>86s} {}'.format(' alt_scores_1      :  ',model_pr_heatmap_scores[img_id, i,j,[11,12,13,14,15,16]]))\n",
    "        print('{:>86s} {}'.format(' model alt_scores_1:  ',r_pr_heatmap_scores[img_id, i,j,[11,12,13,14,15,16]]))\n",
    "#         print('{:>86s} {}'.format(' alt_scores_2:  ',model_pr_heatmap_scores[img_id, i,j,[17,18,19,20,21,22]]))\n",
    "        print('{:>86s} {}'.format(' r_pr  alt_scores_2:  ',r_pr_heatmap_scores[img_id, i,j,[17,18,19,20,21,22]]))\n",
    "#         print('{:>86s} {}'.format(' new mrcnn_scores:  ',model_pr_heatmap_scores[img_id, i,j, 21:26]))\n",
    "#         print('{:>86s} {}'.format(' model alt_scores_2:  ',r_pr_heatmap_scores[img_id, i,j,21:26]))\n",
    "#         print('{:>86s} {}'.format(' new mrcnn_scores normalized:  ',model_pr_heatmap_scores[img_id, i,j,26:31]))\n",
    "#         print('{:>86s} {}'.format(' r_pr  alt_scores_2 normalized:  ',r_pr_heatmap_scores[img_id, i,j,26:31]))        \n",
    "        print()\n",
    "#         print('{:>86s} {}  '.format('gt bbox :  ',  r_gt_heatmap_scores[img_id, i,j,:4]))\n",
    "#         print('{:>86s} {}  '.format('gt class, score, seqIid, norm_score:  ',  r_gt_heatmap_scores[img_id, i,j,[4,5,6,7]]))\n",
    "#         print('{:>86s} {}'.format(' gt old style_scores:  ',model_gt_heatmap_scores[img_id, i,j,[8,9,10]]))\n",
    "#         print('{:>86s} {}'.format(' gt old style_scores:  ', r_gt_heatmap_scores[img_id, i,j,[8,9,10]]))\n",
    "#         print('{:>86s} {}'.format(' model gt alt_scores_1:  ',model_gt_heatmap_scores[img_id, i,j,[11,12,13,14,15]]))\n",
    "#         print('{:>86s} {}'.format(' gt alt_scores_1:  ',r_gt_heatmap_scores[img_id, i,j,[11,12,13,14,15]]))\n",
    "#         print('{:>86s} {}'.format(' model gt alt_scores_1 normalized:  ',model_gt_heatmap_scores[img_id, i,j,[16,17,18,19,20]]))\n",
    "#         print('{:>86s} {}'.format(' gt alt_scores_1 normalized:  ',r_gt_heatmap_scores[img_id, i,j,[16,17,18,19,20]]))\n",
    "#         print('{:>86s} {}'.format(' model gt alt_scores_2::  ',model_gt_heatmap_scores[img_id, i,j, 21:26]))\n",
    "#         print('{:>86s} {}'.format(' gt alt_scores_2:  ',r_gt_heatmap_scores[img_id, i,j,21:26]))\n",
    "#         print('{:>86s} {}'.format(' model gt alt_scores_2 normalized:  ',model_gt_heatmap_scores[img_id, i,j,26:31]))\n",
    "#         print('{:>86s} {}'.format(' gt alt_scores_2 normalized:  ',r_gt_heatmap_scores[img_id, i,j,26:31]))        \n",
    "        print()\n",
    "#         if (np.all( r_pr_heatmap_scores[img_id,i,j,:4] == 0)):\n",
    "#             print('break')\n",
    "#             break"
   ]
  },
  {
   "cell_type": "code",
   "execution_count": null,
   "metadata": {
    "ExecuteTime": {
     "end_time": "2018-11-30T11:01:38.720630Z",
     "start_time": "2018-11-30T11:01:38.335358Z"
    },
    "hidden": true,
    "scrolled": true
   },
   "outputs": [],
   "source": [
    "for i in  pr_class_ids:\n",
    "    if i == 0 :\n",
    "        continue\n",
    "    print()\n",
    "    print('class:', i, '-', dataset_train.class_names[i],'predicted in MRCNN' if i in pr_class_ids else ' ' , ' (Ground Truth) ' if  i in gt_class_ids else ' ')\n",
    "    for j in range(200):\n",
    "        print(model_pr_heatmap_scores[img_id, i, j, 4:])\n",
    "        print(    r_pr_heatmap_scores[img_id, i, j, 4:])\n",
    "        print()\n",
    "        if (np.all( r_pr_heatmap_scores[img_id,i,j,:4] == 0)):\n",
    "            print()\n",
    "            print('{:12s}{:10.4f} {} {:10.4f} {}{:10.4f} {} {:10.4f} {:10.4f} {:10.4f} {:10.4f}'.format(\n",
    "                ' ', np.mean(r_pr_heatmap_scores[img_id,i,:j,5]),\n",
    "                ' '*10, np.mean(r_pr_heatmap_scores[img_id,i,:j,7]),\n",
    "                '', np.mean(r_pr_heatmap_scores[img_id,i,:j,8]),\n",
    "                ' '*10, np.mean(r_pr_heatmap_scores[img_id,i,:j,10]),\n",
    "                np.mean(r_pr_heatmap_scores[img_id,i,:j,11]),\n",
    "                np.mean(r_pr_heatmap_scores[img_id,i,:j,12]),\n",
    "                np.mean(r_pr_heatmap_scores[img_id,i,:j,13]),                \n",
    "            ))\n",
    "            print(' {} {:10.4f} {} {:10.4f} {}{:10.4f} {} {:10.4f} {:10.4f} {:10.4f} {:10.4f}'.format(\n",
    "                ' '*10, np.std(r_pr_heatmap_scores[img_id,i,:j,5]),\n",
    "                ' '*10, np.std(r_pr_heatmap_scores[img_id,i,:j,7]),\n",
    "                '', np.std(r_pr_heatmap_scores[img_id,i,:j,8]),\n",
    "                ' '*10, np.std(r_pr_heatmap_scores[img_id,i,:j,10]),\n",
    "                np.std(r_pr_heatmap_scores[img_id,i,:j,11]),\n",
    "                np.std(r_pr_heatmap_scores[img_id,i,:j,12]),\n",
    "                np.std(r_pr_heatmap_scores[img_id,i,:j,13]),                \n",
    "            ))            \n",
    "            break"
   ]
  },
  {
   "cell_type": "markdown",
   "metadata": {
    "hidden": true
   },
   "source": [
    "###  print `gt_heatmap_scores`"
   ]
  },
  {
   "cell_type": "code",
   "execution_count": null,
   "metadata": {
    "ExecuteTime": {
     "end_time": "2018-11-30T12:09:07.242471Z",
     "start_time": "2018-11-30T12:09:06.800160Z"
    },
    "hidden": true,
    "scrolled": false
   },
   "outputs": [],
   "source": [
    "img_id = 0 \n",
    "for i in  pr_class_ids:\n",
    "    if i == 0 :\n",
    "        continue\n",
    "    print()\n",
    "    print('class:', i, '-', dataset_train.class_names[i],'predicted in MRCNN' if i in pr_class_ids else ' ' , ' (Ground Truth) ' if  i in gt_class_ids else ' ')\n",
    "    for j in range(200):\n",
    "        print('{:>86s} {}  '.format('class, score, seqIid, norm_score:  ',  r_gt_heatmap_scores[img_id, i,j,[4,5,6,7]]))\n",
    "        print('{:>86s} {}'.format(' gt old style_scores:  ',model_gt_heatmap_scores[img_id, i,j,[8,9,10]]))\n",
    "        print('{:>86s} {}'.format(' gt old style_scores:  ', r_gt_heatmap_scores[img_id, i,j,[8,9,10]]))\n",
    "        print('{:>86s} {}'.format(' model gt alt_scores_1:  ',model_gt_heatmap_scores[img_id, i,j,[11,12,13,14,15]]))\n",
    "        print('{:>86s} {}'.format(' gt alt_scores_1:  ',r_gt_heatmap_scores[img_id, i,j,[11,12,13,14,15]]))\n",
    "        print('{:>86s} {}'.format(' model gt alt_scores_1 normalized:  ',model_gt_heatmap_scores[img_id, i,j,[16,17,18,19,20]]))\n",
    "        print('{:>86s} {}'.format(' gt alt_scores_1 normalized:  ',r_gt_heatmap_scores[img_id, i,j,[16,17,18,19,20]]))\n",
    "        print('{:>86s} {}'.format(' model gt alt_scores_2::  ',model_gt_heatmap_scores[img_id, i,j, 21:26]))\n",
    "        print('{:>86s} {}'.format(' gt alt_scores_2:  ',r_gt_heatmap_scores[img_id, i,j,21:26]))\n",
    "        print('{:>86s} {}'.format(' model gt alt_scores_2 normalized:  ',model_gt_heatmap_scores[img_id, i,j,26:31]))\n",
    "        print('{:>86s} {}'.format(' gt alt_scores_2 normalized:  ',r_gt_heatmap_scores[img_id, i,j,26:31]))        \n",
    "        print()\n",
    "        if (np.all( r_gt_heatmap_scores[img_id,i,j,:4] == 0)):\n",
    "            print('break')\n",
    "            break"
   ]
  },
  {
   "cell_type": "code",
   "execution_count": null,
   "metadata": {
    "ExecuteTime": {
     "end_time": "2018-11-27T17:22:22.433728Z",
     "start_time": "2018-11-27T17:22:21.919365Z"
    },
    "hidden": true,
    "scrolled": true
   },
   "outputs": [],
   "source": [
    "for i in  gt_class_ids:\n",
    "    if i == 0 :\n",
    "        continue\n",
    "    print()\n",
    "    print('class:', i, '-', dataset_train.class_names[i],'predicted in MRCNN' if i in gt_class_ids else ' ' , ' (Ground Truth) ' if  i in gt_class_ids else ' ')\n",
    "    for j in range(200):\n",
    "        print(model_gt_heatmap_scores[img_id, i, j, 4:])\n",
    "        print(    r_gt_heatmap_scores[img_id, i, j, 4:])\n",
    "        print()\n",
    "        if (np.all( r_gt_heatmap_scores[img_id,i,j,:4] == 0)):\n",
    "            print()\n",
    "            print('{:12s}{:10.4f} {} {:10.4f} {}{:10.4f} {} {:10.4f} {:10.4f} {:10.4f} {:10.4f}'.format(\n",
    "                ' ', np.mean(r_gt_heatmap_scores[img_id,i,:j,5]),\n",
    "                ' '*10, np.mean(r_gt_heatmap_scores[img_id,i,:j,7]),\n",
    "                '', np.mean(r_gt_heatmap_scores[img_id,i,:j,8]),\n",
    "                ' '*10, np.mean(r_gt_heatmap_scores[img_id,i,:j,10]),\n",
    "                np.mean(r_gt_heatmap_scores[img_id,i,:j,11]),\n",
    "                np.mean(r_gt_heatmap_scores[img_id,i,:j,12]),\n",
    "                np.mean(r_gt_heatmap_scores[img_id,i,:j,13]),                \n",
    "            ))\n",
    "            print(' {} {:10.4f} {} {:10.4f} {}{:10.4f} {} {:10.4f} {:10.4f} {:10.4f} {:10.4f}'.format(\n",
    "                ' '*10, np.std(r_gt_heatmap_scores[img_id,i,:j,5]),\n",
    "                ' '*10, np.std(r_gt_heatmap_scores[img_id,i,:j,7]),\n",
    "                '', np.std(r_gt_heatmap_scores[img_id,i,:j,8]),\n",
    "                ' '*10, np.std(r_gt_heatmap_scores[img_id,i,:j,10]),\n",
    "                np.std(r_gt_heatmap_scores[img_id,i,:j,11]),\n",
    "                np.std(r_gt_heatmap_scores[img_id,i,:j,12]),\n",
    "                np.std(r_gt_heatmap_scores[img_id,i,:j,13]),                \n",
    "            ))            \n",
    "            break"
   ]
  },
  {
   "cell_type": "markdown",
   "metadata": {
    "heading_collapsed": true,
    "hidden": true
   },
   "source": [
    "#### compare results of `pred_heatmap_scores` from code above and program file"
   ]
  },
  {
   "cell_type": "code",
   "execution_count": null,
   "metadata": {
    "ExecuteTime": {
     "end_time": "2018-11-25T23:30:16.677636Z",
     "start_time": "2018-11-25T23:30:16.248628Z"
    },
    "hidden": true,
    "hideOutput": true,
    "scrolled": false
   },
   "outputs": [],
   "source": [
    "np.set_printoptions(linewidth=150, precision=6) \n",
    "print('pred_heatmap_scores shape is       ', r_pr_heatmap_scores.shape )\n",
    "print('pred_heatmap_scores from model is :', model_pr_heatmap_scores.shape)\n",
    "for img in [0]:\n",
    "    class_ids = np.unique(r_pr_heatmap_scores[img,:,:,4]).astype(int).tolist()    \n",
    "    print('Classids: ', class_ids)\n",
    "    for i in class_ids:\n",
    "        print('Image ', img , '/ Class ',i)\n",
    "        for j in range(200):\n",
    "            print(model_gt_heatmap_scores[img,i,j])\n",
    "            print(r_pr_heatmap_scores[img,i,j])\n",
    "            print(model_pr_heatmap_scores[img,i,j])\n",
    "            print()\n",
    "            if (r_pr_heatmap_scores[img,i,j,-1] == model_pr_heatmap_scores[img,i,j,-1] == 0):\n",
    "                break\n",
    "        print()\n"
   ]
  },
  {
   "cell_type": "markdown",
   "metadata": {
    "heading_collapsed": true,
    "hidden": true
   },
   "source": [
    "###  Alternative method: use `scatter_nd_add` to build guassian sum\n",
    "requires definition of tf.variable"
   ]
  },
  {
   "cell_type": "code",
   "execution_count": null,
   "metadata": {
    "ExecuteTime": {
     "end_time": "2018-10-08T13:51:09.679531Z",
     "start_time": "2018-10-08T13:51:09.587607Z"
    },
    "hidden": true
   },
   "outputs": [],
   "source": [
    "with sess.as_default():\n",
    "#   kvar = KB.variable(value = KB.zeros([batch_size, num_classes, grid_w, grid_h], dtype = 'float32'))\n",
    "#   kvar = tf.scatter_nd_add(kvar, pt2_ind[:,:2],prob_grid)\n",
    "\n",
    "#   kvar_norm  = KB.variable(value = KB.zeros([batch_size, num_classes, grid_w, grid_h], dtype = 'float32'))\n",
    "#   kvar_norm = tf.scatter_nd_add(kvar_norm, pt2_ind[:,:2],prob_grid)\n",
    "\n",
    "    kvar_norm_scaled = KB.variable(value = KB.zeros([batch_size, num_classes, grid_w, grid_h], dtype = 'float32'))\n",
    "    kvar_norm_scaled = KB.zeros([batch_size, num_classes, grid_w, grid_h])\n",
    "    kvar_norm_scaled = tf.scatter_nd_add(kvar_norm_scaled, pt2_ind[:,:2],prob_grid_norm_scaled)\n",
    "\n",
    "    ##---------------------------------------------------------------------------------------------\n",
    "    ## heatmap normalization\n",
    "    ## normalizer is set to one when the max of class is zero     \n",
    "    ## this prevents elements of gauss_heatmap_norm computing to nan\n",
    "    ##---------------------------------------------------------------------------------------------\n",
    "    print('\\n    normalization ------------------------------------------------------')   \n",
    "    normalizer = tf.reduce_max(kvar_norm_scaled, axis=[-2,-1], keepdims = True)\n",
    "    normalizer = tf.where(normalizer < 1.0e-15,  tf.ones_like(normalizer), normalizer)\n",
    "    gaussian_heatmap_norm = kvar_norm_scaled / normalizer\n",
    "    # gauss_heatmap_norm    = gauss_heatmap / tf.reduce_max(gauss_heatmap, axis=[-2,-1], keepdims = True)\n",
    "    # gauss_heatmap_norm    = tf.where(tf.is_nan(gauss_heatmap_norm),  tf.zeros_like(gauss_heatmap_norm), gauss_heatmap_norm, name = 'Where2')\n",
    "    print('    gauss norm            : ', gaussian_heatmap_norm.shape  )        "
   ]
  },
  {
   "cell_type": "markdown",
   "metadata": {
    "hidden": true
   },
   "source": [
    "#### Tests"
   ]
  },
  {
   "cell_type": "code",
   "execution_count": null,
   "metadata": {
    "ExecuteTime": {
     "end_time": "2018-09-26T16:31:20.741468Z",
     "start_time": "2018-09-26T16:29:40.444137Z"
    },
    "hidden": true,
    "scrolled": true
   },
   "outputs": [],
   "source": [
    "with sess.as_default():\n",
    "#     r_ghm  = gauss_heatmap.eval()\n",
    "    r_kvar = KB.eval(kvar)\n",
    "    r_kvar_norm = KB.eval(kvar_norm)\n",
    "    r_kvar_norm_scaled = KB.eval(kvar_norm_scaled)\n",
    "    r_kvar_final = kvar_final.eval()\n",
    "#     r_kvar = kvar.eval()\n",
    "#     r_kvar_norm = kvar_norm.eval()\n",
    "#     r_kvar_norm_scaled = kvar_norm_scaled.eval()\n",
    "#     r_kvar_final = kvar_final.eval()"
   ]
  },
  {
   "cell_type": "code",
   "execution_count": null,
   "metadata": {
    "ExecuteTime": {
     "end_time": "2018-09-26T16:31:20.835850Z",
     "start_time": "2018-09-26T16:31:20.791378Z"
    },
    "hidden": true
   },
   "outputs": [],
   "source": [
    "print(r_kvar.shape, r_kvar_norm.shape, r_kvar_norm_scaled.shape, r_kvar_final.shape)"
   ]
  },
  {
   "cell_type": "code",
   "execution_count": null,
   "metadata": {
    "ExecuteTime": {
     "end_time": "2018-09-26T16:31:20.789145Z",
     "start_time": "2018-09-26T16:31:20.744504Z"
    },
    "hidden": true,
    "scrolled": true
   },
   "outputs": [],
   "source": [
    "# np.set_printoptions(precision=4, threshold=30000, linewidth=260, suppress=True)\n",
    "# print(r_kvar.shape, r_ghm.shape)\n",
    "# print(kvar, gauss_heatmap)\n",
    "# for  i in [9]:  #range(81):\n",
    "#     for j in range(256):\n",
    "#         print(' Col: ', j, ': ',np.all(r_kvar[0,i,j] == r_ghm[0,i,j]))\n"
   ]
  },
  {
   "cell_type": "code",
   "execution_count": null,
   "metadata": {
    "ExecuteTime": {
     "end_time": "2018-09-26T16:32:02.165855Z",
     "start_time": "2018-09-26T16:31:54.694866Z"
    },
    "hidden": true,
    "scrolled": false
   },
   "outputs": [],
   "source": [
    "from mrcnn.visualize import plot_2d_gaussian, plot_3d_gaussian\n",
    "cls = 1\n",
    "plot_3d_gaussian(r_ghm[0,cls])\n",
    "plot_3d_gaussian(r_kvar[0,cls])\n",
    "plot_3d_gaussian(r_kvar_norm[0,cls])\n",
    "plot_3d_gaussian(r_kvar_final[0,cls])\n",
    "\n",
    "# for i in range(81):\n",
    "#     print(np.max(r_kvar[0,i]), np.max(r_ghm[0,i]), np.sum(r_kvar[0,i]),np.sum(r_ghm[0,i]))\n",
    "# plot_3d_gaussian(r_prob_grid_norm_scaled[box])"
   ]
  },
  {
   "cell_type": "code",
   "execution_count": null,
   "metadata": {
    "ExecuteTime": {
     "end_time": "2018-09-26T09:14:52.264821Z",
     "start_time": "2018-09-26T09:14:52.218973Z"
    },
    "hidden": true,
    "hideCode": false,
    "hideOutput": true,
    "scrolled": true
   },
   "outputs": [],
   "source": [
    "# np.set_printoptions(linewidth=150, precision=6)\n",
    "# # print('scatter shape is ', pred_scatt.get_shape())\n",
    "# print('pt2_dense shape is ', pt2_dense.get_shape() )\n",
    "# with sess.as_default():\n",
    "#     r_pt2_ind   = pt2_ind.eval()\n",
    "#     r_pt2_dense = pt2_dense.eval()\n",
    "#     X1,Y1 = tf.meshgrid(tf.range(batch_size, dtype=tf.int32), tf.range(num_detections, dtype=tf.int32), indexing = 'ij')\n",
    "#     r_X1 = X1.eval()\n",
    "#     r_Y1 = Y1.eval()\n",
    "# print(r_X1.shape , Y1.shape)\n",
    "# print(r_X1)\n",
    "# print(r_Y1)\n",
    "# print(r_pt2_ind.shape)\n",
    "# where_to_go = np.stack([r_pt2_ind[:,0],r_pt2_dense[:,4], r_pt2_dense[:,6]],axis =-1)\n",
    "# print(where_to_go.shape)\n",
    "# print(where_to_go)\n",
    "\n",
    "# class_ids = np.unique(r_pt2_dense[:,4]).astype(int).tolist()    \n",
    "# print('Classids: ', class_ids)\n",
    "\n",
    "# for box in range(r_pt2_ind.shape[0]):\n",
    "#     print(r_pt2_ind[box],'      ', r_pt2_dense[box,:])"
   ]
  },
  {
   "cell_type": "code",
   "execution_count": null,
   "metadata": {
    "ExecuteTime": {
     "end_time": "2018-09-25T13:17:02.166622Z",
     "start_time": "2018-09-25T13:17:02.123433Z"
    },
    "hidden": true,
    "hideCode": false,
    "hideOutput": true
   },
   "outputs": [],
   "source": [
    "#     gauss_sum = tf.zeros([batch_size, num_classes, rois_per_image, img_w//scale, img_h//scale])\n",
    "#     print('    gaussian_sum shape     : ', gauss_sum.get_shape(), 'Keras tensor ', KB.is_keras_tensor(gauss_sum) )      \n",
    "\n",
    "#     counter = 0\n",
    "#     limit   = batch_size * rois_per_image\n",
    "#     c = lambda i, j, k,l: tf.less_equal(i, pt2_ind.get_shape()[0])\n",
    "#     b = lambda i, j, k,l: tf.add(j[k[i]], l[i])\n",
    "#     loop_vars = [counter, gauss_sum, pt2_ind, prob_grid]\n",
    "#     tf.while_loop(c, b, loop_vars)\n",
    "\n",
    "\n",
    "#     print('pt2_dense shape',pt2_dense.shape)\n",
    "#     for i in range(pt2_dense.shape[0]):\n",
    "#         print('i', i, 'pt2_ind[i]',pt2_ind[i].shape)\n",
    "#         gauss_sum[pt2_ind[i,:]] += prob_grid[i]"
   ]
  },
  {
   "cell_type": "code",
   "execution_count": null,
   "metadata": {
    "ExecuteTime": {
     "end_time": "2018-09-26T16:05:49.554110Z",
     "start_time": "2018-09-26T16:05:14.827455Z"
    },
    "hidden": true
   },
   "outputs": [],
   "source": [
    "with sess.as_default():\n",
    "#     init_sum.initializer()\n",
    "    r_ghm_norm  = gauss_heatmap_norm.eval()"
   ]
  },
  {
   "cell_type": "code",
   "execution_count": null,
   "metadata": {
    "ExecuteTime": {
     "end_time": "2018-11-26T15:23:31.256591Z",
     "start_time": "2018-11-26T15:23:30.929356Z"
    },
    "hidden": true
   },
   "outputs": [],
   "source": [
    "from mrcnn.visualize import plot_2d_gaussian, plot_3d_gaussian\n",
    "box = 23\n",
    "plot_3d_gaussian(r_ghm_norm[0,1])\n",
    "plot_3d_gaussian(r_ghm[0,1])\n",
    "# for i in range(81):\n",
    "#     print(np.max(r_kvar[0,i]), np.max(r_ghm[0,i]), np.sum(r_kvar[0,i]),np.sum(r_ghm[0,i]))\n",
    "# plot_3d_gaussian(r_prob_grid_norm_scaled[box])"
   ]
  },
  {
   "cell_type": "markdown",
   "metadata": {},
   "source": [
    "##  Plot heatmaps\n"
   ]
  },
  {
   "cell_type": "markdown",
   "metadata": {},
   "source": [
    "### Plot 2D heatmaps "
   ]
  },
  {
   "cell_type": "code",
   "execution_count": 83,
   "metadata": {
    "ExecuteTime": {
     "end_time": "2019-02-08T13:05:24.529799Z",
     "start_time": "2019-02-08T13:05:24.190776Z"
    },
    "hideCode": false,
    "hideOutput": false
   },
   "outputs": [
    {
     "name": "stdout",
     "output_type": "stream",
     "text": [
      "Image id:  0\n",
      "Image : 0  MODEL GT ClassIds: [0, 2, 3, 4]\n",
      "Image : 0  MODEL PR ClassIds: [0, 2, 3, 4]\n"
     ]
    }
   ],
   "source": [
    "from mrcnn.visualize import plot_one_bbox_heatmap, plot_3d_heatmap,plot_2d_heatmap, plot_2d_heatmap_with_bboxes\n",
    "import matplotlib as plt\n",
    "# %matplotlib notebook\n",
    "%matplotlib inline\n",
    "img_id = 0\n",
    "print('Image id: ',img_id)\n",
    "pr_class_ids = np.unique(model_pred_heatmap_scores[img_id,:,:,4]).astype(int).tolist()\n",
    "gt_class_ids = np.unique(model_gt_heatmap_scores[img_id,:,:,4]).astype(int).tolist()\n",
    "# new_pr_class_ids = np.unique(r_pr_heatmap_scores[img_id,:,:,4]).astype(int).tolist()\n",
    "print('Image : {}  MODEL GT ClassIds: {}'.format(img_id, gt_class_ids))\n",
    "print('Image : {}  MODEL PR ClassIds: {}'.format(img_id, pr_class_ids))\n",
    "# print('Image : {}        PR ClassIds: {}'.format(img_id, new_pr_class_ids))\n",
    "class_names = dataset_train.class_names"
   ]
  },
  {
   "cell_type": "markdown",
   "metadata": {},
   "source": [
    "####  2D plot of `pred_heatmap_norm` returned from model : `model_pred_heatmap_norm`"
   ]
  },
  {
   "cell_type": "code",
   "execution_count": 85,
   "metadata": {
    "ExecuteTime": {
     "end_time": "2019-02-08T13:08:23.567507Z",
     "start_time": "2019-02-08T13:08:21.913820Z"
    },
    "hideCode": false,
    "hideOutput": false,
    "scrolled": false
   },
   "outputs": [
    {
     "name": "stdout",
     "output_type": "stream",
     "text": [
      "(2, 128, 128, 7)\n",
      "(2, 7, 32, 24)\n",
      "Image : 0  ClassIds: [0, 2, 3, 4]\n",
      " Scaling options are 'all', 'class'/'each', 'clip', or 'none' \n",
      " Shape of Z:  (2, 128, 128, 7)  boxes:  (2, 7, 32, 24)\n",
      " Image Id:  0  Display classes: [0, 2, 3, 4]\n",
      " rows   2  columns : 3 boxes.shape :  (7, 32, 24)\n",
      " min_z_all shape: ()  min_z_all: 0.0  max_z_all: () max_z_all: 1.0\n",
      " min_z_cls shape: (1, 1, 7)  max_z_cls shape: (1, 1, 7)\n",
      " SCALING == none \n"
     ]
    },
    {
     "data": {
      "image/png": "[encoded data removed]",
      "text/plain": [
       "<Figure size 1944x1296 with 8 Axes>"
      ]
     },
     "metadata": {},
     "output_type": "display_data"
    }
   ],
   "source": [
    "for img_id in [0]: ## range(mrcnn_config.BATCH_SIZE):\n",
    "    # print(pred_refined_heatmap_scores[img_id,:4])\n",
    "    print(model_pred_heatmap.shape)\n",
    "    print(model_pred_heatmap_scores.shape)\n",
    "    print('Image : {}  ClassIds: {}'.format(img_id, pr_class_ids))\n",
    "    plot_2d_heatmap(model_pred_heatmap, model_pred_heatmap_scores, img_id, columns = 3, \n",
    "                                class_ids = pr_class_ids , \n",
    "                                class_names = class_names, scale = 1)   "
   ]
  },
  {
   "cell_type": "markdown",
   "metadata": {},
   "source": [
    "####  2D plot of `pred_heatmap_norm` returned from model prediction: `res = predict(train_batch_x)`"
   ]
  },
  {
   "cell_type": "code",
   "execution_count": null,
   "metadata": {
    "ExecuteTime": {
     "end_time": "2018-11-27T14:58:38.152465Z",
     "start_time": "2018-11-27T14:58:37.728086Z"
    },
    "hideCode": false,
    "hideOutput": false,
    "scrolled": false
   },
   "outputs": [],
   "source": [
    "\n",
    "for img_id in [0]: ## range(mrcnn_config.BATCH_SIZE):\n",
    "    # print(pred_refined_heatmap_scores[img_id,:4])\n",
    "    print(model_pr_heatmap.shape)\n",
    "    print(model_pr_heatmap_scores.shape)\n",
    "    print('Image : {}  ClassIds: {}'.format(img_id, pr_class_ids))\n",
    "    plot_2d_heatmap(r_pr_heatmap, r_pr_heatmap_scores, img_id, columns = 3, \n",
    "                                class_ids = pr_class_ids , \n",
    "                                class_names = class_names, scale = 4)       \n",
    "#     plot_2d_heatmap_with_bboxes(res[0], res[1], \n",
    "#                                 img_id, class_ids, width=6, height=6, class_names = class_names, scale = 4)"
   ]
  },
  {
   "cell_type": "code",
   "execution_count": null,
   "metadata": {
    "ExecuteTime": {
     "end_time": "2018-11-26T17:06:57.477946Z",
     "start_time": "2018-11-26T17:06:56.225055Z"
    },
    "hideCode": false,
    "hideOutput": false,
    "scrolled": false
   },
   "outputs": [],
   "source": [
    "for img_id in [0]: ## range(mrcnn_config.BATCH_SIZE):\n",
    "    # print(pred_refined_heatmap_scores[img_id,:4])\n",
    "    print(r_pr_heatmap_max.shape)\n",
    "    print(r_pr_heatmap_scores.shape)\n",
    "    print('Image : {}  ClassIds: {}'.format(img_id, pr_class_ids))\n",
    "    plot_2d_heatmap(r_pr_heatmap_max, r_pr_heatmap_scores, img_id, columns = 3, \n",
    "                                class_ids = pr_class_ids , \n",
    "                                class_names = class_names, scale = 4)       \n",
    "#     plot_2d_heatmap_with_bboxes(res[0], res[1], \n",
    "#                                 img_id, class_ids, width=6, height=6, class_names = class_names, scale = 4)"
   ]
  },
  {
   "cell_type": "markdown",
   "metadata": {},
   "source": [
    "####  2D plot of `model_gt_heatmap_norm` returned from model"
   ]
  },
  {
   "cell_type": "code",
   "execution_count": 88,
   "metadata": {
    "ExecuteTime": {
     "end_time": "2019-02-08T13:09:00.119322Z",
     "start_time": "2019-02-08T13:08:58.524899Z"
    },
    "hideCode": false,
    "hideOutput": false,
    "scrolled": false
   },
   "outputs": [
    {
     "name": "stdout",
     "output_type": "stream",
     "text": [
      "(2, 128, 128, 7)\n",
      "Image : 0  ClassIds: [0, 2, 3, 4]\n",
      " Scaling options are 'all', 'class'/'each', 'clip', or 'none' \n",
      " Shape of Z:  (2, 128, 128, 7)  boxes:  (2, 7, 32, 24)\n",
      " Image Id:  0  Display classes: [0, 2, 3, 4]\n",
      " rows   1  columns : 5 boxes.shape :  (7, 32, 24)\n",
      " min_z_all shape: ()  min_z_all: 0.0  max_z_all: () max_z_all: 1.0\n",
      " min_z_cls shape: (1, 1, 7)  max_z_cls shape: (1, 1, 7)\n",
      " SCALING == none \n"
     ]
    },
    {
     "data": {
      "image/png": "[encoded data removed]",
      "text/plain": [
       "<Figure size 3240x648 with 8 Axes>"
      ]
     },
     "metadata": {},
     "output_type": "display_data"
    }
   ],
   "source": [
    "for img_id in [0]:     ##range(mrcnn_config.BATCH_SIZE):\n",
    "    print(model_gt_heatmap.shape)\n",
    "    print('Image : {}  ClassIds: {}'.format(img_id, gt_class_ids))\n",
    "    plot_2d_heatmap_with_bboxes(model_gt_heatmap, model_gt_heatmap_scores, img_id,  \n",
    "                                class_ids = gt_class_ids, columns= 5, class_names = class_names, scale = 1)"
   ]
  },
  {
   "cell_type": "markdown",
   "metadata": {},
   "source": [
    "###  3D Plots"
   ]
  },
  {
   "cell_type": "markdown",
   "metadata": {},
   "source": [
    "####  3D plot of `model_pred_heatmap_norm` returned form model"
   ]
  },
  {
   "cell_type": "code",
   "execution_count": null,
   "metadata": {
    "ExecuteTime": {
     "end_time": "2018-11-09T17:50:55.428330Z",
     "start_time": "2018-11-09T17:50:52.799096Z"
    },
    "hideCode": false,
    "hideOutput": false,
    "scrolled": false
   },
   "outputs": [],
   "source": [
    "for img_id in [0]: ##range(mrcnn_config.BATCH_SIZE):\n",
    "    print(model_pred_heatmap_norm.shape)\n",
    "    class_ids = np.unique(model_pred_heatmap_scores[img_id,:,:,4]).astype(int).tolist()\n",
    "    print('Image : {}  ClassIds: {}'.format(img_id, class_ids))\n",
    "    plot_3d_heatmap(model_pred_heatmap_norm, img_id, class_ids, class_names = class_names)\n"
   ]
  },
  {
   "cell_type": "markdown",
   "metadata": {},
   "source": [
    "####  3D plot of  `pred_heatmap_norm` returned form code above"
   ]
  },
  {
   "cell_type": "code",
   "execution_count": null,
   "metadata": {
    "ExecuteTime": {
     "end_time": "2018-11-26T17:10:14.206712Z",
     "start_time": "2018-11-26T17:10:10.942375Z"
    },
    "hideCode": false,
    "hideOutput": false,
    "scrolled": false
   },
   "outputs": [],
   "source": [
    "for img_id in [0]: ## range(mrcnn_config.BATCH_SIZE):\n",
    "    print(r_pr_heatmap.shape)\n",
    "#     class_ids = np.unique(pred_heatmap_scores[img_id,:,:,4]).astype(int).tolist()\n",
    "#     print('Image : {}  ClassIds: {}'.format(img_id, class_ids))\n",
    "    plot_3d_heatmap(r_pr_heatmap, img_id, pr_class_ids, class_names = class_names)"
   ]
  },
  {
   "cell_type": "code",
   "execution_count": null,
   "metadata": {
    "ExecuteTime": {
     "end_time": "2018-11-26T17:11:24.839875Z",
     "start_time": "2018-11-26T17:11:21.867766Z"
    },
    "hideCode": false,
    "hideOutput": false,
    "scrolled": false
   },
   "outputs": [],
   "source": [
    "for img_id in [0]: ## range(mrcnn_config.BATCH_SIZE):\n",
    "    print(r_pr_heatmap_max.shape)\n",
    "#     class_ids = np.unique(pred_heatmap_scores[img_id,:,:,4]).astype(int).tolist()\n",
    "#     print('Image : {}  ClassIds: {}'.format(img_id, class_ids))\n",
    "    plot_3d_heatmap(r_pr_heatmap_max_norm, img_id, pr_class_ids, class_names = class_names)"
   ]
  },
  {
   "cell_type": "markdown",
   "metadata": {},
   "source": [
    "####  3D plot of  `model_gt_heatmap_norm` returned form code above"
   ]
  },
  {
   "cell_type": "code",
   "execution_count": null,
   "metadata": {
    "ExecuteTime": {
     "end_time": "2018-11-09T18:01:03.648360Z",
     "start_time": "2018-11-09T18:00:59.304710Z"
    },
    "hideCode": false,
    "hideOutput": false,
    "scrolled": false
   },
   "outputs": [],
   "source": [
    "for img_id in [0]: ## range(mrcnn_config.BATCH_SIZE):\n",
    "    print(model_gt_heatmap.shape)\n",
    "    class_ids = np.unique(model_gt_heatmap_scores[img_id,:,:,4]).astype(int).tolist()\n",
    "    print('Image : {}  ClassIds: {}'.format(img_id, class_ids))\n",
    "    plot_3d_heatmap(model_gt_heatmap, img_id, class_ids,  class_names = class_names)\n"
   ]
  },
  {
   "cell_type": "markdown",
   "metadata": {},
   "source": [
    "####  3D plot of  `gt_heatmap_norm` returned form code above"
   ]
  },
  {
   "cell_type": "code",
   "execution_count": null,
   "metadata": {
    "ExecuteTime": {
     "end_time": "2018-10-15T19:53:48.031070Z",
     "start_time": "2018-10-15T19:53:43.844950Z"
    },
    "hideCode": false,
    "hideOutput": false,
    "scrolled": false
   },
   "outputs": [],
   "source": [
    "for img_id in [1]: ## range(mrcnn_config.BATCH_SIZE):\n",
    "    print(gt_heatmap_norm.shape)\n",
    "    class_ids = np.unique(gt_heatmap_scores[img_id,:,:,4]).astype(int).tolist()\n",
    "    print('Image : {}  ClassIds: {}'.format(img_id, class_ids))\n",
    "    plot_3d_heatmap(gt_heatmap_norm, img_id, class_ids, width=6, height=6, class_names = class_names)\n"
   ]
  },
  {
   "cell_type": "markdown",
   "metadata": {
    "heading_collapsed": true
   },
   "source": [
    "#### Verfiy max and min of gaussian heatmaps are 1.0 and 0.0, respectively "
   ]
  },
  {
   "cell_type": "code",
   "execution_count": null,
   "metadata": {
    "ExecuteTime": {
     "end_time": "2018-11-09T18:02:52.757214Z",
     "start_time": "2018-11-09T18:02:52.332947Z"
    },
    "hidden": true,
    "scrolled": false
   },
   "outputs": [],
   "source": [
    "np.set_printoptions(precision=4, threshold=None, linewidth=200, suppress=True)\n",
    "print(model_pred_heatmap_norm.shape)\n",
    "hm_max = np.max(model_pred_heatmap_norm, axis = (1,2))\n",
    "hm_min = np.min(model_pred_heatmap_norm, axis = (1,2))\n",
    "print(hm_max.shape)\n",
    "for img_id in range(mrcnn_config.BATCH_SIZE):\n",
    "    # print(pred_refined_heatmap_scores[img_id,:4])\n",
    "    class_ids = np.unique(model_pred_heatmap_scores[img_id,:,:,4]).astype(int).tolist()\n",
    "    print('\\n Image : {}  ClassIds: {}'.format(img_id, class_ids))\n",
    "    print('-'*38)\n",
    "    for cls in class_ids: \n",
    "        print(' class: {}   max: {}  min: {}'.format(cls, hm_max[img_id,cls], hm_min[img_id,cls]))\n",
    "#         print(pred_heatmap_scores[img_id, cls])\n",
    "\n",
    "print(model_gt_heatmap.shape)\n",
    "hm_max = np.max(model_gt_heatmap, axis = (1,2))\n",
    "hm_min = np.min(model_gt_heatmap, axis = (1,2))\n",
    "print(hm_max.shape)\n",
    "for img_id in range(mrcnn_config.BATCH_SIZE):\n",
    "    # print(pred_refined_heatmap_scores[img_id,:4])\n",
    "    class_ids = np.unique(model_gt_heatmap_scores[img_id,:,:,4]).astype(int).tolist()\n",
    "    print('\\n Image : {}  ClassIds: {}'.format(img_id, class_ids))\n",
    "    print('-'*38)\n",
    "    for cls in class_ids: \n",
    "        print(' class: {}   max: {}  min: {}'.format(cls, hm_max[img_id,cls], hm_min[img_id,cls]))\n",
    "#         print(pred_heatmap_scores[img_id, cls])\n",
    "        \n",
    "     "
   ]
  },
  {
   "cell_type": "markdown",
   "metadata": {
    "heading_collapsed": true
   },
   "source": [
    "###  Display `pred_scatter` heatmaps for all bounding boxes of an image"
   ]
  },
  {
   "cell_type": "code",
   "execution_count": null,
   "metadata": {
    "ExecuteTime": {
     "end_time": "2018-05-20T14:13:12.230708Z",
     "start_time": "2018-05-20T14:13:10.485070Z"
    },
    "hidden": true,
    "hideCode": false,
    "hideOutput": true,
    "scrolled": false
   },
   "outputs": [],
   "source": [
    "%matplotlib notebook\n",
    "print('Image id: ',image_id , '    Classes (1: circle, 2: square, 3: triangle ): ')\n",
    "img = 1\n",
    "print(pred_heatmap_scores[img,0,0])\n",
    "plot_bbox_heatmaps(gauss_scatt[img], pred_tensor[img], width = 15, height=25, num_bboxes=12)"
   ]
  },
  {
   "cell_type": "markdown",
   "metadata": {
    "heading_collapsed": true
   },
   "source": [
    "###  Display `gauss_heatmap` heatmap (not normalized, normlized, L2 normalized)"
   ]
  },
  {
   "cell_type": "code",
   "execution_count": null,
   "metadata": {
    "ExecuteTime": {
     "end_time": "2018-09-19T12:54:21.168641Z",
     "start_time": "2018-09-19T12:54:21.110294Z"
    },
    "hidden": true,
    "hideCode": false,
    "hideOutput": false,
    "scrolled": true
   },
   "outputs": [],
   "source": [
    "\n",
    "%matplotlib notebook\n",
    "print('Image id: ',image_id , '    Classes (1: circle, 2: square, 3: triangle ): ')\n",
    "img = 0\n",
    "print(pred_heatmap_scores[img,0,0])\n",
    "# plot_one_heatmap(pred_heatmap[img], pred_heatmap_scores[img], width=19, num_bboxes = 10, title='Non-normalized')\n",
    "plot_gaussian(pred_heatmap_norm[img,:,:,1],0, \n",
    "plot_one_heatmap(pred_heatmap_norm[img], pred_heatmap_scores[img], width=19, num_bboxes = 10, title='normalized')\n",
    "# plot_one_heatmap(pred_heatmap_L2norm[img], pred_heatmap_scores[img], width=19, num_bboxes = 10, title='L2-normalized')\n",
    "# plot_heatmaps(pred_heatmap, pred_heatmap_scores, width = 15, num_bboxes=12)"
   ]
  },
  {
   "cell_type": "markdown",
   "metadata": {
    "heading_collapsed": true
   },
   "source": [
    "###  Display `gauss_heatmap` 3D heatmap (not normalized, normlized, L2 normalized)"
   ]
  },
  {
   "cell_type": "code",
   "execution_count": null,
   "metadata": {
    "ExecuteTime": {
     "end_time": "2018-05-20T14:43:53.940653Z",
     "start_time": "2018-05-20T14:43:52.360486Z"
    },
    "hidden": true,
    "hideCode": false,
    "hideOutput": false,
    "scrolled": false
   },
   "outputs": [],
   "source": [
    "from mrcnn.visualize import plot_3d_heatmap\n",
    "%matplotlib notebook\n",
    "print('Image id: ',image_id , '    Classes (1: circle, 2: square, 3: triangle ): ')\n",
    "img = 1\n",
    "print(pred_heatmap_scores[img,cls,:10])\n",
    "\n",
    "ttl = 'Non-normalized - image: {}'.format(img)\n",
    "plot_3d_heatmap(pred_heatmap[img], title = ttl, width = 20)\n",
    "plot_one_heatmap(pred_heatmap[img], pred_heatmap_scores[img], width=15, title=ttl)\n",
    "\n",
    "ttl = 'Normalized - image: {}'.format(img)\n",
    "plot_3d_heatmap(pred_heatmap[img], title = ttl, width = 20)\n",
    "plot_one_heatmap(pred_heatmap[img], pred_heatmap_scores[img], width=15, title=ttl)\n"
   ]
  },
  {
   "cell_type": "markdown",
   "metadata": {},
   "source": [
    "###  Find maximum of gaussian distributions for the pred_heatmap\n",
    "Potentially use this as our heatmap scores \n",
    "Found out that using MAX values from the class heatmap (currently generated from the pred_tensor that itself is generated form output_rois and mrcnn_class) is not a viable option, because mutlple max values tend to congreagate around the peak of the gaussian distribution. \n",
    "This is also the case for gt_heatmaps.\n",
    "This will probably also be the case for the FCN output."
   ]
  },
  {
   "cell_type": "markdown",
   "metadata": {
    "heading_collapsed": true
   },
   "source": [
    "#### pred_heatmap"
   ]
  },
  {
   "cell_type": "code",
   "execution_count": null,
   "metadata": {
    "ExecuteTime": {
     "end_time": "2018-05-11T13:23:37.739059Z",
     "start_time": "2018-05-11T13:23:37.484900Z"
    },
    "hidden": true,
    "hideCode": false,
    "hideOutput": true,
    "scrolled": false
   },
   "outputs": [],
   "source": [
    "np.set_printoptions(linewidth=150, threshold=10000)\n",
    "\n",
    "print(pred_hm.shape)\n",
    "cls_hm = pred_hm[0,:,:,2]\n",
    "print(cls_hm.shape)\n",
    "print(np.unravel_index(np.argmax(cls_hm) , cls_hm.shape) )\n",
    "print(np.max(cls_hm))\n",
    "\n",
    "print(pred_hm_norm.shape)\n",
    "cls_hm_norm = pred_hm_norm[0,:,:,2]\n",
    "print(cls_hm_norm.shape)\n",
    "print(np.unravel_index(np.argmax(cls_hm_norm) , cls_hm_norm.shape) )\n",
    "print(np.max(cls_hm_norm))\n"
   ]
  },
  {
   "cell_type": "code",
   "execution_count": null,
   "metadata": {
    "ExecuteTime": {
     "end_time": "2018-05-11T13:09:06.929477Z",
     "start_time": "2018-05-11T13:09:06.655253Z"
    },
    "hidden": true,
    "hideCode": false,
    "hideOutput": true
   },
   "outputs": [],
   "source": [
    "hm_ls =np.ravel(cls_hm)\n",
    "hm_ls_norm = np.ravel(cls_hm_norm)\n",
    "srtlst = np.argsort(hm_ls)\n",
    "srtlst_norm = np.argsort(hm_ls_norm)\n",
    "print(' Sortlist')\n",
    "print(srtlst[::-1])\n",
    "print(srtlst.shape)\n",
    "print('---- norm ------')\n",
    "print(srtlst_norm[::-1])\n",
    "print(srtlst_norm.shape)\n",
    "\n",
    "print(' Top scores')\n",
    "top_scores = srtlst[:-21:-1]\n",
    "print('---- norm ------')\n",
    "top_scores_norm = srtlst_norm[:-21:-1]\n",
    "print(len(top_scores),top_scores)\n",
    "print(' Top items ')\n",
    "for i in top_scores :\n",
    "    print( i , '  ', np.unravel_index(i, cls_hm.shape))\n",
    "print('---- norm ------')    \n",
    "for i in top_scores_norm :\n",
    "    print( i , '  ', np.unravel_index(i, cls_hm_norm.shape))\n",
    "print(' Top scores ')\n",
    "print(hm_ls[top_scores])\n",
    "print('---- norm ------')    \n",
    "print(hm_ls_norm[top_scores_norm])\n"
   ]
  },
  {
   "cell_type": "markdown",
   "metadata": {
    "heading_collapsed": true
   },
   "source": [
    "#### gt_heatmap"
   ]
  },
  {
   "cell_type": "code",
   "execution_count": null,
   "metadata": {
    "ExecuteTime": {
     "end_time": "2018-05-11T13:24:12.185707Z",
     "start_time": "2018-05-11T13:24:11.932533Z"
    },
    "hidden": true,
    "hideCode": false,
    "hideOutput": true,
    "scrolled": true
   },
   "outputs": [],
   "source": [
    "np.set_printoptions(linewidth=150, threshold=10000)\n",
    "print(pred_hm.shape)\n",
    "cls_hm = gt_hm[0,:,:,2]\n",
    "print(cls_hm.shape)\n",
    "print(np.unravel_index(np.argmax(cls_hm) , cls_hm.shape) )\n",
    "print(np.max(cls_hm))\n",
    "\n",
    "print('---- norm -----')\n",
    "print(gt_hm_norm.shape)\n",
    "cls_hm_norm = gt_hm_norm[0,:,:,2]\n",
    "print(cls_hm_norm.shape)\n",
    "print(np.unravel_index(np.argmax(cls_hm_norm) , cls_hm_norm.shape) )\n",
    "print(np.max(cls_hm_norm))\n",
    "\n"
   ]
  },
  {
   "cell_type": "code",
   "execution_count": null,
   "metadata": {
    "ExecuteTime": {
     "end_time": "2018-05-11T13:24:14.243495Z",
     "start_time": "2018-05-11T13:24:13.965220Z"
    },
    "hidden": true,
    "hideCode": false,
    "hideOutput": true
   },
   "outputs": [],
   "source": [
    "hm_ls =np.ravel(cls_hm)\n",
    "hm_ls_norm = np.ravel(cls_hm_norm)\n",
    "srtlst = np.argsort(hm_ls)\n",
    "srtlst_norm = np.argsort(hm_ls_norm)\n",
    "print(' Sortlist')\n",
    "print(srtlst[::-1])\n",
    "print(srtlst.shape)\n",
    "print('---- norm ------')\n",
    "print(srtlst_norm[::-1])\n",
    "print(srtlst_norm.shape)\n",
    "\n",
    "print(' Top scores')\n",
    "top_scores = srtlst[:-21:-1]\n",
    "print('---- norm ------')\n",
    "top_scores_norm = srtlst_norm[:-21:-1]\n",
    "print(len(top_scores),top_scores)\n",
    "print(' Top items ')\n",
    "for i in top_scores :\n",
    "    print( i , '  ', np.unravel_index(i, cls_hm.shape))\n",
    "print('---- norm ------')    \n",
    "for i in top_scores_norm :\n",
    "    print( i , '  ', np.unravel_index(i, cls_hm_norm.shape))\n",
    "print(' Top scores ')\n",
    "print(hm_ls[top_scores])\n",
    "print('---- norm ------')    \n",
    "print(hm_ls_norm[top_scores_norm])\n"
   ]
  },
  {
   "cell_type": "code",
   "execution_count": null,
   "metadata": {
    "ExecuteTime": {
     "end_time": "2018-05-11T11:48:39.739236Z",
     "start_time": "2018-05-11T11:48:39.479040Z"
    },
    "hidden": true,
    "hideCode": false
   },
   "outputs": [],
   "source": [
    "max_a = np.max(cls_pred_heatmap)\n",
    "print(max_a.shape)\n",
    "\n",
    "print(np.unravel_index(np.argmax(prob_a) , prob_a.shape) )\n",
    "\n",
    "print()\n",
    "\n",
    "print(' covar ', covar_sqrd)\n",
    "print(prob_b[35:50, 45:54])\n",
    "max_b = np.max(prob_b)\n",
    "print(np.unravel_index(np.argmax(prob_b) , prob_b.shape) )\n",
    "\n",
    "print('max a , max_b ', max_a, max_b, max_a/max_b)"
   ]
  },
  {
   "cell_type": "markdown",
   "metadata": {
    "heading_collapsed": true,
    "hideCode": true,
    "hidePrompt": false
   },
   "source": [
    "##  `development build_heatmap_tf ()` "
   ]
  },
  {
   "cell_type": "markdown",
   "metadata": {
    "hidden": true,
    "hideCode": true,
    "hidePrompt": false
   },
   "source": [
    "### Generate Multivariate Normal Distribution from Pred_Tensor\n",
    "\n",
    "`pred_tensor[:,:,:,1:7]`  == `[116.9736  21.8213  36.2715  45.6026   0.    0.9139   ]`\n",
    "\n",
    "\n",
    "Detections returned by `detect()` routine:\n",
    "\n",
    "`[[ 25.          18.          80.          72.           2.           0.99936014]\n",
    "  [ 51.           3.         106.          71.           3.           0.99924326]`"
   ]
  },
  {
   "cell_type": "code",
   "execution_count": null,
   "metadata": {
    "hidden": true
   },
   "outputs": [],
   "source": []
  },
  {
   "cell_type": "markdown",
   "metadata": {
    "hidden": true
   },
   "source": [
    "### Prepare values to pass to build_gaussian_tf"
   ]
  },
  {
   "cell_type": "code",
   "execution_count": null,
   "metadata": {
    "ExecuteTime": {
     "end_time": "2018-05-10T14:59:46.125773Z",
     "start_time": "2018-05-10T14:59:45.878270Z"
    },
    "hidden": true,
    "hideCode": false,
    "scrolled": true
   },
   "outputs": [],
   "source": [
    "img = 1\n",
    "max_score = np.max(mrcnn_class, axis = -1)\n",
    "max_class = np.argmax(mrcnn_class, axis = -1)\n",
    "print(' output_rois[',img,'] \\n', output_rois[1]*[128,128,128,128])\n",
    "print('max class shape:',max_class.shape, 'max score shape: ',max_score.shape)\n",
    "print('max class[',img,']\\n',max_class[img])\n",
    "print('max score[',img,']\\n',max_score[img])\n",
    "print(' mrcnn class.shape ',mrcnn_class.shape)\n",
    "print('marcnn_classe[',img,',:]\\n',mrcnn_class[1,:])\n",
    "# print(output_rois[1])\n",
    " "
   ]
  },
  {
   "cell_type": "markdown",
   "metadata": {
    "heading_collapsed": true,
    "hidden": true,
    "hideCode": false,
    "hidePrompt": false
   },
   "source": [
    "####  Display for visual check - `pred_tensor` is the final result which is passed on to  `build_gaussian_tf()`"
   ]
  },
  {
   "cell_type": "code",
   "execution_count": null,
   "metadata": {
    "ExecuteTime": {
     "end_time": "2018-05-11T13:49:20.117333Z",
     "start_time": "2018-05-11T13:49:19.805503Z"
    },
    "hidden": true,
    "hideCode": false,
    "hidePrompt": false,
    "scrolled": false
   },
   "outputs": [],
   "source": [
    "# with sess.as_default():\n",
    "np.set_printoptions(linewidth=150, precision=6)\n",
    "# print('scatter shape is ', pred_scatt.get_shape())\n",
    "print('pred_tensor shape is ', pred_tensor.shape)\n",
    "img = 0\n",
    "print('Image ', img , '/ Class 0 ------------')\n",
    "print(pred_tensor[img,0])\n",
    "print('Image ', img , '/ Class 1 ------------')\n",
    "print(pred_tensor[img,1])\n",
    "print('Image ', img , '/ Class 2 ------------')\n",
    "print(pred_tensor[img,2])\n",
    "print('Image ', img , '/ Class 3 ------------')\n",
    "print(pred_tensor[img,3])\n"
   ]
  },
  {
   "cell_type": "markdown",
   "metadata": {
    "heading_collapsed": true,
    "hidden": true,
    "hideCode": true,
    "hidePrompt": false
   },
   "source": [
    "####  Display for visual check - `gt_tensor` is the final result which is passed on to  `build_gaussian_tf()`"
   ]
  },
  {
   "cell_type": "code",
   "execution_count": null,
   "metadata": {
    "ExecuteTime": {
     "end_time": "2018-05-11T13:51:18.251895Z",
     "start_time": "2018-05-11T13:51:17.973154Z"
    },
    "hidden": true,
    "hideCode": true
   },
   "outputs": [],
   "source": [
    "# with sess.as_default():\n",
    "np.set_printoptions(linewidth=150, precision=6)\n",
    "# print('scatter shape is ', pred_scatt.get_shape())\n",
    "print('pred_tensor shape is ', gt_tensor.shape)\n",
    "img = 1\n",
    "print('Image ', img , '/ Class 0 ------------')\n",
    "print(gt_tensor[img,0])\n",
    "print('Image ', img , '/ Class 1 ------------')\n",
    "print(gt_tensor[img,1])\n",
    "print('Image ', img , '/ Class 2 ------------')\n",
    "print(gt_tensor[img,2])\n",
    "print('Image ', img , '/ Class 3 ------------')\n",
    "print(gt_tensor[img,3])\n"
   ]
  },
  {
   "cell_type": "markdown",
   "metadata": {
    "hidden": true
   },
   "source": [
    "\n",
    "\n",
    "### Plot heatmap produced by network `fcn_bilinear` and compare with `pred_gaussian`"
   ]
  },
  {
   "cell_type": "code",
   "execution_count": null,
   "metadata": {
    "ExecuteTime": {
     "end_time": "2018-05-19T20:56:18.789494Z",
     "start_time": "2018-05-19T20:56:18.196391Z"
    },
    "hidden": true,
    "hideCode": false,
    "hideOutput": true,
    "scrolled": false
   },
   "outputs": [],
   "source": [
    "from mrcnn.visualize import plot_gaussian, plot_gaussian_2d\n",
    "import matplotlib as plt\n",
    "\n",
    "%matplotlib notebook\n",
    "img = 2\n",
    "cls = 2\n",
    "image_id = input_image_meta[img,0]\n",
    "image = dataset_train.load_image(image_id)\n",
    "mask, class_ids = dataset_train.load_mask(image_id)\n",
    "visualize.display_top_masks(image, mask, class_ids, dataset_train.class_names)\n",
    "Zout1 = pred_heatmap     # gt_gaussiam \n",
    "Zout2 = pred_heatmap_norm  # fcn_bilinear\n",
    "Zout3 = pred_heatmap_L2norm  # fcn_bilinear\n",
    "\n",
    "print(Zout1.shape, Zout2.shape)\n",
    "num_images = config.IMAGES_PER_GPU\n",
    "num_classes = config.NUM_CLASSES\n",
    "print(pred_tensor[img,cls,:10])\n",
    "print(pred_tensor.shape)\n",
    "print('Image id: ',image_id)\n",
    "print('Classes (1: circle, 2: square, 3: triangle ): ')\n",
    "\n",
    "width = 9\n",
    "# for j in [cls] : #range(num_classes):\n",
    "print(pred_heatmap_scores[img,cls,:10])\n",
    "ttl = 'Pred_hm      - image :  {} class: {} '.format(img,j)\n",
    "plot_gaussian_2d(Zout1[img,:,:,j], title = ttl, width = width)\n",
    "\n",
    "ttl = 'pred_norm - image :  {} class: {} '.format(img,j)     \n",
    "plot_gaussian_2d(Zout2[img,:,:,j], title = ttl, width = width)  \n",
    "\n",
    "ttl = 'pred_norm_L2 - image :  {} class: {} '.format(img,j)     \n",
    "plot_gaussian_2d(Zout3[img,:,:,j], title = ttl, width = width)  \n",
    "\n",
    "\n",
    "from mrcnn.visualize import display_gt_bboxes, display_roi_proposals\n",
    "model_info = [model, config, dataset_train, train_generator]\n",
    "display_roi_proposals(model_info, input_image_meta, pred_tensor, [cls], 0)"
   ]
  },
  {
   "cell_type": "code",
   "execution_count": null,
   "metadata": {
    "ExecuteTime": {
     "end_time": "2018-05-19T13:03:17.009403Z",
     "start_time": "2018-05-19T13:03:16.778767Z"
    },
    "hidden": true,
    "hideCode": false,
    "hideOutput": false,
    "scrolled": false
   },
   "outputs": [],
   "source": [
    "%matplotlib notebook\n",
    "width = 12\n",
    "plot_gaussian2([pred_heatmap_norm, fcn_heatmap_norm], image_idx = 0, title = ttl, width = width)  \n"
   ]
  },
  {
   "cell_type": "markdown",
   "metadata": {
    "hidden": true,
    "hideCode": false,
    "hidePrompt": false
   },
   "source": [
    "###  Test `means`, `covar`, `gauss_grid`, and `gauss_sum ` between development version and final version"
   ]
  },
  {
   "cell_type": "code",
   "execution_count": null,
   "metadata": {
    "ExecuteTime": {
     "end_time": "2018-05-02T11:10:10.133108Z",
     "start_time": "2018-05-02T11:10:09.386212Z"
    },
    "hidden": true,
    "hideCode": false,
    "hidePrompt": false
   },
   "outputs": [],
   "source": [
    "print(means.get_shape(), means.get_shape())\n",
    "tst1 = means.eval()\n",
    "tst2 = means2.eval()\n",
    "print(tst1.shape, tst2.shape)\n",
    "\n",
    "print(tst1[0,:10])\n",
    "print()\n",
    "print(tst2[0,:10])\n",
    "print(np.all(tst1 == tst2))\n",
    "print()\n",
    "del tst1, tst2"
   ]
  },
  {
   "cell_type": "code",
   "execution_count": null,
   "metadata": {
    "ExecuteTime": {
     "end_time": "2018-05-02T11:10:14.482950Z",
     "start_time": "2018-05-02T11:10:14.205020Z"
    },
    "hidden": true,
    "hideCode": false,
    "hidePrompt": false,
    "scrolled": false
   },
   "outputs": [],
   "source": [
    "tst1 = st.eval()\n",
    "tst2 = st2.eval()\n",
    "print(tst1.shape, tst2.shape)\n",
    "\n",
    "print(tst1[0,:10])\n",
    "print()\n",
    "print(tst2[0,:10])\n",
    "print(np.all(tst1 == tst2))\n",
    "print()\n",
    "del tst1, tst2"
   ]
  },
  {
   "cell_type": "code",
   "execution_count": null,
   "metadata": {
    "ExecuteTime": {
     "end_time": "2018-05-02T11:10:18.158709Z",
     "start_time": "2018-05-02T11:10:17.474806Z"
    },
    "hidden": true,
    "hideCode": false,
    "hidePrompt": false,
    "scrolled": false
   },
   "outputs": [],
   "source": [
    "tst1 = gauss_grid.eval()\n",
    "tst2 = gauss_grid2.eval()\n",
    "print(tst1.shape, tst2.shape)\n",
    "\n",
    "print(tst1[0,0,:10])\n",
    "print()\n",
    "print(tst2[0,0,:10])\n",
    "print(np.all(tst1 == tst2))\n",
    "# print()\n",
    "del tst1, tst2"
   ]
  },
  {
   "cell_type": "code",
   "execution_count": null,
   "metadata": {
    "ExecuteTime": {
     "end_time": "2018-05-02T11:10:23.859635Z",
     "start_time": "2018-05-02T11:10:23.164182Z"
    },
    "hidden": true,
    "hideCode": false,
    "hidePrompt": false,
    "scrolled": false
   },
   "outputs": [],
   "source": [
    "tst1 = gauss_sum.eval()\n",
    "tst2 = gauss_sum2.eval()\n",
    "print(tst1.shape, tst2.shape)\n",
    "\n",
    "# print(tst1[0,0,:10])\n",
    "# print()\n",
    "# print(tst2[0,0,:10])\n",
    "print(np.all(tst1 == tst2))\n",
    "# print()\n",
    "del tst1, tst2"
   ]
  },
  {
   "cell_type": "code",
   "execution_count": null,
   "metadata": {
    "hidden": true,
    "hideCode": false,
    "hidePrompt": false
   },
   "outputs": [],
   "source": []
  },
  {
   "cell_type": "code",
   "execution_count": null,
   "metadata": {
    "ExecuteTime": {
     "end_time": "2018-05-19T19:52:46.002369Z",
     "start_time": "2018-05-19T19:52:45.737646Z"
    },
    "hidden": true,
    "hideCode": false,
    "hideOutput": true,
    "hidePrompt": false,
    "scrolled": false
   },
   "outputs": [],
   "source": [
    "np.set_printoptions(linewidth=150, threshold=10000)\n",
    "from scipy.stats import  multivariate_normal\n",
    "# Build mesh-grid to hold pixel coordinates ----------------------------------\n",
    "XX = np.arange(0, img_w, 1)\n",
    "YY = np.arange(0, img_h, 1)\n",
    "XX, YY = np.meshgrid(XX, YY)\n",
    "print('XX shape', XX.shape)\n",
    "pos  = np.empty(XX.shape + (2,))   # concatinate shape of x to make ( x.rows, x.cols, 2)\n",
    "pos[:,:,0] = XX;\n",
    "pos[:,:,1] = YY;\n",
    "print('XX')\n",
    "print(XX)\n",
    "print('YY')\n",
    "print(YY)\n",
    "print(pos[0,:,:])\n",
    "print(pos[0])\n",
    "print(grid[0].eval())\n",
    "print(' pos type    ', type(pos), type(grid))\n",
    "print(' grid shape ', pos.shape, grid.shape)\n",
    "print(np.all(pos == grid.eval()))\n",
    "mean = np.array([1,2])\n",
    "covar = np.array([[1,0],[0,1]])\n",
    "print(' mean  ', mean)\n",
    "print(' covar ', covar)\n",
    "mvna   = multivariate_normal(mean, covar)\n",
    "prob_a = mvna.pdf(pos)\n",
    "\n",
    "# mvnb = multivariate_normal(mean, covar_sqrd)\n",
    "# prob_b = mvnb.pdf(pos)\n",
    "\n",
    "# print(prob_a[35:50, 45:54])\n",
    "# max_a = np.max(prob_a)\n",
    "# print(np.unravel_index(np.argmax(prob_a) , prob_a.shape) )\n",
    "\n",
    "# print()\n",
    "\n",
    "# print(' covar ', covar_sqrd)\n",
    "# print(prob_b[35:50, 45:54])\n",
    "# max_b = np.max(prob_b)\n",
    "# print(np.unravel_index(np.argmax(prob_b) , prob_b.shape) )\n",
    "\n",
    "# print('max a , max_b ', max_a, max_b, max_a/max_b)"
   ]
  },
  {
   "cell_type": "code",
   "execution_count": null,
   "metadata": {
    "hidden": true
   },
   "outputs": [],
   "source": []
  },
  {
   "cell_type": "code",
   "execution_count": null,
   "metadata": {
    "ExecuteTime": {
     "end_time": "2018-05-19T20:08:23.894913Z",
     "start_time": "2018-05-19T20:08:22.044145Z"
    },
    "hidden": true,
    "hideCode": false,
    "hidePrompt": false
   },
   "outputs": [],
   "source": [
    "with sess.as_default():\n",
    "    #-----------------------------------------------------------------------------\n",
    "    ## Build mesh-grid to hold pixel coordinates  \n",
    "    #-----------------------------------------------------------------------------\n",
    "    X = tf.range(80, dtype=tf.int32)\n",
    "    Y = tf.range(80, dtype=tf.int32)\n",
    "    X, Y = tf.meshgrid(X, Y)\n",
    "\n",
    "    # duplicate (repeat) X and Y into a  batch_size x rois_per_image tensor\n",
    "    print('    X/Y shapes :',  X.get_shape(), Y.get_shape())\n",
    "    ones = tf.ones([1, 1, 1], dtype = tf.int32)\n",
    "    rep_X = ones * X\n",
    "    rep_Y = ones * Y \n",
    "    print('    Ones:    ', ones.shape)                \n",
    "    print('    ones_exp * X', ones.shape, '*', X.shape, '= ',rep_X.shape)\n",
    "    print('    ones_exp * Y', ones.shape, '*', Y.shape, '= ',rep_Y.shape)\n",
    "\n",
    "    # # stack the X and Y grids \n",
    "    bef_pos = tf.to_float(tf.stack([rep_X,rep_Y], axis = -1))\n",
    "    print('    before transpse ', tf.shape(bef_pos).eval())\n",
    "    pos_grid = tf.transpose(bef_pos,[1,2,0,3])\n",
    "    print('    after transpose ', tf.shape(pos_grid).eval())    \n",
    "    pt2_den = tf.constant([[10,10,30,70]], dtype = tf.float32)\n",
    "    print(type(pt2_den))\n",
    "    #-----------------------------------------------------------------------------\n",
    "    ##  Build mean and convariance tensors for Multivariate Normal Distribution \n",
    "    #-----------------------------------------------------------------------------\n",
    "    width  = pt2_den[:,3] - pt2_den[:,1]      # x2 - x1\n",
    "    height = pt2_den[:,2] - pt2_den[:,0]\n",
    "    print(width.eval(), type(width))\n",
    "    print(height.eval(), type(height))\n",
    "    cx     = pt2_den[:,1] + tf.div( width  , 2.0)\n",
    "    cy     = pt2_den[:,0] + ( height / 2.0)\n",
    "    means  = tf.stack((cx,cy),axis = -1)\n",
    "    covar  = tf.stack((width * 0.5 , height * 0.5), axis = -1)\n",
    "    covar  = tf.sqrt(covar)\n",
    "    print(means.eval())\n",
    "    print(covar.eval())\n",
    "\n",
    "    tfd = tf.contrib.distributions\n",
    "    mvn = tfd.MultivariateNormalDiag( loc  = means,  scale_diag = covar)\n",
    "    prob_grid = mvn.prob(pos_grid)\n",
    "    print('     Prob_grid shape before tanspose: ',prob_grid.get_shape())\n",
    "    prob_grid = tf.transpose(prob_grid,[2,0,1])\n",
    "    print('     Prob_grid shape after tanspose: ',prob_grid.get_shape())    \n",
    "    print('    >> input to MVN.PROB: pos_grid (meshgrid) shape: ', pos_grid.get_shape())\n",
    "    print('    << output probabilities shape:' , prob_grid.get_shape())\n"
   ]
  },
  {
   "cell_type": "markdown",
   "metadata": {
    "heading_collapsed": true
   },
   "source": [
    "## Plot Image with bounding boxes from `output_rois`"
   ]
  },
  {
   "cell_type": "code",
   "execution_count": null,
   "metadata": {
    "ExecuteTime": {
     "end_time": "2018-09-21T12:53:03.431815Z",
     "start_time": "2018-09-21T12:53:03.337488Z"
    },
    "hidden": true
   },
   "outputs": [],
   "source": [
    "img_idx = 0\n",
    "image_id = input_image_meta[img_idx,0]\n",
    "image = dataset_train.load_image(image_id)\n",
    "mask, class_ids = dataset_train.load_mask(image_id)\n",
    "bbox = utils.extract_bboxes(mask)\n",
    "\n",
    "log(\"image\", image)\n",
    "log(\"mask\", mask)\n",
    "log(\"class_ids\", class_ids)\n",
    "log(\"bbox\", bbox)\n",
    "\n",
    "# class_names = [str(dataset_train.class_names[class_id]) for class_id in class_ids]\n",
    "class_names = dataset_train.class_names\n",
    "# visualize.display_top_masks(image, mask, class_ids, dataset_train.class_names)\n",
    "print('Classes     : ', class_ids)\n",
    "print(\"image_id    : \", image_id, ' Reference: ', dataset_train.image_reference(image_id))\n",
    "print(' class_ids    : ', class_ids.shape[0])\n",
    "print(' bbox         : ', bbox.shape[0])\n",
    "print(' output_rois: : ', output_rois.shape)\n",
    "print(' Image id     : ', image_id , '  Image meta', img_meta[img_idx,:10])\n",
    "print(' Classes      : ', [class_names[i] for i in class_ids])\n",
    "print(' Image window : ', img_meta[0, 4:8])\n",
    "print(' Image shape  : ', image.shape)\n"
   ]
  },
  {
   "cell_type": "markdown",
   "metadata": {
    "hidden": true
   },
   "source": [
    "#### Display `output_roi` without  delta refinement"
   ]
  },
  {
   "cell_type": "code",
   "execution_count": null,
   "metadata": {
    "ExecuteTime": {
     "end_time": "2018-09-21T12:55:18.047596Z",
     "start_time": "2018-09-21T12:55:17.482833Z"
    },
    "hidden": true
   },
   "outputs": [],
   "source": [
    "unormalized_rois = output_rois[img_idx] * [1024,1024,1024,1024]\n",
    "unrefined_rois   = utils.boxes_to_image_domain(unormalized_rois, img_meta[0] )\n",
    "visualize.draw_rois(image, unrefined_rois, target_class_ids[0], class_names, limit=5) #, random = True)"
   ]
  },
  {
   "cell_type": "markdown",
   "metadata": {
    "hidden": true
   },
   "source": [
    "#### Display `output_rois` with after clipping to image boundaries"
   ]
  },
  {
   "cell_type": "code",
   "execution_count": null,
   "metadata": {
    "ExecuteTime": {
     "end_time": "2018-09-21T13:08:25.467820Z",
     "start_time": "2018-09-21T13:08:24.905458Z"
    },
    "hidden": true,
    "scrolled": true
   },
   "outputs": [],
   "source": [
    "clipped_rois = utils.clip_to_window_np(img_meta[0, 4:8], unormalized_rois)\n",
    "clipped_rois = utils.boxes_to_image_domain(clipped_rois, img_meta[0] )\n",
    "visualize.draw_rois(image, clipped_rois , target_class_ids[0], class_names, bbox_ids = [0,1,2]) # or , limit=2)"
   ]
  },
  {
   "cell_type": "markdown",
   "metadata": {
    "hidden": true
   },
   "source": [
    "####  Displayt `output_rois` after applying `target_bbox_deltas`\n",
    "\n",
    "NOTE: MUST BE MULTIPLIED BY BBOX_STD_DEV"
   ]
  },
  {
   "cell_type": "code",
   "execution_count": null,
   "metadata": {
    "ExecuteTime": {
     "end_time": "2018-09-21T13:08:57.332574Z",
     "start_time": "2018-09-21T13:08:56.776213Z"
    },
    "hidden": true
   },
   "outputs": [],
   "source": [
    "print(' Target_bbox_deltas: ',target_bbox_deltas.shape)\n",
    "## 1- Apply Bounding Box Standard Deviation and apply to output_rois\n",
    "apply_deltas = target_bbox_deltas[img_idx] * mrcnn_config.BBOX_STD_DEV\n",
    "refined_rois = utils.apply_box_deltas_np(output_rois[img_idx], apply_deltas)\n",
    "print(' Refined ROIs shape: ',refined_rois.shape)\n",
    "# print(refined_rois[:20])\n",
    "\n",
    "## 3- Clip to image windoow boundaries:\n",
    "refined_rois = refined_rois * [1024,1024,1024,1024]\n",
    "refined_rois = utils.clip_to_window_np(img_meta[0, 4:8], refined_rois)\n",
    "\n",
    "## 4- Transfer to image coordniates :\n",
    "refined_rois = utils.boxes_to_image_domain(refined_rois, img_meta[0] )\n",
    "## 5- Visualize\n",
    "visualize.draw_rois(image, refined_rois, target_class_ids[0], class_names,bbox_ids = [0,1,2], limit=5)"
   ]
  },
  {
   "cell_type": "markdown",
   "metadata": {
    "hidden": true
   },
   "source": [
    "#### Apply predicted `mrcnn_bbox` delta refinements to `output_rois` and display"
   ]
  },
  {
   "cell_type": "code",
   "execution_count": null,
   "metadata": {
    "ExecuteTime": {
     "end_time": "2018-09-21T13:10:07.212107Z",
     "start_time": "2018-09-21T13:10:06.133701Z"
    },
    "hidden": true,
    "scrolled": false
   },
   "outputs": [],
   "source": [
    "# Create un\n",
    "unormalized_rois = output_rois[img_idx] * [1024,1024,1024,1024]\n",
    "clipped_rois = utils.clip_to_window_np(img_meta[0, 4:8], unormalized_rois)\n",
    "unrefined_rois   = utils.boxes_to_image_domain(clipped_rois, img_meta[0] )\n",
    "\n",
    "## 1- Extract predicted deltas from mrcnn_bbox\n",
    "classes, deltas = get_predicted_mrcnn_deltas(mrcnn_class, mrcnn_bbox, verbose = False)\n",
    "# print(classes.shape, deltas.shape)\n",
    "# print(classes[0,:20])\n",
    "# print(deltas[0,:20])\n",
    "\n",
    "\n",
    "## 2- Apply Bounding Box Standard Deviation and apply to output_rois\n",
    "apply_deltas = deltas[0] * mrcnn_config.BBOX_STD_DEV\n",
    "refined_rois = utils.apply_box_deltas_np(output_rois[img_idx], apply_deltas)\n",
    "print(' Refined ROIs shape: ',refined_rois.shape)\n",
    "# print(refined_rois[:20])\n",
    "\n",
    "## 3- Clip to image windoow boundaries:\n",
    "refined_rois = refined_rois * [1024,1024,1024,1024]\n",
    "refined_rois = utils.clip_to_window_np(img_meta[0, 4:8], refined_rois)\n",
    "\n",
    "## 4- Transfer to image coordniates :\n",
    "refined_rois = utils.boxes_to_image_domain(refined_rois, img_meta[0] )\n",
    "\n",
    "# Visualize\n",
    "visualize.draw_rois(image, unrefined_rois, target_class_ids[0], class_names,  limit=5)\n",
    "visualize.draw_rois(image, refined_rois, target_class_ids[0], class_names,  limit=5)\n",
    "# visualize.draw_rois_with_refinements(image, unrefined_rois, refined_rois, target_class_ids[0], class_names, limit=10)"
   ]
  },
  {
   "cell_type": "markdown",
   "metadata": {
    "hidden": true
   },
   "source": [
    "#### Display `image_gt_bboxes` provided by data generator"
   ]
  },
  {
   "cell_type": "code",
   "execution_count": null,
   "metadata": {
    "ExecuteTime": {
     "end_time": "2018-09-21T13:00:26.348261Z",
     "start_time": "2018-09-21T13:00:25.813073Z"
    },
    "hidden": true,
    "scrolled": true
   },
   "outputs": [],
   "source": [
    "# Display image and instances\n",
    "# visualize.display_instances_with_mask(image, bbox, mask, class_ids, dataset_train.class_names)   \n",
    "\n",
    "# print(input_gt_bboxes[0,:20])\n",
    "gt_bboxes = utils.boxes_to_image_domain(input_gt_bboxes[0], img_meta[0] )\n",
    "visualize.draw_rois(image, gt_bboxes[:20], input_gt_class_ids[0,:20], class_names, limit=10)"
   ]
  },
  {
   "cell_type": "markdown",
   "metadata": {
    "heading_collapsed": true
   },
   "source": [
    "## misc code"
   ]
  },
  {
   "cell_type": "markdown",
   "metadata": {
    "heading_collapsed": true,
    "hidden": true
   },
   "source": [
    "#### sparse to dense"
   ]
  },
  {
   "cell_type": "code",
   "execution_count": null,
   "metadata": {
    "hidden": true
   },
   "outputs": [],
   "source": [
    "with sess.as_default():\n",
    "    tf_dense = tf.sparse_to_dense(pt2_ind), in_tensor.shape[:-1], 1,0)\n",
    "    r_tf_dense = tf_dense.eval()\n",
    "print(r_tf_dense.shape)    \n",
    "print(r_tf_dense[0])\n"
   ]
  },
  {
   "cell_type": "markdown",
   "metadata": {
    "heading_collapsed": true,
    "hidden": true,
    "hideCode": false,
    "hidePrompt": false
   },
   "source": [
    "####  Display for visual check - `pred_heatmap_norm` is the final result from  `build_heatmap()`"
   ]
  },
  {
   "cell_type": "code",
   "execution_count": null,
   "metadata": {
    "ExecuteTime": {
     "end_time": "2018-05-21T17:29:35.708474Z",
     "start_time": "2018-05-21T17:29:35.418691Z"
    },
    "hidden": true,
    "hideCode": false,
    "hideOutput": true,
    "scrolled": true
   },
   "outputs": [],
   "source": [
    "print(pred_heatmap_norm.shape)\n",
    "temp = pred_heatmap_norm\n",
    "np.set_printoptions(linewidth=150, threshold=10000, suppress=False)\n",
    "print('  Temp shape :',  temp.shape)\n",
    "temp_sum = np.sum(temp,axis=(1,2))\n",
    "print('temp_sum is ', temp_sum.shape)\n",
    "for i in range(5):\n",
    "    for j in range(4):\n",
    "        print('img ',i,' class ', j, ' sum:',temp_sum[i,j],  ' max: ',np.max(temp[i,:,:,j]),' mean: ', np.mean(temp[i,:,:,j]),' min: ', np.min(temp[i,:,:,j]))    "
   ]
  },
  {
   "cell_type": "code",
   "execution_count": null,
   "metadata": {
    "ExecuteTime": {
     "end_time": "2018-05-21T18:56:20.286127Z",
     "start_time": "2018-05-21T18:56:19.956192Z"
    },
    "hidden": true,
    "hideCode": false,
    "hideOutput": true,
    "hidePrompt": false,
    "scrolled": true
   },
   "outputs": [],
   "source": [
    "# with sess.as_default():\n",
    "np.set_printoptions(linewidth=150, precision=6, suppress=True)\n",
    "# print('scatter shape is ', pred_scatt.get_shape())\n",
    "print('pred_heatmap_scores shape is ', pred_heatmap_scores.shape)\n",
    "for img in [0,1,2]:\n",
    "    for k in range(4):\n",
    "        print('Image ', img , '/ Class ',k,' ------------')\n",
    "        print(np.min(pred_heatmap_scores[img,k,:,8]))\n",
    "        print(pred_heatmap_scores[img,k])"
   ]
  },
  {
   "cell_type": "code",
   "execution_count": null,
   "metadata": {
    "ExecuteTime": {
     "end_time": "2018-05-20T17:25:18.661505Z",
     "start_time": "2018-05-20T17:25:18.406810Z"
    },
    "hidden": true,
    "hideCode": false,
    "hideOutput": true,
    "hidePrompt": false,
    "scrolled": true
   },
   "outputs": [],
   "source": [
    "np.set_printoptions(linewidth=150, precision=6)\n",
    "print('gt_heatmap_scores shape is ', gt_heatmap_scores.shape)\n",
    "img = 1\n",
    "for k in range(4):\n",
    "    print('Image ', img , '/ Class ',k,' ------------')\n",
    "    print(gt_heatmap_scores[img,k])"
   ]
  },
  {
   "cell_type": "code",
   "execution_count": null,
   "metadata": {
    "ExecuteTime": {
     "end_time": "2018-05-21T17:12:28.879203Z",
     "start_time": "2018-05-21T17:12:28.616104Z"
    },
    "hidden": true,
    "hideCode": false,
    "hideOutput": true,
    "scrolled": true
   },
   "outputs": [],
   "source": [
    "sess = KB.get_session()\n",
    "with sess.as_default():\n",
    "    temp = fcn_heatmap\n",
    "    np.set_printoptions(linewidth=150, threshold=10000)\n",
    "    print('  output shapes :',  temp.get_shape())\n",
    "    temp_sum = tf.reduce_sum(temp, [2,3])\n",
    "    temp_min = tf.reduce_min(temp, [2,3])\n",
    "    temp_max = tf.reduce_max(temp, [2,3])\n",
    "    temp_avg = tf.reduce_mean(temp, [2,3])\n",
    "    print('temp_sum is ', temp_sum.shape)\n",
    "    for i in range(5):\n",
    "        for j in range(4):\n",
    "                print('img/cls ',i,'/', j,'  sum:',temp_sum[i,j], 'min',temp_min[i,j] ,'max',temp_max[i,j] ,'avg',temp_avg[i,j])"
   ]
  },
  {
   "cell_type": "markdown",
   "metadata": {
    "heading_collapsed": true,
    "hidden": true,
    "hideCode": false,
    "hidePrompt": true
   },
   "source": [
    "#### `byclas_to_byimage()` reshape tensor / numpy array from per_class to per image "
   ]
  },
  {
   "cell_type": "code",
   "execution_count": null,
   "metadata": {
    "ExecuteTime": {
     "end_time": "2018-09-25T18:35:36.921742Z",
     "start_time": "2018-09-25T18:35:36.852068Z"
    },
    "hidden": true
   },
   "outputs": [],
   "source": [
    "def byclass_to_byimage_np(in_array, seqid_column):    \n",
    "    ''' \n",
    "    convert a by class tensor shaped  [batch_size, num_classes, num_bboxes, columns ] to \n",
    "            a by image tensor shaped  [batch_size, num_bboxes, columns]\n",
    "    '''\n",
    "    #     np_sum = np.sum(np.abs(model_gt_heatmap_scores[:,:,:,0:4]), axis=-1)\n",
    "    #     print(np_sum.shape)\n",
    "    #     a,b,c = np.where(np_sum > 0)\n",
    "    a,b,c = np.where(in_array[...,seqid_column]>0)\n",
    "\n",
    "    output = np.zeros((in_array.shape[0],in_array.shape[-2],in_array.shape[-1]))\n",
    "#     print(' output shape is ',output.shape)\n",
    "#     print(a.shape, b.shape,c.shape)\n",
    "    \n",
    "    for img, cls , box in zip(a, b,c):\n",
    "#         print( img,cls, box, 200 - in_array[img, cls, box,6].astype(int))\n",
    "        output[img, 200 - in_array[img, cls, box,6].astype(int)] = in_array[img, cls, box]\n",
    "\n",
    "    return output\n",
    "\n",
    "def byclass_to_byimage_tf(in_array, seqid_column):    \n",
    "    ''' \n",
    "    convert a by class tensor shaped  [batch_size, num_classes, num_bboxes, columns ] to \n",
    "            a by image tensor shaped  [batch_size, num_bboxes, columns]\n",
    "    '''\n",
    "    aa = tf.reshape(in_array, [in_array.shape[0], -1, in_array.shape[-1]])\n",
    "    _ , sort_inds = tf.nn.top_k(tf.abs(aa[:,:,seqid_column]), k= in_array.shape[2])\n",
    "    batch_grid, bbox_grid = tf.meshgrid(tf.range(in_array.shape[0]), tf.range(in_array.shape[2]),indexing='ij')\n",
    "    gather_inds = tf.stack([batch_grid, sort_inds],axis = -1)\n",
    "    output = tf.gather_nd(aa, gather_inds )\n",
    "    return output"
   ]
  },
  {
   "cell_type": "markdown",
   "metadata": {
    "heading_collapsed": true,
    "hidden": true
   },
   "source": [
    "####  Try `byclass_to_byimage()` on `gt_heatmap_scores`"
   ]
  },
  {
   "cell_type": "code",
   "execution_count": null,
   "metadata": {
    "ExecuteTime": {
     "end_time": "2018-09-25T18:20:28.345294Z",
     "start_time": "2018-09-25T18:20:27.629896Z"
    },
    "hidden": true
   },
   "outputs": [],
   "source": [
    "# with sess.as_default():\n",
    "np.set_printoptions(linewidth=150, precision=6)\n",
    "# print(gt_heatmap_scores.shape)\n",
    "# outp = byclass_to_byimage_tf(gt_heatmap_scores,6)\n",
    "# with sess.as_default():\n",
    "#      r_outp = outp.eval()\n",
    "# print(r_outp.shape)\n",
    "# print(r_outp[0])\n",
    "# print(r_outp[1])\n",
    "\n",
    "\n",
    "# print(tf_model_pred_heatmap_scores.shape, tf_model_pred_heatmap_scores)\n",
    "# outp = byclass_to_byimage_tf(tf_model_pred_heatmap_scores,6)\n",
    "# with sess.as_default():\n",
    "#      r_outp = outp.eval()\n",
    "# print(r_outp.shape)\n",
    "# print(r_outp[0])\n",
    "# print(r_outp[1])"
   ]
  },
  {
   "cell_type": "markdown",
   "metadata": {
    "heading_collapsed": true,
    "hidden": true
   },
   "source": [
    "####  Try `byclass_to_byimage()` on `pred_heatmap_scores`"
   ]
  },
  {
   "cell_type": "code",
   "execution_count": null,
   "metadata": {
    "ExecuteTime": {
     "end_time": "2018-09-25T18:35:43.684389Z",
     "start_time": "2018-09-25T18:35:42.799114Z"
    },
    "hidden": true
   },
   "outputs": [],
   "source": [
    "np.set_printoptions(linewidth=150, precision=6)\n",
    "\n",
    "tf_model_pred_heatmap_scores = tf.constant(model_pred_heatmap_scores) \n",
    "\n",
    "print('pred_heatmap_scores shape is       ', pred_heatmap_scores.shape )\n",
    "print('pred_heatmap_scores from model is :', tf_model_pred_heatmap_scores.shape,tf_model_pred_heatmap_scores)\n",
    "r_out2 = byclass_to_byimage_np(pred_heatmap_scores,6)\n",
    "\n",
    "with sess.as_default():\n",
    "    r_out1 = byclass_to_byimage_tf(tf_model_pred_heatmap_scores,6).eval()\n",
    "\n",
    "for img in range(2):\n",
    "    class_ids = np.unique(pred_heatmap_scores[img,:,:,4]).astype(int).tolist()    \n",
    "    print('Classids: ', class_ids)\n",
    "    print('Image ', img ,' ------------')\n",
    "    for j in range(200):\n",
    "        print('tf: ',r_out1[img,j])\n",
    "        print('np: ',r_out2[img,j])\n",
    "        print()"
   ]
  },
  {
   "cell_type": "markdown",
   "metadata": {
    "heading_collapsed": true,
    "hidden": true
   },
   "source": [
    "#### ground work for writing `byclass_to_by_image()`"
   ]
  },
  {
   "cell_type": "code",
   "execution_count": null,
   "metadata": {
    "ExecuteTime": {
     "end_time": "2018-09-25T17:12:56.458588Z",
     "start_time": "2018-09-25T17:12:55.776329Z"
    },
    "hidden": true
   },
   "outputs": [],
   "source": [
    "# print(pred_heatmap_scores.shape)\n",
    "# gt_heatmap_scores = tf.identity(model_gt_heatmap_scores)\n",
    "# aa = tf.reshape(gt_heatmap_scores, [gt_heatmap_scores.shape[0], -1, gt_heatmap_scores.shape[-1]])\n",
    "# _ , sort_inds = tf.nn.top_k(tf.abs(aa[:,:,6]), k=gt_heatmap_scores.shape[2])\n",
    "# print(sort_inds.shape)\n",
    "# batch_grid, bbox_grid = tf.meshgrid(tf.range(batch_size), tf.range(gt_heatmap_scores.shape[2]),indexing='ij')\n",
    "# gather_inds = tf.stack([batch_grid, sort_inds],axis = -1)\n",
    "# print(aa.shape)\n",
    "# print(bb.shape)\n",
    "# cc = tf.gather_nd(aa, gather_inds )\n",
    "# print('cc : ',cc.shape)\n",
    "# with sess.as_default():\n",
    "# #     r_pred_heatmap_scores = gauss_scores.eval()\n",
    "#     r_aa = aa.eval()\n",
    "#     r_sort_inds = sort_inds.eval()\n",
    "#     r_gather_inds = gather_inds.eval()\n",
    "# #     r_bb = bb.eval()\n",
    "#     r_cc = cc.eval()\n",
    "# #     r_dd = dd.eval()\n",
    "# # print(r_pred_heatmap_scores[0,1])\n",
    "# print('cc: ',r_cc.shape)\n",
    "# print('bb: ',r_bb.shape)\n",
    "# print('aa: ',r_aa.shape)\n",
    "# # print(r_sort_inds)\n",
    "# print(r_gather_inds)\n",
    "# # print(r_bb)\n",
    "# print(r_cc[0])\n",
    "print(r_cc[1])"
   ]
  },
  {
   "cell_type": "markdown",
   "metadata": {
    "heading_collapsed": true,
    "hidden": true
   },
   "source": [
    "####  Convert `pred_heatmap_scores` using `byclass_to_byimage_np`"
   ]
  },
  {
   "cell_type": "code",
   "execution_count": null,
   "metadata": {
    "ExecuteTime": {
     "end_time": "2018-09-25T16:03:29.189366Z",
     "start_time": "2018-09-25T16:03:29.110660Z"
    },
    "hidden": true,
    "scrolled": true
   },
   "outputs": [],
   "source": [
    "# with sess.as_default():\n",
    "np.set_printoptions(linewidth=150, precision=6)\n",
    "# print('scatter shape is ', pred_scatt.get_shape())\n",
    "print(model_pred_heatmap_scores.shape)\n",
    "print(model_pred_heatmap_scores[0,0,0])\n",
    "outp = byclass_to_byimage_np(model_pred_heatmap_scores,6)\n",
    "print(outp[0])"
   ]
  },
  {
   "cell_type": "markdown",
   "metadata": {
    "heading_collapsed": true,
    "hidden": true
   },
   "source": [
    "####  Convert `gt_heatmap_scores` using `byclass_to_byimage_np`"
   ]
  },
  {
   "cell_type": "code",
   "execution_count": null,
   "metadata": {
    "ExecuteTime": {
     "end_time": "2018-09-25T15:51:19.844675Z",
     "start_time": "2018-09-25T15:51:19.746388Z"
    },
    "hidden": true,
    "hideCode": false,
    "hideOutput": true,
    "hidePrompt": false
   },
   "outputs": [],
   "source": [
    "# with sess.as_default():\n",
    "np.set_printoptions(linewidth=150, precision=6)\n",
    "\n",
    "# print('pred_heatmap_scores shape is       ', gt_heatmap_scores.shape )\n",
    "print('pred_heatmap_scores from model is :', model_gt_heatmap_scores.shape)\n",
    "print(model_gt_heatmap_scores[0,1])\n",
    "\n",
    "# with sess.as_default():\n",
    "#     r_pred_tensor = pred_tensor.eval()\n",
    "# for img in range(2):\n",
    "#     class_ids = np.unique(model_gt_heatmap_scores[img,:,:,4]).astype(int).tolist()    \n",
    "#     print('Classids: ', class_ids)\n",
    "#     for i in class_ids:\n",
    "#         print('Image ', img , '/ Class ',i,' ------------')\n",
    "#         for j in range(200):\n",
    "#             print(gt_heatmap_scores[img,i,j])\n",
    "#             print(model_gt_heatmap_scores[img,i,j])\n",
    "# #         print(pred_refined_tensor[img,i,j])\n",
    "#         print()\n",
    " \n",
    "outp = byclass_to_byimage_np(model_gt_heatmap_scores,6)\n",
    "print(outp[0])"
   ]
  },
  {
   "cell_type": "markdown",
   "metadata": {
    "heading_collapsed": true,
    "hidden": true,
    "hideCode": true,
    "hidePrompt": true
   },
   "source": [
    "####  Display for visual check - `pred_heatmap_scores`"
   ]
  },
  {
   "cell_type": "code",
   "execution_count": null,
   "metadata": {
    "ExecuteTime": {
     "end_time": "2018-05-19T16:49:31.958039Z",
     "start_time": "2018-05-19T16:49:31.945996Z"
    },
    "hidden": true,
    "hideCode": false,
    "hideOutput": true,
    "hidePrompt": false,
    "scrolled": false
   },
   "outputs": [],
   "source": [
    "# with sess.as_default():\n",
    "np.set_printoptions(linewidth=150, precision=6)\n",
    "# print('scatter shape is ', pred_scatt.get_shape())\n",
    "print('pred_heatmap_scores shape is ', pred_heatmap_scores.shape)\n",
    "img = 0\n",
    "for k in range(4):\n",
    "    print('Image ', img , '/ Class ',k,' ------------')\n",
    "    print(pred_heatmap_scores[img,k])"
   ]
  },
  {
   "cell_type": "markdown",
   "metadata": {
    "heading_collapsed": true,
    "hidden": true,
    "hideCode": false,
    "hidePrompt": false
   },
   "source": [
    "####  Display for visual check - `pred_heatmap_norm`  "
   ]
  },
  {
   "cell_type": "code",
   "execution_count": null,
   "metadata": {
    "ExecuteTime": {
     "end_time": "2018-05-17T20:33:24.888916Z",
     "start_time": "2018-05-17T20:33:24.652795Z"
    },
    "hidden": true,
    "hideCode": false,
    "hideOutput": true
   },
   "outputs": [],
   "source": [
    "print(pred_heatmap_norm.shape)\n",
    "temp = pred_heatmap_norm\n",
    "np.set_printoptions(linewidth=150, threshold=10000)\n",
    "print('  Temp shape :',  temp.shape)\n",
    "temp_sum = np.sum(temp,axis=(1,2))\n",
    "print('temp_sum is ', temp_sum.shape)\n",
    "for i in range(5):\n",
    "    for j in range(4):\n",
    "            print('img ',i,' class ', j, ' sum:',temp_sum[i,j])"
   ]
  },
  {
   "cell_type": "markdown",
   "metadata": {
    "heading_collapsed": true,
    "hidden": true
   },
   "source": [
    "####  Run TF graph"
   ]
  },
  {
   "cell_type": "code",
   "execution_count": null,
   "metadata": {
    "hidden": true
   },
   "outputs": [],
   "source": [
    "# with sess1.as_default():\n",
    "# FeedList = [positive_ind_shuffled, positive_indices, positive_overlaps, roi_gt_class_ids, roi_gt_boxes, roi_gt_box_assignment ]\n",
    "# FeedList = [ rois, roi_gt_class_ids,  roi_gt_deltas, roi_gt_boxes]\n",
    "Fetches  = [ pred_heatmap, pred_heatmap_norm, pred_heatmap_scores]\n",
    "tt = sess.run(Fetches)\n",
    "print(type(tt), len(tt))\n",
    "for i in tt:\n",
    "    print(type(i), i.shape)"
   ]
  }
 ],
 "metadata": {
  "anaconda-cloud": {},
  "celltoolbar": "Hide code",
  "hide_code_all_hidden": false,
  "kernelspec": {
   "display_name": "Python [conda env:TFG]",
   "language": "python",
   "name": "conda-env-TFG-py"
  },
  "language_info": {
   "codemirror_mode": {
    "name": "ipython",
    "version": 3
   },
   "file_extension": ".py",
   "mimetype": "text/x-python",
   "name": "python",
   "nbconvert_exporter": "python",
   "pygments_lexer": "ipython3",
   "version": "3.5.4"
  },
  "toc": {
   "base_numbering": 1,
   "nav_menu": {},
   "number_sections": true,
   "sideBar": true,
   "skip_h1_title": false,
   "title_cell": "Table of Contents",
   "title_sidebar": "Contents",
   "toc_cell": false,
   "toc_position": {},
   "toc_section_display": true,
   "toc_window_display": false
  }
 },
 "nbformat": 4,
 "nbformat_minor": 2
}
