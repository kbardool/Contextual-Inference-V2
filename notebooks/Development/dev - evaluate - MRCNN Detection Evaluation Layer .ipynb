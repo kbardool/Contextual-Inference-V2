{
 "cells": [
  {
   "cell_type": "markdown",
   "metadata": {
    "hideCode": false,
    "hidePrompt": false
   },
   "source": [
    "## Mask R-CNN - Evaluation Mode - Simulate the `Detection Layer` Process for COCO images\n",
    "\n",
    "We generate the inputs to `DetectTargetLayer` , to manipulate and modify the layer to procduce a modified `output_rois` \n",
    "containing false positives. \n",
    "This will be passed on the the heatmap layer, and through there will become the input to FCN."
   ]
  },
  {
   "cell_type": "code",
   "execution_count": 1,
   "metadata": {
    "ExecuteTime": {
     "end_time": "2019-01-29T19:35:20.312461Z",
     "start_time": "2019-01-29T19:34:45.833465Z"
    }
   },
   "outputs": [
    {
     "data": {
      "text/html": [
       "<style>.container { width:95% !important; }</style>"
      ],
      "text/plain": [
       "<IPython.core.display.HTML object>"
      ]
     },
     "metadata": {},
     "output_type": "display_data"
    },
    {
     "name": "stdout",
     "output_type": "stream",
     "text": [
      "Current working dir:  E:\\git_projs\\MRCNN3\\notebooks\n",
      "appending '..' to sys.path\n"
     ]
    },
    {
     "name": "stderr",
     "output_type": "stream",
     "text": [
      "Using TensorFlow backend.\n"
     ]
    }
   ],
   "source": [
    "from IPython.core.display import display, HTML\n",
    "display(HTML(\"<style>.container { width:95% !important; }</style>\"))\n",
    "%matplotlib inline\n",
    "%load_ext autoreload\n",
    "%autoreload 2\n",
    "import sys,os, pprint, pickle\n",
    "pp = pprint.PrettyPrinter(indent=2, width=100)\n",
    "print('Current working dir: ', os.getcwd())\n",
    "if '..' not in sys.path:\n",
    "    print(\"appending '..' to sys.path\")\n",
    "    sys.path.append('..')\n",
    "    \n",
    "import numpy as np\n",
    "import mrcnn.utils     as utils\n",
    "import mrcnn.visualize as visualize\n",
    "from mrcnn.prep_notebook import build_coco_config, get_image_batch\n",
    "from mrcnn.prep_notebook import build_mrcnn_inference_pipeline, run_mrcnn_inference_pipeline, get_inference_batch\n",
    "from mrcnn.prep_notebook import build_mrcnn_evaluate_pipeline, run_mrcnn_evaluate_pipeline, get_evaluate_batch\n",
    "from mrcnn.prep_notebook import build_mrcnn_evaluate_pipeline_newshapes\n",
    "from mrcnn.visualize     import display_training_batch\n",
    "from mrcnn.coco          import prep_coco_dataset\n",
    "from mrcnn.newshapes     import prep_newshape_dataset\n",
    "from mrcnn.datagen       import data_gen_simulate"
   ]
  },
  {
   "cell_type": "markdown",
   "metadata": {},
   "source": [
    "###  Build Newshapes model "
   ]
  },
  {
   "cell_type": "code",
   "execution_count": 3,
   "metadata": {
    "ExecuteTime": {
     "end_time": "2019-01-29T19:37:11.038609Z",
     "start_time": "2019-01-29T19:36:56.268847Z"
    },
    "scrolled": true
   },
   "outputs": [
    {
     "name": "stdout",
     "output_type": "stream",
     "text": [
      "\n",
      "--> Execution started at: 01-29-2019 @ 20:36:56\n",
      "    Tensorflow Version: 1.8.0   Keras Version : 2.2.0 \n",
      "    Build_mrcnn_inference_pipeline_newshapes MODE is : evaluate\n",
      "\n",
      "   Arguments passed :\n",
      "   --------------------\n",
      "   batch_size                     1\n",
      "   coco_classes                   None\n",
      "   epochs                         1\n",
      "   evaluate_method                1\n",
      "   fcn_arch                       FCN32\n",
      "   fcn_layers                     ['fcn32+']\n",
      "   fcn_logs_dir                   train_fcn8_l2_newshapes\n",
      "   fcn_losses                     fcn_BCE_loss\n",
      "   fcn_model                      last\n",
      "   last_epoch                     0\n",
      "   lr                             0.001\n",
      "   mrcnn_exclude_layers           None\n",
      "   mrcnn_layers                   ['mrcnn', 'fpn', 'rpn']\n",
      "   mrcnn_logs_dir                 train_mrcnn_newshapes\n",
      "   mrcnn_model                    last\n",
      "   new_log_folder                 False\n",
      "   opt                            ADAGRAD\n",
      "   scale_factor                   1\n",
      "   steps_in_epoch                 1\n",
      "   sysout                         SCREEN\n",
      "   val_steps                      1\n",
      "\n",
      "\n",
      ">>> Initialize Paths\n",
      " windows  Windows\n",
      "\n",
      "   Arguments passed :\n",
      "   --------------------\n",
      "   batch_size                     1\n",
      "   coco_classes                   None\n",
      "   epochs                         1\n",
      "   evaluate_method                1\n",
      "   fcn_arch                       FCN32\n",
      "   fcn_layers                     ['fcn32+']\n",
      "   fcn_logs_dir                   train_fcn8_l2_newshapes\n",
      "   fcn_losses                     fcn_BCE_loss\n",
      "   fcn_model                      last\n",
      "   last_epoch                     0\n",
      "   lr                             0.001\n",
      "   mrcnn_exclude_layers           None\n",
      "   mrcnn_layers                   ['mrcnn', 'fpn', 'rpn']\n",
      "   mrcnn_logs_dir                 train_mrcnn_newshapes\n",
      "   mrcnn_model                    last\n",
      "   new_log_folder                 False\n",
      "   opt                            ADAGRAD\n",
      "   scale_factor                   1\n",
      "   steps_in_epoch                 1\n",
      "   sysout                         SCREEN\n",
      "   val_steps                      1\n",
      "\n",
      "\n",
      "\n",
      "   Paths:\n",
      "   -------------------------\n",
      "COCO_DATASET_PATH              F:\\MLDatasets\\coco2014\n",
      "COCO_HEATMAP_PATH              F:\\MLDatasets\\coco2014_heatmaps\n",
      "COCO_MODEL_PATH                F:\\PretrainedModels\\mask_rcnn_coco.h5\n",
      "DIR_DATASET                    F:\\MLDatasets\n",
      "DIR_PRETRAINED                 F:\\PretrainedModels\n",
      "DIR_ROOT                       F:\\\n",
      "DIR_TRAINING                   F:\\models_newshapes\n",
      "FCN_TRAINING_PATH              F:\\models_newshapes\\train_fcn8_l2_newshapes\n",
      "FCN_VGG16_MODEL_PATH           F:\\PretrainedModels\\fcn_vgg16_weights_tf_dim_ordering_tf_kernels.h5\n",
      "MRCNN_TRAINING_PATH            F:\\models_newshapes\\train_mrcnn_newshapes\n",
      "RESNET_MODEL_PATH              F:\\PretrainedModels\\resnet50_weights_tf_dim_ordering_tf_kernels_notop.h5\n",
      "SHAPES_MODEL_PATH              F:\\PretrainedModels\\mask_rcnn_shapes.h5\n",
      "VGG16_MODEL_PATH               F:\\PretrainedModels\\vgg16_weights_tf_dim_ordering_tf_kernels_notop.h5\n",
      "\n",
      ">>> Initialize ModelBase model \n",
      "   Mode      :  evaluate\n",
      "   Model dir :  F:\\models_newshapes\\train_mrcnn_newshapes\n",
      ">>> ModelBase initialiation complete\n",
      ">>> ---Initialize MRCNN model, mode:  evaluate\n",
      " load class+predcition_info from : F:\\PretrainedModels\\newshapes_class_stats_info.pkl\n",
      "\n",
      "----------------------------\n",
      ">>> Resnet Graph \n",
      "----------------------------\n",
      "     Input_image shape : (?, 128, 128, 3)\n",
      "    After ZeroPadding2D            :  shape: (?, 134, 134, 3)      KB.shape:(None, 134, 134, 3)   Keras Tensor: True\n",
      "    After Conv2D padding :         :  shape: (?, 64, 64, 64)       KB.shape:(None, 64, 64, 64)    Keras Tensor: True\n",
      "    After BatchNorm                :  shape: (?, 64, 64, 64)       KB.shape:(None, 64, 64, 64)    Keras Tensor: True\n",
      "    C1                             :  shape: (?, 32, 32, 64)       KB.shape:(None, 32, 32, 64)    Keras Tensor: True\n",
      "    C2                             :  shape: (?, 32, 32, 256)      KB.shape:(None, 32, 32, 256)   Keras Tensor: True\n",
      "    C3                             :  shape: (?, 16, 16, 512)      KB.shape:(None, 16, 16, 512)   Keras Tensor: True\n",
      "    C4                             :  shape: (?, 8, 8, 1024)       KB.shape:(None, 8, 8, 1024)    Keras Tensor: True\n",
      "    C5                             :  shape: (?, 4, 4, 2048)       KB.shape:(None, 4, 4, 2048)    Keras Tensor: True\n",
      "\n",
      ">>> Feature Pyramid Network (FPN) Graph \n",
      "    FPN P5                         :  shape: (?, 4, 4, 256)        KB.shape:(None, 4, 4, 256)     Keras Tensor: True\n",
      "    FPN P4                         :  shape: (?, 8, 8, 256)        KB.shape:(None, 8, 8, 256)     Keras Tensor: True\n",
      "    FPN P3                         :  shape: (?, 16, 16, 256)      KB.shape:(None, 16, 16, 256)   Keras Tensor: True\n",
      "    FPN P2                         :  shape: (?, 32, 32, 256)      KB.shape:(None, 32, 32, 256)   Keras Tensor: True\n",
      "    FPN P2 shape :                 :  shape: (?, 32, 32, 256)      KB.shape:(None, 32, 32, 256)   Keras Tensor: True\n",
      "    FPN P3 shape :                 :  shape: (?, 16, 16, 256)      KB.shape:(None, 16, 16, 256)   Keras Tensor: True\n",
      "    FPN P4 shape :                 :  shape: (?, 8, 8, 256)        KB.shape:(None, 8, 8, 256)     Keras Tensor: True\n",
      "    FPN P5 shape :                 :  shape: (?, 4, 4, 256)        KB.shape:(None, 4, 4, 256)     Keras Tensor: True\n",
      "    FPN P6 shape :                 :  shape: (?, 2, 2, 256)        KB.shape:(None, 2, 2, 256)     Keras Tensor: True\n",
      "\n",
      ">>> RPN Layer \n",
      "     append Tensor(\"fpn_p2/BiasAdd:0\", shape=(?, 32, 32, 256), dtype=float32) to layer_outputs \n",
      "     append Tensor(\"fpn_p3/BiasAdd:0\", shape=(?, 16, 16, 256), dtype=float32) to layer_outputs \n",
      "     append Tensor(\"fpn_p4/BiasAdd:0\", shape=(?, 8, 8, 256), dtype=float32) to layer_outputs \n",
      "     append Tensor(\"fpn_p5/BiasAdd:0\", shape=(?, 4, 4, 256), dtype=float32) to layer_outputs \n",
      "     append Tensor(\"fpn_p6/MaxPool:0\", shape=(?, 2, 2, 256), dtype=float32) to layer_outputs \n",
      "\n",
      ">>> RPN Outputs  <class 'list'>\n",
      "      rpn_class_logits/rpn_class_logits:0\n",
      "      rpn_class/rpn_class:0\n",
      "      rpn_bbox/rpn_bbox:0\n",
      "\n",
      ">>> Proposal Layer - generate  1000  proposals\n",
      "    Init complete. Size of anchors:  (4092, 4)\n",
      "     Scores :  (1, 4092)\n",
      "     Deltas :  (1, 4092, 4)\n",
      "     Anchors:  (1, 4092, 4)\n",
      "     Boxes shape / type after processing: \n",
      "     Output: Proposals shape :  (1, ?, ?) (1, None, None)\n",
      "\n",
      ">>> FPN Classifier Graph \n",
      "\n",
      ">>> Detection Layer (Evaluation Mode :1)\n",
      "    Detection Layer : call()  <class 'list'> 2\n",
      "    input_gt_class_ids             :  shape: (?, ?)                KB.shape:(None, None)          Keras Tensor: True\n",
      "    input_gt_bboxes                :  shape: (?, ?, 4)             KB.shape:(None, None, 4)       Keras Tensor: True\n",
      "    Detections                     :  shape: <unknown>             KB.shape:(None, 64, 7)         Keras Tensor: True\n",
      "\n",
      "--------------------------------\n",
      ">>>  CHM Inference Layer  \n",
      "--------------------------------\n",
      "  > CHM Inference Layer: call  <class 'list'> 1\n",
      "     detections.shape     : (None, 64, 7)\n",
      "\n",
      "  > build_predictions Inference mode ()\n",
      "    config image shape     :  [128 128   3] h: 128 w: 128\n",
      "    Detection Max Instacnes:  64\n",
      "    num_rois               :  64\n",
      "    num_cols               :  7\n",
      "    detected_rois.shape    :  (None, 64, 7)\n",
      "    batch_grid:  (1, 64)\n",
      "    bbox_grid :  (1, 64)\n",
      "    shape of sequence      :  <unknown>\n",
      "    pred_array             :  <unknown>\n",
      "    scatter_ind            :  (1, 64, 3)\n",
      "    pred_scatter           :  (1, 7, 64, 8)\n",
      "    - Add normalized score --\n",
      "\n",
      "    normalizer             :  (1, 7, 1)\n",
      "    norm_score             :  (1, 7, 64, 1)\n",
      "    pred_scatter           :  (1, 7, 64, 9)\n",
      "    sort_inds              :  (1, 7, 64) Keras Tensor: False\n",
      "    class_grid             :  (1, 7, 64) Keras Tensor: False\n",
      "    batch_grid             :  (1, 7, 64) Keras Tensor: False\n",
      "    roi_grid shape         :  (1, 7, 64) Keras Tensor: False\n",
      "    gather_inds            :  (1, 7, 64, 3) Keras Tensor: False\n",
      "    pred_tensor            :  (1, 7, 64, 9) Keras Tensor: False\n",
      "\n",
      " \n",
      "  > build_inference_heatmap() for  ['pred_heatmap']\n",
      "    in_tensor shape        :  (1, 7, 64, 9)\n",
      "    num bboxes per class   :  64\n",
      "    heatmap scale        :  1 Dimensions:  w: 128  h: 128\n",
      "    pt2_sum shape  :  (1, 7, 64)\n",
      "    pt2_ind shape  :  (?, 3)\n",
      "    pt2_dense shape:  (?, 9)\n",
      "    X/Y shapes : (128, 128) (128, 128)\n",
      "    Ones:     (?, 1, 1)\n",
      "    ones_exp * X (?, 1, 1) * (128, 128) =  (?, 128, 128)\n",
      "    ones_exp * Y (?, 1, 1) * (128, 128) =  (?, 128, 128)\n",
      "    pos_grid before transpse :  (?, 128, 128, 2)\n",
      "    pos_grid after transpose :  (128, 128, ?, 2)\n"
     ]
    },
    {
     "name": "stdout",
     "output_type": "stream",
     "text": [
      "    >> input to MVN.PROB: pos_grid (meshgrid) shape:  (128, 128, ?, 2)\n",
      "     Prob_grid shape from mvn.probe:  (128, 128, ?)\n",
      "     Prob_grid shape after tanspose:  (?, 128, 128)\n",
      "    << output probabilities shape  :  (?, 128, 128)\n",
      "    old_style_scores        : (1, 7, 64, 3) (1, 7, 64, 3)\n",
      "    prob_grid_clipped :  (?, 128, 128)\n",
      "\n",
      "    normalization ------------------------------------------------------\n",
      "    normalizer     :  (?, 1, 1)\n",
      "    prob_grid_cns: clipped/normed/scaled :  (?, 128, 128)\n",
      "    alt_scores_1    :  (None, 3)  Keras tensor  False\n",
      "    alt_scores_1(by class)       :  (1, 7, 64, 3)  Keras tensor  False\n",
      "    alt_scores_1_norm(by_class)  :  (1, 7, 64, 3) (1, 7, 64, 3)\n",
      "\n",
      "    Scatter out the probability distributions based on class --------------\n",
      "    pt2_ind shape      :  (?, 3)\n",
      "    prob_grid_clippped :  (?, 128, 128)\n",
      "    gauss_heatmap      :  (1, 7, 64, 128, 128)\n",
      "\n",
      "    Reduce SUM based on class and normalize within each class -------------------------------------\n",
      "    gaussian_heatmap_sum :  (1, 7, 128, 128) Keras tensor  False\n",
      "    normalizer shape   :  (1, 7, 1, 1)\n",
      "    normalized heatmap :  (1, 7, 128, 128)  Keras tensor  False\n",
      "    hm_indices shape         : (?, 2) (None, 2)\n",
      "    pt2_heatmaps             : (?, 128, 128) (None, 128, 128)\n",
      "    alt_scores_2    :  (None, 3)  Keras tensor  False\n",
      "    alt_scores_2(scattered)       :  (1, 7, 64, 3)  Keras tensor  False\n",
      "    alt_scores_2_norm(by_class)  :  (1, 7, 64, 3) (1, 7, 64, 3)\n",
      "    reshaped heatmap   :  (1, 128, 128, 7)  Keras tensor  False\n",
      "    gauss_scores    :  (1, 7, 64, 24)  Keras tensor  False\n",
      "    complete\n",
      "\n",
      "    Output of CHMLayerInference: \n",
      "     pred_tensor        :  (1, 7, 64, 9) Keras tensor  False\n",
      "     pred_heatmap_norm  :  (1, 128, 128, 7) Keras tensor  False\n",
      "     pred_heatmap_scores:  (1, 7, 64, 24) Keras tensor  False\n",
      "     complete\n",
      "    shape of pr_hm        :        :  shape: (1, 128, 128, 7)      KB.shape:(None, 128, 128, 7)   Keras Tensor: True\n",
      "    shape of pr_hm_scores :        :  shape: (1, 7, 64, 24)        KB.shape:(None, 7, 64, 24)     Keras Tensor: True\n",
      "\n",
      ">>> Build MaskRCNN build complete. mode:  evaluate\n",
      ">>> MaskRCNN initialiation complete. Mode:  evaluate\n",
      "\n",
      " MRCNN Configuration Parameters \n",
      " ------------------------------ \n",
      "\n",
      "Configuration Parameters:\n",
      "-------------------------\n",
      "BACKBONE_SHAPES                [[32 32]\n",
      " [16 16]\n",
      " [ 8  8]\n",
      " [ 4  4]\n",
      " [ 2  2]]\n",
      "BACKBONE_STRIDES               [4, 8, 16, 32, 64]\n",
      "BATCH_SIZE                     1\n",
      "BBOX_STD_DEV                   [0.1 0.1 0.2 0.2]\n",
      "DETECTION_MAX_INSTANCES        64\n",
      "DETECTION_MIN_CONFIDENCE       0.1\n",
      "DETECTION_NMS_THRESHOLD        0.3\n",
      "DETECTION_PER_CLASS            64\n",
      "DIR_DATASET                    F:\\MLDatasets\n",
      "DIR_PRETRAINED                 F:\\PretrainedModels\n",
      "DIR_TRAINING                   F:\\models_newshapes\n",
      "EPOCHS_TO_RUN                  0\n",
      "EVALUATE_METHOD                1\n",
      "FCN_INPUT_SHAPE                [128 128]\n",
      "GPU_COUNT                      1\n",
      "HEATMAP_SCALE_FACTOR           1\n",
      "IMAGES_PER_GPU                 1\n",
      "IMAGE_BUFFER                   20\n",
      "IMAGE_MAX_DIM                  128\n",
      "IMAGE_MIN_DIM                  128\n",
      "IMAGE_PADDING                  True\n",
      "IMAGE_SHAPE                    [128 128   3]\n",
      "LAST_EPOCH_RAN                 0\n",
      "LEARNING_MOMENTUM              0.9\n",
      "LEARNING_RATE                  0.001\n",
      "MASK_POOL_SIZE                 14\n",
      "MASK_SHAPE                     [28, 28]\n",
      "MAX_GT_INSTANCES               100\n",
      "MAX_SHAPES_PER_IMAGE           15\n",
      "MEAN_PIXEL                     [123.7 116.8 103.9]\n",
      "MINI_MASK_SHAPE                (56, 56)\n",
      "MIN_SHAPES_PER_IMAGE           1\n",
      "NAME                           mrcnn\n",
      "NEW_LOG_FOLDER                 False\n",
      "NUM_CLASSES                    7\n",
      "POOL_SIZE                      7\n",
      "POST_NMS_ROIS_INFERENCE        1000\n",
      "POST_NMS_ROIS_TRAINING         2000\n",
      "PRED_CLASS_INFO_PATH           F:\\PretrainedModels\\newshapes_class_stats_info.pkl\n",
      "RESNET_MODEL_PATH              F:\\PretrainedModels\\resnet50_weights_tf_dim_ordering_tf_kernels_notop.h5\n",
      "ROI_GT_IOU_THRESHOLD           0.2\n",
      "ROI_POSITIVE_RATIO             0.33\n",
      "ROI_PROPOSAL_AREA_THRESHOLD    0\n",
      "RPN_ANCHOR_RATIOS              [0.5, 1, 2]\n",
      "RPN_ANCHOR_SCALES              (8, 16, 32, 64, 128)\n",
      "RPN_ANCHOR_STRIDE              1\n",
      "RPN_BBOX_STD_DEV               [0.1 0.1 0.2 0.2]\n",
      "RPN_NMS_THRESHOLD              0.7\n",
      "RPN_TRAIN_ANCHORS_PER_IMAGE    256\n",
      "SHAPES_MODEL_PATH              F:\\PretrainedModels\\mask_rcnn_shapes.h5\n",
      "STEPS_PER_EPOCH                100\n",
      "SYSOUT                         SCREEN\n",
      "TRAINING_PATH                  F:\\models_newshapes\\train_mrcnn_newshapes\n",
      "TRAIN_ROIS_PER_IMAGE           32\n",
      "USE_MINI_MASK                  True\n",
      "USE_RPN_ROIS                   True\n",
      "VALIDATION_STEPS               5\n",
      "VERBOSE                        1\n",
      "VGG16_MODEL_PATH               F:\\PretrainedModels\\vgg16_weights_tf_dim_ordering_tf_kernels_notop.h5\n",
      "WEIGHT_DECAY                   0.0001\n",
      "\n",
      "\n",
      "\n",
      " MRCNN IO Layers \n",
      " --------------- \n",
      " Inputs:\n",
      " -------\n",
      " index:  0    input name : input_image:0                              Type: float32           Shape: (?, 128, 128, 3)\n",
      " index:  1    input name : input_image_meta:0                         Type: float32           Shape: (?, ?)\n",
      " index:  2    input name : input_gt_class_ids:0                       Type: int32             Shape: (?, ?)\n",
      " index:  3    input name : input_gt_boxes:0                           Type: float32           Shape: (?, ?, 4)\n",
      " Outputs:\n",
      " --------\n",
      " layer:  0    output name: mrcnn_detection_evaluate/detections:0      Type: float32           Shape: <unknown>\n",
      " layer:  1    output name: ROI/rpn_roi_proposals:0                    Type: float32           Shape: (1, ?, ?)\n",
      " layer:  2    output name: mrcnn_class_lambda/mrcnn_class:0           Type: float32           Shape: (?, 1000, 7)\n",
      " layer:  3    output name: mrcnn_bbox_lambda/mrcnn_bbox:0             Type: float32           Shape: (?, 1000, 7, 4)\n",
      " layer:  4    output name: cntxt_layer/pred_heatmap:0                 Type: float32           Shape: (1, 128, 128, 7)\n",
      " layer:  5    output name: cntxt_layer/pred_heatmap_scores:0          Type: float32           Shape: (1, 7, 64, 24)\n",
      "-----------------------------------------------\n",
      " Load Model with init parm: [ last ]\n",
      " Exclude layers: \n",
      "-----------------------------------------------\n",
      " ---> last\n",
      ">>> find_last checkpoint in :  F:\\models_newshapes\\train_mrcnn_newshapes\n",
      ">>> find_last checkpoint in :  F:\\models_newshapes\\train_mrcnn_newshapes\n",
      "    Dir starting with       :  mrcnn  : ['mrcnn20181216T0000']\n",
      "    Folder:  F:\\models_newshapes\\train_mrcnn_newshapes\\mrcnn20181216T0000\n",
      "    Checkpoints:  ['mrcnn_0001.h5', 'mrcnn_0058.h5', 'mrcnn_0152.h5', 'mrcnn_0247.h5', 'mrcnn_0389.h5', 'mrcnn_0472.h5']\n",
      "    find_last():   dir_name: F:\\models_newshapes\\train_mrcnn_newshapes\\mrcnn20181216T0000\n",
      "    find_last(): checkpoint: F:\\models_newshapes\\train_mrcnn_newshapes\\mrcnn20181216T0000\\mrcnn_0472.h5\n",
      ">>> load_weights() from : F:\\models_newshapes\\train_mrcnn_newshapes\\mrcnn20181216T0000\\mrcnn_0472.h5\n",
      "    Weights file loaded: F:\\models_newshapes\\train_mrcnn_newshapes\\mrcnn20181216T0000\\mrcnn_0472.h5 \n",
      "==========================================\n",
      "MRCNN  MODEL Load weight file COMPLETE \n",
      "==========================================\n"
     ]
    }
   ],
   "source": [
    "input_parms  =\" --batch_size     1  \"\n",
    "# input_parms +=\" --mrcnn_logs_dir train_mrcnn_coco_subset \"\n",
    "# input_parms +=\" --fcn_logs_dir   train_fcn8_subset \" \n",
    "# input_parms +=\" --coco_classes   10 11 13 14 15  34 35 36 37 38 39 40 41 42 43  44 46 47 48 49 50 51  78 79 80 81 82\"\n",
    "input_parms +=\" --mrcnn_logs_dir train_mrcnn_newshapes \"\n",
    "input_parms +=\" --fcn_logs_dir   train_fcn8_l2_newshapes \" \n",
    "input_parms +=\" --mrcnn_model    last \"\n",
    "input_parms +=\" --scale_factor   1\"\n",
    "input_parms +=\" --sysout         screen \"\n",
    "parser = utils.command_line_parser()\n",
    "args = parser.parse_args(input_parms.split())\n",
    "# mrcnn_config, args = build_coco_config('mrcnn','evaluate', args, verbose = 1)                                \n",
    "\n",
    "# mrcnn_model = build_mrcnn_evaluate_pipeline(args = args, verbose = 1)\n",
    "mrcnn_model = build_mrcnn_evaluate_pipeline_newshapes(args = args, verbose = 1)"
   ]
  },
  {
   "cell_type": "markdown",
   "metadata": {
    "heading_collapsed": true
   },
   "source": [
    "###  Build COCO model "
   ]
  },
  {
   "cell_type": "code",
   "execution_count": 3,
   "metadata": {
    "ExecuteTime": {
     "end_time": "2019-01-28T09:47:57.722923Z",
     "start_time": "2019-01-28T09:47:56.222470Z"
    },
    "hidden": true
   },
   "outputs": [
    {
     "name": "stdout",
     "output_type": "stream",
     "text": [
      "\n",
      "--> Execution started at: 01-28-2019 @ 10:47:57\n",
      "    Tensorflow Version: 1.8.0   Keras Version : 2.2.0 \n",
      ">>> Initialize Paths\n",
      " windows  Windows\n",
      "\n",
      "   Arguments passed :\n",
      "   --------------------\n",
      "   batch_size                     1\n",
      "   coco_classes                   [78, 79, 80, 81, 82, 44, 46, 47, 48, 49, 50, 51, 34, 35, 36, 37, 38, 39, 40, 41, 42, 43, 10, 11, 13, 14, 15]\n",
      "   epochs                         1\n",
      "   evaluate_method                1\n",
      "   fcn_arch                       FCN8L2\n",
      "   fcn_layers                     ['all']\n",
      "   fcn_logs_dir                   train_fcn8L2_BCE_subset\n",
      "   fcn_losses                     fcn_BCE_loss\n",
      "   fcn_model                      last\n",
      "   last_epoch                     0\n",
      "   lr                             0.001\n",
      "   mrcnn_exclude_layers           None\n",
      "   mrcnn_layers                   ['mrcnn', 'fpn', 'rpn']\n",
      "   mrcnn_logs_dir                 train_mrcnn_coco_subset\n",
      "   mrcnn_model                    last\n",
      "   new_log_folder                 False\n",
      "   opt                            ADAGRAD\n",
      "   scale_factor                   4\n",
      "   steps_in_epoch                 1\n",
      "   sysout                         SCREEN\n",
      "   val_steps                      1\n",
      "\n",
      "\n",
      "\n",
      "   Paths:\n",
      "   -------------------------\n",
      "COCO_DATASET_PATH              F:\\MLDatasets\\coco2014\n",
      "COCO_HEATMAP_PATH              F:\\MLDatasets\\coco2014_heatmaps\n",
      "COCO_MODEL_PATH                F:\\PretrainedModels\\mask_rcnn_coco.h5\n",
      "DIR_DATASET                    F:\\MLDatasets\n",
      "DIR_PRETRAINED                 F:\\PretrainedModels\n",
      "DIR_ROOT                       F:\\\n",
      "DIR_TRAINING                   F:\\models_coco\n",
      "FCN_TRAINING_PATH              F:\\models_coco\\train_fcn8L2_BCE_subset\n",
      "FCN_VGG16_MODEL_PATH           F:\\PretrainedModels\\fcn_vgg16_weights_tf_dim_ordering_tf_kernels.h5\n",
      "MRCNN_TRAINING_PATH            F:\\models_coco\\train_mrcnn_coco_subset\n",
      "RESNET_MODEL_PATH              F:\\PretrainedModels\\resnet50_weights_tf_dim_ordering_tf_kernels_notop.h5\n",
      "SHAPES_MODEL_PATH              F:\\PretrainedModels\\mask_rcnn_shapes.h5\n",
      "VGG16_MODEL_PATH               F:\\PretrainedModels\\vgg16_weights_tf_dim_ordering_tf_kernels_notop.h5\n",
      "\n",
      "\n",
      "Configuration Parameters:\n",
      "-------------------------\n",
      "BACKBONE_SHAPES                [[256 256]\n",
      " [128 128]\n",
      " [ 64  64]\n",
      " [ 32  32]\n",
      " [ 16  16]]\n",
      "BACKBONE_STRIDES               [4, 8, 16, 32, 64]\n",
      "BATCH_SIZE                     1\n",
      "BBOX_STD_DEV                   [0.1 0.1 0.2 0.2]\n",
      "COCO_DATASET_PATH              F:\\MLDatasets\\coco2014\n",
      "COCO_MODEL_PATH                F:\\PretrainedModels\\mask_rcnn_coco.h5\n",
      "DETECTION_MAX_INSTANCES        200\n",
      "DETECTION_MIN_CONFIDENCE       0.1\n",
      "DETECTION_NMS_THRESHOLD        0.3\n",
      "DETECTION_PER_CLASS            200\n",
      "DIR_DATASET                    F:\\MLDatasets\n",
      "DIR_PRETRAINED                 F:\\PretrainedModels\n",
      "DIR_TRAINING                   F:\\models_coco\n",
      "EPOCHS_TO_RUN                  0\n",
      "EVALUATE_METHOD                1\n",
      "FCN_INPUT_SHAPE                [256 256]\n",
      "GPU_COUNT                      1\n",
      "HEATMAP_SCALE_FACTOR           4\n",
      "IMAGES_PER_GPU                 1\n",
      "IMAGE_MAX_DIM                  1024\n",
      "IMAGE_MIN_DIM                  800\n",
      "IMAGE_PADDING                  True\n",
      "IMAGE_SHAPE                    [1024 1024    3]\n",
      "LAST_EPOCH_RAN                 0\n",
      "LEARNING_MOMENTUM              0.9\n",
      "LEARNING_RATE                  0.001\n",
      "MASK_POOL_SIZE                 14\n",
      "MASK_SHAPE                     [28, 28]\n",
      "MAX_GT_INSTANCES               100\n",
      "MEAN_PIXEL                     [123.7 116.8 103.9]\n",
      "MINI_MASK_SHAPE                (56, 56)\n",
      "NAME                           mrcnn\n",
      "NEW_LOG_FOLDER                 False\n",
      "NUM_CLASSES                    81\n",
      "POOL_SIZE                      7\n",
      "POST_NMS_ROIS_INFERENCE        1000\n",
      "POST_NMS_ROIS_TRAINING         2000\n",
      "PRED_CLASS_INFO_PATH           F:\\PretrainedModels\\coco_class_stats_info.pkl\n",
      "RESNET_MODEL_PATH              F:\\PretrainedModels\\resnet50_weights_tf_dim_ordering_tf_kernels_notop.h5\n",
      "ROI_GT_IOU_THRESHOLD           0.2\n",
      "ROI_POSITIVE_RATIO             0.33\n",
      "ROI_PROPOSAL_AREA_THRESHOLD    0\n",
      "RPN_ANCHOR_RATIOS              [0.5, 1, 2]\n",
      "RPN_ANCHOR_SCALES              (32, 64, 128, 256, 512)\n",
      "RPN_ANCHOR_STRIDE              1\n",
      "RPN_BBOX_STD_DEV               [0.1 0.1 0.2 0.2]\n",
      "RPN_NMS_THRESHOLD              0.7\n",
      "RPN_TRAIN_ANCHORS_PER_IMAGE    256\n",
      "STEPS_PER_EPOCH                10\n",
      "SYSOUT                         SCREEN\n",
      "TRAINING_PATH                  F:\\models_coco\\train_mrcnn_coco_subset\n",
      "TRAIN_ROIS_PER_IMAGE           200\n",
      "USE_MINI_MASK                  True\n",
      "USE_RPN_ROIS                   True\n",
      "VALIDATION_STEPS               50\n",
      "VERBOSE                        1\n",
      "VGG16_MODEL_PATH               F:\\PretrainedModels\\vgg16_weights_tf_dim_ordering_tf_kernels_notop.h5\n",
      "WEIGHT_DECAY                   0.0001\n",
      "\n",
      "\n",
      ">>> Initialize ModelBase model \n",
      "   Mode      :  evaluate\n",
      "   Model dir :  F:\\models_coco\\train_mrcnn_coco_subset\n",
      ">>> ModelBase initialiation complete\n",
      ">>> ---Initialize MRCNN model, mode:  evaluate\n",
      " load class+predcition_info from : F:\\PretrainedModels\\coco_class_stats_info.pkl\n"
     ]
    },
    {
     "ename": "FileNotFoundError",
     "evalue": "[Errno 2] No such file or directory: 'F:\\\\PretrainedModels\\\\coco_class_stats_info.pkl'",
     "output_type": "error",
     "traceback": [
      "\u001b[1;31m------------------------------------------\u001b[0m",
      "\u001b[1;31mFileNotFoundError\u001b[0mTraceback (most recent call last)",
      "\u001b[1;32m<ipython-input-3-6e8b158a9804>\u001b[0m in \u001b[0;36m<module>\u001b[1;34m()\u001b[0m\n\u001b[0;32m     11\u001b[0m \u001b[0margs\u001b[0m \u001b[1;33m=\u001b[0m \u001b[0mparser\u001b[0m\u001b[1;33m.\u001b[0m\u001b[0mparse_args\u001b[0m\u001b[1;33m(\u001b[0m\u001b[0minput_parms\u001b[0m\u001b[1;33m.\u001b[0m\u001b[0msplit\u001b[0m\u001b[1;33m(\u001b[0m\u001b[1;33m)\u001b[0m\u001b[1;33m)\u001b[0m\u001b[1;33m\u001b[0m\u001b[0m\n\u001b[0;32m     12\u001b[0m \u001b[1;33m\u001b[0m\u001b[0m\n\u001b[1;32m---> 13\u001b[1;33m \u001b[0mmrcnn_model\u001b[0m \u001b[1;33m=\u001b[0m \u001b[0mbuild_mrcnn_evaluate_pipeline\u001b[0m\u001b[1;33m(\u001b[0m\u001b[0margs\u001b[0m \u001b[1;33m=\u001b[0m \u001b[0margs\u001b[0m\u001b[1;33m,\u001b[0m \u001b[0mverbose\u001b[0m \u001b[1;33m=\u001b[0m \u001b[1;36m1\u001b[0m\u001b[1;33m)\u001b[0m\u001b[1;33m\u001b[0m\u001b[0m\n\u001b[0m",
      "\u001b[1;32mE:\\git_projs\\MRCNN3\\mrcnn\\prep_notebook.py\u001b[0m in \u001b[0;36mbuild_mrcnn_evaluate_pipeline\u001b[1;34m(args, mrcnn_config, verbose)\u001b[0m\n\u001b[0;32m    601\u001b[0m         \u001b[1;32mpass\u001b[0m\u001b[1;33m\u001b[0m\u001b[0m\n\u001b[0;32m    602\u001b[0m     \u001b[0mKB\u001b[0m\u001b[1;33m.\u001b[0m\u001b[0mclear_session\u001b[0m\u001b[1;33m(\u001b[0m\u001b[1;33m)\u001b[0m\u001b[1;33m\u001b[0m\u001b[0m\n\u001b[1;32m--> 603\u001b[1;33m     \u001b[0mmrcnn_model\u001b[0m \u001b[1;33m=\u001b[0m \u001b[0mmrcnn_modellib\u001b[0m\u001b[1;33m.\u001b[0m\u001b[0mMaskRCNN\u001b[0m\u001b[1;33m(\u001b[0m\u001b[0mmode\u001b[0m\u001b[1;33m=\u001b[0m\u001b[1;34m'evaluate'\u001b[0m\u001b[1;33m,\u001b[0m \u001b[0mconfig\u001b[0m\u001b[1;33m=\u001b[0m\u001b[0mmrcnn_config\u001b[0m\u001b[1;33m)\u001b[0m\u001b[1;33m\u001b[0m\u001b[0m\n\u001b[0m\u001b[0;32m    604\u001b[0m \u001b[1;33m\u001b[0m\u001b[0m\n\u001b[0;32m    605\u001b[0m \u001b[1;33m\u001b[0m\u001b[0m\n",
      "\u001b[1;32mE:\\git_projs\\MRCNN3\\mrcnn\\model_mrcnn.py\u001b[0m in \u001b[0;36m__init__\u001b[1;34m(self, mode, config, verbose)\u001b[0m\n\u001b[0;32m     81\u001b[0m \u001b[1;33m\u001b[0m\u001b[0m\n\u001b[0;32m     82\u001b[0m         \u001b[1;32mif\u001b[0m \u001b[0mmode\u001b[0m \u001b[1;32min\u001b[0m \u001b[1;33m[\u001b[0m\u001b[1;34m'evaluate'\u001b[0m\u001b[1;33m]\u001b[0m\u001b[1;33m:\u001b[0m\u001b[1;33m\u001b[0m\u001b[0m\n\u001b[1;32m---> 83\u001b[1;33m             \u001b[0mself\u001b[0m\u001b[1;33m.\u001b[0m\u001b[0mclass_pred_stats\u001b[0m \u001b[1;33m=\u001b[0m \u001b[0mutils\u001b[0m\u001b[1;33m.\u001b[0m\u001b[0mload_class_prediction_avg\u001b[0m\u001b[1;33m(\u001b[0m\u001b[0mconfig\u001b[0m\u001b[1;33m.\u001b[0m\u001b[0mPRED_CLASS_INFO_PATH\u001b[0m\u001b[1;33m)\u001b[0m\u001b[1;33m\u001b[0m\u001b[0m\n\u001b[0m\u001b[0;32m     84\u001b[0m \u001b[1;33m\u001b[0m\u001b[0m\n\u001b[0;32m     85\u001b[0m         \u001b[1;31m# Pre-defined layer regular expressions\u001b[0m\u001b[1;33m\u001b[0m\u001b[1;33m\u001b[0m\u001b[0m\n",
      "\u001b[1;32mE:\\git_projs\\MRCNN3\\mrcnn\\utils.py\u001b[0m in \u001b[0;36mload_class_prediction_avg\u001b[1;34m(filename, verbose)\u001b[0m\n\u001b[0;32m   1419\u001b[0m     \u001b[0mprint\u001b[0m\u001b[1;33m(\u001b[0m\u001b[1;34m' load class+predcition_info from :'\u001b[0m\u001b[1;33m,\u001b[0m \u001b[0mfilename\u001b[0m\u001b[1;33m)\u001b[0m\u001b[1;33m\u001b[0m\u001b[0m\n\u001b[0;32m   1420\u001b[0m \u001b[1;33m\u001b[0m\u001b[0m\n\u001b[1;32m-> 1421\u001b[1;33m     \u001b[1;32mwith\u001b[0m \u001b[0mopen\u001b[0m\u001b[1;33m(\u001b[0m\u001b[0mfilename\u001b[0m\u001b[1;33m,\u001b[0m \u001b[1;34m'rb'\u001b[0m\u001b[1;33m)\u001b[0m \u001b[1;32mas\u001b[0m \u001b[0minfile\u001b[0m\u001b[1;33m:\u001b[0m\u001b[1;33m\u001b[0m\u001b[0m\n\u001b[0m\u001b[0;32m   1422\u001b[0m         \u001b[0mclass_prediction_info\u001b[0m \u001b[1;33m=\u001b[0m \u001b[0mpickle\u001b[0m\u001b[1;33m.\u001b[0m\u001b[0mload\u001b[0m\u001b[1;33m(\u001b[0m\u001b[0minfile\u001b[0m\u001b[1;33m)\u001b[0m\u001b[1;33m\u001b[0m\u001b[0m\n\u001b[0;32m   1423\u001b[0m \u001b[1;33m\u001b[0m\u001b[0m\n",
      "\u001b[1;31mFileNotFoundError\u001b[0m: [Errno 2] No such file or directory: 'F:\\\\PretrainedModels\\\\coco_class_stats_info.pkl'"
     ]
    }
   ],
   "source": [
    "input_parms = \" --batch_size 1  \"\n",
    "input_parms +=\" --mrcnn_logs_dir train_mrcnn_coco_subset \"\n",
    "input_parms +=\" --fcn_logs_dir   train_fcn8L2_BCE_subset \"\n",
    "input_parms +=\" --fcn_model      last \"\n",
    "input_parms +=\" --fcn_layer      all\"\n",
    "input_parms +=\" --fcn_arch       fcn8L2 \" \n",
    "input_parms +=\" --sysout         screen \"\n",
    "input_parms +=\" --scale_factor   4\"\n",
    "input_parms +=\" --coco_classes   78 79 80 81 82 44 46 47 48 49 50 51 34 35 36 37 38 39 40 41 42 43 10 11 13 14 15 \"\n",
    "parser = utils.command_line_parser()\n",
    "args = parser.parse_args(input_parms.split())\n",
    "\n",
    "mrcnn_model = build_mrcnn_evaluate_pipeline(args = args, verbose = 1)"
   ]
  },
  {
   "cell_type": "code",
   "execution_count": 28,
   "metadata": {
    "ExecuteTime": {
     "end_time": "2019-01-24T14:45:56.816079Z",
     "start_time": "2019-01-24T14:45:56.477839Z"
    },
    "hidden": true
   },
   "outputs": [
    {
     "data": {
      "text/plain": [
       "{'avg': [0.0, 0.936, 0.9476, 0.9898, 0.9582, 0.9749, 0.9827],\n",
       " 'pct': [[0.0, 0.0, 0.0],\n",
       "  [0.972, 0.9978, 0.9995],\n",
       "  [0.9984, 0.9998, 0.9999],\n",
       "  [0.9992, 0.9996, 0.9998],\n",
       "  [0.9984, 0.9999, 1.0],\n",
       "  [0.9969, 0.9995, 0.9998],\n",
       "  [0.9972, 0.9994, 0.9998]]}"
      ]
     },
     "execution_count": 28,
     "metadata": {},
     "output_type": "execute_result"
    }
   ],
   "source": [
    "mrcnn_model.class_pred_stats\n",
    "# mrcnn_model.config.display()\n",
    "# mrcnn_model.display_layer_info()"
   ]
  },
  {
   "cell_type": "markdown",
   "metadata": {
    "heading_collapsed": true
   },
   "source": [
    "## Set and load weight files"
   ]
  },
  {
   "cell_type": "code",
   "execution_count": 15,
   "metadata": {
    "ExecuteTime": {
     "end_time": "2019-01-24T14:41:08.785777Z",
     "start_time": "2019-01-24T14:41:04.343623Z"
    },
    "hidden": true
   },
   "outputs": [
    {
     "name": "stdout",
     "output_type": "stream",
     "text": [
      "Loading weights  F:/models_newshapes/train_mrcnn_newshapes/mrcnn20181216T0000\\mrcnn_0001.h5\n",
      "-----------------------------------------------\n",
      " Load Model with init parm: [ F:/models_newshapes/train_mrcnn_newshapes/mrcnn20181216T0000\\mrcnn_0001.h5 ]\n",
      "-----------------------------------------------\n",
      " ---> Explicit weight file\n",
      ">>> load_weights() from : F:/models_newshapes/train_mrcnn_newshapes/mrcnn20181216T0000\\mrcnn_0001.h5\n",
      "    Weights file loaded: F:/models_newshapes/train_mrcnn_newshapes/mrcnn20181216T0000\\mrcnn_0001.h5 \n",
      "==========================================\n",
      "MRCNN  MODEL Load weight file COMPLETE \n",
      "==========================================\n"
     ]
    }
   ],
   "source": [
    "MRCNN_DIR_WEIGHTS =  'F:/models_newshapes/train_mrcnn_newshapes/mrcnn20181216T0000'\n",
    "\n",
    "# files = ['fcn_0001.h5','fcn_0027.h5','fcn_0036.h5','fcn_0051.h5','fcn_0076.h5','fcn_0106.h5','fcn_0156.h5']\n",
    "# files   = ['fcn_0104.h5','fcn_0150.h5','fcn_0205.h5','fcn_0249.h5','fcn_0293.h5','fcn_0346.h5','fcn_0419.h5']\n",
    "mrcnn_files   = ['mrcnn_0001.h5', 'mrcnn_0058.h5', 'mrcnn_0152.h5', 'mrcnn_0247.h5', 'mrcnn_0389.h5','mrcnn_0472.h5']\n",
    "\n",
    "FILE_IDX = 0\n",
    "mrcnn_weights_file = os.path.join(MRCNN_DIR_WEIGHTS  , mrcnn_files[FILE_IDX])\n",
    "print(\"Loading weights \", mrcnn_weights_file)\n",
    "mrcnn_model.load_model_weights(mrcnn_weights_file)"
   ]
  },
  {
   "cell_type": "markdown",
   "metadata": {
    "heading_collapsed": true,
    "hidden": true
   },
   "source": [
    "###  FCN Weights "
   ]
  },
  {
   "cell_type": "code",
   "execution_count": 3,
   "metadata": {
    "ExecuteTime": {
     "end_time": "2019-01-21T18:01:05.306204Z",
     "start_time": "2019-01-21T18:01:04.105459Z"
    },
    "hidden": true
   },
   "outputs": [
    {
     "name": "stdout",
     "output_type": "stream",
     "text": [
      "Loading weights  F:/models_newshapes/train_fcn8_l2_newshapes/fcn20181224T0000\\fcn_0521.h5\n",
      "-----------------------------------------------\n",
      " Load Model with init parm: [ F:/models_newshapes/train_fcn8_l2_newshapes/fcn20181224T0000\\fcn_0521.h5 ]\n",
      "-----------------------------------------------\n",
      " ---> Explicit weight file\n",
      ">>> load_weights() from : F:/models_newshapes/train_fcn8_l2_newshapes/fcn20181224T0000\\fcn_0521.h5\n",
      "    Weights file loaded: F:/models_newshapes/train_fcn8_l2_newshapes/fcn20181224T0000\\fcn_0521.h5 \n",
      "==========================================\n",
      "FCN  MODEL Load weight file COMPLETE \n",
      "==========================================\n"
     ]
    }
   ],
   "source": [
    "# DIR_WEIGHTS = '/home/kbardool/models/train_fcn8_coco/fcn20181026T1432'\n",
    "# DIR_WEIGHTS =  'F:/models/train_fcn8_bce/fcn20181205T0000' ### Training with LR=0.00001, MSE Loss NO L2 Regularization\n",
    "FCN_DIR_WEIGHTS =  'F:/models_newshapes/train_fcn8_l2_newshapes/fcn20181224T0000' ### Training with LR=0.00001, MSE Loss NO L2 Regularization\n",
    "# DIR_WEIGHTS =  '/home/kbardool/models/train_fcn8_coco/fcn20181031T0000' ### Training with LR=0.00001, MSE Loss NO L2 Regularization\n",
    "# files = ['fcn_0001.h5','fcn_0027.h5','fcn_0036.h5','fcn_0051.h5','fcn_0076.h5','fcn_0106.h5','fcn_0156.h5']\n",
    "# files   = ['fcn_0104.h5','fcn_0150.h5','fcn_0205.h5','fcn_0249.h5','fcn_0293.h5','fcn_0346.h5','fcn_0419.h5']\n",
    "\n",
    "fcn_files = ['fcn_0001.h5', 'fcn_0150.h5', 'fcn_0346.h5', 'fcn_0421.h5',\n",
    "             'fcn_0450.h5', 'fcn_0482.h5', 'fcn_0521.h5', 'fcn_0610.h5',\n",
    "             'fcn_0687.h5', 'fcn_0793.h5', 'fcn_0821.h5', 'fcn_0940.h5',\n",
    "             'fcn_1012.h5', 'fcn_1127.h5', 'fcn_1644.h5', 'fcn_1776.h5',\n",
    "              'fcn_1848.h5', 'fcn_2017.h5', 'fcn_2084.h5', 'fcn_x0434.h5', 'fcn_x0419.h5']\n",
    "FILE_IDX = 6\n",
    "fcn_weights_file = os.path.join(FCN_DIR_WEIGHTS  , fcn_files[FILE_IDX])\n",
    "print(\"Loading weights \", fcn_weights_file)\n",
    "fcn_model.load_model_weights(fcn_weights_file)"
   ]
  },
  {
   "cell_type": "markdown",
   "metadata": {},
   "source": [
    "## Load Training dataset"
   ]
  },
  {
   "cell_type": "markdown",
   "metadata": {
    "heading_collapsed": true
   },
   "source": [
    "###  Coco"
   ]
  },
  {
   "cell_type": "code",
   "execution_count": null,
   "metadata": {
    "ExecuteTime": {
     "end_time": "2019-01-24T14:00:46.288316Z",
     "start_time": "2019-01-24T14:00:19.414216Z"
    },
    "hidden": true,
    "hideCode": false,
    "hideOutput": true,
    "hidePrompt": false,
    "scrolled": false
   },
   "outputs": [],
   "source": [
    "##------------------------------------------------------------------------------------------------------------\n",
    "## Build & Load Training and Validation datasets  loadAnns='active_only' | 'all_classes'\n",
    "## train  : 82081 |  train + val35k : 117266 | val    : 40137 | val35k : 35185 |  minival:  4952\n",
    "##------------------------------------------------------------------------------------------------------------ \n",
    "#   'accessory':   [27, 28, 31, 32, 33],          # 'animal':     [16, 17, 18, 19, 20, 21, 22, 23, 24, 25],\n",
    "#   'appliance':  [78, 79, 80, 81, 82],           # 'background': [0],\n",
    "#   'electronic': [72, 73, 74, 75, 76, 77],       # 'food':       [52, 53, 54, 55, 56, 57, 58, 59, 60, 61],\n",
    "#   'furniture':  [62, 63, 64, 65, 67, 70],       # 'indoor':     [84, 85, 86, 87, 88, 89, 90],\n",
    "#   'kitchen':    [44, 46, 47, 48, 49, 50, 51],   # 'outdoor':    [10, 11, 13, 14, 15],\n",
    "#   'person':     [1],                            # 'sports':     [34, 35, 36, 37, 38, 39, 40, 41, 42, 43],\n",
    "#   'vehicle':    [2, 3, 4, 5, 6, 7, 8, 9]} \n",
    "## \" --coco_classes:\n",
    "##    appliance : 78 79 80 81 82                  kitchen: 44 46 47 48 49 50 51 \n",
    "##    sports    : 34 35 36 37 38 39 40 41 42 43   indoor : 10 11 13 14 15\n",
    "##------------------------------------- -----------------------------------------------------------------------\n",
    "dataset_train, train_generator = prep_coco_dataset([\"train\", 'val35k'], mrcnn_model.config, generator = True, shuffle = False,load_coco_classes=args.coco_classes, \n",
    "#                                                   loadAnns = 'all_classes'\n",
    "                                                   loadAnns='active_only')\n",
    "class_names = dataset_train.class_names"
   ]
  },
  {
   "cell_type": "markdown",
   "metadata": {},
   "source": [
    "### Shapes"
   ]
  },
  {
   "cell_type": "code",
   "execution_count": 4,
   "metadata": {
    "ExecuteTime": {
     "end_time": "2019-01-29T19:37:21.299045Z",
     "start_time": "2019-01-29T19:37:20.735711Z"
    }
   },
   "outputs": [],
   "source": [
    "# del dataset_train, dataset_val, train_generator, val_generator\n",
    "# dataset_test , test_generator   = prep_newshape_dataset( mrcnn_model.config,  1000, generator=True)\n",
    "# with open('newshapes_dataset_1000_B.pkl', 'wb') as outfile:\n",
    "#     pickle.dump(dataset_test, outfile)\n",
    "## -- OR --\n",
    "\n",
    "# with open(\"E:\\\\git_projs\\\\MRCNN3\\\\train_newshapes\\\\newshapes_test_dataset_1000.pkl\", 'rb') as infile:\n",
    "with open(\"E:\\\\git_projs\\\\MRCNN3\\\\train_newshapes\\\\newshapes_training_dataset_10000_A.pkl\", 'rb') as infile:\n",
    "    dataset_train = pickle.load(infile)"
   ]
  },
  {
   "cell_type": "code",
   "execution_count": 13,
   "metadata": {
    "ExecuteTime": {
     "end_time": "2019-01-29T19:40:29.254152Z",
     "start_time": "2019-01-29T19:40:28.982766Z"
    },
    "scrolled": true
   },
   "outputs": [
    {
     "name": "stdout",
     "output_type": "stream",
     "text": [
      "[1, 2, 3, 4, 5, 6]\n",
      "internal_class:  1 ext_cls: 1 name: None - person\n",
      "internal_class:  2 ext_cls: 2 name: None - car\n",
      "internal_class:  3 ext_cls: 3 name: None - sun\n",
      "internal_class:  4 ext_cls: 4 name: None - building\n",
      "internal_class:  5 ext_cls: 5 name: None - tree\n",
      "internal_class:  6 ext_cls: 6 name: None - cloud\n",
      "Testing Dataset Image Count: 10000\n",
      "Testing Dataset Class Count: 7\n",
      "10000\n"
     ]
    }
   ],
   "source": [
    "dataset_train.display_active_class_info()\n",
    "print(\"Testing Dataset Image Count: {}\".format(len(dataset_train.image_ids)))\n",
    "print(\"Testing Dataset Class Count: {}\".format(dataset_train.num_classes))\n",
    "print(len(dataset_train.image_ids))    \n",
    "class_names = dataset_train.class_names"
   ]
  },
  {
   "cell_type": "code",
   "execution_count": null,
   "metadata": {
    "ExecuteTime": {
     "end_time": "2018-12-07T12:11:13.664066Z",
     "start_time": "2018-12-07T12:11:13.324828Z"
    },
    "scrolled": true
   },
   "outputs": [],
   "source": [
    "# pp.pprint(dataset_train.category_to_class_map)\n",
    "# pp.pprint(dataset_train.category_to_external_class_map)\n",
    "# print(' dataset_train.source_objs:   ',dataset_train.source_objs)\n",
    "# print(dataset_train.image_info[0].keys())\n",
    "# for i in range(10):\n",
    "#     p = dataset_train.image_info[i]\n",
    "#     print(i,p['id'], p['source'], p['path'])\n",
    "# pp.pprint(dataset_train.ext_to_int_id)\n",
    "# pp.pprint(dataset_train.int_to_ext_id)\n",
    "# for i, info in enumerate(dataset_test.class_info):\n",
    "#     print(\"{:3}. {:50}\".format(i, info['name']))"
   ]
  },
  {
   "cell_type": "markdown",
   "metadata": {},
   "source": [
    "## Display Images"
   ]
  },
  {
   "cell_type": "markdown",
   "metadata": {},
   "source": [
    "###  Display some images from dataset"
   ]
  },
  {
   "cell_type": "code",
   "execution_count": 5,
   "metadata": {
    "ExecuteTime": {
     "end_time": "2019-01-29T19:37:50.766015Z",
     "start_time": "2019-01-29T19:37:46.580293Z"
    }
   },
   "outputs": [
    {
     "data": {
      "image/png": "[encoded data removed]",
      "text/plain": [
       "<Figure size 1728x1296 with 40 Axes>"
      ]
     },
     "metadata": {},
     "output_type": "display_data"
    }
   ],
   "source": [
    "image_list = list(range(0,40))\n",
    "image_titles = [str(i) for i in image_list]\n",
    "images = get_image_batch(dataset_train, image_list)\n",
    "visualize.display_images(images, titles = image_titles, cols = 8, width = 24)"
   ]
  },
  {
   "cell_type": "markdown",
   "metadata": {
    "heading_collapsed": true
   },
   "source": [
    "### Load a specific image using image_id -Display image with Ground Truth bounding boxes and masks"
   ]
  },
  {
   "cell_type": "code",
   "execution_count": null,
   "metadata": {
    "ExecuteTime": {
     "end_time": "2019-01-22T17:08:05.644518Z",
     "start_time": "2019-01-22T17:08:04.505391Z"
    },
    "hidden": true,
    "hideCode": false,
    "hidePrompt": false,
    "scrolled": true
   },
   "outputs": [],
   "source": [
    "# IMAGE_LIST = [62642] (persons),   \n",
    "# IMAGE_LIST = [68539] (trucks) \n",
    "# IMAGE_LIST = [36466] (surfers)  \n",
    "# IMAGE_LIST = [75040] (boat and persons)\n",
    "# IMAGE_LIST = [36466] surfers. 5498 basketbal players, 27711,30531\n",
    "# IMAGE_LIST = [5498] lots of motorcylces & persons - \n",
    "# IMAGE_LIST = [26026, #7719, 111864, 58240]  ## persons\n",
    "# IMAGE_LIST = [35347] - laptops, keyboards and cat\n",
    "# IMAGE_LIST = [59199 , 102868]\n",
    "# IMAGE_LIST = [89243] : Person, bicylce and traiffic lights\n",
    "# IMAGE_LIST = [101623] (cake and forks), 41423 (elephant & people)\n",
    "# IMAGE_LIST = [33477] Table, bowl, cup, sandwich, knife\n",
    "# IMAGE_LIST = [26763] Table, chair, cup , bowl, bottle\n",
    "# IMAGE_LIST = [49316] Table, book, backpack, many bottles\n",
    "# IMAGE_LIST = [12902] Car , truck and traffic light tree\n",
    "# IMAGE_LIST = [57327] person and horses\n",
    "# IMAGE_LIST = [26026] -- mountain, skiers, skiboards \n",
    "# IMAGE_LIST = [7719] -- people, bottles, handbags\n",
    "# IMAGE_LIST = [27711] -- persons and boats\n",
    "# IMAGE_LIST = [18045] -- person     \n",
    "# IMAGE_LIST = [36769] -- people in meeting room with a 'giraffe'detection?\n",
    "# IMAGE_LIST = [8634] -- person\n",
    "# IMAGE_LIST = [30531] -- tennis players \n",
    "# IMAGE_LIST = [8645] -- two people\n",
    "# IMAGE_LIST = [75040] \n",
    "# IMAGE_LIST = [89243]\n",
    "# IMAGE_LIST = [33477]\n",
    "# IMAGE_LIST = [29731]   ## max overlap 0.65\n",
    "# IMAGE_LIST = [26763]\n",
    "# IMAGE_LIST = [89243]  ## 89243: Person, bicylce and traiffic lights\n",
    "# IMAGE_LIST = [43168]   ## 43168 Multiple umbrella, chairs, beds\n",
    "# IMAGE_LIST = [30531]\n",
    "# IMAGE_LIST = [11]\n",
    "# IMAGE_LIST = [30533]\n",
    "# train_batch_x = get_evaluate_batch(dataset_train, mrcnn_model.config, generator = train_generator )\n",
    "\n",
    "## ## high overlaps:   33491, 33498, 33499,\n",
    "# train_batch_x = get_evaluate_batch(dataset_train, mrcnn_model.config, image_ids = 33499)\n",
    "train_batch_x = get_evaluate_batch(dataset_train, mrcnn_model.config, image_ids = 800)\n",
    "\n",
    "# train_batch_x, _ =  data_gen_simulate(dataset_train, mrcnn_model.config, IMAGE_LIST)\n",
    "# visualize.display_training_batch(dataset_train, train_batch_x)\n",
    "# dataset_train.display_annotation_info(IMAGE_LIST)\n",
    " "
   ]
  },
  {
   "cell_type": "markdown",
   "metadata": {
    "heading_collapsed": true
   },
   "source": [
    "###  Other display image methods"
   ]
  },
  {
   "cell_type": "markdown",
   "metadata": {
    "heading_collapsed": true,
    "hidden": true
   },
   "source": [
    "#### `get_evaluate_batch()`"
   ]
  },
  {
   "cell_type": "code",
   "execution_count": null,
   "metadata": {
    "ExecuteTime": {
     "end_time": "2018-12-15T11:52:27.289235Z",
     "start_time": "2018-12-15T11:52:26.952980Z"
    },
    "hidden": true,
    "scrolled": false
   },
   "outputs": [],
   "source": [
    "# print(train_batch_x[0].shape)\n",
    "# visualize.display_image(utils.unmold_image(batch_x[0][0], mrcnn_model.config))\n",
    "# train_batch_x = get_evaluate_batch(dataset_train, mrcnn_model.config, generator = train_generator)\n",
    "# print(len(train_batch_x))\n",
    "# for i in train_batch_x[0]:\n",
    "#     print('image shape:', i.shape)\n",
    "# for i in train_batch_x[1:]:\n",
    "#     print(i.shape)\n",
    "# # gt_boxes = train_batch_x[4][0]\n",
    "# gt_class_ids = train_batch_x[3][0]\n",
    "# print('gt_class_ids: \\n', gt_class_ids)\n",
    "# # visualize.display_instances(train_batch_x[1][0], gt_boxes, gt_class_ids, class_names = class_names)\n",
    "# visualize.display_training_batch(dataset_train, train_batch_x[1:])"
   ]
  },
  {
   "cell_type": "markdown",
   "metadata": {
    "heading_collapsed": true,
    "hidden": true
   },
   "source": [
    "#### Load using next(generator)"
   ]
  },
  {
   "cell_type": "code",
   "execution_count": null,
   "metadata": {
    "ExecuteTime": {
     "end_time": "2018-12-06T13:05:59.997041Z",
     "start_time": "2018-12-06T13:05:57.591340Z"
    },
    "hidden": true,
    "hideCode": false,
    "hideOutput": true,
    "hidePrompt": false
   },
   "outputs": [],
   "source": [
    "train_batch_x, _ = next(train_generator)\n",
    "display_training_batch(dataset_train, train_batch_x)\n",
    "# dataset_train.display_annotation_info(0)"
   ]
  },
  {
   "cell_type": "markdown",
   "metadata": {
    "heading_collapsed": true,
    "hidden": true,
    "hideCode": false,
    "hidePrompt": false
   },
   "source": [
    "#### Display top masks for sample images"
   ]
  },
  {
   "cell_type": "code",
   "execution_count": null,
   "metadata": {
    "ExecuteTime": {
     "end_time": "2018-11-09T13:53:45.156802Z",
     "start_time": "2018-11-09T13:53:38.820272Z"
    },
    "hidden": true,
    "hideCode": false,
    "hidePrompt": false
   },
   "outputs": [],
   "source": [
    "# Load and display random samples\n",
    "image_ids = np.random.choice(dataset_test.image_ids, 7)\n",
    "for image_id in image_ids:\n",
    "    image = dataset_test.load_image(image_id)\n",
    "    mask, class_ids = dataset_test.load_mask(image_id)\n",
    "    visualize.display_top_masks(image, mask, class_ids, dataset_test.class_names)"
   ]
  },
  {
   "cell_type": "markdown",
   "metadata": {
    "heading_collapsed": true,
    "hidden": true,
    "hideCode": false,
    "hidePrompt": false
   },
   "source": [
    "####  Dispaly a random image from dataset_test"
   ]
  },
  {
   "cell_type": "code",
   "execution_count": null,
   "metadata": {
    "ExecuteTime": {
     "end_time": "2018-11-09T13:53:46.000299Z",
     "start_time": "2018-11-09T13:53:45.159806Z"
    },
    "hidden": true,
    "hideCode": true,
    "hidePrompt": true
   },
   "outputs": [],
   "source": [
    "# Load random image and mask. ### 27711 persons and boats\n",
    "image_id = np.random.choice(dataset_test.image_ids)\n",
    "image    = dataset_test.load_image(image_id)\n",
    "mask, class_ids = dataset_test.load_mask(image_id)\n",
    "# Compute Bounding box\n",
    "bbox = utils.extract_bboxes(mask)\n",
    "\n",
    "# Display image and additional stats\n",
    "print(\"image_id \", image_id, dataset_test.image_reference(image_id))\n",
    "log(\"image\", image)\n",
    "log(\"mask\", mask)\n",
    "log(\"class_ids\", class_ids)\n",
    "log(\"bbox\", bbox)\n",
    "print(class_ids.shape[0], bbox.shape[0])\n",
    "# Display image and instances\n",
    "# visualize.display_instances_with_mask(image, bbox, mask, class_ids, dataset_train.class_names)\n",
    "visualize.display_instances(image, bbox, class_ids, dataset_test.class_names)"
   ]
  },
  {
   "cell_type": "markdown",
   "metadata": {
    "heading_collapsed": true,
    "hidden": true,
    "hideCode": false,
    "hidePrompt": false
   },
   "source": [
    "#### Get next image from generator and display "
   ]
  },
  {
   "cell_type": "code",
   "execution_count": null,
   "metadata": {
    "ExecuteTime": {
     "end_time": "2018-09-17T14:14:04.163868Z",
     "start_time": "2018-09-17T14:14:03.604662Z"
    },
    "hidden": true,
    "hideCode": false,
    "hidePrompt": false
   },
   "outputs": [],
   "source": [
    "bbox_ixs = np.arange(20,26)\n",
    "print(bbox_ixs)\n",
    "# print(r['scores'][bbox_ixs])\n",
    "visualize.display_instances(image, r['rois'][bbox_ixs], r['class_ids'][bbox_ixs], \n",
    "                            dataset_test.class_names, r['scores'][bbox_ixs], ax=visualize.get_ax(size=12))"
   ]
  },
  {
   "cell_type": "markdown",
   "metadata": {
    "hideCode": false,
    "hidePrompt": false
   },
   "source": [
    "## Push Data thru model using get_layer_output()"
   ]
  },
  {
   "cell_type": "markdown",
   "metadata": {},
   "source": [
    "###  Eval on a single image "
   ]
  },
  {
   "cell_type": "code",
   "execution_count": 6,
   "metadata": {
    "ExecuteTime": {
     "end_time": "2019-01-29T19:38:16.382204Z",
     "start_time": "2019-01-29T19:38:12.463267Z"
    }
   },
   "outputs": [
    {
     "name": "stdout",
     "output_type": "stream",
     "text": [
      "image id :  2\n",
      " Image_id    :  2  Reference:  [('sun', (139, 30, 119), (11, 19, 8, 8)), ('building', (41, 92, 130), (31, 51, 12, 14)), ('car', (170, 43, 151), (87, 90, 24, 12))] Coco Id: 2\n",
      " Image meta  :  [  2 128 128   3   0   0 128 128]\n",
      " Class ids   :  (3,)    [3 4 2]\n",
      " Class Names :  ['sun', 'building', 'car']\n"
     ]
    },
    {
     "data": {
      "image/png": "[encoded data removed]",
      "text/plain": [
       "<Figure size 576x576 with 1 Axes>"
      ]
     },
     "metadata": {},
     "output_type": "display_data"
    },
    {
     "name": "stdout",
     "output_type": "stream",
     "text": [
      "change mrcnn_model.config.VERBOSE from  1  to  0\n",
      "complete\n"
     ]
    }
   ],
   "source": [
    "## high overlaps:   33491, 33498, 33499,\n",
    "# train_batch_x = get_evaluate_batch(dataset_train, mrcnn_model.config, image_ids = 33492)    \n",
    "train_batch_x = get_evaluate_batch(dataset_train, mrcnn_model.config, image_ids = 2)    \n",
    "results= run_mrcnn_evaluate_pipeline(mrcnn_model, dataset_train, train_batch_x, verbose = 0)\n",
    "print('complete')"
   ]
  },
  {
   "cell_type": "markdown",
   "metadata": {
    "heading_collapsed": true
   },
   "source": [
    "###  Run evaluation on multiple images"
   ]
  },
  {
   "cell_type": "code",
   "execution_count": null,
   "metadata": {
    "ExecuteTime": {
     "end_time": "2018-12-19T15:33:29.300085Z",
     "start_time": "2018-12-19T15:30:11.144842Z"
    },
    "hidden": true,
    "hideCode": false,
    "hidePrompt": true,
    "scrolled": true
   },
   "outputs": [],
   "source": [
    "# from mrcnn.prep_notebook import build_mrcnn_evaluate_pipeline, run_mrcnn_evaluate_pipeline, get_evaluate_batch\n",
    "## high overlaps:   33491, 33498, 33499, 481\n",
    "# for i in range(33480, 33483):   ## [33477]:   ## range(10):\n",
    "for i in range(485, 500):   ## [33477]:   ## range(10):\n",
    "    print('image id:', i)\n",
    "#     train_batch_x = get_evaluate_batch(dataset_train, mrcnn_model.config, image_ids = i)    \n",
    "#     results= run_mrcnn_evaluate_pipeline(mrcnn_model, dataset_train, train_batch_x, verbose = 0)\n",
    "    results= run_mrcnn_evaluate_pipeline(mrcnn_model, dataset_train, image_ids= i, verbose = 0)\n",
    "print('complete')"
   ]
  },
  {
   "cell_type": "markdown",
   "metadata": {},
   "source": [
    "### Load output from pipeline into variables"
   ]
  },
  {
   "cell_type": "code",
   "execution_count": 9,
   "metadata": {
    "ExecuteTime": {
     "end_time": "2019-01-29T19:39:20.951930Z",
     "start_time": "2019-01-29T19:39:20.648339Z"
    },
    "hideCode": false,
    "hidePrompt": true
   },
   "outputs": [
    {
     "name": "stdout",
     "output_type": "stream",
     "text": [
      "len of results[mrcnn_output]:  6\n",
      "mrcnn_inputs\n",
      "(1, 128, 128, 3)\n",
      "(1, 15)\n",
      "(1, 100)\n",
      "(1, 100, 4)\n",
      "mrcnn_output\n",
      "(1, 64, 7)\n",
      "(1, 1000, 4)\n",
      "(1, 1000, 7)\n",
      "(1, 1000, 7, 4)\n",
      "(1, 128, 128, 7)\n",
      "(1, 7, 64, 24)\n",
      " Input image_meta        : [  2 128 128   3   0   0 128 128   1   1]\n",
      "[[3 4 2 0 0 0 0 0 0 0 0 0 0 0 0 0 0 0 0 0 0 0 0 0 0 0 0 0 0 0 0 0 0 0 0 0 0 0 0 0 0 0 0 0 0 0 0 0\n",
      "  0 0 0 0 0 0 0 0 0 0 0 0 0 0 0 0 0 0 0 0 0 0 0 0 0 0 0 0 0 0 0 0 0 0 0 0 0 0 0 0 0 0 0 0 0 0 0 0\n",
      "  0 0 0 0]]\n"
     ]
    }
   ],
   "source": [
    "print('len of results[mrcnn_output]: ',len(results['mrcnn_output']))\n",
    "# del mrcnn_detection, rpn_roi_proposals, mrcnn_class, mrcnn_bbox\n",
    "model_mrcnn_detection    = results['mrcnn_output'][0]          # layer:  0   shape: (1, 100, 6)\n",
    "model_rpn_roi_proposals  = results['mrcnn_output'][1]          # layer:  1   shape: (1, 1000, 4)\n",
    "model_mrcnn_class        = results['mrcnn_output'][2]          # layer:  2   shape: (1, 1000, 81)\n",
    "model_mrcnn_bbox         = results['mrcnn_output'][3]          # layer:  3   shape: (1, 1000, 81, 4)\n",
    "model_pr_hm              = results['mrcnn_output'][4]          # layer:  4   shape: (1, 256, 256, 81)\n",
    "model_pr_hm_scores       = results['mrcnn_output'][5]          # layer:  5   shape: (1, 81, 100, 11)\n",
    "\n",
    "# del input_image, input_image_meta, input_gt_class_ids, input_gt_bboxes #, input_gt_bboxes_norm\n",
    "input_image              =  results['mrcnn_input'][0]\n",
    "input_image_meta         =  results['mrcnn_input'][1]\n",
    "input_gt_class_ids       =  results['mrcnn_input'][2]\n",
    "input_gt_bboxes          =  results['mrcnn_input'][3]\n",
    "\n",
    "print('mrcnn_inputs')    \n",
    "for i in results['mrcnn_input']:    \n",
    "    print( i.shape)\n",
    "print('mrcnn_output')\n",
    "for i in results['mrcnn_output']:\n",
    "    print( i.shape)\n",
    "print(' Input image_meta        :', input_image_meta[0,:10])\n",
    "print(input_gt_class_ids)"
   ]
  },
  {
   "cell_type": "markdown",
   "metadata": {},
   "source": [
    "#### What is returned from run_evaluate_pipeline"
   ]
  },
  {
   "cell_type": "code",
   "execution_count": 8,
   "metadata": {
    "ExecuteTime": {
     "end_time": "2019-01-29T19:39:00.594610Z",
     "start_time": "2019-01-29T19:39:00.266904Z"
    }
   },
   "outputs": [
    {
     "name": "stdout",
     "output_type": "stream",
     "text": [
      "dict_keys(['image_batch', 'mrcnn_output', 'mrcnn_input'])\n",
      "image_batch <class 'list'>\n",
      "mrcnn_output <class 'list'>\n",
      "mrcnn_input <class 'list'>\n",
      "mrcnn_input\n",
      "(1, 128, 128, 3)\n",
      "(1, 15)\n",
      "(1, 100)\n",
      "(1, 100, 4)\n",
      "mrcnn_output\n",
      "(1, 64, 7)\n",
      "(1, 1000, 4)\n",
      "(1, 1000, 7)\n",
      "(1, 1000, 7, 4)\n",
      "(1, 128, 128, 7)\n",
      "(1, 7, 64, 24)\n"
     ]
    }
   ],
   "source": [
    "print(results.keys())\n",
    "for i in results.keys():\n",
    "    print(i, type(results[i]))\n",
    "# print('image_batch')\n",
    "# print(results['image_batch'].shape)\n",
    "print('mrcnn_input')\n",
    "for i in results['mrcnn_input']:\n",
    "    print(i.shape)\n",
    "print('mrcnn_output')\n",
    "for i in results['mrcnn_output']:\n",
    "    print(i.shape)    "
   ]
  },
  {
   "cell_type": "markdown",
   "metadata": {
    "hideCode": true,
    "hidePrompt": true
   },
   "source": [
    "#### display outputs"
   ]
  },
  {
   "cell_type": "code",
   "execution_count": 13,
   "metadata": {
    "ExecuteTime": {
     "end_time": "2019-01-24T14:40:38.057958Z",
     "start_time": "2019-01-24T14:40:37.717717Z"
    }
   },
   "outputs": [],
   "source": [
    "float_formatter = lambda x: \"%10.4f\" % x\n",
    "np_format = {}\n",
    "np_format['float']=float_formatter\n",
    "np.set_printoptions(linewidth=195, precision=4, floatmode='fixed', threshold =10000, formatter = np_format)\n"
   ]
  },
  {
   "cell_type": "code",
   "execution_count": null,
   "metadata": {
    "ExecuteTime": {
     "end_time": "2019-01-22T17:09:50.263554Z",
     "start_time": "2019-01-22T17:09:49.970471Z"
    },
    "hideCode": false,
    "hidePrompt": true,
    "scrolled": false
   },
   "outputs": [],
   "source": [
    "print(model_mrcnn_detection.shape)\n",
    "print(model_mrcnn_detection[0,:100])\n",
    "cls_ix = np.where(model_mrcnn_detection[0,:,4]==1)\n",
    "print(cls_ix)\n",
    "print(model_mrcnn_detection[0,cls_ix])\n",
    "# print('mrcnn_class shape:', mrcnn_class.shape)\n",
    "# print('mrcnn_bbox shape :', mrcnn_bbox.shape)\n",
    "pr_class_ids = np.unique(model_pr_hm_scores[0,:,:,4]).astype(int).tolist()\n",
    "print('pr_class_ids', pr_class_ids)\n",
    "print(model_pr_hm_scores[0, 1, :200,:12])\n",
    "# print(input_gt_boxes.shape, input_image.shape)\n",
    "# print('output_rois',model_rpn_roi_proposals.shape, 'deltas ', model_mrcnn_bbox.shape, 'class_ids ', model_mrcnn_class.shape)\n",
    "# print(model_rpn_roi_proposals[0,:20])\n",
    "# print(model_rpn_roi_proposals[0,:20]*[h,w,h,w])\n",
    "# print(input_gt_class_ids)\n",
    "# print(input_normlzd_gt_bboxes)\n",
    "# print(input_gt_bboxes_norm.shape)\n",
    "# print(rpn_roi_proposals.shape)"
   ]
  },
  {
   "cell_type": "code",
   "execution_count": 14,
   "metadata": {
    "ExecuteTime": {
     "end_time": "2019-01-24T14:40:41.035072Z",
     "start_time": "2019-01-24T14:40:40.700835Z"
    }
   },
   "outputs": [
    {
     "name": "stdout",
     "output_type": "stream",
     "text": [
      "[[  104.0000    92.0000   117.0000   109.0000     3.0000     0.9902    -1.0000]\n",
      " [   11.0000    19.0000    24.0000    36.0000     3.0000     0.9898     1.0000]\n",
      " [   22.0000    11.0000    39.0000    82.0000     6.0000     0.9831     1.0000]\n",
      " [   89.0000    46.0000   106.0000   117.0000     6.0000     0.9820    -1.0000]\n",
      " [   45.0000    98.0000    63.0000   116.0000     5.0000     0.9749     1.0000]\n",
      " [   65.0000    12.0000    83.0000    30.0000     5.0000     0.9741    -1.0000]\n",
      " [   37.0000    26.0000    66.0000    51.0000     4.0000     0.9585     1.0000]\n",
      " [   62.0000    77.0000    91.0000   102.0000     4.0000     0.9580    -1.0000]\n",
      " [   50.0000    30.0000    64.0000    65.0000     2.0000     0.9484    -1.0000]\n",
      " [   78.0000    25.0000    99.0000    74.0000     2.0000     0.9477     1.0000]\n",
      " [   64.0000    63.0000    78.0000    98.0000     2.0000     0.9471     1.0000]\n",
      " [   29.0000    54.0000    50.0000   103.0000     2.0000     0.9469    -1.0000]\n",
      " [   60.0000    26.0000    84.0000    31.0000     1.0000     0.9364     1.0000]\n",
      " [   50.0000    78.0000    66.0000    83.0000     1.0000     0.9361    -1.0000]\n",
      " [   44.0000    97.0000    68.0000   102.0000     1.0000     0.9361    -1.0000]\n",
      " [   62.0000    45.0000    78.0000    50.0000     1.0000     0.9359     1.0000]\n",
      " [    0.0000     0.0000     0.0000     0.0000     0.0000     0.0000     0.0000]\n",
      " [    0.0000     0.0000     0.0000     0.0000     0.0000     0.0000     0.0000]\n",
      " [    0.0000     0.0000     0.0000     0.0000     0.0000     0.0000     0.0000]\n",
      " [    0.0000     0.0000     0.0000     0.0000     0.0000     0.0000     0.0000]]\n"
     ]
    }
   ],
   "source": [
    "print(model_mrcnn_detection[0,:20])"
   ]
  },
  {
   "cell_type": "code",
   "execution_count": 18,
   "metadata": {
    "ExecuteTime": {
     "end_time": "2019-01-24T14:41:32.397543Z",
     "start_time": "2019-01-24T14:41:32.077316Z"
    },
    "scrolled": true
   },
   "outputs": [
    {
     "name": "stdout",
     "output_type": "stream",
     "text": [
      "[[   11.0000    19.0000    24.0000    36.0000     3.0000     0.9907     1.0000]\n",
      " [  104.0000    92.0000   117.0000   109.0000     3.0000     0.9893    -1.0000]\n",
      " [   89.0000    46.0000   106.0000   117.0000     6.0000     0.9832    -1.0000]\n",
      " [   22.0000    11.0000    39.0000    82.0000     6.0000     0.9824     1.0000]\n",
      " [   65.0000    12.0000    83.0000    30.0000     5.0000     0.9758    -1.0000]\n",
      " [   45.0000    98.0000    63.0000   116.0000     5.0000     0.9758     1.0000]\n",
      " [   62.0000    77.0000    91.0000   102.0000     4.0000     0.9587    -1.0000]\n",
      " [   37.0000    26.0000    66.0000    51.0000     4.0000     0.9575     1.0000]\n",
      " [   29.0000    54.0000    50.0000   103.0000     2.0000     0.9477    -1.0000]\n",
      " [   50.0000    30.0000    64.0000    65.0000     2.0000     0.9475    -1.0000]\n",
      " [   64.0000    63.0000    78.0000    98.0000     2.0000     0.9472     1.0000]\n",
      " [   78.0000    25.0000    99.0000    74.0000     2.0000     0.9470     1.0000]\n",
      " [   50.0000    78.0000    66.0000    83.0000     1.0000     0.9367    -1.0000]\n",
      " [   44.0000    97.0000    68.0000   102.0000     1.0000     0.9362    -1.0000]\n",
      " [   62.0000    45.0000    78.0000    50.0000     1.0000     0.9354     1.0000]\n",
      " [   60.0000    26.0000    84.0000    31.0000     1.0000     0.9354     1.0000]\n",
      " [    0.0000     0.0000     0.0000     0.0000     0.0000     0.0000     0.0000]\n",
      " [    0.0000     0.0000     0.0000     0.0000     0.0000     0.0000     0.0000]\n",
      " [    0.0000     0.0000     0.0000     0.0000     0.0000     0.0000     0.0000]\n",
      " [    0.0000     0.0000     0.0000     0.0000     0.0000     0.0000     0.0000]]\n"
     ]
    }
   ],
   "source": [
    "print(model_mrcnn_detection[0,:20])"
   ]
  },
  {
   "cell_type": "code",
   "execution_count": null,
   "metadata": {},
   "outputs": [],
   "source": [
    "GT boxes + fp_boxes with noise - After Sort (Final): (8, 7)\n",
    "---------------------------------------------------------------------------\n",
    "[[441.     846.     464.     869.      33.       0.7543   1.    ]\n",
    " [560.     155.     583.     178.      33.       0.7541  -1.    ]\n",
    " [478.     245.     560.     383.      35.       0.7207  -1.    ]\n",
    " [464.     641.     546.     779.      35.       0.7204   1.    ]\n",
    " [556.     293.     624.     366.      36.       0.6537   1.    ]\n",
    " [413.     571.     488.     653.      36.       0.6528   1.    ]\n",
    " [400.     658.     468.     731.      36.       0.6527  -1.    ]\n",
    " [536.     371.     611.     453.      36.       0.6526  -1.    ]]"
   ]
  },
  {
   "cell_type": "markdown",
   "metadata": {
    "heading_collapsed": true
   },
   "source": [
    "##  run `evaluation_detection_2` over a number of images "
   ]
  },
  {
   "cell_type": "code",
   "execution_count": 29,
   "metadata": {
    "ExecuteTime": {
     "end_time": "2019-01-24T14:46:27.630481Z",
     "start_time": "2019-01-24T14:46:27.142134Z"
    },
    "hidden": true,
    "scrolled": false
   },
   "outputs": [
    {
     "name": "stdout",
     "output_type": "stream",
     "text": [
      "\n",
      "-------------------\n",
      "| Image Id:     0 |\n",
      "-------------------\n",
      "\n",
      " --------------------------------------------------------------------------------------\n",
      " class id :   1\n",
      " --------------------------------------------------------------------------------------\n",
      "  GT boxes :   2     q3 count/score:   1 / 0.9995  q1_count/score:   1 / 0.9720 \n",
      "\n",
      "  TP Boxes: \t box \t\t\t orig_score \t noise \t\t new_score\n",
      "  --------------------------------------------------------------------------------\n",
      "  0  \t [  60   26   84   31] \t\t [    0.9995] \t [   -0.0007] \t [    0.9988]\n",
      "  1  \t [  62   45   78   50] \t\t [    0.9720] \t [   -0.0001] \t [    0.9719]\n",
      "\n",
      "  FP Boxes: \t box \t\t\t orig_score \t noise \t\t new_score\n",
      "  --------------------------------------------------------------------------------\n",
      "  0  \t [  44   97   68  102] \t\t [    0.9995] \t [   -0.0009] \t [    0.9986]\n",
      "  1  \t [  50   78   66   83] \t\t [    0.9720] \t [    0.0007] \t [    0.9727]\n",
      "\n",
      " --------------------------------------------------------------------------------------\n",
      " class id :   2\n",
      " --------------------------------------------------------------------------------------\n",
      "  GT boxes :   2     q3 count/score:   1 / 0.9999  q1_count/score:   1 / 0.9984 \n",
      "\n",
      "  TP Boxes: \t box \t\t\t orig_score \t noise \t\t new_score\n",
      "  --------------------------------------------------------------------------------\n",
      "  0  \t [  64   63   78   98] \t\t [    0.9999] \t [   -0.0005] \t [    0.9994]\n",
      "  1  \t [  78   25   99   74] \t\t [    0.9984] \t [    0.0009] \t [    0.9993]\n",
      "\n",
      "  FP Boxes: \t box \t\t\t orig_score \t noise \t\t new_score\n",
      "  --------------------------------------------------------------------------------\n",
      "  0  \t [  50   30   64   65] \t\t [    0.9999] \t [    0.0008] \t [    1.0000]\n",
      "  1  \t [  29   54   50  103] \t\t [    0.9984] \t [   -0.0005] \t [    0.9979]\n",
      "\n",
      " --------------------------------------------------------------------------------------\n",
      " class id :   3\n",
      " --------------------------------------------------------------------------------------\n",
      "  GT boxes :   1     q3 count/score:   1 / 0.9998  q1_count/score:   0 / 0.9992 \n",
      "\n",
      "  TP Boxes: \t box \t\t\t orig_score \t noise \t\t new_score\n",
      "  --------------------------------------------------------------------------------\n",
      "  0  \t [  11   19   24   36] \t\t [    0.9998] \t [   -0.0002] \t [    0.9996]\n",
      "\n",
      "  FP Boxes: \t box \t\t\t orig_score \t noise \t\t new_score\n",
      "  --------------------------------------------------------------------------------\n",
      "  0  \t [ 104   92  117  109] \t\t [    0.9998] \t [   -0.0001] \t [    0.9997]\n",
      "\n",
      " --------------------------------------------------------------------------------------\n",
      " class id :   4\n",
      " --------------------------------------------------------------------------------------\n",
      "  GT boxes :   1     q3 count/score:   1 / 1.0000  q1_count/score:   0 / 0.9984 \n",
      "\n",
      "  TP Boxes: \t box \t\t\t orig_score \t noise \t\t new_score\n",
      "  --------------------------------------------------------------------------------\n",
      "  0  \t [  37   26   66   51] \t\t [    1.0000] \t [   -0.0007] \t [    0.9993]\n",
      "\n",
      "  FP Boxes: \t box \t\t\t orig_score \t noise \t\t new_score\n",
      "  --------------------------------------------------------------------------------\n",
      "  0  \t [  62   77   91  102] \t\t [    1.0000] \t [   -0.0001] \t [    0.9999]\n",
      "\n",
      " --------------------------------------------------------------------------------------\n",
      " class id :   5\n",
      " --------------------------------------------------------------------------------------\n",
      "  GT boxes :   1     q3 count/score:   1 / 0.9998  q1_count/score:   0 / 0.9969 \n",
      "\n",
      "  TP Boxes: \t box \t\t\t orig_score \t noise \t\t new_score\n",
      "  --------------------------------------------------------------------------------\n",
      "  0  \t [  45   98   63  116] \t\t [    0.9998] \t [   -0.0010] \t [    0.9988]\n",
      "\n",
      "  FP Boxes: \t box \t\t\t orig_score \t noise \t\t new_score\n",
      "  --------------------------------------------------------------------------------\n",
      "  0  \t [  65   12   83   30] \t\t [    0.9998] \t [   -0.0000] \t [    0.9998]\n",
      "\n",
      " --------------------------------------------------------------------------------------\n",
      " class id :   6\n",
      " --------------------------------------------------------------------------------------\n",
      "  GT boxes :   1     q3 count/score:   1 / 0.9998  q1_count/score:   0 / 0.9972 \n",
      "\n",
      "  TP Boxes: \t box \t\t\t orig_score \t noise \t\t new_score\n",
      "  --------------------------------------------------------------------------------\n",
      "  0  \t [  22   11   39   82] \t\t [    0.9998] \t [   -0.0007] \t [    0.9991]\n",
      "\n",
      "  FP Boxes: \t box \t\t\t orig_score \t noise \t\t new_score\n",
      "  --------------------------------------------------------------------------------\n",
      "  0  \t [  89   46  106  117] \t\t [    0.9998] \t [    0.0001] \t [    0.9999]\n",
      "\n",
      "GT boxes + fp boxes with noise, prior to sort: (16, 7)\n",
      "---------------------------------------------------------------------------\n",
      "[[   60.0000    26.0000    84.0000    31.0000     1.0000     0.9988     1.0000]\n",
      " [   62.0000    45.0000    78.0000    50.0000     1.0000     0.9719     1.0000]\n",
      " [   44.0000    97.0000    68.0000   102.0000     1.0000     0.9986    -1.0000]\n",
      " [   50.0000    78.0000    66.0000    83.0000     1.0000     0.9727    -1.0000]\n",
      " [   64.0000    63.0000    78.0000    98.0000     2.0000     0.9994     1.0000]\n",
      " [   78.0000    25.0000    99.0000    74.0000     2.0000     0.9993     1.0000]\n",
      " [   50.0000    30.0000    64.0000    65.0000     2.0000     1.0000    -1.0000]\n",
      " [   29.0000    54.0000    50.0000   103.0000     2.0000     0.9979    -1.0000]\n",
      " [   11.0000    19.0000    24.0000    36.0000     3.0000     0.9996     1.0000]\n",
      " [  104.0000    92.0000   117.0000   109.0000     3.0000     0.9997    -1.0000]\n",
      " [   37.0000    26.0000    66.0000    51.0000     4.0000     0.9993     1.0000]\n",
      " [   62.0000    77.0000    91.0000   102.0000     4.0000     0.9999    -1.0000]\n",
      " [   45.0000    98.0000    63.0000   116.0000     5.0000     0.9988     1.0000]\n",
      " [   65.0000    12.0000    83.0000    30.0000     5.0000     0.9998    -1.0000]\n",
      " [   22.0000    11.0000    39.0000    82.0000     6.0000     0.9991     1.0000]\n",
      " [   89.0000    46.0000   106.0000   117.0000     6.0000     0.9999    -1.0000]]\n",
      "\n",
      "GT boxes + fp_boxes with noise - After Sort (Final): (16, 7)\n",
      "---------------------------------------------------------------------------\n",
      "[[   50.0000    30.0000    64.0000    65.0000     2.0000     1.0000    -1.0000]\n",
      " [   89.0000    46.0000   106.0000   117.0000     6.0000     0.9999    -1.0000]\n",
      " [   62.0000    77.0000    91.0000   102.0000     4.0000     0.9999    -1.0000]\n",
      " [   65.0000    12.0000    83.0000    30.0000     5.0000     0.9998    -1.0000]\n",
      " [  104.0000    92.0000   117.0000   109.0000     3.0000     0.9997    -1.0000]\n",
      " [   11.0000    19.0000    24.0000    36.0000     3.0000     0.9996     1.0000]\n",
      " [   64.0000    63.0000    78.0000    98.0000     2.0000     0.9994     1.0000]\n",
      " [   37.0000    26.0000    66.0000    51.0000     4.0000     0.9993     1.0000]\n",
      " [   78.0000    25.0000    99.0000    74.0000     2.0000     0.9993     1.0000]\n",
      " [   22.0000    11.0000    39.0000    82.0000     6.0000     0.9991     1.0000]\n",
      " [   45.0000    98.0000    63.0000   116.0000     5.0000     0.9988     1.0000]\n",
      " [   60.0000    26.0000    84.0000    31.0000     1.0000     0.9988     1.0000]\n",
      " [   44.0000    97.0000    68.0000   102.0000     1.0000     0.9986    -1.0000]\n",
      " [   29.0000    54.0000    50.0000   103.0000     2.0000     0.9979    -1.0000]\n",
      " [   50.0000    78.0000    66.0000    83.0000     1.0000     0.9727    -1.0000]\n",
      " [   62.0000    45.0000    78.0000    50.0000     1.0000     0.9719     1.0000]]\n",
      "\n",
      " MAX OVERLAP 0.00000\n",
      "\n",
      "-------------------\n",
      "| Image Id:     1 |\n",
      "-------------------\n",
      "\n",
      " --------------------------------------------------------------------------------------\n",
      " class id :   3\n",
      " --------------------------------------------------------------------------------------\n",
      "  GT boxes :   1     q3 count/score:   1 / 0.9998  q1_count/score:   0 / 0.9992 \n",
      "\n",
      "  TP Boxes: \t box \t\t\t orig_score \t noise \t\t new_score\n",
      "  --------------------------------------------------------------------------------\n",
      "  0  \t [   5   59   16   70] \t\t [    0.9998] \t [   -0.0010] \t [    0.9988]\n",
      "\n",
      "  FP Boxes: \t box \t\t\t orig_score \t noise \t\t new_score\n",
      "  --------------------------------------------------------------------------------\n",
      "  0  \t [ 112   58  123   69] \t\t [    0.9998] \t [   -0.0008] \t [    0.9990]\n",
      "\n",
      " --------------------------------------------------------------------------------------\n",
      " class id :   4\n",
      " --------------------------------------------------------------------------------------\n",
      "  GT boxes :   1     q3 count/score:   1 / 1.0000  q1_count/score:   0 / 0.9984 \n",
      "\n",
      "  TP Boxes: \t box \t\t\t orig_score \t noise \t\t new_score\n",
      "  --------------------------------------------------------------------------------\n",
      "  0  \t [  34   60   57   81] \t\t [    1.0000] \t [    0.0000] \t [    1.0000]\n",
      "\n",
      "  FP Boxes: \t box \t\t\t orig_score \t noise \t\t new_score\n",
      "  --------------------------------------------------------------------------------\n",
      "  0  \t [  71   47   94   68] \t\t [    1.0000] \t [    0.0003] \t [    1.0000]\n",
      "\n",
      " --------------------------------------------------------------------------------------\n",
      " class id :   6\n",
      " --------------------------------------------------------------------------------------\n",
      "  GT boxes :   1     q3 count/score:   1 / 0.9998  q1_count/score:   0 / 0.9972 \n",
      "\n",
      "  TP Boxes: \t box \t\t\t orig_score \t noise \t\t new_score\n",
      "  --------------------------------------------------------------------------------\n",
      "  0  \t [  17   62   36  117] \t\t [    0.9998] \t [   -0.0000] \t [    0.9998]\n",
      "\n",
      "  FP Boxes: \t box \t\t\t orig_score \t noise \t\t new_score\n",
      "  --------------------------------------------------------------------------------\n",
      "  0  \t [  92   11  111   66] \t\t [    0.9998] \t [    0.0003] \t [    1.0000]\n",
      "\n",
      "GT boxes + fp boxes with noise, prior to sort: (6, 7)\n",
      "---------------------------------------------------------------------------\n",
      "[[    5.0000    59.0000    16.0000    70.0000     3.0000     0.9988     1.0000]\n",
      " [  112.0000    58.0000   123.0000    69.0000     3.0000     0.9990    -1.0000]\n",
      " [   34.0000    60.0000    57.0000    81.0000     4.0000     1.0000     1.0000]\n",
      " [   71.0000    47.0000    94.0000    68.0000     4.0000     1.0000    -1.0000]\n",
      " [   17.0000    62.0000    36.0000   117.0000     6.0000     0.9998     1.0000]\n",
      " [   92.0000    11.0000   111.0000    66.0000     6.0000     1.0000    -1.0000]]\n",
      "\n",
      "GT boxes + fp_boxes with noise - After Sort (Final): (6, 7)\n",
      "---------------------------------------------------------------------------\n",
      "[[   92.0000    11.0000   111.0000    66.0000     6.0000     1.0000    -1.0000]\n",
      " [   71.0000    47.0000    94.0000    68.0000     4.0000     1.0000    -1.0000]\n",
      " [   34.0000    60.0000    57.0000    81.0000     4.0000     1.0000     1.0000]\n",
      " [   17.0000    62.0000    36.0000   117.0000     6.0000     0.9998     1.0000]\n",
      " [  112.0000    58.0000   123.0000    69.0000     3.0000     0.9990    -1.0000]\n",
      " [    5.0000    59.0000    16.0000    70.0000     3.0000     0.9988     1.0000]]\n",
      "\n",
      " MAX OVERLAP 0.00000\n",
      "\n",
      "-------------------\n",
      "| Image Id:     2 |\n",
      "-------------------\n",
      "\n",
      " --------------------------------------------------------------------------------------\n",
      " class id :   2\n",
      " --------------------------------------------------------------------------------------\n",
      "  GT boxes :   1     q3 count/score:   1 / 0.9999  q1_count/score:   0 / 0.9984 \n",
      "\n",
      "  TP Boxes: \t box \t\t\t orig_score \t noise \t\t new_score\n",
      "  --------------------------------------------------------------------------------\n",
      "  0  \t [  78   63   99  112] \t\t [    0.9999] \t [    0.0009] \t [    1.0000]\n",
      "\n",
      "  FP Boxes: \t box \t\t\t orig_score \t noise \t\t new_score\n",
      "  --------------------------------------------------------------------------------\n",
      "  0  \t [  29   16   50   65] \t\t [    0.9999] \t [   -0.0001] \t [    0.9998]\n",
      "\n",
      " --------------------------------------------------------------------------------------\n",
      " class id :   3\n",
      " --------------------------------------------------------------------------------------\n",
      "  GT boxes :   1     q3 count/score:   1 / 0.9998  q1_count/score:   0 / 0.9992 \n",
      "\n",
      "  TP Boxes: \t box \t\t\t orig_score \t noise \t\t new_score\n",
      "  --------------------------------------------------------------------------------\n",
      "  0  \t [  11    3   28   20] \t\t [    0.9998] \t [    0.0007] \t [    1.0000]\n",
      "\n",
      "  FP Boxes: \t box \t\t\t orig_score \t noise \t\t new_score\n",
      "  --------------------------------------------------------------------------------\n",
      "  0  \t [ 100  108  117  125] \t\t [    0.9998] \t [   -0.0002] \t [    0.9996]\n",
      "\n",
      " --------------------------------------------------------------------------------------\n",
      " class id :   4\n",
      " --------------------------------------------------------------------------------------\n",
      "  GT boxes :   1     q3 count/score:   1 / 1.0000  q1_count/score:   0 / 0.9984 \n",
      "\n",
      "  TP Boxes: \t box \t\t\t orig_score \t noise \t\t new_score\n",
      "  --------------------------------------------------------------------------------\n",
      "  0  \t [  37   19   66   44] \t\t [    1.0000] \t [   -0.0006] \t [    0.9994]\n",
      "\n",
      "  FP Boxes: \t box \t\t\t orig_score \t noise \t\t new_score\n",
      "  --------------------------------------------------------------------------------\n",
      "  0  \t [  62   84   91  109] \t\t [    1.0000] \t [   -0.0006] \t [    0.9994]\n",
      "\n",
      "GT boxes + fp boxes with noise, prior to sort: (6, 7)\n",
      "---------------------------------------------------------------------------\n",
      "[[   78.0000    63.0000    99.0000   112.0000     2.0000     1.0000     1.0000]\n",
      " [   29.0000    16.0000    50.0000    65.0000     2.0000     0.9998    -1.0000]\n",
      " [   11.0000     3.0000    28.0000    20.0000     3.0000     1.0000     1.0000]\n",
      " [  100.0000   108.0000   117.0000   125.0000     3.0000     0.9996    -1.0000]\n",
      " [   37.0000    19.0000    66.0000    44.0000     4.0000     0.9994     1.0000]\n",
      " [   62.0000    84.0000    91.0000   109.0000     4.0000     0.9994    -1.0000]]\n",
      "\n",
      "GT boxes + fp_boxes with noise - After Sort (Final): (6, 7)\n",
      "---------------------------------------------------------------------------\n",
      "[[   11.0000     3.0000    28.0000    20.0000     3.0000     1.0000     1.0000]\n",
      " [   78.0000    63.0000    99.0000   112.0000     2.0000     1.0000     1.0000]\n",
      " [   29.0000    16.0000    50.0000    65.0000     2.0000     0.9998    -1.0000]\n",
      " [  100.0000   108.0000   117.0000   125.0000     3.0000     0.9996    -1.0000]\n",
      " [   62.0000    84.0000    91.0000   109.0000     4.0000     0.9994    -1.0000]\n",
      " [   37.0000    19.0000    66.0000    44.0000     4.0000     0.9994     1.0000]]\n",
      "\n",
      " MAX OVERLAP 0.00000\n",
      "\n",
      "-------------------\n",
      "| Image Id:     3 |\n",
      "-------------------\n",
      "\n",
      " --------------------------------------------------------------------------------------\n",
      " class id :   1\n",
      " --------------------------------------------------------------------------------------\n",
      "  GT boxes :   1     q3 count/score:   1 / 0.9995  q1_count/score:   0 / 0.9720 \n",
      "\n",
      "  TP Boxes: \t box \t\t\t orig_score \t noise \t\t new_score\n",
      "  --------------------------------------------------------------------------------\n",
      "  0  \t [  84   46  122   53] \t\t [    0.9995] \t [    0.0003] \t [    0.9998]\n",
      "\n",
      "  FP Boxes: \t box \t\t\t orig_score \t noise \t\t new_score\n",
      "  --------------------------------------------------------------------------------\n",
      "  0  \t [   6   75   44   82] \t\t [    0.9995] \t [    0.0006] \t [    1.0000]\n",
      "\n",
      " --------------------------------------------------------------------------------------\n",
      " class id :   2\n",
      " --------------------------------------------------------------------------------------\n",
      "  GT boxes :   4     q3 count/score:   2 / 0.9999  q1_count/score:   2 / 0.9984 \n",
      "\n",
      "  TP Boxes: \t box \t\t\t orig_score \t noise \t\t new_score\n",
      "  --------------------------------------------------------------------------------\n",
      "  0  \t [  63   47   77   82] \t\t [    0.9999] \t [    0.0001] \t [    1.0000]\n",
      "  1  \t [  64    9   80   46] \t\t [    0.9999] \t [    0.0008] \t [    1.0000]\n",
      "  2  \t [  80   15  101   64] \t\t [    0.9984] \t [   -0.0004] \t [    0.9980]\n",
      "  3  \t [  87   53  110  102] \t\t [    0.9984] \t [   -0.0009] \t [    0.9975]\n",
      "\n",
      "  FP Boxes: \t box \t\t\t orig_score \t noise \t\t new_score\n",
      "  --------------------------------------------------------------------------------\n",
      "  0  \t [  51   46   65   81] \t\t [    0.9999] \t [   -0.0001] \t [    0.9998]\n",
      "  1  \t [  48   82   64  119] \t\t [    0.9999] \t [    0.0006] \t [    1.0000]\n",
      "  2  \t [  27   64   48  113] \t\t [    0.9984] \t [   -0.0001] \t [    0.9983]\n",
      "  3  \t [  18   26   41   75] \t\t [    0.9984] \t [   -0.0002] \t [    0.9982]\n",
      "\n",
      " --------------------------------------------------------------------------------------\n",
      " class id :   3\n",
      " --------------------------------------------------------------------------------------\n",
      "  GT boxes :   1     q3 count/score:   1 / 0.9998  q1_count/score:   0 / 0.9992 \n",
      "\n",
      "  TP Boxes: \t box \t\t\t orig_score \t noise \t\t new_score\n",
      "  --------------------------------------------------------------------------------\n",
      "  0  \t [   3   94   12  103] \t\t [    0.9998] \t [   -0.0002] \t [    0.9996]\n",
      "\n",
      "  FP Boxes: \t box \t\t\t orig_score \t noise \t\t new_score\n",
      "  --------------------------------------------------------------------------------\n",
      "  0  \t [ 116   25  125   34] \t\t [    0.9998] \t [    0.0008] \t [    1.0000]\n",
      "\n",
      " --------------------------------------------------------------------------------------\n",
      " class id :   4\n",
      " --------------------------------------------------------------------------------------\n",
      "  GT boxes :   1     q3 count/score:   1 / 1.0000  q1_count/score:   0 / 0.9984 \n",
      "\n",
      "  TP Boxes: \t box \t\t\t orig_score \t noise \t\t new_score\n",
      "  --------------------------------------------------------------------------------\n",
      "  0  \t [  34   54   57   75] \t\t [    1.0000] \t [    0.0007] \t [    1.0000]\n",
      "\n",
      "  FP Boxes: \t box \t\t\t orig_score \t noise \t\t new_score\n",
      "  --------------------------------------------------------------------------------\n",
      "  0  \t [  71   53   94   74] \t\t [    1.0000] \t [    0.0004] \t [    1.0000]\n",
      "\n",
      " --------------------------------------------------------------------------------------\n",
      " class id :   5\n",
      " --------------------------------------------------------------------------------------\n",
      "  GT boxes :   1     q3 count/score:   1 / 0.9998  q1_count/score:   0 / 0.9969 \n",
      "\n",
      "  TP Boxes: \t box \t\t\t orig_score \t noise \t\t new_score\n",
      "  --------------------------------------------------------------------------------\n",
      "  0  \t [  77   86  110  109] \t\t [    0.9998] \t [   -0.0005] \t [    0.9993]\n",
      "\n",
      "  FP Boxes: \t box \t\t\t orig_score \t noise \t\t new_score\n",
      "  --------------------------------------------------------------------------------\n",
      "  0  \t [  18   19   51   42] \t\t [    0.9998] \t [    0.0007] \t [    1.0000]\n",
      "\n",
      " --------------------------------------------------------------------------------------\n",
      " class id :   6\n",
      " --------------------------------------------------------------------------------------\n",
      "  GT boxes :   2     q3 count/score:   1 / 0.9998  q1_count/score:   1 / 0.9972 \n",
      "\n",
      "  TP Boxes: \t box \t\t\t orig_score \t noise \t\t new_score\n",
      "  --------------------------------------------------------------------------------\n",
      "  0  \t [  16    8   29   47] \t\t [    0.9998] \t [   -0.0006] \t [    0.9992]\n",
      "  1  \t [  17   77   36  128] \t\t [    0.9972] \t [    0.0008] \t [    0.9980]\n",
      "\n",
      "  FP Boxes: \t box \t\t\t orig_score \t noise \t\t new_score\n",
      "  --------------------------------------------------------------------------------\n",
      "  0  \t [  99   81  112  120] \t\t [    0.9998] \t [   -0.0009] \t [    0.9989]\n",
      "  1  \t [  92    0  111   51] \t\t [    0.9972] \t [   -0.0008] \t [    0.9964]\n",
      "\n",
      "GT boxes + fp boxes with noise, prior to sort: (20, 7)\n",
      "---------------------------------------------------------------------------\n",
      "[[   84.0000    46.0000   122.0000    53.0000     1.0000     0.9998     1.0000]\n",
      " [    6.0000    75.0000    44.0000    82.0000     1.0000     1.0000    -1.0000]\n",
      " [   63.0000    47.0000    77.0000    82.0000     2.0000     1.0000     1.0000]\n",
      " [   64.0000     9.0000    80.0000    46.0000     2.0000     1.0000     1.0000]\n",
      " [   80.0000    15.0000   101.0000    64.0000     2.0000     0.9980     1.0000]\n",
      " [   87.0000    53.0000   110.0000   102.0000     2.0000     0.9975     1.0000]\n",
      " [   51.0000    46.0000    65.0000    81.0000     2.0000     0.9998    -1.0000]\n",
      " [   48.0000    82.0000    64.0000   119.0000     2.0000     1.0000    -1.0000]\n",
      " [   27.0000    64.0000    48.0000   113.0000     2.0000     0.9983    -1.0000]\n",
      " [   18.0000    26.0000    41.0000    75.0000     2.0000     0.9982    -1.0000]\n",
      " [    3.0000    94.0000    12.0000   103.0000     3.0000     0.9996     1.0000]\n",
      " [  116.0000    25.0000   125.0000    34.0000     3.0000     1.0000    -1.0000]\n",
      " [   34.0000    54.0000    57.0000    75.0000     4.0000     1.0000     1.0000]\n",
      " [   71.0000    53.0000    94.0000    74.0000     4.0000     1.0000    -1.0000]\n",
      " [   77.0000    86.0000   110.0000   109.0000     5.0000     0.9993     1.0000]\n",
      " [   18.0000    19.0000    51.0000    42.0000     5.0000     1.0000    -1.0000]\n",
      " [   16.0000     8.0000    29.0000    47.0000     6.0000     0.9992     1.0000]\n",
      " [   17.0000    77.0000    36.0000   128.0000     6.0000     0.9980     1.0000]\n",
      " [   99.0000    81.0000   112.0000   120.0000     6.0000     0.9989    -1.0000]\n",
      " [   92.0000     0.0000   111.0000    51.0000     6.0000     0.9964    -1.0000]]\n",
      "\n",
      "GT boxes + fp_boxes with noise - After Sort (Final): (20, 7)\n",
      "---------------------------------------------------------------------------\n",
      "[[   64.0000     9.0000    80.0000    46.0000     2.0000     1.0000     1.0000]\n",
      " [    6.0000    75.0000    44.0000    82.0000     1.0000     1.0000    -1.0000]\n",
      " [   18.0000    19.0000    51.0000    42.0000     5.0000     1.0000    -1.0000]\n",
      " [   71.0000    53.0000    94.0000    74.0000     4.0000     1.0000    -1.0000]\n",
      " [   34.0000    54.0000    57.0000    75.0000     4.0000     1.0000     1.0000]\n",
      " [  116.0000    25.0000   125.0000    34.0000     3.0000     1.0000    -1.0000]\n",
      " [   48.0000    82.0000    64.0000   119.0000     2.0000     1.0000    -1.0000]\n",
      " [   63.0000    47.0000    77.0000    82.0000     2.0000     1.0000     1.0000]\n",
      " [   84.0000    46.0000   122.0000    53.0000     1.0000     0.9998     1.0000]\n",
      " [   51.0000    46.0000    65.0000    81.0000     2.0000     0.9998    -1.0000]\n",
      " [    3.0000    94.0000    12.0000   103.0000     3.0000     0.9996     1.0000]\n",
      " [   77.0000    86.0000   110.0000   109.0000     5.0000     0.9993     1.0000]\n",
      " [   16.0000     8.0000    29.0000    47.0000     6.0000     0.9992     1.0000]\n",
      " [   99.0000    81.0000   112.0000   120.0000     6.0000     0.9989    -1.0000]\n",
      " [   27.0000    64.0000    48.0000   113.0000     2.0000     0.9983    -1.0000]\n",
      " [   18.0000    26.0000    41.0000    75.0000     2.0000     0.9982    -1.0000]\n",
      " [   80.0000    15.0000   101.0000    64.0000     2.0000     0.9980     1.0000]\n",
      " [   17.0000    77.0000    36.0000   128.0000     6.0000     0.9980     1.0000]\n",
      " [   87.0000    53.0000   110.0000   102.0000     2.0000     0.9975     1.0000]\n",
      " [   92.0000     0.0000   111.0000    51.0000     6.0000     0.9964    -1.0000]]\n",
      "\n",
      " MAX OVERLAP 0.07456\n"
     ]
    }
   ],
   "source": [
    "np_format = {}\n",
    "np_format['float']= lambda x: \"%10.4f\" % x\n",
    "np_format['int']= lambda x: \"%4d\" % x\n",
    "np.set_printoptions(linewidth=195, precision=4, floatmode='fixed', threshold =10000, formatter = np_format)\n",
    "\n",
    "\n",
    "# for i in [24,33492]:  \n",
    "for i in [0,1,2,3]:  \n",
    "#     if i % 20 == 0:\n",
    "    print()\n",
    "    print('-------------------')\n",
    "    print('| Image Id: {:5d} |'.format(i))\n",
    "    print('-------------------')\n",
    "    eval_batch = get_evaluate_batch(dataset_train, mrcnn_model.config, i, display =  False)\n",
    "    input_gt_class_ids       =  eval_batch[3][0]\n",
    "    input_gt_bboxes          =  eval_batch[4][0]\n",
    "    dets, overlap = add_evaluation_detections_2(input_gt_class_ids, input_gt_bboxes, mrcnn_model.config, mrcnn_model.class_pred_stats)\n",
    "    if overlap > 0.75:\n",
    "        print('  image_id: ', i, 'overlap : ' , overlap)"
   ]
  },
  {
   "cell_type": "markdown",
   "metadata": {
    "heading_collapsed": true
   },
   "source": [
    "##  `Detection_Evaluation_Layer` step by step"
   ]
  },
  {
   "cell_type": "markdown",
   "metadata": {
    "heading_collapsed": true,
    "hidden": true
   },
   "source": [
    "###  Setup tensors to be passed to `detections_target_graph()`\n",
    "    detections = DetectionEvaluationLayer(config, name=\"mrcnn_detection\") ([rpn_roi_proposals, mrcnn_class, mrcnn_bbox, input_image_meta, input_gt_class_ids, input_gt_boxes])"
   ]
  },
  {
   "cell_type": "code",
   "execution_count": null,
   "metadata": {
    "ExecuteTime": {
     "end_time": "2019-01-24T14:11:39.447347Z",
     "start_time": "2019-01-24T14:11:39.144113Z"
    },
    "hidden": true
   },
   "outputs": [],
   "source": [
    "float_formatter = lambda x: \"%10.4f\" % x\n",
    "np_format = {}\n",
    "np_format['float']=float_formatter\n",
    "np.set_printoptions(linewidth=195, precision=4, floatmode='fixed', threshold =10000, formatter = np_format)\n"
   ]
  },
  {
   "cell_type": "code",
   "execution_count": 20,
   "metadata": {
    "ExecuteTime": {
     "end_time": "2019-01-24T14:42:34.583699Z",
     "start_time": "2019-01-24T14:42:34.270477Z"
    },
    "hidden": true
   },
   "outputs": [],
   "source": [
    "from mrcnn.detect_inf_layer import clip_to_window\n",
    "from mrcnn.utils import flip_bbox, overlaps_graph_np, compute_overlaps, compute_one_iou, compute_1D_iou"
   ]
  },
  {
   "cell_type": "code",
   "execution_count": null,
   "metadata": {
    "ExecuteTime": {
     "end_time": "2019-01-22T17:10:31.646012Z",
     "start_time": "2019-01-22T17:10:31.354528Z"
    },
    "hidden": true
   },
   "outputs": [],
   "source": [
    "img_idx = 0 \n",
    "i1, i2, window, _ = utils.parse_image_meta(input_image_meta)\n",
    "detections        = model_mrcnn_detection[img_idx]\n",
    "gt_class_ids      = input_gt_class_ids[img_idx]\n",
    "gt_bboxes         = input_gt_bboxes[img_idx]\n",
    "image_meta        = input_image_meta[img_idx]\n",
    "config            = mrcnn_model.config\n",
    "class_pred_stats  = mrcnn_model.class_pred_stats\n",
    "print(i1, i2,window)\n",
    "# print(detections)"
   ]
  },
  {
   "cell_type": "markdown",
   "metadata": {
    "heading_collapsed": true,
    "hidden": true
   },
   "source": [
    "### `add_evaluation_detections_1()`  GT boxes and FP GT boxes with average scores + uniform random noise"
   ]
  },
  {
   "cell_type": "code",
   "execution_count": 21,
   "metadata": {
    "ExecuteTime": {
     "end_time": "2019-01-24T14:42:36.987407Z",
     "start_time": "2019-01-24T14:42:36.094772Z"
    },
    "hidden": true,
    "scrolled": false
   },
   "outputs": [],
   "source": [
    "def add_evaluation_detections_1(gt_class_ids, gt_bboxes, config, class_pred_stats):\n",
    "    verbose = 1\n",
    "    height, width   = config.IMAGE_SHAPE[:2]\n",
    "\n",
    "    ##----------------------------------------------------------------------------\n",
    "    ##  1.  Filter out boxes with class < 0 : background (0) and Crowds (neg classes)\n",
    "    ##----------------------------------------------------------------------------\n",
    "    gt_nz_idxs      = np.where(gt_class_ids > 0)[0]\n",
    "    gt_nz_class_ids = gt_class_ids[gt_nz_idxs]\n",
    "    gt_nz_bboxes    = gt_bboxes[gt_nz_idxs]\n",
    "\n",
    "    # print(' gt_nz_idxs     : ', gt_nz_idxs.shape, '\\n', gt_nz_idxs)\n",
    "    # print(' gt_nz_class_ids: ', gt_nz_class_ids.shape, '\\n',  gt_nz_class_ids)\n",
    "    # print(' gt_nz_bboxes   : ', gt_nz_bboxes.shape   , '\\n', gt_nz_bboxes)\n",
    "\n",
    "    ##----------------------------------------------------------------------------\n",
    "    ##  2.  Generate False positives using ground truth info \n",
    "    ##----------------------------------------------------------------------------\n",
    "    mod_detections = np.empty((0, 7))\n",
    "    max_overlap = 0\n",
    "\n",
    "    ## go through each class, gather the GTs for that class, and create their corrsponding FPs.\n",
    "\n",
    "    for class_id in np.unique(gt_nz_class_ids) :\n",
    "        # Pick detections of this class\n",
    "        gt_class_ixs = np.where(gt_nz_class_ids == class_id)[0]\n",
    "        tp_bboxes   =  gt_nz_bboxes[gt_class_ixs]\n",
    "\n",
    "        ## Generate Flip gt_bboxes for this class \n",
    "        fp_bboxes   = flip_bbox(tp_bboxes, (height,width),   flip_x = True, flip_y = True)\n",
    "        \n",
    " \n",
    "        ## Get average score for the current class from predicted_classes information \n",
    "        ## Apply Average score for each class from \"predictions_info\"\n",
    "        gt_bbox_count = gt_class_ixs.shape[0]\n",
    "        score_sz = (gt_bbox_count,1)\n",
    "        scale = 0.001\n",
    "        \n",
    "        cls_avg_score   = class_pred_stats['avg'][class_id]  ## np.average(dt_nz[dt_class_ixs,5])\n",
    "        orig_tp_scores = np.full(score_sz, cls_avg_score)\n",
    "        orig_fp_scores = np.full(score_sz, cls_avg_score)\n",
    "\n",
    "        fp_noise = np.round(np.random.uniform(low = -scale, high= scale, size = score_sz) ,4)\n",
    "        tp_noise = np.round(np.random.uniform(low = -scale, high= scale, size = score_sz) ,4)\n",
    "        \n",
    "        tp_scores  = orig_tp_scores + tp_noise\n",
    "        fp_scores  = orig_fp_scores + fp_noise\n",
    "#         print('Score size :', score_sz)\n",
    "#         print('orginal tp_scores: \\n', orig_tp_scores)\n",
    "#         print('oringal fp_scores: \\n', orig_fp_scores)\n",
    "#         print('tp noise     : \\n', tp_noise)\n",
    "#         print('fp noise     : \\n', fp_noise)\n",
    "#         print('new tp_scores: \\n', tp_scores)\n",
    "#         print('new fp_scores: \\n', fp_scores)\n",
    "#         print('tp_bboxes', tp_bboxes.shape)\n",
    "#         print(tp_bboxes)\n",
    "#         print('fp_bboxes', fp_bboxes.shape)\n",
    "#         print(fp_bboxes)\n",
    " \n",
    "        tp_scores  = np.clip(tp_scores, 0.0, 1.0)\n",
    "        fp_scores  = np.clip(fp_scores, 0.0, 1.0)            \n",
    "            \n",
    "            \n",
    "        if verbose:\n",
    "            print()\n",
    "            print(' --------------------------------------------------------------------------------------')\n",
    "            print(' class id : {:3d}     class avg score: {:.4f}    GT boxes : {:3d}'.format(class_id, cls_avg_score, gt_bbox_count))                \n",
    "            print(' --------------------------------------------------------------------------------------')\n",
    "            print('\\n  TP Boxes: \\t box \\t\\t\\t orig_score \\t noise \\t\\t new_score')\n",
    "            print(' ','-'*80)\n",
    "            for i, (box, orig_score, noise, new_score) in enumerate(zip(tp_bboxes, orig_tp_scores, tp_noise, tp_scores)):\n",
    "                print(' ',i,' \\t', box, '\\t\\t', orig_score, '\\t', noise, '\\t', new_score)\n",
    "            print('\\n  FP Boxes: \\t box \\t\\t\\t orig_score \\t noise \\t\\t new_score')\n",
    "            print(' ','-'*80)\n",
    "            for i, (box, orig_score, noise, new_score) in enumerate(zip(fp_bboxes, orig_fp_scores, fp_noise, fp_scores)):\n",
    "                print(' ',i,' \\t', box, '\\t\\t', orig_score, '\\t', noise, '\\t', new_score)\n",
    "\n",
    "        ##  Compute IoU between each GT box and its corresponding FP box. if their overlap > 0.80, reduce the\n",
    "        ##  boundaries of the FP bbox by multiplying it's coordinates by 0.85, and use this modified FP box\n",
    "        overlaps = compute_1D_iou(tp_bboxes, fp_bboxes)\n",
    "        large_ious = np.where(overlaps > 0.80)[0]    \n",
    "        \n",
    "        # if there *are* ious > 0.8, modify the reduce the corresponing FP bboxes \n",
    "        if len(large_ious) > 0:\n",
    "            if verbose :\n",
    "                print('Large IOUS encountered!!!! :', large_ious)\n",
    "                print('---------------------------------------------')\n",
    "                print('class id :', class_id, 'class prediction avg:', cls_avg_score)\n",
    "                print('---------------------------------------------')\n",
    "                print(' pre adjustment overlaps ', overlaps.shape, ' max: ', overlaps.max() )\n",
    "                print('---------------------------------------------')\n",
    "                print(overlaps,'\\n')            \n",
    "                print('fp_bboxes before adjustment ', fp_bboxes.shape)\n",
    "                print(fp_bboxes[large_ious])\n",
    "            fp_bboxes[large_ious] = np.rint(fp_bboxes[large_ious].astype(np.float) * 0.85)\n",
    "            overlaps = compute_1D_iou(tp_bboxes, fp_bboxes)\n",
    "            if verbose :\n",
    "                print('fp_bboxes after adjustment ', fp_bboxes.shape)\n",
    "                print(fp_bboxes[large_ious])\n",
    "                print(' post adjustment overlaps ', overlaps.shape, ' max: ', overlaps.max() )\n",
    "                print(' ---------------------------------------------')\n",
    "                print(overlaps,'\\n')\n",
    "\n",
    "        m_overlap = overlaps.max()\n",
    "        max_overlap = m_overlap if m_overlap > max_overlap else max_overlap    \n",
    "\n",
    "        classes   = np.expand_dims(gt_nz_class_ids[gt_class_ixs], axis = -1)\n",
    "        tp_ind    = np.ones((gt_class_ixs.shape[0],1)) \n",
    "\n",
    "        class_tp  = np.concatenate([gt_nz_bboxes[gt_class_ixs], classes, tp_scores, tp_ind] , axis = -1)\n",
    "        class_fp  = np.concatenate([fp_bboxes, classes, fp_scores, -1 * tp_ind] , axis = -1)\n",
    "        mod_detections  = np.vstack([mod_detections, class_tp, class_fp])\n",
    "        # print('classes :', classes.shape, '\\n', classes, '\\n')    \n",
    "        # print('scores   :', scores.shape  , '\\n', scores)\n",
    "        # print('tp_ind :', tp_ind.shape, '\\n', tp_ind)\n",
    "        # print('fp_ind :', fp_ind.shape, '\\n', fp_ind)\n",
    "        # print('mod_detections:', mod_detections.shape)\n",
    "        # print(mod_detections)\n",
    "\n",
    "    ##----------------------------------------------------------------------------\n",
    "    ## 10.  Sort by decreasing score and Keep top DETECTION_MAX_INSTANCES detections\n",
    "    ##----------------------------------------------------------------------------\n",
    "    roi_count = config.DETECTION_MAX_INSTANCES\n",
    "    top_ids   = np.argsort(mod_detections[:,5])[::-1][:roi_count]\n",
    "    if verbose:\n",
    "        print()\n",
    "        print('GT boxes + fp boxes with noise, prior to sort:', mod_detections.shape)\n",
    "        print('-'*75)\n",
    "        print(mod_detections)    \n",
    "        print()\n",
    "        print('GT boxes + fp_boxes with noise - After Sort (Final):', mod_detections.shape)\n",
    "        print('-'*75)\n",
    "        print(mod_detections[top_ids])\n",
    "        print(\"\\n MAX OVERLAP {:.5f}\".format(max_overlap))\n",
    "    \n",
    "    return mod_detections[top_ids], max_overlap"
   ]
  },
  {
   "cell_type": "markdown",
   "metadata": {
    "heading_collapsed": true,
    "hidden": true
   },
   "source": [
    "### `add_evaluation_detections_2()`  (new method of assigning TP/FP bboxes to 1st / 3rd quantiles - 24-01-2019)"
   ]
  },
  {
   "cell_type": "code",
   "execution_count": 27,
   "metadata": {
    "ExecuteTime": {
     "end_time": "2019-01-24T14:45:23.417390Z",
     "start_time": "2019-01-24T14:45:22.430664Z"
    },
    "hidden": true,
    "scrolled": false
   },
   "outputs": [],
   "source": [
    "def add_evaluation_detections_2(gt_class_ids, gt_bboxes, config, class_pred_stats):\n",
    "    verbose = 1\n",
    "    height, width   = config.IMAGE_SHAPE[:2]\n",
    "\n",
    "    ##----------------------------------------------------------------------------\n",
    "    ##  1.  Filter out boxes with class < 0 : background (0) and Crowds (neg classes)\n",
    "    ##----------------------------------------------------------------------------\n",
    "    gt_nz_idxs      = np.where(gt_class_ids > 0)[0]\n",
    "    gt_nz_class_ids = gt_class_ids[gt_nz_idxs]\n",
    "    gt_nz_bboxes    = gt_bboxes[gt_nz_idxs]\n",
    "\n",
    "    # print(' gt_nz_idxs     : ', gt_nz_idxs.shape, '\\n', gt_nz_idxs)\n",
    "    # print(' gt_nz_class_ids: ', gt_nz_class_ids.shape, '\\n',  gt_nz_class_ids)\n",
    "    # print(' gt_nz_bboxes   : ', gt_nz_bboxes.shape   , '\\n', gt_nz_bboxes)\n",
    "\n",
    "    ##----------------------------------------------------------------------------\n",
    "    ##  2.  Generate False positives using ground truth info \n",
    "    ##----------------------------------------------------------------------------\n",
    "    mod_detections = np.empty((0, 7))\n",
    "    max_overlap = 0\n",
    "\n",
    "    ## go through each class, gather the GTs for that class, and create their corrsponding FPs.\n",
    "\n",
    "    for class_id in np.unique(gt_nz_class_ids) :\n",
    "        # Pick detections of this class\n",
    "        gt_class_ixs = np.where(gt_nz_class_ids == class_id)[0]\n",
    "        tp_bboxes   =  gt_nz_bboxes[gt_class_ixs]\n",
    "\n",
    "        ## Generate Flip gt_bboxes for this class \n",
    "        fp_bboxes   = flip_bbox(tp_bboxes, (height,width),   flip_x = True, flip_y = True)\n",
    "        \n",
    " \n",
    "        ## Get average score for the current class from predicted_classes information \n",
    "        ## Apply Average score for each class from \"predictions_info\"\n",
    "        gt_bbox_count = gt_class_ixs.shape[0]\n",
    "        score_sz = (gt_bbox_count,1)\n",
    "        scale = 0.001\n",
    "        \n",
    "        q1_count = gt_bbox_count // 2 \n",
    "        q3_count = gt_bbox_count - q1_count\n",
    "        q1_score = class_pred_stats['pct'][class_id][0]   # 1st quantile \n",
    "        q3_score = class_pred_stats['pct'][class_id][2]   # 3rd quantile\n",
    "        orig_tp_scores = np.zeros(score_sz)\n",
    "        orig_fp_scores = np.zeros(score_sz)\n",
    "        orig_tp_scores[:q3_count] = q3_score    \n",
    "        orig_tp_scores[q3_count:] = q1_score\n",
    "        orig_fp_scores[:q3_count] = q3_score    \n",
    "        orig_fp_scores[q3_count:] = q1_score                        \n",
    "            \n",
    "        fp_noise = np.round(np.random.uniform(low = -scale, high= scale, size = score_sz) ,4)\n",
    "        tp_noise = np.round(np.random.uniform(low = -scale, high= scale, size = score_sz) ,4)\n",
    "        \n",
    "        tp_scores  = orig_tp_scores + tp_noise\n",
    "        fp_scores  = orig_fp_scores + fp_noise\n",
    "\n",
    "        tp_scores  = np.clip(tp_scores, 0.0, 1.0)\n",
    "        fp_scores  = np.clip(fp_scores, 0.0, 1.0)            \n",
    "        \n",
    "#         print('Score size :', score_sz)\n",
    "#         print('orginal tp_scores: \\n', orig_tp_scores)\n",
    "#         print('oringal fp_scores: \\n', orig_fp_scores)\n",
    "#         print('tp noise     : \\n', tp_noise)\n",
    "#         print('fp noise     : \\n', fp_noise)\n",
    "#         print('new tp_scores: \\n', tp_scores)\n",
    "#         print('new fp_scores: \\n', fp_scores)\n",
    "#         print('tp_bboxes', tp_bboxes.shape)\n",
    "#         print(tp_bboxes)\n",
    "#         print('fp_bboxes', fp_bboxes.shape)\n",
    "#         print(fp_bboxes)            \n",
    "            \n",
    "        if verbose:\n",
    "            print()\n",
    "            print(' --------------------------------------------------------------------------------------')\n",
    "            print(' class id : {:3d}'.format(class_id))                \n",
    "            print(' --------------------------------------------------------------------------------------')\n",
    "            #  print(' class id : {:3d}     q3 score: {:.4f}  q1_score: {:.4f}'.format(class_id, q3_score, q1_score))                \n",
    "            print('  GT boxes : {:3d}     q3 count/score: {:3d} / {:.4f}  q1_count/score: {:3d} / {:.4f} '.format(\n",
    "                    gt_bbox_count, q3_count, q3_score, q1_count, q1_score))\n",
    "\n",
    "            print('\\n  TP Boxes: \\t box \\t\\t\\t orig_score \\t noise \\t\\t new_score')\n",
    "            print(' ','-'*80)\n",
    "            for i, (box, orig_score, noise, new_score) in enumerate(zip(tp_bboxes, orig_tp_scores, tp_noise, tp_scores)):\n",
    "                print(' ',i,' \\t', box, '\\t\\t', orig_score, '\\t', noise, '\\t', new_score)\n",
    "            print('\\n  FP Boxes: \\t box \\t\\t\\t orig_score \\t noise \\t\\t new_score')\n",
    "            print(' ','-'*80)\n",
    "            for i, (box, orig_score, noise, new_score) in enumerate(zip(fp_bboxes, orig_fp_scores, fp_noise, fp_scores)):\n",
    "                print(' ',i,' \\t', box, '\\t\\t', orig_score, '\\t', noise, '\\t', new_score)\n",
    "\n",
    "        ##  Compute IoU between each GT box and its corresponding FP box. if their overlap > 0.80, reduce the\n",
    "        ##  boundaries of the FP bbox by multiplying it's coordinates by 0.85, and use this modified FP box\n",
    "        overlaps = compute_1D_iou(tp_bboxes, fp_bboxes)\n",
    "        large_ious = np.where(overlaps > 0.80)[0]    \n",
    "        \n",
    "        # if there *are* ious > 0.8, modify the reduce the corresponing FP bboxes \n",
    "        if len(large_ious) > 0:\n",
    "            if verbose :\n",
    "                print('Large IOUS encountered!!!! :', large_ious)\n",
    "                print('---------------------------------------------')\n",
    "                print('class id :', class_id, 'class prediction avg:', cls_tp_score, cls_fp_score)\n",
    "                print('---------------------------------------------')\n",
    "                print(' pre adjustment overlaps ', overlaps.shape, ' max: ', overlaps.max() )\n",
    "                print('---------------------------------------------')\n",
    "                print(overlaps,'\\n')            \n",
    "                print('fp_bboxes before adjustment ', fp_bboxes.shape)\n",
    "                print(fp_bboxes[large_ious])\n",
    "            fp_bboxes[large_ious] = np.rint(fp_bboxes[large_ious].astype(np.float) * 0.85)\n",
    "            overlaps = compute_1D_iou(tp_bboxes, fp_bboxes)\n",
    "            if verbose :\n",
    "                print('fp_bboxes after adjustment ', fp_bboxes.shape)\n",
    "                print(fp_bboxes[large_ious])\n",
    "                print(' post adjustment overlaps ', overlaps.shape, ' max: ', overlaps.max() )\n",
    "                print(' ---------------------------------------------')\n",
    "                print(overlaps,'\\n')\n",
    "\n",
    "        m_overlap = overlaps.max()\n",
    "        max_overlap = m_overlap if m_overlap > max_overlap else max_overlap    \n",
    "\n",
    "        classes   = np.expand_dims(gt_nz_class_ids[gt_class_ixs], axis = -1)\n",
    "#         tp_scores = np.ones((gt_class_ixs.shape[0],1)) * cls_tp_score\n",
    "#         fp_scores = np.ones((gt_class_ixs.shape[0],1)) * cls_fp_score\n",
    "    \n",
    "\n",
    "                            \n",
    "        tp_ind    = np.ones((gt_class_ixs.shape[0],1)) \n",
    "\n",
    "        class_tp  = np.concatenate([gt_nz_bboxes[gt_class_ixs], classes, tp_scores, tp_ind] , axis = -1)\n",
    "        class_fp  = np.concatenate([fp_bboxes, classes, fp_scores, -1 * tp_ind] , axis = -1)\n",
    "        mod_detections  = np.vstack([mod_detections, class_tp, class_fp])\n",
    "        # print('classes :', classes.shape, '\\n', classes, '\\n')    \n",
    "        # print('scores   :', scores.shape  , '\\n', scores)\n",
    "        # print('tp_ind :', tp_ind.shape, '\\n', tp_ind)\n",
    "        # print('fp_ind :', fp_ind.shape, '\\n', fp_ind)\n",
    "        # print('mod_detections:', mod_detections.shape)\n",
    "        # print(mod_detections)\n",
    "\n",
    "    ##----------------------------------------------------------------------------\n",
    "    ## 10.  Sort by decreasing score and Keep top DETECTION_MAX_INSTANCES detections\n",
    "    ##----------------------------------------------------------------------------\n",
    "    roi_count = config.DETECTION_MAX_INSTANCES\n",
    "    top_ids   = np.argsort(mod_detections[:,5])[::-1][:roi_count]\n",
    "    if verbose:\n",
    "        print()\n",
    "        print('GT boxes + fp boxes with noise, prior to sort:', mod_detections.shape)\n",
    "        print('-'*75)\n",
    "        print(mod_detections)    \n",
    "        print()\n",
    "        print('GT boxes + fp_boxes with noise - After Sort (Final):', mod_detections.shape)\n",
    "        print('-'*75)\n",
    "        print(mod_detections[top_ids])\n",
    "        print(\"\\n MAX OVERLAP {:.5f}\".format(max_overlap))\n",
    "    \n",
    "    return mod_detections[top_ids], max_overlap"
   ]
  },
  {
   "cell_type": "code",
   "execution_count": null,
   "metadata": {
    "ExecuteTime": {
     "end_time": "2019-01-24T12:32:33.548655Z",
     "start_time": "2019-01-24T12:32:33.237433Z"
    },
    "hidden": true
   },
   "outputs": [],
   "source": [
    "\n",
    "print('bbox count    quantile 3   quantile1 ')\n",
    "# print('      {:3d}          {:3d}         {:3d}'\n",
    "print('-'*50)\n",
    "for gt_bbox_count in [1,2,3,4,5,6,7,8,9,10]:\n",
    "    box_list = [chr(65+i) for i in range(gt_bbox_count)]\n",
    "    q1_count = gt_bbox_count // 2 \n",
    "    q3_count = gt_bbox_count - q1_count\n",
    "    print('   {:3d}          {:3d}         {:3d}    {}   {} '.format(gt_bbox_count, q3_count, q1_count,box_list[:q3_count], box_list[q3_count:]))"
   ]
  },
  {
   "cell_type": "code",
   "execution_count": null,
   "metadata": {
    "ExecuteTime": {
     "end_time": "2019-01-24T12:31:13.124549Z",
     "start_time": "2019-01-24T12:31:12.804321Z"
    },
    "hidden": true
   },
   "outputs": [],
   "source": [
    "[chr(65+i) for i in range(10)]"
   ]
  },
  {
   "cell_type": "markdown",
   "metadata": {
    "heading_collapsed": true,
    "hidden": true
   },
   "source": [
    "### `add_evaluation_detections - 1` Add False detections to detections generated by MRCNN classification branch\n",
    "This routine takes the GT bboxes, converts them to FPs and adds them to the Detections made by the FPN layer."
   ]
  },
  {
   "cell_type": "markdown",
   "metadata": {
    "hidden": true
   },
   "source": [
    "####  Stack `refined_rois`, `class_ids`, and `class_scores` into `result`"
   ]
  },
  {
   "cell_type": "code",
   "execution_count": null,
   "metadata": {
    "ExecuteTime": {
     "end_time": "2018-12-06T14:05:59.028278Z",
     "start_time": "2018-12-06T14:05:58.687631Z"
    },
    "hidden": true
   },
   "outputs": [],
   "source": [
    "##----------------------------------------------------------------------------\n",
    "## 11.  Arrange output as [N, (y1, x1, y2, x2, class_id, score)]\n",
    "##      Coordinates are in image domain.\n",
    "##----------------------------------------------------------------------------\n",
    "result = np.hstack((refined_rois[keep_top_detections],\n",
    "                    class_ids   [keep_top_detections][..., np.newaxis],\n",
    "                    class_scores[keep_top_detections][..., np.newaxis]))\n",
    "\n",
    "print(result.shape)\n",
    "print(result)"
   ]
  },
  {
   "cell_type": "code",
   "execution_count": null,
   "metadata": {
    "ExecuteTime": {
     "end_time": "2018-09-17T14:18:33.914186Z",
     "start_time": "2018-09-17T14:18:33.864667Z"
    },
    "hidden": true
   },
   "outputs": [],
   "source": [
    "results = []\n",
    "final_rois, final_class_ids, final_scores = mrcnn_model.unmold_detections(result, image.shape, window)    \n",
    "results.append({\n",
    "    \"rois\"        : final_rois,\n",
    "    \"class_ids\"   : final_class_ids,\n",
    "    \"scores\"      : final_scores\n",
    "})\n",
    "# results = mrcnn_model.detect([image], verbose=1)\n",
    "r = results[0]\n",
    " \n",
    "print('  rois       : ', r['rois'])\n",
    "print('  class ids  : ', r['class_ids'])\n",
    "print('  scores     : ', r['scores'])\n",
    "print('  detections count: ', r['class_ids'].shape[0], result.shape[0])"
   ]
  },
  {
   "cell_type": "markdown",
   "metadata": {
    "hidden": true
   },
   "source": [
    "####  display`fp_additions`"
   ]
  },
  {
   "cell_type": "code",
   "execution_count": null,
   "metadata": {
    "ExecuteTime": {
     "end_time": "2018-12-07T12:41:40.813165Z",
     "start_time": "2018-12-07T12:41:39.377574Z"
    },
    "hidden": true,
    "scrolled": false
   },
   "outputs": [],
   "source": [
    "image = utils.unmold_image(input_image[0], mrcnn_model.config)\n",
    "#print(input_image.shape)\n",
    "# p1 = rois * [1024,1024,1024,1024]\n",
    " \n",
    "# visualize.draw_rois_with_refinements(image, p1, refined_rois,class_ids, class_names,limit = 10, random = False )\n",
    "# visualize.draw_rois_with_refinements(image, p1, refined_rois,class_ids, class_names,ids=[6,7,8,9]) \n",
    "# bbox_ids = list(range(0,500))\n",
    "# print(' Max score in bboxIds: ',np.max(class_scores[bbox_ids]), ' Min Score: ', np.min(class_scores[bbox_ids]))\n",
    "# print(image_meta) \n",
    "# visualize.draw_rois(image, detections[:,:4], detections[:,4].astype(np.int), class_names,  limit=10, display_bg= True , bbox_ids = [ 1,7,12, 16, 17, 19])\n",
    "# visualize.draw_rois(image, gt_nz_bboxes, gt_nz_class_ids, class_names,  limit=10,  display_bg= True, bbox_ids = [0,1,2])\n",
    "visualize.draw_rois(image, fp_additions[:,:4], fp_additions[:,4].astype(np.int), class_names,  limit=10,  display_bg= True, bbox_ids = [0,1,2,3,4,5,6])\n",
    "# visualize.draw_rois(image, gt_nz_bboxes_flipped, gt_nz_class_ids, class_names,  limit=10, bbox_ids= [ 7], display_bg= True)\n",
    "  "
   ]
  },
  {
   "cell_type": "markdown",
   "metadata": {
    "heading_collapsed": true
   },
   "source": [
    "##  Read Predict_classes files"
   ]
  },
  {
   "cell_type": "code",
   "execution_count": null,
   "metadata": {
    "ExecuteTime": {
     "end_time": "2018-12-15T12:49:39.397415Z",
     "start_time": "2018-12-15T12:49:39.025153Z"
    },
    "hidden": true
   },
   "outputs": [],
   "source": [
    "import pickle\n",
    "with open(\"E:\\\\git_projs\\\\MRCNN3\\\\train_coco\\\\predicted_classes_info.pkl\", 'rb') as infile:\n",
    "    class_prediction_info = pickle.load(infile)\n",
    " \n",
    "# print(type(class_prediction_info))    \n",
    "# pp.pprint(load_gt_info)\n",
    "class_prediction_avg = [cls['avg'] for cls in class_prediction_info]\n",
    "# pp.pprint(class_prediction_avg)    \n",
    "# for cls in class_prediction_info:\n",
    "for avg, cls in zip(class_prediction_avg, class_prediction_info):\n",
    "    print('  {:2d} {:25s} bboxes: {:6d}  avg: {:7.4f}   avg: {:7.4f}'.format(cls['id'], cls['name'], len(cls['bboxes']), cls['avg'], avg))\n",
    "    assert i == j['avg'], 'mismtach between class_prediction_avg and class_prediction_info.'\n"
   ]
  },
  {
   "cell_type": "code",
   "execution_count": null,
   "metadata": {
    "hidden": true
   },
   "outputs": [],
   "source": []
  },
  {
   "cell_type": "code",
   "execution_count": null,
   "metadata": {
    "hidden": true
   },
   "outputs": [],
   "source": []
  },
  {
   "cell_type": "code",
   "execution_count": null,
   "metadata": {
    "hidden": true
   },
   "outputs": [],
   "source": []
  },
  {
   "cell_type": "markdown",
   "metadata": {},
   "source": [
    "## Display Heatmaps"
   ]
  },
  {
   "cell_type": "code",
   "execution_count": 14,
   "metadata": {
    "ExecuteTime": {
     "end_time": "2019-01-29T19:40:43.911349Z",
     "start_time": "2019-01-29T19:40:43.647588Z"
    }
   },
   "outputs": [
    {
     "name": "stdout",
     "output_type": "stream",
     "text": [
      "Image id:  0  Coco ID:  0\n",
      "Image : 0  Predicted    ClassIds: [0, 2, 3, 4]\n"
     ]
    }
   ],
   "source": [
    "img_id = 0\n",
    "print('Image id: ',img_id, ' Coco ID: ', dataset_train.image_info[img_id]['id'])\n",
    "# gt_class_ids = np.unique(model_gt_heatmap_scores[img_id,:,:,4]).astype(int).tolist()\n",
    "pr_class_ids = np.unique(model_pr_hm_scores[img_id,:,:,4]).astype(int).tolist()\n",
    "# print('Image : {}  Ground Truth ClassIds: {}'.format(img_id, gt_class_ids))\n",
    "print('Image : {}  Predicted    ClassIds: {}'.format(img_id, pr_class_ids))"
   ]
  },
  {
   "cell_type": "markdown",
   "metadata": {},
   "source": [
    "#### Display Bounding Boxers and Heatmap"
   ]
  },
  {
   "cell_type": "code",
   "execution_count": null,
   "metadata": {
    "ExecuteTime": {
     "end_time": "2019-01-29T19:45:03.728998Z",
     "start_time": "2019-01-29T19:45:03.067975Z"
    },
    "hideCode": false,
    "hidePrompt": true
   },
   "outputs": [],
   "source": [
    "# print(r['scores'].shape)\n",
    "# r = results[0]"
   ]
  },
  {
   "cell_type": "code",
   "execution_count": 66,
   "metadata": {
    "ExecuteTime": {
     "end_time": "2019-01-29T20:18:45.598214Z",
     "start_time": "2019-01-29T20:18:45.266534Z"
    },
    "hideCode": false,
    "hidePrompt": true
   },
   "outputs": [
    {
     "name": "stdout",
     "output_type": "stream",
     "text": [
      "(1, 7, 64, 24) 4 (1, 64, 7)\n",
      "(6, 24)\n",
      "[[ 29.      16.      50.      65.       2.       0.9482  -1.      60.       1.       0.9987]\n",
      " [ 78.      63.      99.     112.       2.       0.9474   1.      59.       0.9992   0.9987]\n",
      " [ 11.       3.      28.      20.       3.       0.9902   1.      64.       1.       0.9923]\n",
      " [100.     108.     117.     125.       3.       0.9896  -1.      63.       0.9994   0.9923]\n",
      " [ 62.      84.      91.     109.       4.       0.9591  -1.      62.       1.       0.9994]\n",
      " [ 37.      19.      66.      44.       4.       0.9583   1.      61.       0.9992   0.9994]]\n",
      "(1, 128, 128, 3)\n",
      "<class 'list'>\n",
      "<class 'list'>\n",
      "<class 'numpy.ndarray'>\n",
      "<class 'numpy.ndarray'>\n",
      "<class 'numpy.ndarray'>\n",
      "<class 'numpy.ndarray'>\n"
     ]
    }
   ],
   "source": [
    "print(model_pr_hm_scores.shape, model_pr_hm_scores.ndim, model_mrcnn_detection.shape)\n",
    "pr_scores_by_img = utils.byclass_to_byimage_np(model_pr_hm_scores[0],7)\n",
    "print(pr_scores_by_img.shape)\n",
    "print(pr_scores_by_img[:,:10]) \n",
    "print(input_image.shape)\n",
    "print(type(train_batch_x))\n",
    "for i in train_batch_x :\n",
    "    print(type(i))\n",
    "# pr_scores_by_img2 = utils.byclass_to_byimage_np(model_pr_hm_scores[0,1],7)\n",
    "# print(pr_scores_by_img2.shape)\n",
    "# print(pr_scores_by_img2[:,:10]) "
   ]
  },
  {
   "cell_type": "code",
   "execution_count": 69,
   "metadata": {
    "ExecuteTime": {
     "end_time": "2019-01-29T20:21:01.041087Z",
     "start_time": "2019-01-29T20:21:00.419253Z"
    }
   },
   "outputs": [
    {
     "name": "stdout",
     "output_type": "stream",
     "text": [
      " Image_id    :  2  Reference:  [('sun', (139, 30, 119), (11, 19, 8, 8)), ('building', (41, 92, 130), (31, 51, 12, 14)), ('car', (170, 43, 151), (87, 90, 24, 12))] Coco Id: 2\n",
      " Image meta  :  [  2 128 128   3   0   0 128 128   1   1]\n",
      " Class ids   :  (3,)    [3 4 2]\n",
      " Class Names :  ['sun', 'building', 'car']\n"
     ]
    },
    {
     "data": {
      "image/png": "[encoded data removed]",
      "text/plain": [
       "<Figure size 864x864 with 1 Axes>"
      ]
     },
     "metadata": {},
     "output_type": "display_data"
    }
   ],
   "source": [
    "visualize.display_image_gt(dataset_train, mrcnn_model.config, 2)"
   ]
  },
  {
   "cell_type": "code",
   "execution_count": 72,
   "metadata": {
    "ExecuteTime": {
     "end_time": "2019-01-29T20:25:13.974312Z",
     "start_time": "2019-01-29T20:25:13.301398Z"
    },
    "hideCode": false,
    "hidePrompt": true,
    "scrolled": false
   },
   "outputs": [
    {
     "name": "stdout",
     "output_type": "stream",
     "text": [
      " display_instances() : Image shape:  (128, 128, 3)\n"
     ]
    },
    {
     "data": {
      "image/png": "[encoded data removed]",
      "text/plain": [
       "<Figure size 864x864 with 1 Axes>"
      ]
     },
     "metadata": {},
     "output_type": "display_data"
    }
   ],
   "source": [
    "# visualize.display_instances(image, r['rois'], r['class_ids'], class_names, r['scores'])\n",
    "visualize.display_instances_from_prscores(train_batch_x[0][0], pr_scores_by_img, class_names)"
   ]
  },
  {
   "cell_type": "code",
   "execution_count": null,
   "metadata": {
    "ExecuteTime": {
     "end_time": "2018-11-09T16:37:02.468839Z",
     "start_time": "2018-11-09T16:36:54.421702Z"
    },
    "scrolled": true
   },
   "outputs": [],
   "source": [
    "from mrcnn.visualize import display_heatmaps_mrcnn\n",
    "# np.unique(r['class_ids'])\n",
    "display_heatmaps_mrcnn([molded_images, image_metas], [r['pr_hm'], r['pr_hm_scores']], 0, class_ids = r['class_ids'], \n",
    "                            class_names = class_names, config = mrcnn_config)\n"
   ]
  },
  {
   "cell_type": "markdown",
   "metadata": {
    "heading_collapsed": true
   },
   "source": [
    "### 2D Plots  "
   ]
  },
  {
   "cell_type": "markdown",
   "metadata": {
    "heading_collapsed": true,
    "hidden": true
   },
   "source": [
    "####  2D plot of `model_gt_heatmap` returned from model"
   ]
  },
  {
   "cell_type": "code",
   "execution_count": null,
   "metadata": {
    "ExecuteTime": {
     "end_time": "2018-12-07T15:02:14.748915Z",
     "start_time": "2018-12-07T15:02:13.606106Z"
    },
    "hidden": true,
    "hideCode": false,
    "hideOutput": false,
    "scrolled": false
   },
   "outputs": [],
   "source": [
    "img_id = 0\n",
    "fig = visualize.plot_2d_heatmap(model_pr_hm , model_pr_hm_scores, img_id, pr_class_ids, \n",
    "                          class_names = class_names, columns = 1, scale = 4, scaling = 'all' )"
   ]
  },
  {
   "cell_type": "markdown",
   "metadata": {
    "hidden": true
   },
   "source": [
    "####  2D plot of `model_fcn_heatmap` returned from model - ALL CLASSES"
   ]
  },
  {
   "cell_type": "code",
   "execution_count": null,
   "metadata": {
    "ExecuteTime": {
     "end_time": "2018-12-01T17:47:38.133301Z",
     "start_time": "2018-12-01T17:47:37.790058Z"
    },
    "hidden": true,
    "hideCode": false,
    "hideOutput": false,
    "scrolled": false
   },
   "outputs": [],
   "source": [
    "# fig = visualize.plot_2d_heatmap(model_pr_hm, model_pr_hm_scores, img_id,\n",
    "#                                 class_names = class_names, columns = 3, scale = 4, scaling = 'all')"
   ]
  },
  {
   "cell_type": "code",
   "execution_count": null,
   "metadata": {
    "ExecuteTime": {
     "end_time": "2018-12-01T17:49:43.338057Z",
     "start_time": "2018-12-01T17:49:37.054609Z"
    },
    "hidden": true
   },
   "outputs": [],
   "source": [
    "print('Image : {}  ClassIds: {}'.format(img_id, pr_class_ids))\n",
    "visualize.plot_3d_heatmap(model_pr_hm, img_id, pr_class_ids, class_names = class_names, zlim = 'class' , scaling = 'none')"
   ]
  },
  {
   "cell_type": "code",
   "execution_count": null,
   "metadata": {
    "hidden": true
   },
   "outputs": [],
   "source": []
  },
  {
   "cell_type": "code",
   "execution_count": null,
   "metadata": {
    "hidden": true
   },
   "outputs": [],
   "source": []
  },
  {
   "cell_type": "code",
   "execution_count": null,
   "metadata": {
    "hidden": true
   },
   "outputs": [],
   "source": []
  },
  {
   "cell_type": "code",
   "execution_count": null,
   "metadata": {
    "hidden": true
   },
   "outputs": [],
   "source": []
  }
 ],
 "metadata": {
  "anaconda-cloud": {},
  "celltoolbar": "Hide code",
  "hide_code_all_hidden": true,
  "kernelspec": {
   "display_name": "Python [conda env:TF]",
   "language": "python",
   "name": "conda-env-TF-py"
  },
  "language_info": {
   "codemirror_mode": {
    "name": "ipython",
    "version": 3
   },
   "file_extension": ".py",
   "mimetype": "text/x-python",
   "name": "python",
   "nbconvert_exporter": "python",
   "pygments_lexer": "ipython3",
   "version": "3.5.6"
  },
  "toc": {
   "base_numbering": 1,
   "nav_menu": {},
   "number_sections": true,
   "sideBar": true,
   "skip_h1_title": false,
   "title_cell": "Table of Contents",
   "title_sidebar": "Contents",
   "toc_cell": false,
   "toc_position": {
    "height": "calc(100% - 180px)",
    "left": "10px",
    "top": "150px",
    "width": "165px"
   },
   "toc_section_display": true,
   "toc_window_display": false
  }
 },
 "nbformat": 4,
 "nbformat_minor": 2
}
