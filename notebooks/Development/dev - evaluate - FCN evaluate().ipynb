{
 "cells": [
  {
   "cell_type": "markdown",
   "metadata": {
    "hideCode": false,
    "hidePrompt": false
   },
   "source": [
    "## FCN -  `detect()` Process \n",
    "\n",
    "We generate the inputs to `DetectTargetLayer` , to manipulate and modify the layer to procduce a modified `output_rois` \n",
    "containing false positives. \n",
    "This will be passed on the the heatmap layer, and through there will become the input to FCN."
   ]
  },
  {
   "cell_type": "code",
   "execution_count": null,
   "metadata": {
    "ExecuteTime": {
     "start_time": "2018-12-10T20:28:51.774Z"
    }
   },
   "outputs": [
    {
     "data": {
      "text/html": [
       "<style>.container { width:95% !important; }</style>"
      ],
      "text/plain": [
       "<IPython.core.display.HTML object>"
      ]
     },
     "metadata": {},
     "output_type": "display_data"
    },
    {
     "name": "stdout",
     "output_type": "stream",
     "text": [
      "Current working dir:  E:\\git_projs\\MRCNN3\\notebooks\n",
      "appending '..' to sys.path\n"
     ]
    }
   ],
   "source": [
    "from IPython.core.display import display, HTML\n",
    "display(HTML(\"<style>.container { width:95% !important; }</style>\"))\n",
    "%matplotlib inline\n",
    "%load_ext autoreload\n",
    "%autoreload 2\n",
    "import sys,os, pprint\n",
    "pp = pprint.PrettyPrinter(indent=2, width=100)\n",
    "print('Current working dir: ', os.getcwd())\n",
    "if '..' not in sys.path:\n",
    "    print(\"appending '..' to sys.path\")\n",
    "    sys.path.append('..')\n",
    "    \n",
    "import numpy as np\n",
    "import mrcnn.utils     as utils\n",
    "import mrcnn.visualize as visualize\n",
    "from mrcnn.prep_notebook import build_fcn_evaluate_pipeline, get_evaluate_batch\n",
    "# from mrcnn.prep_notebook import get_inference_batch, get_image_batch, get_training_batch\n",
    "from mrcnn.visualize     import display_training_batch\n",
    "from mrcnn.coco          import prep_coco_dataset\n",
    "from mrcnn.datagen import data_gen_simulate\n",
    "\n",
    "input_parms  =\" --batch_size     1  \"\n",
    "input_parms +=\" --mrcnn_logs_dir train_mrcnn_coco \"\n",
    "input_parms +=\" --fcn_logs_dir   train_fcn32_adam \" \n",
    "input_parms +=\" --mrcnn_model    last \"\n",
    "input_parms +=\" --fcn_model      last \"\n",
    "input_parms +=\" --fcn_arch       fcn8 \" \n",
    "input_parms +=\" --coco_classes   78 79 80 81 82 44 46 47 48 49 50 51 34 35 36 37 38 39 40 41 42 43 10 11 13 14 15 \"\n",
    "input_parms +=\" --sysout         screen \"\n",
    "\n",
    "# input_parms = \" --epochs         2   --steps_in_epoch 32  --last_epoch 0 \"\n",
    "# input_parms +=\" --lr 0.00001     --val_steps 8 \" \n",
    "# input_parms +=\" --opt            adam \"\n",
    "# input_parms +=\" --fcn_layers     all \" \n",
    "# input_parms +=\" --new_log_folder    \"\n",
    "parser = utils.command_line_parser()\n",
    "args = parser.parse_args(input_parms.split())\n"
   ]
  },
  {
   "cell_type": "code",
   "execution_count": null,
   "metadata": {
    "ExecuteTime": {
     "end_time": "2018-12-09T13:05:41.971159Z",
     "start_time": "2018-12-09T13:05:27.029699Z"
    },
    "scrolled": true
   },
   "outputs": [],
   "source": [
    "# del mrcnn_model, fcn_model\n",
    "mrcnn_model, fcn_model = build_fcn_evaluate_pipeline(args = args,verbose = 0)\n"
   ]
  },
  {
   "cell_type": "code",
   "execution_count": null,
   "metadata": {
    "ExecuteTime": {
     "end_time": "2018-12-09T13:05:42.387970Z",
     "start_time": "2018-12-09T13:05:41.972223Z"
    },
    "scrolled": false
   },
   "outputs": [],
   "source": [
    "# mrcnn_model.config.display()\n",
    "fcn_model.keras_model.summary()"
   ]
  },
  {
   "cell_type": "markdown",
   "metadata": {},
   "source": [
    "### Load dataset"
   ]
  },
  {
   "cell_type": "code",
   "execution_count": null,
   "metadata": {
    "ExecuteTime": {
     "end_time": "2018-12-09T13:06:16.083540Z",
     "start_time": "2018-12-09T13:05:42.389033Z"
    },
    "hideCode": false,
    "hideOutput": true,
    "hidePrompt": false,
    "scrolled": true
   },
   "outputs": [],
   "source": [
    "dataset_test, test_generator = prep_coco_dataset([\"train\", 'val35k'], mrcnn_model.config, generator = True, shuffle = False, return_coco =True, load_coco_classes=args.coco_classes)\n",
    "class_names = dataset_test.class_names \n",
    "####  Display number of loaded images and class names\n",
    "print(\"Testing Dataset Image Count: {}\".format(len(dataset_test.image_ids)))\n",
    "print(\"Testing Dataset Class Count: {}\".format(dataset_test.num_classes))"
   ]
  },
  {
   "cell_type": "markdown",
   "metadata": {},
   "source": [
    "## Display Images"
   ]
  },
  {
   "cell_type": "markdown",
   "metadata": {
    "heading_collapsed": true,
    "hideCode": false,
    "hidePrompt": false
   },
   "source": [
    "### Get next image from generator and display "
   ]
  },
  {
   "cell_type": "code",
   "execution_count": null,
   "metadata": {
    "ExecuteTime": {
     "end_time": "2018-12-08T11:17:55.935665Z",
     "start_time": "2018-12-08T11:17:54.309475Z"
    },
    "hidden": true,
    "hideCode": false,
    "hideOutput": true,
    "hidePrompt": false,
    "scrolled": true
   },
   "outputs": [],
   "source": [
    "test_batch_x, test_batch_y = next(test_generator)\n",
    "display_training_batch(dataset_test, test_batch_x)"
   ]
  },
  {
   "cell_type": "markdown",
   "metadata": {
    "heading_collapsed": true
   },
   "source": [
    "### info about some images"
   ]
  },
  {
   "cell_type": "code",
   "execution_count": null,
   "metadata": {
    "ExecuteTime": {
     "end_time": "2018-11-18T10:34:20.136295Z",
     "start_time": "2018-11-18T10:34:19.846113Z"
    },
    "hidden": true,
    "hideCode": false,
    "hidePrompt": false,
    "scrolled": false
   },
   "outputs": [],
   "source": [
    "## 62642 (persons),   68539 (trucks) 36466 (surfers)  75040 (boat and persons)\n",
    "## 36466 surfers. 5498 basketbal players, 27711,30531\n",
    "## 5498 lots of motorcylces & persons - \n",
    "## Persons: #26026, #7719, 111864, 58240,  \n",
    "## 35347 - laptops, keyboards and cat\n",
    "## items = [59199 , 102868]\n",
    "## 89243: Person, bicylce and traiffic lights\n",
    "## 101623 (cake and forks), 41423 (elephant & people)\n",
    "## 33477 Table, bowl, cup, sandwich, knife\n",
    "## 26763 Table, chair, cup , bowl, bottle\n",
    "## 49316 Table, book, backpack, many bottles\n",
    "## 12902 Car , truck and traffic light tree\n",
    "## 57327 person and horses\n",
    "## 26026 -- mountain, skiers, skiboards \n",
    "##  7719 -- people, bottles, handbags\n",
    "## 27711 -- persons and boats\n",
    "## 18045 -- person     \n",
    "## 36769 -- people in meeting room with a 'giraffe'detection?\n",
    "##  8634 -- person\n",
    "## 30531 -- tennis players \n",
    "##  8645 -- two people\n",
    "## 24627 -- Pizza, bowl, cups\n",
    "# IMAGE_LIST = [75040] \n",
    "# IMAGE_LIST = [89243]\n",
    "# IMAGE_LIST = [33477]\n",
    "# IMAGE_LIST = [29731]\n",
    "# IMAGE_LIST = [26763]\n",
    "# IMAGE_LIST = [89243]  ## 89243: Person, bicylce and traiffic lights\n",
    "# IMAGE_LIST = [43168]   ## 43168 Multiple umbrella, chairs, beds\n",
    "\n",
    "# IMAGE_LIST = [18388, 64305] # , 1507]\n",
    "# IMAGE_LIST = [107639, 112710, 39775]\n",
    "# IMAGE_LIST = [24627, 33758, 6749]\n",
    "# IMAGE_LIST = [24627, 33758] # , 6749]"
   ]
  },
  {
   "cell_type": "markdown",
   "metadata": {},
   "source": [
    "### Get images using a list of image ids"
   ]
  },
  {
   "cell_type": "code",
   "execution_count": null,
   "metadata": {
    "ExecuteTime": {
     "end_time": "2018-12-09T13:27:33.804053Z",
     "start_time": "2018-12-09T13:27:31.448385Z"
    },
    "scrolled": false
   },
   "outputs": [],
   "source": [
    "# from mrcnn.prep_notebook import get_training_batch, get_inference_batch, get_evaluate_batch\n",
    "IMAGE_LIST = [2]\n",
    "eval_batch = get_evaluate_batch(dataset_test, mrcnn_model.config, generator = test_generator, display = True)\n",
    "# eval_batch = get_evaluate_batch(dataset_test, mrcnn_model.config, IMAGE_LIST, display = True)\n",
    "\n",
    "\n",
    "# image_batch = get_image_batch(dataset_test,IMAGE_LIST, display=True)\n",
    "# inference_batch, image_batch = get_inference_batch(dataset_test, mrcnn_model, IMAGE_LIST, display = True)"
   ]
  },
  {
   "cell_type": "code",
   "execution_count": null,
   "metadata": {
    "ExecuteTime": {
     "end_time": "2018-12-07T22:03:07.564662Z",
     "start_time": "2018-12-07T22:03:07.223704Z"
    }
   },
   "outputs": [],
   "source": [
    "print(type(eval_batch), len(eval_batch))\n",
    "for item in eval_batch :    \n",
    "    if isinstance(item, list):\n",
    "        print(' list ')\n",
    "        for i in item:\n",
    "            print('     ',i.shape) \n",
    "    else:\n",
    "        print(type(item), item.shape)\n",
    "print(eval_batch[2])        "
   ]
  },
  {
   "cell_type": "markdown",
   "metadata": {
    "heading_collapsed": true
   },
   "source": [
    "### Other display functions"
   ]
  },
  {
   "cell_type": "markdown",
   "metadata": {
    "heading_collapsed": true,
    "hidden": true,
    "hideCode": false,
    "hidePrompt": false
   },
   "source": [
    "#### Display top masks for sample images"
   ]
  },
  {
   "cell_type": "code",
   "execution_count": null,
   "metadata": {
    "ExecuteTime": {
     "end_time": "2018-11-16T13:53:12.121279Z",
     "start_time": "2018-11-16T13:53:08.869023Z"
    },
    "hidden": true,
    "hideCode": false,
    "hidePrompt": false
   },
   "outputs": [],
   "source": [
    "# Load and display random samples\n",
    "image_ids = np.random.choice(dataset_test.image_ids, 7)\n",
    "for image_id in image_ids:\n",
    "    image = dataset_test.load_image(image_id)\n",
    "    mask, class_ids = dataset_test.load_mask(image_id)\n",
    "    visualize.display_top_masks(image, mask, class_ids, dataset_test.class_names)"
   ]
  },
  {
   "cell_type": "markdown",
   "metadata": {
    "heading_collapsed": true,
    "hidden": true,
    "hideCode": false,
    "hidePrompt": false
   },
   "source": [
    "####  Dispaly a random image from dataset_test"
   ]
  },
  {
   "cell_type": "code",
   "execution_count": null,
   "metadata": {
    "ExecuteTime": {
     "end_time": "2018-11-16T14:26:59.219513Z",
     "start_time": "2018-11-16T14:26:57.802514Z"
    },
    "hidden": true,
    "hideCode": true,
    "hidePrompt": true
   },
   "outputs": [],
   "source": [
    "# Load random image and mask. ### 27711 persons and boats\n",
    "image_id = np.random.choice(dataset_test.image_ids)\n",
    "_ = batch_input = demo_image(dataset_test, mrcnn_model.config, image_id, masks = False)"
   ]
  },
  {
   "cell_type": "markdown",
   "metadata": {
    "heading_collapsed": true,
    "hidden": true,
    "hideCode": false,
    "hidePrompt": false
   },
   "source": [
    "#### Get an image and place into train_batch_x"
   ]
  },
  {
   "cell_type": "code",
   "execution_count": null,
   "metadata": {
    "ExecuteTime": {
     "end_time": "2018-11-18T10:35:30.022640Z",
     "start_time": "2018-11-18T10:35:27.344501Z"
    },
    "hidden": true
   },
   "outputs": [],
   "source": [
    "IMAGE_LIST= [30531]\n",
    "batch_input = get_input_batch(dataset_test, mrcnn_model.config, 30531, masks = False)"
   ]
  },
  {
   "cell_type": "markdown",
   "metadata": {
    "heading_collapsed": true,
    "hideCode": false,
    "hidePrompt": false
   },
   "source": [
    "## MRCNN detection using `mrcnn.detect()` "
   ]
  },
  {
   "cell_type": "code",
   "execution_count": null,
   "metadata": {
    "ExecuteTime": {
     "end_time": "2018-12-09T13:07:30.217791Z",
     "start_time": "2018-12-09T13:06:44.930216Z"
    },
    "hidden": true
   },
   "outputs": [],
   "source": [
    "# fcn_results = fcn_model.detect(mrcnn_model, image_batch)\n",
    "mrcnn_results = mrcnn_model.evaluate(eval_batch, verbose =1)"
   ]
  },
  {
   "cell_type": "code",
   "execution_count": null,
   "metadata": {
    "ExecuteTime": {
     "end_time": "2018-12-09T13:07:30.610656Z",
     "start_time": "2018-12-09T13:07:30.220794Z"
    },
    "hidden": true,
    "hideCode": false,
    "hidePrompt": true
   },
   "outputs": [],
   "source": [
    "float_formatter = lambda x: \"%9.4f\" % x\n",
    "np_format = {}\n",
    "np_format['float']=float_formatter\n",
    "np.set_printoptions(linewidth=195, precision=3, floatmode='fixed', threshold =10000, formatter = np_format)\n",
    "\n",
    "print(len(mrcnn_results))\n",
    "r = mrcnn_results[0]\n",
    "print(r.keys())\n",
    "for i in sorted(r.keys()):\n",
    "     print('{:20s}    {}'.format(i , r[i].shape))\n",
    "print('-----------------------------')        \n",
    "print('  image_meta     : ', r[\"image_meta\"].shape, r[\"image_meta\"][:11] )\n",
    "print('  rois           : ', r['rois'].shape)\n",
    "# print(r['rois'])\n",
    "print('  class ids      : ', r['class_ids'].shape, r['class_ids'])\n",
    "print('  scores         : ', r['scores'].shape)\n",
    "print('  pr_heatmap     : ', r['pr_hm'].shape) \n",
    "print('  detection_ind  : ', r['detection_ind'].shape, r['detection_ind'])\n",
    "print('  pr_scores      : ', r['pr_scores'].shape)\n",
    "# for i in r['pr_scores']:\n",
    "#     print(i[:12])\n",
    "#     print('\\t\\t\\t', i[12:18] , i[18:])\n",
    "print(r['detections'])"
   ]
  },
  {
   "cell_type": "markdown",
   "metadata": {
    "heading_collapsed": true,
    "hideCode": false,
    "hidePrompt": false
   },
   "source": [
    "## FCN detection using `fcn.detect()` "
   ]
  },
  {
   "cell_type": "code",
   "execution_count": null,
   "metadata": {
    "ExecuteTime": {
     "end_time": "2018-12-09T13:28:32.886889Z",
     "start_time": "2018-12-09T13:27:41.880773Z"
    },
    "hidden": true
   },
   "outputs": [],
   "source": [
    "# fcn_results = fcn_model.detect(mrcnn_model, image_batch)\n",
    "fcn_results = fcn_model.evaluate(mrcnn_model, eval_batch, verbose =1)"
   ]
  },
  {
   "cell_type": "code",
   "execution_count": null,
   "metadata": {
    "ExecuteTime": {
     "end_time": "2018-12-09T13:28:57.142064Z",
     "start_time": "2018-12-09T13:28:56.707757Z"
    },
    "hidden": true,
    "hideCode": false,
    "hidePrompt": true
   },
   "outputs": [],
   "source": [
    "np.set_printoptions(linewidth=180,precision=4,threshold=10000, suppress = True)\n",
    "print(len(fcn_results))\n",
    "f = fcn_results[0]\n",
    "print(f.keys())\n",
    "for i in sorted(f.keys()):\n",
    "     print('{:20s}    {}'.format(i , f[i].shape))\n",
    "# for i in r.keys():\n",
    "#     print(i , r[i].shape)\n",
    "# print('  image          : ', f[\"image\"].shape )\n",
    "# print('  image_meta     : ', f[\"image_meta\"].shape, f[\"image_meta\"][:11] )\n",
    "# print('  rois           : ', f['rois'].shape)\n",
    "# print(f['rois'])\n",
    "# print('  class ids      : ', f['class_ids'].shape, f['class_ids'])\n",
    "# print('  scores         : ', f['mrcnn_scores'].shape)\n",
    "# print('  pr_heatmap     : ', f['pr_hm'].shape)\n",
    "print('  fcn_hm         : ', f['fcn_hm'].shape)\n",
    "print('  fcn_sm         : ', f['fcn_sm'].shape)\n",
    "# print('  pr_scores      : ', f['pr_scores'].shape)\n",
    "print('  pr_scores  : ')\n",
    "print(f['pr_scores'][:,:10])\n",
    "print('  fcn_scores:',f['fcn_scores'].shape)\n",
    "# print('  fcn_scores  : ')\n",
    "print(f['fcn_scores'])\n",
    "# \n",
    "# print('  pr_scores_by_class:',r['pr_scores_by_class'].shape)\n",
    "# print(r['pr_scores_by_class'][ r['class_ids'],:10])\n",
    "# print('  fcn_scores_by_class:',r['fcn_scores_by_class'].shape)\n",
    "# print(r['fcn_scores_by_class'][ r['class_ids'],:10])\n",
    "# print(f['detections'])\n"
   ]
  },
  {
   "cell_type": "markdown",
   "metadata": {
    "hidden": true
   },
   "source": [
    "### Display FCN detections"
   ]
  },
  {
   "cell_type": "code",
   "execution_count": null,
   "metadata": {
    "ExecuteTime": {
     "end_time": "2018-12-09T13:29:18.950185Z",
     "start_time": "2018-12-09T13:29:18.516879Z"
    },
    "hidden": true
   },
   "outputs": [],
   "source": [
    "np_format = {}\n",
    "float_formatter = lambda x: \"%10.4f\" % x\n",
    "int_formatter   = lambda x: \"%10d\" % x\n",
    "np_format['float'] = float_formatter\n",
    "np_format['int']   = int_formatter\n",
    "np.set_printoptions(linewidth=195, precision=4, floatmode='fixed', threshold =10000, formatter = np_format)"
   ]
  },
  {
   "cell_type": "code",
   "execution_count": null,
   "metadata": {
    "hidden": true
   },
   "outputs": [],
   "source": [
    "# float_formatter = lambda x: \"%10.4f\" % x\n",
    "# np_format = {}\n",
    "# np_format['float']=float_formatter\n",
    "# np.set_printoptions(linewidth=195, precision=3, floatmode='fixed', threshold =10000, formatter = np_format)\n",
    "# for i in range(results[0]['pr_scores'].shape[0]):\n",
    "#     print(results[0]['pr_scores'][i,7:])"
   ]
  },
  {
   "cell_type": "code",
   "execution_count": null,
   "metadata": {
    "ExecuteTime": {
     "end_time": "2018-12-09T13:29:21.241808Z",
     "start_time": "2018-12-09T13:29:20.664398Z"
    },
    "hidden": true,
    "scrolled": false
   },
   "outputs": [],
   "source": [
    "for i, [molded_bbox, cls, scr, pr_scr, fcn_scr] in enumerate(zip(f['molded_rois'].astype(np.int), f['class_ids'],  f['scores'], f['pr_scores'], f['fcn_scores'])):\n",
    "    \n",
    "    print('{} {} {:2d}  {:.<18s}  {:5.4f} {}  '.format(i, molded_bbox, cls, dataset_test.class_names[cls], scr, fcn_scr[[4,5,6,7,8]]))\n",
    "    print('{:>86s} {}'.format(' mrcnn old style scores:  ',  pr_scr[[9,10,11]]))\n",
    "    print('{:>86s} {}'.format('   fcn old style scores:  ', fcn_scr[[9,10,11]]))\n",
    "    print()\n",
    "    print('{:>86s} {}'.format('      mrcnn alt scores1:  ', pr_scr[[12,13,14,15,16,17]]))\n",
    "    print('{:>86s} {}'.format('        fcn alt scores1:  ', fcn_scr[[12,13,14,15,16,17]]))\n",
    "    print()\n",
    "    print('{:>86s} {}'.format('          mrcnn_scores2:  ', pr_scr[[18,19,20,21,22,23]]))\n",
    "    print('{:>86s} {}'.format('            fcn_scores2:  ', fcn_scr[[18,19,20,21,22,23]]))\n",
    "    print()"
   ]
  },
  {
   "cell_type": "markdown",
   "metadata": {
    "hidden": true
   },
   "source": [
    "#### detections as returned from the model's `detect()` functon"
   ]
  },
  {
   "cell_type": "code",
   "execution_count": null,
   "metadata": {
    "ExecuteTime": {
     "end_time": "2018-12-09T13:30:28.565479Z",
     "start_time": "2018-12-09T13:30:28.188229Z"
    },
    "hidden": true
   },
   "outputs": [],
   "source": [
    "lmt =15\n",
    "f = fcn_results[0]\n",
    "print('       classes :', f['class_ids'][:lmt])\n",
    "names  = \" \".join([ '{:>10s}'.format(class_names[i][-10:]) for i in f['class_ids'][:lmt]])\n",
    "\n",
    "print('               : ', names)\n",
    "print('                ', f['detection_ind'][:lmt])\n",
    "print('   orig scores :',f['scores'][:lmt])\n",
    "print('   norm scores :', f['pr_scores'][:lmt,8])\n",
    "# print('  pr_scores[5] :', f['pr_scores'][:,5])\n",
    "\n",
    "print('-'*185)\n",
    "print('    pr_scrs[8] :', f['pr_scores'][:lmt,11])\n",
    "print(' fcn_scores[8] :', f['fcn_scores'][:lmt,11])\n",
    "print()\n",
    "print(' pr_scores[13] :', f['pr_scores'][:lmt,14])\n",
    "print('fcn_scores[13] :', f['fcn_scores'][:lmt,14])\n",
    "print()\n",
    "print(' pr_scores[19] :', f['pr_scores'][:lmt,20])\n",
    "print('fcn_scores[19] :', f['fcn_scores'][:lmt,20])"
   ]
  },
  {
   "cell_type": "code",
   "execution_count": null,
   "metadata": {
    "hidden": true,
    "hideCode": true,
    "hidePrompt": true
   },
   "outputs": [],
   "source": [
    " "
   ]
  },
  {
   "cell_type": "code",
   "execution_count": null,
   "metadata": {
    "ExecuteTime": {
     "end_time": "2018-12-09T13:08:59.786353Z",
     "start_time": "2018-12-09T13:08:59.351811Z"
    },
    "hidden": true,
    "scrolled": false
   },
   "outputs": [],
   "source": [
    "# r = results[0]\n",
    "print(f['detections'].shape)\n",
    "print('   old_scores: (gauss. sum over large bbox/bbox area/ gauss_sum * normlzd_score))')\n",
    "print('  alt_scores 1: (gauss. sum over small mask/mask area/ gauss_sum / mask_area):  ')\n",
    "sort_by_class_order = np.argsort(f['class_ids'])\n",
    "\n",
    "\n",
    "# for i in range(len( f['class_ids'])):\n",
    "for i in sort_by_class_order:\n",
    "#     print(i , f['rois'][i].astype(np.float), f['scores'][i], f['class_ids'][i], class_names[f['class_ids'][i]])\n",
    "#     print(i , f['detections'][i], f['class_ids'][i], class_names[f['class_ids'][i]])\n",
    "    det_type = '       --> ADDED FP ' if f['pr_scores'][i,6] == -1 else '      Original detection'\n",
    "    print(i , f['pr_scores'][i,:9], f['pr_scores'][i,4], class_names[ f['pr_scores'][i,4].astype(np.int)], det_type) \n",
    "    print()\n",
    "    print(i , 'pr: old_scores [9,10,11]:  '.rjust(90), f['pr_scores'][i,9:12])    \n",
    "    print(i , '  alt_scores 1 [12 - 17]:  '.rjust(90), f['pr_scores'][i,12:18])    \n",
    "    print(i , '  alt_scores 2 [18 - 23]:  '.rjust(90), f['pr_scores'][i,18:23])    \n",
    "    print(i)\n",
    "#     print(i , f['fcn_scores'][i,:8], f['fcn_scores'][i,4], class_names[ f['fcn_scores'][i,4].astype(np.int)])    \n",
    "    print(i , 'fcn: old_scores [9,10,11]:  '.rjust(90), f['fcn_scores'][i,9:12])    \n",
    "    print(i ,  '  alt_scores 1 [12 - 17]:  '.rjust(90), f['fcn_scores'][i,12:18])    \n",
    "    print(i ,  '  alt_scores 2 [18 - 23]:  '.rjust(90), f['fcn_scores'][i,18:23])    \n",
    "    print()\n",
    "    print(i , '  old score [11]:  '.rjust(90), ' from mrcnn:{:10.4f}  from FCN: {:10.4f} '.format(f['pr_scores'][i,11] ,f['fcn_scores'][i,11]))\n",
    "    print(i , 'alt score 1 [14]:  '.rjust(90), ' from mrcnn:{:10.4f}  from FCN: {:10.4f} '.format(f['pr_scores'][i,14],f['fcn_scores'][i,14]))\n",
    "    print(i , 'alt score 2 [20]:  '.rjust(90), ' from mrcnn:{:10.4f}  from FCN: {:10.4f} '.format(f['pr_scores'][i,20],f['fcn_scores'][i,20]))\n",
    "    print()"
   ]
  },
  {
   "cell_type": "code",
   "execution_count": null,
   "metadata": {
    "hidden": true
   },
   "outputs": [],
   "source": []
  },
  {
   "cell_type": "code",
   "execution_count": null,
   "metadata": {
    "ExecuteTime": {
     "end_time": "2018-12-08T12:22:57.812704Z",
     "start_time": "2018-12-08T12:22:56.743918Z"
    },
    "hidden": true
   },
   "outputs": [],
   "source": [
    "f = fcn_results[0]\n",
    "print('Image Meta: ', f['image_meta'][:10])\n",
    "visualize.display_instances(f['image'], f['rois'],  f['class_ids'], dataset_test.class_names, f['scores'], only_classes=[27],\n",
    "                             title=\"MRCNN Predictions\", score_range=(0.0, 1.7))\n"
   ]
  },
  {
   "cell_type": "code",
   "execution_count": null,
   "metadata": {
    "hidden": true
   },
   "outputs": [],
   "source": []
  },
  {
   "cell_type": "code",
   "execution_count": null,
   "metadata": {
    "ExecuteTime": {
     "end_time": "2018-12-08T12:23:36.822077Z",
     "start_time": "2018-12-08T12:23:33.264760Z"
    },
    "hidden": true,
    "scrolled": false
   },
   "outputs": [],
   "source": [
    "#### Display detections\n",
    "## old_score   : 11\n",
    "## alt_score_1 : 14\n",
    "## alt_score_2 : 20\n",
    "from mrcnn.utils import log # Display results\n",
    "# ax = visualize.get_ax(rows =1, cols = 1, size= 20)\n",
    "r = fcn_results[0]\n",
    "clses = [27]\n",
    "class_ids = np.unique(r['pr_scores'][:,4]).astype(int).tolist()\n",
    "print('class ids: ', class_ids)\n",
    "print('Image Meta: ', r['image_meta'][:10])\n",
    "\n",
    "# visualize.display_instances(r['image'], r['rois'],  r['class_ids'], dataset_test.class_names, r['scores'], title=\"Predictions\", score_range=(0.7, 0.99), size = 24)\n",
    "# visualize.display_instances(r['image'], r['rois'],  r['class_ids'], class_names, r['scores'], title=\"Predictions\", score_range=(0.0, 0.99), only_classes= [42], size = 24)\n",
    "visualize.display_instances_two_scores(r['image'], r['rois'], r['class_ids'], class_names, r['pr_scores'][:,11], r['fcn_scores'][:,11],title=\"Predictions\", only_classes=clses,size = 28)\n",
    "visualize.display_instances_two_scores(r['image'], r['rois'], r['class_ids'], class_names, r['pr_scores'][:,14], r['fcn_scores'][:,14],title=\"Predictions\", only_classes=clses,size = 28)\n",
    "visualize.display_instances_two_scores(r['image'], r['rois'], r['class_ids'], class_names, r['pr_scores'][:,20], r['fcn_scores'][:,20],title=\"Predictions\", only_classes=clses,size = 28)"
   ]
  },
  {
   "cell_type": "code",
   "execution_count": null,
   "metadata": {
    "hidden": true
   },
   "outputs": [],
   "source": []
  },
  {
   "cell_type": "code",
   "execution_count": null,
   "metadata": {
    "hidden": true
   },
   "outputs": [],
   "source": []
  },
  {
   "cell_type": "code",
   "execution_count": null,
   "metadata": {
    "hidden": true
   },
   "outputs": [],
   "source": []
  },
  {
   "cell_type": "markdown",
   "metadata": {
    "heading_collapsed": true
   },
   "source": [
    "# Display Heatmaps"
   ]
  },
  {
   "cell_type": "code",
   "execution_count": null,
   "metadata": {
    "ExecuteTime": {
     "end_time": "2018-12-09T13:11:17.968525Z",
     "start_time": "2018-12-09T13:11:17.639342Z"
    },
    "hidden": true,
    "hideCode": false,
    "hideOutput": false,
    "scrolled": true
   },
   "outputs": [],
   "source": [
    "from mrcnn.visualize import (plot_one_bbox_heatmap, \n",
    "                             plot_3d_heatmap, plot_2d_heatmap, \n",
    "                              plot_2d_heatmap_compare, plot_3d_heatmap_compare)\n",
    "# import matplotlib as plt\n",
    "# %matplotlib inline\n",
    "img_id = 0\n",
    "image_id=f['image_meta'][0]\n",
    "print('Image id: ',image_id, ' Coco ID: ', dataset_test.image_info[image_id]['id'])\n",
    "print(f['pr_scores'][:,4])\n",
    "coco_class_names = dataset_test.class_names\n",
    "pr_class_ids = np.unique(f['pr_scores'][:,4]).astype(int).tolist()\n",
    "fcn_class_ids = np.unique(f['fcn_scores'][:,4]).astype(int).tolist()\n",
    "print('Pred class ids: ', pr_class_ids)\n",
    "print('FCN  class ids: ', fcn_class_ids)"
   ]
  },
  {
   "cell_type": "code",
   "execution_count": null,
   "metadata": {
    "hidden": true
   },
   "outputs": [],
   "source": []
  },
  {
   "cell_type": "markdown",
   "metadata": {
    "hidden": true
   },
   "source": [
    "## 2D plots"
   ]
  },
  {
   "cell_type": "code",
   "execution_count": null,
   "metadata": {
    "ExecuteTime": {
     "end_time": "2018-12-09T13:14:10.056378Z",
     "start_time": "2018-12-09T13:14:08.418280Z"
    },
    "hidden": true
   },
   "outputs": [],
   "source": [
    "# visualize.plot_2d_gaussian(np.sum(r['pr_hm'], axis=-1)\n",
    "fig = visualize.plot_2d_heatmap(r['pr_hm'], r['pr_hm_scores'], 0, class_ids = pr_class_ids,\n",
    "                                class_names = class_names, columns = 4, scale = 4, scaling = 'none')"
   ]
  },
  {
   "cell_type": "markdown",
   "metadata": {
    "hidden": true
   },
   "source": [
    "###   FCN heatmaps"
   ]
  },
  {
   "cell_type": "code",
   "execution_count": null,
   "metadata": {
    "ExecuteTime": {
     "end_time": "2018-12-09T13:11:43.725444Z",
     "start_time": "2018-12-09T13:11:23.178036Z"
    },
    "hidden": true,
    "scrolled": false
   },
   "outputs": [],
   "source": [
    "fig = visualize.plot_2d_heatmap(f['fcn_hm'], f['fcn_scores_by_class'], 0,\n",
    "                                class_names = class_names, columns = 4, scale = 4, scaling = 'class')"
   ]
  },
  {
   "cell_type": "markdown",
   "metadata": {
    "heading_collapsed": true,
    "hidden": true
   },
   "source": [
    "## Display Images overlaid with heatmaps"
   ]
  },
  {
   "cell_type": "markdown",
   "metadata": {
    "heading_collapsed": true,
    "hidden": true
   },
   "source": [
    "### Overlay image with pred_heatmaps"
   ]
  },
  {
   "cell_type": "code",
   "execution_count": null,
   "metadata": {
    "ExecuteTime": {
     "end_time": "2018-12-07T22:08:09.742795Z",
     "start_time": "2018-12-07T22:08:02.586758Z"
    },
    "hidden": true,
    "scrolled": false
   },
   "outputs": [],
   "source": [
    "from mrcnn.visualize import display_heatmaps, display_heatmaps_fcn, display_heatmaps_mrcnn, inference_heatmaps_display\n",
    "# visualize.display_image_bw(image)\n",
    "# print(model_gt_heatmap_scores.shape)\n",
    "class_ids = np.unique(f['pr_scores'][:,4]).astype(int).tolist()\n",
    "print('class ids: ', class_ids)\n",
    "inference_heatmaps_display(fcn_results, 0, class_ids = class_ids, class_names = coco_class_names, hm = 'pr_hm' ,config = mrcnn_model.config, scaling = 'class') \n",
    "# , display_heatmaps_mrcnn(train_batch_x, model_output, 0, hm = 'pr',  \n",
    "#                      config = mrcnn_config, class_ids = class_ids)"
   ]
  },
  {
   "cell_type": "markdown",
   "metadata": {
    "heading_collapsed": true,
    "hidden": true
   },
   "source": [
    "### Overlay image with fcn_heatmaps"
   ]
  },
  {
   "cell_type": "code",
   "execution_count": null,
   "metadata": {
    "ExecuteTime": {
     "end_time": "2018-12-08T11:34:19.143568Z",
     "start_time": "2018-12-08T11:34:13.755978Z"
    },
    "hidden": true,
    "scrolled": false
   },
   "outputs": [],
   "source": [
    "from mrcnn.visualize import display_heatmaps, display_heatmaps_fcn, display_heatmaps_mrcnn, inference_heatmaps_display\n",
    "# visualize.display_image_bw(image)\n",
    "# print(model_gt_heatmap_scores.shape)\n",
    "class_ids = np.unique(f['pr_scores'][:,4]).astype(int).tolist()\n",
    "print('class ids: ', class_ids)\n",
    "inference_heatmaps_display(fcn_results, 0, class_ids = class_ids, class_names = coco_class_names, hm = 'fcn_hm' ,config = mrcnn_model.config, scaling = 'class') \n",
    "# , display_heatmaps_mrcnn(train_batch_x, model_output, 0, hm = 'pr',  "
   ]
  },
  {
   "cell_type": "markdown",
   "metadata": {
    "heading_collapsed": true,
    "hidden": true
   },
   "source": [
    "### Overlay image with pr_heatmaps and fcn_heatmaps"
   ]
  },
  {
   "cell_type": "code",
   "execution_count": null,
   "metadata": {
    "ExecuteTime": {
     "end_time": "2018-12-08T11:34:44.350772Z",
     "start_time": "2018-12-08T11:34:34.509509Z"
    },
    "hidden": true,
    "scrolled": false
   },
   "outputs": [],
   "source": [
    "visualize.inference_heatmaps_compare(fcn_results, image_id = 0 , hm = 'fcn_hm', \n",
    "                     config = mrcnn_model.config, class_ids = pr_class_ids, class_names = coco_class_names, scaling = 'each')"
   ]
  },
  {
   "cell_type": "markdown",
   "metadata": {
    "heading_collapsed": true,
    "hidden": true
   },
   "source": [
    "##  3D Plots"
   ]
  },
  {
   "cell_type": "markdown",
   "metadata": {
    "hidden": true
   },
   "source": [
    "####  3D plot of `fcn_heatmap` returned form model - classes predicted by MRCNN only "
   ]
  },
  {
   "cell_type": "code",
   "execution_count": null,
   "metadata": {
    "ExecuteTime": {
     "end_time": "2018-12-07T19:04:30.412909Z",
     "start_time": "2018-12-07T19:04:30.068287Z"
    },
    "hidden": true,
    "scrolled": false
   },
   "outputs": [],
   "source": [
    "print(np.max(f['fcn_hm']), np.min(f['fcn_hm']))\n",
    "\n",
    "print(f['fcn_hm'].shape)\n",
    "class_ids = np.unique(f['pr_scores'][:,4]).astype(int).tolist()\n",
    "print('Image : {}  ClassIds: {}'.format(img_id, class_ids))\n",
    "# plot_3d_heatmap(f['fcn_hm'], 0, class_ids,class_names = coco_class_names, scaling = 'none')"
   ]
  },
  {
   "cell_type": "markdown",
   "metadata": {
    "hidden": true
   },
   "source": [
    "####  3D plot of `fcn_softmax` returned form model - only classes in pred_scores"
   ]
  },
  {
   "cell_type": "code",
   "execution_count": null,
   "metadata": {
    "ExecuteTime": {
     "end_time": "2018-12-08T12:29:37.280088Z",
     "start_time": "2018-12-08T12:29:31.897097Z"
    },
    "hidden": true,
    "hideCode": false,
    "hideOutput": false,
    "scrolled": false
   },
   "outputs": [],
   "source": [
    "for img_id in [0]: ##range(mrcnn_config.BATCH_SIZE):\n",
    "    print(f['fcn_hm'].shape)\n",
    "    class_ids = np.unique(f['pr_scores'][:,4]).astype(int).tolist()\n",
    "    print('Image : {}  ClassIds: {}'.format(img_id, class_ids))\n",
    "    plot_3d_heatmap(f['fcn_sm'], 0, class_ids,class_names = coco_class_names, scaling = 'none', columns = 1)"
   ]
  },
  {
   "cell_type": "code",
   "execution_count": null,
   "metadata": {
    "hidden": true
   },
   "outputs": [],
   "source": []
  },
  {
   "cell_type": "code",
   "execution_count": null,
   "metadata": {
    "hidden": true
   },
   "outputs": [],
   "source": []
  },
  {
   "cell_type": "markdown",
   "metadata": {
    "heading_collapsed": true,
    "hidden": true,
    "hideCode": false,
    "hidePrompt": true
   },
   "source": [
    "## Display results from `detect()`"
   ]
  },
  {
   "cell_type": "markdown",
   "metadata": {
    "heading_collapsed": true,
    "hidden": true
   },
   "source": [
    "### Compare mrcnn predcited and FCN generated heatmaps from inference process"
   ]
  },
  {
   "cell_type": "code",
   "execution_count": null,
   "metadata": {
    "ExecuteTime": {
     "end_time": "2018-11-18T19:34:33.109309Z",
     "start_time": "2018-11-18T19:34:20.384189Z"
    },
    "hidden": true,
    "scrolled": false
   },
   "outputs": [],
   "source": [
    "class_ids = np.arange(20)\n",
    "visualize.inference_heatmaps_compare(fcn_results, img_idx, class_ids = None, class_names=coco_class_names, hm = 'hm', config = mrcnn_model.config,scaling = 'each')"
   ]
  },
  {
   "cell_type": "code",
   "execution_count": null,
   "metadata": {
    "ExecuteTime": {
     "end_time": "2018-11-18T20:22:01.799035Z",
     "start_time": "2018-11-18T20:21:58.619846Z"
    },
    "hidden": true
   },
   "outputs": [],
   "source": [
    "img_id = 0\n",
    "r = fcn_results[img_id]\n",
    "pr_class_ids = np.unique(r['class_ids'])\n",
    "fig = visualize.plot_2d_heatmap(r['fcn_hm'], r['fcn_scores_by_class'], img_id, pr_class_ids, columns = 3, num_bboxes = 0,\n",
    "                          class_names = coco_class_names, scale = 4, scaling = 'none')"
   ]
  },
  {
   "cell_type": "markdown",
   "metadata": {
    "hidden": true
   },
   "source": [
    "####  3D comparative display `pred_heatmap` / `fcn_heatmap` "
   ]
  },
  {
   "cell_type": "code",
   "execution_count": null,
   "metadata": {
    "ExecuteTime": {
     "end_time": "2018-11-18T20:15:32.073746Z",
     "start_time": "2018-11-18T20:15:11.511888Z"
    },
    "hidden": true,
    "scrolled": false
   },
   "outputs": [],
   "source": [
    "img_id = 0\n",
    "r = fcn_results[img_id]\n",
    "print(r['pr_scores_by_class'].ndim)\n",
    "# print('Image id: ',image_id, ' Coco ID: ', dataset_train.image_info[image_id]['id'])\n",
    "pr_class_ids = np.unique(r['pr_scores_by_class'][:,:,4]).astype(int).tolist()\n",
    "print('Image : {}  Predicted    ClassIds: {}'.format(img_id, pr_class_ids))\n",
    "\n",
    "visualize.plot_3d_heatmap_compare(r['pr_hm'], r['fcn_hm'], 0, class_ids = pr_class_ids, \n",
    "                            class_names = coco_class_names, size=(8,8), zlim = 'all' , scaling = 'none')    "
   ]
  }
 ],
 "metadata": {
  "anaconda-cloud": {},
  "celltoolbar": "Hide code",
  "hide_code_all_hidden": true,
  "kernelspec": {
   "display_name": "Python [conda env:TF]",
   "language": "python",
   "name": "conda-env-TF-py"
  },
  "language_info": {
   "codemirror_mode": {
    "name": "ipython",
    "version": 3
   },
   "file_extension": ".py",
   "mimetype": "text/x-python",
   "name": "python",
   "nbconvert_exporter": "python",
   "pygments_lexer": "ipython3",
   "version": "3.5.4"
  },
  "toc": {
   "base_numbering": 1,
   "nav_menu": {},
   "number_sections": true,
   "sideBar": true,
   "skip_h1_title": false,
   "title_cell": "Table of Contents",
   "title_sidebar": "Contents",
   "toc_cell": false,
   "toc_position": {},
   "toc_section_display": true,
   "toc_window_display": false
  }
 },
 "nbformat": 4,
 "nbformat_minor": 2
}
