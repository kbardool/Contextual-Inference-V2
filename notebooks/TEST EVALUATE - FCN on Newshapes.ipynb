{
 "cells": [
  {
   "cell_type": "markdown",
   "metadata": {},
   "source": [
    "# Setup Pipeline -  (build model and load weights)"
   ]
  },
  {
   "cell_type": "code",
   "execution_count": null,
   "metadata": {
    "ExecuteTime": {
     "end_time": "2018-12-24T16:45:48.766805Z",
     "start_time": "2018-12-24T16:45:48.759799Z"
    }
   },
   "outputs": [],
   "source": [
    "# np_format = {}\n",
    "# float_formatter = lambda x: \"%10.4f\" % x\n",
    "# int_formatter   = lambda x: \"%10d\" % x\n",
    "# np_format['float'] = float_formatter\n",
    "# np_format['int']   = int_formatter\n",
    "# np.set_printoptions(linewidth=195, precision=4, floatmode='fixed', threshold =10000, formatter = np_format)"
   ]
  },
  {
   "cell_type": "code",
   "execution_count": 1,
   "metadata": {
    "ExecuteTime": {
     "end_time": "2019-02-03T14:37:40.454241Z",
     "start_time": "2019-02-03T14:37:28.436680Z"
    }
   },
   "outputs": [
    {
     "data": {
      "text/html": [
       "<style>.container { width:95% !important; }</style>"
      ],
      "text/plain": [
       "<IPython.core.display.HTML object>"
      ]
     },
     "metadata": {},
     "output_type": "display_data"
    },
    {
     "name": "stdout",
     "output_type": "stream",
     "text": [
      "Current working dir:  E:\\git_projs\\MRCNN3\\notebooks\n",
      "appending '..' to sys.path\n"
     ]
    },
    {
     "name": "stderr",
     "output_type": "stream",
     "text": [
      "Using TensorFlow backend.\n"
     ]
    }
   ],
   "source": [
    "from IPython.core.display import display, HTML\n",
    "display(HTML(\"<style>.container { width:95% !important; }</style>\"))\n",
    "# import matplotlib.pyplot as plt\n",
    "# from   mpl_toolkits.mplot3d import Axes3D\n",
    "# from importlib import reload\n",
    "# reload(plt)\n",
    "%matplotlib inline\n",
    "%load_ext autoreload\n",
    "%autoreload 2\n",
    "import sys,os, pprint, pickle\n",
    "pp = pprint.PrettyPrinter(indent=2, width=100)\n",
    "print('Current working dir: ', os.getcwd())\n",
    "if '..' not in sys.path:\n",
    "    print(\"appending '..' to sys.path\")\n",
    "    sys.path.append('..')\n",
    "    \n",
    "import numpy as np\n",
    "import mrcnn.utils     as utils\n",
    "import mrcnn.visualize as visualize\n",
    "import mrcnn.prep_notebook as prep\n",
    "from mrcnn.prep_notebook import build_fcn_evaluate_pipeline, run_mrcnn_evaluate_pipeline, get_evaluate_batch\n",
    "from mrcnn.visualize     import display_training_batch\n",
    "from mrcnn.newshapes     import prep_newshape_dataset\n",
    "from mrcnn.utils         import trim_zeros, compute_overlaps\n",
    "from mrcnn.calculate_map import update_map_dictionaries"
   ]
  },
  {
   "cell_type": "code",
   "execution_count": 2,
   "metadata": {
    "ExecuteTime": {
     "end_time": "2019-01-24T14:49:30.957614Z",
     "start_time": "2019-01-24T14:49:30.613370Z"
    }
   },
   "outputs": [
    {
     "name": "stdout",
     "output_type": "stream",
     "text": [
      "\n",
      "   Arguments passed :\n",
      "   --------------------\n",
      "   batch_size                     1\n",
      "   coco_classes                   None\n",
      "   epochs                         1\n",
      "   evaluate_method                2\n",
      "   fcn_arch                       FCN8L2\n",
      "   fcn_layers                     ['all']\n",
      "   fcn_logs_dir                   train_fcn8_l2_newshapes\n",
      "   fcn_losses                     fcn_BCE_loss\n",
      "   fcn_model                      last\n",
      "   last_epoch                     0\n",
      "   lr                             0.001\n",
      "   mrcnn_exclude_layers           None\n",
      "   mrcnn_layers                   ['mrcnn', 'fpn', 'rpn']\n",
      "   mrcnn_logs_dir                 train_mrcnn_newshapes\n",
      "   mrcnn_model                    last\n",
      "   new_log_folder                 False\n",
      "   opt                            ADAGRAD\n",
      "   scale_factor                   1\n",
      "   steps_in_epoch                 1\n",
      "   sysout                         SCREEN\n",
      "   val_steps                      1\n",
      "\n",
      "\n"
     ]
    }
   ],
   "source": [
    "##------------------------------------------------------------------------------------\n",
    "## Parse command line arguments\n",
    "##------------------------------------------------------------------------------------\n",
    "parser = utils.command_line_parser()\n",
    "input_parms  =\" --batch_size     1  \"\n",
    "input_parms +=\" --mrcnn_logs_dir train_mrcnn_newshapes \"\n",
    "# input_parms +=\" --fcn_logs_dir   train_fcn8_bce \" \n",
    "input_parms +=\" --fcn_logs_dir   train_fcn8_l2_newshapes \"\n",
    "input_parms +=\" --mrcnn_model    last \"\n",
    "input_parms +=\" --fcn_model      last \"\n",
    "input_parms +=\" --fcn_layer      all\"\n",
    "input_parms +=\" --fcn_arch       fcn8L2 \" \n",
    "input_parms +=\" --sysout         screen \"\n",
    "\n",
    "eval_method = '2'\n",
    "input_parms +=\" --evaluate_method \"+eval_method\n",
    "\n",
    "input_parms +=\" --scale_factor    1\"\n",
    "\n",
    "args = parser.parse_args(input_parms.split())\n",
    "utils.display_input_parms(args)"
   ]
  },
  {
   "cell_type": "code",
   "execution_count": 4,
   "metadata": {
    "ExecuteTime": {
     "end_time": "2019-01-24T14:59:01.130773Z",
     "start_time": "2019-01-24T14:58:41.976172Z"
    },
    "scrolled": true
   },
   "outputs": [
    {
     "name": "stdout",
     "output_type": "stream",
     "text": [
      "MODE IS: evaluate\n",
      "\n",
      "--> Execution started at: 01-24-2019 @ 15:58:42\n",
      "    Tensorflow Version: 1.8.0   Keras Version : 2.2.0 \n",
      "    Build_mrcnn_inference_pipeline_newshapes MODE is : evaluate\n",
      "\n",
      "   Arguments passed :\n",
      "   --------------------\n",
      "   batch_size                     1\n",
      "   coco_classes                   None\n",
      "   epochs                         1\n",
      "   evaluate_method                2\n",
      "   fcn_arch                       FCN8L2\n",
      "   fcn_layers                     ['all']\n",
      "   fcn_logs_dir                   train_fcn8_l2_newshapes\n",
      "   fcn_losses                     fcn_BCE_loss\n",
      "   fcn_model                      last\n",
      "   last_epoch                     0\n",
      "   lr                             0.001\n",
      "   mrcnn_exclude_layers           None\n",
      "   mrcnn_layers                   ['mrcnn', 'fpn', 'rpn']\n",
      "   mrcnn_logs_dir                 train_mrcnn_newshapes\n",
      "   mrcnn_model                    last\n",
      "   new_log_folder                 False\n",
      "   opt                            ADAGRAD\n",
      "   scale_factor                   1\n",
      "   steps_in_epoch                 1\n",
      "   sysout                         SCREEN\n",
      "   val_steps                      1\n",
      "\n",
      "\n",
      ">>> Initialize Paths\n",
      " windows  Windows\n",
      ">>> Initialize ModelBase model \n",
      "   Mode      :  evaluate\n",
      "   Model dir :  F:\\models_newshapes\\train_mrcnn_newshapes\n",
      ">>> ModelBase initialiation complete\n",
      ">>> ---Initialize MRCNN model, mode:  evaluate\n",
      " load class+predcition_info from : F:\\PretrainedModels\\newshapes_predicted_classes_info.pkl\n",
      "\n",
      "----------------------------\n",
      ">>> Resnet Graph \n",
      "----------------------------\n",
      "     Input_image shape : (?, 128, 128, 3)\n",
      "\n",
      ">>> Feature Pyramid Network (FPN) Graph \n",
      "\n",
      ">>> RPN Layer \n",
      "\n",
      ">>> RPN Outputs  <class 'list'>\n",
      "      rpn_class_logits/rpn_class_logits:0\n",
      "      rpn_class/rpn_class:0\n",
      "      rpn_bbox/rpn_bbox:0\n",
      "\n",
      ">>> Proposal Layer - generate  1000  proposals\n",
      "    Init complete. Size of anchors:  (4092, 4)\n",
      "\n",
      ">>> FPN Classifier Graph \n",
      "\n",
      ">>> Detection Layer (Evaluation Mode :2)\n",
      "    Detection Layer : call()  <class 'list'> 2\n",
      "\n",
      "--------------------------------\n",
      ">>>  CHM Inference Layer  \n",
      "--------------------------------\n",
      "  > CHM Inference Layer: call  <class 'list'> 1\n",
      "     detections.shape     : (None, 64, 7)\n",
      "\n",
      "  > build_predictions Inference mode ()\n",
      "    config image shape     :  [128 128   3] h: 128 w: 128\n",
      "    Detection Max Instacnes:  64\n",
      "    num_rois               :  64\n",
      "    num_cols               :  7\n",
      "    detected_rois.shape    :  (None, 64, 7)\n",
      "    batch_grid:  (1, 64)\n",
      "    bbox_grid :  (1, 64)\n",
      "    shape of sequence      :  <unknown>\n",
      "    pred_array             :  <unknown>\n",
      "    scatter_ind            :  (1, 64, 3)\n",
      "    pred_scatter           :  (1, 7, 64, 8)\n",
      "    - Add normalized score --\n",
      "\n",
      "    normalizer             :  (1, 7, 1)\n",
      "    norm_score             :  (1, 7, 64, 1)\n",
      "    pred_scatter           :  (1, 7, 64, 9)\n",
      "    sort_inds              :  (1, 7, 64) Keras Tensor: False\n",
      "    class_grid             :  (1, 7, 64) Keras Tensor: False\n",
      "    batch_grid             :  (1, 7, 64) Keras Tensor: False\n",
      "    roi_grid shape         :  (1, 7, 64) Keras Tensor: False\n",
      "    gather_inds            :  (1, 7, 64, 3) Keras Tensor: False\n",
      "    pred_tensor            :  (1, 7, 64, 9) Keras Tensor: False\n",
      "\n",
      " \n",
      "  > build_inference_heatmap() for  ['pred_heatmap']\n",
      "    in_tensor shape        :  (1, 7, 64, 9)\n",
      "    num bboxes per class   :  64\n",
      "    heatmap scale        :  1 Dimensions:  w: 128  h: 128\n",
      "    pt2_sum shape  :  (1, 7, 64)\n",
      "    pt2_ind shape  :  (?, 3)\n",
      "    pt2_dense shape:  (?, 9)\n",
      "    X/Y shapes : (128, 128) (128, 128)\n",
      "    Ones:     (?, 1, 1)\n",
      "    ones_exp * X (?, 1, 1) * (128, 128) =  (?, 128, 128)\n",
      "    ones_exp * Y (?, 1, 1) * (128, 128) =  (?, 128, 128)\n",
      "    pos_grid before transpse :  (?, 128, 128, 2)\n",
      "    pos_grid after transpose :  (128, 128, ?, 2)\n",
      "    >> input to MVN.PROB: pos_grid (meshgrid) shape:  (128, 128, ?, 2)\n",
      "     Prob_grid shape from mvn.probe:  (128, 128, ?)\n",
      "     Prob_grid shape after tanspose:  (?, 128, 128)\n",
      "    << output probabilities shape  :  (?, 128, 128)\n",
      "    old_style_scores        : (1, 7, 64, 3) (1, 7, 64, 3)\n",
      "    prob_grid_clipped :  (?, 128, 128)\n",
      "\n",
      "    normalization ------------------------------------------------------\n",
      "    normalizer     :  (?, 1, 1)\n",
      "    prob_grid_cns: clipped/normed/scaled :  (?, 128, 128)\n",
      "    alt_scores_1    :  (None, 3)  Keras tensor  False\n",
      "    alt_scores_1(by class)       :  (1, 7, 64, 3)  Keras tensor  False\n",
      "    alt_scores_1_norm(by_class)  :  (1, 7, 64, 3) (1, 7, 64, 3)\n",
      "\n",
      "    Scatter out the probability distributions based on class --------------\n",
      "    pt2_ind shape      :  (?, 3)\n",
      "    prob_grid_clippped :  (?, 128, 128)\n",
      "    gauss_heatmap      :  (1, 7, 64, 128, 128)\n",
      "\n",
      "    Reduce SUM based on class and normalize within each class -------------------------------------\n",
      "    gaussian_heatmap_sum :  (1, 7, 128, 128) Keras tensor  False\n",
      "    normalizer shape   :  (1, 7, 1, 1)\n",
      "    normalized heatmap :  (1, 7, 128, 128)  Keras tensor  False\n",
      "    hm_indices shape         : (?, 2) (None, 2)\n",
      "    pt2_heatmaps             : (?, 128, 128) (None, 128, 128)\n",
      "    alt_scores_2    :  (None, 3)  Keras tensor  False\n",
      "    alt_scores_2(scattered)       :  (1, 7, 64, 3)  Keras tensor  False\n",
      "    alt_scores_2_norm(by_class)  :  (1, 7, 64, 3) (1, 7, 64, 3)\n",
      "    reshaped heatmap   :  (1, 128, 128, 7)  Keras tensor  False\n",
      "    gauss_scores    :  (1, 7, 64, 24)  Keras tensor  False\n",
      "    complete\n",
      "\n",
      "    Output of CHMLayerInference: \n",
      "     pred_tensor        :  (1, 7, 64, 9) Keras tensor  False\n",
      "     pred_heatmap_norm  :  (1, 128, 128, 7) Keras tensor  False\n",
      "     pred_heatmap_scores:  (1, 7, 64, 24) Keras tensor  False\n",
      "     complete\n",
      "    shape of pr_hm        :        :  shape: (1, 128, 128, 7)      KB.shape:(None, 128, 128, 7)   Keras Tensor: True\n",
      "    shape of pr_hm_scores :        :  shape: (1, 7, 64, 24)        KB.shape:(None, 7, 64, 24)     Keras Tensor: True\n",
      "\n",
      ">>> Build MaskRCNN build complete. mode:  evaluate\n",
      ">>> MaskRCNN initialiation complete. Mode:  evaluate\n",
      "\n",
      " MRCNN Configuration Parameters \n",
      " ------------------------------ \n",
      "\n",
      "Configuration Parameters:\n",
      "-------------------------\n",
      "BACKBONE_SHAPES                [[32 32]\n",
      " [16 16]\n",
      " [ 8  8]\n",
      " [ 4  4]\n",
      " [ 2  2]]\n",
      "BACKBONE_STRIDES               [4, 8, 16, 32, 64]\n",
      "BATCH_SIZE                     1\n",
      "BBOX_STD_DEV                   [0.1 0.1 0.2 0.2]\n",
      "DETECTION_MAX_INSTANCES        64\n",
      "DETECTION_MIN_CONFIDENCE       0.1\n",
      "DETECTION_NMS_THRESHOLD        0.3\n",
      "DETECTION_PER_CLASS            64\n",
      "DIR_DATASET                    F:\\MLDatasets\n",
      "DIR_PRETRAINED                 F:\\PretrainedModels\n",
      "DIR_TRAINING                   F:\\models_newshapes\n",
      "EPOCHS_TO_RUN                  0\n",
      "EVALUATE_METHOD                2\n",
      "FCN_INPUT_SHAPE                [128 128]\n",
      "GPU_COUNT                      1\n",
      "HEATMAP_SCALE_FACTOR           1\n",
      "IMAGES_PER_GPU                 1\n",
      "IMAGE_BUFFER                   20\n",
      "IMAGE_MAX_DIM                  128\n",
      "IMAGE_MIN_DIM                  128\n",
      "IMAGE_PADDING                  True\n",
      "IMAGE_SHAPE                    [128 128   3]\n",
      "LAST_EPOCH_RAN                 0\n",
      "LEARNING_MOMENTUM              0.9\n",
      "LEARNING_RATE                  0.001\n",
      "MASK_POOL_SIZE                 14\n",
      "MASK_SHAPE                     [28, 28]\n",
      "MAX_GT_INSTANCES               100\n",
      "MAX_SHAPES_PER_IMAGE           15\n",
      "MEAN_PIXEL                     [123.7 116.8 103.9]\n",
      "MINI_MASK_SHAPE                (56, 56)\n",
      "MIN_SHAPES_PER_IMAGE           1\n",
      "NAME                           mrcnn\n",
      "NEW_LOG_FOLDER                 False\n",
      "NUM_CLASSES                    7\n",
      "POOL_SIZE                      7\n",
      "POST_NMS_ROIS_INFERENCE        1000\n",
      "POST_NMS_ROIS_TRAINING         2000\n",
      "PRED_CLASS_INFO_PATH           F:\\PretrainedModels\\newshapes_predicted_classes_info.pkl\n",
      "RESNET_MODEL_PATH              F:\\PretrainedModels\\resnet50_weights_tf_dim_ordering_tf_kernels_notop.h5\n",
      "ROI_GT_IOU_THRESHOLD           0.2\n",
      "ROI_POSITIVE_RATIO             0.33\n",
      "ROI_PROPOSAL_AREA_THRESHOLD    0\n",
      "RPN_ANCHOR_RATIOS              [0.5, 1, 2]\n",
      "RPN_ANCHOR_SCALES              (8, 16, 32, 64, 128)\n",
      "RPN_ANCHOR_STRIDE              1\n",
      "RPN_BBOX_STD_DEV               [0.1 0.1 0.2 0.2]\n",
      "RPN_NMS_THRESHOLD              0.7\n",
      "RPN_TRAIN_ANCHORS_PER_IMAGE    256\n",
      "SHAPES_MODEL_PATH              F:\\PretrainedModels\\mask_rcnn_shapes.h5\n",
      "STEPS_PER_EPOCH                100\n",
      "SYSOUT                         SCREEN\n",
      "TRAINING_PATH                  F:\\models_newshapes\\train_mrcnn_newshapes\n",
      "TRAIN_ROIS_PER_IMAGE           32\n",
      "USE_MINI_MASK                  True\n",
      "USE_RPN_ROIS                   True\n",
      "VALIDATION_STEPS               5\n",
      "VERBOSE                        0\n",
      "VGG16_MODEL_PATH               F:\\PretrainedModels\\vgg16_weights_tf_dim_ordering_tf_kernels_notop.h5\n",
      "WEIGHT_DECAY                   0.0001\n",
      "\n",
      "\n",
      "\n",
      " MRCNN IO Layers \n",
      " --------------- \n",
      " Inputs:\n",
      " -------\n",
      " index:  0    input name : input_image:0                              Type: float32           Shape: (?, 128, 128, 3)\n",
      " index:  1    input name : input_image_meta:0                         Type: float32           Shape: (?, ?)\n",
      " index:  2    input name : input_gt_class_ids:0                       Type: int32             Shape: (?, ?)\n",
      " index:  3    input name : input_gt_boxes:0                           Type: float32           Shape: (?, ?, 4)\n",
      " Outputs:\n",
      " --------\n",
      " layer:  0    output name: mrcnn_detection_evaluate/detections:0      Type: float32           Shape: <unknown>\n",
      " layer:  1    output name: ROI/rpn_roi_proposals:0                    Type: float32           Shape: (1, ?, ?)\n",
      " layer:  2    output name: mrcnn_class_lambda/mrcnn_class:0           Type: float32           Shape: (?, 1000, 7)\n",
      " layer:  3    output name: mrcnn_bbox_lambda/mrcnn_bbox:0             Type: float32           Shape: (?, 1000, 7, 4)\n",
      " layer:  4    output name: cntxt_layer/pred_heatmap:0                 Type: float32           Shape: (1, 128, 128, 7)\n",
      " layer:  5    output name: cntxt_layer/pred_heatmap_scores:0          Type: float32           Shape: (1, 7, 64, 24)\n",
      "-----------------------------------------------\n",
      " Load Model with init parm: [ last ]\n",
      " Exclude layers: \n",
      "-----------------------------------------------\n",
      " ---> last\n",
      "   Last file is : ('F:\\\\models_newshapes\\\\train_mrcnn_newshapes\\\\mrcnn20181216T0000', 'F:\\\\models_newshapes\\\\train_mrcnn_newshapes\\\\mrcnn20181216T0000\\\\mrcnn_0472.h5')\n",
      ">>> load_weights() from : F:\\models_newshapes\\train_mrcnn_newshapes\\mrcnn20181216T0000\\mrcnn_0472.h5\n",
      "    Weights file loaded: F:\\models_newshapes\\train_mrcnn_newshapes\\mrcnn20181216T0000\\mrcnn_0472.h5 \n",
      "==========================================\n",
      "MRCNN  MODEL Load weight file COMPLETE \n",
      "==========================================\n",
      ">>> Initialize Paths\n",
      " windows  Windows\n",
      "\n",
      "   Arguments passed :\n",
      "   --------------------\n",
      "   batch_size                     1\n",
      "   coco_classes                   None\n",
      "   epochs                         1\n",
      "   evaluate_method                2\n",
      "   fcn_arch                       FCN8L2\n",
      "   fcn_layers                     ['all']\n",
      "   fcn_logs_dir                   train_fcn8_l2_newshapes\n",
      "   fcn_losses                     fcn_BCE_loss\n",
      "   fcn_model                      last\n",
      "   last_epoch                     0\n",
      "   lr                             0.001\n",
      "   mrcnn_exclude_layers           None\n",
      "   mrcnn_layers                   ['mrcnn', 'fpn', 'rpn']\n",
      "   mrcnn_logs_dir                 train_mrcnn_newshapes\n",
      "   mrcnn_model                    last\n",
      "   new_log_folder                 False\n",
      "   opt                            ADAGRAD\n",
      "   scale_factor                   1\n",
      "   steps_in_epoch                 1\n",
      "   sysout                         SCREEN\n",
      "   val_steps                      1\n",
      "\n",
      "\n",
      "\n",
      "   Paths:\n",
      "   -------------------------\n",
      "COCO_DATASET_PATH              F:\\MLDatasets\\coco2014\n",
      "COCO_HEATMAP_PATH              F:\\MLDatasets\\coco2014_heatmaps\n",
      "COCO_MODEL_PATH                F:\\PretrainedModels\\mask_rcnn_coco.h5\n",
      "DIR_DATASET                    F:\\MLDatasets\n",
      "DIR_PRETRAINED                 F:\\PretrainedModels\n",
      "DIR_ROOT                       F:\\\n",
      "DIR_TRAINING                   F:\\models_newshapes\n",
      "FCN_TRAINING_PATH              F:\\models_newshapes\\train_fcn8_l2_newshapes\n",
      "FCN_VGG16_MODEL_PATH           F:\\PretrainedModels\\fcn_vgg16_weights_tf_dim_ordering_tf_kernels.h5\n",
      "MRCNN_TRAINING_PATH            F:\\models_newshapes\\train_mrcnn_newshapes\n",
      "RESNET_MODEL_PATH              F:\\PretrainedModels\\resnet50_weights_tf_dim_ordering_tf_kernels_notop.h5\n",
      "SHAPES_MODEL_PATH              F:\\PretrainedModels\\mask_rcnn_shapes.h5\n",
      "VGG16_MODEL_PATH               F:\\PretrainedModels\\vgg16_weights_tf_dim_ordering_tf_kernels_notop.h5\n",
      "\n",
      ">>> Initialize ModelBase model \n",
      "   Mode      :  inference\n",
      "   Model dir :  F:\\models_newshapes\\train_fcn8_l2_newshapes\n",
      ">>> ModelBase initialiation complete\n",
      ">>> Initialize FCN model, mode:  inference architecture:  FCN8L2\n",
      "    arch set to FCN8 - with L2 Regularization\n",
      "<function fcn8_l2_graph at 0x0000001266B1BEA0>\n",
      "\n",
      "\n",
      "---------------------------------------------------\n",
      " Build FCN Model -  Arch:  FCN8L2  mode:  inference\n",
      "---------------------------------------------------\n",
      "\n",
      "------------------------------------------------------\n",
      ">>> FCN8L2 Layer With Regularization - mode: inference\n",
      "------------------------------------------------------\n",
      "     feature map      : (?, 128, 128, 7)\n",
      "     height : 128 width : 128 classes : 7\n",
      "     image_data_format:  channels_last\n",
      "     rois_per_class   :  channels_last\n",
      "     FCN L2 weight decay :  0.0001\n",
      "     Set learning phase to : 0\n",
      "   Input feature map                   :  (?, 128, 128, 7)\n",
      "   FCN Block 11 shape is               :  (None, 128, 128, 64)\n",
      "   FCN Block 12 shape is               :  (None, 128, 128, 64)\n",
      "   FCN Block 13 (Max pooling) shape is :  (None, 64, 64, 64)\n",
      "   FCN Block 21 shape is               :  (?, 64, 64, 128)\n",
      "   FCN Block 22 shape is               :  (None, 64, 64, 128)\n",
      "   FCN Block 23 (Max pooling) shape is :  (None, 32, 32, 128)\n",
      "   FCN Block 31 shape is               :  (None, 32, 32, 256)\n",
      "   FCN Block 32 shape is               :  (None, 32, 32, 256)\n"
     ]
    },
    {
     "name": "stdout",
     "output_type": "stream",
     "text": [
      "   FCN Block 33 shape is               :  (None, 32, 32, 256)\n",
      "   FCN Block 34 (Max pooling) shape is :  (?, 16, 16, 256)\n",
      "   FCN Block 41 shape is               :  (None, 16, 16, 512)\n",
      "   FCN Block 42 shape is               :  (None, 16, 16, 512)\n",
      "   FCN Block 43 shape is               :  (None, 16, 16, 512)\n",
      "   FCN Block 44 (Max pooling) shape is :  (?, 8, 8, 512)\n",
      "   FCN Block 51 shape is               :  (None, 8, 8, 512)\n",
      "   FCN Block 52 shape is               :  (None, 8, 8, 512)\n",
      "   FCN Block 53 shape is               :  (None, 8, 8, 512)\n",
      "   FCN Block 54 (Max pooling) shape is :  (None, 4, 4, 512)\n",
      "\n",
      "   --- FCN32 ----------------------------\n",
      "   FCN fully connected 1 (fc1) shape   :  (None, 4, 4, 4096)\n",
      "***** Call to Dropout Layer : Training is :  None\n",
      "***** in_train_phase() : Use_learning_phase:  True\n",
      "   FCN fully connected 2 (fc2) shape   :  (None, 4, 4, 4096)\n",
      "***** Call to Dropout Layer : Training is :  None\n",
      "***** in_train_phase() : Use_learning_phase:  True\n",
      "   FCN conv2d (fcn32_deconv2D) shape   :  (?, 4, 4, 7)  keras_tensor  True\n",
      "\n",
      "   --- FCN16 ----------------------------\n",
      "   FCN scorePool4 (Conv2D(Pool4)) shape is                   :  (None, 8, 8, 7)    keras_tensor  True\n",
      "   FCN 2x Upsampling (Deconvolution2D(fcn32_classify)) shape :  (None, 10, 10, 7)    keras_tensor  True\n",
      "   FCN 2x Upsampling/Cropped (Cropped2D(score2)) shape       :  (None, 8, 8, 7)    keras_tensor  True\n",
      "   FCN Add Score2,scorePool4 Add(score2_c, scorePool4) shape :  (None, 8, 8, 7)    keras_tensor  True\n",
      "   FCN upscore_pool4 (Deconv(fuse_Pool4)) shape              :  (None, 16, 16, 7)    keras_tensor  True\n",
      "\n",
      "   --- FCN8 ----------------------------\n",
      "   FCN scorePool4 (Conv2D(Pool4)) shape                      :  (None, 16, 16, 7)    keras_tensor  True\n",
      "   FCN 2x Upsampling/Cropped (Cropped2D(score2)) shape       :  (None, 16, 16, 7)    keras_tensor  True\n",
      "   FCN Add Score2,scorePool4 shape is                        :  (None, 16, 16, 7)    keras_tensor  True\n",
      "    FCN fcn8_classify/heatmap  (Deconv(fuse_Pool4)):  shape: (?, 128, 128, 7)      KB.shape:(None, 128, 128, 7)   Keras Tensor: True\n",
      "    fcn_hm (final)                 :  shape: (?, 128, 128, 7)      KB.shape:(None, 128, 128, 7)   Keras Tensor: True\n",
      "\n",
      "    fcn8_softmax                   :  shape: (?, 128, 128, 7)      KB.shape:(None, 128, 128, 7)   Keras Tensor: True\n",
      "    fcn_sm (final)                 :  shape: (?, 128, 128, 7)      KB.shape:(None, 128, 128, 7)   Keras Tensor: True\n",
      "\n",
      "\n",
      " \n",
      "----------------------\n",
      ">>> FCN Scoring Layer - mode: inference\n",
      "----------------------\n",
      "    in_heatmap.shape               :  shape: (?, 128, 128, 7)      KB.shape:(None, 128, 128, 7)   Keras Tensor: True\n",
      "    pr_hm_scores.shape             :  shape: (?, 7, 64, 24)        KB.shape:(None, 7, 64, 24)     Keras Tensor: True\n",
      "    detctions_per_image :  64 pr_scores shape (?, 7, 64, 24)\n",
      "    rois_per_image      :  64\n",
      "    config.DETECTION_MAX_INSTANCES   :  64\n",
      "    config.DETECTIONS_PER_CLASS      :  64\n",
      "    sequence_column                  :  7\n",
      "    norm_score_column                :  8\n",
      "    in_heatmap                     :  shape: (?, 128, 128, 7)      KB.shape:(None, 128, 128, 7)   Keras Tensor: True\n",
      "    pr_scores.shape                :  shape: (?, 7, 64, 24)        KB.shape:(None, 7, 64, 24)     Keras Tensor: True\n",
      "    pt2_sum shape                  :  shape: (?, 7, 64)            KB.shape:(None, 7, 64)         Keras Tensor: False\n",
      "    pt2_ind shape                  :  shape: (?, 3)                KB.shape:(None, 3)             Keras Tensor: False\n",
      "    pt2_dense shape                :  shape: (?, 24)               KB.shape:(None, 24)            Keras Tensor: False\n",
      "    hm_indices                     :  shape: (?, 2)                KB.shape:(None, 2)             Keras Tensor: False\n",
      "    pt2_heatmaps                   :  shape: (?, 7, 128, 128)      KB.shape:(None, 7, 128, 128)   Keras Tensor: False\n",
      "    pt2_heatmaps                   :  shape: (?, 128, 128)         KB.shape:(None, 128, 128)      Keras Tensor: False\n",
      "    old_style_scores               :  shape: (?, 3)                KB.shape:(None, 3)             Keras Tensor: False\n",
      "    alt_scores_1                   :  shape: (?, 3)                KB.shape:(None, 3)             Keras Tensor: False\n",
      "    alt_scores_1_scattered         :  shape: (1, 7, 64, 3)         KB.shape:(1, 7, 64, 3)         Keras Tensor: False\n",
      "    alt_scores_1_norm(by_class)    :  shape: (1, 7, 64, 3)         KB.shape:(1, 7, 64, 3)         Keras Tensor: False\n",
      "    alt_scores_1_norm(by_image)    :  shape: (?, 3)                KB.shape:(None, 3)             Keras Tensor: False\n",
      "\n",
      "    Normalize heatmap within each class !-------------------------------------\n",
      "    in_heatmap_norm :  (?, 7, 128, 128) Keras tensor  False\n",
      "    normalizer shape   :  (?, 7, 1, 1)\n",
      "    normalized heatmap :  (?, 7, 128, 128)  Keras tensor  False\n",
      "    hm_indices shape               :  shape: (?, 2)                KB.shape:(None, 2)             Keras Tensor: False\n",
      "    pt2_heatmaps                   :  shape: (?, 128, 128)         KB.shape:(None, 128, 128)      Keras Tensor: False\n",
      "    alt_scores_2                   :  shape: (?, 3)                KB.shape:(None, 3)             Keras Tensor: False\n",
      "    alt_scores_2(scattered)        :  shape: (1, 7, 64, 3)         KB.shape:(1, 7, 64, 3)         Keras Tensor: False\n",
      "    alt_scores_2_norm(by_class)    :  shape: (1, 7, 64, 3)         KB.shape:(1, 7, 64, 3)         Keras Tensor: False\n",
      "    alt_scores_2_norm(by_image)    :  shape: (?, 3)                KB.shape:(None, 3)             Keras Tensor: False\n",
      "    fcn_scores_dense               :  shape: (?, 24)               KB.shape:(None, 24)            Keras Tensor: False\n",
      "    seq_ids                        :  shape: (?,)                  KB.shape:(None,)               Keras Tensor: False\n",
      "    sscatter_ids                   :  shape: (?, 2)                KB.shape:(None, 2)             Keras Tensor: False\n",
      "    fcn_scores_by_class            :  shape: (1, 7, 64, 24)        KB.shape:(1, 7, 64, 24)        Keras Tensor: False\n",
      "    complete                       \n",
      "\n",
      " \n",
      "----------------------\n",
      ">>> FCN Scoring Layer - mode: inference\n",
      "----------------------\n",
      "    in_heatmap.shape               :  shape: (?, 128, 128, 7)      KB.shape:(None, 128, 128, 7)   Keras Tensor: False\n",
      "    pr_hm_scores.shape             :  shape: (?, 7, 64, 24)        KB.shape:(None, 7, 64, 24)     Keras Tensor: False\n",
      "    detctions_per_image :  64 pr_scores shape (?, 7, 64, 24)\n",
      "    rois_per_image      :  64\n",
      "    config.DETECTION_MAX_INSTANCES   :  64\n",
      "    config.DETECTIONS_PER_CLASS      :  64\n",
      "    sequence_column                  :  7\n",
      "    norm_score_column                :  8\n",
      "    in_heatmap                     :  shape: (?, 128, 128, 7)      KB.shape:(None, 128, 128, 7)   Keras Tensor: False\n",
      "    pr_scores.shape                :  shape: (?, 7, 64, 24)        KB.shape:(None, 7, 64, 24)     Keras Tensor: False\n",
      "    pt2_sum shape                  :  shape: (?, 7, 64)            KB.shape:(None, 7, 64)         Keras Tensor: False\n",
      "    pt2_ind shape                  :  shape: (?, 3)                KB.shape:(None, 3)             Keras Tensor: False\n",
      "    pt2_dense shape                :  shape: (?, 24)               KB.shape:(None, 24)            Keras Tensor: False\n",
      "    hm_indices                     :  shape: (?, 2)                KB.shape:(None, 2)             Keras Tensor: False\n",
      "    pt2_heatmaps                   :  shape: (?, 7, 128, 128)      KB.shape:(None, 7, 128, 128)   Keras Tensor: False\n",
      "    pt2_heatmaps                   :  shape: (?, 128, 128)         KB.shape:(None, 128, 128)      Keras Tensor: False\n",
      "    old_style_scores               :  shape: (?, 3)                KB.shape:(None, 3)             Keras Tensor: False\n",
      "    alt_scores_1                   :  shape: (?, 3)                KB.shape:(None, 3)             Keras Tensor: False\n",
      "    alt_scores_1_scattered         :  shape: (1, 7, 64, 3)         KB.shape:(1, 7, 64, 3)         Keras Tensor: False\n",
      "    alt_scores_1_norm(by_class)    :  shape: (1, 7, 64, 3)         KB.shape:(1, 7, 64, 3)         Keras Tensor: False\n",
      "    alt_scores_1_norm(by_image)    :  shape: (?, 3)                KB.shape:(None, 3)             Keras Tensor: False\n",
      "\n",
      "    Normalize heatmap within each class !-------------------------------------\n",
      "    in_heatmap_norm :  (?, 7, 128, 128) Keras tensor  False\n",
      "    normalizer shape   :  (?, 7, 1, 1)\n",
      "    normalized heatmap :  (?, 7, 128, 128)  Keras tensor  False\n",
      "    hm_indices shape               :  shape: (?, 2)                KB.shape:(None, 2)             Keras Tensor: False\n",
      "    pt2_heatmaps                   :  shape: (?, 128, 128)         KB.shape:(None, 128, 128)      Keras Tensor: False\n"
     ]
    },
    {
     "name": "stdout",
     "output_type": "stream",
     "text": [
      "    alt_scores_2                   :  shape: (?, 3)                KB.shape:(None, 3)             Keras Tensor: False\n",
      "    alt_scores_2(scattered)        :  shape: (1, 7, 64, 3)         KB.shape:(1, 7, 64, 3)         Keras Tensor: False\n",
      "    alt_scores_2_norm(by_class)    :  shape: (1, 7, 64, 3)         KB.shape:(1, 7, 64, 3)         Keras Tensor: False\n",
      "    alt_scores_2_norm(by_image)    :  shape: (?, 3)                KB.shape:(None, 3)             Keras Tensor: False\n",
      "    fcn_scores_dense               :  shape: (?, 24)               KB.shape:(None, 24)            Keras Tensor: False\n",
      "    seq_ids                        :  shape: (?,)                  KB.shape:(None,)               Keras Tensor: False\n",
      "    sscatter_ids                   :  shape: (?, 2)                KB.shape:(None, 2)             Keras Tensor: False\n",
      "    fcn_scores_by_class            :  shape: (1, 7, 64, 24)        KB.shape:(1, 7, 64, 24)        Keras Tensor: False\n",
      "    complete                       \n",
      "    * fcn_heatmap shape:           :  shape: (?, 128, 128, 7)      KB.shape:(None, 128, 128, 7)   Keras Tensor: True\n",
      "    * fcn_scores shape :           :  shape: (1, 7, 64, 24)        KB.shape:(1, 7, 64, 24)        Keras Tensor: True\n",
      " ================================================================\n",
      " self.keras_model.losses :  21\n",
      "0      Tensor(\"block1_conv2/weight_regularizer/add:0\", shape=(), dtype=float32)\n",
      "1      Tensor(\"block4_conv3/weight_regularizer/add:0\", shape=(), dtype=float32)\n",
      "2      Tensor(\"fcn32_fc1/weight_regularizer/add:0\", shape=(), dtype=float32)\n",
      "3      Tensor(\"fcn32_fc2/weight_regularizer/add:0\", shape=(), dtype=float32)\n",
      "4      Tensor(\"fcn32_deconv2D/weight_regularizer/add:0\", shape=(), dtype=float32)\n",
      "5      Tensor(\"block3_conv3/weight_regularizer/add:0\", shape=(), dtype=float32)\n",
      "6      Tensor(\"block4_conv2/weight_regularizer/add:0\", shape=(), dtype=float32)\n",
      "7      Tensor(\"block5_conv3/weight_regularizer/add:0\", shape=(), dtype=float32)\n",
      "8      Tensor(\"fcn16_score_pool4/weight_regularizer/add:0\", shape=(), dtype=float32)\n",
      "9      Tensor(\"fcn16_upscore_pool4/weight_regularizer/add:0\", shape=(), dtype=float32)\n",
      "10      Tensor(\"fcn8_score_pool3/weight_regularizer/add:0\", shape=(), dtype=float32)\n",
      "11      Tensor(\"fcn8_heatmap/weight_regularizer/add:0\", shape=(), dtype=float32)\n",
      "12      Tensor(\"block1_conv1/weight_regularizer/add:0\", shape=(), dtype=float32)\n",
      "13      Tensor(\"block2_conv1/weight_regularizer/add:0\", shape=(), dtype=float32)\n",
      "14      Tensor(\"block3_conv2/weight_regularizer/add:0\", shape=(), dtype=float32)\n",
      "15      Tensor(\"block4_conv1/weight_regularizer/add:0\", shape=(), dtype=float32)\n",
      "16      Tensor(\"block5_conv1/weight_regularizer/add:0\", shape=(), dtype=float32)\n",
      "17      Tensor(\"block5_conv2/weight_regularizer/add:0\", shape=(), dtype=float32)\n",
      "18      Tensor(\"fcn16_score2/weight_regularizer/add:0\", shape=(), dtype=float32)\n",
      "19      Tensor(\"block2_conv2/weight_regularizer/add:0\", shape=(), dtype=float32)\n",
      "20      Tensor(\"block3_conv1/weight_regularizer/add:0\", shape=(), dtype=float32)\n",
      " ================================================================\n",
      "\n",
      ">>> FCN build complete. mode:  inference\n",
      ">>> FCN initialization complete. mode:  inference\n",
      "\n",
      " FCN Configuration Parameters \n",
      " ------------------------------ \n",
      "\n",
      "Configuration Parameters:\n",
      "-------------------------\n",
      "BACKBONE_SHAPES                [[32 32]\n",
      " [16 16]\n",
      " [ 8  8]\n",
      " [ 4  4]\n",
      " [ 2  2]]\n",
      "BACKBONE_STRIDES               [4, 8, 16, 32, 64]\n",
      "BATCH_SIZE                     1\n",
      "BBOX_STD_DEV                   [0.1 0.1 0.2 0.2]\n",
      "DETECTION_MAX_INSTANCES        64\n",
      "DETECTION_MIN_CONFIDENCE       0.1\n",
      "DETECTION_NMS_THRESHOLD        0.3\n",
      "DETECTION_PER_CLASS            64\n",
      "DIR_DATASET                    F:\\MLDatasets\n",
      "DIR_PRETRAINED                 F:\\PretrainedModels\n",
      "DIR_TRAINING                   F:\\models_newshapes\n",
      "EPOCHS_TO_RUN                  0\n",
      "FCN_INPUT_SHAPE                [128 128]\n",
      "GPU_COUNT                      1\n",
      "HEATMAP_SCALE_FACTOR           1\n",
      "IMAGES_PER_GPU                 1\n",
      "IMAGE_BUFFER                   20\n",
      "IMAGE_MAX_DIM                  128\n",
      "IMAGE_MIN_DIM                  128\n",
      "IMAGE_PADDING                  True\n",
      "IMAGE_SHAPE                    [128 128   3]\n",
      "LAST_EPOCH_RAN                 0\n",
      "LEARNING_MOMENTUM              0.9\n",
      "LEARNING_RATE                  0.001\n",
      "MASK_POOL_SIZE                 14\n",
      "MASK_SHAPE                     [28, 28]\n",
      "MAX_GT_INSTANCES               100\n",
      "MAX_SHAPES_PER_IMAGE           15\n",
      "MEAN_PIXEL                     [123.7 116.8 103.9]\n",
      "MINI_MASK_SHAPE                (56, 56)\n",
      "MIN_SHAPES_PER_IMAGE           1\n",
      "NAME                           fcn\n",
      "NEW_LOG_FOLDER                 False\n",
      "NUM_CLASSES                    7\n",
      "POOL_SIZE                      7\n",
      "POST_NMS_ROIS_INFERENCE        1000\n",
      "POST_NMS_ROIS_TRAINING         2000\n",
      "RESNET_MODEL_PATH              F:\\PretrainedModels\\resnet50_weights_tf_dim_ordering_tf_kernels_notop.h5\n",
      "ROI_GT_IOU_THRESHOLD           0.2\n",
      "ROI_POSITIVE_RATIO             0.33\n",
      "ROI_PROPOSAL_AREA_THRESHOLD    0\n",
      "RPN_ANCHOR_RATIOS              [0.5, 1, 2]\n",
      "RPN_ANCHOR_SCALES              (8, 16, 32, 64, 128)\n",
      "RPN_ANCHOR_STRIDE              1\n",
      "RPN_BBOX_STD_DEV               [0.1 0.1 0.2 0.2]\n",
      "RPN_NMS_THRESHOLD              0.7\n",
      "RPN_TRAIN_ANCHORS_PER_IMAGE    256\n",
      "STEPS_PER_EPOCH                100\n",
      "SYSOUT                         SCREEN\n",
      "TRAINING_PATH                  F:\\models_newshapes\\train_fcn8_l2_newshapes\n",
      "TRAIN_ROIS_PER_IMAGE           32\n",
      "USE_MINI_MASK                  True\n",
      "USE_RPN_ROIS                   True\n",
      "VALIDATION_STEPS               5\n",
      "VERBOSE                        1\n",
      "VGG16_MODEL_PATH               F:\\PretrainedModels\\fcn_vgg16_weights_tf_dim_ordering_tf_kernels.h5\n",
      "WEIGHT_DECAY                   0.0001\n",
      "\n",
      "\n",
      "\n",
      " FCN IO Layers \n",
      " --------------- \n",
      " Inputs:\n",
      " -------\n",
      " index:  0    input name : input_pr_hm_norm:0                         Type: float32           Shape: (?, 128, 128, 7)\n",
      " index:  1    input name : input_pr_hm_scores:0                       Type: float32           Shape: (?, 7, 64, 24)\n",
      " Outputs:\n",
      " --------\n",
      " layer:  0    output name: fcn_heatmap_lambda/fcn_hm:0                Type: float32           Shape: (?, 128, 128, 7)\n",
      " layer:  1    output name: fcn_softmax_lambda/fcn_sm:0                Type: float32           Shape: (?, 128, 128, 7)\n",
      " layer:  2    output name: fcn_scoring/fcn_hm_scores:0                Type: float32           Shape: (1, 7, 64, 24)\n",
      "-----------------------------------------------\n",
      " Load Model with init parm: [ last ]\n",
      "-----------------------------------------------\n",
      " ---> last\n",
      "   Last file is : ('F:\\\\models_newshapes\\\\train_fcn8_l2_newshapes\\\\fcn20181224T0000', 'F:\\\\models_newshapes\\\\train_fcn8_l2_newshapes\\\\fcn20181224T0000\\\\fcn_2084.h5')\n",
      ">>> load_weights() from : F:\\models_newshapes\\train_fcn8_l2_newshapes\\fcn20181224T0000\\fcn_2084.h5\n",
      "    Weights file loaded: F:\\models_newshapes\\train_fcn8_l2_newshapes\\fcn20181224T0000\\fcn_2084.h5 \n",
      "==========================================\n",
      "FCN  MODEL Load weight file COMPLETE \n",
      "==========================================\n"
     ]
    }
   ],
   "source": [
    "mrcnn_model, fcn_model = prep.build_fcn_evaluate_pipeline_newshapes(args = args,verbose = 1)"
   ]
  },
  {
   "cell_type": "markdown",
   "metadata": {
    "heading_collapsed": true
   },
   "source": [
    "###  Print some information about the model "
   ]
  },
  {
   "cell_type": "code",
   "execution_count": null,
   "metadata": {
    "ExecuteTime": {
     "end_time": "2018-12-19T16:22:11.383290Z",
     "start_time": "2018-12-19T16:22:11.016742Z"
    },
    "hidden": true
   },
   "outputs": [],
   "source": [
    "# print(\"\\nConfiguration Parameters:\")\n",
    "# print(\"-------------------------\")\n",
    "# for a in dir(fcn_config2):\n",
    "#     if not a.startswith(\"__\") and not callable(getattr(fcn_config2, a)):\n",
    "#         print(\"{:30} {}    {}\".format(a, getattr(fcn_config2, a) == getattr(fcn_model.config, a), getattr(fcn_config2, a), getattr(fcn_model.config, a) ))\n",
    "# print(\"\\n\")\n",
    "\n",
    "# mrcnn_model.config.display()"
   ]
  },
  {
   "cell_type": "markdown",
   "metadata": {},
   "source": [
    "## Load weights"
   ]
  },
  {
   "cell_type": "code",
   "execution_count": null,
   "metadata": {
    "ExecuteTime": {
     "end_time": "2019-01-04T11:33:00.284155Z",
     "start_time": "2019-01-04T11:32:59.930711Z"
    }
   },
   "outputs": [],
   "source": [
    "# fcn_model.keras_model.summary()\n",
    "##'fcn_init_weights.h5',\n",
    "# DIR_WEIGHTS =  'F:/models/train_fcn8_bce/fcn20181205T0000' ### Training with LR=0.00001, MSE Loss NO L2 Regularization\n",
    "DIR_WEIGHTS =  'F:/models_newshapes/train_fcn8_l2_newshapes/fcn20181224T0000' ### Training with LR=0.00001, MSE Loss NO L2 Regularization\n",
    "# files = ['fcn_0001.h5','fcn_0027.h5','fcn_0036.h5','fcn_0051.h5','fcn_0076.h5','fcn_0106.h5','fcn_0156.h5']\n",
    "# files   = ['fcn_0104.h5','fcn_0150.h5','fcn_0205.h5','fcn_0249.h5','fcn_0293.h5','fcn_0346.h5','fcn_0419.h5']\n",
    "files   = ['fcn_0001.h5','fcn_0150.h5','fcn_0346.h5','fcn_0419.h5','fcn_0421.h5',\n",
    "           'fcn_0434.h5','fcn_0450.h5','fcn_0482.h5','fcn_0521.h5','fcn_0610.h5',\n",
    "           'fcn_0687.h5','fcn_0793.h5']"
   ]
  },
  {
   "cell_type": "code",
   "execution_count": null,
   "metadata": {
    "ExecuteTime": {
     "end_time": "2019-01-04T11:33:18.817240Z",
     "start_time": "2019-01-04T11:33:11.579469Z"
    },
    "scrolled": true
   },
   "outputs": [],
   "source": [
    "FILE_IDX = 1\n",
    "weights_path = os.path.join(DIR_WEIGHTS  , files[FILE_IDX])\n",
    "print(\"Loading weights \", weights_path)\n",
    "fcn_model.load_model_weights(weights_path)"
   ]
  },
  {
   "cell_type": "markdown",
   "metadata": {},
   "source": [
    "# Build test datasets"
   ]
  },
  {
   "cell_type": "code",
   "execution_count": 5,
   "metadata": {
    "ExecuteTime": {
     "end_time": "2019-01-24T14:59:19.616899Z",
     "start_time": "2019-01-24T14:59:19.206608Z"
    }
   },
   "outputs": [],
   "source": [
    "# del dataset_train, dataset_val, train_generator, val_generator\n",
    "# dataset_test , test_generator   = prep_newshape_dataset( mrcnn_model.config,  1000, generator=True)\n",
    "# with open('newshapes_dataset_1000_B.pkl', 'wb') as outfile:\n",
    "#     pickle.dump(dataset_test, outfile)\n",
    "## -- OR --\n",
    "\n",
    "# with open(\"E:\\\\git_projs\\\\MRCNN3\\\\train_newshapes\\\\newshapes_test_dataset_1000.pkl\", 'rb') as infile:\n",
    "with open(\"E:\\\\git_projs\\\\MRCNN3\\\\train_newshapes\\\\newshapes_test_dataset_1000_B.pkl\", 'rb') as infile:\n",
    "    dataset_test = pickle.load(infile)"
   ]
  },
  {
   "cell_type": "code",
   "execution_count": 6,
   "metadata": {
    "ExecuteTime": {
     "end_time": "2019-01-24T14:59:21.423181Z",
     "start_time": "2019-01-24T14:59:21.076936Z"
    }
   },
   "outputs": [
    {
     "name": "stdout",
     "output_type": "stream",
     "text": [
      "[1, 2, 3, 4, 5, 6]\n",
      "internal_class:  1 ext_cls: 1 name: None - person\n",
      "internal_class:  2 ext_cls: 2 name: None - car\n",
      "internal_class:  3 ext_cls: 3 name: None - sun\n",
      "internal_class:  4 ext_cls: 4 name: None - building\n",
      "internal_class:  5 ext_cls: 5 name: None - tree\n",
      "internal_class:  6 ext_cls: 6 name: None - cloud\n",
      "Testing Dataset Image Count: 1000\n",
      "Testing Dataset Class Count: 7\n",
      "1000\n"
     ]
    }
   ],
   "source": [
    "dataset_test.display_active_class_info()\n",
    "print(\"Testing Dataset Image Count: {}\".format(len(dataset_test.image_ids)))\n",
    "print(\"Testing Dataset Class Count: {}\".format(dataset_test.num_classes))\n",
    "print(len(dataset_test.image_ids))    \n",
    "class_names = dataset_test.class_names"
   ]
  },
  {
   "cell_type": "markdown",
   "metadata": {},
   "source": [
    "###  Display some images from dataset"
   ]
  },
  {
   "cell_type": "code",
   "execution_count": 9,
   "metadata": {
    "ExecuteTime": {
     "end_time": "2019-01-24T14:59:56.882361Z",
     "start_time": "2019-01-24T14:59:53.125693Z"
    }
   },
   "outputs": [
    {
     "data": {
      "image/png": "[encoded data removed]",
      "text/plain": [
       "<Figure size 1728x1296 with 40 Axes>"
      ]
     },
     "metadata": {},
     "output_type": "display_data"
    }
   ],
   "source": [
    "image_list = list(range(0,40))\n",
    "image_titles = [str(i) for i in image_list]\n",
    "images = prep.get_image_batch(dataset_test, image_list)\n",
    "visualize.display_images(images, titles = image_titles, cols = 8, width = 24)"
   ]
  },
  {
   "cell_type": "markdown",
   "metadata": {
    "heading_collapsed": true
   },
   "source": [
    "## Display Images"
   ]
  },
  {
   "cell_type": "markdown",
   "metadata": {
    "hidden": true
   },
   "source": [
    "### Load using next(generator)"
   ]
  },
  {
   "cell_type": "code",
   "execution_count": null,
   "metadata": {
    "ExecuteTime": {
     "end_time": "2018-12-07T16:13:21.156100Z",
     "start_time": "2018-12-07T16:13:18.074920Z"
    },
    "hidden": true,
    "hideCode": false,
    "hideOutput": true,
    "hidePrompt": false
   },
   "outputs": [],
   "source": [
    "test_batch_x, _ = next(test_generator)\n",
    "display_training_batch(dataset_test, test_batch_x)\n",
    "# dataset_train.display_annotation_info(0)"
   ]
  },
  {
   "cell_type": "markdown",
   "metadata": {
    "heading_collapsed": true,
    "hidden": true
   },
   "source": [
    "### Load a specific image using image_id -Display image with Ground Truth bounding boxes and masks"
   ]
  },
  {
   "cell_type": "code",
   "execution_count": null,
   "metadata": {
    "ExecuteTime": {
     "end_time": "2018-12-26T13:36:57.563484Z",
     "start_time": "2018-12-26T13:36:56.710879Z"
    },
    "hidden": true,
    "hideCode": false,
    "hidePrompt": false,
    "scrolled": false
   },
   "outputs": [],
   "source": [
    "IMAGE_LIST = [33]\n",
    "# del images, train_batch_x\n",
    "# train_batch_x = get_evaluate_batch(dataset_train, mrcnn_model.config, generator = train_generator )\n",
    "eval_batch = get_evaluate_batch(dataset_test, mrcnn_model.config, image_ids = IMAGE_LIST)\n",
    "\n",
    "# train_batch_x, _ =  data_gen_simulate(dataset_train, mrcnn_model.config, IMAGE_LIST)\n",
    "# visualize.display_training_batch(dataset_train, train_batch_x)\n",
    "# dataset_train.display_annotation_info(IMAGE_LIST)\n",
    " "
   ]
  },
  {
   "cell_type": "markdown",
   "metadata": {
    "heading_collapsed": true
   },
   "source": [
    "# Run FCN evaluation pipeline"
   ]
  },
  {
   "cell_type": "markdown",
   "metadata": {
    "hidden": true
   },
   "source": [
    "##  Run FCN detection pipeline on first image"
   ]
  },
  {
   "cell_type": "markdown",
   "metadata": {
    "hidden": true
   },
   "source": [
    "### Load an image using `get_evaluate_batch()`"
   ]
  },
  {
   "cell_type": "code",
   "execution_count": null,
   "metadata": {
    "ExecuteTime": {
     "end_time": "2019-01-15T14:39:34.534159Z",
     "start_time": "2019-01-15T14:39:34.147237Z"
    },
    "hidden": true
   },
   "outputs": [],
   "source": [
    "# eval_batch = get_evaluate_batch(dataset_test, mrcnn_model.config, generator = test_generator, display = True)\n",
    "eval_batch = get_evaluate_batch(dataset_test, mrcnn_model.config, image_ids = [22], display = True)\n",
    "# eval_batch = get_evaluate_batch(dataset_test, mrcnn_model.config, display = True)"
   ]
  },
  {
   "cell_type": "markdown",
   "metadata": {
    "hidden": true
   },
   "source": [
    "###  Run `fcn_model.evaluate()`"
   ]
  },
  {
   "cell_type": "code",
   "execution_count": null,
   "metadata": {
    "ExecuteTime": {
     "end_time": "2019-01-15T14:39:57.026954Z",
     "start_time": "2019-01-15T14:39:52.371151Z"
    },
    "hidden": true
   },
   "outputs": [],
   "source": [
    "fcn_results = fcn_model.evaluate(mrcnn_model, eval_batch, verbose = 0)\n",
    "print(' Complete')"
   ]
  },
  {
   "cell_type": "code",
   "execution_count": null,
   "metadata": {
    "ExecuteTime": {
     "end_time": "2019-01-15T14:40:00.943324Z",
     "start_time": "2019-01-15T14:40:00.643138Z"
    },
    "hidden": true
   },
   "outputs": [],
   "source": [
    "fcn_results[0].keys()\n",
    "for i, r in enumerate(fcn_results):\n",
    "    print('\\n output ', i, '  ',sorted(r.keys()))\n",
    "    for key in sorted(r):\n",
    "        print(key.ljust(20), r[key].shape)        "
   ]
  },
  {
   "cell_type": "markdown",
   "metadata": {
    "hidden": true
   },
   "source": [
    "### Display FCN detections"
   ]
  },
  {
   "cell_type": "code",
   "execution_count": null,
   "metadata": {
    "ExecuteTime": {
     "end_time": "2019-01-15T14:41:11.149662Z",
     "start_time": "2019-01-15T14:41:10.827415Z"
    },
    "hidden": true
   },
   "outputs": [],
   "source": [
    "np_format = {}\n",
    "float_formatter = lambda x: \"%10.4f\" % x\n",
    "int_formatter   = lambda x: \"%10d\" % x\n",
    "np_format['float'] = float_formatter\n",
    "np_format['int']   = int_formatter\n",
    "np.set_printoptions(linewidth=195, precision=4, floatmode='fixed', threshold =10000, formatter = np_format)"
   ]
  },
  {
   "cell_type": "code",
   "execution_count": null,
   "metadata": {
    "ExecuteTime": {
     "end_time": "2018-12-26T13:40:22.973368Z",
     "start_time": "2018-12-26T13:40:22.596100Z"
    },
    "hidden": true
   },
   "outputs": [],
   "source": [
    "# f = fcn_results[0]\n",
    "# print(f['detections'][:20])\n",
    "# # print(f['gt_bboxes'][:20])\n",
    "# print(f['gt_class_ids'])"
   ]
  },
  {
   "cell_type": "markdown",
   "metadata": {
    "hidden": true
   },
   "source": [
    "#### Display MRCNN results - 1st style"
   ]
  },
  {
   "cell_type": "code",
   "execution_count": null,
   "metadata": {
    "ExecuteTime": {
     "end_time": "2019-01-15T14:41:12.629250Z",
     "start_time": "2019-01-15T14:41:12.233452Z"
    },
    "hidden": true,
    "scrolled": false
   },
   "outputs": [],
   "source": [
    "lmt =17\n",
    "f = fcn_results[0]\n",
    "\n",
    "names  = \" \".join([ '{:>10s}'.format(class_names[i][-10:]) for i in f['class_ids'][:lmt]])\n",
    "print('            classes :', f['class_ids'][:lmt])\n",
    "print('                    : ', names)\n",
    "print('                    :', f['detection_ind'][:lmt])\n",
    "print('          bbox area :', f['pr_scores'][:lmt,10])\n",
    "print('          clip area :', f['pr_scores'][:lmt,13])\n",
    "print()\n",
    "print('        orig scores :', f['scores'][:lmt])\n",
    "print('        norm scores :', f['pr_scores'][:lmt,8])\n",
    "# print('  pr_scores[5] :', f['pr_scores'][:,5])\n",
    "\n",
    "print('-'*185)\n",
    "print('         pr_scrs[8] :', f['pr_scores'][:lmt,11])\n",
    "print('      fcn_scores[8] :', f['fcn_scores'][:lmt,11])\n",
    "print()\n",
    "print('      pr_scores[13] :', f['pr_scores'][:lmt,14])\n",
    "print('     fcn_scores[13] :', f['fcn_scores'][:lmt,14])\n",
    "print()\n",
    "\n",
    "print('      pr_scores[19] :', f['pr_scores'][:lmt,20])\n",
    "print('     fcn_scores[19] :', f['fcn_scores'][:lmt,20])\n",
    "print()\n",
    "\n",
    "print(' norm pr_scores[17] :', f['pr_scores'][:lmt,17])\n",
    "print('norm fcn_scores[17] :', f['fcn_scores'][:lmt,17])\n",
    "print()\n",
    "print(' norm pr_scores[23] :', f['pr_scores'][:lmt,23])\n",
    "print('norm fcn_scores[23] :', f['fcn_scores'][:lmt,23])\n"
   ]
  },
  {
   "cell_type": "code",
   "execution_count": null,
   "metadata": {
    "ExecuteTime": {
     "end_time": "2019-01-15T14:41:25.615251Z",
     "start_time": "2019-01-15T14:41:25.283365Z"
    },
    "hidden": true
   },
   "outputs": [],
   "source": [
    "mrcnn_model.class_pred_stats"
   ]
  },
  {
   "cell_type": "markdown",
   "metadata": {
    "hidden": true
   },
   "source": [
    "####  Display MRCNN scores - 2nd style"
   ]
  },
  {
   "cell_type": "code",
   "execution_count": null,
   "metadata": {
    "ExecuteTime": {
     "end_time": "2019-01-15T14:41:27.711285Z",
     "start_time": "2019-01-15T14:41:27.347245Z"
    },
    "hidden": true,
    "scrolled": false
   },
   "outputs": [],
   "source": [
    "f = fcn_results[0]\n",
    "for i, [molded_bbox, cls, scr, pr_scr, fcn_scr] in enumerate(zip(f['molded_rois'].astype(np.int), f['class_ids'],  f['scores'], f['pr_scores'], f['fcn_scores'])):\n",
    "    \n",
    "    print('{} {} {:2d}  {:.<18s}  {:5.4f} {}  '.format(i, molded_bbox, cls, dataset_test.class_names[cls], scr, fcn_scr[[4,5,6,7,8]]))\n",
    "    print('{:>86s} {}'.format(' mrcnn old style scores:  ',  pr_scr[[9,10,11]]))\n",
    "    print('{:>86s} {}'.format('   fcn old style scores:  ', fcn_scr[[9,10,11]]))\n",
    "    print()\n",
    "    print('{:>86s} {}'.format('      mrcnn alt scores1:  ', pr_scr[[12,13,14,15,16,17]]))\n",
    "    print('{:>86s} {}'.format('        fcn alt scores1:  ', fcn_scr[[12,13,14,15,16,17]]))\n",
    "    print()\n",
    "    print('{:>86s} {}'.format('          mrcnn_scores2:  ', pr_scr[[18,19,20,21,22,23]]))\n",
    "    print('{:>86s} {}'.format('            fcn_scores2:  ', fcn_scr[[18,19,20,21,22,23]]))\n",
    "    print()"
   ]
  },
  {
   "cell_type": "markdown",
   "metadata": {
    "hidden": true
   },
   "source": [
    "####  Display MRCNN scores - 3rd style"
   ]
  },
  {
   "cell_type": "code",
   "execution_count": null,
   "metadata": {
    "ExecuteTime": {
     "end_time": "2019-01-15T14:41:46.018753Z",
     "start_time": "2019-01-15T14:41:45.650991Z"
    },
    "hidden": true,
    "scrolled": false
   },
   "outputs": [],
   "source": [
    "# r = results[0]\n",
    "print(f['detections'].shape)\n",
    "print('   old_scores: (gauss. sum over large bbox/bbox area/ gauss_sum * normlzd_score))')\n",
    "print('  alt_scores 1: (gauss. sum over small mask/mask area/ gauss_sum / mask_area):  ')\n",
    "sort_by_class_order = np.argsort(f['class_ids'])\n",
    "\n",
    "\n",
    "# for i in range(len( f['class_ids'])):\n",
    "for i in sort_by_class_order:\n",
    "#     print(i , f['rois'][i].astype(np.float), f['scores'][i], f['class_ids'][i], class_names[f['class_ids'][i]])\n",
    "#     print(i , f['detections'][i], f['class_ids'][i], class_names[f['class_ids'][i]])\n",
    "    det_type = '       --> ADDED FP ' if f['pr_scores'][i,6] == -1 else '      Original detection'\n",
    "    print(i , f['rois'][i])\n",
    "    print(i , f['pr_scores'][i,:9], f['pr_scores'][i,4], class_names[ f['pr_scores'][i,4].astype(np.int)], det_type) \n",
    "    print()\n",
    "    print(i , 'pr: old_scores [9,10,11]:  '.rjust(90), f['pr_scores'][i,9:12])    \n",
    "    print(i , '  alt_scores 1 [12 - 17]:  '.rjust(90), f['pr_scores'][i,12:18])    \n",
    "    print(i , '  alt_scores 2 [18 - 23]:  '.rjust(90), f['pr_scores'][i,18:24])    \n",
    "    print(i)\n",
    "#     print(i , f['fcn_scores'][i,:8], f['fcn_scores'][i,4], class_names[ f['fcn_scores'][i,4].astype(np.int)])    \n",
    "    print(i , 'fcn: old_scores [9,10,11]:  '.rjust(90), f['fcn_scores'][i,9:12])    \n",
    "    print(i ,  '  alt_scores 1 [12 - 17]:  '.rjust(90), f['fcn_scores'][i,12:18])    \n",
    "    print(i ,  '  alt_scores 2 [18 - 23]:  '.rjust(90), f['fcn_scores'][i,18:24])    \n",
    "    print()\n",
    "    print(i , '  old score [11]:  '.rjust(90), ' from mrcnn:{:10.4f}  from FCN: {:10.4f} '.format(f['pr_scores'][i,11],f['fcn_scores'][i,11]))\n",
    "    print(i , 'alt score 1 [14]:  '.rjust(90), ' from mrcnn:{:10.4f}  from FCN: {:10.4f} '.format(f['pr_scores'][i,14],f['fcn_scores'][i,14]))\n",
    "    print(i , 'alt score 2 [20]:  '.rjust(90), ' from mrcnn:{:10.4f}  from FCN: {:10.4f} '.format(f['pr_scores'][i,20],f['fcn_scores'][i,20]))\n",
    "    print()"
   ]
  },
  {
   "cell_type": "markdown",
   "metadata": {
    "hidden": true
   },
   "source": [
    "### Display detections on Image"
   ]
  },
  {
   "cell_type": "code",
   "execution_count": null,
   "metadata": {
    "ExecuteTime": {
     "end_time": "2019-01-15T14:42:04.585245Z",
     "start_time": "2019-01-15T14:42:04.250283Z"
    },
    "hidden": true
   },
   "outputs": [],
   "source": [
    "f = fcn_results[0]\n",
    "print(np.unique(f['gt_class_ids']))\n",
    "print(np.unique(f['class_ids']))\n",
    "print('Image Meta: ', f['image_meta'][:10])\n",
    "visualize.display_instances(f['image'], f['rois'],  f['class_ids'], dataset_test.class_names, f['scores'],\n",
    "#                            only_classes=[6],\n",
    "                            title=\"MRCNN Predictions\", score_range=(0.0, 1.7))\n",
    "#  only_classes=[27],"
   ]
  },
  {
   "cell_type": "code",
   "execution_count": null,
   "metadata": {
    "ExecuteTime": {
     "end_time": "2019-01-15T14:42:40.261712Z",
     "start_time": "2019-01-15T14:42:39.772570Z"
    },
    "hidden": true,
    "scrolled": false
   },
   "outputs": [],
   "source": [
    "#### Display detections\n",
    "## old_score   : 11\n",
    "## alt_score_1 : 14\n",
    "## alt_score_2 : 20\n",
    "from mrcnn.utils import log # Display results\n",
    "# ax = visualize.get_ax(rows =1, cols = 1, size= 20)\n",
    "f = fcn_results[0]\n",
    "clses = None\n",
    "class_ids = np.unique(f['pr_scores'][:,4]).astype(int).tolist()\n",
    "print('class ids: ', class_ids)\n",
    "print('Image Meta: ', f['image_meta'][:10])\n",
    "# visualize.display_instances_from_prscores(f['image'], f['pr_scores'], class_names, score_range=(-999, 9999), only_classes = [1])\n",
    "# visualize.display_instances(f['image'], f['rois'],  f['class_ids'], class_names, f['scores'], title=\"Predictions\", score_range=(0.7, 0.99), size = 24)\n",
    "# visualize.display_instances(f['image'], f['rois'], f['class_ids'], class_names, f['scores'], title=\"Predictions - Orig Score\", score_range=(0.0, 1.99), size = 24, only_classes=clses)\n",
    "visualize.display_instances_two_scores(f['image'], f['rois'], f['class_ids'], class_names, f['pr_scores'][:,11], f['fcn_scores'][:,11],title=\"Predictions - Alt Score 0 \", only_classes=clses)\n",
    "visualize.display_instances_two_scores(f['image'], f['rois'], f['class_ids'], class_names, f['pr_scores'][:,14], f['fcn_scores'][:,14],title=\"Predictions - Alt Score 1 \", only_classes=clses)\n",
    "visualize.display_instances_two_scores(f['image'], f['rois'], f['class_ids'], class_names, f['pr_scores'][:,20], f['fcn_scores'][:,20],title=\"Predictions - Alt Score 2 \", only_classes=clses)\n",
    "# visualize.display_instances_two_scores(f['image'], f['rois'], f['class_ids'], class_names, f['pr_scores'][:,17], f['fcn_scores'][:,17],title=\"Predictions - Alt Score 1 (Normalized by class)\", only_classes=clses)\n",
    "# visualize.display_instances_two_scores(f['image'], f['rois'], f['class_ids'], class_names, f['pr_scores'][:,23], f['fcn_scores'][:,23],title=\"Predictions - Alt Score 2 (Normalized by class)\", only_classes=clses)\n"
   ]
  },
  {
   "cell_type": "markdown",
   "metadata": {
    "hidden": true
   },
   "source": [
    "#### Display Img with GT bboxes"
   ]
  },
  {
   "cell_type": "code",
   "execution_count": null,
   "metadata": {
    "ExecuteTime": {
     "end_time": "2019-01-01T19:33:16.664650Z",
     "start_time": "2019-01-01T19:33:16.091143Z"
    },
    "hidden": true
   },
   "outputs": [],
   "source": [
    "visualize.display_image_gt(dataset_test, mrcnn_model.config, [33] ,\n",
    "#                            only_classes=[44,46] \n",
    "                          )"
   ]
  },
  {
   "cell_type": "markdown",
   "metadata": {
    "hidden": true
   },
   "source": [
    "### Compute mAP and Display Precision/Recall Curve"
   ]
  },
  {
   "cell_type": "code",
   "execution_count": null,
   "metadata": {
    "ExecuteTime": {
     "end_time": "2019-01-15T14:43:24.287183Z",
     "start_time": "2019-01-15T14:43:23.386553Z"
    },
    "hidden": true
   },
   "outputs": [],
   "source": [
    "visualize.plot_precision_recall_compare(fcn_results)"
   ]
  },
  {
   "cell_type": "code",
   "execution_count": null,
   "metadata": {
    "ExecuteTime": {
     "end_time": "2018-12-26T13:42:20.710922Z",
     "start_time": "2018-12-26T13:42:20.083477Z"
    },
    "hidden": true,
    "scrolled": false
   },
   "outputs": [],
   "source": [
    "orig_score = 5\n",
    "norm_score = 8\n",
    "alt_scr_0  = 11\n",
    "alt_scr_1  = 14   # in MRCNN alt_scr_1 ans alt_scr_2 are the same\n",
    "alt_scr_2  = 20\n",
    "\n",
    "# # Draw precision-recall curve\n",
    "f = fcn_results[0]\n",
    "AP, precisions, recalls, overlaps = utils.compute_ap(f['gt_bboxes'], f['gt_class_ids'], f['molded_rois'], f['class_ids'], f['scores'])\n",
    "visualize.plot_precision_recall(AP, precisions, recalls,ttl = \"- Orig Score\")\n",
    "# AP, precisions, recalls, overlaps = utils.compute_ap(f['gt_bboxes'], f['gt_class_ids'], f['molded_rois'], f['class_ids'], f['pr_scores'][:,norm_score])\n",
    "# visualize.plot_precision_recall(AP, precisions, recalls, ttl = \"- Normlzd Score\")\n",
    "\n",
    "# AP, precisions, recalls, overlaps = utils.compute_ap(f['gt_bboxes'], f['gt_class_ids'], f['molded_rois'], f['class_ids'], f['pr_scores'][:,alt_scr_0])\n",
    "# visualize.plot_precision_recall(AP, precisions, recalls, ttl = \"- RCNN Alt Score 0 \")\n",
    "# AP, precisions, recalls, overlaps = utils.compute_ap(f['gt_bboxes'], f['gt_class_ids'], f['molded_rois'], f['class_ids'], f['fcn_scores'][:,alt_scr_0])\n",
    "# visualize.plot_precision_recall(AP, precisions, recalls, ttl = \"- FCN Alt Score 0 \")\n",
    "\n",
    "# AP, precisions, recalls, overlaps = utils.compute_ap(f['gt_bboxes'], f['gt_class_ids'], f['molded_rois'], f['class_ids'], f['pr_scores'][:,alt_scr_1])\n",
    "# visualize.plot_precision_recall(AP, precisions, recalls, ttl = \"- RCNN Alt Score 1 \")\n",
    "# AP, precisions, recalls, overlaps = utils.compute_ap(f['gt_bboxes'], f['gt_class_ids'], f['molded_rois'], f['class_ids'], f['fcn_scores'][:,alt_scr_1])\n",
    "# visualize.plot_precision_recall(AP, precisions, recalls, ttl = \"- FCN Alt Score 1 \")\n",
    "\n",
    "\n",
    "# AP, precisions, recalls, overlaps = utils.compute_ap(f['gt_bboxes'], f['gt_class_ids'], f['molded_rois'], f['class_ids'], f['pr_scores'][:,alt_scr_2])\n",
    "# visualize.plot_precision_recall(AP, precisions, recalls, ttl = \"- RCNN Alt Score 1 \")\n",
    "# AP, precisions, recalls, overlaps = utils.compute_ap(f['gt_bboxes'], f['gt_class_ids'], f['molded_rois'], f['class_ids'], f['fcn_scores'][:,alt_scr_2])\n",
    "# visualize.plot_precision_recall(AP, precisions, recalls, ttl = \"- FCN Alt Score 1 \")"
   ]
  },
  {
   "cell_type": "markdown",
   "metadata": {
    "heading_collapsed": true,
    "hidden": true
   },
   "source": [
    "##  Run MRCNN detection pipeline on second image"
   ]
  },
  {
   "cell_type": "code",
   "execution_count": null,
   "metadata": {
    "ExecuteTime": {
     "end_time": "2018-12-11T12:18:54.471834Z",
     "start_time": "2018-12-11T12:18:52.684212Z"
    },
    "hidden": true
   },
   "outputs": [],
   "source": [
    "from mrcnn.prep_notebook import get_evaluate_batch\n",
    "# from mrcnn.prep_notebook import get_training_batch, get_inference_batch, get_evaluate_batch\n",
    "IMAGE_LIST = [4745]\n",
    "# eval_batch = get_evaluate_batch(dataset_test, mrcnn_model.config, generator = test_generator, display = True)\n",
    "eval_batch = get_evaluate_batch(dataset_test, mrcnn_model.config, IMAGE_LIST, display = True)"
   ]
  },
  {
   "cell_type": "code",
   "execution_count": null,
   "metadata": {
    "ExecuteTime": {
     "end_time": "2018-12-11T12:36:38.317007Z",
     "start_time": "2018-12-11T12:35:53.041731Z"
    },
    "hidden": true,
    "scrolled": false
   },
   "outputs": [],
   "source": [
    "fcn_results = fcn_model.evaluate(mrcnn_model, eval_batch, verbose =0)"
   ]
  },
  {
   "cell_type": "markdown",
   "metadata": {
    "hidden": true
   },
   "source": [
    "### Display detections on Image"
   ]
  },
  {
   "cell_type": "code",
   "execution_count": null,
   "metadata": {
    "ExecuteTime": {
     "end_time": "2018-12-11T12:20:39.014137Z",
     "start_time": "2018-12-11T12:20:38.010089Z"
    },
    "hidden": true
   },
   "outputs": [],
   "source": [
    "f = fcn_results[0]\n",
    "print('Image Meta: ', f['image_meta'][:10])\n",
    "visualize.display_instances(f['image'], f['rois'],  f['class_ids'], dataset_test.class_names, f['scores'], title=\"MRCNN Predictions\", score_range=(0.0, 0.7))\n",
    "#  only_classes=[27],"
   ]
  },
  {
   "cell_type": "code",
   "execution_count": null,
   "metadata": {
    "hidden": true
   },
   "outputs": [],
   "source": []
  },
  {
   "cell_type": "code",
   "execution_count": null,
   "metadata": {
    "ExecuteTime": {
     "end_time": "2018-12-11T12:23:55.509980Z",
     "start_time": "2018-12-11T12:23:52.219978Z"
    },
    "hidden": true,
    "scrolled": false
   },
   "outputs": [],
   "source": [
    "#### Display detections\n",
    "## old_score   : 11\n",
    "## alt_score_1 : 14\n",
    "## alt_score_2 : 20\n",
    "from mrcnn.utils import log # Display results\n",
    "# ax = visualize.get_ax(rows =1, cols = 1, size= 20)\n",
    "r = fcn_results[0]\n",
    "clses = [42]\n",
    "class_ids = np.unique(r['pr_scores'][:,4]).astype(int).tolist()\n",
    "print('class ids: ', class_ids)\n",
    "print('Image Meta: ', r['image_meta'][:10])\n",
    "\n",
    "# visualize.display_instances(r['image'], r['rois'],  r['class_ids'], class_names, r['scores'], title=\"Predictions\", score_range=(0.7, 0.99), size = 24)\n",
    "visualize.display_instances(r['image'], r['rois'],  r['class_ids'], class_names, r['scores'], title=\"Predictions\", score_range=(0.0, 0.99), only_classes= [42], size = 24)\n",
    "# visualize.display_instances_two_scores(r['image'], r['rois'], r['class_ids'], class_names, r['pr_scores'][:,11], r['fcn_scores'][:,11],title=\"Predictions\", only_classes=clses,size = 24)\n",
    "visualize.display_instances_two_scores(r['image'], r['rois'], r['class_ids'], class_names, r['pr_scores'][:,14], r['fcn_scores'][:,14],title=\"Predictions\", only_classes=clses,size = 24)\n",
    "visualize.display_instances_two_scores(r['image'], r['rois'], r['class_ids'], class_names, r['pr_scores'][:,20], r['fcn_scores'][:,20],title=\"Predictions\", only_classes=clses,size = 24)"
   ]
  },
  {
   "cell_type": "markdown",
   "metadata": {
    "hidden": true
   },
   "source": [
    "### Compute mAP and Display Precision/Recall Curve"
   ]
  },
  {
   "cell_type": "code",
   "execution_count": null,
   "metadata": {
    "ExecuteTime": {
     "end_time": "2018-12-11T12:26:15.987861Z",
     "start_time": "2018-12-11T12:26:15.268137Z"
    },
    "hidden": true
   },
   "outputs": [],
   "source": [
    "old_score   = 11\n",
    "alt_score_1 = 14\n",
    "alt_score_2 = 20\n",
    "# Draw precision-recall curve\n",
    "f = fcn_results[0]\n",
    "AP, precisions, recalls, overlaps = utils.compute_ap(f['gt_bboxes'], f['gt_class_ids'], f['molded_rois'], f['class_ids'], f['scores'])\n",
    "visualize.plot_precision_recall(AP, precisions, recalls)\n",
    "AP, precisions, recalls, overlaps = utils.compute_ap(f['gt_bboxes'], f['gt_class_ids'], f['molded_rois'], f['class_ids'], f['pr_scores'][:,alt_score_1])\n",
    "visualize.plot_precision_recall(AP, precisions, recalls)\n",
    "AP, precisions, recalls, overlaps = utils.compute_ap(f['gt_bboxes'], f['gt_class_ids'], f['molded_rois'], f['class_ids'], f['fcn_scores'][:,alt_score_1])\n",
    "visualize.plot_precision_recall(AP, precisions, recalls)"
   ]
  },
  {
   "cell_type": "markdown",
   "metadata": {
    "heading_collapsed": true,
    "hidden": true
   },
   "source": [
    "##  Run MRCNN detection pipeline on third image"
   ]
  },
  {
   "cell_type": "markdown",
   "metadata": {
    "hidden": true
   },
   "source": [
    "### Load image using `get_evaluate_batch()`"
   ]
  },
  {
   "cell_type": "code",
   "execution_count": null,
   "metadata": {
    "ExecuteTime": {
     "end_time": "2018-11-29T13:02:00.733740Z",
     "start_time": "2018-11-29T13:01:58.602571Z"
    },
    "hidden": true
   },
   "outputs": [],
   "source": [
    "# 13378, 33816\n",
    "image, _ = get_inference_batch(dataset_test, mrcnn_model, 13378, display=True)    "
   ]
  },
  {
   "cell_type": "code",
   "execution_count": null,
   "metadata": {
    "ExecuteTime": {
     "end_time": "2018-11-29T13:04:45.223505Z",
     "start_time": "2018-11-29T13:04:00.600086Z"
    },
    "hidden": true
   },
   "outputs": [],
   "source": [
    "results= run_mrcnn_detection(mrcnn_model,dataset_test, image_id=13378, verbose = 0)\n",
    "r = results[0]"
   ]
  },
  {
   "cell_type": "code",
   "execution_count": null,
   "metadata": {
    "ExecuteTime": {
     "end_time": "2018-11-29T13:10:44.718273Z",
     "start_time": "2018-11-29T13:10:43.709356Z"
    },
    "hidden": true
   },
   "outputs": [],
   "source": [
    "print('Image Meta: ', r['orig_image_meta'][:10])\n",
    "visualize.display_instances(r['image'], r['rois'],  r['class_ids'], dataset_test.class_names, r['scores'], \n",
    "                             title=\"Predictions\", score_range=(0.0, 0.7))\n"
   ]
  },
  {
   "cell_type": "code",
   "execution_count": null,
   "metadata": {
    "hidden": true
   },
   "outputs": [],
   "source": []
  },
  {
   "cell_type": "code",
   "execution_count": null,
   "metadata": {
    "hidden": true
   },
   "outputs": [],
   "source": []
  },
  {
   "cell_type": "markdown",
   "metadata": {
    "heading_collapsed": true
   },
   "source": [
    "#  Compute AP routine"
   ]
  },
  {
   "cell_type": "code",
   "execution_count": null,
   "metadata": {
    "ExecuteTime": {
     "end_time": "2018-12-11T15:00:58.530284Z",
     "start_time": "2018-12-11T15:00:57.311339Z"
    },
    "hidden": true
   },
   "outputs": [],
   "source": [
    "from mrcnn.utils import trim_zeros, compute_overlaps\n",
    "np_format = {}\n",
    "float_formatter = lambda x: \"%10.4f\" % x\n",
    "int_formatter   = lambda x: \"%10d\" % x\n",
    "np_format['float'] = float_formatter\n",
    "np_format['int']   = int_formatter\n",
    "np.set_printoptions(linewidth=195, precision=4, floatmode='fixed', threshold =10000, formatter = np_format)\n",
    "def compute_ap(gt_boxes, gt_class_ids,\n",
    "               pred_boxes, pred_class_ids, pred_scores,\n",
    "               iou_threshold=0.5):\n",
    "    '''\n",
    "    Compute Average Precision at a set IoU threshold (default 0.5).\n",
    "\n",
    "    Returns:\n",
    "    mAP:            Mean Average Precision\n",
    "    precisions:     List of precisions at different class score thresholds.\n",
    "    recalls:        List of recall values at different class score thresholds.\n",
    "    overlaps:       [pred_boxes, gt_boxes] IoU overlaps.\n",
    "    '''\n",
    "    # Trim zero padding and sort predictions by score from high to low\n",
    "    # TODO: cleaner to do zero unpadding upstream\n",
    "    gt_boxes   = trim_zeros(gt_boxes)\n",
    "    gt_class_ids = trim_zeros(np.expand_dims(gt_class_ids, axis = -1))\n",
    "    pred_boxes = trim_zeros(pred_boxes)\n",
    "    pred_scores= pred_scores[:pred_boxes.shape[0]]\n",
    "    indices    = np.argsort(pred_scores)[::-1]   ## sort indices from largest to smallest\n",
    "#     print('arg_sort indicies:', indices)\n",
    "    pred_boxes     = pred_boxes[indices]\n",
    "    pred_class_ids = pred_class_ids[indices]\n",
    "    pred_scores    = pred_scores[indices]\n",
    "    print(gt_boxes.shape, gt_class_ids.shape)\n",
    "    print(pred_boxes.shape, pred_class_ids.shape, pred_scores.shape)\n",
    "    print('ground truth:')\n",
    "    print(np.concatenate([gt_boxes,gt_class_ids], axis = -1))    \n",
    "    print('predcitions:')\n",
    "    print(np.concatenate([pred_boxes,np.expand_dims(pred_class_ids, axis = -1), np.expand_dims(pred_scores, axis = -1)], axis = -1))\n",
    "    print(' Total predicitons: ' , len(pred_scores))\n",
    "    \n",
    "    # Compute IoU overlaps [pred_boxes, gt_boxes]\n",
    "    overlaps = compute_overlaps(pred_boxes, gt_boxes)\n",
    "    print('overlaps: ',overlaps.shape)\n",
    "    print(overlaps)\n",
    "    \n",
    "    # Loop through ground truth boxes and find matching predictions\n",
    "    match_count = 0\n",
    "    pred_match = np.zeros([pred_boxes.shape[0]])\n",
    "    gt_match   = np.zeros([gt_boxes.shape[0]])\n",
    "    \n",
    "    for i in range(len(pred_boxes)):\n",
    "        # Find best matching ground truth box\n",
    "        sorted_ixs = np.argsort(overlaps[i])[::-1]\n",
    "        for j in sorted_ixs:\n",
    "            # If ground truth box is already matched, go to next one\n",
    "            if gt_match[j] == 1:\n",
    "                continue\n",
    "            # If we reach IoU smaller than the threshold, end the loop\n",
    "            iou = overlaps[i, j]\n",
    "            if iou < iou_threshold:\n",
    "                break\n",
    "            # Do we have a match?\n",
    "            if pred_class_ids[i] == gt_class_ids[j]:\n",
    "                match_count  += 1\n",
    "                gt_match[j]   = 1\n",
    "                pred_match[i] = 1\n",
    "                break\n",
    "    print(' after overlap computation')\n",
    "    print('match count:', match_count)\n",
    "    print('pred_match :', pred_match)\n",
    "    print('  gt_match :', gt_match)\n",
    "    \n",
    "    # Compute precision and recall at each prediction box step\n",
    "    # Precision = TP / (TP+FP)      Recall = TP / (TP + FN)\n",
    "    precisions = np.cumsum(pred_match) / (np.arange(len(pred_match)) + 1)\n",
    "    recalls    = np.cumsum(pred_match).astype(np.float32) / len(gt_match)\n",
    "    \n",
    "    print(' precisions')\n",
    "    print(np.cumsum(pred_match), '/', (np.arange(len(pred_match)) + 1))\n",
    "    print(precisions)\n",
    "    print()\n",
    "    print(' recalls ')\n",
    "    print(np.cumsum(pred_match), '/', len(gt_match))\n",
    "    print(recalls)\n",
    "    print()\n",
    "    \n",
    "    # Pad with start and end values to simplify the math\n",
    "    precisions = np.concatenate([[0], precisions, [0]])\n",
    "    recalls    = np.concatenate([[0], recalls, [1]])\n",
    "    print('appended [0/0], [0/1] to front/end of precisions/recalls')\n",
    "    print(' Pr: ', precisions)\n",
    "    print(' Rc: ', recalls)\n",
    "    print()\n",
    "    \n",
    "    \n",
    "    # Ensure precision values decrease but don't increase. This way, the\n",
    "    # precision value at each recall threshold is the maximum it can be\n",
    "    # for all following recall thresholds, as specified by the VOC paper.\n",
    "    for i in range(len(precisions) - 2, -1, -1):\n",
    "        precisions[i] = np.maximum(precisions[i], precisions[i + 1])\n",
    "    print('backtracking precsiosn values:', list(range(len(precisions) - 2, -1, -1)))\n",
    "    print(' Pr: ', precisions)\n",
    "    print(' Rc: ', recalls)\n",
    "    print()\n",
    "    \n",
    "    # Compute mean AP over recall range\n",
    "    print(' Rc[:-1] : ', recalls[:-1])\n",
    "    print(' Rc[1:]  : ', recalls[1:])\n",
    "    print(' Pr[1:]  : ', precisions[1:])\n",
    "    print()\n",
    "\n",
    "    ## find points where recall values changes \n",
    "    indices = np.where(recalls[:-1] != recalls[1:])[0] + 1\n",
    "    mAP     = np.sum((recalls[indices] - recalls[indices - 1]) * precisions[indices])\n",
    "    \n",
    "    print('where recalls[:-1] != recalls[1:]:', np.where(recalls[:-1] != recalls[1:]))\n",
    "    print('indices at recall changes : ', indices)\n",
    "    print(' A1: recall[indices]  : ', recalls[indices])\n",
    "    print(' A2: recall[indices-1]: ', recalls[indices-1])\n",
    "    print(' A1 - A2              : ', (recalls[indices] - recalls[indices - 1]))\n",
    "    print(' P1:precision[indices]: ', precisions[indices])\n",
    "    print(' (A1-A2)*P1           : ', (recalls[indices] - recalls[indices - 1]) * precisions[indices])\n",
    "    print(' Sum = mAP            : ', mAP)\n",
    "    print(' Pr        : ', precisions)\n",
    "    print(' Rc        : ', recalls)\n",
    "    print(' Pr*Rc     : ', precisions*recalls)\n",
    "    print(' Sum(Pr*Rc): ', np.sum(precisions*recalls))\n",
    "    print(' Sum(Pr*Rc)/m: ', np.sum(precisions*recalls)/len(precisions))\n",
    "    return mAP, precisions, recalls, overlaps"
   ]
  },
  {
   "cell_type": "code",
   "execution_count": null,
   "metadata": {
    "ExecuteTime": {
     "end_time": "2018-12-11T15:02:26.112999Z",
     "start_time": "2018-12-11T15:02:25.625306Z"
    },
    "hidden": true,
    "scrolled": false
   },
   "outputs": [],
   "source": [
    "orig_score = 5\n",
    "norm_score = 8\n",
    "alt_scr_0  = 11\n",
    "alt_scr_1  = 14   # in MRCNN alt_scr_1 ans alt_scr_2 are the same\n",
    "alt_scr_2  = 20\n",
    "\n",
    "# AP, precisions, recalls, overlaps = compute_ap(gt_data[0]['gt_bbox'], gt_data[0]['gt_class_id'], r['molded_rois'], r['class_ids'], r['scores'])\n",
    "f = fcn_results[0]\n",
    "print(f['gt_bboxes'].shape, f['gt_class_ids'].shape)\n",
    "AP, precisions, recalls, overlaps = compute_ap(f['gt_bboxes'], f['gt_class_ids'], f['molded_rois'], f['class_ids'], f['pr_scores'][:,orig_score])\n",
    "visualize.plot_precision_recall(AP, precisions, recalls,ttl = \"- Orig Score\")"
   ]
  },
  {
   "cell_type": "code",
   "execution_count": null,
   "metadata": {
    "ExecuteTime": {
     "end_time": "2018-11-29T12:19:47.578623Z",
     "start_time": "2018-11-29T12:19:47.227152Z"
    },
    "hidden": true
   },
   "outputs": [],
   "source": [
    "len(precisions)\n",
    "precisions\n"
   ]
  },
  {
   "cell_type": "code",
   "execution_count": null,
   "metadata": {
    "hidden": true
   },
   "outputs": [],
   "source": []
  },
  {
   "cell_type": "code",
   "execution_count": null,
   "metadata": {
    "hidden": true
   },
   "outputs": [],
   "source": []
  },
  {
   "cell_type": "code",
   "execution_count": null,
   "metadata": {
    "hidden": true
   },
   "outputs": [],
   "source": []
  },
  {
   "cell_type": "code",
   "execution_count": null,
   "metadata": {
    "ExecuteTime": {
     "end_time": "2018-11-29T17:55:31.579641Z",
     "start_time": "2018-11-29T17:55:31.193366Z"
    },
    "hidden": true
   },
   "outputs": [],
   "source": [
    "f = fcn_results[0]\n",
    "f.keys()"
   ]
  },
  {
   "cell_type": "markdown",
   "metadata": {
    "heading_collapsed": true
   },
   "source": [
    "# Display Heatmaps"
   ]
  },
  {
   "cell_type": "code",
   "execution_count": null,
   "metadata": {
    "ExecuteTime": {
     "end_time": "2019-01-02T15:51:08.495307Z",
     "start_time": "2019-01-02T15:51:08.179586Z"
    },
    "hidden": true,
    "hideCode": false,
    "hideOutput": false
   },
   "outputs": [],
   "source": [
    "# from mrcnn.visualize import (plot_one_bbox_heatmap, \n",
    "#                              plot_3d_heatmap, plot_2d_heatmap, \n",
    "#                               plot_2d_heatmap_compare, plot_3d_heatmap_compare)\n",
    "# import matplotlib as plt\n",
    "img_id = 0\n",
    "f= fcn_results[img_id]\n",
    "image_id=f['image_meta'][0]\n",
    "print('Image id: ',image_id, ' Coco ID: ', dataset_test.image_info[image_id]['id'])\n",
    "print(f['pr_scores'][:,4])\n",
    "\n",
    "coco_class_names = dataset_test.class_names\n",
    "gt_class_ids = np.unique(f['gt_class_ids']).astype(int).tolist()\n",
    "pr_class_ids = np.unique(f['pr_scores'][:,4]).astype(int).tolist()\n",
    "fcn_class_ids = np.unique(f['fcn_scores'][:,4]).astype(int).tolist()\n",
    "print('  GT class ids: ', gt_class_ids)\n",
    "print('Pred class ids: ', pr_class_ids)\n",
    "print('FCN  class ids: ', fcn_class_ids)"
   ]
  },
  {
   "cell_type": "markdown",
   "metadata": {
    "heading_collapsed": true,
    "hidden": true
   },
   "source": [
    "## Overlay images with heatmaps"
   ]
  },
  {
   "cell_type": "markdown",
   "metadata": {
    "heading_collapsed": true,
    "hidden": true
   },
   "source": [
    "### Overlay image with pred_heatmaps"
   ]
  },
  {
   "cell_type": "code",
   "execution_count": null,
   "metadata": {
    "ExecuteTime": {
     "end_time": "2019-01-01T19:48:03.461028Z",
     "start_time": "2019-01-01T19:48:00.580047Z"
    },
    "hidden": true,
    "scrolled": false
   },
   "outputs": [],
   "source": [
    "from mrcnn.visualize import display_heatmaps, display_heatmaps_fcn, display_heatmaps_mrcnn, inference_heatmaps_display\n",
    "# visualize.display_image_bw(image)\n",
    "# print(model_gt_heatmap_scores.shape)\n",
    "class_ids = np.unique(f['pr_scores'][:,4]).astype(int).tolist()\n",
    "print('class ids: ', class_ids)\n",
    "inference_heatmaps_display(fcn_results, 0, class_ids = class_ids, class_names = coco_class_names, hm = 'pr_hm' ,config = mrcnn_model.config, scaling = 'class', columns = 4) \n",
    "# , display_heatmaps_mrcnn(train_batch_x, model_output, 0, hm = 'pr',  \n",
    "#                      config = mrcnn_config, class_ids = class_ids)"
   ]
  },
  {
   "cell_type": "markdown",
   "metadata": {
    "hidden": true
   },
   "source": [
    "### Overlay image with fcn_heatmaps"
   ]
  },
  {
   "cell_type": "code",
   "execution_count": null,
   "metadata": {
    "ExecuteTime": {
     "end_time": "2019-01-01T19:49:30.224424Z",
     "start_time": "2019-01-01T19:49:26.685449Z"
    },
    "hidden": true,
    "scrolled": false
   },
   "outputs": [],
   "source": [
    "from mrcnn.visualize import display_heatmaps, display_heatmaps_fcn, display_heatmaps_mrcnn, inference_heatmaps_display\n",
    "# visualize.display_image_bw(image)\n",
    "# print(model_gt_heatmap_scores.shape)\n",
    "class_ids = np.unique(f['pr_scores'][:,4]).astype(int).tolist()\n",
    "print('class ids: ', class_ids)\n",
    "inference_heatmaps_display(fcn_results, 0, \n",
    "#                            class_ids = class_ids, \n",
    "                           class_names = coco_class_names, hm = 'fcn_hm' ,config = mrcnn_model.config, scaling = 'all', columns = 4) \n",
    "# , display_heatmaps_mrcnn(train_batch_x, model_output, 0, hm = 'pr',  "
   ]
  },
  {
   "cell_type": "markdown",
   "metadata": {
    "hidden": true
   },
   "source": [
    "### Overlay image with pr_heatmaps and fcn_heatmaps"
   ]
  },
  {
   "cell_type": "code",
   "execution_count": null,
   "metadata": {
    "ExecuteTime": {
     "end_time": "2019-01-01T19:50:57.763079Z",
     "start_time": "2019-01-01T19:50:51.890057Z"
    },
    "hidden": true,
    "scrolled": false
   },
   "outputs": [],
   "source": [
    "visualize.inference_heatmaps_compare(fcn_results, image_id = 0 , hm = 'fcn_hm', \n",
    "                     config = mrcnn_model.config, \n",
    "#                      class_ids = pr_class_ids, \n",
    "                     class_names = coco_class_names, scaling = 'clip')"
   ]
  },
  {
   "cell_type": "markdown",
   "metadata": {
    "heading_collapsed": true,
    "hidden": true
   },
   "source": [
    "## 2D Plots"
   ]
  },
  {
   "cell_type": "markdown",
   "metadata": {
    "heading_collapsed": true,
    "hidden": true
   },
   "source": [
    "###  2D plot of `model_gt_heatmap`  "
   ]
  },
  {
   "cell_type": "code",
   "execution_count": null,
   "metadata": {
    "ExecuteTime": {
     "end_time": "2019-01-02T16:20:27.226627Z",
     "start_time": "2019-01-02T16:20:26.898714Z"
    },
    "hidden": true,
    "hideCode": false,
    "hideOutput": false,
    "scrolled": true
   },
   "outputs": [],
   "source": [
    "print('Image : {}  ClassIds: {}'.format(img_id, gt_class_ids))\n",
    "visualize.plot_2d_heatmap(model_gt_heatmap, model_gt_heatmap_scores, img_id, gt_class_ids, \n",
    "                 class_names = coco_class_names, columns = 3, scale = 4, scaling = 'all')"
   ]
  },
  {
   "cell_type": "markdown",
   "metadata": {
    "hidden": true
   },
   "source": [
    "###  2D plot of `pr_heatmap` (w/ Ground Truth Bounding Boxes)"
   ]
  },
  {
   "cell_type": "code",
   "execution_count": null,
   "metadata": {
    "ExecuteTime": {
     "end_time": "2019-01-02T16:20:48.619579Z",
     "start_time": "2019-01-02T16:20:47.525021Z"
    },
    "hidden": true,
    "hideCode": false,
    "hideOutput": false,
    "scrolled": false
   },
   "outputs": [],
   "source": [
    "print('Image : {}  ClassIds: {}'.format(img_id, pr_class_ids))\n",
    "_ = visualize.plot_2d_heatmap(f['pr_hm'], f['pr_hm_scores'],0, gt_class_ids, columns = 2,\n",
    "                             class_names = coco_class_names, scale = 1, scaling = 'none')"
   ]
  },
  {
   "cell_type": "markdown",
   "metadata": {
    "heading_collapsed": true,
    "hidden": true
   },
   "source": [
    "###  2D plot of `fcn_heatmap` (w/ GT Bounding Boxes)"
   ]
  },
  {
   "cell_type": "code",
   "execution_count": null,
   "metadata": {
    "ExecuteTime": {
     "end_time": "2019-01-02T16:21:01.208344Z",
     "start_time": "2019-01-02T16:21:00.122069Z"
    },
    "hidden": true,
    "hideCode": false,
    "hideOutput": false,
    "scrolled": false
   },
   "outputs": [],
   "source": [
    "print('Image : {}  ClassIds: {}'.format(img_id, gt_class_ids))\n",
    "disp_classes = None \n",
    "\n",
    "_ = visualize.plot_2d_heatmap(f['fcn_hm'], f['fcn_hm_scores'],img_id, disp_classes, columns = 2, size=(9,9),\n",
    "                             class_names = coco_class_names, scale = 1, scaling = 'none')"
   ]
  },
  {
   "cell_type": "markdown",
   "metadata": {
    "hidden": true
   },
   "source": [
    "###  2D plot of `model_fcn_heatmap` (w/ MRCNN PREDICTED Bounding Boxes)"
   ]
  },
  {
   "cell_type": "code",
   "execution_count": null,
   "metadata": {
    "ExecuteTime": {
     "end_time": "2019-01-02T16:21:31.931937Z",
     "start_time": "2019-01-02T16:21:31.071883Z"
    },
    "hidden": true,
    "hideCode": false,
    "hideOutput": false,
    "scrolled": false
   },
   "outputs": [],
   "source": [
    "print(f['fcn_hm'].shape)\n",
    "print('Image : {}  ClassIds: {}'.format(img_id, pr_class_ids))\n",
    "fig  = visualize.plot_2d_heatmap(f['fcn_hm'], f['fcn_hm_scores'],img_id, pr_class_ids, columns = 2,\n",
    "                             class_names = coco_class_names, scale = 1, scaling = 'class')"
   ]
  },
  {
   "cell_type": "markdown",
   "metadata": {
    "hidden": true
   },
   "source": [
    "####  2D plot of `model_fcn_heatmap` returned from model - ALL CLASSES"
   ]
  },
  {
   "cell_type": "code",
   "execution_count": null,
   "metadata": {
    "ExecuteTime": {
     "end_time": "2018-12-12T13:06:10.736475Z",
     "start_time": "2018-12-12T13:06:10.302508Z"
    },
    "hidden": true,
    "hideCode": false,
    "hideOutput": false,
    "scrolled": false
   },
   "outputs": [],
   "source": [
    "# class_ids = np.unique(model_pred_heatmap_scores[img_id,:,:,4]).astype(int).tolist()\n",
    "# print('Image : {}  Pred ClassIds: {}'.format(img_id, class_ids))\n",
    "# fig  = visualize.plot_2d_heatmap(model_fcn_heatmap, model_fcn_scores, img_id, \n",
    "#                                  columns = 5, class_names = coco_class_names, scale = 4, scaling = 'class')    \n",
    "#     fig.savefig('fcn_heatmaps_2d.png')"
   ]
  },
  {
   "cell_type": "markdown",
   "metadata": {
    "hidden": true
   },
   "source": [
    "####  2D comparative display `pred_heatmap` / `fcn_heatmap`  "
   ]
  },
  {
   "cell_type": "code",
   "execution_count": null,
   "metadata": {
    "ExecuteTime": {
     "end_time": "2019-01-02T14:48:41.492408Z",
     "start_time": "2019-01-02T14:48:36.731817Z"
    },
    "hidden": true,
    "hideCode": false,
    "hideOutput": false,
    "scrolled": false
   },
   "outputs": [],
   "source": [
    "print(f['pr_hm_scores'].shape)\n",
    "for img_id in [0]: ##range(mrcnn_config.BATCH_SIZE):\n",
    "    class_ids = np.unique(f['pr_hm_scores'][:,:,4]).astype(int).tolist()\n",
    "    print('Image : {}  ClassIds: {}'.format(img_id, class_ids))\n",
    "#     class_ids = list(range(30))\n",
    "    _ = visualize.plot_2d_heatmap_compare(f['pr_hm'], f['fcn_hm'], f['pr_hm_scores'],  \n",
    "                            img_id, class_ids = class_ids, class_names = class_names, scale = 1, scaling = 'none' )    "
   ]
  },
  {
   "cell_type": "code",
   "execution_count": null,
   "metadata": {
    "hidden": true
   },
   "outputs": [],
   "source": []
  },
  {
   "cell_type": "markdown",
   "metadata": {
    "hidden": true
   },
   "source": [
    "##  3D Plots"
   ]
  },
  {
   "cell_type": "markdown",
   "metadata": {
    "hidden": true
   },
   "source": [
    "###  3D plot of `fcn_heatmap` returned form model - classes predicted by MRCNN only "
   ]
  },
  {
   "cell_type": "code",
   "execution_count": null,
   "metadata": {
    "ExecuteTime": {
     "end_time": "2019-01-02T16:25:50.432106Z",
     "start_time": "2019-01-02T16:25:49.443428Z"
    },
    "hidden": true,
    "scrolled": false
   },
   "outputs": [],
   "source": [
    "# import matplotlib.pyplot as plt\n",
    "# from   mpl_toolkits.mplot3d import Axes3D\n",
    "\n",
    "# from importlib import reload\n",
    "# reload(plt)\n",
    "# %matplotlib notebook\n",
    "print(np.max(f['fcn_hm']), np.min(f['fcn_hm']))\n",
    "print(f['fcn_hm'].shape)\n",
    "class_ids = pr_class_ids\n",
    "class_ids = None \n",
    "# class_ids = np.arange(10)\n",
    "print('Image : {}  ClassIds: {}'.format(img_id, class_ids))\n",
    "# visualize.plot_3d_heatmap(f['fcn_hm'], 0, class_ids,class_names = class_names, scaling = 'none', size = (24,24), columns = 1)\n",
    "visualize.plot_3d_gaussian(f['fcn_hm'][:,:,6])"
   ]
  },
  {
   "cell_type": "markdown",
   "metadata": {
    "hidden": true
   },
   "source": [
    "###  3D plot of `fcn_softmax` returned form model - only classes in pred_scores"
   ]
  },
  {
   "cell_type": "code",
   "execution_count": null,
   "metadata": {
    "ExecuteTime": {
     "end_time": "2019-01-02T16:19:18.144477Z",
     "start_time": "2019-01-02T16:19:13.955512Z"
    },
    "hidden": true,
    "hideCode": false,
    "hideOutput": false,
    "scrolled": false
   },
   "outputs": [],
   "source": [
    "for img_id in [0]: ##range(mrcnn_config.BATCH_SIZE):\n",
    "    print(f['fcn_hm'].shape)\n",
    "    class_ids = np.unique(f['pr_scores'][:,4]).astype(int).tolist()\n",
    "    print('Image : {}  ClassIds: {}'.format(img_id, class_ids))\n",
    "    visualize.plot_3d_heatmap(f['fcn_sm'], 0,class_names = coco_class_names, scaling = 'none')"
   ]
  },
  {
   "cell_type": "code",
   "execution_count": null,
   "metadata": {
    "hidden": true
   },
   "outputs": [],
   "source": []
  },
  {
   "cell_type": "markdown",
   "metadata": {
    "heading_collapsed": true
   },
   "source": [
    "# Run Object Detection on sample images"
   ]
  },
  {
   "cell_type": "markdown",
   "metadata": {
    "heading_collapsed": true,
    "hidden": true
   },
   "source": [
    "### Test on a random image from images folder"
   ]
  },
  {
   "cell_type": "code",
   "execution_count": null,
   "metadata": {
    "ExecuteTime": {
     "end_time": "2018-12-11T12:08:31.773553Z",
     "start_time": "2018-12-11T12:08:30.831194Z"
    },
    "hidden": true
   },
   "outputs": [],
   "source": [
    "# Load a random image from the images folder\n",
    "# import mrcnn.visualize as visualize\n",
    "import random\n",
    "import skimage.io\n",
    "import matplotlib.pyplot as plt\n",
    "IMAGE_DIR = 'E:/git_projs/mrcnn3/images'\n",
    "# IMAGE_DIR = '/esat/tiger/joramas/mscStudentsData/kbardool/projs/mrcnn3/images'\n",
    "file_names = next(os.walk(IMAGE_DIR))[2]\n",
    "# print(file_names)\n",
    "random_filename = random.choice(file_names)\n",
    "print(random_filename)\n",
    "image = skimage.io.imread(os.path.join(IMAGE_DIR, random_filename))\n",
    "plt.figure(figsize=(11,11))\n",
    "plt.imshow(image)"
   ]
  },
  {
   "cell_type": "code",
   "execution_count": null,
   "metadata": {
    "ExecuteTime": {
     "end_time": "2018-12-11T11:37:43.343320Z",
     "start_time": "2018-12-11T11:37:42.962339Z"
    },
    "hidden": true,
    "scrolled": true
   },
   "outputs": [],
   "source": [
    "# Run detection\n",
    "# results = mrcnn_model.detect([image], verbose=1)\n",
    "results = fcn_model.detect_from_images(mrcnn_model, [image], verbose=1)"
   ]
  },
  {
   "cell_type": "markdown",
   "metadata": {
    "heading_collapsed": true,
    "hidden": true
   },
   "source": [
    "###  Test on loaded image"
   ]
  },
  {
   "cell_type": "code",
   "execution_count": null,
   "metadata": {
    "ExecuteTime": {
     "end_time": "2018-10-25T14:25:29.070359Z",
     "start_time": "2018-10-25T14:25:27.993958Z"
    },
    "hidden": true,
    "scrolled": false
   },
   "outputs": [],
   "source": [
    "# Visualize results\n",
    "r = results[0]\n",
    "for bbox, cls, scr in zip(r['rois'], r['class_ids'],  r['scores']):\n",
    "    print('{}    {:2d}    {:.<20s}  {:5.4f} '.format(bbox, cls, dataset_test.class_names[cls], scr))\n",
    "visualize.display_instances(image, r['rois'], r['class_ids'], dataset_test.class_names, r['scores']) #, score_range=(0.21, 0.22))"
   ]
  },
  {
   "cell_type": "code",
   "execution_count": null,
   "metadata": {
    "ExecuteTime": {
     "end_time": "2018-10-25T14:09:41.110358Z",
     "start_time": "2018-10-25T14:09:39.918627Z"
    },
    "hidden": true
   },
   "outputs": [],
   "source": [
    "r = results[0]\n",
    "for bbox, cls, scr in zip(r['rois'], r['class_ids'],  r['scores']):\n",
    "    print('{}    {:2d}    {:.<20s}  {:5.4f} '.format(bbox,cls,dataset_test.class_names[cls], scr))\n",
    "visualize.display_instances(image, r['rois'], r['class_ids'], dataset_test.class_names, r['scores'], ax=visualize.get_ax(size=16))"
   ]
  },
  {
   "cell_type": "markdown",
   "metadata": {
    "heading_collapsed": true,
    "hidden": true
   },
   "source": [
    "###  Display random image from test dataset"
   ]
  },
  {
   "cell_type": "code",
   "execution_count": null,
   "metadata": {
    "ExecuteTime": {
     "end_time": "2018-09-05T18:58:10.702912Z",
     "start_time": "2018-09-05T18:58:10.026402Z"
    },
    "hidden": true,
    "scrolled": false
   },
   "outputs": [],
   "source": [
    "# Load random image and mask. ### 27711 persons and boats\n",
    "image_id = np.random.choice(dataset_test.image_ids)\n",
    "image    = dataset_test.load_image(image_id)\n",
    "mask, class_ids = dataset_test.load_mask(image_id)\n",
    "# Compute Bounding box\n",
    "bbox = utils.extract_bboxes(mask)\n",
    "\n",
    "# Display image and additional stats\n",
    "print(\"image_id \", image_id, dataset_test.image_reference(image_id))\n",
    "log(\"image\", image)\n",
    "log(\"mask\", mask)\n",
    "log(\"class_ids\", class_ids)\n",
    "log(\"bbox\", bbox)\n",
    "print(class_ids.shape[0], bbox.shape[0])\n",
    "# Display image and instances\n",
    "# visualize.display_instances_with_mask(image, bbox, mask, class_ids, dataset_train.class_names)\n",
    "visualize.display_instances(image, bbox, class_ids, dataset_test.class_names)"
   ]
  },
  {
   "cell_type": "code",
   "execution_count": null,
   "metadata": {
    "ExecuteTime": {
     "end_time": "2018-09-05T18:58:50.331159Z",
     "start_time": "2018-09-05T18:58:49.583165Z"
    },
    "hidden": true,
    "scrolled": true
   },
   "outputs": [],
   "source": [
    "results = mrcnn_model.detect([image], verbose=1)"
   ]
  },
  {
   "cell_type": "code",
   "execution_count": null,
   "metadata": {
    "ExecuteTime": {
     "end_time": "2018-09-05T18:58:57.782512Z",
     "start_time": "2018-09-05T18:58:57.228345Z"
    },
    "hidden": true
   },
   "outputs": [],
   "source": [
    "print('resutls :', results)\n",
    "# Visualize results\n",
    "r = results[0]\n",
    "for bbox, cls, scr in zip(r['rois'], r['class_ids'],  r['scores']):\n",
    "    print('{}    {:2d}    {:.<20s}  {:5.4f} '.format(bbox,cls,dataset_test.class_names[cls], scr))\n",
    "visualize.display_instances(image, r['rois'], r['class_ids'], dataset_test.class_names, r['scores'])"
   ]
  },
  {
   "cell_type": "markdown",
   "metadata": {
    "heading_collapsed": true,
    "hidden": true
   },
   "source": [
    "### Test on a random image from test dataset"
   ]
  },
  {
   "cell_type": "code",
   "execution_count": null,
   "metadata": {
    "ExecuteTime": {
     "end_time": "2018-09-05T18:59:32.254388Z",
     "start_time": "2018-09-05T18:59:31.391971Z"
    },
    "hidden": true
   },
   "outputs": [],
   "source": [
    "# Test on a random image\n",
    "# Validation dataset\n",
    "# dataset_val = shapes.ShapesDataset()\n",
    "# dataset_val.load_shapes(50, config.IMAGE_SHAPE[0], config.IMAGE_SHAPE[1])\n",
    "# dataset_val.prepare()\n",
    "\n",
    "image_id = random.choice(dataset_test.image_ids)\n",
    "original_image, image_meta, gt_class_id, gt_bbox =\\\n",
    "    load_image_gt(dataset_test, mrcnn_config, image_id, use_mini_mask=False)\n",
    "    \n",
    "\n",
    "print('Image Id :', image_id)    \n",
    "shape_list = dataset_test.image_info[image_id] \n",
    "pp.pprint(shape_list)\n",
    "log(\"original_image\", original_image)\n",
    "log(\"image_meta\", image_meta)\n",
    "print(image_meta)\n",
    "log(\"gt_class_id\", gt_bbox)\n",
    "log(\"gt_bbox\", gt_bbox)\n",
    "# log(\"gt_mask\", gt_mask)\n",
    "\n",
    "print(\" 1: person   2: car  3: sun  4: building  5: tree  6: cloud \")\n",
    "visualize.display_instances(original_image, gt_bbox, gt_class_id, \n",
    "                            dataset_test.class_names, figsize=(8, 8))"
   ]
  },
  {
   "cell_type": "code",
   "execution_count": null,
   "metadata": {
    "ExecuteTime": {
     "end_time": "2018-05-10T11:56:18.825541Z",
     "start_time": "2018-05-10T11:56:16.622430Z"
    },
    "hidden": true,
    "scrolled": false
   },
   "outputs": [],
   "source": [
    "results = model.detect([original_image], verbose=1)"
   ]
  },
  {
   "cell_type": "code",
   "execution_count": null,
   "metadata": {
    "ExecuteTime": {
     "end_time": "2018-05-10T11:56:20.774651Z",
     "start_time": "2018-05-10T11:56:20.439754Z"
    },
    "hidden": true
   },
   "outputs": [],
   "source": [
    "r = results[0]\n",
    "print('  rois       : ', r['rois'])\n",
    "print('  masks      : ', r['masks'].shape)\n",
    "print('  class ids  : ', r['class_ids'])\n",
    "print('  class names: ', dataset_test.class_names)\n",
    "print('  scores     : ', r['scores'])\n",
    "visualize.display_instances(original_image, r['rois'], r['masks'], r['class_ids'], \n",
    "                            dataset_test.class_names, r['scores'], ax=get_ax())"
   ]
  },
  {
   "cell_type": "markdown",
   "metadata": {},
   "source": [
    "# Evaluation of mAP  over a number of images"
   ]
  },
  {
   "cell_type": "code",
   "execution_count": 10,
   "metadata": {
    "ExecuteTime": {
     "end_time": "2019-01-24T15:00:23.970643Z",
     "start_time": "2019-01-24T15:00:22.789756Z"
    }
   },
   "outputs": [],
   "source": [
    "np_format = {}\n",
    "np_format['float'] = lambda x: \"%10.4f\" % x\n",
    "np_format['int']   = lambda x: \"%10d\" % x\n",
    "np.set_printoptions(linewidth=195, precision=4, floatmode='fixed', threshold =10000, formatter = np_format)"
   ]
  },
  {
   "cell_type": "markdown",
   "metadata": {
    "heading_collapsed": true
   },
   "source": [
    "### Load previously saved AP Results from file"
   ]
  },
  {
   "cell_type": "code",
   "execution_count": 3,
   "metadata": {
    "ExecuteTime": {
     "end_time": "2019-02-03T14:38:34.290594Z",
     "start_time": "2019-02-03T14:38:33.938345Z"
    },
    "hidden": true
   },
   "outputs": [
    {
     "name": "stdout",
     "output_type": "stream",
     "text": [
      "Path: E:\\git_projs\\MRCNN3\\train_newshapes\\eval_method1_results      Old Filename:  eval1_AP_results_2019_01_17 New Filename: eval1_AP_results_2019_01_24\n"
     ]
    }
   ],
   "source": [
    "####eval_method = '1'\n",
    "save_path = \"E:\\\\git_projs\\\\MRCNN3\\\\train_newshapes\\\\eval_method\"+eval_method+\"_results\"\n",
    "file_prefix = 'eval'+eval_method\n",
    "old_AP_results_file = file_prefix+'_AP_results_2019_01_17'\n",
    "new_AP_results_file = file_prefix+'_AP_results_2019_01_24'\n",
    "print('Path:' ,save_path, '     Old Filename: ', old_AP_results_file,  'New Filename:', new_AP_results_file)"
   ]
  },
  {
   "cell_type": "code",
   "execution_count": 4,
   "metadata": {
    "ExecuteTime": {
     "end_time": "2019-02-03T14:38:38.001239Z",
     "start_time": "2019-02-03T14:38:37.671003Z"
    },
    "hidden": true
   },
   "outputs": [
    {
     "ename": "FileNotFoundError",
     "evalue": "[Errno 2] No such file or directory: 'E:\\\\git_projs\\\\MRCNN3\\\\train_newshapes\\\\eval_method1_results\\\\eval1_AP_results_2019_01_17.pkl'",
     "output_type": "error",
     "traceback": [
      "\u001b[1;31m------------------------------------------\u001b[0m",
      "\u001b[1;31mFileNotFoundError\u001b[0mTraceback (most recent call last)",
      "\u001b[1;32m<ipython-input-4-c6da024f398c>\u001b[0m in \u001b[0;36m<module>\u001b[1;34m()\u001b[0m\n\u001b[0;32m      1\u001b[0m \u001b[0mAll_APResults\u001b[0m \u001b[1;33m=\u001b[0m \u001b[1;33m{\u001b[0m\u001b[1;33m}\u001b[0m\u001b[1;33m\u001b[0m\u001b[0m\n\u001b[0;32m      2\u001b[0m \u001b[1;31m##--OR --#\u001b[0m\u001b[1;33m\u001b[0m\u001b[1;33m\u001b[0m\u001b[0m\n\u001b[1;32m----> 3\u001b[1;33m \u001b[1;32mwith\u001b[0m \u001b[0mopen\u001b[0m\u001b[1;33m(\u001b[0m\u001b[0mos\u001b[0m\u001b[1;33m.\u001b[0m\u001b[0mpath\u001b[0m\u001b[1;33m.\u001b[0m\u001b[0mjoin\u001b[0m\u001b[1;33m(\u001b[0m\u001b[0msave_path\u001b[0m\u001b[1;33m,\u001b[0m \u001b[0mold_AP_results_file\u001b[0m\u001b[1;33m+\u001b[0m\u001b[1;34m'.pkl'\u001b[0m\u001b[1;33m)\u001b[0m\u001b[1;33m,\u001b[0m \u001b[1;34m'rb'\u001b[0m\u001b[1;33m)\u001b[0m \u001b[1;32mas\u001b[0m \u001b[0moutfile\u001b[0m\u001b[1;33m:\u001b[0m\u001b[1;33m\u001b[0m\u001b[0m\n\u001b[0m\u001b[0;32m      4\u001b[0m     \u001b[0mAPRes\u001b[0m \u001b[1;33m=\u001b[0m \u001b[0mpickle\u001b[0m\u001b[1;33m.\u001b[0m\u001b[0mload\u001b[0m\u001b[1;33m(\u001b[0m\u001b[0moutfile\u001b[0m\u001b[1;33m)\u001b[0m\u001b[1;33m\u001b[0m\u001b[0m\n\u001b[0;32m      5\u001b[0m \u001b[0mAll_APResults\u001b[0m \u001b[1;33m=\u001b[0m \u001b[0mAPRes\u001b[0m\u001b[1;33m\u001b[0m\u001b[0m\n",
      "\u001b[1;31mFileNotFoundError\u001b[0m: [Errno 2] No such file or directory: 'E:\\\\git_projs\\\\MRCNN3\\\\train_newshapes\\\\eval_method1_results\\\\eval1_AP_results_2019_01_17.pkl'"
     ]
    }
   ],
   "source": [
    "All_APResults = {}\n",
    "##--OR --#\n",
    "with open(os.path.join(save_path, old_AP_results_file+'.pkl'), 'rb') as outfile:\n",
    "    APRes = pickle.load(outfile)\n",
    "All_APResults = APRes"
   ]
  },
  {
   "cell_type": "code",
   "execution_count": 13,
   "metadata": {
    "ExecuteTime": {
     "end_time": "2019-01-24T15:00:52.999206Z",
     "start_time": "2019-01-24T15:00:52.708000Z"
    },
    "hidden": true
   },
   "outputs": [
    {
     "name": "stdout",
     "output_type": "stream",
     "text": [
      "0\n"
     ]
    }
   ],
   "source": [
    "# print('/'.join(weights_file.split('/')[-3:]))\n",
    "print(len(All_APResults.keys()))\n",
    "for i in sorted(All_APResults):\n",
    "    print(i, All_APResults[i]['Epochs'])"
   ]
  },
  {
   "cell_type": "markdown",
   "metadata": {
    "heading_collapsed": true
   },
   "source": [
    "### Load weight file"
   ]
  },
  {
   "cell_type": "code",
   "execution_count": 15,
   "metadata": {
    "ExecuteTime": {
     "end_time": "2019-01-24T15:01:13.335661Z",
     "start_time": "2019-01-24T15:01:13.005412Z"
    },
    "hidden": true
   },
   "outputs": [
    {
     "name": "stdout",
     "output_type": "stream",
     "text": [
      "fcn_0001.h5\n"
     ]
    }
   ],
   "source": [
    "DIR_WEIGHTS =  'F:/models_newshapes/train_fcn8_l2_newshapes/fcn20181224T0000' ### Training with LR=0.00001, MSE Loss NO L2 Regularization\n",
    "\n",
    "files   = ['fcn_0001.h5', 'fcn_0150.h5', 'fcn_0346.h5', 'fcn_0421.h5',\n",
    "           'fcn_0450.h5', 'fcn_0482.h5', 'fcn_0521.h5', 'fcn_0610.h5',\n",
    "           'fcn_0687.h5', 'fcn_0793.h5', 'fcn_0821.h5', 'fcn_0940.h5',\n",
    "           'fcn_1012.h5', 'fcn_1127.h5', 'fcn_1644.h5', 'fcn_1776.h5',\n",
    "           'fcn_1848.h5', 'fcn_2017.h5', 'fcn_2084.h5', 'fcn_x0434.h5', 'fcn_x0419.h5']\n",
    "\n",
    "print(files[0])"
   ]
  },
  {
   "cell_type": "markdown",
   "metadata": {
    "heading_collapsed": true
   },
   "source": [
    "### Run `compute_ap` over images"
   ]
  },
  {
   "cell_type": "code",
   "execution_count": 17,
   "metadata": {
    "ExecuteTime": {
     "end_time": "2019-01-24T15:24:46.813655Z",
     "start_time": "2019-01-24T15:02:52.315495Z"
    },
    "hidden": true,
    "scrolled": true
   },
   "outputs": [
    {
     "name": "stdout",
     "output_type": "stream",
     "text": [
      "Loading weights  F:/models_newshapes/train_fcn8_l2_newshapes/fcn20181224T0000\\fcn_0150.h5\n",
      "-----------------------------------------------\n",
      " Load Model with init parm: [ F:/models_newshapes/train_fcn8_l2_newshapes/fcn20181224T0000\\fcn_0150.h5 ]\n",
      "-----------------------------------------------\n",
      " ---> Explicit weight file\n",
      ">>> load_weights() from : F:/models_newshapes/train_fcn8_l2_newshapes/fcn20181224T0000\\fcn_0150.h5\n",
      "    Weights file loaded: F:/models_newshapes/train_fcn8_l2_newshapes/fcn20181224T0000\\fcn_0150.h5 \n",
      "==========================================\n",
      "FCN  MODEL Load weight file COMPLETE \n",
      "==========================================\n",
      "500\n",
      "==> Calculate AP for image_id :  0\n",
      "==> Calculate AP for image_id :  1\n",
      "==> Calculate AP for image_id :  2\n",
      "==> Calculate AP for image_id :  3\n",
      "==> Calculate AP for image_id :  4\n",
      "==> Calculate AP for image_id :  5\n",
      "==> Calculate AP for image_id :  6\n",
      "==> Calculate AP for image_id :  7\n",
      "==> Calculate AP for image_id :  8\n",
      "==> Calculate AP for image_id :  9\n",
      "==> Calculate AP for image_id :  10\n",
      "==> Calculate AP for image_id :  11\n",
      "==> Calculate AP for image_id :  12\n",
      "==> Calculate AP for image_id :  13\n",
      "==> Calculate AP for image_id :  14\n",
      "==> Calculate AP for image_id :  15\n",
      "==> Calculate AP for image_id :  16\n",
      "==> Calculate AP for image_id :  17\n",
      "==> Calculate AP for image_id :  18\n",
      "==> Calculate AP for image_id :  19\n",
      "==> Calculate AP for image_id :  20\n",
      "==> Calculate AP for image_id :  21\n",
      "==> Calculate AP for image_id :  22\n",
      "==> Calculate AP for image_id :  23\n",
      "==> Calculate AP for image_id :  24\n",
      "==> Calculate AP for image_id :  25\n",
      "==> Calculate AP for image_id :  26\n",
      "==> Calculate AP for image_id :  27\n",
      "==> Calculate AP for image_id :  28\n",
      "==> Calculate AP for image_id :  29\n",
      "==> Calculate AP for image_id :  30\n",
      "==> Calculate AP for image_id :  31\n",
      "==> Calculate AP for image_id :  32\n",
      "==> Calculate AP for image_id :  33\n",
      "==> Calculate AP for image_id :  34\n",
      "==> Calculate AP for image_id :  35\n",
      "==> Calculate AP for image_id :  36\n",
      "==> Calculate AP for image_id :  37\n",
      "==> Calculate AP for image_id :  38\n",
      "==> Calculate AP for image_id :  39\n",
      "==> Calculate AP for image_id :  40\n",
      "==> Calculate AP for image_id :  41\n",
      "==> Calculate AP for image_id :  42\n",
      "==> Calculate AP for image_id :  43\n",
      "==> Calculate AP for image_id :  44\n",
      "==> Calculate AP for image_id :  45\n",
      "==> Calculate AP for image_id :  46\n",
      "==> Calculate AP for image_id :  47\n",
      "==> Calculate AP for image_id :  48\n",
      "==> Calculate AP for image_id :  49\n",
      "==> Calculate AP for image_id :  50\n",
      "==> Calculate AP for image_id :  51\n",
      "==> Calculate AP for image_id :  52\n",
      "==> Calculate AP for image_id :  53\n",
      "==> Calculate AP for image_id :  54\n",
      "==> Calculate AP for image_id :  55\n",
      "==> Calculate AP for image_id :  56\n",
      "==> Calculate AP for image_id :  57\n",
      "==> Calculate AP for image_id :  58\n",
      "==> Calculate AP for image_id :  59\n",
      "==> Calculate AP for image_id :  60\n",
      "==> Calculate AP for image_id :  61\n",
      "==> Calculate AP for image_id :  62\n",
      "==> Calculate AP for image_id :  63\n",
      "==> Calculate AP for image_id :  64\n",
      "==> Calculate AP for image_id :  65\n",
      "==> Calculate AP for image_id :  66\n",
      "==> Calculate AP for image_id :  67\n",
      "==> Calculate AP for image_id :  68\n",
      "==> Calculate AP for image_id :  69\n",
      "==> Calculate AP for image_id :  70\n",
      "==> Calculate AP for image_id :  71\n",
      "==> Calculate AP for image_id :  72\n",
      "==> Calculate AP for image_id :  73\n",
      "==> Calculate AP for image_id :  74\n",
      "==> Calculate AP for image_id :  75\n",
      "==> Calculate AP for image_id :  76\n",
      "==> Calculate AP for image_id :  77\n",
      "==> Calculate AP for image_id :  78\n",
      "==> Calculate AP for image_id :  79\n",
      "==> Calculate AP for image_id :  80\n",
      "==> Calculate AP for image_id :  81\n",
      "==> Calculate AP for image_id :  82\n",
      "==> Calculate AP for image_id :  83\n",
      "==> Calculate AP for image_id :  84\n",
      "==> Calculate AP for image_id :  85\n",
      "==> Calculate AP for image_id :  86\n",
      "==> Calculate AP for image_id :  87\n",
      "==> Calculate AP for image_id :  88\n",
      "==> Calculate AP for image_id :  89\n",
      "==> Calculate AP for image_id :  90\n",
      "==> Calculate AP for image_id :  91\n",
      "==> Calculate AP for image_id :  92\n",
      "==> Calculate AP for image_id :  93\n",
      "==> Calculate AP for image_id :  94\n",
      "==> Calculate AP for image_id :  95\n",
      "==> Calculate AP for image_id :  96\n",
      "==> Calculate AP for image_id :  97\n",
      "==> Calculate AP for image_id :  98\n",
      "==> Calculate AP for image_id :  99\n",
      "==> Calculate AP for image_id :  100\n",
      "==> Calculate AP for image_id :  101\n",
      "==> Calculate AP for image_id :  102\n",
      "==> Calculate AP for image_id :  103\n",
      "==> Calculate AP for image_id :  104\n",
      "==> Calculate AP for image_id :  105\n",
      "==> Calculate AP for image_id :  106\n",
      "==> Calculate AP for image_id :  107\n",
      "==> Calculate AP for image_id :  108\n",
      "==> Calculate AP for image_id :  109\n",
      "==> Calculate AP for image_id :  110\n",
      "==> Calculate AP for image_id :  111\n",
      "==> Calculate AP for image_id :  112\n",
      "==> Calculate AP for image_id :  113\n",
      "==> Calculate AP for image_id :  114\n",
      "==> Calculate AP for image_id :  115\n",
      "==> Calculate AP for image_id :  116\n",
      "==> Calculate AP for image_id :  117\n",
      "==> Calculate AP for image_id :  118\n",
      "==> Calculate AP for image_id :  119\n",
      "==> Calculate AP for image_id :  120\n",
      "==> Calculate AP for image_id :  121\n",
      "==> Calculate AP for image_id :  122\n",
      "==> Calculate AP for image_id :  123\n",
      "==> Calculate AP for image_id :  124\n",
      "==> Calculate AP for image_id :  125\n",
      "==> Calculate AP for image_id :  126\n",
      "==> Calculate AP for image_id :  127\n",
      "==> Calculate AP for image_id :  128\n",
      "==> Calculate AP for image_id :  129\n",
      "==> Calculate AP for image_id :  130\n",
      "==> Calculate AP for image_id :  131\n",
      "==> Calculate AP for image_id :  132\n",
      "==> Calculate AP for image_id :  133\n",
      "==> Calculate AP for image_id :  134\n",
      "==> Calculate AP for image_id :  135\n",
      "==> Calculate AP for image_id :  136\n",
      "==> Calculate AP for image_id :  137\n",
      "==> Calculate AP for image_id :  138\n",
      "==> Calculate AP for image_id :  139\n",
      "==> Calculate AP for image_id :  140\n",
      "==> Calculate AP for image_id :  141\n",
      "==> Calculate AP for image_id :  142\n",
      "==> Calculate AP for image_id :  143\n",
      "==> Calculate AP for image_id :  144\n",
      "==> Calculate AP for image_id :  145\n",
      "==> Calculate AP for image_id :  146\n",
      "==> Calculate AP for image_id :  147\n",
      "==> Calculate AP for image_id :  148\n",
      "==> Calculate AP for image_id :  149\n",
      "==> Calculate AP for image_id :  150\n",
      "==> Calculate AP for image_id :  151\n",
      "==> Calculate AP for image_id :  152\n",
      "==> Calculate AP for image_id :  153\n",
      "==> Calculate AP for image_id :  154\n",
      "==> Calculate AP for image_id :  155\n",
      "==> Calculate AP for image_id :  156\n",
      "==> Calculate AP for image_id :  157\n",
      "==> Calculate AP for image_id :  158\n",
      "==> Calculate AP for image_id :  159\n",
      "==> Calculate AP for image_id :  160\n",
      "==> Calculate AP for image_id :  161\n",
      "==> Calculate AP for image_id :  162\n",
      "==> Calculate AP for image_id :  163\n",
      "==> Calculate AP for image_id :  164\n",
      "==> Calculate AP for image_id :  165\n",
      "==> Calculate AP for image_id :  166\n",
      "==> Calculate AP for image_id :  167\n",
      "==> Calculate AP for image_id :  168\n",
      "==> Calculate AP for image_id :  169\n",
      "==> Calculate AP for image_id :  170\n",
      "==> Calculate AP for image_id :  171\n",
      "==> Calculate AP for image_id :  172\n",
      "==> Calculate AP for image_id :  173\n",
      "==> Calculate AP for image_id :  174\n",
      "==> Calculate AP for image_id :  175\n",
      "==> Calculate AP for image_id :  176\n",
      "==> Calculate AP for image_id :  177\n",
      "==> Calculate AP for image_id :  178\n",
      "==> Calculate AP for image_id :  179\n",
      "==> Calculate AP for image_id :  180\n",
      "==> Calculate AP for image_id :  181\n",
      "==> Calculate AP for image_id :  182\n",
      "==> Calculate AP for image_id :  183\n",
      "==> Calculate AP for image_id :  184\n",
      "==> Calculate AP for image_id :  185\n",
      "==> Calculate AP for image_id :  186\n",
      "==> Calculate AP for image_id :  187\n",
      "==> Calculate AP for image_id :  188\n",
      "==> Calculate AP for image_id :  189\n",
      "==> Calculate AP for image_id :  190\n",
      "==> Calculate AP for image_id :  191\n",
      "==> Calculate AP for image_id :  192\n",
      "==> Calculate AP for image_id :  193\n",
      "==> Calculate AP for image_id :  194\n",
      "==> Calculate AP for image_id :  195\n",
      "==> Calculate AP for image_id :  196\n",
      "==> Calculate AP for image_id :  197\n",
      "==> Calculate AP for image_id :  198\n",
      "==> Calculate AP for image_id :  199\n",
      "==> Calculate AP for image_id :  200\n",
      "==> Calculate AP for image_id :  201\n",
      "==> Calculate AP for image_id :  202\n",
      "==> Calculate AP for image_id :  203\n",
      "==> Calculate AP for image_id :  204\n",
      "==> Calculate AP for image_id :  205\n",
      "==> Calculate AP for image_id :  206\n"
     ]
    },
    {
     "name": "stdout",
     "output_type": "stream",
     "text": [
      "==> Calculate AP for image_id :  207\n",
      "==> Calculate AP for image_id :  208\n",
      "==> Calculate AP for image_id :  209\n",
      "==> Calculate AP for image_id :  210\n",
      "==> Calculate AP for image_id :  211\n",
      "==> Calculate AP for image_id :  212\n",
      "==> Calculate AP for image_id :  213\n",
      "==> Calculate AP for image_id :  214\n",
      "==> Calculate AP for image_id :  215\n",
      "==> Calculate AP for image_id :  216\n",
      "==> Calculate AP for image_id :  217\n",
      "==> Calculate AP for image_id :  218\n",
      "==> Calculate AP for image_id :  219\n",
      "==> Calculate AP for image_id :  220\n",
      "==> Calculate AP for image_id :  221\n",
      "==> Calculate AP for image_id :  222\n",
      "==> Calculate AP for image_id :  223\n",
      "==> Calculate AP for image_id :  224\n",
      "==> Calculate AP for image_id :  225\n",
      "==> Calculate AP for image_id :  226\n",
      "==> Calculate AP for image_id :  227\n",
      "==> Calculate AP for image_id :  228\n",
      "==> Calculate AP for image_id :  229\n",
      "==> Calculate AP for image_id :  230\n",
      "==> Calculate AP for image_id :  231\n",
      "==> Calculate AP for image_id :  232\n",
      "==> Calculate AP for image_id :  233\n",
      "==> Calculate AP for image_id :  234\n",
      "==> Calculate AP for image_id :  235\n",
      "==> Calculate AP for image_id :  236\n",
      "==> Calculate AP for image_id :  237\n",
      "==> Calculate AP for image_id :  238\n",
      "==> Calculate AP for image_id :  239\n",
      "==> Calculate AP for image_id :  240\n",
      "==> Calculate AP for image_id :  241\n",
      "==> Calculate AP for image_id :  242\n",
      "==> Calculate AP for image_id :  243\n",
      "==> Calculate AP for image_id :  244\n",
      "==> Calculate AP for image_id :  245\n",
      "==> Calculate AP for image_id :  246\n",
      "==> Calculate AP for image_id :  247\n",
      "==> Calculate AP for image_id :  248\n",
      "==> Calculate AP for image_id :  249\n",
      "==> Calculate AP for image_id :  250\n",
      "==> Calculate AP for image_id :  251\n",
      "==> Calculate AP for image_id :  252\n",
      "==> Calculate AP for image_id :  253\n",
      "==> Calculate AP for image_id :  254\n",
      "==> Calculate AP for image_id :  255\n",
      "==> Calculate AP for image_id :  256\n",
      "==> Calculate AP for image_id :  257\n",
      "==> Calculate AP for image_id :  258\n",
      "==> Calculate AP for image_id :  259\n",
      "==> Calculate AP for image_id :  260\n",
      "==> Calculate AP for image_id :  261\n",
      "==> Calculate AP for image_id :  262\n",
      "==> Calculate AP for image_id :  263\n",
      "==> Calculate AP for image_id :  264\n",
      "==> Calculate AP for image_id :  265\n",
      "==> Calculate AP for image_id :  266\n",
      "==> Calculate AP for image_id :  267\n",
      "==> Calculate AP for image_id :  268\n",
      "==> Calculate AP for image_id :  269\n",
      "==> Calculate AP for image_id :  270\n",
      "==> Calculate AP for image_id :  271\n",
      "==> Calculate AP for image_id :  272\n",
      "==> Calculate AP for image_id :  273\n",
      "==> Calculate AP for image_id :  274\n",
      "==> Calculate AP for image_id :  275\n",
      "==> Calculate AP for image_id :  276\n",
      "==> Calculate AP for image_id :  277\n",
      "==> Calculate AP for image_id :  278\n",
      "==> Calculate AP for image_id :  279\n",
      "==> Calculate AP for image_id :  280\n",
      "==> Calculate AP for image_id :  281\n",
      "==> Calculate AP for image_id :  282\n",
      "==> Calculate AP for image_id :  283\n",
      "==> Calculate AP for image_id :  284\n",
      "==> Calculate AP for image_id :  285\n",
      "==> Calculate AP for image_id :  286\n",
      "==> Calculate AP for image_id :  287\n",
      "==> Calculate AP for image_id :  288\n",
      "==> Calculate AP for image_id :  289\n",
      "==> Calculate AP for image_id :  290\n",
      "==> Calculate AP for image_id :  291\n",
      "==> Calculate AP for image_id :  292\n",
      "==> Calculate AP for image_id :  293\n",
      "==> Calculate AP for image_id :  294\n",
      "==> Calculate AP for image_id :  295\n",
      "==> Calculate AP for image_id :  296\n",
      "==> Calculate AP for image_id :  297\n",
      "==> Calculate AP for image_id :  298\n",
      "==> Calculate AP for image_id :  299\n",
      "==> Calculate AP for image_id :  300\n",
      "==> Calculate AP for image_id :  301\n",
      "==> Calculate AP for image_id :  302\n",
      "==> Calculate AP for image_id :  303\n",
      "==> Calculate AP for image_id :  304\n",
      "==> Calculate AP for image_id :  305\n",
      "==> Calculate AP for image_id :  306\n",
      "==> Calculate AP for image_id :  307\n",
      "==> Calculate AP for image_id :  308\n",
      "==> Calculate AP for image_id :  309\n",
      "==> Calculate AP for image_id :  310\n",
      "==> Calculate AP for image_id :  311\n",
      "==> Calculate AP for image_id :  312\n",
      "==> Calculate AP for image_id :  313\n",
      "==> Calculate AP for image_id :  314\n",
      "==> Calculate AP for image_id :  315\n",
      "==> Calculate AP for image_id :  316\n",
      "==> Calculate AP for image_id :  317\n",
      "==> Calculate AP for image_id :  318\n",
      "==> Calculate AP for image_id :  319\n",
      "==> Calculate AP for image_id :  320\n",
      "==> Calculate AP for image_id :  321\n",
      "==> Calculate AP for image_id :  322\n",
      "==> Calculate AP for image_id :  323\n",
      "==> Calculate AP for image_id :  324\n",
      "==> Calculate AP for image_id :  325\n",
      "==> Calculate AP for image_id :  326\n",
      "==> Calculate AP for image_id :  327\n",
      "==> Calculate AP for image_id :  328\n",
      "==> Calculate AP for image_id :  329\n",
      "==> Calculate AP for image_id :  330\n",
      "==> Calculate AP for image_id :  331\n",
      "==> Calculate AP for image_id :  332\n",
      "==> Calculate AP for image_id :  333\n",
      "==> Calculate AP for image_id :  334\n",
      "==> Calculate AP for image_id :  335\n",
      "==> Calculate AP for image_id :  336\n",
      "==> Calculate AP for image_id :  337\n",
      "==> Calculate AP for image_id :  338\n",
      "==> Calculate AP for image_id :  339\n",
      "==> Calculate AP for image_id :  340\n",
      "==> Calculate AP for image_id :  341\n",
      "==> Calculate AP for image_id :  342\n",
      "==> Calculate AP for image_id :  343\n",
      "==> Calculate AP for image_id :  344\n",
      "==> Calculate AP for image_id :  345\n",
      "==> Calculate AP for image_id :  346\n",
      "==> Calculate AP for image_id :  347\n",
      "==> Calculate AP for image_id :  348\n",
      "==> Calculate AP for image_id :  349\n",
      "==> Calculate AP for image_id :  350\n",
      "==> Calculate AP for image_id :  351\n",
      "==> Calculate AP for image_id :  352\n",
      "==> Calculate AP for image_id :  353\n",
      "==> Calculate AP for image_id :  354\n",
      "==> Calculate AP for image_id :  355\n",
      "==> Calculate AP for image_id :  356\n",
      "==> Calculate AP for image_id :  357\n",
      "==> Calculate AP for image_id :  358\n",
      "==> Calculate AP for image_id :  359\n",
      "==> Calculate AP for image_id :  360\n",
      "==> Calculate AP for image_id :  361\n",
      "==> Calculate AP for image_id :  362\n",
      "==> Calculate AP for image_id :  363\n",
      "==> Calculate AP for image_id :  364\n",
      "==> Calculate AP for image_id :  365\n",
      "==> Calculate AP for image_id :  366\n",
      "==> Calculate AP for image_id :  367\n",
      "==> Calculate AP for image_id :  368\n",
      "==> Calculate AP for image_id :  369\n",
      "==> Calculate AP for image_id :  370\n",
      "==> Calculate AP for image_id :  371\n",
      "==> Calculate AP for image_id :  372\n",
      "==> Calculate AP for image_id :  373\n",
      "==> Calculate AP for image_id :  374\n",
      "==> Calculate AP for image_id :  375\n",
      "==> Calculate AP for image_id :  376\n",
      "==> Calculate AP for image_id :  377\n",
      "==> Calculate AP for image_id :  378\n",
      "==> Calculate AP for image_id :  379\n",
      "==> Calculate AP for image_id :  380\n",
      "==> Calculate AP for image_id :  381\n",
      "==> Calculate AP for image_id :  382\n",
      "==> Calculate AP for image_id :  383\n",
      "==> Calculate AP for image_id :  384\n",
      "==> Calculate AP for image_id :  385\n",
      "==> Calculate AP for image_id :  386\n",
      "==> Calculate AP for image_id :  387\n",
      "==> Calculate AP for image_id :  388\n",
      "==> Calculate AP for image_id :  389\n",
      "==> Calculate AP for image_id :  390\n",
      "==> Calculate AP for image_id :  391\n",
      "==> Calculate AP for image_id :  392\n",
      "==> Calculate AP for image_id :  393\n",
      "==> Calculate AP for image_id :  394\n",
      "==> Calculate AP for image_id :  395\n",
      "==> Calculate AP for image_id :  396\n",
      "==> Calculate AP for image_id :  397\n",
      "==> Calculate AP for image_id :  398\n",
      "==> Calculate AP for image_id :  399\n",
      "==> Calculate AP for image_id :  400\n",
      "==> Calculate AP for image_id :  401\n",
      "==> Calculate AP for image_id :  402\n",
      "==> Calculate AP for image_id :  403\n",
      "==> Calculate AP for image_id :  404\n",
      "==> Calculate AP for image_id :  405\n",
      "==> Calculate AP for image_id :  406\n",
      "==> Calculate AP for image_id :  407\n",
      "==> Calculate AP for image_id :  408\n",
      "==> Calculate AP for image_id :  409\n",
      "==> Calculate AP for image_id :  410\n",
      "==> Calculate AP for image_id :  411\n",
      "==> Calculate AP for image_id :  412\n",
      "==> Calculate AP for image_id :  413\n",
      "==> Calculate AP for image_id :  414\n",
      "==> Calculate AP for image_id :  415\n",
      "==> Calculate AP for image_id :  416\n",
      "==> Calculate AP for image_id :  417\n",
      "==> Calculate AP for image_id :  418\n",
      "==> Calculate AP for image_id :  419\n",
      "==> Calculate AP for image_id :  420\n",
      "==> Calculate AP for image_id :  421\n",
      "==> Calculate AP for image_id :  422\n",
      "==> Calculate AP for image_id :  423\n",
      "==> Calculate AP for image_id :  424\n",
      "==> Calculate AP for image_id :  425\n",
      "==> Calculate AP for image_id :  426\n",
      "==> Calculate AP for image_id :  427\n",
      "==> Calculate AP for image_id :  428\n"
     ]
    },
    {
     "name": "stdout",
     "output_type": "stream",
     "text": [
      "==> Calculate AP for image_id :  429\n",
      "==> Calculate AP for image_id :  430\n",
      "==> Calculate AP for image_id :  431\n",
      "==> Calculate AP for image_id :  432\n",
      "==> Calculate AP for image_id :  433\n",
      "==> Calculate AP for image_id :  434\n",
      "==> Calculate AP for image_id :  435\n",
      "==> Calculate AP for image_id :  436\n",
      "==> Calculate AP for image_id :  437\n",
      "==> Calculate AP for image_id :  438\n",
      "==> Calculate AP for image_id :  439\n",
      "==> Calculate AP for image_id :  440\n",
      "==> Calculate AP for image_id :  441\n",
      "==> Calculate AP for image_id :  442\n",
      "==> Calculate AP for image_id :  443\n",
      "==> Calculate AP for image_id :  444\n",
      "==> Calculate AP for image_id :  445\n",
      "==> Calculate AP for image_id :  446\n",
      "==> Calculate AP for image_id :  447\n",
      "==> Calculate AP for image_id :  448\n",
      "==> Calculate AP for image_id :  449\n",
      "==> Calculate AP for image_id :  450\n",
      "==> Calculate AP for image_id :  451\n",
      "==> Calculate AP for image_id :  452\n",
      "==> Calculate AP for image_id :  453\n",
      "==> Calculate AP for image_id :  454\n",
      "==> Calculate AP for image_id :  455\n",
      "==> Calculate AP for image_id :  456\n",
      "==> Calculate AP for image_id :  457\n",
      "==> Calculate AP for image_id :  458\n",
      "==> Calculate AP for image_id :  459\n",
      "==> Calculate AP for image_id :  460\n",
      "==> Calculate AP for image_id :  461\n",
      "==> Calculate AP for image_id :  462\n",
      "==> Calculate AP for image_id :  463\n",
      "==> Calculate AP for image_id :  464\n",
      "==> Calculate AP for image_id :  465\n",
      "==> Calculate AP for image_id :  466\n",
      "==> Calculate AP for image_id :  467\n",
      "==> Calculate AP for image_id :  468\n",
      "==> Calculate AP for image_id :  469\n",
      "==> Calculate AP for image_id :  470\n",
      "==> Calculate AP for image_id :  471\n",
      "==> Calculate AP for image_id :  472\n",
      "==> Calculate AP for image_id :  473\n",
      "==> Calculate AP for image_id :  474\n",
      "==> Calculate AP for image_id :  475\n",
      "==> Calculate AP for image_id :  476\n",
      "==> Calculate AP for image_id :  477\n",
      "==> Calculate AP for image_id :  478\n",
      "==> Calculate AP for image_id :  479\n",
      "==> Calculate AP for image_id :  480\n",
      "==> Calculate AP for image_id :  481\n",
      "==> Calculate AP for image_id :  482\n",
      "==> Calculate AP for image_id :  483\n",
      "==> Calculate AP for image_id :  484\n",
      "==> Calculate AP for image_id :  485\n",
      "==> Calculate AP for image_id :  486\n",
      "==> Calculate AP for image_id :  487\n",
      "==> Calculate AP for image_id :  488\n",
      "==> Calculate AP for image_id :  489\n",
      "==> Calculate AP for image_id :  490\n",
      "==> Calculate AP for image_id :  491\n",
      "==> Calculate AP for image_id :  492\n",
      "==> Calculate AP for image_id :  493\n",
      "==> Calculate AP for image_id :  494\n",
      "==> Calculate AP for image_id :  495\n",
      "==> Calculate AP for image_id :  496\n",
      "==> Calculate AP for image_id :  497\n",
      "==> Calculate AP for image_id :  498\n",
      "==> Calculate AP for image_id :  499\n",
      "complete\n",
      "AP Calcs complete for epoch: 0150  Weight file: F:/models_newshapes/train_fcn8_l2_newshapes/fcn20181224T0000\\fcn_0150.h5\n",
      "1\n",
      "F:/models_newshapes/train_fcn8_l2_newshapes/fcn20181224T0000\\fcn_0150.h5 0150\n",
      " ***  Saved AP_results for epoch: 0150  Weight file: F:/models_newshapes/train_fcn8_l2_newshapes/fcn20181224T0000\\fcn_0150.h5\n",
      "      to ---->  E:\\git_projs\\MRCNN3\\train_newshapes\\eval_method2_results     Filename:  eval2_AP_results_2019_01_24\n",
      " ***  Save to : eval2_cls_info_epoch0150_500  --  eval2_pr_bboxes_epoch0150_500  --  eval2_gt_bboxes_epoch0150_500\n",
      " ***  Saves complete\n"
     ]
    }
   ],
   "source": [
    "for FILE_IDX in [1]:\n",
    "    weights_file = os.path.join(DIR_WEIGHTS  , files[FILE_IDX])\n",
    "    print(\"Loading weights \", weights_file)\n",
    "    fcn_model.load_model_weights(weights_file)\n",
    "\n",
    "    ###  Initialize data structures \n",
    "    orig_score = 5\n",
    "    norm_score = 8\n",
    "    alt_scr_0  = 11\n",
    "    alt_scr_1  = 14   # in MRCNN alt_scr_1 ans alt_scr_2 are the same\n",
    "    alt_scr_2  = 20\n",
    "    IMGS = 500\n",
    "    # shuffled_image_ids = np.copy(dataset_test.image_ids)\n",
    "    # np.random.shuffle(shuffled_image_ids)\n",
    "    # image_ids = np.random.choice(dataset_test.image_ids, 300)\n",
    "    image_ids = dataset_test.image_ids[:IMGS]\n",
    "    print(len(image_ids))\n",
    "\n",
    "    class_dict = []\n",
    "    gt_dict = {}\n",
    "    pr_dict = {}\n",
    "\n",
    "    for a,b in zip(dataset_test.class_ids, dataset_test.class_names):\n",
    "        class_dict.append({'id'   : int(a),\n",
    "                             'name' : b,\n",
    "                             'scores': [],\n",
    "                             'bboxes': [],\n",
    "                             'mrcnn_score_orig' : [],\n",
    "                             'mrcnn_score_norm' : [], \n",
    "                             'mrcnn_score_0' : [],\n",
    "                             'mrcnn_score_1' : [],\n",
    "                             'mrcnn_score_2' : [],\n",
    "                             'fcn_score_0' : [],\n",
    "                             'fcn_score_1' : [],\n",
    "                             'fcn_score_2' : [],                      \n",
    "                          })\n",
    "\n",
    "    # Compute VOC-Style mAP @ IoU=0.5\n",
    "    # Running on 10 images. Increase for better accuracy.\n",
    "\n",
    "\n",
    "    MRCNN_AP_Orig = []\n",
    "    MRCNN_AP_0 = [] \n",
    "    MRCNN_AP_1 = [] \n",
    "    MRCNN_AP_2 = []\n",
    "    FCN_AP_0   = []\n",
    "    FCN_AP_1   = []\n",
    "    FCN_AP_2   = []\n",
    "\n",
    "    for image_id in image_ids:\n",
    "        # Load image and ground truth data\n",
    "        print('==> Calculate AP for image_id : ', image_id)\n",
    "        # Run object detection\n",
    "        eval_batch = get_evaluate_batch(dataset_test, mrcnn_model.config, image_id, display = False)    \n",
    "        fcn_results = fcn_model.evaluate(mrcnn_model, eval_batch, verbose =0)    \n",
    "\n",
    "        gt_dict, pr_dict, class_dict = update_map_dictionaries(fcn_results, gt_dict,pr_dict, class_dict)\n",
    "\n",
    "        r = fcn_results[0] \n",
    "\n",
    "        #   Compute  AP, precisions, recalls, overlaps\n",
    "        AP, _, _, _= utils.compute_ap(r['gt_bboxes'], r['gt_class_ids'], r[\"molded_rois\"], r[\"class_ids\"], r[\"pr_scores\"][:,orig_score])\n",
    "        MRCNN_AP_Orig.append(AP)\n",
    "\n",
    "        AP, _, _, _= utils.compute_ap(r['gt_bboxes'], r['gt_class_ids'], r[\"molded_rois\"], r[\"class_ids\"], r[\"pr_scores\"][:,alt_scr_0])\n",
    "        MRCNN_AP_0.append(AP)\n",
    "\n",
    "        AP, _, _, _= utils.compute_ap(r['gt_bboxes'], r['gt_class_ids'], r[\"molded_rois\"], r[\"class_ids\"], r[\"fcn_scores\"][:,alt_scr_0])\n",
    "        FCN_AP_0.append(AP)\n",
    "\n",
    "        AP, _, _, _= utils.compute_ap(r['gt_bboxes'], r['gt_class_ids'], r[\"molded_rois\"], r[\"class_ids\"], r[\"pr_scores\"][:,alt_scr_1])\n",
    "        MRCNN_AP_1.append(AP)\n",
    "\n",
    "        AP, _, _, _= utils.compute_ap(r['gt_bboxes'], r['gt_class_ids'], r[\"molded_rois\"], r[\"class_ids\"], r[\"fcn_scores\"][:,alt_scr_1])\n",
    "        FCN_AP_1.append(AP)\n",
    "\n",
    "        AP, _, _, _= utils.compute_ap(r['gt_bboxes'], r['gt_class_ids'], r[\"molded_rois\"], r[\"class_ids\"], r[\"pr_scores\"][:,alt_scr_2])\n",
    "        MRCNN_AP_2.append(AP)\n",
    "\n",
    "        AP, _, _, _= utils.compute_ap(r['gt_bboxes'], r['gt_class_ids'], r[\"molded_rois\"], r[\"class_ids\"], r[\"fcn_scores\"][:,alt_scr_2])\n",
    "        FCN_AP_2.append(AP)\n",
    "\n",
    "    print('complete')\n",
    "\n",
    "    ### Append data to All_APResults\n",
    "    ###--------------------------------------------------------------------------\n",
    "    epochs = files[FILE_IDX].split('_')[1].replace('.h5','')\n",
    "    print('AP Calcs complete for epoch:', epochs , ' Weight file:', weights_file)\n",
    "\n",
    "    APResult = {}\n",
    "    APResult['Filename']      =  weights_file  \n",
    "    APResult['Epochs']        =  epochs\n",
    "    APResult['MRCNN_AP_Orig'] =  MRCNN_AP_Orig\n",
    "    APResult['MRCNN_AP_0'   ] =  MRCNN_AP_0   \n",
    "    APResult['MRCNN_AP_1'   ] =  MRCNN_AP_1   \n",
    "    APResult['MRCNN_AP_2'   ] =  MRCNN_AP_2   \n",
    "    APResult['FCN_AP_0'     ] =  FCN_AP_0     \n",
    "    APResult['FCN_AP_1'     ] =  FCN_AP_1     \n",
    "    APResult['FCN_AP_2'     ] =  FCN_AP_2     \n",
    "    All_APResults[weights_file] = APResult\n",
    "\n",
    "\n",
    "    # print('/'.join(weights_file.split('/')[-3:]))\n",
    "    print(len(All_APResults.keys()))\n",
    "    for i in sorted(All_APResults):\n",
    "        print(i, All_APResults[i]['Epochs'])\n",
    "\n",
    "    #### Save AP_Results\n",
    "    ####------------------------------------------------------------------------\n",
    "    with open(os.path.join(save_path, new_AP_results_file+'.pkl'), 'wb') as outfile:\n",
    "        pickle.dump(All_APResults, outfile)\n",
    "    print(' ***  Saved AP_results for epoch:',  All_APResults[i]['Epochs'], ' Weight file:', i)\n",
    "    print('      to ----> ', save_path,'    Filename: ', new_AP_results_file)\n",
    "\n",
    "    #### Save Cls_info, pr_bboxes dictionaries\n",
    "    ####------------------------------------------------------------------------\n",
    "    cls_info_file = file_prefix+'_cls_info_epoch'+epochs+'_'+str(len(image_ids))\n",
    "    pr_boxes_file = file_prefix+'_pr_bboxes_epoch'+epochs+'_'+str(len(image_ids))\n",
    "    gt_boxes_file = file_prefix+'_gt_bboxes_epoch'+epochs+'_'+str(len(image_ids))\n",
    "    print(' ***  Save to :', cls_info_file,' -- ', pr_boxes_file,' -- ', gt_boxes_file)\n",
    "\n",
    "    with open(os.path.join(save_path, cls_info_file+'.pkl'), 'wb') as outfile:\n",
    "        pickle.dump(class_dict, outfile)\n",
    "    with open(os.path.join(save_path, gt_boxes_file+'.pkl'), 'wb') as outfile:\n",
    "        pickle.dump(gt_dict, outfile)\n",
    "    with open(os.path.join(save_path, pr_boxes_file+'.pkl'), 'wb') as outfile:\n",
    "        pickle.dump(pr_dict, outfile)    \n",
    "    print(' ***  Saves complete')    "
   ]
  },
  {
   "cell_type": "markdown",
   "metadata": {
    "ExecuteTime": {
     "end_time": "2019-01-15T19:30:00.556115Z",
     "start_time": "2019-01-15T19:30:00.096788Z"
    },
    "hidden": true
   },
   "source": [
    "#### Display most recent AP_Results"
   ]
  },
  {
   "cell_type": "code",
   "execution_count": 18,
   "metadata": {
    "ExecuteTime": {
     "end_time": "2019-01-24T16:00:51.476947Z",
     "start_time": "2019-01-24T16:00:51.092010Z"
    },
    "hidden": true
   },
   "outputs": [
    {
     "name": "stdout",
     "output_type": "stream",
     "text": [
      "\n",
      "After 0150 training epochs.\n",
      "Weight file: F:/models_newshapes/train_fcn8_l2_newshapes/fcn20181224T0000\\fcn_0150.h5\n",
      "\n",
      "Images   Epochs   MRCNN_AP_Orig    MRCNN_AP_0      FCN_AP_0    MRCNN_AP_1      FCN_AP_1    MRCNN_AP_2      FCN_AP_2\n",
      "--------------------------------------------------------------------------------------------------------------------\n",
      "10        0150          0.72884       0.67530       0.62764       0.65413       0.65807       0.65413       0.66184\n",
      "50        0150          0.65849       0.64609       0.61646       0.63625       0.64988       0.63449       0.65312\n",
      "100       0150          0.64663       0.63597       0.62774       0.62303       0.64708       0.62193       0.64752\n",
      "250       0150          0.65590       0.63106       0.64264       0.61944       0.64622       0.61820       0.64878\n",
      "500       0150          0.65855       0.63392       0.64722       0.62614       0.64937       0.62509       0.65132\n"
     ]
    }
   ],
   "source": [
    "####------------------------------------------------------------------------\n",
    "np_format = {}\n",
    "np_format['float'] = lambda x: \"%10.4f\" % x\n",
    "np_format['int']   = lambda x: \"%10d\" % x\n",
    "np.set_printoptions(linewidth=195, precision=4, floatmode='fixed', threshold =10000, formatter = np_format)\n",
    "\n",
    "# LIMIT = 10\n",
    "# print(\" {:>13s} {:>13s} {:>13s} {:>13s} {:>13s} {:>13s} {:>13s}\".format(\"MRCNN_AP_Orig\", \"MRCNN_AP_0\", \"FCN_AP_0\", \"MRCNN_AP_1\", \"FCN_AP_1\", \"MRCNN_AP_2\", \"FCN_AP_2\"))\n",
    "# for i in range(LIMIT):\n",
    "#     print(\" {:13.5f} {:13.5f} {:13.5f} {:13.5f} {:13.5f} {:13.5f} {:13.5f}\".format(\n",
    "#         MRCNN_AP_Orig[i], MRCNN_AP_0[i], FCN_AP_0[i], MRCNN_AP_1[i], FCN_AP_1[i], MRCNN_AP_2[i], FCN_AP_2[i]))\n",
    "# print()\n",
    "# epochs = files[FILE_IDX].split('_')[1].replace('.h5','')\n",
    "print()\n",
    "print('After {} training epochs.\\nWeight file: {}'.format(epochs, weights_file))\n",
    "print()\n",
    "print(\"{:6s} {:^10s} {:>13s} {:>13s} {:>13s} {:>13s} {:>13s} {:>13s} {:>13s}\".format(\"Images\", \"Epochs\", \"MRCNN_AP_Orig\", \"MRCNN_AP_0\", \"FCN_AP_0\", \"MRCNN_AP_1\", \"FCN_AP_1\", \"MRCNN_AP_2\", \"FCN_AP_2\"))\n",
    "print('-'*116)\n",
    "\n",
    "for LIMIT in [10,50,100,250,500]:\n",
    "    print(\"{:<6d} {:^10s} {:13.5f} {:13.5f} {:13.5f} {:13.5f} {:13.5f} {:13.5f} {:13.5f}\".format(LIMIT, epochs,\n",
    "            np.mean(MRCNN_AP_Orig[:LIMIT]), \n",
    "            np.mean(MRCNN_AP_0[:LIMIT]), np.mean(FCN_AP_0[:LIMIT]), \n",
    "            np.mean(MRCNN_AP_1[:LIMIT]), np.mean(FCN_AP_1[:LIMIT]), \n",
    "            np.mean(MRCNN_AP_2[:LIMIT]), np.mean(FCN_AP_2[:LIMIT]) ))        "
   ]
  },
  {
   "cell_type": "markdown",
   "metadata": {},
   "source": [
    "### Save / Load AP Results to file"
   ]
  },
  {
   "cell_type": "code",
   "execution_count": null,
   "metadata": {
    "ExecuteTime": {
     "end_time": "2019-01-17T15:32:49.414529Z",
     "start_time": "2019-01-17T15:32:48.685013Z"
    }
   },
   "outputs": [],
   "source": [
    "# AP_results_file= 'test_AP_results_2019_01_17'"
   ]
  },
  {
   "cell_type": "markdown",
   "metadata": {},
   "source": [
    "#### Save AP_Results"
   ]
  },
  {
   "cell_type": "code",
   "execution_count": null,
   "metadata": {
    "ExecuteTime": {
     "end_time": "2019-01-17T10:39:00.541372Z",
     "start_time": "2019-01-17T10:38:59.796843Z"
    }
   },
   "outputs": [],
   "source": [
    "# with open(os.path.join(save_path, AP_results_file+'.pkl'), 'wb') as outfile:\n",
    "#     pickle.dump(All_APResults, outfile)"
   ]
  },
  {
   "cell_type": "markdown",
   "metadata": {},
   "source": [
    "### Load AP Results from file"
   ]
  },
  {
   "cell_type": "code",
   "execution_count": 9,
   "metadata": {
    "ExecuteTime": {
     "end_time": "2019-02-03T14:40:14.315641Z",
     "start_time": "2019-02-03T14:40:13.953382Z"
    }
   },
   "outputs": [
    {
     "name": "stdout",
     "output_type": "stream",
     "text": [
      "Path: E:\\git_projs\\MRCNN3\\train_newshapes\\eval_method1_results_BCE2     Filename:  eval1_AP_results_2019_02_03\n"
     ]
    }
   ],
   "source": [
    "eval_method = '1'\n",
    "save_path = \"E:\\\\git_projs\\\\MRCNN3\\\\train_newshapes\\\\eval_method\"+eval_method+\"_results_BCE2\"\n",
    "file_prefix = 'eval'+eval_method\n",
    "new_AP_results_file = file_prefix+'_AP_results_2019_02_03'\n",
    "print('Path:' ,save_path, '    Filename: ', new_AP_results_file)"
   ]
  },
  {
   "cell_type": "code",
   "execution_count": 10,
   "metadata": {
    "ExecuteTime": {
     "end_time": "2019-02-03T14:40:16.342084Z",
     "start_time": "2019-02-03T14:40:16.003843Z"
    }
   },
   "outputs": [
    {
     "name": "stdout",
     "output_type": "stream",
     "text": [
      "1\n",
      "F:/models_newshapes/train_fcn8L2_BCE2/fcn20190131T0000\\fcn_0500.h5 0500\n"
     ]
    }
   ],
   "source": [
    "try:\n",
    "    del APRes \n",
    "except:\n",
    "    pass\n",
    "\n",
    "with open(os.path.join(save_path, new_AP_results_file+'.pkl'), 'rb') as outfile:\n",
    "    APRes = pickle.load(outfile)\n",
    "\n",
    "print(len(APRes.keys()))\n",
    "# pp.pprint(APRes.keys())\n",
    "for i in sorted(APRes):\n",
    "    print(i, APRes[i]['Epochs'])"
   ]
  },
  {
   "cell_type": "markdown",
   "metadata": {},
   "source": [
    "#### Display AP_Results"
   ]
  },
  {
   "cell_type": "code",
   "execution_count": 11,
   "metadata": {
    "ExecuteTime": {
     "end_time": "2019-02-03T14:40:18.784825Z",
     "start_time": "2019-02-03T14:40:18.418563Z"
    },
    "scrolled": false
   },
   "outputs": [
    {
     "name": "stdout",
     "output_type": "stream",
     "text": [
      "\n",
      "\n",
      "After 0500 training epochs.\n",
      "Weight file: F:/models_newshapes/train_fcn8L2_BCE2/fcn20190131T0000\\fcn_0500.h5\n",
      "\n",
      "Images   Epochs   MRCNN_AP_Orig    MRCNN_AP_0      FCN_AP_0    MRCNN_AP_1      FCN_AP_1    MRCNN_AP_2      FCN_AP_2\n",
      "--------------------------------------------------------------------------------------------------------------------\n",
      "10        0500          0.67840       0.63939       0.63767       0.66053       0.62175       0.66053       0.62175\n",
      "50        0500          0.61057       0.61874       0.63106       0.62708       0.63497       0.62944       0.63497\n",
      "100       0500          0.62229       0.62584       0.64592       0.64531       0.64353       0.64403       0.64353\n",
      "250       0500          0.63571       0.63117       0.64394       0.63773       0.65321       0.63685       0.65321\n",
      "500       0500          0.63251       0.63391       0.63642       0.63615       0.64570       0.63558       0.64570\n"
     ]
    }
   ],
   "source": [
    "for key in sorted(APRes) :\n",
    "#     print(' AP Result Entry :', key)\n",
    "    print()    \n",
    "    print()\n",
    "    print('After {} training epochs.\\nWeight file: {}'.format( APRes[key]['Epochs'],APRes[key]['Filename']))\n",
    "    print()\n",
    "    print(\"{:6s} {:^10s} {:>13s} {:>13s} {:>13s} {:>13s} {:>13s} {:>13s} {:>13s}\".format(\"Images\", \"Epochs\", \"MRCNN_AP_Orig\", \"MRCNN_AP_0\", \"FCN_AP_0\", \"MRCNN_AP_1\", \"FCN_AP_1\", \"MRCNN_AP_2\", \"FCN_AP_2\"))\n",
    "    print('-'*116)\n",
    "    for LIMIT in [10,50,100,250,500]:\n",
    "#     for LIMIT in [10]:\n",
    "        print(\"{:<6d} {:^10s} {:13.5f} {:13.5f} {:13.5f} {:13.5f} {:13.5f} {:13.5f} {:13.5f}\".format(LIMIT, APRes[key]['Epochs'],\n",
    "                np.mean(APRes[key]['MRCNN_AP_Orig'][:LIMIT]), \n",
    "                np.mean(APRes[key]['MRCNN_AP_0'][:LIMIT]), \n",
    "                np.mean(APRes[key]['FCN_AP_0'][:LIMIT]), \n",
    "                np.mean(APRes[key]['MRCNN_AP_1'][:LIMIT]),\n",
    "                np.mean(APRes[key]['FCN_AP_1'][:LIMIT]), \n",
    "                np.mean(APRes[key]['MRCNN_AP_2'][:LIMIT]), \n",
    "                np.mean(APRes[key]['FCN_AP_2'][:LIMIT]) ))\n"
   ]
  },
  {
   "cell_type": "code",
   "execution_count": null,
   "metadata": {
    "ExecuteTime": {
     "end_time": "2019-01-16T10:40:07.857700Z",
     "start_time": "2019-01-16T10:40:06.861619Z"
    }
   },
   "outputs": [],
   "source": [
    "# for key in sorted(APRes) :\n",
    "#     # print(' AP Result Entry :', key)\n",
    "#     print()\n",
    "#     print('After {} training epochs.\\nWeight file: {}'.format( APRes[key]['Epochs'],APRes[key]['Filename']))\n",
    "#     print()\n",
    "#     print(\"{:6s} {:^10s} {:>13s} {:>13s} {:>13s} {:>13s} {:>13s} {:>13s} {:>13s}\".format(\"Images\", \"Epochs\", \"MRCNN_AP_Orig\", \"MRCNN_AP_0\", \"FCN_AP_0\", \"MRCNN_AP_1\", \"FCN_AP_1\", \"MRCNN_AP_2\", \"FCN_AP_2\"))\n",
    "#     print('-'*116)\n",
    "#     for LIMIT in [10,50,100,250,500]:\n",
    "#         print(\"{:<6d} {:^10s} {:13.5f} {:13.5f} {:13.5f} {:13.5f} {:13.5f} {:13.5f} {:13.5f}\".format(LIMIT, APRes[key]['Epochs'],\n",
    "#                 np.mean(APRes[key]['MRCNN_AP_Orig'][:LIMIT]), \n",
    "#                 np.mean(APRes[key]['MRCNN_AP_0'][:LIMIT]), \n",
    "#                 np.mean(APRes[key]['FCN_AP_0'][:LIMIT]), \n",
    "#                 np.mean(APRes[key]['MRCNN_AP_1'][:LIMIT]),\n",
    "#                 np.mean(APRes[key]['FCN_AP_1'][:LIMIT]), \n",
    "#                 np.mean(APRes[key]['MRCNN_AP_2'][:LIMIT]), \n",
    "#                 np.mean(APRes[key]['FCN_AP_2'][:LIMIT]) ))\n",
    "#     print('\\n')"
   ]
  },
  {
   "cell_type": "code",
   "execution_count": null,
   "metadata": {
    "ExecuteTime": {
     "end_time": "2019-01-08T13:13:08.230108Z",
     "start_time": "2019-01-08T13:13:08.223121Z"
    }
   },
   "outputs": [],
   "source": [
    "# print(\" {:>13s} {:>13s} {:>13s} {:>13s} {:>13s} {:>13s} {:>13s}\".format(\"MRCNN_AP_Orig\", \"MRCNN_AP_0\", \"FCN_AP_0\", \"MRCNN_AP_1\", \"FCN_AP_1\", \"MRCNN_AP_2\", \"FCN_AP_2\"))\n",
    "# for i in range(len(MRCNN_AP_Orig)):\n",
    "#     print(\" {:13.5f} {:13.5f} {:13.5f} {:13.5f} {:13.5f} {:13.5f} {:13.5f}\".format(\n",
    "#         MRCNN_AP_Orig[i], MRCNN_AP_0[i], FCN_AP_0[i], MRCNN_AP_1[i], FCN_AP_1[i], MRCNN_AP_2[i], FCN_AP_2[i]))\n",
    "# print()\n",
    "\n",
    "# print()\n",
    "# print('Weight file used: {}   {}'.format(files[FILE_IDX], files[FILE_IDX].split('_')[1].rstrip('.h5')))\n",
    "# print()\n",
    "# print(\"{:<10s} {:>13s} {:>13s} {:>13s} {:>13s} {:>13s} {:>13s} {:>13s}\".format(\"Epochs\", \"MRCNN_AP_Orig\", \"MRCNN_AP_0\", \"FCN_AP_0\", \"MRCNN_AP_1\", \"FCN_AP_1\", \"MRCNN_AP_2\", \"FCN_AP_2\"))\n",
    "# print('-'*108)\n",
    "# print(\"{:<3d}-{:<7s} {:13.5f} {:13.5f} {:13.5f} {:13.5f} {:13.5f} {:13.5f} {:13.5f}\".format(len(image_ids),files[FILE_IDX].split('_')[1].rstrip('.h5'),\n",
    "#         np.mean(MRCNN_AP_Orig), np.mean(MRCNN_AP_0), np.mean(FCN_AP_0), np.mean(MRCNN_AP_1), np.mean(FCN_AP_1), np.mean(MRCNN_AP_2), np.mean(FCN_AP_2)))        "
   ]
  },
  {
   "cell_type": "code",
   "execution_count": null,
   "metadata": {
    "ExecuteTime": {
     "end_time": "2019-01-05T11:52:38.337361Z",
     "start_time": "2019-01-05T11:52:37.128449Z"
    },
    "scrolled": true
   },
   "outputs": [],
   "source": [
    "# print(r['image_meta'][:9])\n",
    "# print(r['gt_class_ids'])\n",
    "# print(r['gt_bboxes'])\n",
    "# print(r['class_ids']) \n",
    "# print(r['molded_rois'])\n",
    "# pr_scores_by_image = utils.byclass_to_byimage_np(r['pr_hm_scores'], 7)\n",
    "# print(pr_scores_by_image[:,:5])\n",
    "# print(r['pr_scores'].shape)\n",
    "# print(r['pr_scores'][:,:4])"
   ]
  },
  {
   "cell_type": "markdown",
   "metadata": {},
   "source": [
    "### Save to file"
   ]
  },
  {
   "cell_type": "code",
   "execution_count": null,
   "metadata": {
    "ExecuteTime": {
     "end_time": "2019-01-17T13:29:32.003642Z",
     "start_time": "2019-01-17T13:29:31.140028Z"
    }
   },
   "outputs": [],
   "source": [
    "cls_info_file = 'test_cls_info_epoch'+epochs+'_'+str(len(image_ids))\n",
    "pr_boxes_file = 'test_pr_bboxes_epoch'+epochs+'_'+str(len(image_ids))\n",
    "gt_boxes_file = 'test_gt_bboxes_epoch'+epochs+'_'+str(len(image_ids))\n",
    "print(cls_info_file,'   ', pr_boxes_file,'   ', gt_boxes_file)"
   ]
  },
  {
   "cell_type": "code",
   "execution_count": null,
   "metadata": {
    "ExecuteTime": {
     "end_time": "2019-01-17T13:29:37.553587Z",
     "start_time": "2019-01-17T13:29:36.447801Z"
    }
   },
   "outputs": [],
   "source": [
    "with open(os.path.join(save_path, cls_info_file+'.pkl'), 'wb') as outfile:\n",
    "    pickle.dump(class_dict, outfile)\n",
    "with open(os.path.join(save_path, gt_boxes_file+'.pkl'), 'wb') as outfile:\n",
    "    pickle.dump(gt_dict, outfile)\n",
    "with open(os.path.join(save_path, pr_boxes_file+'.pkl'), 'wb') as outfile:\n",
    "    pickle.dump(pr_dict, outfile)    "
   ]
  },
  {
   "cell_type": "code",
   "execution_count": null,
   "metadata": {
    "ExecuteTime": {
     "end_time": "2019-01-10T12:34:44.191472Z",
     "start_time": "2019-01-10T12:34:43.446910Z"
    }
   },
   "outputs": [],
   "source": [
    "# with open(os.path.join(save_path, cls_info_file+'.json'), 'w') as outfile:\n",
    "#     json.dump(class_dict, outfile)\n",
    "# with open(os.path.join(save_path, gt_boxes_file+'.json'), 'w') as outfile:\n",
    "#     json.dump(gt_dict, outfile)\n",
    "# with open(os.path.join(save_path, pr_boxes_file+'.json'), 'w') as outfile:\n",
    "#     json.dump(pr_dict, outfile)    "
   ]
  },
  {
   "cell_type": "code",
   "execution_count": null,
   "metadata": {},
   "outputs": [],
   "source": []
  }
 ],
 "metadata": {
  "anaconda-cloud": {},
  "kernelspec": {
   "display_name": "Python [conda env:TF]",
   "language": "python",
   "name": "conda-env-TF-py"
  },
  "language_info": {
   "codemirror_mode": {
    "name": "ipython",
    "version": 3
   },
   "file_extension": ".py",
   "mimetype": "text/x-python",
   "name": "python",
   "nbconvert_exporter": "python",
   "pygments_lexer": "ipython3",
   "version": "3.5.6"
  },
  "toc": {
   "base_numbering": 1,
   "nav_menu": {},
   "number_sections": true,
   "sideBar": true,
   "skip_h1_title": false,
   "title_cell": "Table of Contents",
   "title_sidebar": "Contents",
   "toc_cell": false,
   "toc_position": {
    "height": "calc(100% - 180px)",
    "left": "10px",
    "top": "150px",
    "width": "165px"
   },
   "toc_section_display": true,
   "toc_window_display": false
  }
 },
 "nbformat": 4,
 "nbformat_minor": 2
}
