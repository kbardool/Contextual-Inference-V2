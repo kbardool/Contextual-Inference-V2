{
 "cells": [
  {
   "cell_type": "markdown",
   "metadata": {},
   "source": [
    "**FCN - Inspect Weights of a Trained Model\n",
    "\n",
    "This notebook includes code and visualizations to test, debug, and evaluate the Mask R-CNN model."
   ]
  },
  {
   "cell_type": "markdown",
   "metadata": {},
   "source": [
    "## Build FCN Model and display summary"
   ]
  },
  {
   "cell_type": "code",
   "execution_count": 1,
   "metadata": {
    "ExecuteTime": {
     "end_time": "2019-01-30T11:45:25.772064Z",
     "start_time": "2019-01-30T11:45:17.903644Z"
    }
   },
   "outputs": [
    {
     "data": {
      "text/html": [
       "<style>.container { width:95% !important; }</style>"
      ],
      "text/plain": [
       "<IPython.core.display.HTML object>"
      ]
     },
     "metadata": {},
     "output_type": "display_data"
    },
    {
     "name": "stderr",
     "output_type": "stream",
     "text": [
      "Using TensorFlow backend.\n"
     ]
    }
   ],
   "source": [
    "from IPython.core.display import display, HTML\n",
    "display(HTML(\"<style>.container { width:95% !important; }</style>\"))\n",
    "%matplotlib inline\n",
    "%load_ext autoreload\n",
    "%autoreload 2\n",
    "import sys, os, random, pprint\n",
    "sys.path.append('../..')\n",
    "import tensorflow as tf\n",
    "import keras.backend as KB\n",
    "import numpy as np\n",
    "import skimage.io\n",
    "import matplotlib.pyplot as plt\n",
    "import mrcnn.visualize as visualize\n",
    "import mrcnn.utils as utils\n",
    "from mrcnn.datagen         import data_generator, load_image_gt, data_gen_simulate\n",
    "from mrcnn.utils           import mask_string, parse_image_meta, apply_box_deltas_tf\n",
    "from mrcnn.prep_notebook   import build_newshapes_config, build_coco_config\n",
    "from mrcnn.coco            import prep_coco_dataset, CocoConfig ## CocoDataset, CocoConfig, CocoInferenceConfig, evaluate_coco, build_coco_results\n",
    "import mrcnn.model_fcn     as fcn_modellib\n",
    "from mrcnn.utils           import log\n",
    "pp = pprint.PrettyPrinter(indent=2, width=100)\n",
    "np.set_printoptions(linewidth=100,precision=4,threshold=1000, suppress = True)\n",
    "\n",
    "## Notebook Preferences\n",
    "from mrcnn.utils import convertHtmlToPdf\n",
    "\n",
    "# Device to load the neural network on Useful if you're training a model on the same \n",
    "# machine, in which case use CPU and leave the GPU for training.\n",
    "DEVICE = \"/cpu:1\"  # /cpu:0 or /gpu:0"
   ]
  },
  {
   "cell_type": "code",
   "execution_count": 2,
   "metadata": {
    "ExecuteTime": {
     "end_time": "2019-01-30T11:45:25.830959Z",
     "start_time": "2019-01-30T11:45:25.775364Z"
    }
   },
   "outputs": [
    {
     "name": "stdout",
     "output_type": "stream",
     "text": [
      "\n",
      "   Arguments passed :\n",
      "   --------------------\n",
      "   batch_size                     1\n",
      "   coco_classes                   [78, 79, 80, 81, 82, 44, 46, 47, 48, 49, 50, 51, 34, 35, 36, 37, 38, 39, 40, 41, 42, 43, 10, 11, 13, 14, 15]\n",
      "   epochs                         1\n",
      "   evaluate_method                1\n",
      "   fcn_arch                       FCN8L2\n",
      "   fcn_layers                     ['all']\n",
      "   fcn_logs_dir                   train_fcn8L2_BCE_subset\n",
      "   fcn_losses                     fcn_BCE_loss\n",
      "   fcn_model                      last\n",
      "   last_epoch                     0\n",
      "   lr                             0.001\n",
      "   mrcnn_exclude_layers           None\n",
      "   mrcnn_layers                   ['mrcnn', 'fpn', 'rpn']\n",
      "   mrcnn_logs_dir                 train_mrcnn_coco_subset\n",
      "   mrcnn_model                    last\n",
      "   new_log_folder                 False\n",
      "   opt                            ADAGRAD\n",
      "   scale_factor                   4\n",
      "   steps_in_epoch                 1\n",
      "   sysout                         SCREEN\n",
      "   val_steps                      1\n",
      "\n",
      "\n"
     ]
    }
   ],
   "source": [
    "# WEIGHT_FILE = 'F:/models/train_fcn8_coco_adam/fcn20181109T0000/fcn_2298.h5'\n",
    "WEIGHT_FILE = 'last'\n",
    "##------------------------------------------------------------------------------------\n",
    "## Parse command line arguments\n",
    "##------------------------------------------------------------------------------------\n",
    "parser = utils.command_line_parser()\n",
    "input_parms  =\" --batch_size     1  \"\n",
    "input_parms +=\" --mrcnn_logs_dir train_mrcnn_coco_subset \"\n",
    "# input_parms +=\" --fcn_logs_dir   train_fcn8_bce \" \n",
    "# input_parms +=\" --fcn_logs_dir   train_fcn8_coco_adam \"\n",
    "input_parms +=\" --fcn_logs_dir   train_fcn8L2_BCE_subset \"\n",
    "input_parms +=\" --mrcnn_model    last \"\n",
    "# input_parms +=\" --fcn_model      \" + WEIGHT_FILE \n",
    "input_parms +=\" --fcn_model      last \"\n",
    "input_parms +=\" --fcn_layer      all\"\n",
    "input_parms +=\" --fcn_arch       fcn8l2 \" \n",
    "input_parms +=\" --sysout         screen \"\n",
    "input_parms +=\" --scale_factor   4\"\n",
    "input_parms +=\" --coco_classes       78 79 80 81 82 44 46 47 48 49 50 51 34 35 36 37 38 39 40 41 42 43 10 11 13 14 15 \"\n",
    "\n",
    "args = parser.parse_args(input_parms.split())\n",
    "utils.display_input_parms(args)"
   ]
  },
  {
   "cell_type": "code",
   "execution_count": 3,
   "metadata": {
    "ExecuteTime": {
     "end_time": "2019-01-30T11:45:45.103457Z",
     "start_time": "2019-01-30T11:45:25.833319Z"
    }
   },
   "outputs": [
    {
     "name": "stdout",
     "output_type": "stream",
     "text": [
      "\n",
      "--> Execution started at: 01-30-2019 @ 11:45:25\n",
      "    Tensorflow Version: 1.8.0   Keras Version : 2.1.6 \n",
      ">>> Initialize Paths\n",
      " Linx  Linux\n",
      "\n",
      "   Arguments passed :\n",
      "   --------------------\n",
      "   batch_size                     1\n",
      "   coco_classes                   [78, 79, 80, 81, 82, 44, 46, 47, 48, 49, 50, 51, 34, 35, 36, 37, 38, 39, 40, 41, 42, 43, 10, 11, 13, 14, 15]\n",
      "   epochs                         1\n",
      "   evaluate_method                1\n",
      "   fcn_arch                       FCN8L2\n",
      "   fcn_layers                     ['all']\n",
      "   fcn_logs_dir                   train_fcn8L2_BCE_subset\n",
      "   fcn_losses                     fcn_BCE_loss\n",
      "   fcn_model                      last\n",
      "   last_epoch                     0\n",
      "   lr                             0.001\n",
      "   mrcnn_exclude_layers           None\n",
      "   mrcnn_layers                   ['mrcnn', 'fpn', 'rpn']\n",
      "   mrcnn_logs_dir                 train_mrcnn_coco_subset\n",
      "   mrcnn_model                    last\n",
      "   new_log_folder                 False\n",
      "   opt                            ADAGRAD\n",
      "   scale_factor                   4\n",
      "   steps_in_epoch                 1\n",
      "   sysout                         SCREEN\n",
      "   val_steps                      1\n",
      "\n",
      "\n",
      "\n",
      "   Paths:\n",
      "   -------------------------\n",
      "COCO_DATASET_PATH              /home/kbardool/MLDatasets/coco2014\n",
      "COCO_HEATMAP_PATH              /home/kbardool/MLDatasets/coco2014_heatmaps\n",
      "COCO_MODEL_PATH                /home/kbardool/PretrainedModels/mask_rcnn_coco.h5\n",
      "DIR_DATASET                    /home/kbardool/MLDatasets\n",
      "DIR_PRETRAINED                 /home/kbardool/PretrainedModels\n",
      "DIR_ROOT                       /home/kbardool/git_projs/mrcnn3/notebooks/ADAM-COCO_subset\n",
      "DIR_TRAINING                   /home/kbardool/models_coco\n",
      "FCN_TRAINING_PATH              /home/kbardool/models_coco/train_fcn8L2_BCE_subset\n",
      "FCN_VGG16_MODEL_PATH           /home/kbardool/PretrainedModels/fcn_vgg16_weights_tf_dim_ordering_tf_kernels.h5\n",
      "MRCNN_TRAINING_PATH            /home/kbardool/models_coco/train_mrcnn_coco_subset\n",
      "RESNET_MODEL_PATH              /home/kbardool/PretrainedModels/resnet50_weights_tf_dim_ordering_tf_kernels_notop.h5\n",
      "SHAPES_MODEL_PATH              /home/kbardool/PretrainedModels/mask_rcnn_shapes.h5\n",
      "VGG16_MODEL_PATH               /home/kbardool/PretrainedModels/vgg16_weights_tf_dim_ordering_tf_kernels_notop.h5\n",
      "\n",
      "\n",
      "Configuration Parameters:\n",
      "-------------------------\n",
      "BACKBONE_SHAPES                [[256 256]\n",
      " [128 128]\n",
      " [ 64  64]\n",
      " [ 32  32]\n",
      " [ 16  16]]\n",
      "BACKBONE_STRIDES               [4, 8, 16, 32, 64]\n",
      "BATCH_SIZE                     1\n",
      "BBOX_STD_DEV                   [0.1 0.1 0.2 0.2]\n",
      "COCO_DATASET_PATH              /home/kbardool/MLDatasets/coco2014\n",
      "COCO_MODEL_PATH                /home/kbardool/PretrainedModels/mask_rcnn_coco.h5\n",
      "DETECTION_MAX_INSTANCES        200\n",
      "DETECTION_MIN_CONFIDENCE       0.1\n",
      "DETECTION_NMS_THRESHOLD        0.3\n",
      "DETECTION_PER_CLASS            200\n",
      "DIR_DATASET                    /home/kbardool/MLDatasets\n",
      "DIR_PRETRAINED                 /home/kbardool/PretrainedModels\n",
      "DIR_TRAINING                   /home/kbardool/models_coco\n",
      "EPOCHS_TO_RUN                  0\n",
      "FCN_INPUT_SHAPE                [256 256]\n",
      "GPU_COUNT                      1\n",
      "HEATMAP_SCALE_FACTOR           4\n",
      "IMAGES_PER_GPU                 1\n",
      "IMAGE_MAX_DIM                  1024\n",
      "IMAGE_MIN_DIM                  800\n",
      "IMAGE_PADDING                  True\n",
      "IMAGE_SHAPE                    [1024 1024    3]\n",
      "LAST_EPOCH_RAN                 0\n",
      "LEARNING_MOMENTUM              0.9\n",
      "LEARNING_RATE                  0.001\n",
      "MASK_POOL_SIZE                 14\n",
      "MASK_SHAPE                     [28, 28]\n",
      "MAX_GT_INSTANCES               100\n",
      "MEAN_PIXEL                     [123.7 116.8 103.9]\n",
      "MINI_MASK_SHAPE                (56, 56)\n",
      "NAME                           mrcnn\n",
      "NEW_LOG_FOLDER                 False\n",
      "NUM_CLASSES                    81\n",
      "POOL_SIZE                      7\n",
      "POST_NMS_ROIS_INFERENCE        1000\n",
      "POST_NMS_ROIS_TRAINING         2000\n",
      "RESNET_MODEL_PATH              /home/kbardool/PretrainedModels/resnet50_weights_tf_dim_ordering_tf_kernels_notop.h5\n",
      "ROI_GT_IOU_THRESHOLD           0.2\n",
      "ROI_POSITIVE_RATIO             0.33\n",
      "ROI_PROPOSAL_AREA_THRESHOLD    0\n",
      "RPN_ANCHOR_RATIOS              [0.5, 1, 2]\n",
      "RPN_ANCHOR_SCALES              (32, 64, 128, 256, 512)\n",
      "RPN_ANCHOR_STRIDE              1\n",
      "RPN_BBOX_STD_DEV               [0.1 0.1 0.2 0.2]\n",
      "RPN_NMS_THRESHOLD              0.7\n",
      "RPN_TRAIN_ANCHORS_PER_IMAGE    256\n",
      "STEPS_PER_EPOCH                10\n",
      "SYSOUT                         SCREEN\n",
      "TRAINING_PATH                  /home/kbardool/models_coco/train_mrcnn_coco_subset\n",
      "TRAIN_ROIS_PER_IMAGE           200\n",
      "USE_MINI_MASK                  True\n",
      "USE_RPN_ROIS                   True\n",
      "VALIDATION_STEPS               50\n",
      "VERBOSE                        1\n",
      "VGG16_MODEL_PATH               /home/kbardool/PretrainedModels/vgg16_weights_tf_dim_ordering_tf_kernels_notop.h5\n",
      "WEIGHT_DECAY                   0.0001\n",
      "\n",
      "\n",
      " *** Keras Training mode: Tensor(\"keras_learning_phase:0\", shape=(), dtype=bool)\n",
      " *** Keras Training mode after setting: 0\n",
      ">>> Initialize ModelBase model \n",
      "   Mode      :  inference\n",
      "   Model dir :  /home/kbardool/models_coco/train_mrcnn_coco_subset\n",
      ">>> ModelBase initialiation complete\n",
      ">>> ---Initialize MRCNN model, mode:  inference\n",
      "\n",
      "----------------------------\n",
      ">>> Resnet Graph \n",
      "----------------------------\n",
      "     Input_image shape : (?, 1024, 1024, 3)\n",
      "    After ZeroPadding2D            :  shape: (?, 1030, 1030, 3)    KB.shape:(None, 1030, 1030, 3)  Keras Tensor: True\n",
      "    After Conv2D padding :         :  shape: (?, 512, 512, 64)     KB.shape:(None, 512, 512, 64)  Keras Tensor: True\n",
      "    After BatchNorm                :  shape: (?, 512, 512, 64)     KB.shape:(None, 512, 512, 64)  Keras Tensor: True\n",
      "    C1                             :  shape: (?, 256, 256, 64)     KB.shape:(None, 256, 256, 64)  Keras Tensor: True\n",
      "    C2                             :  shape: (?, 256, 256, 256)    KB.shape:(None, 256, 256, 256)  Keras Tensor: True\n",
      "    C3                             :  shape: (?, 128, 128, 512)    KB.shape:(None, 128, 128, 512)  Keras Tensor: True\n",
      "    C4                             :  shape: (?, 64, 64, 1024)     KB.shape:(None, 64, 64, 1024)  Keras Tensor: True\n",
      "    C5                             :  shape: (?, 32, 32, 2048)     KB.shape:(None, 32, 32, 2048)  Keras Tensor: True\n",
      "\n",
      ">>> Feature Pyramid Network (FPN) Graph \n",
      "    FPN P5                         :  shape: (?, 32, 32, 256)      KB.shape:(None, 32, 32, 256)   Keras Tensor: True\n",
      "    FPN P4                         :  shape: (?, 64, 64, 256)      KB.shape:(None, 64, 64, 256)   Keras Tensor: True\n",
      "    FPN P3                         :  shape: (?, 128, 128, 256)    KB.shape:(None, 128, 128, 256)  Keras Tensor: True\n",
      "    FPN P2                         :  shape: (?, 256, 256, 256)    KB.shape:(None, 256, 256, 256)  Keras Tensor: True\n",
      "    FPN P2 shape :                 :  shape: (?, 256, 256, 256)    KB.shape:(None, 256, 256, 256)  Keras Tensor: True\n",
      "    FPN P3 shape :                 :  shape: (?, 128, 128, 256)    KB.shape:(None, 128, 128, 256)  Keras Tensor: True\n",
      "    FPN P4 shape :                 :  shape: (?, 64, 64, 256)      KB.shape:(None, 64, 64, 256)   Keras Tensor: True\n",
      "    FPN P5 shape :                 :  shape: (?, 32, 32, 256)      KB.shape:(None, 32, 32, 256)   Keras Tensor: True\n",
      "    FPN P6 shape :                 :  shape: (?, 16, 16, 256)      KB.shape:(None, 16, 16, 256)   Keras Tensor: True\n",
      "\n",
      ">>> RPN Layer \n",
      "     append Tensor(\"fpn_p2/BiasAdd:0\", shape=(?, 256, 256, 256), dtype=float32) to layer_outputs \n",
      "     append Tensor(\"fpn_p3/BiasAdd:0\", shape=(?, 128, 128, 256), dtype=float32) to layer_outputs \n",
      "     append Tensor(\"fpn_p4/BiasAdd:0\", shape=(?, 64, 64, 256), dtype=float32) to layer_outputs \n",
      "     append Tensor(\"fpn_p5/BiasAdd:0\", shape=(?, 32, 32, 256), dtype=float32) to layer_outputs \n",
      "     append Tensor(\"fpn_p6/MaxPool:0\", shape=(?, 16, 16, 256), dtype=float32) to layer_outputs \n",
      "\n",
      ">>> RPN Outputs  <class 'list'>\n",
      "      rpn_class_logits/rpn_class_logits:0\n",
      "      rpn_class/rpn_class:0\n",
      "      rpn_bbox/rpn_bbox:0\n",
      "\n",
      ">>> Proposal Layer - generate  1000  proposals\n",
      "    Init complete. Size of anchors:  (261888, 4)\n",
      "     Scores :  (1, 6000)\n",
      "     Deltas :  (1, 6000, 4)\n",
      "     Anchors:  (1, 6000, 4)\n",
      "     Boxes shape / type after processing: \n",
      "     Output: Proposals shape :  (1, ?, ?) (1, None, None)\n",
      "\n",
      ">>> FPN Classifier Graph \n"
     ]
    },
    {
     "name": "stdout",
     "output_type": "stream",
     "text": [
      "\n",
      ">>> Detection Layer (Inference Mode)\n",
      "    Detection Layer : call()  <class 'list'> 4\n",
      "    rpn_proposals_roi              :  shape: (1, ?, ?)             KB.shape:(None, 1000, 4)       Keras Tensor: True\n",
      "    mrcnn_class.shape              :  shape: (?, 1000, 81)         KB.shape:(None, 1000, 81)      Keras Tensor: True\n",
      "    mrcnn_bboxes.shape             :  shape: (?, 1000, 81, 4)      KB.shape:(None, 1000, 81, 4)   Keras Tensor: True\n",
      "    input_image_meta               :  shape: (?, ?)                KB.shape:(None, None)          Keras Tensor: True\n",
      "    Detections                     :  shape: <unknown>             KB.shape:(None, 200, 7)        Keras Tensor: True\n",
      "\n",
      "--------------------------------\n",
      ">>>  CHM Inference Layer  \n",
      "--------------------------------\n",
      "  > CHM Inference Layer: call  <class 'list'> 1\n",
      "     detections.shape     : (None, 200, 7)\n",
      "\n",
      "  > build_predictions Inference mode ()\n",
      "    config image shape     :  [1024 1024    3] h: 1024 w: 1024\n",
      "    Detection Max Instacnes:  200\n",
      "    num_rois               :  200\n",
      "    num_cols               :  7\n",
      "    detected_rois.shape    :  (None, 200, 7)\n",
      "    batch_grid:  (1, 200)\n",
      "    bbox_grid :  (1, 200)\n",
      "    shape of sequence      :  <unknown>\n",
      "    pred_array             :  <unknown>\n",
      "    scatter_ind            :  (1, 200, 3)\n",
      "    pred_scatter           :  (1, 81, 200, 8)\n",
      "    - Add normalized score --\n",
      "\n",
      "    normalizer             :  (1, 81, 1)\n",
      "    norm_score             :  (1, 81, 200, 1)\n",
      "    pred_scatter           :  (1, 81, 200, 9)\n",
      "    sort_inds              :  (1, 81, 200) Keras Tensor: False\n",
      "    class_grid             :  (1, 81, 200) Keras Tensor: False\n",
      "    batch_grid             :  (1, 81, 200) Keras Tensor: False\n",
      "    roi_grid shape         :  (1, 81, 200) Keras Tensor: False\n",
      "    gather_inds            :  (1, 81, 200, 3) Keras Tensor: False\n",
      "    pred_tensor            :  (1, 81, 200, 9) Keras Tensor: False\n",
      "\n",
      " \n",
      "  > build_inference_heatmap() for  ['pred_heatmap']\n",
      "    in_tensor shape        :  (1, 81, 200, 9)\n",
      "    num bboxes per class   :  200\n",
      "    heatmap scale        :  4 Dimensions:  w: 256  h: 256\n",
      "    pt2_sum shape  :  (1, 81, 200)\n",
      "    pt2_ind shape  :  (?, 3)\n",
      "    pt2_dense shape:  (?, 9)\n",
      "    X/Y shapes : (256, 256) (256, 256)\n",
      "    Ones:     (?, 1, 1)\n",
      "    ones_exp * X (?, 1, 1) * (256, 256) =  (?, 256, 256)\n",
      "    ones_exp * Y (?, 1, 1) * (256, 256) =  (?, 256, 256)\n",
      "    pos_grid before transpse :  (?, 256, 256, 2)\n",
      "    pos_grid after transpose :  (256, 256, ?, 2)\n",
      "    >> input to MVN.PROB: pos_grid (meshgrid) shape:  (256, 256, ?, 2)\n",
      "     Prob_grid shape from mvn.probe:  (256, 256, ?)\n",
      "     Prob_grid shape after tanspose:  (?, 256, 256)\n",
      "    << output probabilities shape  :  (?, 256, 256)\n",
      "    old_style_scores        : (1, 81, 200, 3) (1, 81, 200, 3)\n",
      "    prob_grid_clipped :  (?, 256, 256)\n",
      "\n",
      "    normalization ------------------------------------------------------\n",
      "    normalizer     :  (?, 1, 1)\n",
      "    prob_grid_cns: clipped/normed/scaled :  (?, 256, 256)\n",
      "    alt_scores_1    :  (None, 3)  Keras tensor  False\n",
      "    alt_scores_1(by class)       :  (1, 81, 200, 3)  Keras tensor  False\n",
      "    alt_scores_1_norm(by_class)  :  (1, 81, 200, 3) (1, 81, 200, 3)\n",
      "\n",
      "    Scatter out the probability distributions based on class --------------\n",
      "    pt2_ind shape      :  (?, 3)\n",
      "    prob_grid_clippped :  (?, 256, 256)\n",
      "    gauss_heatmap      :  (1, 81, 200, 256, 256)\n",
      "\n",
      "    Reduce SUM based on class and normalize within each class -------------------------------------\n",
      "    gaussian_heatmap_sum :  (1, 81, 256, 256) Keras tensor  False\n",
      "    normalizer shape   :  (1, 81, 1, 1)\n",
      "    normalized heatmap :  (1, 81, 256, 256)  Keras tensor  False\n",
      "    hm_indices shape         : (?, 2) (None, 2)\n",
      "    pt2_heatmaps             : (?, 256, 256) (None, 256, 256)\n",
      "    alt_scores_2    :  (None, 3)  Keras tensor  False\n",
      "    alt_scores_2(scattered)       :  (1, 81, 200, 3)  Keras tensor  False\n",
      "    alt_scores_2_norm(by_class)  :  (1, 81, 200, 3) (1, 81, 200, 3)\n",
      "    reshaped heatmap   :  (1, 256, 256, 81)  Keras tensor  False\n",
      "    gauss_scores    :  (1, 81, 200, 24)  Keras tensor  False\n",
      "    complete\n",
      "\n",
      "    Output of CHMLayerInference: \n",
      "     pred_tensor        :  (1, 81, 200, 9) Keras tensor  False\n",
      "     pred_heatmap_norm  :  (1, 256, 256, 81) Keras tensor  False\n",
      "     pred_heatmap_scores:  (1, 81, 200, 24) Keras tensor  False\n",
      "     complete\n",
      "    shape of pr_hm        :        :  shape: (1, 256, 256, 81)     KB.shape:(None, 1024, 1024, 81)  Keras Tensor: True\n",
      "    shape of pr_hm_scores :        :  shape: (1, 81, 200, 24)      KB.shape:(None, 81, 200, 24)   Keras Tensor: True\n",
      "\n",
      ">>> Build MaskRCNN build complete. mode:  inference\n",
      ">>> MaskRCNN initialiation complete. Mode:  inference\n",
      " *** Keras Training mode after setting: Tensor(\"keras_learning_phase:0\", shape=(), dtype=bool)\n",
      ">>> Initialize Paths\n",
      " Linx  Linux\n",
      "\n",
      "   Arguments passed :\n",
      "   --------------------\n",
      "   batch_size                     1\n",
      "   coco_classes                   [78, 79, 80, 81, 82, 44, 46, 47, 48, 49, 50, 51, 34, 35, 36, 37, 38, 39, 40, 41, 42, 43, 10, 11, 13, 14, 15]\n",
      "   epochs                         1\n",
      "   evaluate_method                1\n",
      "   fcn_arch                       FCN8L2\n",
      "   fcn_layers                     ['all']\n",
      "   fcn_logs_dir                   train_fcn8L2_BCE_subset\n",
      "   fcn_losses                     fcn_BCE_loss\n",
      "   fcn_model                      last\n",
      "   last_epoch                     0\n",
      "   lr                             0.001\n",
      "   mrcnn_exclude_layers           None\n",
      "   mrcnn_layers                   ['mrcnn', 'fpn', 'rpn']\n",
      "   mrcnn_logs_dir                 train_mrcnn_coco_subset\n",
      "   mrcnn_model                    last\n",
      "   new_log_folder                 False\n",
      "   opt                            ADAGRAD\n",
      "   scale_factor                   4\n",
      "   steps_in_epoch                 1\n",
      "   sysout                         SCREEN\n",
      "   val_steps                      1\n",
      "\n",
      "\n",
      "\n",
      "   Paths:\n",
      "   -------------------------\n",
      "COCO_DATASET_PATH              /home/kbardool/MLDatasets/coco2014\n",
      "COCO_HEATMAP_PATH              /home/kbardool/MLDatasets/coco2014_heatmaps\n",
      "COCO_MODEL_PATH                /home/kbardool/PretrainedModels/mask_rcnn_coco.h5\n",
      "DIR_DATASET                    /home/kbardool/MLDatasets\n",
      "DIR_PRETRAINED                 /home/kbardool/PretrainedModels\n",
      "DIR_ROOT                       /home/kbardool/git_projs/mrcnn3/notebooks/ADAM-COCO_subset\n",
      "DIR_TRAINING                   /home/kbardool/models_coco\n",
      "FCN_TRAINING_PATH              /home/kbardool/models_coco/train_fcn8L2_BCE_subset\n",
      "FCN_VGG16_MODEL_PATH           /home/kbardool/PretrainedModels/fcn_vgg16_weights_tf_dim_ordering_tf_kernels.h5\n",
      "MRCNN_TRAINING_PATH            /home/kbardool/models_coco/train_mrcnn_coco_subset\n",
      "RESNET_MODEL_PATH              /home/kbardool/PretrainedModels/resnet50_weights_tf_dim_ordering_tf_kernels_notop.h5\n",
      "SHAPES_MODEL_PATH              /home/kbardool/PretrainedModels/mask_rcnn_shapes.h5\n",
      "VGG16_MODEL_PATH               /home/kbardool/PretrainedModels/vgg16_weights_tf_dim_ordering_tf_kernels_notop.h5\n",
      "\n",
      "\n",
      "Configuration Parameters:\n",
      "-------------------------\n",
      "BACKBONE_SHAPES                [[256 256]\n",
      " [128 128]\n",
      " [ 64  64]\n",
      " [ 32  32]\n",
      " [ 16  16]]\n",
      "BACKBONE_STRIDES               [4, 8, 16, 32, 64]\n",
      "BATCH_SIZE                     1\n",
      "BBOX_STD_DEV                   [0.1 0.1 0.2 0.2]\n",
      "COCO_DATASET_PATH              /home/kbardool/MLDatasets/coco2014\n",
      "COCO_HEATMAP_PATH              /home/kbardool/MLDatasets/coco2014_heatmaps\n",
      "COCO_MODEL_PATH                /home/kbardool/PretrainedModels/mask_rcnn_coco.h5\n",
      "DETECTION_MAX_INSTANCES        200\n",
      "DETECTION_MIN_CONFIDENCE       0.1\n",
      "DETECTION_NMS_THRESHOLD        0.3\n",
      "DETECTION_PER_CLASS            200\n",
      "DIR_DATASET                    /home/kbardool/MLDatasets\n",
      "DIR_PRETRAINED                 /home/kbardool/PretrainedModels\n",
      "DIR_TRAINING                   /home/kbardool/models_coco\n",
      "EPOCHS_TO_RUN                  0\n",
      "FCN_INPUT_SHAPE                [256 256]\n",
      "GPU_COUNT                      1\n",
      "HEATMAP_SCALE_FACTOR           4\n",
      "IMAGES_PER_GPU                 1\n",
      "IMAGE_MAX_DIM                  1024\n",
      "IMAGE_MIN_DIM                  800\n",
      "IMAGE_PADDING                  True\n",
      "IMAGE_SHAPE                    [1024 1024    3]\n",
      "LAST_EPOCH_RAN                 0\n",
      "LEARNING_MOMENTUM              0.9\n",
      "LEARNING_RATE                  0.001\n",
      "MASK_POOL_SIZE                 14\n",
      "MASK_SHAPE                     [28, 28]\n",
      "MAX_GT_INSTANCES               100\n",
      "MEAN_PIXEL                     [123.7 116.8 103.9]\n",
      "MINI_MASK_SHAPE                (56, 56)\n",
      "NAME                           fcn\n",
      "NEW_LOG_FOLDER                 False\n",
      "NUM_CLASSES                    81\n",
      "POOL_SIZE                      7\n",
      "POST_NMS_ROIS_INFERENCE        1000\n",
      "POST_NMS_ROIS_TRAINING         2000\n",
      "RESNET_MODEL_PATH              /home/kbardool/PretrainedModels/resnet50_weights_tf_dim_ordering_tf_kernels_notop.h5\n",
      "ROI_GT_IOU_THRESHOLD           0.2\n",
      "ROI_POSITIVE_RATIO             0.33\n",
      "ROI_PROPOSAL_AREA_THRESHOLD    0\n",
      "RPN_ANCHOR_RATIOS              [0.5, 1, 2]\n",
      "RPN_ANCHOR_SCALES              (32, 64, 128, 256, 512)\n",
      "RPN_ANCHOR_STRIDE              1\n",
      "RPN_BBOX_STD_DEV               [0.1 0.1 0.2 0.2]\n",
      "RPN_NMS_THRESHOLD              0.7\n",
      "RPN_TRAIN_ANCHORS_PER_IMAGE    256\n",
      "STEPS_PER_EPOCH                10\n",
      "SYSOUT                         SCREEN\n",
      "TRAINING_PATH                  /home/kbardool/models_coco/train_fcn8L2_BCE_subset\n",
      "TRAIN_ROIS_PER_IMAGE           200\n",
      "USE_MINI_MASK                  True\n",
      "USE_RPN_ROIS                   True\n",
      "VALIDATION_STEPS               50\n",
      "VERBOSE                        1\n",
      "VGG16_MODEL_PATH               /home/kbardool/PretrainedModels/fcn_vgg16_weights_tf_dim_ordering_tf_kernels.h5\n",
      "WEIGHT_DECAY                   0.0001\n",
      "\n",
      "\n",
      ">>> Initialize ModelBase model \n",
      "   Mode      :  inference\n",
      "   Model dir :  /home/kbardool/models_coco/train_fcn8L2_BCE_subset\n",
      ">>> ModelBase initialiation complete\n",
      ">>> Initialize FCN model, mode:  inference architecture:  FCN8L2\n",
      "    arch set to FCN8 - with L2 Regularization\n",
      "<function fcn8_l2_graph at 0x7f417a2268c8>\n",
      "\n",
      "\n",
      "---------------------------------------------------\n",
      " Build FCN Model -  Arch:  FCN8L2  mode:  inference\n",
      "---------------------------------------------------\n",
      "\n",
      "------------------------------------------------------\n",
      ">>> FCN8L2 Layer With Regularization - mode: inference\n",
      "------------------------------------------------------\n",
      "     feature map      : (?, 256, 256, 81)\n",
      "     height : 256 width : 256 classes : 81\n",
      "     image_data_format:  channels_last\n",
      "     rois_per_class   :  channels_last\n",
      "     FCN L2 weight decay :  0.0001\n",
      "     Set learning phase to : 0\n",
      "   Input feature map                   :  (?, 256, 256, 81)\n",
      "   FCN Block 11 shape is               :  (None, 256, 256, 64)\n",
      "   FCN Block 12 shape is               :  (None, 256, 256, 64)\n",
      "   FCN Block 13 (Max pooling) shape is :  (None, 128, 128, 64)\n",
      "   FCN Block 21 shape is               :  (?, 128, 128, 128)\n",
      "   FCN Block 22 shape is               :  (None, 128, 128, 128)\n",
      "   FCN Block 23 (Max pooling) shape is :  (None, 64, 64, 128)\n",
      "   FCN Block 31 shape is               :  (None, 64, 64, 256)\n",
      "   FCN Block 32 shape is               :  (None, 64, 64, 256)\n"
     ]
    },
    {
     "name": "stdout",
     "output_type": "stream",
     "text": [
      "   FCN Block 33 shape is               :  (None, 64, 64, 256)\n",
      "   FCN Block 34 (Max pooling) shape is :  (?, 32, 32, 256)\n",
      "   FCN Block 41 shape is               :  (None, 32, 32, 512)\n",
      "   FCN Block 42 shape is               :  (None, 32, 32, 512)\n",
      "   FCN Block 43 shape is               :  (None, 32, 32, 512)\n",
      "   FCN Block 44 (Max pooling) shape is :  (?, 16, 16, 512)\n",
      "   FCN Block 51 shape is               :  (None, 16, 16, 512)\n",
      "   FCN Block 52 shape is               :  (None, 16, 16, 512)\n",
      "   FCN Block 53 shape is               :  (None, 16, 16, 512)\n",
      "   FCN Block 54 (Max pooling) shape is :  (None, 8, 8, 512)\n",
      "\n",
      "   --- FCN32 ----------------------------\n",
      "   FCN fully connected 1 (fc1) shape   :  (None, 8, 8, 4096)\n",
      "   FCN fully connected 2 (fc2) shape   :  (None, 8, 8, 4096)\n",
      "   FCN conv2d (fcn32_deconv2D) shape   :  (?, 8, 8, 81)  keras_tensor  True\n",
      "\n",
      "   --- FCN16 ----------------------------\n",
      "   FCN scorePool4 (Conv2D(Pool4)) shape is                   :  (None, 16, 16, 81)    keras_tensor  True\n",
      "   FCN 2x Upsampling (Deconvolution2D(fcn32_classify)) shape :  (None, 18, 18, 81)    keras_tensor  True\n",
      "   FCN 2x Upsampling/Cropped (Cropped2D(score2)) shape       :  (None, 16, 16, 81)    keras_tensor  True\n",
      "   FCN Add Score2,scorePool4 Add(score2_c, scorePool4) shape :  (None, 16, 16, 81)    keras_tensor  True\n",
      "   FCN upscore_pool4 (Deconv(fuse_Pool4)) shape              :  (None, 32, 32, 81)    keras_tensor  True\n",
      "\n",
      "   --- FCN8 ----------------------------\n",
      "   FCN scorePool4 (Conv2D(Pool4)) shape                      :  (None, 32, 32, 81)    keras_tensor  True\n",
      "   FCN 2x Upsampling/Cropped (Cropped2D(score2)) shape       :  (None, 32, 32, 81)    keras_tensor  True\n",
      "   FCN Add Score2,scorePool4 shape is                        :  (None, 32, 32, 81)    keras_tensor  True\n",
      "    FCN fcn8_classify/heatmap  (Deconv(fuse_Pool4)):  shape: (?, 256, 256, 81)     KB.shape:(None, 256, 256, 81)  Keras Tensor: True\n",
      "    fcn_hm (final)                 :  shape: (?, 256, 256, 81)     KB.shape:(None, 256, 256, 81)  Keras Tensor: True\n",
      "\n",
      "    fcn8_softmax                   :  shape: (?, 256, 256, 81)     KB.shape:(None, 256, 256, 81)  Keras Tensor: True\n",
      "    fcn_sm (final)                 :  shape: (?, 256, 256, 81)     KB.shape:(None, 256, 256, 81)  Keras Tensor: True\n",
      "\n",
      "\n",
      " \n",
      "----------------------\n",
      ">>> FCN Scoring Layer - mode: inference\n",
      "----------------------\n",
      "    in_heatmap.shape               :  shape: (?, 256, 256, 81)     KB.shape:(None, 256, 256, 81)  Keras Tensor: True\n",
      "    pr_hm_scores.shape             :  shape: (?, 81, 200, 24)      KB.shape:(None, 81, 200, 24)   Keras Tensor: True\n",
      "    detctions_per_image :  200 pr_scores shape (?, 81, 200, 24)\n",
      "    rois_per_image      :  200\n",
      "    config.DETECTION_MAX_INSTANCES   :  200\n",
      "    config.DETECTIONS_PER_CLASS      :  200\n",
      "    sequence_column                  :  7\n",
      "    norm_score_column                :  8\n",
      "    in_heatmap                     :  shape: (?, 256, 256, 81)     KB.shape:(None, 256, 256, 81)  Keras Tensor: True\n",
      "    pr_scores.shape                :  shape: (?, 81, 200, 24)      KB.shape:(None, 81, 200, 24)   Keras Tensor: True\n",
      "    pt2_sum shape                  :  shape: (?, 81, 200)          KB.shape:(None, 81, 200)       Keras Tensor: False\n",
      "    pt2_ind shape                  :  shape: (?, 3)                KB.shape:(None, 3)             Keras Tensor: False\n",
      "    pt2_dense shape                :  shape: (?, 24)               KB.shape:(None, 24)            Keras Tensor: False\n",
      "    hm_indices                     :  shape: (?, 2)                KB.shape:(None, 2)             Keras Tensor: False\n",
      "    pt2_heatmaps                   :  shape: (?, 81, 256, 256)     KB.shape:(None, 81, 256, 256)  Keras Tensor: False\n",
      "    pt2_heatmaps                   :  shape: (?, 256, 256)         KB.shape:(None, 256, 256)      Keras Tensor: False\n",
      "    old_style_scores               :  shape: (?, 3)                KB.shape:(None, 3)             Keras Tensor: False\n",
      "    alt_scores_1                   :  shape: (?, 3)                KB.shape:(None, 3)             Keras Tensor: False\n",
      "    alt_scores_1_scattered         :  shape: (1, 81, 200, 3)       KB.shape:(1, 81, 200, 3)       Keras Tensor: False\n",
      "    alt_scores_1_norm(by_class)    :  shape: (1, 81, 200, 3)       KB.shape:(1, 81, 200, 3)       Keras Tensor: False\n",
      "    alt_scores_1_norm(by_image)    :  shape: (?, 3)                KB.shape:(None, 3)             Keras Tensor: False\n",
      "\n",
      "    Normalize heatmap within each class !-------------------------------------\n",
      "    in_heatmap_norm :  (?, 81, 256, 256) Keras tensor  False\n",
      "    normalizer shape   :  (?, 81, 1, 1)\n",
      "    normalized heatmap :  (?, 81, 256, 256)  Keras tensor  False\n",
      "    hm_indices shape               :  shape: (?, 2)                KB.shape:(None, 2)             Keras Tensor: False\n",
      "    pt2_heatmaps                   :  shape: (?, 256, 256)         KB.shape:(None, 256, 256)      Keras Tensor: False\n",
      "    alt_scores_2                   :  shape: (?, 3)                KB.shape:(None, 3)             Keras Tensor: False\n",
      "    alt_scores_2(scattered)        :  shape: (1, 81, 200, 3)       KB.shape:(1, 81, 200, 3)       Keras Tensor: False\n",
      "    alt_scores_2_norm(by_class)    :  shape: (1, 81, 200, 3)       KB.shape:(1, 81, 200, 3)       Keras Tensor: False\n",
      "    alt_scores_2_norm(by_image)    :  shape: (?, 3)                KB.shape:(None, 3)             Keras Tensor: False\n",
      "    fcn_scores_dense               :  shape: (?, 24)               KB.shape:(None, 24)            Keras Tensor: False\n",
      "    seq_ids                        :  shape: (?,)                  KB.shape:(None,)               Keras Tensor: False\n",
      "    sscatter_ids                   :  shape: (?, 2)                KB.shape:(None, 2)             Keras Tensor: False\n",
      "    fcn_scores_by_class            :  shape: (1, 81, 200, 24)      KB.shape:(1, 81, 200, 24)      Keras Tensor: False\n",
      "    complete                       \n",
      "\n",
      " \n",
      "----------------------\n",
      ">>> FCN Scoring Layer - mode: inference\n",
      "----------------------\n",
      "    in_heatmap.shape               :  shape: (?, 256, 256, 81)     KB.shape:(None, 256, 256, 81)  Keras Tensor: False\n",
      "    pr_hm_scores.shape             :  shape: (?, 81, 200, 24)      KB.shape:(None, 81, 200, 24)   Keras Tensor: False\n",
      "    detctions_per_image :  200 pr_scores shape (?, 81, 200, 24)\n",
      "    rois_per_image      :  200\n",
      "    config.DETECTION_MAX_INSTANCES   :  200\n",
      "    config.DETECTIONS_PER_CLASS      :  200\n",
      "    sequence_column                  :  7\n",
      "    norm_score_column                :  8\n",
      "    in_heatmap                     :  shape: (?, 256, 256, 81)     KB.shape:(None, 256, 256, 81)  Keras Tensor: False\n",
      "    pr_scores.shape                :  shape: (?, 81, 200, 24)      KB.shape:(None, 81, 200, 24)   Keras Tensor: False\n",
      "    pt2_sum shape                  :  shape: (?, 81, 200)          KB.shape:(None, 81, 200)       Keras Tensor: False\n",
      "    pt2_ind shape                  :  shape: (?, 3)                KB.shape:(None, 3)             Keras Tensor: False\n",
      "    pt2_dense shape                :  shape: (?, 24)               KB.shape:(None, 24)            Keras Tensor: False\n",
      "    hm_indices                     :  shape: (?, 2)                KB.shape:(None, 2)             Keras Tensor: False\n",
      "    pt2_heatmaps                   :  shape: (?, 81, 256, 256)     KB.shape:(None, 81, 256, 256)  Keras Tensor: False\n",
      "    pt2_heatmaps                   :  shape: (?, 256, 256)         KB.shape:(None, 256, 256)      Keras Tensor: False\n",
      "    old_style_scores               :  shape: (?, 3)                KB.shape:(None, 3)             Keras Tensor: False\n",
      "    alt_scores_1                   :  shape: (?, 3)                KB.shape:(None, 3)             Keras Tensor: False\n",
      "    alt_scores_1_scattered         :  shape: (1, 81, 200, 3)       KB.shape:(1, 81, 200, 3)       Keras Tensor: False\n",
      "    alt_scores_1_norm(by_class)    :  shape: (1, 81, 200, 3)       KB.shape:(1, 81, 200, 3)       Keras Tensor: False\n",
      "    alt_scores_1_norm(by_image)    :  shape: (?, 3)                KB.shape:(None, 3)             Keras Tensor: False\n",
      "\n",
      "    Normalize heatmap within each class !-------------------------------------\n",
      "    in_heatmap_norm :  (?, 81, 256, 256) Keras tensor  False\n",
      "    normalizer shape   :  (?, 81, 1, 1)\n",
      "    normalized heatmap :  (?, 81, 256, 256)  Keras tensor  False\n",
      "    hm_indices shape               :  shape: (?, 2)                KB.shape:(None, 2)             Keras Tensor: False\n",
      "    pt2_heatmaps                   :  shape: (?, 256, 256)         KB.shape:(None, 256, 256)      Keras Tensor: False\n",
      "    alt_scores_2                   :  shape: (?, 3)                KB.shape:(None, 3)             Keras Tensor: False\n",
      "    alt_scores_2(scattered)        :  shape: (1, 81, 200, 3)       KB.shape:(1, 81, 200, 3)       Keras Tensor: False\n",
      "    alt_scores_2_norm(by_class)    :  shape: (1, 81, 200, 3)       KB.shape:(1, 81, 200, 3)       Keras Tensor: False\n"
     ]
    },
    {
     "name": "stdout",
     "output_type": "stream",
     "text": [
      "    alt_scores_2_norm(by_image)    :  shape: (?, 3)                KB.shape:(None, 3)             Keras Tensor: False\n",
      "    fcn_scores_dense               :  shape: (?, 24)               KB.shape:(None, 24)            Keras Tensor: False\n",
      "    seq_ids                        :  shape: (?,)                  KB.shape:(None,)               Keras Tensor: False\n",
      "    sscatter_ids                   :  shape: (?, 2)                KB.shape:(None, 2)             Keras Tensor: False\n",
      "    fcn_scores_by_class            :  shape: (1, 81, 200, 24)      KB.shape:(1, 81, 200, 24)      Keras Tensor: False\n",
      "    complete                       \n",
      "    * fcn_heatmap shape:           :  shape: (?, 256, 256, 81)     KB.shape:(None, 256, 256, 81)  Keras Tensor: True\n",
      "    * fcn_scores shape :           :  shape: (1, 81, 200, 24)      KB.shape:(1, 81, 200, 24)      Keras Tensor: True\n",
      " ================================================================\n",
      " self.keras_model.losses :  21\n",
      "0      Tensor(\"block3_conv2/add:0\", shape=(), dtype=float32)\n",
      "1      Tensor(\"block1_conv2/add:0\", shape=(), dtype=float32)\n",
      "2      Tensor(\"block5_conv1/add:0\", shape=(), dtype=float32)\n",
      "3      Tensor(\"fcn16_score_pool4/add:0\", shape=(), dtype=float32)\n",
      "4      Tensor(\"fcn8_score_pool3/add:0\", shape=(), dtype=float32)\n",
      "5      Tensor(\"fcn8_heatmap/add:0\", shape=(), dtype=float32)\n",
      "6      Tensor(\"block1_conv1/add:0\", shape=(), dtype=float32)\n",
      "7      Tensor(\"fcn32_fc1/add:0\", shape=(), dtype=float32)\n",
      "8      Tensor(\"fcn32_deconv2D/add:0\", shape=(), dtype=float32)\n",
      "9      Tensor(\"block5_conv2/add:0\", shape=(), dtype=float32)\n",
      "10      Tensor(\"fcn16_score2/add:0\", shape=(), dtype=float32)\n",
      "11      Tensor(\"fcn16_upscore_pool4/add:0\", shape=(), dtype=float32)\n",
      "12      Tensor(\"block2_conv2/add:0\", shape=(), dtype=float32)\n",
      "13      Tensor(\"block3_conv1/add:0\", shape=(), dtype=float32)\n",
      "14      Tensor(\"block4_conv2/add:0\", shape=(), dtype=float32)\n",
      "15      Tensor(\"block4_conv3/add:0\", shape=(), dtype=float32)\n",
      "16      Tensor(\"block5_conv3/add:0\", shape=(), dtype=float32)\n",
      "17      Tensor(\"block4_conv1/add:0\", shape=(), dtype=float32)\n",
      "18      Tensor(\"fcn32_fc2/add:0\", shape=(), dtype=float32)\n",
      "19      Tensor(\"block2_conv1/add:0\", shape=(), dtype=float32)\n",
      "20      Tensor(\"block3_conv3/add:0\", shape=(), dtype=float32)\n",
      " ================================================================\n",
      "\n",
      ">>> FCN build complete. mode:  inference\n",
      ">>> FCN initialization complete. mode:  inference\n",
      " *** Keras Training mode after setting: 0\n",
      "\n",
      " MRCNN IO Layers \n",
      " --------------- \n",
      " Inputs:\n",
      " -------\n",
      " index:  0    input name : input_image:0                              Type: float32           Shape: (?, 1024, 1024, 3)\n",
      " index:  1    input name : input_image_meta:0                         Type: float32           Shape: (?, ?)\n",
      " Outputs:\n",
      " --------\n",
      " layer:  0    output name: mrcnn_detection/detections:0               Type: float32           Shape: <unknown>\n",
      " layer:  1    output name: ROI/rpn_roi_proposals:0                    Type: float32           Shape: (1, ?, ?)\n",
      " layer:  2    output name: mrcnn_class_lambda/mrcnn_class:0           Type: float32           Shape: (?, 1000, 81)\n",
      " layer:  3    output name: mrcnn_bbox_lambda/mrcnn_bbox:0             Type: float32           Shape: (?, 1000, 81, 4)\n",
      " layer:  4    output name: cntxt_layer/pred_heatmap:0                 Type: float32           Shape: (1, 256, 256, 81)\n",
      " layer:  5    output name: cntxt_layer/pred_heatmap_scores:0          Type: float32           Shape: (1, 81, 200, 24)\n",
      "\n",
      " FCN IO Layers \n",
      " ------------- \n",
      " Inputs:\n",
      " -------\n",
      " index:  0    input name : input_pr_hm_norm:0                         Type: float32           Shape: (?, 256, 256, 81)\n",
      " index:  1    input name : input_pr_hm_scores:0                       Type: float32           Shape: (?, 81, 200, 24)\n",
      " Outputs:\n",
      " --------\n",
      " layer:  0    output name: fcn_heatmap_lambda/fcn_hm:0                Type: float32           Shape: (?, 256, 256, 81)\n",
      " layer:  1    output name: fcn_softmax_lambda/fcn_sm:0                Type: float32           Shape: (?, 256, 256, 81)\n",
      " layer:  2    output name: fcn_scoring/fcn_hm_scores:0                Type: float32           Shape: (1, 81, 200, 24)\n",
      "-----------------------------------------------\n",
      " Load Model with init parm: [ last ]\n",
      "-----------------------------------------------\n",
      " ---> last\n",
      ">>> find_last checkpoint in :  /home/kbardool/models_coco/train_mrcnn_coco_subset\n",
      ">>> find_last checkpoint in :  /home/kbardool/models_coco/train_mrcnn_coco_subset\n",
      "    Dir starting with       :  mrcnn  : ['mrcnn20181220T0000']\n",
      "    Folder:  /home/kbardool/models_coco/train_mrcnn_coco_subset/mrcnn20181220T0000\n",
      "    Checkpoints:  ['mrcnn_0001.h5', 'mrcnn_0066.h5', 'mrcnn_0101.h5', 'mrcnn_0148.h5', 'mrcnn_0269.h5', 'mrcnn_0385.h5']\n",
      "    find_last():   dir_name: /home/kbardool/models_coco/train_mrcnn_coco_subset/mrcnn20181220T0000\n",
      "    find_last(): checkpoint: /home/kbardool/models_coco/train_mrcnn_coco_subset/mrcnn20181220T0000/mrcnn_0385.h5\n",
      ">>> load_weights() from : /home/kbardool/models_coco/train_mrcnn_coco_subset/mrcnn20181220T0000/mrcnn_0385.h5\n",
      "    Weights file loaded: /home/kbardool/models_coco/train_mrcnn_coco_subset/mrcnn20181220T0000/mrcnn_0385.h5 \n",
      "==========================================\n",
      "MRCNN  MODEL Load weight file COMPLETE \n",
      "==========================================\n",
      "-----------------------------------------------\n",
      " Load Model with init parm: [ last ]\n",
      "-----------------------------------------------\n",
      " ---> last\n",
      ">>> find_last checkpoint in :  /home/kbardool/models_coco/train_fcn8L2_BCE_subset\n",
      ">>> find_last checkpoint in :  /home/kbardool/models_coco/train_fcn8L2_BCE_subset\n",
      "    Dir starting with       :  fcn  : ['fcn20181221T0000', 'fcn20190120T0000', 'fcn20181230T0000']\n",
      "    Folder:  /home/kbardool/models_coco/train_fcn8L2_BCE_subset/fcn20190120T0000\n",
      "    Checkpoints:  ['fcn_1612.h5', 'fcn_1673.h5', 'fcn_2330.h5', 'fcn_3348.h5', 'fcn_3742.h5', 'fcn_3816.h5', 'fcn_4345.h5']\n",
      "    find_last():   dir_name: /home/kbardool/models_coco/train_fcn8L2_BCE_subset/fcn20190120T0000\n",
      "    find_last(): checkpoint: /home/kbardool/models_coco/train_fcn8L2_BCE_subset/fcn20190120T0000/fcn_4345.h5\n",
      ">>> load_weights() from : /home/kbardool/models_coco/train_fcn8L2_BCE_subset/fcn20190120T0000/fcn_4345.h5\n",
      "    Weights file loaded: /home/kbardool/models_coco/train_fcn8L2_BCE_subset/fcn20190120T0000/fcn_4345.h5 \n",
      "==========================================\n",
      "FCN  MODEL Load weight file COMPLETE \n",
      "==========================================\n",
      " *** Keras Training mode after setting: 0\n"
     ]
    }
   ],
   "source": [
    "from mrcnn.prep_notebook import build_fcn_inference_pipeline\n",
    "mrcnn_model, fcn_model = build_fcn_inference_pipeline(args = args,verbose = 1)"
   ]
  },
  {
   "cell_type": "markdown",
   "metadata": {},
   "source": [
    "## Set weight files"
   ]
  },
  {
   "cell_type": "code",
   "execution_count": 13,
   "metadata": {
    "ExecuteTime": {
     "end_time": "2019-01-30T11:55:11.120612Z",
     "start_time": "2019-01-30T11:55:11.075121Z"
    }
   },
   "outputs": [],
   "source": [
    "### MSE ERRORS\n",
    "# DIR_WEIGHTS =  '/home/kbardool/models_coco/train_fcn8L2_MSE_subset/fcn20190112T0000' \n",
    "# files       = ['fcn_0001.h5', 'fcn_0100.h5', 'fcn_0220.h5', 'fcn_0464.h5',  'fcn_0542.h5',\n",
    "#                'fcn_0690.h5', 'fcn_1015.h5', 'fcn_1228.h5', 'fcn_1568.h5',  'fcn_1603.h5', 'fcn_1806.h5']\n",
    "# files       = [ 'fcn_0001.h5', 'fcn_0100.h5', 'fcn_0220.h5', 'fcn_0464.h5',\n",
    "#                 'fcn_0690.h5', 'fcn_1015.h5', 'fcn_1228.h5', 'fcn_1568.h5', \n",
    "#                 'fcn_1603.h5', 'fcn_1806.h5',\n",
    "#                 'fcn_1065.h5', 'fcn_1095.h5', 'fcn_1108.h5',\n",
    "#                 'fcn_1612.h5', 'fcn_1673.h5', 'fcn_2330.h5', 'fcn_3348.h5',\n",
    "#                 'fcn_3742.h5', 'fcn_3816.h5', 'fcn_4345.h5']\n",
    "\n",
    "\n",
    "## BCE Weight files \n",
    "# DIR_WEIGHTS =  '/home/kbardool/models_coco/train_fcn8L2_BCE_subset/fcn20181221T0000' \n",
    "# files   = ['fcn_0001.h5', 'fcn_0026.h5', 'fcn_0162.h5', 'fcn_0350.h5',\n",
    "#            'fcn_0584.h5', 'fcn_0657.h5', 'fcn_0950.h5']\n",
    "\n",
    "# DIR_WEIGHTS =  '/home/kbardool/models_coco/train_fcn8L2_BCE_subset/fcn20181230T0000' \n",
    "# files   = ['fcn_1065.h5', 'fcn_1095.h5', 'fcn_1108.h5']\n",
    "\n",
    "DIR_WEIGHTS =  '/home/kbardool/models_coco/train_fcn8L2_BCE_subset/fcn20190120T0000' \n",
    "files   = ['fcn_1612.h5', 'fcn_1673.h5', 'fcn_2330.h5', 'fcn_3348.h5',\n",
    "           'fcn_3742.h5', 'fcn_3816.h5', 'fcn_4345.h5']\n"
   ]
  },
  {
   "cell_type": "code",
   "execution_count": 16,
   "metadata": {
    "ExecuteTime": {
     "end_time": "2019-01-30T11:59:43.248378Z",
     "start_time": "2019-01-30T11:59:43.201925Z"
    },
    "scrolled": true
   },
   "outputs": [],
   "source": [
    "# for FILE_IDX  in [0,1,2,3,4,5,6]:\n",
    "\n",
    "#     weights_path = os.path.join(DIR_WEIGHTS  , files[FILE_IDX])\n",
    "#     if not os.path.isfile(weights_path):\n",
    "#         continue\n",
    "#     print(\"Loading weights \", weights_path)\n",
    "#     fcn_model.load_model_weights(weights_path)\n",
    "#     # Pick layer types to display\n",
    "#     a = visualize.display_weight_histograms(fcn_model,width=15,height=4, filename = files[FILE_IDX])\n",
    "#     weights_histogram = os.path.join(DIR_WEIGHTS  , 'histogram_'+files[FILE_IDX]+'.png')\n",
    "#     a.savefig(weights_histogram)"
   ]
  },
  {
   "cell_type": "markdown",
   "metadata": {},
   "source": [
    "## Load Weights - 1"
   ]
  },
  {
   "cell_type": "code",
   "execution_count": 17,
   "metadata": {
    "ExecuteTime": {
     "end_time": "2019-01-30T11:59:51.179136Z",
     "start_time": "2019-01-30T11:59:50.565317Z"
    },
    "scrolled": true
   },
   "outputs": [
    {
     "name": "stdout",
     "output_type": "stream",
     "text": [
      "Loading weights  /home/kbardool/models_coco/train_fcn8L2_BCE_subset/fcn20190120T0000/fcn_4345.h5\n",
      "-----------------------------------------------\n",
      " Load Model with init parm: [ /home/kbardool/models_coco/train_fcn8L2_BCE_subset/fcn20190120T0000/fcn_4345.h5 ]\n",
      "-----------------------------------------------\n",
      " ---> Explicit weight file\n",
      ">>> load_weights() from : /home/kbardool/models_coco/train_fcn8L2_BCE_subset/fcn20190120T0000/fcn_4345.h5\n",
      "    Weights file loaded: /home/kbardool/models_coco/train_fcn8L2_BCE_subset/fcn20190120T0000/fcn_4345.h5 \n",
      "==========================================\n",
      "FCN  MODEL Load weight file COMPLETE \n",
      "==========================================\n"
     ]
    }
   ],
   "source": [
    "FILE_IDX = -1\n",
    "\n",
    "weights_path = os.path.join(DIR_WEIGHTS  , files[FILE_IDX])\n",
    "print(\"Loading weights \", weights_path)\n",
    "fcn_model.load_model_weights(weights_path)"
   ]
  },
  {
   "cell_type": "markdown",
   "metadata": {},
   "source": [
    "### Review Weight Stats - 1st weight file"
   ]
  },
  {
   "cell_type": "code",
   "execution_count": 18,
   "metadata": {
    "ExecuteTime": {
     "end_time": "2019-01-30T11:59:55.526763Z",
     "start_time": "2019-01-30T11:59:54.274513Z"
    }
   },
   "outputs": [
    {
     "data": {
      "text/html": [
       "<table><tr><td>LAYER</td><td> WEIGHT NAME</td><td>LAYER TYPE</td><td>SHAPE</td><td>MIN</td><td>MAX</td><td>STD</td></tr><tr><td>  0</td><td>block1_conv1/kernel:0                   </td><td>Conv2D</td><td>(3, 3, 81, 64)</td><td>-0.3050740957</td><td>+0.1416187882</td><td>+0.0182258748</td></tr><tr><td>  0</td><td>block1_conv1/bias:0                     </td><td>Conv2D</td><td>(64,)</td><td>-0.0513798445</td><td>+0.0295557808</td><td>+0.0122315269</td></tr><tr><td>  1</td><td>block1_conv2/kernel:0                   </td><td>Conv2D</td><td>(3, 3, 64, 64)</td><td>-0.1975537986</td><td>+0.1305981427</td><td>+0.0297307093</td></tr><tr><td>  1</td><td>block1_conv2/bias:0                     </td><td>Conv2D</td><td>(64,)</td><td>-0.0425476953</td><td>+0.0239294823</td><td>+0.0129021415</td></tr><tr><td>  2</td><td>block2_conv1/kernel:0                   </td><td>Conv2D</td><td>(3, 3, 64, 128)</td><td>-0.1559223086</td><td>+0.1407191604</td><td>+0.0177510940</td></tr><tr><td>  2</td><td>block2_conv1/bias:0                     </td><td>Conv2D</td><td>(128,)</td><td>-0.0453735329</td><td>+0.0209344625</td><td>+0.0123706711</td></tr><tr><td>  3</td><td>block2_conv2/kernel:0                   </td><td>Conv2D</td><td>(3, 3, 128, 128)</td><td>-0.1054843590</td><td>+0.0884783491</td><td>+0.0107584568</td></tr><tr><td>  3</td><td>block2_conv2/bias:0                     </td><td>Conv2D</td><td>(128,)</td><td>-0.0384271257</td><td>+0.0229410194</td><td>+0.0091476850</td></tr><tr><td>  4</td><td>block3_conv1/kernel:0                   </td><td>Conv2D</td><td>(3, 3, 128, 256)</td><td>-0.1285320669</td><td>+0.0974962786</td><td>+0.0073803854</td></tr><tr><td>  4</td><td>block3_conv1/bias:0                     </td><td>Conv2D</td><td>(256,)</td><td>-0.0400719717</td><td>+0.0302388072</td><td>+0.0105000166</td></tr><tr><td>  5</td><td>block3_conv2/kernel:0                   </td><td>Conv2D</td><td>(3, 3, 256, 256)</td><td>-0.1038901135</td><td>+0.0947616547</td><td>+0.0059380597</td></tr><tr><td>  5</td><td>block3_conv2/bias:0                     </td><td>Conv2D</td><td>(256,)</td><td>-0.0520632379</td><td>+0.0252943225</td><td>+0.0129763847</td></tr><tr><td>  6</td><td>block3_conv3/kernel:0                   </td><td>Conv2D</td><td>(3, 3, 256, 256)</td><td>-0.0995152444</td><td>+0.0945302099</td><td>+0.0069316691</td></tr><tr><td>  6</td><td>block3_conv3/bias:0                     </td><td>Conv2D</td><td>(256,)</td><td>-0.0640174598</td><td>+0.0358835384</td><td>+0.0141437985</td></tr><tr><td>  7</td><td>block4_conv1/kernel:0                   </td><td>Conv2D</td><td>(3, 3, 256, 512)</td><td>-0.0888849348</td><td>+0.0757679418</td><td>+0.0027236233</td></tr><tr><td>  7</td><td>block4_conv1/bias:0                     </td><td>Conv2D</td><td>(512,)</td><td>-0.0472139716</td><td>+0.0347121693</td><td>+0.0073303874</td></tr><tr><td>  8</td><td>block4_conv2/kernel:0                   </td><td>Conv2D</td><td>(3, 3, 512, 512)</td><td>-0.1157982126</td><td>+0.0772514194</td><td>+0.0012126560</td></tr><tr><td>  8</td><td>block4_conv2/bias:0                     </td><td>Conv2D</td><td>(512,)</td><td>-0.0617358275</td><td>+0.0609610304</td><td>+0.0076369490</td></tr><tr><td>  9</td><td>block4_conv3/kernel:0                   </td><td>Conv2D</td><td>(3, 3, 512, 512)</td><td>-0.0941660702</td><td>+0.0777810290</td><td>+0.0018456777</td></tr><tr><td>  9</td><td>block4_conv3/bias:0                     </td><td>Conv2D</td><td>(512,)</td><td>-0.0619017482</td><td>+0.0414054170</td><td>+0.0118862651</td></tr><tr><td> 10</td><td>block5_conv1/kernel:0                   </td><td>Conv2D</td><td>(3, 3, 512, 512)</td><td>-0.0648959726</td><td>+0.0470129326</td><td>+0.0008741955</td></tr><tr><td> 10</td><td>block5_conv1/bias:0                     </td><td>Conv2D</td><td>(512,)</td><td>-0.0386711545</td><td>+0.0041077444</td><td>+0.0031174517</td></tr><tr><td> 11</td><td>block5_conv2/kernel:0                   </td><td>Conv2D</td><td>(3, 3, 512, 512)</td><td>-0.0634939745</td><td>+0.0448053293</td><td>+0.0003741150</td></tr><tr><td> 11</td><td>block5_conv2/bias:0                     </td><td>Conv2D</td><td>(512,)</td><td>-0.0472360365</td><td>+0.0257208366</td><td>+0.0055073928</td></tr><tr><td> 12</td><td>block5_conv3/kernel:0                   </td><td>Conv2D</td><td>(3, 3, 512, 512)</td><td>-0.0829180852</td><td>+0.0474885143</td><td>+0.0004389687</td></tr><tr><td> 12</td><td>block5_conv3/bias:0                     </td><td>Conv2D</td><td>(512,)</td><td>-0.0370594077</td><td>+0.0204055272</td><td>+0.0033252344</td></tr><tr><td> 13</td><td>fcn32_fc1/kernel:0                      </td><td>Conv2D</td><td>(7, 7, 512, 4096)</td><td>-0.1061125696</td><td>+0.0917999297</td><td>+0.0004820217</td></tr><tr><td> 13</td><td>fcn32_fc1/bias:0                        </td><td>Conv2D</td><td>(4096,)</td><td>-0.0312061924</td><td>+0.0417791232</td><td>+0.0042079217</td></tr><tr><td> 14</td><td>fcn32_fc2/kernel:0                      </td><td>Conv2D</td><td>(1, 1, 4096, 4096)</td><td>-0.0899552554</td><td>+0.0900626406</td><td>+0.0012316940</td></tr><tr><td> 14</td><td>fcn32_fc2/bias:0                        </td><td>Conv2D</td><td>(4096,)</td><td>-0.0388247147</td><td>+0.0395609327</td><td>+0.0056403517</td></tr><tr><td> 15</td><td>fcn32_deconv2D/kernel:0                 </td><td>Conv2D</td><td>(1, 1, 4096, 81)</td><td>-0.0806154013</td><td>+0.0806786940</td><td>+0.0050688745</td></tr><tr><td> 15</td><td>fcn32_deconv2D/bias:0                   </td><td>Conv2D</td><td>(81,)</td><td>-0.0271729864</td><td>+0.0180881377</td><td>+0.0067605325</td></tr><tr><td> 16</td><td>fcn16_score2/kernel:0                   </td><td>Conv2DTranspose</td><td>(4, 4, 81, 81)</td><td>-0.0830565542</td><td>+0.0979776159</td><td>+0.0119792344</td></tr><tr><td> 16</td><td>fcn16_score2/bias:0                     </td><td>Conv2DTranspose</td><td>(81,)</td><td>-0.0421468876</td><td>+0.0087153474</td><td>+0.0106182834</td></tr><tr><td> 17</td><td>fcn16_score_pool4/kernel:0              </td><td>Conv2D</td><td>(1, 1, 512, 81)</td><td>-0.1885083765</td><td>+0.1222845465</td><td>+0.0084115360</td></tr><tr><td> 17</td><td>fcn16_score_pool4/bias:0                </td><td>Conv2D</td><td>(81,)</td><td>-0.0496953428</td><td>+0.0351643972</td><td>+0.0152070364</td></tr><tr><td> 18</td><td>fcn16_upscore_pool4/kernel:0            </td><td>Conv2DTranspose</td><td>(4, 4, 81, 81)</td><td>-0.1427260041</td><td>+0.0931363925</td><td>+0.0172469690</td></tr><tr><td> 18</td><td>fcn16_upscore_pool4/bias:0              </td><td>Conv2DTranspose</td><td>(81,)</td><td>-0.0420355350</td><td>+0.0069649485</td><td>+0.0095809018</td></tr><tr><td> 19</td><td>fcn8_score_pool3/kernel:0               </td><td>Conv2D</td><td>(1, 1, 256, 81)</td><td>-0.1948390305</td><td>+0.1588884145</td><td>+0.0223251823</td></tr><tr><td> 19</td><td>fcn8_score_pool3/bias:0                 </td><td>Conv2D</td><td>(81,)</td><td>-0.0520983934</td><td>+0.0512398295</td><td>+0.0199787281</td></tr><tr><td> 20</td><td>fcn8_heatmap/kernel:0                   </td><td>Conv2DTranspose</td><td>(16, 16, 81, 81)</td><td>-0.0739950910</td><td>+0.1229670271</td><td>+0.0058592553</td></tr><tr><td> 20</td><td>fcn8_heatmap/bias:0                     </td><td>Conv2DTranspose</td><td>(81,)</td><td>-0.0272776280</td><td>+0.0022282612</td><td>+0.0045308289</td></tr></table>"
      ],
      "text/plain": [
       "<IPython.core.display.HTML object>"
      ]
     },
     "metadata": {},
     "output_type": "display_data"
    }
   ],
   "source": [
    "# Show stats of all trainable weights    \n",
    "a = visualize.display_weight_stats(fcn_model)\n",
    "weights_stats = os.path.join(DIR_WEIGHTS  , 'stats_'+files[FILE_IDX]+'.pdf')\n",
    "# utils.convertHtmlToPdf(a, weights_stats) "
   ]
  },
  {
   "cell_type": "markdown",
   "metadata": {
    "collapsed": true
   },
   "source": [
    "### Histograms of Weights - 1st weight file"
   ]
  },
  {
   "cell_type": "code",
   "execution_count": null,
   "metadata": {
    "ExecuteTime": {
     "end_time": "2019-01-30T11:31:43.428034Z",
     "start_time": "2019-01-30T11:31:31.846106Z"
    },
    "scrolled": false
   },
   "outputs": [],
   "source": [
    "# Pick layer types to display\n",
    "a = visualize.display_weight_histograms(fcn_model,width=15,height=4, filename = files[FILE_IDX])\n",
    "weights_histogram = os.path.join(DIR_WEIGHTS  , 'histogram_'+files[FILE_IDX]+'.png')\n",
    "a.savefig(weights_histogram)"
   ]
  },
  {
   "cell_type": "markdown",
   "metadata": {
    "heading_collapsed": true
   },
   "source": [
    "## Load Weights - 2nd weight file"
   ]
  },
  {
   "cell_type": "code",
   "execution_count": null,
   "metadata": {
    "ExecuteTime": {
     "end_time": "2019-01-21T12:01:01.883165Z",
     "start_time": "2019-01-21T12:00:52.983839Z"
    },
    "hidden": true,
    "scrolled": true
   },
   "outputs": [],
   "source": [
    "FILE_IDX = 11\n",
    "\n",
    "weights_path = os.path.join(DIR_WEIGHTS  , files[FILE_IDX])\n",
    "print(\"Loading weights \", weights_path)\n",
    "fcn_model.load_model_weights(weights_path)"
   ]
  },
  {
   "cell_type": "markdown",
   "metadata": {
    "hidden": true
   },
   "source": [
    "### Review Weight Stats - 2nd weights file"
   ]
  },
  {
   "cell_type": "code",
   "execution_count": null,
   "metadata": {
    "ExecuteTime": {
     "end_time": "2019-01-21T12:01:07.892437Z",
     "start_time": "2019-01-21T12:01:04.239841Z"
    },
    "hidden": true,
    "scrolled": true
   },
   "outputs": [],
   "source": [
    "# Show stats of all trainable weights    \n",
    "a = visualize.display_weight_stats(fcn_model)\n",
    "weights_stats = os.path.join(DIR_WEIGHTS  , 'stats_'+files[FILE_IDX]+'.pdf')\n",
    "# utils.convertHtmlToPdf(a, weights_stats) "
   ]
  },
  {
   "cell_type": "markdown",
   "metadata": {
    "collapsed": true,
    "hidden": true
   },
   "source": [
    "### Histograms of Weights - 2nd weights file"
   ]
  },
  {
   "cell_type": "code",
   "execution_count": null,
   "metadata": {
    "ExecuteTime": {
     "end_time": "2019-01-21T12:02:27.625147Z",
     "start_time": "2019-01-21T12:01:44.279303Z"
    },
    "hidden": true,
    "scrolled": true
   },
   "outputs": [],
   "source": [
    "# Pick layer types to display\n",
    "a = visualize.display_weight_histograms(fcn_model,width=15,height=4, filename = files[FILE_IDX])\n",
    "weights_histogram = os.path.join(DIR_WEIGHTS  , 'histogram_'+files[FILE_IDX]+'.png')\n",
    "a.savefig(weights_histogram)"
   ]
  },
  {
   "cell_type": "markdown",
   "metadata": {},
   "source": [
    "## Load Weights - 3rd weight file"
   ]
  },
  {
   "cell_type": "markdown",
   "metadata": {},
   "source": [
    "### load"
   ]
  },
  {
   "cell_type": "code",
   "execution_count": null,
   "metadata": {
    "ExecuteTime": {
     "end_time": "2019-01-21T13:05:46.914977Z",
     "start_time": "2019-01-21T13:05:38.743562Z"
    },
    "scrolled": true
   },
   "outputs": [],
   "source": [
    "FILE_IDX = 18\n",
    "\n",
    "weights_path = os.path.join(DIR_WEIGHTS  , files[FILE_IDX])\n",
    "print(\"Loading weights \", weights_path)\n",
    "fcn_model.load_model_weights(weights_path)"
   ]
  },
  {
   "cell_type": "markdown",
   "metadata": {},
   "source": [
    "### Review Weight Stats - 3rd weight file"
   ]
  },
  {
   "cell_type": "code",
   "execution_count": null,
   "metadata": {
    "ExecuteTime": {
     "end_time": "2019-01-21T13:06:32.403465Z",
     "start_time": "2019-01-21T13:05:46.917981Z"
    },
    "scrolled": false
   },
   "outputs": [],
   "source": [
    "# Show stats of all trainable weights    \n",
    "a = visualize.display_weight_stats(fcn_model)\n",
    "weights_stats = os.path.join(DIR_WEIGHTS  , 'stats_'+files[FILE_IDX]+'.pdf')\n",
    "# utils.convertHtmlToPdf(a, weights_stats) \n",
    "# Pick layer types to display\n",
    "a = visualize.display_weight_histograms(fcn_model,width=15,height=4, filename = files[FILE_IDX])\n",
    "weights_histogram = os.path.join(DIR_WEIGHTS  , 'histogram_'+files[FILE_IDX]+'.png')\n",
    "a.savefig(weights_histogram)"
   ]
  },
  {
   "cell_type": "markdown",
   "metadata": {
    "collapsed": true
   },
   "source": [
    "### Histograms of Weights - 3rd weight file"
   ]
  },
  {
   "cell_type": "code",
   "execution_count": null,
   "metadata": {
    "ExecuteTime": {
     "end_time": "2018-12-26T12:20:35.795842Z",
     "start_time": "2018-12-26T12:20:35.338518Z"
    },
    "scrolled": false
   },
   "outputs": [],
   "source": [
    "# a = visualize.display_weight_histograms(fcn_model, filename = files[2])\n",
    "# weights_histogram = os.path.join(DIR_WEIGHTS  , 'histogram_'+files[2]+'.png')\n",
    "# a.savefig(weights_histogram)"
   ]
  },
  {
   "cell_type": "markdown",
   "metadata": {
    "heading_collapsed": true
   },
   "source": [
    "## Load Weights - 4rd weight file"
   ]
  },
  {
   "cell_type": "code",
   "execution_count": null,
   "metadata": {
    "ExecuteTime": {
     "end_time": "2018-12-24T19:30:18.611359Z",
     "start_time": "2018-12-24T19:30:10.542636Z"
    },
    "hidden": true,
    "scrolled": true
   },
   "outputs": [],
   "source": [
    "weights_path = os.path.join(DIR_WEIGHTS  , files[3])\n",
    "print(\"Loading weights \", weights_path)\n",
    "fcn_model.load_model_weights(weights_path) "
   ]
  },
  {
   "cell_type": "markdown",
   "metadata": {
    "hidden": true
   },
   "source": [
    "### Review Weight Stats - 4th weight file"
   ]
  },
  {
   "cell_type": "code",
   "execution_count": null,
   "metadata": {
    "ExecuteTime": {
     "end_time": "2018-12-26T12:21:54.125673Z",
     "start_time": "2018-12-26T12:21:53.762415Z"
    },
    "hidden": true
   },
   "outputs": [],
   "source": [
    "# Show stats of all trainable weights    \n",
    "# _ = visualize.display_weight_stats(fcn_model)"
   ]
  },
  {
   "cell_type": "markdown",
   "metadata": {
    "collapsed": true,
    "hidden": true
   },
   "source": [
    "### Histograms of Weights"
   ]
  },
  {
   "cell_type": "code",
   "execution_count": null,
   "metadata": {
    "ExecuteTime": {
     "end_time": "2018-12-26T12:20:36.255169Z",
     "start_time": "2018-12-26T12:20:35.798844Z"
    },
    "hidden": true,
    "scrolled": false
   },
   "outputs": [],
   "source": [
    "# a = visualize.display_weight_histograms(fcn_model, filename = files[3])\n",
    "# weights_histogram = os.path.join(DIR_WEIGHTS  , 'histogram_'+files[3]+'.png')\n",
    "# a.savefig(weights_histogram)"
   ]
  },
  {
   "cell_type": "markdown",
   "metadata": {
    "heading_collapsed": true
   },
   "source": [
    "## Load Weights - 5th weight file"
   ]
  },
  {
   "cell_type": "code",
   "execution_count": null,
   "metadata": {
    "ExecuteTime": {
     "end_time": "2018-12-24T19:33:13.037170Z",
     "start_time": "2018-12-24T19:33:04.642213Z"
    },
    "hidden": true,
    "scrolled": true
   },
   "outputs": [],
   "source": [
    "print(len(files))\n",
    "weights_path = os.path.join(DIR_WEIGHTS  , files[4])\n",
    "fcn_model.load_model_weights(weights_path) "
   ]
  },
  {
   "cell_type": "markdown",
   "metadata": {
    "hidden": true
   },
   "source": [
    "### Review Weight Stats - 5th weight file"
   ]
  },
  {
   "cell_type": "code",
   "execution_count": null,
   "metadata": {
    "ExecuteTime": {
     "end_time": "2018-12-26T12:21:57.592133Z",
     "start_time": "2018-12-26T12:21:57.218868Z"
    },
    "hidden": true
   },
   "outputs": [],
   "source": [
    "# Show stats of all trainable weights    \n",
    "# visualize.display_weight_stats(fcn_model)"
   ]
  },
  {
   "cell_type": "markdown",
   "metadata": {
    "collapsed": true,
    "hidden": true
   },
   "source": [
    "### Histograms of Weights - 5th weight file"
   ]
  },
  {
   "cell_type": "code",
   "execution_count": null,
   "metadata": {
    "ExecuteTime": {
     "end_time": "2018-12-26T12:20:39.704617Z",
     "start_time": "2018-12-26T12:20:39.257299Z"
    },
    "hidden": true
   },
   "outputs": [],
   "source": [
    "# a = visualize.display_weight_histograms(fcn_model, filename = files[4])\n",
    "# weights_histogram = os.path.join(DIR_WEIGHTS  , 'histogram_'+files[4]+'.png')\n",
    "# a.savefig(weights_histogram)"
   ]
  },
  {
   "cell_type": "markdown",
   "metadata": {
    "heading_collapsed": true
   },
   "source": [
    "## Load Weights - 6th weight file"
   ]
  },
  {
   "cell_type": "code",
   "execution_count": null,
   "metadata": {
    "ExecuteTime": {
     "end_time": "2018-12-24T19:34:38.797554Z",
     "start_time": "2018-12-24T19:34:30.326545Z"
    },
    "hidden": true
   },
   "outputs": [],
   "source": [
    "weights_path = os.path.join(DIR_WEIGHTS  , files[5])\n",
    "fcn_model.load_model_weights(weights_path) "
   ]
  },
  {
   "cell_type": "markdown",
   "metadata": {
    "hidden": true
   },
   "source": [
    "### Review Weight Stats - 6th weight file"
   ]
  },
  {
   "cell_type": "code",
   "execution_count": null,
   "metadata": {
    "ExecuteTime": {
     "end_time": "2018-12-26T12:22:03.326203Z",
     "start_time": "2018-12-26T12:22:02.921916Z"
    },
    "hidden": true,
    "scrolled": true
   },
   "outputs": [],
   "source": [
    "# Show stats of all trainable weights    \n",
    "# _ = visualize.display_weight_stats(fcn_model)"
   ]
  },
  {
   "cell_type": "markdown",
   "metadata": {
    "collapsed": true,
    "hidden": true
   },
   "source": [
    "### Histograms of Weights - 6th weight file"
   ]
  },
  {
   "cell_type": "code",
   "execution_count": null,
   "metadata": {
    "ExecuteTime": {
     "end_time": "2018-12-26T12:20:45.522745Z",
     "start_time": "2018-12-26T12:20:45.071425Z"
    },
    "hidden": true,
    "scrolled": false
   },
   "outputs": [],
   "source": [
    "# a = visualize.display_weight_histograms(fcn_model, filename = files[5])\n",
    "# weights_histogram = os.path.join(DIR_WEIGHTS  , 'histogram_'+files[5]+'.png')\n",
    "# a.savefig(weights_histogram)"
   ]
  },
  {
   "cell_type": "markdown",
   "metadata": {
    "heading_collapsed": true
   },
   "source": [
    "## Load Weights - 7th weight file"
   ]
  },
  {
   "cell_type": "code",
   "execution_count": null,
   "metadata": {
    "ExecuteTime": {
     "end_time": "2018-12-24T19:36:23.132596Z",
     "start_time": "2018-12-24T19:36:14.915767Z"
    },
    "hidden": true
   },
   "outputs": [],
   "source": [
    "weights_path = os.path.join(DIR_WEIGHTS  , files[6])\n",
    "fcn_model.load_model_weights(weights_path) "
   ]
  },
  {
   "cell_type": "markdown",
   "metadata": {
    "hidden": true
   },
   "source": [
    "### Review Weight Stats - 7th weight file"
   ]
  },
  {
   "cell_type": "code",
   "execution_count": null,
   "metadata": {
    "ExecuteTime": {
     "end_time": "2018-12-26T12:22:08.344764Z",
     "start_time": "2018-12-26T12:22:07.974502Z"
    },
    "hidden": true
   },
   "outputs": [],
   "source": [
    "# Show stats of all trainable weights    \n",
    "# _ = visualize.display_weight_stats(fcn_model)"
   ]
  },
  {
   "cell_type": "markdown",
   "metadata": {
    "collapsed": true,
    "hidden": true
   },
   "source": [
    "### Histograms of Weights - 7th weight file"
   ]
  },
  {
   "cell_type": "code",
   "execution_count": null,
   "metadata": {
    "ExecuteTime": {
     "end_time": "2018-12-26T12:20:50.567325Z",
     "start_time": "2018-12-26T12:20:50.163038Z"
    },
    "hidden": true
   },
   "outputs": [],
   "source": [
    "# a = visualize.display_weight_histograms(fcn_model, filename = files[6])\n",
    "# weights_histogram = os.path.join(DIR_WEIGHTS  , 'histogram_'+files[6]+'.png')\n",
    "# a.savefig(weights_histogram)"
   ]
  },
  {
   "cell_type": "markdown",
   "metadata": {
    "heading_collapsed": true
   },
   "source": [
    "## Load Weights - 8th weight file"
   ]
  },
  {
   "cell_type": "code",
   "execution_count": null,
   "metadata": {
    "ExecuteTime": {
     "end_time": "2018-12-24T19:38:39.093615Z",
     "start_time": "2018-12-24T19:38:30.172284Z"
    },
    "hidden": true
   },
   "outputs": [],
   "source": [
    "weights_path = os.path.join(DIR_WEIGHTS  , files[7])\n",
    "fcn_model.load_model_weights(weights_path) "
   ]
  },
  {
   "cell_type": "markdown",
   "metadata": {
    "hidden": true
   },
   "source": [
    "### Review Weight Stats - 8th weight file"
   ]
  },
  {
   "cell_type": "code",
   "execution_count": null,
   "metadata": {
    "ExecuteTime": {
     "end_time": "2018-12-26T12:22:12.727875Z",
     "start_time": "2018-12-26T12:22:12.368620Z"
    },
    "hidden": true
   },
   "outputs": [],
   "source": [
    "# Show stats of all trainable weights    \n",
    "# _ = visualize.display_weight_stats(fcn_model)"
   ]
  },
  {
   "cell_type": "markdown",
   "metadata": {
    "collapsed": true,
    "hidden": true
   },
   "source": [
    "### Histograms of Weights - 8th weight file"
   ]
  },
  {
   "cell_type": "code",
   "execution_count": null,
   "metadata": {
    "ExecuteTime": {
     "end_time": "2018-12-26T12:20:55.919123Z",
     "start_time": "2018-12-26T12:20:55.490819Z"
    },
    "hidden": true
   },
   "outputs": [],
   "source": [
    "# a = visualize.display_weight_histograms(fcn_model, filename = files[7])\n",
    "# weights_histogram = os.path.join(DIR_WEIGHTS  , 'histogram_'+files[7]+'.png')\n",
    "# a.savefig(weights_histogram)"
   ]
  },
  {
   "cell_type": "code",
   "execution_count": null,
   "metadata": {
    "hidden": true
   },
   "outputs": [],
   "source": []
  },
  {
   "cell_type": "markdown",
   "metadata": {
    "heading_collapsed": true
   },
   "source": [
    "## Load Weights - 9th weight file"
   ]
  },
  {
   "cell_type": "code",
   "execution_count": null,
   "metadata": {
    "ExecuteTime": {
     "end_time": "2018-12-24T19:39:50.550325Z",
     "start_time": "2018-12-24T19:39:41.962231Z"
    },
    "hidden": true
   },
   "outputs": [],
   "source": [
    "weights_path = os.path.join(DIR_WEIGHTS  , files[8])\n",
    "fcn_model.load_model_weights(weights_path) "
   ]
  },
  {
   "cell_type": "markdown",
   "metadata": {
    "hidden": true
   },
   "source": [
    "### Review Weight Stats - 9th weight file"
   ]
  },
  {
   "cell_type": "code",
   "execution_count": null,
   "metadata": {
    "ExecuteTime": {
     "end_time": "2018-12-26T12:22:16.821780Z",
     "start_time": "2018-12-26T12:22:16.437507Z"
    },
    "hidden": true
   },
   "outputs": [],
   "source": [
    "# Show stats of all trainable weights    \n",
    "# _ = visualize.display_weight_stats(fcn_model)"
   ]
  },
  {
   "cell_type": "markdown",
   "metadata": {
    "collapsed": true,
    "hidden": true
   },
   "source": [
    "### Histograms of Weights - 9th weight file"
   ]
  },
  {
   "cell_type": "code",
   "execution_count": null,
   "metadata": {
    "ExecuteTime": {
     "end_time": "2018-12-26T12:21:01.517096Z",
     "start_time": "2018-12-26T12:21:01.106804Z"
    },
    "hidden": true
   },
   "outputs": [],
   "source": [
    "# a = visualize.display_weight_histograms(fcn_model, filename = files[8])\n",
    "# weights_histogram = os.path.join(DIR_WEIGHTS  , 'histogram_'+files[8]+'.png')\n",
    "# a.savefig(weights_histogram)"
   ]
  },
  {
   "cell_type": "code",
   "execution_count": null,
   "metadata": {
    "hidden": true
   },
   "outputs": [],
   "source": []
  }
 ],
 "metadata": {
  "anaconda-cloud": {},
  "kernelspec": {
   "display_name": "Python [conda env:TFG]",
   "language": "python",
   "name": "conda-env-TFG-py"
  },
  "language_info": {
   "codemirror_mode": {
    "name": "ipython",
    "version": 3
   },
   "file_extension": ".py",
   "mimetype": "text/x-python",
   "name": "python",
   "nbconvert_exporter": "python",
   "pygments_lexer": "ipython3",
   "version": "3.5.4"
  },
  "toc": {
   "base_numbering": 1,
   "nav_menu": {},
   "number_sections": true,
   "sideBar": true,
   "skip_h1_title": false,
   "title_cell": "Table of Contents",
   "title_sidebar": "Contents",
   "toc_cell": false,
   "toc_position": {},
   "toc_section_display": true,
   "toc_window_display": false
  }
 },
 "nbformat": 4,
 "nbformat_minor": 2
}
