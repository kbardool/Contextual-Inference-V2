{
 "cells": [
  {
   "cell_type": "markdown",
   "metadata": {
    "hideCode": true,
    "hidePrompt": true
   },
   "source": [
    "## Build MRCNN Model -Load MRCNN and FCN weights - Load Training Files  "
   ]
  },
  {
   "cell_type": "code",
   "execution_count": 1,
   "metadata": {
    "ExecuteTime": {
     "end_time": "2019-05-20T17:59:52.969198Z",
     "start_time": "2019-05-20T17:59:07.327815Z"
    },
    "hideCode": false,
    "hideOutput": false,
    "hidePrompt": false
   },
   "outputs": [
    {
     "data": {
      "text/html": [
       "<style>.container { width:95% !important; }</style>"
      ],
      "text/plain": [
       "<IPython.core.display.HTML object>"
      ]
     },
     "metadata": {},
     "output_type": "display_data"
    },
    {
     "name": "stdout",
     "output_type": "stream",
     "text": [
      "Current working dir:  /home/kbardool/git_projs/mrcnn3/notebooks\n",
      "appending '..' to sys.path\n"
     ]
    },
    {
     "name": "stderr",
     "output_type": "stream",
     "text": [
      "Using TensorFlow backend.\n"
     ]
    },
    {
     "name": "stdout",
     "output_type": "stream",
     "text": [
      " Init Image Class - Possible Object Choices:  {'airplane': 3, 'tree': 5, 'truck': 3, 'sun': 1, 'cloud': 3, 'person': 5, 'building': 3, 'car': 3}\n",
      " Init Image Class - Custom Color Keys      :  ['ground', 'tree', 'sky', 'sun', 'cloud', 'person']\n",
      " Init Image Class - Object Priority List   :  ['building', 'tree', 'car']\n",
      " Init Image Class - BUILD_MAX_TRIES        :  7\n",
      " Init Image Class - PERSON_CAR_DISTANCE    :  10\n",
      "\n",
      "   Arguments passed :\n",
      "   --------------------\n",
      "   batch_size                     1\n",
      "   coco_classes                   None\n",
      "   dataset                        newshapes2\n",
      "   epochs                         1\n",
      "   evaluate_method                3\n",
      "   fcn_arch                       FCN8L2\n",
      "   fcn_bce_loss_class             0\n",
      "   fcn_bce_loss_method            1\n",
      "   fcn_layers                     ['fcn32+']\n",
      "   fcn_logs_dir                   train_fcn8L2_BCE1\n",
      "   fcn_losses                     fcn_BCE_loss\n",
      "   fcn_model                      /home/kbardool/models_newshapes2/train_fcn8L2_BCE/fcn20190323T0000/fcn_0089.h5\n",
      "   last_epoch                     0\n",
      "   lr                             0.001\n",
      "   mrcnn_exclude_layers           None\n",
      "   mrcnn_layers                   ['mrcnn', 'fpn', 'rpn']\n",
      "   mrcnn_logs_dir                 train_mrcnn\n",
      "   mrcnn_model                    /home/kbardool/models_newshapes2/train_mrcnn/mrcnn20190318T0000/mrcnn_0020.h5\n",
      "   new_log_folder                 False\n",
      "   opt                            ADAGRAD\n",
      "   scale_factor                   1\n",
      "   steps_in_epoch                 1\n",
      "   sysout                         SCREEN\n",
      "   val_steps                      1\n",
      "\n",
      "\n"
     ]
    }
   ],
   "source": [
    "from IPython.core.display import display, HTML\n",
    "display(HTML(\"<style>.container { width:95% !important; }</style>\"))\n",
    "%matplotlib inline\n",
    "%load_ext autoreload\n",
    "%autoreload 2\n",
    "import sys,os, pprint, pickle\n",
    "pp = pprint.PrettyPrinter(indent=2, width=100)\n",
    "print('Current working dir: ', os.getcwd())\n",
    "if '..' not in sys.path:\n",
    "    print(\"appending '..' to sys.path\")\n",
    "    sys.path.append('..')\n",
    "import copy    \n",
    "import numpy as np\n",
    "import matplotlib.pyplot as plt\n",
    "from matplotlib          import cm\n",
    "import mrcnn.utils       as utils\n",
    "import mrcnn.visualize   as visualize\n",
    "import mrcnn.visualize  as vis\n",
    "import mrcnn.visualize_2 as vis2\n",
    "from mrcnn.prep_notebook import build_fcn_inference_pipeline_newshapes, build_fcn_evaluate_pipeline_newshapes\n",
    "from mrcnn.prep_notebook import get_inference_batch, get_evaluate_batch, get_image_batch\n",
    "from mrcnn.prep_notebook import run_mrcnn_detection, run_fcn_detection, run_fcn_evaluation\n",
    "from mrcnn.newshapes     import prep_newshape_dataset\n",
    "from mrcnn.visualize     import display_training_batch\n",
    "# from mrcnn.utils         import trim_zeros, compute_overlaps\n",
    "# from mrcnn.calculate_map import update_map_dictionaries\n",
    "\n",
    "# WEIGHT_FILE = 'F:/models/train_fcn8_coco_adam/fcn20181109T0000/fcn_2298.h5' \n",
    "# FCN_WEIGHT_FILE = 'F:\\\\models_newshapes\\\\train_fcn8_l2_newshapes\\\\fcn20181224T0000\\\\fcn_0821.h5'\n",
    "##------------------------------------------------------------------------------------\n",
    "## Parse command line arguments\n",
    "##------------------------------------------------------------------------------------\n",
    "parser = utils.command_line_parser()\n",
    "input_parms  =\" --batch_size     1  \"\n",
    "input_parms +=\" --dataset        newshapes2 \"\n",
    "input_parms +=\" --mrcnn_logs_dir train_mrcnn \"\n",
    "input_parms +=\" --fcn_logs_dir   train_fcn8L2_BCE1 \" \n",
    "input_parms +=\" --mrcnn_model    /home/kbardool/models_newshapes2/train_mrcnn/mrcnn20190318T0000/\"+ \"mrcnn_0020.h5 \"\n",
    "input_parms +=\" --fcn_model      /home/kbardool/models_newshapes2/train_fcn8L2_BCE/fcn20190323T0000/\" + \"fcn_0089.h5\"\n",
    "input_parms +=\" --fcn_arch       fcn8l2 \" \n",
    "input_parms +=\" --sysout         screen \"\n",
    "input_parms +=\" --evaluate_method 3\"\n",
    "input_parms +=\" --scale_factor    1\"\n",
    "args = parser.parse_args(input_parms.split())\n",
    "utils.display_input_parms(args)\n",
    "\n",
    "CLASS_COLUMN        = 4\n",
    "ORIG_SCORE_COLUMN   = 5\n",
    "DT_TYPE_COLUMN      = 6\n",
    "SEQUENCE_COLUMN     = 7\n",
    "NORM_SCORE_COLUMN   = 8    \n",
    "SCORE_0_SUM_COLUMN  = 9\n",
    "SCORE_0_AREA_COLUMN = 10\n",
    "SCORE_0_COLUMN      = 11\n",
    "SCORE_1_SUM_COLUMN  = 12\n",
    "SCORE_1_AREA_COLUMN = 13\n",
    "SCORE_1_COLUMN      = 14 \n",
    "SCORE_1_NORM_COLUMN = 17\n",
    "SCORE_2_SUM_COLUMN  = 18\n",
    "SCORE_2_AREA_COLUMN = 19\n",
    "SCORE_2_COLUMN      = 20\n",
    "SCORE_2_NORM_COLUMN = 23"
   ]
  },
  {
   "cell_type": "markdown",
   "metadata": {},
   "source": [
    "### 2019-05-13 : We are running in evaluation mode. Here is why:\n",
    "\n",
    "We run in evaluation mode to bypass the MRCNN detection on objects. When in eval mode, the detection is constructed based on what GT we have passed to the \n",
    "detector. In evaluation_mode 3, we assign 0.5 as the score. In other words, the detector is unable to make a confident decision on the object."
   ]
  },
  {
   "cell_type": "code",
   "execution_count": 2,
   "metadata": {
    "ExecuteTime": {
     "end_time": "2019-05-20T18:00:32.433768Z",
     "start_time": "2019-05-20T17:59:52.977903Z"
    },
    "hideCode": false,
    "hideOutput": false,
    "hidePrompt": false,
    "scrolled": true
   },
   "outputs": [
    {
     "name": "stdout",
     "output_type": "stream",
     "text": [
      "MODE IS: inference\n",
      "\n",
      "--> Execution started at: 05-20-2019 @ 17:59:53\n",
      "    Tensorflow Version: 1.8.0   Keras Version : 2.1.6 \n",
      "    Build_mrcnn_inference_pipeline_newshapes MODE is : inference\n",
      "\n",
      "   Arguments passed :\n",
      "   --------------------\n",
      "   batch_size                     1\n",
      "   coco_classes                   None\n",
      "   dataset                        newshapes2\n",
      "   epochs                         1\n",
      "   evaluate_method                3\n",
      "   fcn_arch                       FCN8L2\n",
      "   fcn_bce_loss_class             0\n",
      "   fcn_bce_loss_method            1\n",
      "   fcn_layers                     ['fcn32+']\n",
      "   fcn_logs_dir                   train_fcn8L2_BCE1\n",
      "   fcn_losses                     fcn_BCE_loss\n",
      "   fcn_model                      /home/kbardool/models_newshapes2/train_fcn8L2_BCE/fcn20190323T0000/fcn_0089.h5\n",
      "   last_epoch                     0\n",
      "   lr                             0.001\n",
      "   mrcnn_exclude_layers           None\n",
      "   mrcnn_layers                   ['mrcnn', 'fpn', 'rpn']\n",
      "   mrcnn_logs_dir                 train_mrcnn\n",
      "   mrcnn_model                    /home/kbardool/models_newshapes2/train_mrcnn/mrcnn20190318T0000/mrcnn_0020.h5\n",
      "   new_log_folder                 False\n",
      "   opt                            ADAGRAD\n",
      "   scale_factor                   1\n",
      "   steps_in_epoch                 1\n",
      "   sysout                         SCREEN\n",
      "   val_steps                      1\n",
      "\n",
      "\n",
      ">>> Initialize Paths\n",
      " Linx  Linux\n",
      ">>> Initialize ModelBase model \n",
      "   Mode      :  inference\n",
      "   Model dir :  /home/kbardool/models_newshapes2/train_mrcnn\n",
      ">>> ModelBase initialiation complete\n",
      ">>> ---Initialize MRCNN model, mode:  inference\n",
      "\n",
      "----------------------------\n",
      ">>> Resnet Graph \n",
      "----------------------------\n",
      "     Input_image shape : (?, 128, 128, 3)\n",
      "self.verbose: 0\n",
      "\n",
      ">>> Feature Pyramid Network (FPN) Graph \n",
      "\n",
      ">>> RPN Layer \n",
      "\n",
      ">>> RPN Outputs  <class 'list'>\n",
      "      rpn_class_logits/rpn_class_logits:0\n",
      "      rpn_class/rpn_class:0\n",
      "      rpn_bbox/rpn_bbox:0\n",
      "\n",
      ">>> Proposal Layer - generate  1000  proposals\n",
      "    Init complete. Size of anchors:  (4092, 4)\n",
      "\n",
      ">>> FPN Classifier Graph verbose: 0\n",
      "\n",
      ">>> Detection Layer (Inference Mode)\n",
      "    Detection Layer : call()  <class 'list'> 4\n",
      "\n",
      "--------------------------------\n",
      ">>>  CHM Inference Layer  \n",
      "--------------------------------\n",
      "  > CHM Inference Layer: call  <class 'list'> 1\n",
      "     detections.shape     : (None, 64, 7)\n",
      "\n",
      "  > build_predictions Inference mode ()\n",
      "    config image shape     :  [128 128   3] h: 128 w: 128\n",
      "    Detection Max Instacnes:  64\n",
      "    num_rois               :  64\n",
      "    num_cols               :  7\n",
      "    detected_rois.shape    :  (None, 64, 7)\n",
      "    batch_grid:  (1, 64)\n",
      "    bbox_grid :  (1, 64)\n",
      "    shape of sequence      :  <unknown>\n",
      "    pred_array             :  <unknown>\n",
      "    scatter_ind            :  (1, 64, 3)\n",
      "    pred_scatter           :  (1, 9, 64, 8)\n",
      "    - Add normalized score --\n",
      "\n",
      "    normalizer             :  (1, 9, 1)\n",
      "    norm_score             :  (1, 9, 64, 1)\n",
      "    pred_scatter           :  (1, 9, 64, 9)\n",
      "    sort_inds              :  (1, 9, 64) Keras Tensor: False\n",
      "    class_grid             :  (1, 9, 64) Keras Tensor: False\n",
      "    batch_grid             :  (1, 9, 64) Keras Tensor: False\n",
      "    roi_grid shape         :  (1, 9, 64) Keras Tensor: False\n",
      "    gather_inds            :  (1, 9, 64, 3) Keras Tensor: False\n",
      "    pred_tensor            :  (1, 9, 64, 9) Keras Tensor: False\n",
      "\n",
      " \n",
      "  > build_inference_heatmap() for  ['pred_heatmap']\n",
      "    in_tensor shape        :  (1, 9, 64, 9)\n",
      "    num bboxes per class   :  64\n",
      "    heatmap scale        :  1 Dimensions:  w: 128  h: 128\n",
      "    pt2_sum shape  :  (1, 9, 64)\n",
      "    pt2_ind shape  :  (?, 3)\n",
      "    pt2_dense shape:  (?, 9)\n",
      "    X/Y shapes : (128, 128) (128, 128)\n",
      "    Ones:     (?, 1, 1)\n",
      "    ones_exp * X (?, 1, 1) * (128, 128) =  (?, 128, 128)\n",
      "    ones_exp * Y (?, 1, 1) * (128, 128) =  (?, 128, 128)\n",
      "    pos_grid before transpse :  (?, 128, 128, 2)\n",
      "    pos_grid after transpose :  (128, 128, ?, 2)\n",
      "    >> input to MVN.PROB: pos_grid (meshgrid) shape:  (128, 128, ?, 2)\n",
      "     Prob_grid shape from mvn.probe:  (128, 128, ?)\n",
      "     Prob_grid shape after tanspose:  (?, 128, 128)\n",
      "    << output probabilities shape  :  (?, 128, 128)\n",
      "    old_style_scores        : (1, 9, 64, 3) (1, 9, 64, 3)\n",
      "    prob_grid_clipped :  (?, 128, 128)\n",
      "\n",
      "    normalization ------------------------------------------------------\n",
      "    normalizer     :  (?, 1, 1)\n",
      "    prob_grid_cns: clipped/normed/scaled :  (?, 128, 128)\n",
      "    alt_scores_1    :  (None, 3)  Keras tensor  False\n",
      "    alt_scores_1(by class)       :  (1, 9, 64, 3)  Keras tensor  False\n",
      "    alt_scores_1_norm(by_class)  :  (1, 9, 64, 3) (1, 9, 64, 3)\n",
      "\n",
      "    Scatter out the probability distributions based on class --------------\n",
      "    pt2_ind shape      :  (?, 3)\n",
      "    prob_grid_clippped :  (?, 128, 128)\n",
      "    gauss_heatmap      :  (1, 9, 64, 128, 128)\n",
      "\n",
      "    Reduce SUM based on class and normalize within each class -------------------------------------\n",
      "    gaussian_heatmap_sum :  (1, 9, 128, 128) Keras tensor  False\n",
      "    normalizer shape   :  (1, 9, 1, 1)\n",
      "    normalized heatmap :  (1, 9, 128, 128)  Keras tensor  False\n",
      "    hm_indices shape         : (?, 2) (None, 2)\n",
      "    pt2_heatmaps             : (?, 128, 128) (None, 128, 128)\n",
      "    alt_scores_2    :  (None, 3)  Keras tensor  False\n",
      "    alt_scores_2(scattered)       :  (1, 9, 64, 3)  Keras tensor  False\n",
      "    alt_scores_2_norm(by_class)  :  (1, 9, 64, 3) (1, 9, 64, 3)\n",
      "    reshaped heatmap   :  (1, 128, 128, 9)  Keras tensor  False\n",
      "    gauss_scores    :  (1, 9, 64, 24)  Keras tensor  False\n",
      "    complete\n",
      "\n",
      "    Output of CHMLayerInference: \n",
      "     pred_tensor        :  (1, 9, 64, 9) Keras tensor  False\n",
      "     pred_heatmap_norm  :  (1, 128, 128, 9) Keras tensor  False\n",
      "     pred_heatmap_scores:  (1, 9, 64, 24) Keras tensor  False\n",
      "     complete\n",
      "    shape of pr_hm        :        :  shape: (1, 128, 128, 9)      KB.shape:(None, 128, 128, 9)   Keras Tensor: True\n",
      "    shape of pr_hm_scores :        :  shape: (1, 9, 64, 24)        KB.shape:(None, 9, 64, 24)     Keras Tensor: True\n",
      "\n",
      ">>> Build MaskRCNN build complete. mode:  inference\n",
      ">>> MaskRCNN initialiation complete. Mode:  inference\n",
      "\n",
      "MRCNN Configuration Parameters:\n",
      "-------------------------------\n",
      "BACKBONE_SHAPES                [[32 32]\n",
      " [16 16]\n",
      " [ 8  8]\n",
      " [ 4  4]\n",
      " [ 2  2]]\n",
      "BACKBONE_STRIDES               [4, 8, 16, 32, 64]\n",
      "BATCH_SIZE                     1\n",
      "BBOX_STD_DEV                   [0.1 0.1 0.2 0.2]\n",
      "DETECTION_MAX_INSTANCES        64\n",
      "DETECTION_MIN_CONFIDENCE       0.1\n",
      "DETECTION_NMS_THRESHOLD        0.3\n",
      "DETECTION_PER_CLASS            64\n",
      "DIR_DATASET                    /home/kbardool/MLDatasets/newshapes2\n",
      "DIR_PRETRAINED                 /home/kbardool/PretrainedModels\n",
      "DIR_TRAINING                   /home/kbardool/models_newshapes2\n",
      "EPOCHS_TO_RUN                  0\n",
      "FCN_INPUT_SHAPE                [128 128]\n",
      "GPU_COUNT                      1\n",
      "HEATMAP_SCALE_FACTOR           1\n",
      "IMAGES_PER_GPU                 1\n",
      "IMAGE_BUFFER                   20\n",
      "IMAGE_MAX_DIM                  128\n",
      "IMAGE_MIN_DIM                  128\n",
      "IMAGE_PADDING                  True\n",
      "IMAGE_SHAPE                    [128 128   3]\n",
      "INPUT_DATASET_PATH             /home/kbardool/MLDatasets/newshapes2\n",
      "LAST_EPOCH_RAN                 0\n",
      "LEARNING_MOMENTUM              0.9\n",
      "LEARNING_RATE                  0.001\n",
      "MASK_POOL_SIZE                 14\n",
      "MASK_SHAPE                     [28, 28]\n",
      "MAX_GT_INSTANCES               100\n",
      "MAX_SHAPES_PER_IMAGE           15\n",
      "MEAN_PIXEL                     [123.7 116.8 103.9]\n",
      "MINI_MASK_SHAPE                (56, 56)\n",
      "MIN_SHAPES_PER_IMAGE           2\n",
      "NAME                           mrcnn\n",
      "NEW_LOG_FOLDER                 False\n",
      "NUM_CLASSES                    9\n",
      "POOL_SIZE                      7\n",
      "POST_NMS_ROIS_INFERENCE        1000\n",
      "POST_NMS_ROIS_TRAINING         2000\n",
      "RESNET_MODEL_PATH              /home/kbardool/PretrainedModels/resnet50_weights_tf_dim_ordering_tf_kernels_notop.h5\n",
      "ROI_GT_IOU_THRESHOLD           0.2\n",
      "ROI_POSITIVE_RATIO             0.33\n",
      "ROI_PROPOSAL_AREA_THRESHOLD    0\n",
      "RPN_ANCHOR_RATIOS              [0.5, 1, 2]\n",
      "RPN_ANCHOR_SCALES              (8, 16, 32, 64, 128)\n",
      "RPN_ANCHOR_STRIDE              1\n",
      "RPN_BBOX_STD_DEV               [0.1 0.1 0.2 0.2]\n",
      "RPN_NMS_THRESHOLD              0.7\n",
      "RPN_TRAIN_ANCHORS_PER_IMAGE    256\n",
      "SHAPES_MODEL_PATH              /home/kbardool/PretrainedModels/mask_rcnn_shapes.h5\n",
      "STEPS_PER_EPOCH                100\n",
      "SYSOUT                         SCREEN\n",
      "TRAINING_PATH                  /home/kbardool/models_newshapes2/train_mrcnn\n",
      "TRAIN_ROIS_PER_IMAGE           32\n",
      "USE_MINI_MASK                  True\n",
      "USE_RPN_ROIS                   True\n",
      "VALIDATION_STEPS               5\n",
      "VERBOSE                        0\n",
      "VGG16_MODEL_PATH               /home/kbardool/PretrainedModels/vgg16_weights_tf_dim_ordering_tf_kernels_notop.h5\n",
      "WEIGHT_DECAY                   0.0001\n",
      "dataset                        newshapes2\n",
      "\n",
      "\n",
      "MRCNN IO Layers :\n",
      "-----------------\n",
      " Inputs:\n",
      " -------\n",
      " index:  0    input name : input_image:0                              Type: float32           Shape: (?, 128, 128, 3)\n",
      " index:  1    input name : input_image_meta:0                         Type: float32           Shape: (?, ?)\n",
      " Outputs:\n",
      " --------\n",
      " layer:  0    output name: mrcnn_detection/detections:0               Type: float32           Shape: <unknown>\n",
      " layer:  1    output name: ROI/rpn_roi_proposals:0                    Type: float32           Shape: (1, ?, ?)\n",
      " layer:  2    output name: mrcnn_class_lambda/mrcnn_class:0           Type: float32           Shape: (?, 1000, 9)\n",
      " layer:  3    output name: mrcnn_bbox_lambda/mrcnn_bbox:0             Type: float32           Shape: (?, 1000, 9, 4)\n",
      " layer:  4    output name: cntxt_layer/pred_heatmap:0                 Type: float32           Shape: (1, 128, 128, 9)\n",
      " layer:  5    output name: cntxt_layer/pred_heatmap_scores:0          Type: float32           Shape: (1, 9, 64, 24)\n",
      "-----------------------------------------------\n",
      " Load Model with init parm: [ /home/kbardool/models_newshapes2/train_mrcnn/mrcnn20190318T0000/mrcnn_0020.h5 ]\n",
      " Exclude layers: \n",
      "-----------------------------------------------\n",
      " ---> Explicit weight file\n",
      ">>> load_weights() from : /home/kbardool/models_newshapes2/train_mrcnn/mrcnn20190318T0000/mrcnn_0020.h5\n"
     ]
    },
    {
     "name": "stdout",
     "output_type": "stream",
     "text": [
      "    Weights file loaded: /home/kbardool/models_newshapes2/train_mrcnn/mrcnn20190318T0000/mrcnn_0020.h5 \n",
      "==========================================\n",
      "MRCNN  MODEL Load weight file COMPLETE \n",
      "==========================================\n",
      ">>> Initialize Paths\n",
      " Linx  Linux\n",
      ">>> Initialize ModelBase model \n",
      "   Mode      :  inference\n",
      "   Model dir :  /home/kbardool/models_newshapes2/train_fcn8L2_BCE1\n",
      ">>> ModelBase initialiation complete\n",
      ">>> Initialize FCN model, mode:  inference architecture:  FCN8L2\n",
      "    arch set to FCN8 - with L2 Regularization\n",
      "<function fcn8_l2_graph at 0x7fcfe987eb70>\n",
      "\n",
      "\n",
      "---------------------------------------------------\n",
      " Build FCN Model -  Arch:  FCN8L2  mode:  inference\n",
      "---------------------------------------------------\n",
      "\n",
      "------------------------------------------------------\n",
      ">>> FCN8L2 Layer With Regularization - mode: inference\n",
      "------------------------------------------------------\n",
      "\n",
      " \n",
      "---------------------------------------------\n",
      ">>> FCN Scoring Graph  - mode: inference\n",
      "---------------------------------------------\n",
      "\n",
      " \n",
      "---------------------------------------------\n",
      ">>> FCN Scoring Graph  - mode: inference\n",
      "---------------------------------------------\n",
      "\n",
      ">>> FCN build complete. mode:  inference\n",
      ">>> FCN initialization complete. mode:  inference\n",
      "\n",
      " FCN Configuration Parameters \n",
      " ------------------------------ \n",
      "\n",
      "FCN Configuration Parameters:\n",
      "-----------------------------\n",
      "BACKBONE_SHAPES                [[32 32]\n",
      " [16 16]\n",
      " [ 8  8]\n",
      " [ 4  4]\n",
      " [ 2  2]]\n",
      "BACKBONE_STRIDES               [4, 8, 16, 32, 64]\n",
      "BATCH_SIZE                     1\n",
      "BBOX_STD_DEV                   [0.1 0.1 0.2 0.2]\n",
      "DETECTION_MAX_INSTANCES        64\n",
      "DETECTION_MIN_CONFIDENCE       0.1\n",
      "DETECTION_NMS_THRESHOLD        0.3\n",
      "DETECTION_PER_CLASS            64\n",
      "DIR_DATASET                    /home/kbardool/MLDatasets/newshapes2\n",
      "DIR_PRETRAINED                 /home/kbardool/PretrainedModels\n",
      "DIR_TRAINING                   /home/kbardool/models_newshapes2\n",
      "EPOCHS_TO_RUN                  0\n",
      "FCN_INPUT_SHAPE                [128 128]\n",
      "GPU_COUNT                      1\n",
      "HEATMAP_SCALE_FACTOR           1\n",
      "IMAGES_PER_GPU                 1\n",
      "IMAGE_BUFFER                   20\n",
      "IMAGE_MAX_DIM                  128\n",
      "IMAGE_MIN_DIM                  128\n",
      "IMAGE_PADDING                  True\n",
      "IMAGE_SHAPE                    [128 128   3]\n",
      "INPUT_DATASET_PATH             /home/kbardool/MLDatasets/newshapes2\n",
      "LAST_EPOCH_RAN                 0\n",
      "LEARNING_MOMENTUM              0.9\n",
      "LEARNING_RATE                  0.001\n",
      "MASK_POOL_SIZE                 14\n",
      "MASK_SHAPE                     [28, 28]\n",
      "MAX_GT_INSTANCES               100\n",
      "MAX_SHAPES_PER_IMAGE           15\n",
      "MEAN_PIXEL                     [123.7 116.8 103.9]\n",
      "MINI_MASK_SHAPE                (56, 56)\n",
      "MIN_SHAPES_PER_IMAGE           2\n",
      "NAME                           fcn\n",
      "NEW_LOG_FOLDER                 False\n",
      "NUM_CLASSES                    9\n",
      "POOL_SIZE                      7\n",
      "POST_NMS_ROIS_INFERENCE        1000\n",
      "POST_NMS_ROIS_TRAINING         2000\n",
      "RESNET_MODEL_PATH              /home/kbardool/PretrainedModels/resnet50_weights_tf_dim_ordering_tf_kernels_notop.h5\n",
      "ROI_GT_IOU_THRESHOLD           0.2\n",
      "ROI_POSITIVE_RATIO             0.33\n",
      "ROI_PROPOSAL_AREA_THRESHOLD    0\n",
      "RPN_ANCHOR_RATIOS              [0.5, 1, 2]\n",
      "RPN_ANCHOR_SCALES              (8, 16, 32, 64, 128)\n",
      "RPN_ANCHOR_STRIDE              1\n",
      "RPN_BBOX_STD_DEV               [0.1 0.1 0.2 0.2]\n",
      "RPN_NMS_THRESHOLD              0.7\n",
      "RPN_TRAIN_ANCHORS_PER_IMAGE    256\n",
      "STEPS_PER_EPOCH                100\n",
      "SYSOUT                         SCREEN\n",
      "TRAINING_PATH                  /home/kbardool/models_newshapes2/train_fcn8L2_BCE1\n",
      "TRAIN_ROIS_PER_IMAGE           32\n",
      "USE_MINI_MASK                  True\n",
      "USE_RPN_ROIS                   True\n",
      "VALIDATION_STEPS               5\n",
      "VERBOSE                        0\n",
      "VGG16_MODEL_PATH               /home/kbardool/PretrainedModels/fcn_vgg16_weights_tf_dim_ordering_tf_kernels.h5\n",
      "WEIGHT_DECAY                   0.0001\n",
      "dataset                        newshapes2\n",
      "\n",
      "\n",
      "\n",
      " FCN IO Layers \n",
      " --------------- \n",
      "FCN IO Layers :\n",
      "---------------\n",
      " Inputs:\n",
      " -------\n",
      " index:  0    input name : input_pr_hm_norm:0                         Type: float32           Shape: (?, 128, 128, 9)\n",
      " index:  1    input name : input_pr_hm_scores:0                       Type: float32           Shape: (?, 9, 64, 24)\n",
      " Outputs:\n",
      " --------\n",
      " layer:  0    output name: fcn_heatmap_lambda/fcn_hm:0                Type: float32           Shape: (?, 128, 128, 9)\n",
      " layer:  1    output name: fcn_softmax_lambda/fcn_sm:0                Type: float32           Shape: (?, 128, 128, 9)\n",
      " layer:  2    output name: fcn_scoring/fcn_hm_scores:0                Type: float32           Shape: (1, 9, 64, 24)\n",
      "-----------------------------------------------\n",
      " Load Model with init parm: [ /home/kbardool/models_newshapes2/train_fcn8L2_BCE/fcn20190323T0000/fcn_0089.h5 ]\n",
      "-----------------------------------------------\n",
      " ---> Explicit weight file\n",
      ">>> load_weights() from : /home/kbardool/models_newshapes2/train_fcn8L2_BCE/fcn20190323T0000/fcn_0089.h5\n",
      "    Weights file loaded: /home/kbardool/models_newshapes2/train_fcn8L2_BCE/fcn20190323T0000/fcn_0089.h5 \n",
      "==========================================\n",
      "FCN  MODEL Load weight file COMPLETE \n",
      "==========================================\n"
     ]
    }
   ],
   "source": [
    "mrcnn_model, fcn_model = build_fcn_inference_pipeline_newshapes(args = args)\n",
    "# mrcnn_model, fcn_model = build_fcn_evaluate_pipeline_newshapes(args = args)"
   ]
  },
  {
   "cell_type": "markdown",
   "metadata": {},
   "source": [
    "## Load MRCNN  and FCN Weights"
   ]
  },
  {
   "cell_type": "code",
   "execution_count": 3,
   "metadata": {
    "ExecuteTime": {
     "end_time": "2019-05-20T18:00:32.472703Z",
     "start_time": "2019-05-20T18:00:32.436234Z"
    }
   },
   "outputs": [],
   "source": [
    "# MRCNN_DIR_WEIGHTS =  'F:/models_newshapes/train_mrcnn_newshapes/mrcnn20181216T0000'\n",
    "MRCNN_DIR_WEIGHTS = '/home/kbardool/models_newshapes2/train_mrcnn/mrcnn20190318T0000'\n",
    "# files = ['fcn_0001.h5','fcn_0027.h5','fcn_0036.h5','fcn_0051.h5','fcn_0076.h5','fcn_0106.h5','fcn_0156.h5']\n",
    "# files   = ['fcn_0104.h5','fcn_0150.h5','fcn_0205.h5','fcn_0249.h5','fcn_0293.h5','fcn_0346.h5','fcn_0419.h5']\n",
    "mrcnn_files   = ['mrcnn_0001.h5', 'mrcnn_0020.h5', 'mrcnn_0041.h5', 'mrcnn_0060.h5',\n",
    "                 'mrcnn_0092.h5', 'mrcnn_0116.h5', 'mrcnn_0154.h5', 'mrcnn_0174.h5',\n",
    "                 'mrcnn_0201.h5', 'mrcnn_0223.h5', 'mrcnn_0243.h5', 'mrcnn_0332.h5']"
   ]
  },
  {
   "cell_type": "code",
   "execution_count": 4,
   "metadata": {
    "ExecuteTime": {
     "end_time": "2019-05-20T18:00:33.095622Z",
     "start_time": "2019-05-20T18:00:32.474923Z"
    }
   },
   "outputs": [
    {
     "name": "stdout",
     "output_type": "stream",
     "text": [
      "Loading weights  /home/kbardool/models_newshapes2/train_mrcnn/mrcnn20190318T0000/mrcnn_0020.h5\n",
      "-----------------------------------------------\n",
      " Load Model with init parm: [ /home/kbardool/models_newshapes2/train_mrcnn/mrcnn20190318T0000/mrcnn_0020.h5 ]\n",
      "-----------------------------------------------\n",
      " ---> Explicit weight file\n",
      ">>> load_weights() from : /home/kbardool/models_newshapes2/train_mrcnn/mrcnn20190318T0000/mrcnn_0020.h5\n",
      "    Weights file loaded: /home/kbardool/models_newshapes2/train_mrcnn/mrcnn20190318T0000/mrcnn_0020.h5 \n",
      "==========================================\n",
      "MRCNN  MODEL Load weight file COMPLETE \n",
      "==========================================\n"
     ]
    }
   ],
   "source": [
    "FILE_IDX = 1\n",
    "mrcnn_weights_file = os.path.join(MRCNN_DIR_WEIGHTS  , mrcnn_files[FILE_IDX])\n",
    "print(\"Loading weights \", mrcnn_weights_file)\n",
    "mrcnn_model.load_model_weights(mrcnn_weights_file)"
   ]
  },
  {
   "cell_type": "code",
   "execution_count": 5,
   "metadata": {
    "ExecuteTime": {
     "end_time": "2019-05-20T18:00:33.136187Z",
     "start_time": "2019-05-20T18:00:33.098461Z"
    }
   },
   "outputs": [],
   "source": [
    "# FCN_DIR_WEIGHTS =  'F:/models_newshapes/train_fcn8_l2_newshapes/fcn20181224T0000' ### Training with LR=0.00001, MSE Loss NO L2 Regularization\n",
    "FCN_DIR_WEIGHTS =  '/home/kbardool/models_newshapes2/train_fcn8L2_BCE/fcn20190323T0000'\n",
    "\n",
    "fcn_files  = ['fcn_0001.h5', 'fcn_0002.h5', 'fcn_0003.h5', 'fcn_0004.h5', \n",
    "              'fcn_0005.h5', 'fcn_0006.h5', 'fcn_0008.h5', 'fcn_0009.h5', \n",
    "              'fcn_0012.h5', 'fcn_0016.h5', 'fcn_0018.h5', 'fcn_0019.h5', \n",
    "              'fcn_0021.h5', 'fcn_0022.h5', 'fcn_0023.h5', 'fcn_0024.h5', \n",
    "              'fcn_0033.h5', 'fcn_0039.h5', 'fcn_0042.h5', 'fcn_0044.h5', \n",
    "              'fcn_0077.h5', 'fcn_0089.h5', 'fcn_0170.h5', 'fcn_0177.h5',\n",
    "              'fcn_0253.h5', 'fcn_0266.h5']  ## 22,23,24,25\n",
    "\n",
    "\n",
    "# fcn_files = ['fcn_0001.h5', 'fcn_0150.h5', 'fcn_0346.h5', 'fcn_0421.h5',\n",
    "#              'fcn_0450.h5', 'fcn_0482.h5', 'fcn_0521.h5', 'fcn_0610.h5',\n",
    "#              'fcn_0687.h5', 'fcn_0793.h5', 'fcn_0821.h5', 'fcn_0940.h5',\n",
    "#              'fcn_1012.h5', 'fcn_1127.h5', 'fcn_1644.h5', 'fcn_1776.h5',\n",
    "#               'fcn_1848.h5', 'fcn_2017.h5', 'fcn_2084.h5', 'fcn_x0434.h5', 'fcn_x0419.h5']"
   ]
  },
  {
   "cell_type": "code",
   "execution_count": 6,
   "metadata": {
    "ExecuteTime": {
     "end_time": "2019-05-20T18:00:37.872354Z",
     "start_time": "2019-05-20T18:00:33.138417Z"
    }
   },
   "outputs": [
    {
     "name": "stdout",
     "output_type": "stream",
     "text": [
      "Loading weights  /home/kbardool/models_newshapes2/train_fcn8L2_BCE/fcn20190323T0000/fcn_0266.h5\n",
      "-----------------------------------------------\n",
      " Load Model with init parm: [ /home/kbardool/models_newshapes2/train_fcn8L2_BCE/fcn20190323T0000/fcn_0266.h5 ]\n",
      "-----------------------------------------------\n",
      " ---> Explicit weight file\n",
      ">>> load_weights() from : /home/kbardool/models_newshapes2/train_fcn8L2_BCE/fcn20190323T0000/fcn_0266.h5\n",
      "    Weights file loaded: /home/kbardool/models_newshapes2/train_fcn8L2_BCE/fcn20190323T0000/fcn_0266.h5 \n",
      "==========================================\n",
      "FCN  MODEL Load weight file COMPLETE \n",
      "==========================================\n"
     ]
    }
   ],
   "source": [
    "FILE_IDX = -1\n",
    "fcn_weights_file = os.path.join(FCN_DIR_WEIGHTS  , fcn_files[FILE_IDX])\n",
    "print(\"Loading weights \", fcn_weights_file)\n",
    "fcn_model.load_model_weights(fcn_weights_file)"
   ]
  },
  {
   "cell_type": "markdown",
   "metadata": {},
   "source": [
    "## Load test dataset"
   ]
  },
  {
   "cell_type": "code",
   "execution_count": 7,
   "metadata": {
    "ExecuteTime": {
     "end_time": "2019-05-20T18:00:38.047840Z",
     "start_time": "2019-05-20T18:00:37.875003Z"
    }
   },
   "outputs": [
    {
     "name": "stdout",
     "output_type": "stream",
     "text": [
      "<class 'mrcnn.newshapes2.NewImagesDataset'>\n",
      " Active Class Information \n",
      "--------------------------\n",
      "[1, 2, 3, 4, 5, 6, 7, 8]\n",
      "internal_class:  1 ext_cls: 1 category-name: None - person\n",
      "internal_class:  2 ext_cls: 2 category-name: None - car\n",
      "internal_class:  3 ext_cls: 3 category-name: None - sun\n",
      "internal_class:  4 ext_cls: 4 category-name: None - building\n",
      "internal_class:  5 ext_cls: 5 category-name: None - tree\n",
      "internal_class:  6 ext_cls: 6 category-name: None - cloud\n",
      "internal_class:  7 ext_cls: 7 category-name: None - airplane\n",
      "internal_class:  8 ext_cls: 8 category-name: None - truck\n",
      "Testing Dataset Image Count: 1000\n",
      "Testing Dataset Class Count: 9\n",
      "1000\n"
     ]
    }
   ],
   "source": [
    "# del dataset_train, dataset_val, train_generator, val_generator\n",
    "# dataset_test , test_generator   = prep_newshape_dataset( mrcnn_model.config,  1000, generator=True)\n",
    "# with open('newshapes_dataset_1000_B.pkl', 'wb') as outfile:\n",
    "#     pickle.dump(dataset_test, outfile)\n",
    "## -- OR --\n",
    "\n",
    "# with open(os.path.join(mrcnn_model.config.DIR_DATASET,\"newshapes2_test_dataset_1000_A.pkl\"), 'rb') as infile:\n",
    "\n",
    "with open(os.path.join(\"/home/kbardool/MLDatasets/newshapes2\",\"newshapes2_test_dataset_1000_A.pkl\"), 'rb') as infile:\n",
    "    dataset_test = pickle.load(infile)\n",
    "print(type(dataset_test))    \n",
    "\n",
    "dataset_test.display_active_class_info()\n",
    "print(\"Testing Dataset Image Count: {}\".format(len(dataset_test.image_ids)))\n",
    "print(\"Testing Dataset Class Count: {}\".format(dataset_test.num_classes))\n",
    "print(len(dataset_test.image_ids))    \n",
    "class_names = dataset_test.class_names"
   ]
  },
  {
   "cell_type": "markdown",
   "metadata": {},
   "source": [
    "###  Display some images from dataset"
   ]
  },
  {
   "cell_type": "code",
   "execution_count": 20,
   "metadata": {
    "ExecuteTime": {
     "end_time": "2019-05-20T12:34:39.596505Z",
     "start_time": "2019-05-20T12:34:39.440265Z"
    }
   },
   "outputs": [
    {
     "data": {
      "image/png": "[encoded data removed]",
      "text/plain": [
       "<matplotlib.figure.Figure at 0x7f0da47814e0>"
      ]
     },
     "metadata": {},
     "output_type": "display_data"
    }
   ],
   "source": [
    "# image_list = list(range(160,200))\n",
    "image_list = list(range(132, 132))\n",
    "image_titles = [str(i) for i in image_list]\n",
    "images = get_image_batch(dataset_test, image_list)\n",
    "visualize.display_images(images, titles = image_titles, cols = 8, width = 24)"
   ]
  },
  {
   "cell_type": "code",
   "execution_count": 9,
   "metadata": {
    "ExecuteTime": {
     "end_time": "2019-05-20T18:01:34.380528Z",
     "start_time": "2019-05-20T18:01:33.146600Z"
    }
   },
   "outputs": [
    {
     "data": {
      "image/png": "[encoded data removed]",
      "text/plain": [
       "<matplotlib.figure.Figure at 0x7fcff01b3128>"
      ]
     },
     "metadata": {},
     "output_type": "display_data"
    }
   ],
   "source": [
    "# image_list = list(range(160,200))\n",
    "# image_list = list(range(0, 80))\n",
    "image_list = [37, 131, 421, 468, 206 , 18, 29, 67, 72, 74, 77, 79, 176]\n",
    "image_titles = [str(i) for i in image_list]\n",
    "\n",
    "images = get_image_batch(dataset_test, image_list)\n",
    "visualize.display_images(images, titles = image_titles, cols = 8, width = 24)"
   ]
  },
  {
   "cell_type": "markdown",
   "metadata": {},
   "source": [
    "####  Display next image from generator"
   ]
  },
  {
   "cell_type": "code",
   "execution_count": null,
   "metadata": {
    "ExecuteTime": {
     "end_time": "2019-04-16T18:50:14.090912Z",
     "start_time": "2019-04-16T18:50:14.043430Z"
    },
    "hideCode": false,
    "hideOutput": true,
    "hidePrompt": false
   },
   "outputs": [],
   "source": [
    "# train_batch_x, train_batch_y = next(test_generator)\n",
    "# visualize.display_training_batch(dataset_test, train_batch_x)"
   ]
  },
  {
   "cell_type": "markdown",
   "metadata": {},
   "source": [
    "## Evaluate indiviual image"
   ]
  },
  {
   "cell_type": "code",
   "execution_count": 62,
   "metadata": {
    "ExecuteTime": {
     "end_time": "2019-05-20T19:15:34.782082Z",
     "start_time": "2019-05-20T19:15:34.190659Z"
    }
   },
   "outputs": [
    {
     "name": "stdout",
     "output_type": "stream",
     "text": [
      "\n",
      "GT_BOXES for image  468\n",
      "--------------------------------------------------------------------------------\n",
      "        class             |                              \n",
      "seq  id name              |  Y1  X1  Y2  X2     CX     CY    AREA\n",
      "--------------------------------------------------------------------------------\n",
      "  0  3 sun                |   5  78  14  87    82.5    9.5    81.00\n",
      "  1  6 cloud              |   5   0  12  32    16.0    8.5   224.00\n",
      "  2  7 airplane           |  15   9  24  38    23.5   19.5   261.00\n",
      "  3  8 truck              |  57  68  72 106    87.0   64.5   570.00\n",
      "  4  8 truck              |  58  30  73  83    56.5   65.5   795.00\n",
      "  5  5 tree               |  35  45  78  56    50.5   56.5   473.00\n",
      "  6  5 tree               |  36  51  78  72    61.5   57.0   882.00\n",
      "  7  5 tree               |  36  28  95  51    39.5   65.5  1357.00\n",
      "  8  8 truck              |  74  31  93  94    62.5   83.5  1197.00\n",
      "\n"
     ]
    },
    {
     "data": {
      "image/png": "[encoded data removed]",
      "text/plain": [
       "<matplotlib.figure.Figure at 0x7fcffbf5a7b8>"
      ]
     },
     "metadata": {},
     "output_type": "display_data"
    }
   ],
   "source": [
    "image_id = 468\n",
    "cols = 8\n",
    "classes = [1,2,3,4,5,6,7,8]\n",
    "# vis.display_image_gt(dataset_test, dataset_test.config, image_id, size=6, verbose = False)\n",
    "vis2.display_gt_bboxes(dataset_test, dataset_test.config, image_id, size=8, verbose = True)\n",
    "\n",
    "# r = run_fcn_evaluation(fcn_model, mrcnn_model, dataset_test, image_id, verbose = False)  \n",
    "r = run_fcn_detection(fcn_model, mrcnn_model, dataset_test, image_id, verbose = False)  "
   ]
  },
  {
   "cell_type": "code",
   "execution_count": 63,
   "metadata": {
    "ExecuteTime": {
     "end_time": "2019-05-20T19:15:40.320961Z",
     "start_time": "2019-05-20T19:15:40.284531Z"
    },
    "scrolled": false
   },
   "outputs": [
    {
     "name": "stdout",
     "output_type": "stream",
     "text": [
      "\n",
      "\n",
      "PR_SCORES from fcn/mrcnn_results:   (top line MRCNN, bottom line FCN) \n",
      "-------------------------------------------------------------------------------------------------------------------------------------------------------------------------------\n",
      "                              |   |                |     MRCNN / FCN score 0    |         MRCNN / FCN score 1        |        MRCNN / FCN score 2         | \n",
      "          class               |TP/| mrcnn  normlzd |  gaussian   bbox   nrm.scr*|  ga.sum    mask     score   norm   |  ga.sum    mask     score   norm   | \n",
      "    seq  id name              | FP| score   score  |    sum      area   gau.sum |  in mask   sum              score  |  in mask   sum              score  |  Y1  X1  Y2  X2   AREA  \n",
      "-------------------------------------------------------------------------------------------------------------------------------------------------------------------------------\n",
      "  0  64  6 cloud              | 1 | 0.9997  1.0000 |   0.9499   232.0    0.9499 |  22.4402    32.0    0.7013  1.0000 |  22.4402    32.0    0.7013  1.0000 |   5   3  13  32  232.00\n",
      "  0  64  6 cloud              | 1 | 0.9997  1.0000 | -10.5852   232.0  -10.5852 |  18.8066    32.0    0.5877  1.0000 |  25.3908    32.0    0.7935  1.0000 |   5   3  13  32  232.00\n",
      "\n",
      "  1  63  5 tree               | 1 | 0.9974  1.0000 |   0.9990  1034.0    0.9990 |  48.1448    70.0    0.6878  1.0000 |  48.1448    70.0    0.6878  1.0000 |  37  29  84  51 1034.00\n",
      "  1  63  5 tree               | 1 | 0.9974  1.0000 |-275.9001  1034.0 -275.9001 |  38.0025    70.0    0.5429  0.7519 |  34.0293    70.0    0.4861  0.7519 |  37  29  84  51 1034.00\n",
      "\n",
      "  2  62  8 truck              | 1 | 0.9966  1.0000 |   0.9949  1104.0    0.9949 |  50.7892    72.0    0.7054  1.0000 |  50.7892    72.0    0.7054  1.0000 |  76  31  92 100 1104.00\n",
      "  2  62  8 truck              | 1 | 0.9966  1.0000 |-271.0364  1104.0 -271.0364 |  51.2574    72.0    0.7119  1.0000 |  50.6069    72.0    0.7029  1.0000 |  76  31  92 100 1104.00\n",
      "\n",
      "  3  61  5 tree               | 1 | 0.9952  0.9977 |   0.9983   880.0    0.9960 |  46.9800    70.0    0.6711  0.9758 |  46.9800    70.0    0.6711  0.9758 |  36  53  80  73  880.00\n",
      "  3  61  5 tree               | 1 | 0.9952  0.9977 |-196.4118   880.0 -195.9678 |  50.5418    70.0    0.7220  1.0000 |  45.2577    70.0    0.6465  1.0000 |  36  53  80  73  880.00\n",
      "\n",
      "  4  60  3 sun                | 1 | 0.9936  1.0000 |   0.9361    90.0    0.9361 |  15.9928    25.0    0.6397  1.0000 |  15.9928    25.0    0.6397  1.0000 |   5  78  14  88   90.00\n",
      "  4  60  3 sun                | 1 | 0.9936  1.0000 |   2.9591    90.0    2.9591 |  17.8986    25.0    0.7159  1.0000 |  16.4184    25.0    0.6567  1.0000 |   5  78  14  88   90.00\n",
      "\n",
      "  5  59  7 airplane           | 1 | 0.9890  1.0000 |   0.9625   234.0    0.9625 |  27.1360    40.0    0.6784  1.0000 |  27.1360    40.0    0.6784  1.0000 |  14  10  23  36  234.00\n",
      "  5  59  7 airplane           | 1 | 0.9890  1.0000 | -53.0712   234.0  -53.0712 |  23.0517    40.0    0.5763  1.0000 |  27.4446    40.0    0.6861  1.0000 |  14  10  23  36  234.00\n",
      "\n",
      "  6  58  5 tree               | 1 | 0.9504  0.9528 |   0.9882   533.0    0.9416 |  37.1440    60.0    0.6191  0.9001 |  37.1440    60.0    0.6191  0.9001 |  37  43  78  56  533.00\n",
      "  6  58  5 tree               | 1 | 0.9504  0.9528 |-110.4400   533.0 -105.2300 |  38.5990    60.0    0.6433  0.8910 |  34.5635    60.0    0.5761  0.8910 |  37  43  78  56  533.00\n",
      "\n",
      "  7  57  8 truck              | 1 | 0.9277  0.9309 |   0.9933   735.0    0.9246 |  38.3621    60.0    0.6394  0.9064 |  38.3621    60.0    0.6394  0.9064 |  55  59  70 108  735.00\n",
      "  7  57  8 truck              | 1 | 0.9277  0.9309 |-178.1231   735.0 -165.8124 |  35.3172    60.0    0.5886  0.8268 |  34.8690    60.0    0.5812  0.8268 |  55  59  70 108  735.00\n",
      "\n",
      "  8  56  8 truck              | 1 | 0.6828  0.6852 |   0.9949   880.0    0.6817 |  31.8994    66.0    0.4833  0.6852 |  31.8994    66.0    0.4833  0.6852 |  66  44  82  99  880.00\n",
      "  8  56  8 truck              | 1 | 0.6828  0.6852 |-105.0510   880.0  -71.9788 |  27.9206    66.0    0.4230  0.5942 |  27.5663    66.0    0.4177  0.5942 |  66  44  82  99  880.00\n",
      "\n",
      "  9  55  6 cloud              | 1 | 0.6377  0.6379 |   0.9722   390.0    0.6202 |  19.0505    45.0    0.4233  0.6037 |  19.0505    45.0    0.4233  0.6037 |   9   1  19  40  390.00\n",
      "  9  55  6 cloud              | 1 | 0.6377  0.6379 |-132.0612   390.0  -84.2428 |  -2.9381    45.0   -0.0653  0.0000 |  -3.9667    45.0   -0.0881  0.0000 |   9   1  19  40  390.00\n",
      "\n",
      " 10  54  2 car                | 1 | 0.4836  1.0000 |   0.9843   396.0    0.9843 |  30.1597    45.0    0.6702  1.0000 |  30.1597    45.0    0.6702  1.0000 |  66  29  78  62  396.00\n",
      " 10  54  2 car                | 1 | 0.4836  1.0000 | -94.5950   396.0  -94.5950 |  39.2687    45.0    0.8726  1.0000 |  32.5232    45.0    0.7227  1.0000 |  66  29  78  62  396.00\n",
      "\n"
     ]
    }
   ],
   "source": [
    "vis2.display_pr_fcn_scores(r[0], class_names)"
   ]
  },
  {
   "cell_type": "code",
   "execution_count": 65,
   "metadata": {
    "ExecuteTime": {
     "end_time": "2019-05-20T19:16:27.407819Z",
     "start_time": "2019-05-20T19:16:27.174144Z"
    }
   },
   "outputs": [
    {
     "name": "stdout",
     "output_type": "stream",
     "text": [
      "PR_SCORES from fcn/mrcnn_results:\n",
      "-------------------------------------------------------------------------------------------------------------------------------------------------------------------------------\n",
      "                              |   |                |        MRCNN score 0       |          MRCNN score 1             |           MRCNN score 2            |                         \n",
      "          class               |TP/| mrcnn  normlzd |  gaussian   bbox   nrm.scr*|  ga.sum    mask     score   norm   |  ga.sum    mask     score   norm   |                         \n",
      "    seq  id name              | FP| score   score  |    sum      area   gau.sum |  in mask   sum              score  |  in mask   sum              score  |  X1  Y1  X2  Y2   AREA  \n",
      "-------------------------------------------------------------------------------------------------------------------------------------------------------------------------------\n",
      " 10  54  2 car                | 1 | 0.4836  1.0000 |   0.9843   396.0    0.9843 |  30.1597    45.0    0.6702  1.0000 |  30.1597    45.0    0.6702  1.0000 |  29  66  62  78  396.00\n",
      "\n",
      "\n",
      "PR_SCORES from fcn/mrcnn_results:   (top line MRCNN, bottom line FCN) \n",
      "-------------------------------------------------------------------------------------------------------------------------------------------------------------------------------\n",
      "                              |   |                |     MRCNN / FCN score 0    |         MRCNN / FCN score 1        |        MRCNN / FCN score 2         | \n",
      "          class               |TP/| mrcnn  normlzd |  gaussian   bbox   nrm.scr*|  ga.sum    mask     score   norm   |  ga.sum    mask     score   norm   | \n",
      "    seq  id name              | FP| score   score  |    sum      area   gau.sum |  in mask   sum              score  |  in mask   sum              score  |  Y1  X1  Y2  X2   AREA  \n",
      "-------------------------------------------------------------------------------------------------------------------------------------------------------------------------------\n",
      " 10  54  2 car                | 1 | 0.4836  1.0000 |   0.9843   396.0    0.9843 |  30.1597    45.0    0.6702  1.0000 |  30.1597    45.0    0.6702  1.0000 |  66  29  78  62  396.00\n",
      " 10  54  2 car                | 1 | 0.4836  1.0000 | -94.5950   396.0  -94.5950 |  39.2687    45.0    0.8726  1.0000 |  32.5232    45.0    0.7227  1.0000 |  66  29  78  62  396.00\n",
      "\n"
     ]
    },
    {
     "data": {
      "image/png": "[encoded data removed]",
      "text/plain": [
       "<matplotlib.figure.Figure at 0x7fcffbec8748>"
      ]
     },
     "metadata": {},
     "output_type": "display_data"
    }
   ],
   "source": [
    "only = None\n",
    "only = [2]\n",
    "vis2.display_pr_scores(r[0], class_names, display = True, size = 10,  only = only)\n",
    "# vis2.display_pr_hm_scores(r[0], class_names, only = None)\n",
    "# vis2.display_pr_hm_scores_box_info(r[0], class_names, only = only)\n",
    "vis2.display_pr_fcn_scores(r[0], class_names, only = only)"
   ]
  },
  {
   "cell_type": "code",
   "execution_count": 50,
   "metadata": {
    "ExecuteTime": {
     "end_time": "2019-05-20T18:59:35.272917Z",
     "start_time": "2019-05-20T18:59:35.226112Z"
    },
    "scrolled": false
   },
   "outputs": [
    {
     "name": "stdout",
     "output_type": "stream",
     "text": [
      "  FCN BBox Information - classes   --  :  [3, 7]\n",
      "-------------------------------------------------------------------------------------------------------------------------------------------------------------------------------\n",
      "                                                         |                                                 |    (COVAR)    |               CLIP REGION   \n",
      "BOX     class                                            |                   Width   Height                |      SQRT     |      FROM/TO               FROM/TO \n",
      "seq  id     name              Y1/X1              Y2/X2   |    CX / CY         (W)  ~  (H)      AREA        |  W/2     H/2  |  X1/Y1    X2/Y2   A |  X1/Y1   X2/Y2   A\n",
      "-------------------------------------------------------------------------------------------------------------------------------------------------------------------------------\n",
      " 57   3 sun             ( 20.00, 56.00)  ( 32.00, 74.00) |  65.00/ 26.00    18.00~  12.00   216.00   30.00 |   3.00   2.45 |  62  24  68  28  24 |  62  23  68  29  36\n",
      " TP   mrcnn_scr: 0.9194  norm: 1.0000  scr0: -81.3798  scr1: 0.3653  scr2: 0.5212\n",
      "                     cls:   1-person      cx/cy:   -0.629   cx/cy+-1:   -2.501   cx/cy+-3:  -26.026  fr/to:  -10.116   fr/to+1:  -16.172    fr-1/to+1:  -23.934   full: -187.398\n",
      "                     cls:   2-car         cx/cy:   -0.712   cx/cy+-1:   -3.073   cx/cy+-3:  -29.311  fr/to:  -24.733   fr/to+1:  -33.641    fr-1/to+1:  -47.424   full: -174.292\n",
      "                     cls:   3-sun         cx/cy:   -1.004   cx/cy+-1:   -4.485   cx/cy+-3:  -44.412  fr/to:    9.533   fr/to+1:   10.085    fr-1/to+1:   10.994   full: -285.749\n",
      "                     cls:   4-building    cx/cy:   -0.322   cx/cy+-1:   -0.944   cx/cy+-3:   -8.214  fr/to:  -32.840   fr/to+1:  -42.573    fr-1/to+1:  -61.603   full:  -41.310\n",
      "                     cls:   5-tree        cx/cy:   -0.527   cx/cy+-1:   -1.971   cx/cy+-3:  -17.890  fr/to:  -20.020   fr/to+1:  -27.918    fr-1/to+1:  -40.536   full:  -99.421\n",
      "                     cls:   6-cloud       cx/cy:   -1.134   cx/cy+-1:   -4.272   cx/cy+-3:  -40.663  fr/to:   -3.811   fr/to+1:   -7.374    fr-1/to+1:  -11.801   full: -215.654\n",
      "                     cls:   7-airplane    cx/cy:   -0.902   cx/cy+-1:   -3.741   cx/cy+-3:  -32.299  fr/to:   -2.539   fr/to+1:   -4.077    fr-1/to+1:   -7.554   full: -212.025\n",
      "                     cls:   8-truck       cx/cy:   -0.513   cx/cy+-1:   -1.953   cx/cy+-3:  -17.321  fr/to:  -34.606   fr/to+1:  -45.343    fr-1/to+1:  -63.699   full:  -90.324\n",
      "\n",
      " 54   7 airplane        ( 25.00, 44.00)  ( 33.00, 73.00) |  58.50/ 29.00    29.00~   8.00   232.00   32.00 |   3.81   2.00 |  55  27  62  31  28 |  54  27  62  31  32\n",
      " TP   mrcnn_scr: 0.4796  norm: 1.0000  scr0: -51.4332  scr1: 0.6994  scr2: 0.7723\n",
      "                     cls:   1-person      cx/cy:   -1.292   cx/cy+-1:   -5.179   cx/cy+-3:  -32.061  fr/to:  -27.337   fr/to+1:  -34.866    fr-1/to+1:  -49.595   full: -191.333\n",
      "                     cls:   2-car         cx/cy:   -0.920   cx/cy+-1:   -3.238   cx/cy+-3:  -23.470  fr/to:    5.656   fr/to+1:    3.652    fr-1/to+1:   -0.049   full: -169.670\n",
      "                     cls:   3-sun         cx/cy:   -1.818   cx/cy+-1:   -6.636   cx/cy+-3:  -50.392  fr/to:  -11.334   fr/to+1:  -14.523    fr-1/to+1:  -21.308   full: -304.118\n",
      "                     cls:   4-building    cx/cy:    0.423   cx/cy+-1:    1.593   cx/cy+-3:   12.945  fr/to:  -21.626   fr/to+1:  -29.800    fr-1/to+1:  -44.009   full:   -7.137\n",
      "                     cls:   5-tree        cx/cy:   -0.582   cx/cy+-1:   -2.131   cx/cy+-3:  -14.614  fr/to:  -25.329   fr/to+1:  -35.833    fr-1/to+1:  -47.590   full:  -96.984\n",
      "                     cls:   6-cloud       cx/cy:   -0.699   cx/cy+-1:   -2.693   cx/cy+-3:  -18.805  fr/to:    1.506   fr/to+1:   -0.714    fr-1/to+1:   -0.768   full: -179.960\n",
      "                     cls:   7-airplane    cx/cy:   -1.032   cx/cy+-1:   -4.515   cx/cy+-3:  -32.496  fr/to:   20.544   fr/to+1:   25.348    fr-1/to+1:   30.001   full: -211.492\n",
      "                     cls:   8-truck       cx/cy:   -0.145   cx/cy+-1:   -0.926   cx/cy+-3:   -5.667  fr/to:   -9.931   fr/to+1:  -15.935    fr-1/to+1:  -26.173   full:  -86.549\n",
      "\n",
      "-------------------------------------------------------------------------------------------------------------------------------------------------------------------------------\n",
      "  classes     :  [3, 7]\n",
      "-------------------------------------------------------------------------------------------------------------------------------------------------------------------------------\n",
      "                                       |                                              |   (COVAR)     |    \n",
      "BOX                                    |                   Width   Height             |     SQRT      |   FROM/TO  \n",
      "seq       X1/Y1              X2/Y2     |    CX / CY         (W)  ~  (H)      AREA     |  W/2    H/2   |  X      Y \n",
      "------------------------------------------------------------------------------------------------------------------------------------------------------\n",
      " 57   ( 56.00, 20.00)  ( 74.00, 32.00) |  65.00/ 26.00    18.00~  12.00   216.00 30.0 |   3.00    2.45| 62 68 24 28 24 | 62.0 68.0 23.0 29.0 36.0\n",
      "\n",
      " TP   Original MRCNN Prediction for this box:  [ 3] - sun              Orig Score: 0.9194  Norm Score:  1.0000 \n",
      "------------------------------------------------------------------------------------------------------------------------------------------------------\n",
      "\n",
      "           -----------------------------------------------------------------------------------------------------------------------------------------------------------\n",
      "                                                BG         person            car            sun       building           tree          cloud       airplane          truck\n",
      "           -----------------------------------------------------------------------------------------------------------------------------------------------------------\n",
      "                  cx_cy score (   1.0):          0.0000        -0.6291        -0.7115        -1.0044        -0.3224        -0.5273        -1.1336        -0.9021        -0.5127\n",
      "             cx_cy +/-1 score (   4.0):          0.0000        -2.5008        -3.0733        -4.4849        -0.9442        -1.9708        -4.2723        -3.7406        -1.9528\n",
      "             cx_cy +/-3 score (  36.0):         -0.0000       -26.0264       -29.3108       -44.4123        -8.2143       -17.8896       -40.6633       -32.2989       -17.3212\n",
      "                from:to score (  24.0):          0.0000       -10.1163       -24.7331         9.5333       -32.8396       -20.0200        -3.8112        -2.5392       -34.6064\n",
      "             from:to +1 score (  35.0):          0.0000       -16.1716       -33.6405        10.0849       -42.5731       -27.9178        -7.3742        -4.0773       -45.3430\n",
      "           from:to +/-1 score (  48.0):          0.0000       -23.9342       -47.4242        10.9939       -61.6029       -40.5361       -11.8013        -7.5543       -63.6995\n",
      "              full bbox score ( 216.0):         -0.0000      -187.3981      -174.2920      -285.7488       -41.3101       -99.4209      -215.6544      -212.0245       -90.3241\n",
      "\n",
      "           -----------------------------------------------------------------------------------------------------------------------------------------------------------\n",
      "                                                BG         person            car            sun       building           tree          cloud       airplane          truck\n",
      "           -----------------------------------------------------------------------------------------------------------------------------------------------------------\n",
      "                  cx_cy score (   1.0):          0.0000        -0.6291        -0.7115        -1.0044        -0.3224        -0.5273        -1.1336        -0.9021        -0.5127\n",
      "             cx_cy +/-1 score (   4.0):          0.0000        -0.6252        -0.7683        -1.1212        -0.2361        -0.4927        -1.0681        -0.9352        -0.4882\n",
      "             cx_cy +/-3 score (  36.0):         -0.0000        -0.7230        -0.8142        -1.2337        -0.2282        -0.4969        -1.1295        -0.8972        -0.4811\n",
      "                from:to score (  24.0):          0.0000        -0.4215        -1.0305         0.3972        -1.3683        -0.8342        -0.1588        -0.1058        -1.4419\n",
      "             from:to +1 score (  35.0):          0.0000        -0.4620        -0.9612         0.2881        -1.2164        -0.7977        -0.2107        -0.1165        -1.2955\n",
      "           from:to +/-1 score (  48.0):          0.0000        -0.4986        -0.9880         0.2290        -1.2834        -0.8445        -0.2459        -0.1574        -1.3271\n",
      "              full bbox score ( 216.0):         -0.0000        -0.8676        -0.8069        -1.3229        -0.1913        -0.4603        -0.9984        -0.9816        -0.4182\n",
      "\n",
      "-------------------------------------------------------------------------------------------------------------------------------------------------------------------------------\n",
      "                                       |                                              |   (COVAR)     |    \n",
      "BOX                                    |                   Width   Height             |     SQRT      |   FROM/TO  \n",
      "seq       X1/Y1              X2/Y2     |    CX / CY         (W)  ~  (H)      AREA     |  W/2    H/2   |  X      Y \n",
      "------------------------------------------------------------------------------------------------------------------------------------------------------\n",
      " 54   ( 44.00, 25.00)  ( 73.00, 33.00) |  58.50/ 29.00    29.00~   8.00   232.00 32.0 |   3.81    2.00| 55 62 27 31 28 | 54.0 62.0 27.0 31.0 32.0\n",
      "\n",
      " TP   Original MRCNN Prediction for this box:  [ 7] - airplane         Orig Score: 0.4796  Norm Score:  1.0000 \n",
      "------------------------------------------------------------------------------------------------------------------------------------------------------\n",
      "\n",
      "           -----------------------------------------------------------------------------------------------------------------------------------------------------------\n",
      "                                                BG         person            car            sun       building           tree          cloud       airplane          truck\n",
      "           -----------------------------------------------------------------------------------------------------------------------------------------------------------\n",
      "                  cx_cy score (   1.0):         -0.0000        -1.2920        -0.9202        -1.8185         0.4230        -0.5820        -0.6987        -1.0316        -0.1447\n",
      "             cx_cy +/-1 score (   4.0):         -0.0000        -5.1787        -3.2380        -6.6363         1.5931        -2.1307        -2.6932        -4.5152        -0.9259\n",
      "             cx_cy +/-3 score (  36.0):          0.0000       -32.0607       -23.4704       -50.3925        12.9453       -14.6138       -18.8045       -32.4958        -5.6666\n",
      "                from:to score (  28.0):          0.0000       -27.3372         5.6557       -11.3343       -21.6255       -25.3291         1.5056        20.5439        -9.9307\n",
      "             from:to +1 score (  40.0):          0.0000       -34.8656         3.6517       -14.5226       -29.8002       -35.8331        -0.7142        25.3481       -15.9348\n",
      "           from:to +/-1 score (  54.0):          0.0000       -49.5949        -0.0489       -21.3083       -44.0093       -47.5899        -0.7681        30.0007       -26.1732\n",
      "              full bbox score ( 232.0):         -0.0000      -191.3335      -169.6697      -304.1175        -7.1369       -96.9840      -179.9603      -211.4922       -86.5488\n",
      "\n",
      "           -----------------------------------------------------------------------------------------------------------------------------------------------------------\n",
      "                                                BG         person            car            sun       building           tree          cloud       airplane          truck\n",
      "           -----------------------------------------------------------------------------------------------------------------------------------------------------------\n",
      "                  cx_cy score (   1.0):         -0.0000        -1.2920        -0.9202        -1.8185         0.4230        -0.5820        -0.6987        -1.0316        -0.1447\n",
      "             cx_cy +/-1 score (   4.0):         -0.0000        -1.2947        -0.8095        -1.6591         0.3983        -0.5327        -0.6733        -1.1288        -0.2315\n",
      "             cx_cy +/-3 score (  36.0):          0.0000        -0.8906        -0.6520        -1.3998         0.3596        -0.4059        -0.5223        -0.9027        -0.1574\n",
      "                from:to score (  28.0):          0.0000        -0.9763         0.2020        -0.4048        -0.7723        -0.9046         0.0538         0.7337        -0.3547\n",
      "             from:to +1 score (  40.0):          0.0000        -0.8716         0.0913        -0.3631        -0.7450        -0.8958        -0.0179         0.6337        -0.3984\n",
      "           from:to +/-1 score (  54.0):          0.0000        -0.9184        -0.0009        -0.3946        -0.8150        -0.8813        -0.0142         0.5556        -0.4847\n",
      "              full bbox score ( 232.0):         -0.0000        -0.8247        -0.7313        -1.3109        -0.0308        -0.4180        -0.7757        -0.9116        -0.3731\n",
      "\n",
      "-------------------------------------------------------------------------------------------------------------------------------------------------------------------------------\n"
     ]
    }
   ],
   "source": [
    "vis2.display_fcn_scores_box_info(r[0]['fcn_scores'], r[0]['fcn_hm'], class_names, only = only)\n",
    "vis2.display_fcn_scores_box_info2(r[0]['fcn_scores'], r[0]['fcn_hm'], class_names, only = only)"
   ]
  },
  {
   "cell_type": "code",
   "execution_count": null,
   "metadata": {
    "ExecuteTime": {
     "end_time": "2019-05-20T12:29:30.032876Z",
     "start_time": "2019-05-20T12:29:27.798832Z"
    }
   },
   "outputs": [],
   "source": [
    "vis2.display_fcn_hm(vis2.normalize_all(r[0]['fcn_hm']), class_names, columns = cols, size = 8, classes = classes)"
   ]
  },
  {
   "cell_type": "markdown",
   "metadata": {},
   "source": [
    "##  Manipulate some images to test contextual relationships"
   ]
  },
  {
   "cell_type": "markdown",
   "metadata": {},
   "source": [
    "|Exp |Image     | Original Image | modifications |Conxtextual experiment\n",
    "|----| :------- |:-------------- | :-------------|:------------------------------------------------------------------ \n",
    "| 1 | Image 18 | sun and truck | Remove sun, add building |  move truck around with and without a building present in the image\n",
    "| 2 | image 67 | Buildings and car|                    | If we move a person around the activation \"should\" peak when it's in proper position with regards to the car.\n",
    "| 3 | image 67 | Buildings and car| Remove all objects | and move an object of each class around in black, and in color. \n",
    "| 4 | Image 72 | sun and airplane | Remove sun         | move a car around the image, and move a truck around the image , comparing the results. Moving a truck should invoke higher activation than a car, since the cars do not cooccur with an airplane\n",
    "| 5 | Image 77 | Sun, Airplane    | Remove sun         | move airplane around with and and without a building present in the scene. The activation strength should increase when the building is absent\n",
    "| 6 | Image 79 | Person, plane | Remove the plane | move a car around the image. Activation of the car should peak when it's in propoer position with regards to the person\n",
    "| 7 | image 176| 2 persons, tree, car| Remove tree and persons | move a airplane around (car and airplane dont occur in same image - so the relatvie activation strength of the airplane, in proper position, should be higher when thecar is absent from the image\n",
    "    \n",
    "    - The max FCN activation of the person is close to the car\n",
    " "
   ]
  },
  {
   "cell_type": "markdown",
   "metadata": {},
   "source": [
    "####  Objects to add / remove from image s"
   ]
  },
  {
   "cell_type": "code",
   "execution_count": null,
   "metadata": {
    "ExecuteTime": {
     "end_time": "2019-05-17T15:16:37.380843Z",
     "start_time": "2019-05-17T15:16:37.339197Z"
    }
   },
   "outputs": [],
   "source": [
    "## image 77: [('sun', (255.0, 215.0, 0.0), (49, 13, 6, 6)), ('airplane', (200.0, 132.0, 126.0), (25, 23, 18, 7))]\n",
    "## image 27 : [ ('sun', (255.0, 255.0, 224.0), (87, 16, 7, 7)),   ('building', (7.0, 9.0, 197.0), (92, 60, 24, 20)),   ('person', (210.0, 105.0, 30.0), (124, 107, 2, 11))]\n",
    "\n",
    "# del dataset_test.image_info[image_id]['shapes'][0:2]\n",
    "# black_car  = ('car', black, (cx, cy, 15, 7))\n",
    "# black_car = ('car', (0.0, 0.0, 0.0),(64,64, 15, 7))\n",
    "# person = ('person', (139.0, 69.0, 19.0), (17, 92, 2, 10))\n",
    "## person = ('person', (240.0, 230.0, 140.0), (40, 92, 2, 10))\n",
    "## black_sun = ('sun', (0.0, 0.0, 0.0), (7, 9, 4, 4))\n",
    "building  =  ('building', (7.0, 9.0, 197.0), (92, 60, 24, 20))\n",
    "airplane  = ('airplane', (200.0, 132.0, 126.0), (25, 23, 18, 7))\n",
    "car       = ('car', (150.0, 174.0, 8.0), (87, 112, 22, 11))\n",
    "truck     = ('truck', (213.0, 56.0, 119.0), (80, 93, 39, 13))\n",
    "truck     = ('truck', (83.0, 192.0, 78.0), (65, 71, 25, 8))\n",
    "tree      = ('tree', (50.0, 205.0, 50.0), (100, 91, 12, 28))\n",
    "cloud     = ('cloud', (192.0, 192.0, 192.0), (106, 20, 34, 8))\n",
    "sun       = ('sun', (255.0, 140.0, 0.0), (66, 18, 7, 7)),"
   ]
  },
  {
   "cell_type": "code",
   "execution_count": null,
   "metadata": {
    "ExecuteTime": {
     "end_time": "2019-05-17T15:44:49.904494Z",
     "start_time": "2019-05-17T15:44:49.871280Z"
    }
   },
   "outputs": [],
   "source": [
    "# pp.pprint(dataset_test.image_info[20]['shapes'])\n",
    "pp.pprint(dataset_test.image_info[76]['shapes'])"
   ]
  },
  {
   "cell_type": "markdown",
   "metadata": {},
   "source": [
    "#### Image 18"
   ]
  },
  {
   "cell_type": "code",
   "execution_count": null,
   "metadata": {
    "ExecuteTime": {
     "end_time": "2019-04-07T15:40:33.508375Z",
     "start_time": "2019-04-07T15:40:33.459120Z"
    }
   },
   "outputs": [],
   "source": [
    "image_id = 18\n",
    "save_shapes = copy.copy(dataset_test.image_info[image_id]['shapes'])\n",
    "pp.pprint(save_shapes)"
   ]
  },
  {
   "cell_type": "code",
   "execution_count": null,
   "metadata": {
    "ExecuteTime": {
     "end_time": "2019-04-07T15:41:31.060096Z",
     "start_time": "2019-04-07T15:41:30.850258Z"
    }
   },
   "outputs": [],
   "source": [
    "# pp.pprint(save_shapes)\n",
    "# dataset_test.image_info[image_id]['shapes'] = save_shapes\n",
    "pp.pprint(dataset_test.image_info[image_id]['shapes'])\n",
    "\n",
    "\n",
    "# del dataset_test.image_info[image_id]['shapes'][0:2]\n",
    "# new_obj  = ('car', black, (64,64, 15, 7))\n",
    "# person = ('person', (139.0, 69.0, 19.0), (17, 92, 2, 10))\n",
    "## person = ('person', (240.0, 230.0, 140.0), (40, 92, 2, 10))\n",
    "\n",
    "new_obj = ('sun', (0.0, 0.0, 0.0), (7, 9, 4, 4))\n",
    "dataset_test.image_info[image_id]['shapes'].append(new_obj)\n",
    "\n",
    "pp.pprint(dataset_test.image_info[image_id]['shapes'])\n",
    "\n",
    "vis.display_image_gt(dataset_test, dataset_test.config, image_id, size=6, verbose = True)"
   ]
  },
  {
   "cell_type": "code",
   "execution_count": null,
   "metadata": {
    "ExecuteTime": {
     "end_time": "2019-04-07T15:41:18.286432Z",
     "start_time": "2019-04-07T15:41:18.221784Z"
    }
   },
   "outputs": [],
   "source": [
    "del dataset_test.image_info[image_id]['shapes'][0]\n",
    "\n",
    "vis.display_image_gt(dataset_test, dataset_test.config, image_id, size=6, verbose = True)"
   ]
  },
  {
   "cell_type": "code",
   "execution_count": null,
   "metadata": {
    "ExecuteTime": {
     "end_time": "2019-04-07T15:30:48.296684Z",
     "start_time": "2019-04-07T15:30:48.078619Z"
    }
   },
   "outputs": [],
   "source": [
    "# new_obj  = ('car', black, (cx, cy, 15, 7))\n",
    "new_obj = ('sun', (0.0, 0.0, 0.0), (67, 9, 4, 4))\n",
    "dataset_test.image_info[image_id]['shapes'].append(new_obj)\n",
    "\n",
    "vis.display_image_gt(dataset_test, dataset_test.config, image_id, size=6)\n",
    "\n",
    "del dataset_test.image_info[image_id]['shapes'][-1]\n",
    "vis.display_image_gt(dataset_test, dataset_test.config, image_id, size=6)"
   ]
  },
  {
   "cell_type": "code",
   "execution_count": null,
   "metadata": {
    "ExecuteTime": {
     "end_time": "2019-04-05T17:47:50.749061Z",
     "start_time": "2019-04-05T17:47:50.562506Z"
    }
   },
   "outputs": [],
   "source": [
    "dataset_test.image_info[image_id]['shapes'] = save_shapes\n",
    "vis.display_image_gt(dataset_test, dataset_test.config, image_id, size=6)"
   ]
  },
  {
   "cell_type": "markdown",
   "metadata": {},
   "source": [
    "#### Manipulate image 67"
   ]
  },
  {
   "cell_type": "code",
   "execution_count": null,
   "metadata": {
    "ExecuteTime": {
     "end_time": "2019-04-07T17:01:56.749159Z",
     "start_time": "2019-04-07T17:01:56.702412Z"
    }
   },
   "outputs": [],
   "source": [
    "image_id = 67\n",
    "# save_shapes = copy.copy(dataset_test.image_info[image_id]['shapes'])\n",
    "pp.pprint(save_shapes)"
   ]
  },
  {
   "cell_type": "code",
   "execution_count": null,
   "metadata": {
    "ExecuteTime": {
     "end_time": "2019-04-07T17:02:23.930374Z",
     "start_time": "2019-04-07T17:02:23.719753Z"
    }
   },
   "outputs": [],
   "source": [
    "# pp.pprint(save_shapes)\n",
    "# dataset_test.image_info[image_id]['shapes'] = save_shapes\n",
    "# del dataset_test.image_info[image_id]['shapes'][0:2]\n",
    "# new_obj  = ('car', black, (64,64, 15, 7))\n",
    "# person = ('person', (139.0, 69.0, 19.0), (17, 92, 2, 10))\n",
    "## person = ('person', (240.0, 230.0, 140.0), (40, 92, 2, 10))\n",
    "dataset_test.image_info[image_id]['shapes'].append(('airplane', (215.0, 217.0, 161.0), (31, 23, 16, 6)))\n",
    "\n",
    "\n",
    "pp.pprint(dataset_test.image_info[image_id]['shapes'])\n",
    "\n",
    "vis.display_image_gt(dataset_test, dataset_test.config, image_id, size=6, verbose = True)"
   ]
  },
  {
   "cell_type": "code",
   "execution_count": null,
   "metadata": {
    "ExecuteTime": {
     "end_time": "2019-04-07T16:28:48.913270Z",
     "start_time": "2019-04-07T16:28:48.710440Z"
    }
   },
   "outputs": [],
   "source": [
    "del dataset_test.image_info[image_id]['shapes'][:4]\n",
    "# new_obj = ('sun', (0.0, 0.0, 0.0), (7, 9, 4, 4))\n",
    "new_obj = ('building', (0.0, 0.0, 0.0), (4, 4, 16, 16))\n",
    "dataset_test.image_info[image_id]['shapes'].append(new_obj)\n",
    "vis.display_image_gt(dataset_test, dataset_test.config, image_id, size=6, verbose = True)"
   ]
  },
  {
   "cell_type": "code",
   "execution_count": null,
   "metadata": {
    "ExecuteTime": {
     "end_time": "2019-04-07T15:30:48.296684Z",
     "start_time": "2019-04-07T15:30:48.078619Z"
    }
   },
   "outputs": [],
   "source": [
    "# new_obj  = ('car', black, (cx, cy, 15, 7))\n",
    "new_obj = ('sun', (0.0, 0.0, 0.0), (67, 9, 4, 4))\n",
    "dataset_test.image_info[image_id]['shapes'].append(new_obj)\n",
    "\n",
    "vis.display_image_gt(dataset_test, dataset_test.config, image_id, size=6)\n",
    "\n",
    "del dataset_test.image_info[image_id]['shapes'][-1]\n",
    "vis.display_image_gt(dataset_test, dataset_test.config, image_id, size=6)"
   ]
  },
  {
   "cell_type": "code",
   "execution_count": null,
   "metadata": {
    "ExecuteTime": {
     "end_time": "2019-04-05T17:47:50.749061Z",
     "start_time": "2019-04-05T17:47:50.562506Z"
    }
   },
   "outputs": [],
   "source": [
    "dataset_test.image_info[image_id]['shapes'] = save_shapes\n",
    "vis.display_image_gt(dataset_test, dataset_test.config, image_id, size=6)"
   ]
  },
  {
   "cell_type": "markdown",
   "metadata": {},
   "source": [
    "#### Manipulate image 79"
   ]
  },
  {
   "cell_type": "code",
   "execution_count": null,
   "metadata": {
    "ExecuteTime": {
     "end_time": "2019-05-17T16:11:49.189605Z",
     "start_time": "2019-05-17T16:11:49.152184Z"
    }
   },
   "outputs": [],
   "source": [
    "image_id = 79\n",
    "save_shapes = copy.copy(dataset_test.image_info[image_id]['shapes'])\n",
    "pp.pprint(save_shapes)"
   ]
  },
  {
   "cell_type": "code",
   "execution_count": null,
   "metadata": {
    "ExecuteTime": {
     "end_time": "2019-05-17T16:11:51.543756Z",
     "start_time": "2019-05-17T16:11:51.349658Z"
    }
   },
   "outputs": [],
   "source": [
    "# new_obj  = ('car', black, (64,64, 15, 7))\n",
    "# person = ('person', (139.0, 69.0, 19.0), (17, 92, 2, 10))\n",
    "## person = ('person', (240.0, 230.0, 140.0), (40, 92, 2, 10))\n",
    "\n",
    "vis.display_image_gt(dataset_test, dataset_test.config, image_id, size=6, verbose = True)"
   ]
  },
  {
   "cell_type": "code",
   "execution_count": null,
   "metadata": {
    "ExecuteTime": {
     "end_time": "2019-05-17T16:11:54.186508Z",
     "start_time": "2019-05-17T16:11:53.997939Z"
    }
   },
   "outputs": [],
   "source": [
    "del dataset_test.image_info[image_id]['shapes'][0]\n",
    "vis.display_image_gt(dataset_test, dataset_test.config, image_id, size=6, verbose = True)"
   ]
  },
  {
   "cell_type": "code",
   "execution_count": null,
   "metadata": {
    "ExecuteTime": {
     "end_time": "2019-05-17T16:11:56.921204Z",
     "start_time": "2019-05-17T16:11:56.876479Z"
    }
   },
   "outputs": [],
   "source": [
    "new_obj  = ('car', black, (cx, cy, 15, 7))\n",
    "dataset_test.image_info[image_id]['shapes'].append(new_obj)\n",
    "vis.display_image_gt(dataset_test, dataset_test.config, image_id, size=6)\n",
    "\n",
    "del dataset_test.image_info[image_id]['shapes'][-1]\n",
    "vis.display_image_gt(dataset_test, dataset_test.config, image_id, size=6)"
   ]
  },
  {
   "cell_type": "code",
   "execution_count": null,
   "metadata": {
    "ExecuteTime": {
     "end_time": "2019-04-05T17:47:50.749061Z",
     "start_time": "2019-04-05T17:47:50.562506Z"
    }
   },
   "outputs": [],
   "source": [
    "dataset_test.image_info[image_id]['shapes'] = save_shapes\n",
    "vis.display_image_gt(dataset_test, dataset_test.config, image_id, size=6)"
   ]
  },
  {
   "cell_type": "markdown",
   "metadata": {},
   "source": [
    "## Image 77"
   ]
  },
  {
   "cell_type": "markdown",
   "metadata": {
    "heading_collapsed": true
   },
   "source": [
    "#### Manipulate image 77"
   ]
  },
  {
   "cell_type": "code",
   "execution_count": null,
   "metadata": {
    "ExecuteTime": {
     "end_time": "2019-05-17T15:16:41.324567Z",
     "start_time": "2019-05-17T15:16:41.289352Z"
    },
    "hidden": true
   },
   "outputs": [],
   "source": [
    "image_id = 77\n",
    "save_shapes_77 = copy.copy(dataset_test.image_info[image_id]['shapes'])\n",
    "pp.pprint(save_shapes_77)"
   ]
  },
  {
   "cell_type": "code",
   "execution_count": null,
   "metadata": {
    "ExecuteTime": {
     "end_time": "2019-05-17T15:16:44.527687Z",
     "start_time": "2019-05-17T15:16:43.991788Z"
    },
    "hidden": true
   },
   "outputs": [],
   "source": [
    "# pp.pprint(save_shapes)\n",
    "# dataset_test.image_info[image_id]['shapes'] = save_shapes\n",
    "# building  =  ('building', (7.0, 9.0, 197.0), (92, 60, 24, 20))\n",
    "pp.pprint(dataset_test.image_info[image_id]['shapes'])\n",
    "vis.display_image_gt(dataset_test, dataset_test.config, image_id, size=6, verbose = True)\n"
   ]
  },
  {
   "cell_type": "code",
   "execution_count": null,
   "metadata": {
    "ExecuteTime": {
     "end_time": "2019-05-13T15:33:34.375546Z",
     "start_time": "2019-05-13T15:33:34.161753Z"
    },
    "hidden": true
   },
   "outputs": [],
   "source": [
    "airplane = ('airplane', (200.0, 132.0, 126.0), (25, 23, 18, 7))\n",
    "car       = ('car', (150.0, 174.0, 8.0), (30, 93, 26, 12))\n",
    "truck     = ('truck', (213.0, 56.0, 119.0), (30, 93, 26, 13))\n",
    "small_car = ('car', (150.0, 174.0, 8.0), (100, 93, 20, 10))\n",
    "car       = ('car', (150.0, 174.0, 8.0), (95, 93, 28, 13))\n",
    "\n",
    "dataset_test.image_info[image_id]['shapes'] = []\n",
    "dataset_test.image_info[image_id]['shapes'].append(airplane)\n",
    "dataset_test.image_info[image_id]['shapes'].append(small_car)\n",
    "pp.pprint(dataset_test.image_info[image_id]['shapes'])\n",
    "vis.display_image_gt(dataset_test, dataset_test.config, image_id, size=6, verbose = True)\n",
    "\n",
    "# del dataset_test.image_info[image_id]['shapes'][-1]\n",
    "# dataset_test.image_info[image_id]['shapes'].append(truck)\n",
    "# vis.display_image_gt(dataset_test, dataset_test.config, image_id, size=6, verbose = True)\n",
    "\n",
    "# dataset_test.image_info[image_id]['shapes'][-1] = car\n",
    "# vis.display_image_gt(dataset_test, dataset_test.config, image_id, size=6, verbose = True)\n"
   ]
  },
  {
   "cell_type": "markdown",
   "metadata": {
    "heading_collapsed": true
   },
   "source": [
    "####  image 77 objects"
   ]
  },
  {
   "cell_type": "code",
   "execution_count": null,
   "metadata": {
    "ExecuteTime": {
     "end_time": "2019-04-16T17:56:06.664673Z",
     "start_time": "2019-04-16T17:56:06.617047Z"
    },
    "hidden": true
   },
   "outputs": [],
   "source": [
    "# del dataset_test.image_info[image_id]['shapes'][-1]\n",
    "# dataset_test.image_info[image_id]['shapes'].append(building)\n",
    "# vis.display_image_gt(dataset_test, dataset_test.config, image_id, size=6, verbose = True)"
   ]
  },
  {
   "cell_type": "code",
   "execution_count": null,
   "metadata": {
    "ExecuteTime": {
     "end_time": "2019-05-13T16:27:08.381835Z",
     "start_time": "2019-05-13T16:27:08.299149Z"
    },
    "hidden": true
   },
   "outputs": [],
   "source": [
    "airplane = ('airplane', (200.0, 132.0, 126.0), (25, 23, 18, 7))\n",
    "person    = ('person', (139.0, 69.0, 19.0), (17, 92, 2, 10))\n",
    "car       = ('car', (150.0, 174.0, 8.0), (87, 93, 24, 12))\n",
    "sun       = ('sun', (255.0, 215.0, 0.0), (49, 13, 6, 6))\n",
    "building  = ('building', (7.0, 9.0, 197.0), (92, 60, 24, 20))\n",
    "tree      = ('tree', (50.0, 205.0, 50.0), (100, 91, 12, 28))\n",
    "cloud     = ('cloud', (192.0, 192.0, 192.0), (106, 20, 34, 8))\n",
    "truck     = ('truck', (213.0, 56.0, 119.0), (80, 93, 39, 13))\n",
    "truck     = ('truck', (213.0, 56.0, 119.0), (80, 93, 30, 13))\n",
    "truck     = ('truck', (213.0, 56.0, 119.0), (30, 93, 26, 13))\n",
    "\n",
    "car       = ('car', (150.0, 174.0, 8.0), (87, 93, 26, 12))\n",
    "## smae place on the left of the image to avoid the building\n",
    "car       = ('car', (150.0, 174.0, 8.0), (30, 93, 26, 12))\n",
    "\n",
    "xsmall_car = ('car', (150.0, 174.0, 8.0),(95, 93, 15, 7)) \n",
    "small_car = ('car', (150.0, 174.0, 8.0), (95, 93, 20, 9))\n",
    "large_car = ('car', (150.0, 174.0, 8.0), (95, 93, 26, 12))\n",
    "\n",
    "xsmall_truck = ('truck', (150.0, 174.0, 8.0),(95, 93, 15, 7)) \n",
    "xsmall_sun   = ('sun', (150.0, 174.0, 8.0),(100, 93, 7, 7)) \n",
    "xsmall_building = ('building', (150.0, 174.0, 8.0),(100, 93, 7, 7)) \n",
    "cols = 9\n",
    "only = None"
   ]
  },
  {
   "cell_type": "markdown",
   "metadata": {
    "heading_collapsed": true
   },
   "source": [
    "####  Airplane and extra small car"
   ]
  },
  {
   "cell_type": "markdown",
   "metadata": {
    "heading_collapsed": true,
    "hidden": true
   },
   "source": [
    "#####  Airplane and extra small car (eval mode)"
   ]
  },
  {
   "cell_type": "code",
   "execution_count": null,
   "metadata": {
    "ExecuteTime": {
     "end_time": "2019-04-16T18:16:12.994323Z",
     "start_time": "2019-04-16T18:16:12.653169Z"
    },
    "hidden": true
   },
   "outputs": [],
   "source": [
    "# r = run_fcn_detection(fcn_model, mrcnn_model, dataset_test, image_id, verbose = False)  \n",
    "r = run_fcn_evaluation(fcn_model, mrcnn_model, dataset_test, image_id, verbose = False)  \n"
   ]
  },
  {
   "cell_type": "code",
   "execution_count": null,
   "metadata": {
    "ExecuteTime": {
     "end_time": "2019-04-16T18:17:15.823969Z",
     "start_time": "2019-04-16T18:17:13.843454Z"
    },
    "hidden": true,
    "scrolled": false
   },
   "outputs": [],
   "source": [
    "r = run_fcn_evaluation(fcn_model, mrcnn_model, dataset_test, image_id, verbose = False)  \n",
    "\n",
    "vis2.display_fcn_hm(vis2.normalize_all(r[0]['fcn_hm']), class_names, columns = cols, size = 8)\n",
    "vis2.display_fcn_scores_box_info(r[0]['fcn_scores'], r[0]['fcn_hm'], class_names, only = only)\n",
    "vis2.display_fcn_scores(r[0]['fcn_scores'], class_names, only = only)\n",
    "vis2.display_pr_fcn_style1(r[0], class_names)\n"
   ]
  },
  {
   "cell_type": "markdown",
   "metadata": {
    "heading_collapsed": true,
    "hidden": true
   },
   "source": [
    "#####  Airplane and extra small car"
   ]
  },
  {
   "cell_type": "code",
   "execution_count": null,
   "metadata": {
    "ExecuteTime": {
     "end_time": "2019-05-13T15:33:56.770677Z",
     "start_time": "2019-05-13T15:33:56.567066Z"
    },
    "hidden": true
   },
   "outputs": [],
   "source": [
    "dataset_test.image_info[image_id]['shapes'] = []\n",
    "dataset_test.image_info[image_id]['shapes'].append(airplane)\n",
    "dataset_test.image_info[image_id]['shapes'].append(xsmall_car)\n",
    "vis.display_image_gt(dataset_test, dataset_test.config, image_id, size=6, verbose = True)"
   ]
  },
  {
   "cell_type": "code",
   "execution_count": null,
   "metadata": {
    "ExecuteTime": {
     "end_time": "2019-05-13T15:34:43.316501Z",
     "start_time": "2019-05-13T15:34:39.210483Z"
    },
    "hidden": true
   },
   "outputs": [],
   "source": [
    "r = run_fcn_detection(fcn_model, mrcnn_model, dataset_test, image_id, verbose = False)  "
   ]
  },
  {
   "cell_type": "code",
   "execution_count": null,
   "metadata": {
    "ExecuteTime": {
     "end_time": "2019-05-13T15:57:36.690904Z",
     "start_time": "2019-05-13T15:57:35.143087Z"
    },
    "hidden": true,
    "scrolled": false
   },
   "outputs": [],
   "source": [
    "vis2.display_fcn_hm(vis2.normalize_all(r[0]['fcn_hm']), class_names, columns = 4, size = 4, classes = [1,2,3,4,5,6,7,8])\n",
    "vis2.display_fcn_scores_box_info(r[0]['fcn_scores'], r[0]['fcn_hm'], class_names)\n",
    "vis2.display_fcn_scores(r[0]['fcn_scores'], class_names, only = only)\n",
    "vis2.display_pr_fcn_style1(r[0], class_names)\n"
   ]
  },
  {
   "cell_type": "markdown",
   "metadata": {
    "heading_collapsed": true,
    "hidden": true
   },
   "source": [
    "#####  Airplane and extra small truck instead of xsmall car"
   ]
  },
  {
   "cell_type": "code",
   "execution_count": null,
   "metadata": {
    "ExecuteTime": {
     "end_time": "2019-05-13T16:27:46.265238Z",
     "start_time": "2019-05-13T16:27:46.071922Z"
    },
    "hidden": true
   },
   "outputs": [],
   "source": [
    "dataset_test.image_info[image_id]['shapes'] = []\n",
    "dataset_test.image_info[image_id]['shapes'].append(airplane)\n",
    "# dataset_test.image_info[image_id]['shapes'].append(xsmall_sun)\n",
    "vis.display_image_gt(dataset_test, dataset_test.config, image_id, size=6, verbose = True)"
   ]
  },
  {
   "cell_type": "code",
   "execution_count": null,
   "metadata": {
    "ExecuteTime": {
     "end_time": "2019-05-13T16:27:53.638450Z",
     "start_time": "2019-05-13T16:27:48.828986Z"
    },
    "hidden": true,
    "scrolled": false
   },
   "outputs": [],
   "source": [
    "r = run_fcn_detection(fcn_model, mrcnn_model, dataset_test, image_id, verbose = False)  \n",
    "\n",
    "vis2.display_fcn_input(vis2.normalize_all(r[0]['pr_hm']), class_names, columns = 8, size = 4, classes = [1,2,3,4,5,6,7,8])\n",
    "# vis2.display_fcn_output(r[0]['fcn_hm'], class_names, columns = 8, size = 4, classes = [1,2,3,4,5,6,7,8])\n",
    "vis2.display_fcn_output(vis2.normalize_all(r[0]['fcn_hm']), class_names, columns = 8, size = 4, classes = [1,2,3,4,5,6,7,8])\n",
    "vis2.display_fcn_scores_box_info(r[0]['fcn_scores'], r[0]['fcn_hm'], class_names)\n",
    "vis2.display_fcn_scores(r[0]['fcn_scores'], class_names, only = only)\n",
    "vis2.display_pr_fcn_style1(r[0], class_names)\n"
   ]
  },
  {
   "cell_type": "code",
   "execution_count": null,
   "metadata": {
    "ExecuteTime": {
     "end_time": "2019-05-13T16:29:37.979242Z",
     "start_time": "2019-05-13T16:29:37.779764Z"
    },
    "hidden": true
   },
   "outputs": [],
   "source": [
    "dataset_test.image_info[image_id]['shapes'] = []\n",
    "dataset_test.image_info[image_id]['shapes'].append(airplane)\n",
    "dataset_test.image_info[image_id]['shapes'].append(xsmall_building)\n",
    "vis.display_image_gt(dataset_test, dataset_test.config, image_id, size=6, verbose = True)"
   ]
  },
  {
   "cell_type": "code",
   "execution_count": null,
   "metadata": {
    "ExecuteTime": {
     "end_time": "2019-05-13T16:29:45.215754Z",
     "start_time": "2019-05-13T16:29:41.868125Z"
    },
    "hidden": true,
    "scrolled": false
   },
   "outputs": [],
   "source": [
    "r = run_fcn_detection(fcn_model, mrcnn_model, dataset_test, image_id, verbose = False)  \n",
    "\n",
    "vis2.display_fcn_input(vis2.normalize_all(r[0]['pr_hm']), class_names, columns = 8, size = 4, classes = [1,2,3,4,5,6,7,8])\n",
    "# vis2.display_fcn_output(r[0]['fcn_hm'], class_names, columns = 8, size = 4, classes = [1,2,3,4,5,6,7,8])\n",
    "vis2.display_fcn_output(vis2.normalize_all(r[0]['fcn_hm']), class_names, columns = 8, size = 4, classes = [1,2,3,4,5,6,7,8])\n",
    "vis2.display_fcn_scores_box_info(r[0]['fcn_scores'], r[0]['fcn_hm'], class_names)\n",
    "vis2.display_fcn_scores(r[0]['fcn_scores'], class_names, only = only)\n",
    "vis2.display_pr_fcn_style1(r[0], class_names)\n"
   ]
  },
  {
   "cell_type": "markdown",
   "metadata": {
    "heading_collapsed": true,
    "hidden": true
   },
   "source": [
    "#####  Airplane and small car"
   ]
  },
  {
   "cell_type": "code",
   "execution_count": null,
   "metadata": {
    "ExecuteTime": {
     "end_time": "2019-04-16T18:18:01.745318Z",
     "start_time": "2019-04-16T18:18:01.532922Z"
    },
    "hidden": true
   },
   "outputs": [],
   "source": [
    "dataset_test.image_info[image_id]['shapes'][-1] = small_car\n",
    "vis.display_image_gt(dataset_test, dataset_test.config, image_id, size=6, verbose = True)"
   ]
  },
  {
   "cell_type": "code",
   "execution_count": null,
   "metadata": {
    "ExecuteTime": {
     "end_time": "2019-04-16T18:18:06.777144Z",
     "start_time": "2019-04-16T18:18:06.442711Z"
    },
    "hidden": true
   },
   "outputs": [],
   "source": [
    "# r = run_fcn_detection(fcn_model, mrcnn_model, dataset_test, image_id, verbose = False)  \n",
    "r = run_fcn_evaluation(fcn_model, mrcnn_model, dataset_test, image_id, verbose = False)  "
   ]
  },
  {
   "cell_type": "code",
   "execution_count": null,
   "metadata": {
    "ExecuteTime": {
     "end_time": "2019-04-16T18:18:38.501218Z",
     "start_time": "2019-04-16T18:18:36.498874Z"
    },
    "hidden": true,
    "scrolled": false
   },
   "outputs": [],
   "source": [
    "vis2.display_fcn_hm(vis2.normalize_all(r[0]['fcn_hm']), class_names, columns = cols, size = 8)\n",
    "vis2.display_fcn_scores_box_info(r[0]['fcn_scores'], r[0]['fcn_hm'], class_names, only = only)\n",
    "vis2.display_fcn_scores(r[0]['fcn_scores'], class_names, only = only)\n",
    "vis2.display_pr_fcn_style1(r[0], class_names)"
   ]
  },
  {
   "cell_type": "markdown",
   "metadata": {
    "heading_collapsed": true,
    "hidden": true
   },
   "source": [
    "##### Airplane and large car"
   ]
  },
  {
   "cell_type": "code",
   "execution_count": null,
   "metadata": {
    "ExecuteTime": {
     "end_time": "2019-04-16T18:21:06.438468Z",
     "start_time": "2019-04-16T18:21:06.220756Z"
    },
    "hidden": true
   },
   "outputs": [],
   "source": [
    "dataset_test.image_info[image_id]['shapes'][-1] = large_car\n",
    "vis.display_image_gt(dataset_test, dataset_test.config, image_id, size=6, verbose = True)"
   ]
  },
  {
   "cell_type": "code",
   "execution_count": null,
   "metadata": {
    "ExecuteTime": {
     "end_time": "2019-04-16T18:21:08.908536Z",
     "start_time": "2019-04-16T18:21:08.578960Z"
    },
    "hidden": true
   },
   "outputs": [],
   "source": [
    "# r = run_fcn_detection(fcn_model, mrcnn_model, dataset_test, image_id, verbose = False)  \n",
    "r = run_fcn_evaluation(fcn_model, mrcnn_model, dataset_test, image_id, verbose = False)  "
   ]
  },
  {
   "cell_type": "code",
   "execution_count": null,
   "metadata": {
    "ExecuteTime": {
     "end_time": "2019-04-16T18:21:11.639239Z",
     "start_time": "2019-04-16T18:21:11.138683Z"
    },
    "hidden": true,
    "scrolled": false
   },
   "outputs": [],
   "source": [
    "vis2.display_fcn_hm(vis2.normalize_all(r[0]['fcn_hm']), class_names, columns = cols, size = 8, classes = [2])\n",
    "vis2.display_fcn_scores_box_info(r[0]['fcn_scores'], r[0]['fcn_hm'], class_names, only = only)\n",
    "vis2.display_fcn_scores(r[0]['fcn_scores'], class_names, only = only)\n",
    "vis2.display_pr_fcn_style1(r[0], class_names)"
   ]
  },
  {
   "cell_type": "markdown",
   "metadata": {
    "heading_collapsed": true,
    "hidden": true
   },
   "source": [
    "##### "
   ]
  },
  {
   "cell_type": "code",
   "execution_count": null,
   "metadata": {
    "ExecuteTime": {
     "end_time": "2019-04-09T10:58:31.139553Z",
     "start_time": "2019-04-09T10:58:08.225566Z"
    },
    "hidden": true,
    "scrolled": true
   },
   "outputs": [],
   "source": [
    "print(image_id)\n",
    "small_car = ('car', (150.0, 174.0, 8.0), (100, 93, 20, 10))\n",
    "cx = 100\n",
    "\n",
    "dataset_test.image_info[image_id]['shapes'] = []\n",
    "dataset_test.image_info[image_id]['shapes'].append(airplane)\n",
    "dataset_test.image_info[image_id]['shapes'].append(small_car)\n",
    "vis.display_image_gt(dataset_test, dataset_test.config, image_id, size=6, verbose = True)\n",
    "only = [2,7]\n",
    "for cy in range(10, 100, 10):    \n",
    "    small_car = ('car', (150.0, 174.0, 8.0), (cx, cy, 20, 10))\n",
    "    dataset_test.image_info[image_id]['shapes'][-1] = small_car\n",
    "    vis.display_image_gt(dataset_test, dataset_test.config, image_id, size=6, verbose = True)    \n",
    "    r = run_fcn_detection(fcn_model, mrcnn_model, dataset_test, image_id, verbose = False)  \n",
    "    vis2.display_fcn_hm(vis2.normalize_all(r[0]['fcn_hm'][1:]), class_names, columns = cols, size = 8)\n",
    "    vis2.display_fcn_scores_box_info(r[0]['fcn_scores'], r[0]['fcn_hm'], class_names,only = only)\n",
    "\n",
    "#     r = fcn_results[0]\n",
    "#     vis2.display_fcn_hm(vis2.normalize_all(r['fcn_hm'][...,:3]), class_names, columns = 3, size = 8)"
   ]
  },
  {
   "cell_type": "markdown",
   "metadata": {
    "heading_collapsed": true
   },
   "source": [
    "###  Image 77 - consider contextual realtions between Airplane  and --> { Building, Car , Truck}\n",
    "\n",
    "We know that {Airplane, Truck} and {Car, Building}are mutually exclusive. Evaluate the effect of inserting an out of context object into an image containing a car, or truck, or building"
   ]
  },
  {
   "cell_type": "markdown",
   "metadata": {
    "hidden": true
   },
   "source": [
    "####  Image 77 : Airplane alone"
   ]
  },
  {
   "cell_type": "code",
   "execution_count": null,
   "metadata": {
    "ExecuteTime": {
     "end_time": "2019-05-19T14:41:38.960255Z",
     "start_time": "2019-05-19T14:41:38.923222Z"
    },
    "hidden": true
   },
   "outputs": [],
   "source": [
    "image_id = 77 \n",
    "cols = 8\n",
    "classes = [1,2,3,4,5,6,7,8]\n",
    "airplane = ('airplane', (200.0, 132.0, 126.0), (25, 30, 18, 7))\n",
    "large_car = ('car', (150.0, 174.0, 8.0), (95, 93, 26, 12))\n"
   ]
  },
  {
   "cell_type": "code",
   "execution_count": null,
   "metadata": {
    "ExecuteTime": {
     "end_time": "2019-05-19T14:41:44.948922Z",
     "start_time": "2019-05-19T14:41:42.558828Z"
    },
    "hidden": true,
    "scrolled": false
   },
   "outputs": [],
   "source": [
    "dataset_test.image_info[image_id]['shapes'] = []\n",
    "dataset_test.image_info[image_id]['shapes'].append(airplane)\n",
    "vis.display_image_gt(dataset_test, dataset_test.config, image_id, size=6, verbose = True)\n",
    "\n",
    "r = run_fcn_evaluation(fcn_model, mrcnn_model, dataset_test, image_id, verbose = False)  \n",
    "\n",
    "vis2.display_fcn_hm(vis2.normalize_all(r[0]['fcn_hm']), class_names, columns = cols, size = 8, classes = classes)\n",
    "vis2.display_fcn_scores_box_info(r[0]['fcn_scores'], r[0]['fcn_hm'], class_names, only = None)\n",
    "vis2.display_fcn_scores_box_info2(r[0]['fcn_scores'], r[0]['fcn_hm'], class_names, only = None)\n",
    "vis2.display_pr_fcn_scores(r[0], class_names)"
   ]
  },
  {
   "cell_type": "code",
   "execution_count": null,
   "metadata": {
    "ExecuteTime": {
     "end_time": "2019-05-17T14:26:45.186437Z",
     "start_time": "2019-05-17T14:26:42.860042Z"
    },
    "hidden": true
   },
   "outputs": [],
   "source": [
    "dataset_test.image_info[image_id]['shapes'] = []\n",
    "dataset_test.image_info[image_id]['shapes'].append(large_car)\n",
    "vis.display_image_gt(dataset_test, dataset_test.config, image_id, size=6, verbose = True)\n",
    "\n",
    "# r = run_fcn_detection(fcn_model, mrcnn_model, dataset_test, image_id, verbose = False)  \n",
    "r = run_fcn_evaluation(fcn_model, mrcnn_model, dataset_test, image_id, verbose = False)  \n",
    "\n",
    "vis2.display_fcn_hm(vis2.normalize_all(r[0]['fcn_hm']), class_names, columns = cols, size = 8, classes = classes)\n",
    "vis2.display_fcn_scores_box_info(r[0]['fcn_scores'], r[0]['fcn_hm'], class_names)\n",
    "vis2.display_fcn_scores_box_info2(r[0]['fcn_scores'], r[0]['fcn_hm'], class_names)\n",
    "vis2.display_pr_fcn_scores(r[0], class_names)"
   ]
  },
  {
   "cell_type": "code",
   "execution_count": null,
   "metadata": {
    "ExecuteTime": {
     "end_time": "2019-05-17T14:26:02.148173Z",
     "start_time": "2019-05-17T14:26:01.604693Z"
    },
    "hidden": true
   },
   "outputs": [],
   "source": [
    "# truck     = ('truck', (213.0, 56.0, 119.0), (95, 93, 24, 12)) \n",
    "truck     = ('truck', (213.0, 56.0, 119.0), (95, 93, 24, 10)) \n",
    "\n",
    "dataset_test.image_info[image_id]['shapes'] = []\n",
    "dataset_test.image_info[image_id]['shapes'].append(truck)\n",
    "vis.display_image_gt(dataset_test, dataset_test.config, image_id, size=6, verbose = True)\n",
    "\n",
    "r = run_fcn_evaluation(fcn_model, mrcnn_model, dataset_test, image_id, verbose = False)  \n",
    "\n",
    "# vis2.display_fcn_hm(vis2.normalize_all(r[0]['fcn_hm']), class_names, columns = cols, size = 8, classes = classes )\n",
    "\n",
    "vis2.display_fcn_scores_box_info(r[0]['fcn_scores'], r[0]['fcn_hm'], class_names, only = only)\n",
    "vis2.display_fcn_scores_box_info2(r[0]['fcn_scores'], r[0]['fcn_hm'], class_names, only = only)\n",
    "vis2.display_pr_fcn_scores(r[0], class_names)\n"
   ]
  },
  {
   "cell_type": "code",
   "execution_count": null,
   "metadata": {
    "ExecuteTime": {
     "end_time": "2019-05-17T14:49:00.485303Z",
     "start_time": "2019-05-17T14:48:58.057200Z"
    },
    "hidden": true,
    "scrolled": false
   },
   "outputs": [],
   "source": [
    "\n",
    "dataset_test.image_info[image_id]['shapes'] = []\n",
    "dataset_test.image_info[image_id]['shapes'].append(large_car)\n",
    "dataset_test.image_info[image_id]['shapes'].append(airplane)\n",
    "vis.display_image_gt(dataset_test, dataset_test.config, image_id, size=6, verbose = True)\n",
    "\n",
    "# r = run_fcn_detection(fcn_model, mrcnn_model, dataset_test, image_id, verbose = False)  \n",
    "r = run_fcn_evaluation(fcn_model, mrcnn_model, dataset_test, image_id, verbose = False) \n",
    "\n",
    "vis2.display_fcn_hm(vis2.normalize_all(r[0]['fcn_hm']), class_names, columns = cols, size = 8, classes = classes)\n",
    "\n",
    "vis2.display_fcn_scores_box_info(r[0]['fcn_scores'], r[0]['fcn_hm'], class_names, only = only)\n",
    "vis2.display_fcn_scores_box_info2(r[0]['fcn_scores'], r[0]['fcn_hm'], class_names, only = only)\n",
    "vis2.display_pr_fcn_scores(r[0], class_names)"
   ]
  },
  {
   "cell_type": "code",
   "execution_count": null,
   "metadata": {
    "ExecuteTime": {
     "end_time": "2019-05-17T14:23:06.979160Z",
     "start_time": "2019-05-17T14:23:04.050266Z"
    },
    "hidden": true,
    "scrolled": true
   },
   "outputs": [],
   "source": [
    "dataset_test.image_info[image_id]['shapes'] = []\n",
    "dataset_test.image_info[image_id]['shapes'].append(truck)\n",
    "dataset_test.image_info[image_id]['shapes'].append(airplane)\n",
    "vis.display_image_gt(dataset_test, dataset_test.config, image_id, size=6, verbose = True)\n",
    "\n",
    "# r = run_fcn_detection(fcn_model, mrcnn_model, dataset_test, image_id, verbose = False)  \n",
    "r = run_fcn_evaluation(fcn_model, mrcnn_model, dataset_test, image_id, verbose = False) \n",
    "\n",
    "vis2.display_fcn_hm(vis2.normalize_all(r[0]['fcn_hm']), class_names, columns = cols, size = 8, classes = classes)\n",
    "vis2.display_fcn_scores_box_info(r[0]['fcn_scores'], r[0]['fcn_hm'], class_names, only = only)\n",
    "vis2.display_fcn_scores_box_info2(r[0]['fcn_scores'], class_names, r[0]['fcn_hm'], only = only)\n",
    "vis2.display_pr_fcn_scores(r[0], class_names)"
   ]
  },
  {
   "cell_type": "code",
   "execution_count": null,
   "metadata": {
    "ExecuteTime": {
     "end_time": "2019-05-19T14:38:22.496881Z",
     "start_time": "2019-05-19T14:38:13.584863Z"
    },
    "hidden": true,
    "scrolled": false
   },
   "outputs": [],
   "source": [
    "classes = [1,2,3,4,5,6,7,8]\n",
    "vis2.display_fcn_agg_heatmaps(fcn_agg_hm_clipped, gt_cls_counts, dt_cls_counts, class_names, columns =colscv, title = ttl +'- CLIPPED TO 0 ', classes = classes)\n",
    "vis2.display_fcn_agg_heatmaps(fcn_agg_hm, gt_cls_counts, dt_cls_counts, class_names, columns = cols, title = ttl +'- RAW DATA ', norm = False, classes = classes)\n",
    "vis2.display_fcn_agg_heatmaps(vis2.normalize_fcn_hm(fcn_agg_hm), gt_cls_counts, dt_cls_counts, class_names, columns = cols, title = ttl +'- NORMALIZED PER CLASS ', classes = classes)\n",
    "vis2.display_fcn_agg_heatmaps(vis2.normalize_all(fcn_agg_hm), gt_cls_counts, dt_cls_counts, class_names, columns = cols, title = ttl +'- NORMALIZED ACROSS ALL CLASSES ', classes = classes)"
   ]
  },
  {
   "cell_type": "markdown",
   "metadata": {
    "heading_collapsed": true
   },
   "source": [
    "###  Image 77 : Car and Person in /out of context"
   ]
  },
  {
   "cell_type": "code",
   "execution_count": null,
   "metadata": {
    "ExecuteTime": {
     "end_time": "2019-05-19T14:51:55.763226Z",
     "start_time": "2019-05-19T14:51:55.713224Z"
    },
    "hidden": true
   },
   "outputs": [],
   "source": [
    "# airplane  = ('airplane', (200.0, 132.0, 126.0), (25 , 30, 18,  7))\n",
    "# person    = ('person'  , (139.0, 69.0, 19.0)  , (17 , 92,  2, 10))\n",
    "# car       = ('car'     , (150.0, 174.0, 8.0)  , (87 , 93, 24, 12))\n",
    "# sun       = ('sun'     , (255.0, 215.0, 0.0)  , (49 , 13,  6,  6))\n",
    "# building  = ('building', (7.0, 9.0, 197.0)    , (92 , 60, 24, 20))\n",
    "# tree      = ('tree'    , (50.0, 205.0, 50.0)  , (100, 91, 12, 28))\n",
    "# cloud     = ('cloud'   , (192.0, 192.0, 192.0), (106, 20, 34,  8))\n",
    "# truck     = ('truck'   , (213.0, 56.0, 119.0) , (80 , 93, 39, 13))\n",
    "# large_car = ('car'     , (150.0, 174.0, 8.0)  , (95 , 93, 24, 12))\n",
    "\n",
    "cx = 30\n",
    "cy = 90\n",
    "airplane  = ('airplane', (200.0, 132.0, 126.0), (cx , cy, 18,  7))\n",
    "person    = ('person'  , (139.0, 69.0, 19.0)  , (cx , cy,  2, 10))\n",
    "car       = ('car'     , (150.0, 174.0, 8.0)  , (cx , cy, 24, 12))\n",
    "sun       = ('sun'     , (255.0, 215.0, 0.0)  , (cx , cy,  6,  6))\n",
    "building  = ('building', (7.0, 9.0, 197.0)    , (cx , cy, 24, 20))\n",
    "tree      = ('tree'    , (50.0, 205.0, 50.0)  , (cx , cy, 12, 28))\n",
    "cloud     = ('cloud'   , (192.0, 192.0, 192.0), (cx , cy, 34,  8))\n",
    "truck     = ('truck'   , (213.0, 56.0, 119.0) , (cx , cy, 39, 13))\n",
    "large_car = ('car'     , (150.0, 174.0, 8.0)  , (60 , 90, 24, 12))"
   ]
  },
  {
   "cell_type": "markdown",
   "metadata": {
    "hidden": true
   },
   "source": [
    "####  Car alone"
   ]
  },
  {
   "cell_type": "code",
   "execution_count": null,
   "metadata": {
    "ExecuteTime": {
     "end_time": "2019-05-19T14:59:29.497817Z",
     "start_time": "2019-05-19T14:59:27.062367Z"
    },
    "hidden": true,
    "scrolled": false
   },
   "outputs": [],
   "source": [
    "only = None\n",
    "classes = [1,2,3,4,5,6,7,8]\n",
    "dataset_test.image_info[image_id]['shapes'] = []\n",
    "\n",
    "dataset_test.image_info[image_id]['shapes'].append(large_car)\n",
    "vis.display_image_gt(dataset_test, dataset_test.config, image_id, size=6, verbose = True)\n",
    "r = run_fcn_evaluation(fcn_model, mrcnn_model, dataset_test, image_id, verbose = False)  \n",
    "\n",
    "vis2.display_fcn_hm(vis2.normalize_all(r[0]['fcn_hm']), class_names, columns = cols, size = 8, classes = classes)\n",
    "vis2.display_fcn_scores_box_info(r[0]['fcn_scores'], r[0]['fcn_hm'], class_names, only = only)\n",
    "vis2.display_pr_fcn_scores(r[0], class_names)"
   ]
  },
  {
   "cell_type": "markdown",
   "metadata": {
    "hidden": true
   },
   "source": [
    "#### Add person around car at different locations"
   ]
  },
  {
   "cell_type": "code",
   "execution_count": null,
   "metadata": {
    "ExecuteTime": {
     "end_time": "2019-05-19T15:06:08.656508Z",
     "start_time": "2019-05-19T15:06:00.764179Z"
    },
    "hidden": true,
    "scrolled": false
   },
   "outputs": [],
   "source": [
    "for cx in [6,16, 26]:\n",
    "# person    = ('person'  , (139.0, 69.0, 19.0)  , (60 - 34 , 90,  2, 10))\n",
    "    person    = ('person'  , (139.0, 69.0, 19.0)  , (cx , 90,  2, 10))\n",
    "    dataset_test.image_info[image_id]['shapes'][-1] = person\n",
    "    vis.display_image_gt(dataset_test, dataset_test.config, image_id, size=6, verbose = True)\n",
    "    # vis2.display_gt_bboxes(dataset_test, dataset_test.config, image_id, size=6)\n",
    "    r = run_fcn_evaluation(fcn_model, mrcnn_model, dataset_test, image_id, verbose = False)  \n",
    "    vis2.display_fcn_hm(vis2.normalize_all(r[0]['fcn_hm']), class_names, columns = cols, size = 8, classes = classes)\n",
    "    vis2.display_fcn_scores_box_info(r[0]['fcn_scores'], r[0]['fcn_hm'], class_names,only = [1])\n",
    "    vis2.display_pr_fcn_scores(r[0], class_names)"
   ]
  },
  {
   "cell_type": "code",
   "execution_count": null,
   "metadata": {
    "ExecuteTime": {
     "end_time": "2019-05-19T15:03:35.461683Z",
     "start_time": "2019-05-19T15:03:33.141381Z"
    },
    "hidden": true
   },
   "outputs": [],
   "source": [
    "person    = ('person'  , (139.0, 69.0, 19.0)  , (60 + 34 , 90,  2, 10))\n",
    "dataset_test.image_info[image_id]['shapes'][-1] = person\n",
    "vis.display_image_gt(dataset_test, dataset_test.config, image_id, size=6, verbose = True)\n",
    "# vis2.display_gt_bboxes(dataset_test, dataset_test.config, image_id, size=6)\n",
    "\n",
    "r = run_fcn_evaluation(fcn_model, mrcnn_model, dataset_test, image_id, verbose = False)  \n",
    "vis2.display_fcn_hm(vis2.normalize_all(r[0]['fcn_hm']), class_names, columns = cols, size = 8, classes = classes)\n",
    "vis2.display_fcn_scores_box_info(r[0]['fcn_scores'], r[0]['fcn_hm'], class_names,only = [1])\n",
    "vis2.display_pr_fcn_scores(r[0], class_names)"
   ]
  },
  {
   "cell_type": "code",
   "execution_count": null,
   "metadata": {
    "ExecuteTime": {
     "end_time": "2019-04-16T20:40:03.205648Z",
     "start_time": "2019-04-16T20:39:45.343608Z"
    },
    "hidden": true
   },
   "outputs": [],
   "source": [
    "dataset_test.image_info[image_id]['shapes'][-1] = sun\n",
    "vis.display_image_gt(dataset_test, dataset_test.config, image_id, size=6, verbose = True)\n",
    "r = run_fcn_evaluation(fcn_model, mrcnn_model, dataset_test, image_id, verbose = False)  \n",
    "vis2.display_fcn_hm(vis2.normalize_all(r[0]['fcn_hm'][1:]), class_names, columns = cols, size = 8)\n",
    "vis2.display_fcn_scores_box_info(r[0]['fcn_scores'], r[0]['fcn_hm'], class_names,only = only)\n",
    "vis2.display_pr_fcn_scores(r[0], class_names)\n",
    "\n",
    "dataset_test.image_info[image_id]['shapes'][-1] = building\n",
    "vis.display_image_gt(dataset_test, dataset_test.config, image_id, size=6, verbose = True)\n",
    "r = run_fcn_evaluation(fcn_model, mrcnn_model, dataset_test, image_id, verbose = False)  \n",
    "vis2.display_fcn_hm(vis2.normalize_all(r[0]['fcn_hm']), class_names, columns = cols, size = 8)\n",
    "vis2.display_fcn_scores_box_info(r[0]['fcn_scores'], r[0]['fcn_hm'], class_names)\n",
    "vis2.display_pr_fcn_scores(r[0], class_names)\n",
    "\n",
    "dataset_test.image_info[image_id]['shapes'][-1] = tree\n",
    "vis.display_image_gt(dataset_test, dataset_test.config, image_id, size=6, verbose = True)\n",
    "r = run_fcn_evaluation(fcn_model, mrcnn_model, dataset_test, image_id, verbose = False)  \n",
    "vis2.display_fcn_hm(vis2.normalize_all(r[0]['fcn_hm']), class_names, columns = cols, size = 8)\n",
    "vis2.display_fcn_scores_box_info(r[0]['fcn_scores'], r[0]['fcn_hm'], class_names,only = only)\n",
    "vis2.display_pr_fcn_scores(r[0], class_names)\n",
    "\n",
    "dataset_test.image_info[image_id]['shapes'][-1] = cloud\n",
    "vis.display_image_gt(dataset_test, dataset_test.config, image_id, size=6, verbose = True)\n",
    "r = run_fcn_evaluation(fcn_model, mrcnn_model, dataset_test, image_id, verbose = False)  \n",
    "vis2.display_fcn_hm(vis2.normalize_all(r[0]['fcn_hm']), class_names, columns = cols, size = 8)\n",
    "vis2.display_fcn_scores_box_info(r[0]['fcn_scores'], r[0]['fcn_hm'], class_names,only = only)\n",
    "vis2.display_pr_fcn_scores(r[0], class_names)\n",
    "\n",
    "dataset_test.image_info[image_id]['shapes'][-1] = airplane\n",
    "vis.display_image_gt(dataset_test, dataset_test.config, image_id, size=6, verbose = True)\n",
    "r = run_fcn_evaluation(fcn_model, mrcnn_model, dataset_test, image_id, verbose = False)  \n",
    "vis2.display_fcn_hm(vis2.normalize_all(r[0]['fcn_hm']), class_names, columns = cols, size = 8)\n",
    "vis2.display_fcn_scores_box_info(r[0]['fcn_scores'], r[0]['fcn_hm'], class_names,only = only)\n",
    "vis2.display_pr_fcn_scores(r[0], class_names)\n",
    "\n",
    "dataset_test.image_info[image_id]['shapes'][-1] = truck\n",
    "vis.display_image_gt(dataset_test, dataset_test.config, image_id, size=6, verbose = True)\n",
    "r = run_fcn_evaluation(fcn_model, mrcnn_model, dataset_test, image_id, verbose = False)  \n",
    "vis2.display_fcn_hm(vis2.normalize_all(r[0]['fcn_hm']), class_names, columns = cols, size = 8)\n",
    "vis2.display_fcn_scores_box_info(r[0]['fcn_scores'], r[0]['fcn_hm'], class_names,only = only)\n",
    "vis2.display_pr_fcn_scores(r[0], class_names)\n",
    "\n",
    "# dataset_test.image_info[image_id]['shapes'][-1] = car\n",
    "# vis.display_image_gt(dataset_test, dataset_test.config, image_id, size=6, verbose = True)\n",
    "# r = run_fcn_evaluation(fcn_model, mrcnn_model, dataset_test, image_id, verbose = False)  \n",
    "# vis2.display_fcn_hm(vis2.normalize_all(r[0]['fcn_hm'][1:]), class_names, columns = cols, size = 8)\n",
    "# vis2.display_fcn_scores_box_info(r[0]['fcn_scores'], r[0]['fcn_hm'], class_names,only = only)"
   ]
  },
  {
   "cell_type": "code",
   "execution_count": null,
   "metadata": {
    "ExecuteTime": {
     "end_time": "2019-04-16T20:40:03.205648Z",
     "start_time": "2019-04-16T20:39:45.343608Z"
    },
    "hidden": true,
    "scrolled": true
   },
   "outputs": [],
   "source": [
    "del dataset_test.image_info[image_id]['shapes'][-1]\n",
    "vis.display_image_gt(dataset_test, dataset_test.config, image_id, size=6, verbose = True)"
   ]
  },
  {
   "cell_type": "markdown",
   "metadata": {
    "heading_collapsed": true
   },
   "source": [
    "###  Image 77 : Car and other objects "
   ]
  },
  {
   "cell_type": "code",
   "execution_count": null,
   "metadata": {
    "ExecuteTime": {
     "end_time": "2019-05-19T14:46:06.472650Z",
     "start_time": "2019-05-19T14:46:06.426319Z"
    },
    "hidden": true
   },
   "outputs": [],
   "source": [
    "# airplane  = ('airplane', (200.0, 132.0, 126.0), (25 , 30, 18,  7))\n",
    "# person    = ('person'  , (139.0, 69.0, 19.0)  , (17 , 92,  2, 10))\n",
    "# car       = ('car'     , (150.0, 174.0, 8.0)  , (87 , 93, 24, 12))\n",
    "# sun       = ('sun'     , (255.0, 215.0, 0.0)  , (49 , 13,  6,  6))\n",
    "# building  = ('building', (7.0, 9.0, 197.0)    , (92 , 60, 24, 20))\n",
    "# tree      = ('tree'    , (50.0, 205.0, 50.0)  , (100, 91, 12, 28))\n",
    "# cloud     = ('cloud'   , (192.0, 192.0, 192.0), (106, 20, 34,  8))\n",
    "# truck     = ('truck'   , (213.0, 56.0, 119.0) , (80 , 93, 39, 13))\n",
    "# large_car = ('car'     , (150.0, 174.0, 8.0)  , (95 , 93, 24, 12))\n",
    "\n",
    "cx = 30\n",
    "cy = 90\n",
    "airplane  = ('airplane', (200.0, 132.0, 126.0), (cx , cy, 18,  7))\n",
    "person    = ('person'  , (139.0, 69.0, 19.0)  , (cx , cy,  2, 10))\n",
    "car       = ('car'     , (150.0, 174.0, 8.0)  , (cx , cy, 24, 12))\n",
    "sun       = ('sun'     , (255.0, 215.0, 0.0)  , (cx , cy,  6,  6))\n",
    "building  = ('building', (7.0, 9.0, 197.0)    , (cx , cy, 24, 20))\n",
    "tree      = ('tree'    , (50.0, 205.0, 50.0)  , (cx , cy, 12, 28))\n",
    "cloud     = ('cloud'   , (192.0, 192.0, 192.0), (cx , cy, 34,  8))\n",
    "truck     = ('truck'   , (213.0, 56.0, 119.0) , (cx , cy, 39, 13))\n",
    "large_car = ('car'     , (150.0, 174.0, 8.0)  , (60 , 93, 24, 12))"
   ]
  },
  {
   "cell_type": "code",
   "execution_count": null,
   "metadata": {
    "ExecuteTime": {
     "end_time": "2019-05-19T14:46:09.893239Z",
     "start_time": "2019-05-19T14:46:07.549377Z"
    },
    "hidden": true,
    "scrolled": false
   },
   "outputs": [],
   "source": [
    "only = None\n",
    "classes = [1,2,3,4,5,6,7,8]\n",
    "dataset_test.image_info[image_id]['shapes'] = []\n",
    "\n",
    "dataset_test.image_info[image_id]['shapes'].append(large_car)\n",
    "vis.display_image_gt(dataset_test, dataset_test.config, image_id, size=6, verbose = True)\n",
    "r = run_fcn_evaluation(fcn_model, mrcnn_model, dataset_test, image_id, verbose = False)  \n",
    "\n",
    "vis2.display_fcn_hm(vis2.normalize_all(r[0]['fcn_hm']), class_names, columns = cols, size = 8, classes = classes)\n",
    "vis2.display_fcn_scores_box_info(r[0]['fcn_scores'], r[0]['fcn_hm'], class_names, only = only)\n",
    "vis2.display_pr_fcn_scores(r[0], class_names)"
   ]
  },
  {
   "cell_type": "code",
   "execution_count": null,
   "metadata": {
    "ExecuteTime": {
     "end_time": "2019-04-16T20:40:03.205648Z",
     "start_time": "2019-04-16T20:39:45.343608Z"
    },
    "hidden": true,
    "scrolled": true
   },
   "outputs": [],
   "source": [
    "dataset_test.image_info[image_id]['shapes'].append(person)\n",
    "\n",
    "vis.display_image_gt(dataset_test, dataset_test.config, image_id, size=6, verbose = True)\n",
    "r = run_fcn_evaluation(fcn_model, mrcnn_model, dataset_test, image_id, verbose = False)  \n",
    "vis2.display_fcn_hm(vis2.normalize_all(r[0]['fcn_hm']), class_names, columns = cols, size = 8)\n",
    "vis2.display_fcn_scores_box_info(r[0]['fcn_scores'], r[0]['fcn_hm'], class_names,only = only)\n",
    "vis2.display_pr_fcn_scores(r[0], class_names)\n",
    "\n",
    "dataset_test.image_info[image_id]['shapes'][-1] = sun\n",
    "vis.display_image_gt(dataset_test, dataset_test.config, image_id, size=6, verbose = True)\n",
    "r = run_fcn_evaluation(fcn_model, mrcnn_model, dataset_test, image_id, verbose = False)  \n",
    "vis2.display_fcn_hm(vis2.normalize_all(r[0]['fcn_hm'][1:]), class_names, columns = cols, size = 8)\n",
    "vis2.display_fcn_scores_box_info(r[0]['fcn_scores'], r[0]['fcn_hm'], class_names,only = only)\n",
    "vis2.display_pr_fcn_scores(r[0], class_names)\n",
    "\n",
    "dataset_test.image_info[image_id]['shapes'][-1] = building\n",
    "vis.display_image_gt(dataset_test, dataset_test.config, image_id, size=6, verbose = True)\n",
    "r = run_fcn_evaluation(fcn_model, mrcnn_model, dataset_test, image_id, verbose = False)  \n",
    "vis2.display_fcn_hm(vis2.normalize_all(r[0]['fcn_hm']), class_names, columns = cols, size = 8)\n",
    "vis2.display_fcn_scores_box_info(r[0]['fcn_scores'], r[0]['fcn_hm'], class_names)\n",
    "vis2.display_pr_fcn_scores(r[0], class_names)\n",
    "\n",
    "dataset_test.image_info[image_id]['shapes'][-1] = tree\n",
    "vis.display_image_gt(dataset_test, dataset_test.config, image_id, size=6, verbose = True)\n",
    "r = run_fcn_evaluation(fcn_model, mrcnn_model, dataset_test, image_id, verbose = False)  \n",
    "vis2.display_fcn_hm(vis2.normalize_all(r[0]['fcn_hm']), class_names, columns = cols, size = 8)\n",
    "vis2.display_fcn_scores_box_info(r[0]['fcn_scores'], r[0]['fcn_hm'], class_names,only = only)\n",
    "vis2.display_pr_fcn_scores(r[0], class_names)\n",
    "\n",
    "dataset_test.image_info[image_id]['shapes'][-1] = cloud\n",
    "vis.display_image_gt(dataset_test, dataset_test.config, image_id, size=6, verbose = True)\n",
    "r = run_fcn_evaluation(fcn_model, mrcnn_model, dataset_test, image_id, verbose = False)  \n",
    "vis2.display_fcn_hm(vis2.normalize_all(r[0]['fcn_hm']), class_names, columns = cols, size = 8)\n",
    "vis2.display_fcn_scores_box_info(r[0]['fcn_scores'], r[0]['fcn_hm'], class_names,only = only)\n",
    "vis2.display_pr_fcn_scores(r[0], class_names)\n",
    "\n",
    "dataset_test.image_info[image_id]['shapes'][-1] = airplane\n",
    "vis.display_image_gt(dataset_test, dataset_test.config, image_id, size=6, verbose = True)\n",
    "r = run_fcn_evaluation(fcn_model, mrcnn_model, dataset_test, image_id, verbose = False)  \n",
    "vis2.display_fcn_hm(vis2.normalize_all(r[0]['fcn_hm']), class_names, columns = cols, size = 8)\n",
    "vis2.display_fcn_scores_box_info(r[0]['fcn_scores'], r[0]['fcn_hm'], class_names,only = only)\n",
    "vis2.display_pr_fcn_scores(r[0], class_names)\n",
    "\n",
    "dataset_test.image_info[image_id]['shapes'][-1] = truck\n",
    "vis.display_image_gt(dataset_test, dataset_test.config, image_id, size=6, verbose = True)\n",
    "r = run_fcn_evaluation(fcn_model, mrcnn_model, dataset_test, image_id, verbose = False)  \n",
    "vis2.display_fcn_hm(vis2.normalize_all(r[0]['fcn_hm']), class_names, columns = cols, size = 8)\n",
    "vis2.display_fcn_scores_box_info(r[0]['fcn_scores'], r[0]['fcn_hm'], class_names,only = only)\n",
    "vis2.display_pr_fcn_scores(r[0], class_names)\n",
    "\n",
    "# dataset_test.image_info[image_id]['shapes'][-1] = car\n",
    "# vis.display_image_gt(dataset_test, dataset_test.config, image_id, size=6, verbose = True)\n",
    "# r = run_fcn_evaluation(fcn_model, mrcnn_model, dataset_test, image_id, verbose = False)  \n",
    "# vis2.display_fcn_hm(vis2.normalize_all(r[0]['fcn_hm'][1:]), class_names, columns = cols, size = 8)\n",
    "# vis2.display_fcn_scores_box_info(r[0]['fcn_scores'], r[0]['fcn_hm'], class_names,only = only)\n",
    "\n",
    "\n",
    "del dataset_test.image_info[image_id]['shapes'][-1]\n",
    "vis.display_image_gt(dataset_test, dataset_test.config, image_id, size=6, verbose = True)\n",
    "\n"
   ]
  },
  {
   "cell_type": "markdown",
   "metadata": {
    "heading_collapsed": true,
    "hidden": true
   },
   "source": [
    "####  Image 77 : Building\n",
    "Building without airplane. \n",
    "Add Airplane on left side and note changes in scores "
   ]
  },
  {
   "cell_type": "code",
   "execution_count": null,
   "metadata": {
    "ExecuteTime": {
     "end_time": "2019-04-16T20:57:41.029843Z",
     "start_time": "2019-04-16T20:57:40.979503Z"
    },
    "hidden": true
   },
   "outputs": [],
   "source": [
    "cx = 30\n",
    "cy = 30\n",
    "airplane  = ('airplane', (200.0, 132.0, 126.0), (cx , cy, 18,  7))\n",
    "person    = ('person'  , (139.0, 69.0, 19.0)  , (cx , cy,  2, 10))\n",
    "car       = ('car'     , (150.0, 174.0, 8.0)  , (cx , cy, 24, 12))\n",
    "sun       = ('sun'     , (255.0, 215.0, 0.0)  , (cx , cy,  6,  6))\n",
    "building  = ('building', (7.0, 9.0, 197.0)    , (cx , cy, 24, 20))\n",
    "tree      = ('tree'    , (50.0, 205.0, 50.0)  , (cx , cy, 12, 28))\n",
    "cloud     = ('cloud'   , (192.0, 192.0, 192.0), (cx , cy, 34,  8))\n",
    "truck     = ('truck'   , (213.0, 56.0, 119.0) , (cx , cy, 39, 13))"
   ]
  },
  {
   "cell_type": "code",
   "execution_count": null,
   "metadata": {
    "ExecuteTime": {
     "end_time": "2019-04-16T20:59:20.030100Z",
     "start_time": "2019-04-16T20:59:17.668918Z"
    },
    "hidden": true
   },
   "outputs": [],
   "source": [
    "building  = ('building', (7.0, 9.0, 197.0), (95, 93, 24, 12))\n",
    "\n",
    "dataset_test.image_info[image_id]['shapes'] = []\n",
    "dataset_test.image_info[image_id]['shapes'].append(building)\n",
    "vis.display_image_gt(dataset_test, dataset_test.config, image_id, size=6, verbose = True)\n",
    "r = run_fcn_evaluation(fcn_model, mrcnn_model, dataset_test, image_id, verbose = False)  \n",
    "\n",
    "vis2.display_fcn_hm(vis2.normalize_all(r[0]['fcn_hm']), class_names, columns = cols, size = 8)\n",
    "vis2.display_fcn_scores_box_info(r[0]['fcn_scores'], r[0]['fcn_hm'], class_names, only = only)\n",
    "vis2.display_pr_fcn_scores(r[0], class_names)"
   ]
  },
  {
   "cell_type": "code",
   "execution_count": null,
   "metadata": {
    "ExecuteTime": {
     "end_time": "2019-04-16T20:59:46.246074Z",
     "start_time": "2019-04-16T20:59:31.846719Z"
    },
    "hidden": true,
    "scrolled": false
   },
   "outputs": [],
   "source": [
    "dataset_test.image_info[image_id]['shapes'].append(airplane)\n",
    "vis.display_image_gt(dataset_test, dataset_test.config, image_id, size=6, verbose = True)\n",
    "r = run_fcn_evaluation(fcn_model, mrcnn_model, dataset_test, image_id, verbose = False) \n",
    "\n",
    "vis2.display_fcn_hm(vis2.normalize_all(r[0]['fcn_hm']), class_names, columns = cols, size = 8)\n",
    "# vis2.display_fcn_scores_box_info(r[0]['fcn_scores'], r[0]['fcn_hm'], class_names, only = only)\n",
    "vis2.display_pr_fcn_scores(r[0], class_names)\n",
    "\n",
    "\n",
    "dataset_test.image_info[image_id]['shapes'][-1] =  ('car', (150.0, 174.0, 8.0), (25, 30, 15, 7))\n",
    "vis.display_image_gt(dataset_test, dataset_test.config, image_id, size=6, verbose = True)\n",
    "r = run_fcn_evaluation(fcn_model, mrcnn_model, dataset_test, image_id, verbose = False) \n",
    "\n",
    "vis2.display_fcn_hm(vis2.normalize_all(r[0]['fcn_hm']), class_names, columns = cols, size = 8)\n",
    "# vis2.display_fcn_scores_box_info(r[0]['fcn_scores'], r[0]['fcn_hm'], class_names, only = only)\n",
    "vis2.display_pr_fcn_scores(r[0], class_names)\n",
    "\n",
    "\n",
    " \n",
    "dataset_test.image_info[image_id]['shapes'][-1] =  ('tree', (150.0, 174.0, 8.0), (25, 30, 16, 7))\n",
    "vis.display_image_gt(dataset_test, dataset_test.config, image_id, size=6, verbose = True)\n",
    "r = run_fcn_evaluation(fcn_model, mrcnn_model, dataset_test, image_id, verbose = False) \n",
    "\n",
    "vis2.display_fcn_hm(vis2.normalize_all(r[0]['fcn_hm']), class_names, columns = cols, size = 8)\n",
    "# vis2.display_fcn_scores_box_info(r[0]['fcn_scores'], r[0]['fcn_hm'], class_names, only = only)\n",
    "vis2.display_pr_fcn_scores(r[0], class_names)\n",
    "\n",
    "\n",
    "dataset_test.image_info[image_id]['shapes'][-1] =  ('person', (150.0, 174.0, 8.0), (25, 30, 3, 13))\n",
    "vis.display_image_gt(dataset_test, dataset_test.config, image_id, size=6, verbose = True)\n",
    "r = run_fcn_evaluation(fcn_model, mrcnn_model, dataset_test, image_id, verbose = False) \n",
    "\n",
    "vis2.display_fcn_hm(vis2.normalize_all(r[0]['fcn_hm']), class_names, columns = cols, size = 8)\n",
    "# vis2.display_fcn_scores_box_info(r[0]['fcn_scores'], r[0]['fcn_hm'], class_names, only = only)\n",
    "vis2.display_pr_fcn_scores(r[0], class_names)\n",
    "\n",
    "\n",
    "dataset_test.image_info[image_id]['shapes'][-1] =  ('sun', (150.0, 174.0, 8.0), (25, 30, 7, 7))\n",
    "vis.display_image_gt(dataset_test, dataset_test.config, image_id, size=6, verbose = True)\n",
    "r = run_fcn_evaluation(fcn_model, mrcnn_model, dataset_test, image_id, verbose = False) \n",
    "\n",
    "vis2.display_fcn_hm(vis2.normalize_all(r[0]['fcn_hm']), class_names, columns = cols, size = 8)\n",
    "# vis2.display_fcn_scores_box_info(r[0]['fcn_scores'], r[0]['fcn_hm'], class_names, only = only)\n",
    "vis2.display_pr_fcn_scores(r[0], class_names)\n",
    "\n",
    "\n",
    "# dataset_test.image_info[image_id]['shapes'][-1] =  ('building', (150.0, 174.0, 8.0), (25, 30, 7, 7))\n",
    "# vis.display_image_gt(dataset_test, dataset_test.config, image_id, size=6, verbose = True)\n",
    "# r = run_fcn_evaluation(fcn_model, mrcnn_model, dataset_test, image_id, verbose = False) \n",
    "\n",
    "# vis2.display_fcn_hm(vis2.normalize_all(r[0]['fcn_hm']), class_names, columns = cols, size = 8)\n",
    "# # vis2.display_fcn_scores_box_info(r[0]['fcn_scores'], r[0]['fcn_hm'], class_names, only = only)\n",
    "# vis2.display_pr_fcn_scores(r[0], class_names)\n",
    "\n",
    "dataset_test.image_info[image_id]['shapes'][-1] = ('truck'   , (213.0, 56.0, 119.0) , (cx , cy, 39, 13))\n",
    "vis.display_image_gt(dataset_test, dataset_test.config, image_id, size=6, verbose = True)\n",
    "r = run_fcn_evaluation(fcn_model, mrcnn_model, dataset_test, image_id, verbose = False) \n",
    "\n",
    "vis2.display_fcn_hm(vis2.normalize_all(r[0]['fcn_hm']), class_names, columns = cols, size = 8)\n",
    "# vis2.display_fcn_scores_box_info(r[0]['fcn_scores'], r[0]['fcn_hm'], class_names, only = only)\n",
    "vis2.display_pr_fcn_scores(r[0], class_names)\n",
    "\n",
    "del dataset_test.image_info[image_id]['shapes'][-1]\n",
    "vis.display_image_gt(dataset_test, dataset_test.config, image_id, size=6, verbose = True)"
   ]
  },
  {
   "cell_type": "markdown",
   "metadata": {
    "heading_collapsed": true,
    "hidden": true
   },
   "source": [
    "####  Car - moving airplane"
   ]
  },
  {
   "cell_type": "code",
   "execution_count": null,
   "metadata": {
    "ExecuteTime": {
     "end_time": "2019-04-16T19:43:07.085588Z",
     "start_time": "2019-04-16T19:43:04.621362Z"
    },
    "hidden": true,
    "scrolled": true
   },
   "outputs": [],
   "source": [
    "print(image_id)\n",
    "large_car = ('car', (150.0, 174.0, 8.0), (95, 93, 24, 12))\n",
    "airplane = ('airplane', (200.0, 132.0, 126.0), (25, 23, 18, 7))\n",
    "\n",
    "dataset_test.image_info[image_id]['shapes'] = []\n",
    "dataset_test.image_info[image_id]['shapes'].append(large_car)\n",
    "dataset_test.image_info[image_id]['shapes'].append(airplane)\n",
    "vis.display_image_gt(dataset_test, dataset_test.config, image_id, size=6, verbose = True)\n",
    "r = run_fcn_evaluation(fcn_model, mrcnn_model, dataset_test, image_id, verbose = False)  \n",
    "\n",
    "vis2.display_fcn_hm(vis2.normalize_all(r[0]['fcn_hm'][1:]), class_names, columns =9, size = 8)\n",
    "vis2.display_pr_fcn_scores(r[0], class_names)"
   ]
  },
  {
   "cell_type": "code",
   "execution_count": null,
   "metadata": {
    "ExecuteTime": {
     "end_time": "2019-04-16T19:47:00.543459Z",
     "start_time": "2019-04-16T19:46:40.474618Z"
    },
    "hidden": true,
    "scrolled": true
   },
   "outputs": [],
   "source": [
    "only = None\n",
    "cx = 25\n",
    "\n",
    "for cy in range(10, 100, 10):    \n",
    "    airplane = ('airplane', (200.0, 132.0, 126.0), (cx, cy, 18, 7))\n",
    "    dataset_test.image_info[image_id]['shapes'][-1] = airplane\n",
    "#     r = run_fcn_detection(fcn_model, mrcnn_model, dataset_test, image_id, verbose = False)  \n",
    "    r = run_fcn_evaluation(fcn_model, mrcnn_model, dataset_test, image_id, verbose = False)  \n",
    "    print('-'*100)\n",
    "    print(' CY: ', cy)\n",
    "    print('-'*100)\n",
    "#     vis.display_image_gt(dataset_test, dataset_test.config, image_id, size=6, verbose = True)    \n",
    "#     vis2.display_fcn_scores(r[0]['fcn_scores'], class_names, only = only, display = True)\n",
    "    vis2.display_fcn_hm(vis2.normalize_all(r[0]['fcn_hm'][1:]), class_names, columns =9, size = 8)\n",
    "    vis2.display_pr_fcn_scores(r[0], class_names)\n",
    "#     vis2.display_fcn_scores_box_info(r[0]['fcn_scores'], r[0]['fcn_hm'], class_names,only = only)"
   ]
  },
  {
   "cell_type": "markdown",
   "metadata": {
    "heading_collapsed": true
   },
   "source": [
    "###  Image 77 : Truck and other objects \n",
    "Truck without airplane. \n",
    "Add Airplane on left side and note changes in scores "
   ]
  },
  {
   "cell_type": "markdown",
   "metadata": {
    "heading_collapsed": true,
    "hidden": true
   },
   "source": [
    "##### Add airplane and other objects. \n",
    "\n",
    "Is Truck only sensitive to airplanes , or is it invariant to the class of the object?"
   ]
  },
  {
   "cell_type": "code",
   "execution_count": null,
   "metadata": {
    "ExecuteTime": {
     "end_time": "2019-04-16T21:07:39.201957Z",
     "start_time": "2019-04-16T21:07:39.143483Z"
    },
    "hidden": true
   },
   "outputs": [],
   "source": [
    "# airplane  = ('airplane', (200.0, 132.0, 126.0), (25 , 30, 18,  7))\n",
    "# person    = ('person'  , (139.0, 69.0, 19.0)  , (17 , 92,  2, 10))\n",
    "# car       = ('car'     , (150.0, 174.0, 8.0)  , (87 , 93, 24, 12))\n",
    "# sun       = ('sun'     , (255.0, 215.0, 0.0)  , (49 , 13,  6,  6))\n",
    "# building  = ('building', (7.0, 9.0, 197.0)    , (92 , 60, 24, 20))\n",
    "# tree      = ('tree'    , (50.0, 205.0, 50.0)  , (100, 91, 12, 28))\n",
    "# cloud     = ('cloud'   , (192.0, 192.0, 192.0), (106, 20, 34,  8))\n",
    "# truck     = ('truck'   , (213.0, 56.0, 119.0) , (80 , 93, 39, 13))\n",
    "# large_car = ('car'     , (150.0, 174.0, 8.0)  , (95 , 93, 24, 12))\n",
    "\n",
    "cx = 30\n",
    "cy = 90\n",
    "airplane  = ('airplane', (200.0, 132.0, 126.0), (cx , cy, 18,  7))\n",
    "person    = ('person'  , (139.0, 69.0, 19.0)  , (cx , cy,  2, 10))\n",
    "car       = ('car'     , (150.0, 174.0, 8.0)  , (cx , cy, 24, 12))\n",
    "sun       = ('sun'     , (255.0, 215.0, 0.0)  , (cx , cy,  6,  6))\n",
    "building  = ('building', (7.0, 9.0, 197.0)    , (cx , cy, 24, 20))\n",
    "tree      = ('tree'    , (50.0, 205.0, 50.0)  , (cx , cy, 12, 28))\n",
    "cloud     = ('cloud'   , (192.0, 192.0, 192.0), (cx , cy, 34,  8))\n",
    "truck     = ('truck'   , (213.0, 56.0, 119.0) , (cx , cy, 39, 13))\n",
    "large_car = ('car'     , (150.0, 174.0, 8.0)  , (95 , 93, 24, 12))"
   ]
  },
  {
   "cell_type": "code",
   "execution_count": null,
   "metadata": {
    "ExecuteTime": {
     "end_time": "2019-05-17T10:38:22.000046Z",
     "start_time": "2019-05-17T10:38:21.810046Z"
    },
    "hidden": true
   },
   "outputs": [],
   "source": [
    "# truck     = ('truck', (213.0, 56.0, 119.0), (95, 93, 24, 12)) \n",
    "truck     = ('truck', (213.0, 56.0, 119.0), (95, 93, 24, 10)) \n",
    "\n",
    "dataset_test.image_info[image_id]['shapes'] = []\n",
    "dataset_test.image_info[image_id]['shapes'].append(truck)\n",
    "vis.display_image_gt(dataset_test, dataset_test.config, image_id, size=6, verbose = True)\n",
    "\n",
    "r = run_fcn_evaluation(fcn_model, mrcnn_model, dataset_test, image_id, verbose = False)  \n",
    "\n",
    "vis2.display_fcn_hm(vis2.normalize_all(r[0]['fcn_hm']), class_names, columns = cols, size = 8)\n",
    "vis2.display_fcn_scores_box_info(r[0]['fcn_scores'], r[0]['fcn_hm'], class_names, only = only)\n",
    "vis2.display_pr_fcn_scores(r[0], class_names)"
   ]
  },
  {
   "cell_type": "code",
   "execution_count": null,
   "metadata": {
    "ExecuteTime": {
     "end_time": "2019-04-16T21:08:35.237093Z",
     "start_time": "2019-04-16T21:08:18.085521Z"
    },
    "hidden": true,
    "scrolled": false
   },
   "outputs": [],
   "source": [
    "dataset_test.image_info[image_id]['shapes'].append(person)\n",
    "\n",
    "vis.display_image_gt(dataset_test, dataset_test.config, image_id, size=6, verbose = True)\n",
    "r = run_fcn_evaluation(fcn_model, mrcnn_model, dataset_test, image_id, verbose = False)  \n",
    "vis2.display_fcn_hm(vis2.normalize_all(r[0]['fcn_hm']), class_names, columns = cols, size = 8)\n",
    "# vis2.display_fcn_scores_box_info(r[0]['fcn_scores'], r[0]['fcn_hm'], class_names,only = only)\n",
    "vis2.display_pr_fcn_scores(r[0], class_names)\n",
    "\n",
    "dataset_test.image_info[image_id]['shapes'][-1] = sun\n",
    "vis.display_image_gt(dataset_test, dataset_test.config, image_id, size=6, verbose = True)\n",
    "r = run_fcn_evaluation(fcn_model, mrcnn_model, dataset_test, image_id, verbose = False)  \n",
    "vis2.display_fcn_hm(vis2.normalize_all(r[0]['fcn_hm'][1:]), class_names, columns = cols, size = 8)\n",
    "# vis2.display_fcn_scores_box_info(r[0]['fcn_scores'], r[0]['fcn_hm'], class_names,only = only)\n",
    "vis2.display_pr_fcn_scores(r[0], class_names)\n",
    "\n",
    "dataset_test.image_info[image_id]['shapes'][-1] = building\n",
    "vis.display_image_gt(dataset_test, dataset_test.config, image_id, size=6, verbose = True)\n",
    "r = run_fcn_evaluation(fcn_model, mrcnn_model, dataset_test, image_id, verbose = False)  \n",
    "vis2.display_fcn_hm(vis2.normalize_all(r[0]['fcn_hm']), class_names, columns = cols, size = 8)\n",
    "# vis2.display_fcn_scores_box_info(r[0]['fcn_scores'], r[0]['fcn_hm'], class_names)\n",
    "vis2.display_pr_fcn_scores(r[0], class_names)\n",
    "\n",
    "dataset_test.image_info[image_id]['shapes'][-1] = tree\n",
    "vis.display_image_gt(dataset_test, dataset_test.config, image_id, size=6, verbose = True)\n",
    "r = run_fcn_evaluation(fcn_model, mrcnn_model, dataset_test, image_id, verbose = False)  \n",
    "vis2.display_fcn_hm(vis2.normalize_all(r[0]['fcn_hm']), class_names, columns = cols, size = 8)\n",
    "# vis2.display_fcn_scores_box_info(r[0]['fcn_scores'], r[0]['fcn_hm'], class_names,only = only)\n",
    "vis2.display_pr_fcn_scores(r[0], class_names)\n",
    "\n",
    "dataset_test.image_info[image_id]['shapes'][-1] = cloud\n",
    "vis.display_image_gt(dataset_test, dataset_test.config, image_id, size=6, verbose = True)\n",
    "r = run_fcn_evaluation(fcn_model, mrcnn_model, dataset_test, image_id, verbose = False)  \n",
    "vis2.display_fcn_hm(vis2.normalize_all(r[0]['fcn_hm']), class_names, columns = cols, size = 8)\n",
    "# vis2.display_fcn_scores_box_info(r[0]['fcn_scores'], r[0]['fcn_hm'], class_names,only = only)\n",
    "vis2.display_pr_fcn_scores(r[0], class_names)\n",
    "\n",
    "dataset_test.image_info[image_id]['shapes'][-1] = airplane\n",
    "vis.display_image_gt(dataset_test, dataset_test.config, image_id, size=6, verbose = True)\n",
    "r = run_fcn_evaluation(fcn_model, mrcnn_model, dataset_test, image_id, verbose = False)  \n",
    "vis2.display_fcn_hm(vis2.normalize_all(r[0]['fcn_hm']), class_names, columns = cols, size = 8)\n",
    "# vis2.display_fcn_scores_box_info(r[0]['fcn_scores'], r[0]['fcn_hm'], class_names,only = only)\n",
    "vis2.display_pr_fcn_scores(r[0], class_names)\n",
    "\n",
    "# dataset_test.image_info[image_id]['shapes'][-1] = truck\n",
    "# vis.display_image_gt(dataset_test, dataset_test.config, image_id, size=6, verbose = True)\n",
    "# r = run_fcn_evaluation(fcn_model, mrcnn_model, dataset_test, image_id, verbose = False)  \n",
    "# vis2.display_fcn_hm(vis2.normalize_all(r[0]['fcn_hm']), class_names, columns = cols, size = 8)\n",
    "# vis2.display_fcn_scores_box_info(r[0]['fcn_scores'], r[0]['fcn_hm'], class_names,only = only)\n",
    "# vis2.display_pr_fcn_scores(r[0], class_names)\n",
    "\n",
    "dataset_test.image_info[image_id]['shapes'][-1] = car\n",
    "vis.display_image_gt(dataset_test, dataset_test.config, image_id, size=6, verbose = True)\n",
    "r = run_fcn_evaluation(fcn_model, mrcnn_model, dataset_test, image_id, verbose = False)  \n",
    "vis2.display_fcn_hm(vis2.normalize_all(r[0]['fcn_hm'][1:]), class_names, columns = cols, size = 8)\n",
    "# vis2.display_fcn_scores_box_info(r[0]['fcn_scores'], r[0]['fcn_hm'], class_names,only = only)\n",
    "vis2.display_pr_fcn_scores(r[0], class_names)\n",
    "\n",
    "\n",
    "del dataset_test.image_info[image_id]['shapes'][-1]\n",
    "vis.display_image_gt(dataset_test, dataset_test.config, image_id, size=6, verbose = True)\n",
    "\n"
   ]
  },
  {
   "cell_type": "markdown",
   "metadata": {
    "heading_collapsed": true,
    "hidden": true
   },
   "source": [
    "##### Add other objects in the same position an airplane would appear. \n",
    "\n",
    "Is Truck only sensitive to airplanes , or is it invariant to the class towards the object?"
   ]
  },
  {
   "cell_type": "code",
   "execution_count": null,
   "metadata": {
    "ExecuteTime": {
     "end_time": "2019-04-16T21:13:19.481877Z",
     "start_time": "2019-04-16T21:13:19.433013Z"
    },
    "hidden": true
   },
   "outputs": [],
   "source": [
    "cx = 30\n",
    "cy = 30\n",
    "airplane  = ('airplane', (200.0, 132.0, 126.0), (cx , cy, 18,  7))\n",
    "person    = ('person'  , (139.0, 69.0, 19.0)  , (cx , cy,  2, 10))\n",
    "car       = ('car'     , (150.0, 174.0, 8.0)  , (cx , cy, 24, 12))\n",
    "sun       = ('sun'     , (255.0, 215.0, 0.0)  , (cx , cy,  6,  6))\n",
    "building  = ('building', (7.0, 9.0, 197.0)    , (cx , cy, 24, 20))\n",
    "tree      = ('tree'    , (50.0, 205.0, 50.0)  , (cx , cy, 12, 28))\n",
    "cloud     = ('cloud'   , (192.0, 192.0, 192.0), (cx , cy, 34,  8))\n",
    "truck     = ('truck'   , (213.0, 56.0, 119.0) , (cx , cy, 39, 13))\n",
    "large_car = ('car'     , (150.0, 174.0, 8.0)  , (95 , 93, 24, 12))"
   ]
  },
  {
   "cell_type": "code",
   "execution_count": null,
   "metadata": {
    "ExecuteTime": {
     "end_time": "2019-04-16T21:13:09.441548Z",
     "start_time": "2019-04-16T21:13:06.982129Z"
    },
    "hidden": true,
    "scrolled": true
   },
   "outputs": [],
   "source": [
    "truck     = ('truck', (213.0, 56.0, 119.0), (95, 93, 24, 12))\n",
    "\n",
    "dataset_test.image_info[image_id]['shapes'] = []\n",
    "dataset_test.image_info[image_id]['shapes'].append(truck)\n",
    "vis.display_image_gt(dataset_test, dataset_test.config, image_id, size=6, verbose = True)\n",
    "r = run_fcn_evaluation(fcn_model, mrcnn_model, dataset_test, image_id, verbose = False)  \n",
    "\n",
    "vis2.display_fcn_hm(vis2.normalize_all(r[0]['fcn_hm']), class_names, columns = cols, size = 8)\n",
    "vis2.display_fcn_scores_box_info(r[0]['fcn_scores'], r[0]['fcn_hm'], class_names, only = only)\n",
    "vis2.display_pr_fcn_scores(r[0], class_names)"
   ]
  },
  {
   "cell_type": "code",
   "execution_count": null,
   "metadata": {
    "ExecuteTime": {
     "end_time": "2019-04-16T21:13:40.768132Z",
     "start_time": "2019-04-16T21:13:25.871763Z"
    },
    "hidden": true,
    "scrolled": true
   },
   "outputs": [],
   "source": [
    "dataset_test.image_info[image_id]['shapes'].append(airplane)\n",
    "vis.display_image_gt(dataset_test, dataset_test.config, image_id, size=6, verbose = True)\n",
    "r = run_fcn_evaluation(fcn_model, mrcnn_model, dataset_test, image_id, verbose = False) \n",
    "\n",
    "vis2.display_fcn_hm(vis2.normalize_all(r[0]['fcn_hm']), class_names, columns = cols, size = 8)\n",
    "# vis2.display_fcn_scores_box_info(r[0]['fcn_scores'], r[0]['fcn_hm'], class_names, only = only)\n",
    "vis2.display_pr_fcn_scores(r[0], class_names)\n",
    "\n",
    "\n",
    "dataset_test.image_info[image_id]['shapes'][-1] =  ('car', (150.0, 174.0, 8.0), (25, 30, 15, 7))\n",
    "vis.display_image_gt(dataset_test, dataset_test.config, image_id, size=6, verbose = True)\n",
    "r = run_fcn_evaluation(fcn_model, mrcnn_model, dataset_test, image_id, verbose = False) \n",
    "\n",
    "vis2.display_fcn_hm(vis2.normalize_all(r[0]['fcn_hm']), class_names, columns = cols, size = 8)\n",
    "# vis2.display_fcn_scores_box_info(r[0]['fcn_scores'], r[0]['fcn_hm'], class_names, only = only)\n",
    "vis2.display_pr_fcn_scores(r[0], class_names)\n",
    "\n",
    "\n",
    " \n",
    "dataset_test.image_info[image_id]['shapes'][-1] =  ('tree', (150.0, 174.0, 8.0), (25, 30, 16, 7))\n",
    "vis.display_image_gt(dataset_test, dataset_test.config, image_id, size=6, verbose = True)\n",
    "r = run_fcn_evaluation(fcn_model, mrcnn_model, dataset_test, image_id, verbose = False) \n",
    "\n",
    "vis2.display_fcn_hm(vis2.normalize_all(r[0]['fcn_hm']), class_names, columns = cols, size = 8)\n",
    "# vis2.display_fcn_scores_box_info(r[0]['fcn_scores'], r[0]['fcn_hm'], class_names, only = only)\n",
    "vis2.display_pr_fcn_scores(r[0], class_names)\n",
    "\n",
    "\n",
    "dataset_test.image_info[image_id]['shapes'][-1] =  ('person', (150.0, 174.0, 8.0), (25, 30, 3, 13))\n",
    "vis.display_image_gt(dataset_test, dataset_test.config, image_id, size=6, verbose = True)\n",
    "r = run_fcn_evaluation(fcn_model, mrcnn_model, dataset_test, image_id, verbose = False) \n",
    "\n",
    "vis2.display_fcn_hm(vis2.normalize_all(r[0]['fcn_hm']), class_names, columns = cols, size = 8)\n",
    "# vis2.display_fcn_scores_box_info(r[0]['fcn_scores'], r[0]['fcn_hm'], class_names, only = only)\n",
    "vis2.display_pr_fcn_scores(r[0], class_names)\n",
    "\n",
    "\n",
    "dataset_test.image_info[image_id]['shapes'][-1] =  ('sun', (150.0, 174.0, 8.0), (25, 30, 7, 7))\n",
    "vis.display_image_gt(dataset_test, dataset_test.config, image_id, size=6, verbose = True)\n",
    "r = run_fcn_evaluation(fcn_model, mrcnn_model, dataset_test, image_id, verbose = False) \n",
    "\n",
    "vis2.display_fcn_hm(vis2.normalize_all(r[0]['fcn_hm']), class_names, columns = cols, size = 8)\n",
    "# vis2.display_fcn_scores_box_info(r[0]['fcn_scores'], r[0]['fcn_hm'], class_names, only = only)\n",
    "vis2.display_pr_fcn_scores(r[0], class_names)\n",
    "\n",
    "\n",
    "dataset_test.image_info[image_id]['shapes'][-1] =  ('building', (150.0, 174.0, 8.0), (25, 30, 7, 7))\n",
    "vis.display_image_gt(dataset_test, dataset_test.config, image_id, size=6, verbose = True)\n",
    "r = run_fcn_evaluation(fcn_model, mrcnn_model, dataset_test, image_id, verbose = False) \n",
    "\n",
    "vis2.display_fcn_hm(vis2.normalize_all(r[0]['fcn_hm']), class_names, columns = cols, size = 8)\n",
    "# vis2.display_fcn_scores_box_info(r[0]['fcn_scores'], r[0]['fcn_hm'], class_names, only = only)\n",
    "vis2.display_pr_fcn_scores(r[0], class_names)\n",
    "\n",
    "\n",
    "\n",
    "del dataset_test.image_info[image_id]['shapes'][-1]\n",
    "vis.display_image_gt(dataset_test, dataset_test.config, image_id, size=6, verbose = True)"
   ]
  },
  {
   "cell_type": "markdown",
   "metadata": {
    "heading_collapsed": true
   },
   "source": [
    "###  Image 77: Truck - vertically moving objects (airplane, ..)"
   ]
  },
  {
   "cell_type": "code",
   "execution_count": null,
   "metadata": {
    "ExecuteTime": {
     "end_time": "2019-05-17T16:03:55.569914Z",
     "start_time": "2019-05-17T16:03:55.528418Z"
    },
    "hidden": true
   },
   "outputs": [],
   "source": [
    "cx = 90\n",
    "cy = 90\n",
    "airplane  = ('airplane', (200.0, 132.0, 126.0), (cx , cy, 18,  7))\n",
    "person    = ('person'  , (139.0, 69.0, 19.0)  , (cx , cy,  2, 10))\n",
    "car       = ('car'     , (150.0, 174.0, 8.0)  , (cx , cy, 24, 12))\n",
    "sun       = ('sun'     , (255.0, 215.0, 0.0)  , (cx , cy,  6,  6))\n",
    "building  = ('building', (7.0, 9.0, 197.0)    , (cx , cy, 24, 20))\n",
    "tree      = ('tree'    , (50.0, 205.0, 50.0)  , (cx , cy, 12, 28))\n",
    "cloud     = ('cloud'   , (192.0, 192.0, 192.0), (cx , cy, 34,  8))\n",
    "truck     = ('truck'   , (213.0, 56.0, 119.0) , (cx , cy, 39, 13))\n",
    "large_car = ('car'     , (150.0, 174.0, 8.0)  , (95 , 93, 24, 12))"
   ]
  },
  {
   "cell_type": "code",
   "execution_count": null,
   "metadata": {
    "ExecuteTime": {
     "end_time": "2019-05-17T16:03:56.968353Z",
     "start_time": "2019-05-17T16:03:56.465894Z"
    },
    "hidden": true
   },
   "outputs": [],
   "source": [
    "image_id = 77\n",
    "print(image_id)\n",
    "# truck = ('truck', (150.0, 174.0, 8.0), (95, 93, 24, 10))\n",
    "truck = ('truck', (150.0, 174.0, 8.0), (85, 83, 20, 8))\n",
    "person    = ('person'  , (139.0, 69.0, 19.0)  , (90 , 110,  2, 12))\n",
    "airplane = ('airplane', (200.0, 132.0, 126.0), (25, 23, 18, 7))\n",
    "\n",
    "dataset_test.image_info[image_id]['shapes'] = []\n",
    "dataset_test.image_info[image_id]['shapes'].append(truck)\n",
    "dataset_test.image_info[image_id]['shapes'].append(person)\n",
    "dataset_test.image_info[image_id]['shapes'].append(airplane)\n",
    "\n",
    "vis.display_image_gt(dataset_test, dataset_test.config, image_id, size=6, verbose = True)\n",
    "r = run_fcn_evaluation(fcn_model, mrcnn_model, dataset_test, image_id, verbose = False)  \n",
    "# r = run_fcn_detection(fcn_model, mrcnn_model, dataset_test, image_id, verbose = False)  \n",
    "# vis2.display_fcn_hm(vis2.normalize_all(r[0]['fcn_hm'][1:]), class_names, columns =9, size = 8)\n",
    "vis2.display_pr_fcn_scores(r[0], class_names)"
   ]
  },
  {
   "cell_type": "markdown",
   "metadata": {
    "hidden": true
   },
   "source": [
    "#### Truck and Airplane"
   ]
  },
  {
   "cell_type": "code",
   "execution_count": null,
   "metadata": {
    "ExecuteTime": {
     "end_time": "2019-05-17T16:04:02.907141Z",
     "start_time": "2019-05-17T16:03:59.104830Z"
    },
    "hidden": true,
    "scrolled": false
   },
   "outputs": [],
   "source": [
    "only = None\n",
    "cx = 25\n",
    "# scores_airplane  = {}\n",
    "axis_position = {}\n",
    "fcn_scores_1 = {}\n",
    "fcn_scores_2 = {}\n",
    "baseline_scores = {}\n",
    "xy_movement = np.arange(5,130,10)\n",
    "\n",
    "for cy in xy_movement:    \n",
    "    airplane = ('airplane', (200.0, 132.0, 126.0), (cx, cy, 18, 7))\n",
    "    dataset_test.image_info[image_id]['shapes'][-1] = airplane\n",
    "    \n",
    "    r = run_fcn_evaluation(fcn_model, mrcnn_model, dataset_test, image_id, verbose = False)  \n",
    "#     r = run_fcn_detection(fcn_model, mrcnn_model, dataset_test, image_id, verbose = False)  \n",
    "\n",
    "#     print('-'*100)\n",
    "#     print(' CY: ', cy)\n",
    "#     print('-'*100)\n",
    "    if cy % 15 == 0:\n",
    "        vis.display_image_gt(dataset_test, dataset_test.config, image_id, size=6, verbose = True)    \n",
    "    \n",
    "#     vis2.display_fcn_hm(vis2.normalize_all(r[0]['fcn_hm'][1:]), class_names, columns =9, size = 8)\n",
    "#     vis2.display_pr_fcn_scores(r[0], class_names)\n",
    "#     vis2.display_fcn_scores_box_info(r[0]['fcn_scores'], r[0]['fcn_hm'], class_names,only = only)\n",
    "\n",
    "    for idx, (mrcnn_row, fcn_row) in enumerate(  zip(r[0]['pr_scores'],r[0]['fcn_scores'])): \n",
    "        cls = int(fcn_row[CLASS_COLUMN])\n",
    "        cls_name = class_names[cls]\n",
    "        if cls_name  not in fcn_scores_1:\n",
    "            fcn_scores_1[cls_name] = []\n",
    "            fcn_scores_2[cls_name] = []\n",
    "            baseline_scores[cls_name] = []\n",
    "            axis_position[cls_name] = []\n",
    "        axis_position[cls_name].append(cy)\n",
    "        fcn_scores_1[cls_name].append(round(fcn_row[SCORE_1_COLUMN],4))  \n",
    "        fcn_scores_2[cls_name].append(round(fcn_row[SCORE_2_COLUMN],4))  \n",
    "        baseline_scores[cls_name].append(round(mrcnn_row[SCORE_1_COLUMN],4))\n",
    "\n",
    "#     print(scores_airplane)\n",
    "print(baseline_scores)\n",
    "print(xy_movement)\n",
    "print(fcn_scores_1)\n",
    "vis2.plot_fcn_score_curves_1(axis_position, fcn_scores_1 , baseline_scores, class_names, title = 'Score change based on vertical movement of Airplane', mrcnn = False)"
   ]
  },
  {
   "cell_type": "markdown",
   "metadata": {
    "hidden": true
   },
   "source": [
    "#### Image 77 - Truck and Person"
   ]
  },
  {
   "cell_type": "code",
   "execution_count": null,
   "metadata": {
    "ExecuteTime": {
     "end_time": "2019-05-17T15:40:07.357033Z",
     "start_time": "2019-05-17T15:40:04.858631Z"
    },
    "hidden": true
   },
   "outputs": [],
   "source": [
    "image_id = 77\n",
    "print(image_id)\n",
    "truck = ('truck', (150.0, 174.0, 8.0), (95, 93, 23, 11))\n",
    "airplane = ('airplane', (200.0, 132.0, 126.0), (25, 23, 18, 7))\n",
    "\n",
    "dataset_test.image_info[image_id]['shapes'] = []\n",
    "dataset_test.image_info[image_id]['shapes'].append(person)\n",
    "dataset_test.image_info[image_id]['shapes'].append(airplane)\n",
    "vis.display_image_gt(dataset_test, dataset_test.config, image_id, size=6, verbose = True)\n",
    "r = run_fcn_evaluation(fcn_model, mrcnn_model, dataset_test, image_id, verbose = False)  \n",
    "# r = run_fcn_detection(fcn_model, mrcnn_model, dataset_test, image_id, verbose = False)  \n",
    "vis2.display_fcn_hm(vis2.normalize_all(r[0]['fcn_hm'][1:]), class_names, columns =9, size = 8)\n",
    "vis2.display_pr_fcn_scores(r[0], class_names)"
   ]
  },
  {
   "cell_type": "code",
   "execution_count": null,
   "metadata": {
    "ExecuteTime": {
     "end_time": "2019-05-17T15:41:07.256927Z",
     "start_time": "2019-05-17T15:41:03.498949Z"
    },
    "hidden": true,
    "scrolled": false
   },
   "outputs": [],
   "source": [
    "\n"
   ]
  },
  {
   "cell_type": "markdown",
   "metadata": {
    "hidden": true
   },
   "source": [
    "#### Image 77 - Truck and cloud"
   ]
  },
  {
   "cell_type": "code",
   "execution_count": null,
   "metadata": {
    "ExecuteTime": {
     "end_time": "2019-05-17T16:02:37.858234Z",
     "start_time": "2019-05-17T16:02:37.795852Z"
    },
    "hidden": true,
    "scrolled": false
   },
   "outputs": [],
   "source": [
    "scores_cloud  = {}\n",
    "baseline_scores = {}\n",
    "xy_movement = np.arange(5,130,10)\n",
    "for cy in xy_movement:    \n",
    "    cloud = ('cloud', (200.0, 132.0, 126.0), (cx, cy, 18, 7))\n",
    "    dataset_test.image_info[image_id]['shapes'][-1] = cloud\n",
    "    r = run_fcn_evaluation(fcn_model, mrcnn_model, dataset_test, image_id, verbose = False)  \n",
    "#     print('-'*100)\n",
    "#     print(' CY: ', cy)\n",
    "#     print('-'*100)\n",
    "    if cy % 15 == 0:\n",
    "        vis.display_image_gt(dataset_test, dataset_test.config, image_id, size=6, verbose = False)    \n",
    "#     vis2.display_fcn_hm(vis2.normalize_all(r[0]['fcn_hm'][1:]), class_names, columns =9, size = 8)\n",
    "#     vis2.display_pr_fcn_scores(r[0], class_names)\n",
    "#     vis2.display_fcn_scores_box_info(r[0]['fcn_scores'], r[0]['fcn_hm'], class_names,only = only)    \n",
    "    for idx, (mrcnn_row, fcn_row) in enumerate(  zip(r[0]['pr_scores'],r[0]['fcn_scores'])): \n",
    "        cls = int(fcn_row[CLASS_COLUMN])\n",
    "        cls_name = class_names[cls]\n",
    "        if cls_name  not in scores_cloud:\n",
    "            scores_cloud[cls_name] = []\n",
    "            baseline_scores[cls_name] = []\n",
    "        scores_cloud[cls_name].append(round(fcn_row[SCORE_1_COLUMN],4))  \n",
    "        baseline_scores[cls_name].append(round(mrcnn_row[SCORE_1_COLUMN],4))\n",
    "print(scores_cloud)\n",
    "print(baseline_scores)\n",
    "plot_fcn_score_curves(xy_movement, scores_cloud, baseline_scores, class_names, title = 'Score change based on vertical movement of Cloud')"
   ]
  },
  {
   "cell_type": "markdown",
   "metadata": {
    "hidden": true
   },
   "source": [
    "#### Image 77 - Truck and Sun"
   ]
  },
  {
   "cell_type": "code",
   "execution_count": null,
   "metadata": {
    "ExecuteTime": {
     "end_time": "2019-05-17T15:13:33.859202Z",
     "start_time": "2019-05-17T15:13:29.964624Z"
    },
    "hidden": true,
    "scrolled": false
   },
   "outputs": [],
   "source": [
    "scores_sun  = {}\n",
    "baseline_scores = {}\n",
    "xy_movement = np.arange(5,130,10)\n",
    "for cy in xy_movement:    \n",
    "    sun       = ('sun'     , (255.0, 215.0, 0.0)  , (cx , cy,  6,  6))\n",
    "    dataset_test.image_info[image_id]['shapes'][-1] = sun\n",
    "    r = run_fcn_evaluation(fcn_model, mrcnn_model, dataset_test, image_id, verbose = False)  \n",
    "#     print('-'*100)\n",
    "#     print(' CY: ', cy)\n",
    "#     print('-'*100)\n",
    "    if cy % 15 == 0:\n",
    "        vis.display_image_gt(dataset_test, dataset_test.config, image_id, size=6, verbose = False)    \n",
    "#     vis2.display_fcn_hm(vis2.normalize_all(r[0]['fcn_hm'][1:]), class_names, columns =9, size = 8)\n",
    "#     vis2.display_pr_fcn_scores(r[0], class_names)\n",
    "#     vis2.display_fcn_scores_box_info(r[0]['fcn_scores'], r[0]['fcn_hm'], class_names,only = only)    \n",
    "    for idx, (mrcnn_row, fcn_row) in enumerate(  zip(r[0]['pr_scores'],r[0]['fcn_scores'])): \n",
    "        cls = int(fcn_row[CLASS_COLUMN])\n",
    "        cls_name = class_names[cls]\n",
    "        if cls_name  not in scores_sun:\n",
    "            scores_sun[cls_name] = []\n",
    "            baseline_scores[cls_name] = []\n",
    "        scores_sun[cls_name].append(round(fcn_row[SCORE_1_COLUMN],4))  \n",
    "        baseline_scores[cls_name].append(round(mrcnn_row[SCORE_1_COLUMN],4))\n",
    "print(scores_sun)\n",
    "print(baseline_scores)\n",
    "vis2.plot_fcn_score_curves(xy_movement, scores_sun, baseline_scores, class_names, title = 'Score change based on vertical movement of Cloud')"
   ]
  },
  {
   "cell_type": "markdown",
   "metadata": {
    "hidden": true
   },
   "source": [
    "#### Image 77 - Truck and Person"
   ]
  },
  {
   "cell_type": "code",
   "execution_count": null,
   "metadata": {
    "ExecuteTime": {
     "end_time": "2019-04-17T00:05:54.525632Z",
     "start_time": "2019-04-17T00:05:49.175396Z"
    },
    "hidden": true
   },
   "outputs": [],
   "source": [
    "scores_person  = {}\n",
    "baseline_scores = {}\n",
    "xy_movement = np.arange(5,130,10)\n",
    "for cy in xy_movement:    \n",
    "    person    = ('person'  , (139.0, 69.0, 19.0)  , (cx , cy,  2, 10))\n",
    "    dataset_test.image_info[image_id]['shapes'][-1] = person\n",
    "    r = run_fcn_evaluation(fcn_model, mrcnn_model, dataset_test, image_id, verbose = False)  \n",
    "#     print('-'*100)\n",
    "#     print(' CY: ', cy)\n",
    "#     print('-'*100)\n",
    "    vis.display_image_gt(dataset_test, dataset_test.config, image_id, size=6, verbose = True)    \n",
    "#     vis2.display_fcn_hm(vis2.normalize_all(r[0]['fcn_hm'][1:]), class_names, columns =9, size = 8)\n",
    "#     vis2.display_pr_fcn_scores(r[0], class_names)\n",
    "#     vis2.display_fcn_scores_box_info(r[0]['fcn_scores'], r[0]['fcn_hm'], class_names,only = only)    \n",
    "    for idx, (mrcnn_row, fcn_row) in enumerate(  zip(r[0]['pr_scores'],r[0]['fcn_scores'])): \n",
    "        cls = int(fcn_row[CLASS_COLUMN])\n",
    "        cls_name = class_names[cls]\n",
    "        if cls_name  not in scores_person:\n",
    "            scores_person[cls_name] = []\n",
    "            baseline_scores[cls_name] = []\n",
    "        scores_person[cls_name].append(round(fcn_row[SCORE_1_COLUMN],4))  \n",
    "        baseline_scores[cls_name].append(round(mrcnn_row[SCORE_1_COLUMN],4))\n",
    "print(scores_person)\n",
    "print(baseline_scores)\n",
    "plot_fcn_score_curves(xy_movement, scores_person, baseline_scores, class_names, title = 'Score change based on vertical movement of Person')"
   ]
  },
  {
   "cell_type": "markdown",
   "metadata": {
    "hidden": true
   },
   "source": [
    "#### Image 77 - Truck and Car"
   ]
  },
  {
   "cell_type": "code",
   "execution_count": null,
   "metadata": {
    "ExecuteTime": {
     "end_time": "2019-04-17T00:09:52.832169Z",
     "start_time": "2019-04-17T00:09:47.439817Z"
    },
    "hidden": true
   },
   "outputs": [],
   "source": [
    "scores_car  = {}\n",
    "baseline_scores = {}\n",
    "xy_movement = np.arange(5,130,10)\n",
    "for cy in xy_movement:    \n",
    "    car       = ('car'     , (150.0, 174.0, 8.0)  , (cx , cy, 24, 12))\n",
    "    dataset_test.image_info[image_id]['shapes'][-1] = car\n",
    "    r = run_fcn_evaluation(fcn_model, mrcnn_model, dataset_test, image_id, verbose = False)  \n",
    "#     print('-'*100)\n",
    "#     print(' CY: ', cy)\n",
    "#     print('-'*100)\n",
    "    vis.display_image_gt(dataset_test, dataset_test.config, image_id, size=6, verbose = True)    \n",
    "#     vis2.display_fcn_hm(vis2.normalize_all(r[0]['fcn_hm'][1:]), class_names, columns =9, size = 8)\n",
    "#     vis2.display_pr_fcn_scores(r[0], class_names)\n",
    "#     vis2.display_fcn_scores_box_info(r[0]['fcn_scores'], r[0]['fcn_hm'], class_names,only = only)    \n",
    "    for idx, (mrcnn_row, fcn_row) in enumerate(  zip(r[0]['pr_scores'],r[0]['fcn_scores'])): \n",
    "        cls = int(fcn_row[CLASS_COLUMN])\n",
    "        cls_name = class_names[cls]\n",
    "        if cls_name  not in scores_car:\n",
    "            scores_car[cls_name] = []\n",
    "            baseline_scores[cls_name] = []\n",
    "        scores_car[cls_name].append(round(fcn_row[SCORE_1_COLUMN],4))  \n",
    "        baseline_scores[cls_name].append(round(mrcnn_row[SCORE_1_COLUMN],4))\n",
    "print(scores_car)\n",
    "print(baseline_scores)\n",
    "plot_fcn_score_curves(xy_movement, scores_car, baseline_scores, class_names, title = 'Score change based on vertical movement of Person')"
   ]
  },
  {
   "cell_type": "markdown",
   "metadata": {
    "hidden": true
   },
   "source": [
    "#### Image 77 - Truck and Tree"
   ]
  },
  {
   "cell_type": "code",
   "execution_count": null,
   "metadata": {
    "ExecuteTime": {
     "end_time": "2019-04-17T00:12:33.944964Z",
     "start_time": "2019-04-17T00:12:28.553603Z"
    },
    "hidden": true
   },
   "outputs": [],
   "source": [
    "scores_tree  = {}\n",
    "baseline_scores = {}\n",
    "xy_movement = np.arange(5,130,10)\n",
    "for cy in xy_movement:    \n",
    "    tree      = ('tree'    , (50.0, 205.0, 50.0)  , (cx , cy, 12, 28))\n",
    "    dataset_test.image_info[image_id]['shapes'][-1] = tree\n",
    "    r = run_fcn_evaluation(fcn_model, mrcnn_model, dataset_test, image_id, verbose = False)  \n",
    "#     print('-'*100)\n",
    "#     print(' CY: ', cy)\n",
    "#     print('-'*100)\n",
    "    vis.display_image_gt(dataset_test, dataset_test.config, image_id, size=6, verbose = True)    \n",
    "#     vis2.display_fcn_hm(vis2.normalize_all(r[0]['fcn_hm'][1:]), class_names, columns =9, size = 8)\n",
    "#     vis2.display_pr_fcn_scores(r[0], class_names)\n",
    "#     vis2.display_fcn_scores_box_info(r[0]['fcn_scores'], r[0]['fcn_hm'], class_names,only = only)    \n",
    "    for idx, (mrcnn_row, fcn_row) in enumerate(  zip(r[0]['pr_scores'],r[0]['fcn_scores'])): \n",
    "        cls = int(fcn_row[CLASS_COLUMN])\n",
    "        cls_name = class_names[cls]\n",
    "        if cls_name  not in scores_tree:\n",
    "            scores_tree[cls_name] = []\n",
    "            baseline_scores[cls_name] = []\n",
    "        scores_tree[cls_name].append(round(fcn_row[SCORE_1_COLUMN],4))  \n",
    "        baseline_scores[cls_name].append(round(mrcnn_row[SCORE_1_COLUMN],4))\n",
    "print(scores_tree)\n",
    "print(baseline_scores)\n",
    "plot_fcn_score_curves(xy_movement, scores_tree, baseline_scores, class_names, title = 'Score change based on vertical movement of Person')"
   ]
  },
  {
   "cell_type": "markdown",
   "metadata": {
    "hidden": true
   },
   "source": [
    "#### Image 77 - Truck and Building"
   ]
  },
  {
   "cell_type": "code",
   "execution_count": null,
   "metadata": {
    "ExecuteTime": {
     "end_time": "2019-04-17T00:15:52.786722Z",
     "start_time": "2019-04-17T00:15:47.469917Z"
    },
    "hidden": true
   },
   "outputs": [],
   "source": [
    "scores_building  = {}\n",
    "baseline_scores = {}\n",
    "xy_movement = np.arange(5,130,10)\n",
    "for cy in xy_movement:    \n",
    "    building  = ('building', (7.0, 9.0, 197.0)    , (cx , cy, 24, 20))\n",
    "    dataset_test.image_info[image_id]['shapes'][-1] = building\n",
    "    r = run_fcn_evaluation(fcn_model, mrcnn_model, dataset_test, image_id, verbose = False)  \n",
    "#     print('-'*100)\n",
    "#     print(' CY: ', cy)\n",
    "#     print('-'*100)\n",
    "    vis.display_image_gt(dataset_test, dataset_test.config, image_id, size=6, verbose = True)    \n",
    "#     vis2.display_fcn_hm(vis2.normalize_all(r[0]['fcn_hm'][1:]), class_names, columns =9, size = 8)\n",
    "#     vis2.display_pr_fcn_scores(r[0], class_names)\n",
    "#     vis2.display_fcn_scores_box_info(r[0]['fcn_scores'], r[0]['fcn_hm'], class_names,only = only)    \n",
    "    for idx, (mrcnn_row, fcn_row) in enumerate(  zip(r[0]['pr_scores'],r[0]['fcn_scores'])): \n",
    "        cls = int(fcn_row[CLASS_COLUMN])\n",
    "        cls_name = class_names[cls]\n",
    "        if cls_name  not in scores_building:\n",
    "            scores_building[cls_name] = []\n",
    "            baseline_scores[cls_name] = []\n",
    "        scores_building[cls_name].append(round(fcn_row[SCORE_1_COLUMN],4))  \n",
    "        baseline_scores[cls_name].append(round(mrcnn_row[SCORE_1_COLUMN],4))\n",
    "print(scores_building)\n",
    "print(baseline_scores)\n",
    "plot_fcn_score_curves(xy_movement, scores_building, baseline_scores, class_names, title = 'Score change based on vertical movement of Person')"
   ]
  },
  {
   "cell_type": "code",
   "execution_count": null,
   "metadata": {
    "ExecuteTime": {
     "end_time": "2019-04-17T00:16:24.885620Z",
     "start_time": "2019-04-17T00:16:24.559346Z"
    },
    "hidden": true
   },
   "outputs": [],
   "source": [
    "plt.figure(figsize=(10,5))\n",
    "ax = plt.gca()\n",
    "title = ' Truck FCN score change based on secondary object vertical movement'\n",
    "ax.plot(xy_movement, scores_airplane['truck'], label= ' Truck/Airplane')\n",
    "ax.plot(xy_movement, scores_cloud['truck'], label= ' Truck/Cloud')\n",
    "ax.plot(xy_movement, scores_sun['truck'], label= ' Truck/Sun')\n",
    "ax.plot(xy_movement, scores_person['truck'], label= ' Truck/Person')\n",
    "ax.plot(xy_movement, scores_car['truck'], label= ' Truck/Car')\n",
    "ax.plot(xy_movement, scores_tree['truck'], label= ' Truck/Tree')\n",
    "ax.plot(xy_movement, scores_building['truck'], label= ' Truck/Tree')\n",
    "ax.set_title(title, fontsize=14)\n",
    "ax.set_xlabel('Object displacement from origin axis', fontsize= 12)\n",
    "ax.set_ylabel('FCN Score', fontsize= 12)\n",
    "ax.tick_params(axis='both', labelsize = 10)\n",
    "#     ax.set_xlim([min_x,1.05])\n",
    "#     ax.set_ylim([all_scores.min()-0.05, all_scores.max()+0.05])\n",
    "leg = plt.legend(loc='upper right',frameon=True, fontsize = 10, markerscale = 6)\n",
    "leg.set_title(' Scores ',prop={'size':11})\n",
    "plt.grid(True)\n",
    "#     for xval in np.linspac"
   ]
  },
  {
   "cell_type": "code",
   "execution_count": null,
   "metadata": {
    "ExecuteTime": {
     "end_time": "2019-04-17T00:17:00.077065Z",
     "start_time": "2019-04-17T00:16:59.842402Z"
    },
    "hidden": true,
    "scrolled": false
   },
   "outputs": [],
   "source": [
    "vis.display_image_gt(dataset_test, dataset_test.config, image_id, size=6)"
   ]
  },
  {
   "cell_type": "markdown",
   "metadata": {
    "hidden": true
   },
   "source": [
    "#### Imahe 76"
   ]
  },
  {
   "cell_type": "code",
   "execution_count": null,
   "metadata": {
    "ExecuteTime": {
     "end_time": "2019-05-17T15:48:16.119768Z",
     "start_time": "2019-05-17T15:48:16.085547Z"
    },
    "hidden": true
   },
   "outputs": [],
   "source": [
    "image_id = 76\n",
    "save_shapes_76 = copy.copy(dataset_test.image_info[image_id]['shapes'])\n",
    "pp.pprint(save_shapes_76)"
   ]
  },
  {
   "cell_type": "code",
   "execution_count": null,
   "metadata": {
    "ExecuteTime": {
     "end_time": "2019-05-17T15:56:34.514168Z",
     "start_time": "2019-05-17T15:56:34.476743Z"
    },
    "hidden": true
   },
   "outputs": [],
   "source": [
    "cloud_76 = ('cloud', (119.0, 136.0, 153.0), (122, 23, 49, 9))\n",
    "airplane_76 = ('airplane', (35.0, 239.0, 81.0), (53, 20, 18, 7))\n",
    "airplane =  ('airplane', (215.0, 29.0, 31.0), (13, 22, 18, 7))\n",
    "tree_76 = ('tree', (0.0, 100.0, 0.0), (90, 44, 3, 9))\n",
    "truck_76 =  ('truck', (51.0, 159.0, 129.0), (96, 63, 35, 10))"
   ]
  },
  {
   "cell_type": "code",
   "execution_count": null,
   "metadata": {
    "ExecuteTime": {
     "end_time": "2019-05-17T15:56:36.688670Z",
     "start_time": "2019-05-17T15:56:36.168868Z"
    },
    "hidden": true
   },
   "outputs": [],
   "source": [
    "image_id  = 76\n",
    "print(image_id)\n",
    "# truck = ('truck', (150.0, 174.0, 8.0), (95, 93, 23, 11))\n",
    "# airplane = ('airplane', (200.0, 132.0, 126.0), (25, 23, 18, 7))\n",
    "\n",
    "dataset_test.image_info[image_id]['shapes'] = []\n",
    "dataset_test.image_info[image_id]['shapes'].append(cloud_76)\n",
    "# dataset_test.image_info[image_id]['shapes'].append(airplane_76)\n",
    "dataset_test.image_info[image_id]['shapes'].append(tree_76)\n",
    "dataset_test.image_info[image_id]['shapes'].append(truck_76)\n",
    "dataset_test.image_info[image_id]['shapes'].append(airplane)\n",
    "vis.display_image_gt(dataset_test, dataset_test.config, image_id, size=6, verbose = True)\n",
    "r = run_fcn_evaluation(fcn_model, mrcnn_model, dataset_test, image_id, verbose = False)  \n",
    "# r = run_fcn_inference(fcn_model, mrcnn_model, dataset_test, image_id, verbose = False)  \n",
    "# vis2.display_fcn_hm(vis2.normalize_all(r[0]['fcn_hm'][1:]), class_names, columns =9, size = 8)\n",
    "vis2.display_pr_fcn_scores(r[0], class_names)"
   ]
  },
  {
   "cell_type": "code",
   "execution_count": null,
   "metadata": {
    "ExecuteTime": {
     "end_time": "2019-05-17T15:56:43.692205Z",
     "start_time": "2019-05-17T15:56:39.767121Z"
    },
    "hidden": true,
    "scrolled": false
   },
   "outputs": [],
   "source": [
    "only = None\n",
    "cx = 25\n",
    "# scores_airplane  = {}\n",
    "axis_position = {}\n",
    "fcn_scores_1 = {}\n",
    "fcn_scores_2 = {}\n",
    "baseline_scores = {}\n",
    "xy_movement = np.arange(5,130,10)\n",
    "\n",
    "for cy in xy_movement:    \n",
    "    airplane =  ('airplane', (215.0, 29.0, 31.0), (cx, cy, 18, 7))\n",
    "    dataset_test.image_info[image_id]['shapes'][-1] = airplane\n",
    "    \n",
    "    r = run_fcn_evaluation(fcn_model, mrcnn_model, dataset_test, image_id, verbose = False)  \n",
    "#     r = run_fcn_detection(fcn_model, mrcnn_model, dataset_test, image_id, verbose = False)  \n",
    "\n",
    "#     print('-'*100)\n",
    "#     print(' CY: ', cy)\n",
    "#     print('-'*100)\n",
    "    if cy % 15 == 0:\n",
    "        vis.display_image_gt(dataset_test, dataset_test.config, image_id, size=6, verbose = True)    \n",
    "    \n",
    "#     vis2.display_fcn_hm(vis2.normalize_all(r[0]['fcn_hm'][1:]), class_names, columns =9, size = 8)\n",
    "#     vis2.display_pr_fcn_scores(r[0], class_names)\n",
    "#     vis2.display_fcn_scores_box_info(r[0]['fcn_scores'], r[0]['fcn_hm'], class_names,only = only)\n",
    "\n",
    "    for idx, (mrcnn_row, fcn_row) in enumerate(  zip(r[0]['pr_scores'],r[0]['fcn_scores'])): \n",
    "        cls = int(fcn_row[CLASS_COLUMN])\n",
    "        cls_name = class_names[cls]\n",
    "        if cls_name  not in fcn_scores_1:\n",
    "            fcn_scores_1[cls_name] = []\n",
    "            fcn_scores_2[cls_name] = []\n",
    "            baseline_scores[cls_name] = []\n",
    "            axis_position[cls_name] = []\n",
    "        axis_position[cls_name].append(cy)\n",
    "        fcn_scores_1[cls_name].append(round(fcn_row[SCORE_1_COLUMN],4))  \n",
    "        fcn_scores_2[cls_name].append(round(fcn_row[SCORE_2_COLUMN],4))  \n",
    "        baseline_scores[cls_name].append(round(mrcnn_row[SCORE_1_COLUMN],4))\n",
    "\n",
    "#     print(scores_airplane)\n",
    "print(baseline_scores)\n",
    "print(xy_movement)\n",
    "print(fcn_scores_1)\n",
    "vis2.plot_fcn_score_curves_1(axis_position, fcn_scores_1 , baseline_scores, class_names, title = 'Score change based on vertical movement of Airplane', mrcnn = False)"
   ]
  },
  {
   "cell_type": "markdown",
   "metadata": {},
   "source": [
    "##  Image 77: Truck - Horizontally moving objects (airplane,...)"
   ]
  },
  {
   "cell_type": "code",
   "execution_count": null,
   "metadata": {
    "ExecuteTime": {
     "end_time": "2019-05-17T15:17:25.259540Z",
     "start_time": "2019-05-17T15:17:25.026726Z"
    }
   },
   "outputs": [],
   "source": [
    "print(image_id)\n",
    "truck = ('truck', (150.0, 174.0, 8.0), (95, 93, 23, 11))\n",
    "airplane = ('airplane', (200.0, 132.0, 126.0), (25, 23, 18, 7))\n",
    "\n",
    "dataset_test.image_info[image_id]['shapes'] = []\n",
    "dataset_test.image_info[image_id]['shapes'].append(truck)\n",
    "dataset_test.image_info[image_id]['shapes'].append(airplane)\n",
    "vis.display_image_gt(dataset_test, dataset_test.config, image_id, size=6, verbose = True)\n",
    "# r = run_fcn_evaluation(fcn_model, mrcnn_model, dataset_test, image_id, verbose = False)  \n",
    "r = run_fcn_inference(fcn_model, mrcnn_model, dataset_test, image_id, verbose = False)  \n",
    "# vis2.display_fcn_hm(vis2.normalize_all(r[0]['fcn_hm'][1:]), class_names, columns =9, size = 8)\n",
    "vis2.display_pr_fcn_scores(r[0], class_names)"
   ]
  },
  {
   "cell_type": "markdown",
   "metadata": {},
   "source": [
    "#### Image 77 - Truck and Airplane"
   ]
  },
  {
   "cell_type": "code",
   "execution_count": null,
   "metadata": {
    "ExecuteTime": {
     "end_time": "2019-04-17T00:22:11.944261Z",
     "start_time": "2019-04-17T00:22:06.404316Z"
    },
    "scrolled": true
   },
   "outputs": [],
   "source": [
    "only = None\n",
    "cy = 30\n",
    "hscores_airplane = {} # np.empty((2,0))\n",
    "baseline_scores = {}\n",
    "# print(scores.shape)\n",
    "xy_movement = np.arange(5,130,10)\n",
    "for cx in xy_movement:    \n",
    "    moving_object = ('airplane', (200.0, 132.0, 126.0), (cx, cy, 18, 7))\n",
    "    dataset_test.image_info[image_id]['shapes'][-1] = moving_object\n",
    "    r = run_fcn_evaluation(fcn_model, mrcnn_model, dataset_test, image_id, verbose = False)  \n",
    "    \n",
    "    vis.display_image_gt(dataset_test, dataset_test.config, image_id, size=6, verbose = True)    \n",
    "#     vis2.display_fcn_hm(vis2.normalize_all(r[0]['fcn_hm'][1:]), class_names, columns =9, size = 8)\n",
    "#     vis2.display_fcn_scores_box_info(r[0]['fcn_scores'], r[0]['fcn_hm'], class_names,only = only)\n",
    "    vis2.display_pr_fcn_scores(r[0], class_names)\n",
    "    \n",
    "    for idx, (mrcnn_row, fcn_row) in enumerate(  zip(r[0]['pr_scores'],r[0]['fcn_scores'])): \n",
    "        cls = int(fcn_row[CLASS_COLUMN])\n",
    "        cls_name = class_names[cls]\n",
    "        if cls_name  not in hscores_airplane:\n",
    "            hscores_airplane[cls_name] = []\n",
    "            baseline_scores[cls_name] = []\n",
    "        hscores_airplane[cls_name].append(round(fcn_row[SCORE_1_COLUMN],4))  \n",
    "        baseline_scores[cls_name].append(round(mrcnn_row[SCORE_1_COLUMN],4))\n",
    "print(hscores_airplane)\n",
    "# print(baseline_scores)\n",
    "plot_fcn_score_curves(xy_movement, hscores_airplane, baseline_scores, class_names, title = 'Score change based on horizontal movement of Airplane')"
   ]
  },
  {
   "cell_type": "markdown",
   "metadata": {},
   "source": [
    "#### Image 77 - Truck and Cloud"
   ]
  },
  {
   "cell_type": "code",
   "execution_count": null,
   "metadata": {
    "ExecuteTime": {
     "end_time": "2019-04-17T00:28:44.901649Z",
     "start_time": "2019-04-17T00:28:39.456430Z"
    },
    "scrolled": true
   },
   "outputs": [],
   "source": [
    "only = None\n",
    "cy = 30\n",
    "hscores_cloud = {} # np.empty((2,0))\n",
    "baseline_scores = {}\n",
    "# print(scores.shape)\n",
    "xy_movement = np.arange(5,130,10)\n",
    "for cx in xy_movement:    \n",
    "    moving_object = ('cloud'   , (192.0, 192.0, 192.0), (cx , cy, 34,  8))\n",
    "    dataset_test.image_info[image_id]['shapes'][-1] = moving_object\n",
    "    r = run_fcn_evaluation(fcn_model, mrcnn_model, dataset_test, image_id, verbose = False)  \n",
    "    \n",
    "#     print('-'*100)\n",
    "#     print(' CX: ', cx)\n",
    "#     print('-'*100)\n",
    "    vis.display_image_gt(dataset_test, dataset_test.config, image_id, size=6, verbose = True)    \n",
    "#     vis2.display_fcn_hm(vis2.normalize_all(r[0]['fcn_hm'][1:]), class_names, columns =9, size = 8)\n",
    "#     vis2.display_fcn_scores_box_info(r[0]['fcn_scores'], r[0]['fcn_hm'], class_names,only = only)\n",
    "    vis2.display_pr_fcn_scores(r[0], class_names)\n",
    "    \n",
    "    for idx, (mrcnn_row, fcn_row) in enumerate(  zip(r[0]['pr_scores'],r[0]['fcn_scores'])): \n",
    "        cls = int(fcn_row[CLASS_COLUMN])\n",
    "        cls_name = class_names[cls]\n",
    "        if cls_name  not in hscores_cloud:\n",
    "            hscores_cloud[cls_name] = []\n",
    "            baseline_scores[cls_name] = []\n",
    "        hscores_cloud[cls_name].append(round(fcn_row[SCORE_1_COLUMN],4))  \n",
    "        baseline_scores[cls_name].append(round(mrcnn_row[SCORE_1_COLUMN],4))\n",
    "print(hscores_cloud)\n",
    "print(baseline_scores)\n",
    "plot_fcn_score_curves(xy_movement, hscores_cloud, baseline_scores, class_names, title = 'Score change based on horizontal movement of Cloud')"
   ]
  },
  {
   "cell_type": "markdown",
   "metadata": {},
   "source": [
    "#### Image 77 - Truck and Sun"
   ]
  },
  {
   "cell_type": "code",
   "execution_count": null,
   "metadata": {
    "ExecuteTime": {
     "end_time": "2019-04-17T00:34:44.741882Z",
     "start_time": "2019-04-17T00:34:38.104471Z"
    },
    "scrolled": true
   },
   "outputs": [],
   "source": [
    "only = None\n",
    "cy = 30\n",
    "hscores_sun = {} # np.empty((2,0))\n",
    "baseline_scores = {}\n",
    "# print(scores.shape)\n",
    "xy_movement = np.arange(5,130,10)\n",
    "for cx in xy_movement:    \n",
    "    sun       = ('sun'     , (255.0, 215.0, 0.0)  , (cx , cy,  6,  6))\n",
    "    dataset_test.image_info[image_id]['shapes'][-1] = sun\n",
    "    r = run_fcn_evaluation(fcn_model, mrcnn_model, dataset_test, image_id, verbose = False)  \n",
    "    \n",
    "#     print('-'*100)\n",
    "#     print(' CX: ', cx)\n",
    "#     print('-'*100)\n",
    "    vis.display_image_gt(dataset_test, dataset_test.config, image_id, size=6, verbose = True)    \n",
    "#     vis2.display_fcn_hm(vis2.normalize_all(r[0]['fcn_hm'][1:]), class_names, columns =9, size = 8)\n",
    "#     vis2.display_fcn_scores_box_info(r[0]['fcn_scores'], r[0]['fcn_hm'], class_names,only = only)\n",
    "    vis2.display_pr_fcn_scores(r[0], class_names)\n",
    "    \n",
    "    for idx, (mrcnn_row, fcn_row) in enumerate(  zip(r[0]['pr_scores'],r[0]['fcn_scores'])): \n",
    "        cls = int(fcn_row[CLASS_COLUMN])\n",
    "        cls_name = class_names[cls]\n",
    "        if cls_name  not in hscores_sun:\n",
    "            hscores_sun[cls_name] = []\n",
    "            baseline_scores[cls_name] = []\n",
    "        hscores_sun[cls_name].append(round(fcn_row[SCORE_1_COLUMN],4))  \n",
    "        baseline_scores[cls_name].append(round(mrcnn_row[SCORE_1_COLUMN],4))\n",
    "print(hscores_sun)\n",
    "print(baseline_scores)\n",
    "plot_fcn_score_curves(xy_movement, hscores_sun, baseline_scores, class_names, title = 'Score change based on horizontal movement of Sun ')"
   ]
  },
  {
   "cell_type": "markdown",
   "metadata": {},
   "source": [
    "#### Image 77 - Truck and Car"
   ]
  },
  {
   "cell_type": "code",
   "execution_count": null,
   "metadata": {
    "ExecuteTime": {
     "end_time": "2019-04-17T00:36:45.634614Z",
     "start_time": "2019-04-17T00:36:40.268999Z"
    }
   },
   "outputs": [],
   "source": [
    "hscores_car  = {}\n",
    "baseline_scores = {}\n",
    "cy = 30\n",
    "xy_movement = np.arange(5,130,10)\n",
    "for cx in xy_movement:    \n",
    "    car       = ('car'     , (150.0, 174.0, 8.0)  , (cx , cy, 24, 12))\n",
    "    dataset_test.image_info[image_id]['shapes'][-1] = car\n",
    "    r = run_fcn_evaluation(fcn_model, mrcnn_model, dataset_test, image_id, verbose = False)  \n",
    "#     print('-'*100)\n",
    "#     print(' CY: ', cy)\n",
    "#     print('-'*100)\n",
    "    vis.display_image_gt(dataset_test, dataset_test.config, image_id, size=6, verbose = True)    \n",
    "#     vis2.display_fcn_hm(vis2.normalize_all(r[0]['fcn_hm'][1:]), class_names, columns =9, size = 8)\n",
    "#     vis2.display_pr_fcn_scores(r[0], class_names)\n",
    "#     vis2.display_fcn_scores_box_info(r[0]['fcn_scores'], r[0]['fcn_hm'], class_names,only = only)    \n",
    "    for idx, (mrcnn_row, fcn_row) in enumerate(  zip(r[0]['pr_scores'],r[0]['fcn_scores'])): \n",
    "        cls = int(fcn_row[CLASS_COLUMN])\n",
    "        cls_name = class_names[cls]\n",
    "        if cls_name  not in hscores_car:\n",
    "            hscores_car[cls_name] = []\n",
    "            baseline_scores[cls_name] = []\n",
    "        hscores_car[cls_name].append(round(fcn_row[SCORE_1_COLUMN],4))  \n",
    "        baseline_scores[cls_name].append(round(mrcnn_row[SCORE_1_COLUMN],4))\n",
    "print(hscores_car)\n",
    "print(baseline_scores)\n",
    "plot_fcn_score_curves(xy_movement, hscores_car, baseline_scores, class_names, title = 'Score change based on vertical movement of Person')"
   ]
  },
  {
   "cell_type": "code",
   "execution_count": null,
   "metadata": {
    "ExecuteTime": {
     "end_time": "2019-04-17T00:37:10.884928Z",
     "start_time": "2019-04-17T00:37:10.576844Z"
    }
   },
   "outputs": [],
   "source": [
    "plt.figure(figsize=(10,5))\n",
    "ax = plt.gca()\n",
    "title = ' Truck FCN score change based on secondary object horizontal movement'\n",
    "ax.plot(xy_movement, hscores_airplane['truck'], label= ' Truck/Airplane')\n",
    "ax.plot(xy_movement, hscores_cloud['truck'], label= ' Truck/Cloud')\n",
    "ax.hlines(0.7306,0,130, label='Truck FCN baseline')\n",
    "ax.plot(xy_movement, hscores_sun['truck'], label= ' Truck/Sun')\n",
    "# ax.plot(xy_movement, scores_person['truck'], label= ' Truck/Person')\n",
    "ax.plot(xy_movement, hscores_car['truck'], label= ' Truck/Car')\n",
    "# ax.plot(xy_movement, scores_tree['truck'], label= ' Truck/Tree')\n",
    "# ax.plot(xy_movement, scores_building['truck'], label= ' Truck/Tree')\n",
    "ax.set_title(title, fontsize=14)\n",
    "ax.set_xlabel('Object location on horizontal axis', fontsize= 12)\n",
    "ax.set_ylabel('FCN Score', fontsize= 12)\n",
    "ax.tick_params(axis='both', labelsize = 10)\n",
    "#     ax.set_xlim([min_x,1.05])\n",
    "#     ax.set_ylim([all_scores.min()-0.05, all_scores.max()+0.05])\n",
    "leg = plt.legend(loc='upper right',frameon=True, fontsize = 10, markerscale = 6)\n",
    "leg.set_title(' Scores ',prop={'size':11})\n",
    "plt.grid(True)\n",
    "# plot_fcn_score_curves(x_dim, scores, baseline_scores, class_names, title = 'Score change based on horizontal movement of Cloud')"
   ]
  },
  {
   "cell_type": "code",
   "execution_count": null,
   "metadata": {
    "ExecuteTime": {
     "end_time": "2019-04-16T21:18:25.599173Z",
     "start_time": "2019-04-16T21:18:25.382510Z"
    },
    "scrolled": true
   },
   "outputs": [],
   "source": [
    "vis.display_image_gt(dataset_test, dataset_test.config, image_id, size=6)"
   ]
  },
  {
   "cell_type": "markdown",
   "metadata": {
    "heading_collapsed": true
   },
   "source": [
    "## Image 176"
   ]
  },
  {
   "cell_type": "code",
   "execution_count": null,
   "metadata": {
    "ExecuteTime": {
     "end_time": "2019-05-17T16:11:00.527959Z",
     "start_time": "2019-05-17T16:11:00.316670Z"
    },
    "hidden": true
   },
   "outputs": [],
   "source": [
    "# new_obj  = ('car', black, (64,64, 15, 7))\n",
    "# person = ('person', (139.0, 69.0, 19.0), (17, 92, 2, 10))\n",
    "image_id = 176\n",
    "save_shapes = copy.copy(dataset_test.image_info[image_id]['shapes'])\n",
    "pp.pprint(save_shapes)\n",
    "vis.display_image_gt(dataset_test, dataset_test.config, image_id, size=6, verbose = True)"
   ]
  },
  {
   "cell_type": "code",
   "execution_count": null,
   "metadata": {
    "ExecuteTime": {
     "end_time": "2019-04-17T00:05:54.525632Z",
     "start_time": "2019-04-17T00:05:49.175396Z"
    },
    "hidden": true
   },
   "outputs": [],
   "source": [
    "scores_person  = {}\n",
    "baseline_scores = {}\n",
    "xy_movement = np.arange(5,130,10)\n",
    "for cy in xy_movement:    \n",
    "    person    = ('person'  , (139.0, 69.0, 19.0)  , (cx , cy,  2, 10))\n",
    "    dataset_test.image_info[image_id]['shapes'][-1] = person\n",
    "    r = run_fcn_evaluation(fcn_model, mrcnn_model, dataset_test, image_id, verbose = False)  \n",
    "#     print('-'*100)\n",
    "#     print(' CY: ', cy)\n",
    "#     print('-'*100)\n",
    "    vis.display_image_gt(dataset_test, dataset_test.config, image_id, size=6, verbose = True)    \n",
    "#     vis2.display_fcn_hm(vis2.normalize_all(r[0]['fcn_hm'][1:]), class_names, columns =9, size = 8)\n",
    "#     vis2.display_pr_fcn_scores(r[0], class_names)\n",
    "#     vis2.display_fcn_scores_box_info(r[0]['fcn_scores'], r[0]['fcn_hm'], class_names,only = only)    \n",
    "    for idx, (mrcnn_row, fcn_row) in enumerate(  zip(r[0]['pr_scores'],r[0]['fcn_scores'])): \n",
    "        cls = int(fcn_row[CLASS_COLUMN])\n",
    "        cls_name = class_names[cls]\n",
    "        if cls_name  not in scores_person:\n",
    "            scores_person[cls_name] = []\n",
    "            baseline_scores[cls_name] = []\n",
    "        scores_person[cls_name].append(round(fcn_row[SCORE_1_COLUMN],4))  \n",
    "        baseline_scores[cls_name].append(round(mrcnn_row[SCORE_1_COLUMN],4))\n",
    "print(scores_person)\n",
    "print(baseline_scores)\n",
    "plot_fcn_score_curves(xy_movement, scores_person, baseline_scores, class_names, title = 'Score change based on vertical movement of Person')"
   ]
  },
  {
   "cell_type": "code",
   "execution_count": null,
   "metadata": {
    "ExecuteTime": {
     "end_time": "2019-04-05T18:36:45.703374Z",
     "start_time": "2019-04-05T18:36:45.510520Z"
    },
    "hidden": true
   },
   "outputs": [],
   "source": [
    "del dataset_test.image_info[image_id]['shapes'][0:2]\n",
    "del dataset_test.image_info[image_id]['shapes'][-1]\n",
    "vis.display_image_gt(dataset_test, dataset_test.config, image_id, size=6, verbose = True)"
   ]
  },
  {
   "cell_type": "code",
   "execution_count": null,
   "metadata": {
    "ExecuteTime": {
     "end_time": "2019-04-05T18:35:39.436196Z",
     "start_time": "2019-04-05T18:35:39.234394Z"
    },
    "hidden": true
   },
   "outputs": [],
   "source": [
    "person = ('person', (0.0, 0.0, 0.0), (64, 64, 2, 10))\n",
    "dataset_test.image_info[image_id]['shapes'].append(person)\n",
    "vis.display_image_gt(dataset_test, dataset_test.config, image_id, size=6, verbose = True)"
   ]
  },
  {
   "cell_type": "code",
   "execution_count": null,
   "metadata": {
    "ExecuteTime": {
     "end_time": "2019-04-05T18:35:57.679329Z",
     "start_time": "2019-04-05T18:35:57.484127Z"
    },
    "hidden": true
   },
   "outputs": [],
   "source": [
    "dataset_test.image_info[image_id]['shapes'].pop(-1)\n",
    "vis.display_image_gt(dataset_test, dataset_test.config, image_id, size=6, verbose = True)\n"
   ]
  },
  {
   "cell_type": "code",
   "execution_count": null,
   "metadata": {
    "ExecuteTime": {
     "end_time": "2019-04-05T18:36:21.938727Z",
     "start_time": "2019-04-05T18:36:21.726453Z"
    },
    "hidden": true
   },
   "outputs": [],
   "source": [
    "dataset_test.image_info[image_id]['shapes'] = save_shapes\n",
    "vis.display_image_gt(dataset_test, dataset_test.config, image_id, size=6, verbose = True)\n"
   ]
  },
  {
   "cell_type": "code",
   "execution_count": null,
   "metadata": {
    "ExecuteTime": {
     "end_time": "2019-04-05T14:04:58.123152Z",
     "start_time": "2019-04-05T14:04:58.073812Z"
    },
    "hidden": true
   },
   "outputs": [],
   "source": [
    "import copy \n",
    "save_shapes = copy.copy(dataset_test.image_info[29]['shapes'])\n",
    "pp.pprint(save_shapes)"
   ]
  },
  {
   "cell_type": "markdown",
   "metadata": {},
   "source": [
    "##  Image 29\n",
    "     Remove building and tree and move cars above each other"
   ]
  },
  {
   "cell_type": "code",
   "execution_count": 6,
   "metadata": {
    "ExecuteTime": {
     "end_time": "2019-05-19T19:46:35.787436Z",
     "start_time": "2019-05-19T19:46:35.565791Z"
    }
   },
   "outputs": [
    {
     "name": "stdout",
     "output_type": "stream",
     "text": [
      "[ ('building', (48.0, 111.0, 114.0), (87, 50, 19, 15)),\n",
      "  ('tree', (0.0, 128.0, 0.0), (17, 53, 6, 16)),\n",
      "  ('car', (104.0, 52.0, 242.0), (68, 76, 17, 8)),\n",
      "  ('car', (227.0, 95.0, 90.0), (80, 92, 20, 10))]\n",
      " Image_id    :  29  Reference:  [('building', (48.0, 111.0, 114.0), (87, 50, 19, 15)), ('tree', (0.0, 128.0, 0.0), (17, 53, 6, 16)), ('car', (104.0, 52.0, 242.0), (68, 76, 17, 8)), ('car', (227.0, 95.0, 90.0), (80, 92, 20, 10))] Coco Id: 29\n",
      " Image meta  :  [ 29 128 128   3   0   0 128 128   1   1]\n",
      " Class ids   :  (4,)    [4 5 2 2]\n",
      " Class Names :  ['building', 'tree', 'car', 'car']\n"
     ]
    },
    {
     "data": {
      "image/png": "[encoded data removed]",
      "text/plain": [
       "<matplotlib.figure.Figure at 0x7f41e8f314a8>"
      ]
     },
     "metadata": {},
     "output_type": "display_data"
    }
   ],
   "source": [
    "image_id = 29\n",
    "save_shapes = copy.copy(dataset_test.image_info[image_id]['shapes'])\n",
    "pp.pprint(save_shapes)\n",
    "vis.display_image_gt(dataset_test, dataset_test.config, image_id, size=6, verbose = True)"
   ]
  },
  {
   "cell_type": "code",
   "execution_count": null,
   "metadata": {
    "ExecuteTime": {
     "end_time": "2019-05-19T15:12:28.503696Z",
     "start_time": "2019-05-19T15:12:28.460921Z"
    }
   },
   "outputs": [],
   "source": [
    "image_id  =29 \n",
    "bldg = ('building', (48.0, 111.0, 114.0), (87, 50, 19, 15))\n",
    "tree = ('tree', (0.0, 128.0, 0.0), (17, 53, 6, 16))\n",
    "car_1= ('car', (104.0, 52.0, 242.0), (68, 76, 17, 8))\n",
    "car_2= ('car', (227.0, 95.0, 90.0), (100, 92, 20, 10))\n",
    "\n",
    "\n"
   ]
  },
  {
   "cell_type": "markdown",
   "metadata": {},
   "source": [
    "###  Car- horizontially moving person across imge  "
   ]
  },
  {
   "cell_type": "code",
   "execution_count": 37,
   "metadata": {
    "ExecuteTime": {
     "end_time": "2019-05-19T20:08:52.100679Z",
     "start_time": "2019-05-19T20:08:51.704058Z"
    },
    "scrolled": false
   },
   "outputs": [
    {
     "name": "stdout",
     "output_type": "stream",
     "text": [
      "29\n",
      " Image_id    :  29  Reference:  [('car', (0.0, 0.0, 0.0), (60, 92, 16, 8)), ('person', (255.0, 255.0, 255.0), (60, 92, 2, 12))] Coco Id: 29\n",
      " Image meta  :  [ 29 128 128   3   0   0 128 128   1   1]\n",
      " Class ids   :  (2,)    [2 1]\n",
      " Class Names :  ['car', 'person']\n",
      "\n",
      "GT_BOXES for image  29\n",
      "--------------------------------------------------------------------------------\n",
      "        class             |                              \n",
      "seq  id name              |  Y1  X1  Y2  X2     CX     CY    AREA\n",
      "--------------------------------------------------------------------------------\n",
      "  0  2 car                |  84  44  99  77    60.5   91.5   495.00\n",
      "  1  1 person             |  78  58 102  63    60.5   90.0   120.00\n",
      "\n"
     ]
    },
    {
     "data": {
      "image/png": "[encoded data removed]",
      "text/plain": [
       "<matplotlib.figure.Figure at 0x7f42000ec4e0>"
      ]
     },
     "metadata": {},
     "output_type": "display_data"
    },
    {
     "data": {
      "image/png": "[encoded data removed]",
      "text/plain": [
       "<matplotlib.figure.Figure at 0x7f41e870e1d0>"
      ]
     },
     "metadata": {},
     "output_type": "display_data"
    }
   ],
   "source": [
    "print(image_id)\n",
    "cx = 60\n",
    "cy = 92\n",
    "\n",
    "person_color = (139.0, 69.0, 19.0)\n",
    "red = (227.0, 95.0, 90.0)\n",
    "black = (0.0, 0.0, 0.0)\n",
    "white  = (255.0, 255.0,255.0)\n",
    "# car_2black= ('car'   ,black, (60, cy, 20, 10))\n",
    "car_2black= ('car'   ,black , (60, cy, 16, 8))   ## SMALL CAR\n",
    "person    = ('person', (139.0, 69.0, 19.0)  , (cx , cy,  2, 12))\n",
    "person    = ('person', white  , (cx , cy,  2, 12))\n",
    "# truck = ('truck', (150.0, 174.0, 8.0), (95, 93, 23, 11))\n",
    "# airplane = ('airplane', (200.0, 132.0, 126.0), (25, 23, 18, 7))\n",
    "\n",
    "dataset_test.image_info[image_id]['shapes'] = []\n",
    "# dataset_test.image_info[image_id]['shapes'].append(bldg)\n",
    "# dataset_test.image_info[image_id]['shapes'].append(tree)\n",
    "dataset_test.image_info[image_id]['shapes'].append(car_2black)\n",
    "dataset_test.image_info[image_id]['shapes'].append(person)\n",
    "\n",
    "\n",
    "vis.display_image_gt(dataset_test, dataset_test.config, image_id, size=6, verbose = True)\n",
    "vis2.display_gt_bboxes(dataset_test, dataset_test.config, image_id, size=6, verbose = True)\n",
    "# r = run_fcn_evaluation(fcn_model, mrcnn_model, dataset_test, image_id, verbose = False)  \n",
    "# r = run_fcn_inference(fcn_model, mrcnn_model, dataset_test, image_id, verbose = False)  \n",
    "# vis2.display_fcn_hm(vis2.normalize_all(r[0]['fcn_hm'][1:]), class_names, columns =9, size = 8)\n",
    "# vis2.display_pr_fcn_scores(r[0], class_names)"
   ]
  },
  {
   "cell_type": "code",
   "execution_count": 38,
   "metadata": {
    "ExecuteTime": {
     "end_time": "2019-05-19T20:09:03.902005Z",
     "start_time": "2019-05-19T20:08:56.654534Z"
    },
    "scrolled": true
   },
   "outputs": [
    {
     "name": "stdout",
     "output_type": "stream",
     "text": [
      "cx: 5  fcn_score2 person : 0.668  fcn_score2 car: 0.6181\n",
      "cx: 10  fcn_score2 person : 0.5146  fcn_score2 car: 0.6186\n",
      "cx: 15  fcn_score2 person : 0.6415  fcn_score2 car: 0.6191\n",
      "cx: 20  fcn_score2 person : 0.5685  fcn_score2 car: 0.6199\n",
      "cx: 25  fcn_score2 person : 0.5655  fcn_score2 car: 0.6213\n",
      "cx: 30  fcn_score2 person : 0.664  fcn_score2 car: 0.6227\n",
      "cx: 35  fcn_score2 person : 0.6115  fcn_score2 car: 0.6213\n",
      "cx: 40  fcn_score2 person : 0.622  fcn_score2 car: 0.5948\n",
      "cx: 45  fcn_score2 person : 0.6311  fcn_score2 car: 0.5989\n",
      "cx: 50  fcn_score2 person : 0.5973  fcn_score2 car: 0.5029\n",
      "cx: 55  fcn_score2 person : 0.6659  fcn_score2 car: 0.433\n",
      "cx: 60  fcn_score2 person : 0.4455  fcn_score2 car: 0.2196\n",
      "cx: 65  fcn_score2 person : 0.6552  fcn_score2 car: 0.037\n",
      "cx: 70  fcn_score2 person : 0.7114  fcn_score2 car: 0.5272\n",
      "cx: 75  fcn_score2 person : 0.6631  fcn_score2 car: 0.5703\n",
      "cx: 80  fcn_score2 person : 0.6044  fcn_score2 car: 0.6302\n",
      "cx: 85  fcn_score2 person : 0.6478  fcn_score2 car: 0.6071\n",
      "cx: 90  fcn_score2 person : 0.5726  fcn_score2 car: 0.6134\n",
      "cx: 95  fcn_score2 person : 0.6636  fcn_score2 car: 0.6161\n",
      "cx: 100  fcn_score2 person : 0.598  fcn_score2 car: 0.6171\n",
      "cx: 105  fcn_score2 person : 0.5612  fcn_score2 car: 0.6181\n",
      "cx: 110  fcn_score2 person : 0.6568  fcn_score2 car: 0.6179\n",
      "cx: 115  fcn_score2 person : 0.5776  fcn_score2 car: 0.618\n",
      "cx: 120  fcn_score2 person : 0.5822  fcn_score2 car: 0.618\n",
      "cx: 125  fcn_score2 person : 0.4605  fcn_score2 car: 0.618\n",
      "cls:  car\n",
      "add to plot\n",
      "cls:  person\n",
      "add to plot\n",
      " y limit: (-0.03471500000000001, 1.045815)  xlimit :  (-1.0, 131.0)\n",
      "cls:  car\n",
      "add to plot\n",
      "cls:  person\n",
      "add to plot\n",
      " y limit: (0.003279999999999998, 0.74512)  xlimit :  (-1.0, 131.0)\n"
     ]
    },
    {
     "data": {
      "image/png": "[encoded data removed]",
      "text/plain": [
       "<matplotlib.figure.Figure at 0x7f42000270f0>"
      ]
     },
     "metadata": {},
     "output_type": "display_data"
    },
    {
     "data": {
      "image/png": "[encoded data removed]",
      "text/plain": [
       "<matplotlib.figure.Figure at 0x7f41e8cde898>"
      ]
     },
     "metadata": {},
     "output_type": "display_data"
    },
    {
     "data": {
      "image/png": "[encoded data removed]",
      "text/plain": [
       "<matplotlib.figure.Figure at 0x7f420f14b748>"
      ]
     },
     "metadata": {},
     "output_type": "display_data"
    },
    {
     "data": {
      "image/png": "[encoded data removed]",
      "text/plain": [
       "<matplotlib.figure.Figure at 0x7f420048f128>"
      ]
     },
     "metadata": {},
     "output_type": "display_data"
    },
    {
     "data": {
      "image/png": "[encoded data removed]",
      "text/plain": [
       "<matplotlib.figure.Figure at 0x7f42005d5eb8>"
      ]
     },
     "metadata": {},
     "output_type": "display_data"
    },
    {
     "data": {
      "image/png": "[encoded data removed]",
      "text/plain": [
       "<matplotlib.figure.Figure at 0x7f4200203b70>"
      ]
     },
     "metadata": {},
     "output_type": "display_data"
    },
    {
     "data": {
      "image/png": "[encoded data removed]",
      "text/plain": [
       "<matplotlib.figure.Figure at 0x7f420456f518>"
      ]
     },
     "metadata": {},
     "output_type": "display_data"
    },
    {
     "data": {
      "image/png": "[encoded data removed]",
      "text/plain": [
       "<matplotlib.figure.Figure at 0x7f42004c1eb8>"
      ]
     },
     "metadata": {},
     "output_type": "display_data"
    },
    {
     "data": {
      "image/png": "[encoded data removed]",
      "text/plain": [
       "<matplotlib.figure.Figure at 0x7f41e8cf2f98>"
      ]
     },
     "metadata": {},
     "output_type": "display_data"
    },
    {
     "data": {
      "image/png": "[encoded data removed]",
      "text/plain": [
       "<matplotlib.figure.Figure at 0x7f420022e160>"
      ]
     },
     "metadata": {},
     "output_type": "display_data"
    }
   ],
   "source": [
    "scores_person  = {}\n",
    "baseline_scores = {}\n",
    "scores_person2  = {}\n",
    "baseline_scores2 = {}\n",
    "\n",
    "xy_movement = np.arange(5,130,5)\n",
    "for cx in xy_movement:    \n",
    "    person    = ('person'  ,  white , (cx , cy,  2, 10))\n",
    "    dataset_test.image_info[image_id]['shapes'][0] = person\n",
    "    dataset_test.image_info[image_id]['shapes'][1] = car_2black\n",
    "    r = run_fcn_evaluation(fcn_model, mrcnn_model, dataset_test, image_id, verbose = False)  \n",
    "    if cx % 15 == 0 :\n",
    "        vis.display_image_gt(dataset_test, dataset_test.config, image_id, size=6, verbose = False)       \n",
    "    for idx, (mrcnn_row, fcn_row) in enumerate(  zip(r[0]['pr_scores'],r[0]['fcn_scores'])): \n",
    "        cls = int(fcn_row[CLASS_COLUMN])\n",
    "        cls_name = class_names[cls]\n",
    "        if cls_name  not in scores_person:\n",
    "            scores_person[cls_name] = []\n",
    "            baseline_scores[cls_name] = []\n",
    "        if cls_name  not in scores_person2:\n",
    "            scores_person2[cls_name] = []\n",
    "            baseline_scores2[cls_name] = []            \n",
    "        scores_person[cls_name].append(round(fcn_row[SCORE_1_COLUMN],4))  \n",
    "        baseline_scores[cls_name].append(round(mrcnn_row[SCORE_1_COLUMN],4))\n",
    "        scores_person2[cls_name].append(round(fcn_row[SCORE_2_COLUMN],4))  \n",
    "        baseline_scores2[cls_name].append(round(mrcnn_row[SCORE_2_COLUMN],4))\n",
    "    \n",
    "    print('cx:', cx, ' fcn_score2 person :', scores_person2['person'][-1], ' fcn_score2 car:', scores_person2['car'][-1])\n",
    "# print(scores_person)\n",
    "# print(baseline_scores)\n",
    "vis2.plot_fcn_score_curves(xy_movement, scores_person, baseline_scores, class_names,\n",
    "                           title = 'FCN Score 1 - change based on horizontal movement of Person',  classes = ['car', 'person'])\n",
    "vis2.plot_fcn_score_curves(xy_movement, scores_person2, baseline_scores2, class_names,\n",
    "                           title = 'FCN Score 2 - change based on horizontal movement of Person', classes = ['car', 'person'])"
   ]
  },
  {
   "cell_type": "code",
   "execution_count": 22,
   "metadata": {
    "ExecuteTime": {
     "end_time": "2019-05-19T19:55:45.113388Z",
     "start_time": "2019-05-19T19:55:37.965160Z"
    },
    "scrolled": true
   },
   "outputs": [
    {
     "name": "stdout",
     "output_type": "stream",
     "text": [
      "cx: 5  fcn_score2 person : 0.668  fcn_score2 car: 0.5619\n",
      "cx: 10  fcn_score2 person : 0.5146  fcn_score2 car: 0.5624\n",
      "cx: 15  fcn_score2 person : 0.6415  fcn_score2 car: 0.563\n",
      "cx: 20  fcn_score2 person : 0.5684  fcn_score2 car: 0.5638\n",
      "cx: 25  fcn_score2 person : 0.5657  fcn_score2 car: 0.5649\n",
      "cx: 30  fcn_score2 person : 0.6644  fcn_score2 car: 0.5675\n",
      "cx: 35  fcn_score2 person : 0.6138  fcn_score2 car: 0.5656\n",
      "cx: 40  fcn_score2 person : 0.6251  fcn_score2 car: 0.5241\n",
      "cx: 45  fcn_score2 person : 0.6349  fcn_score2 car: 0.5178\n",
      "cx: 50  fcn_score2 person : 0.6021  fcn_score2 car: 0.3696\n",
      "cx: 55  fcn_score2 person : 0.6732  fcn_score2 car: -0.2831\n",
      "cx: 60  fcn_score2 person : 0.5414  fcn_score2 car: -0.1582\n",
      "cx: 65  fcn_score2 person : 0.6615  fcn_score2 car: -0.1699\n",
      "cx: 70  fcn_score2 person : 0.7073  fcn_score2 car: 0.428\n",
      "cx: 75  fcn_score2 person : 0.6582  fcn_score2 car: 0.5431\n",
      "cx: 80  fcn_score2 person : 0.6079  fcn_score2 car: 0.5681\n",
      "cx: 85  fcn_score2 person : 0.6508  fcn_score2 car: 0.5608\n",
      "cx: 90  fcn_score2 person : 0.5729  fcn_score2 car: 0.5601\n",
      "cx: 95  fcn_score2 person : 0.6632  fcn_score2 car: 0.5605\n",
      "cx: 100  fcn_score2 person : 0.5979  fcn_score2 car: 0.5611\n",
      "cx: 105  fcn_score2 person : 0.5612  fcn_score2 car: 0.5617\n",
      "cx: 110  fcn_score2 person : 0.6568  fcn_score2 car: 0.5617\n",
      "cx: 115  fcn_score2 person : 0.5776  fcn_score2 car: 0.5617\n",
      "cx: 120  fcn_score2 person : 0.5823  fcn_score2 car: 0.5618\n",
      "cx: 125  fcn_score2 person : 0.4606  fcn_score2 car: 0.5618\n",
      "cls:  car\n",
      "add to plot\n",
      "cls:  person\n",
      "add to plot\n",
      " y limit: (-0.133025, 0.914725)  xlimit :  (-1.0, 131.0)\n",
      "cls:  car\n",
      "add to plot\n",
      "cls:  person\n",
      "add to plot\n",
      " y limit: (-0.33262, 0.75682)  xlimit :  (-1.0, 131.0)\n"
     ]
    },
    {
     "data": {
      "image/png": "[encoded data removed]",
      "text/plain": [
       "<matplotlib.figure.Figure at 0x7f4209d42908>"
      ]
     },
     "metadata": {},
     "output_type": "display_data"
    },
    {
     "data": {
      "image/png": "[encoded data removed]",
      "text/plain": [
       "<matplotlib.figure.Figure at 0x7f4209925080>"
      ]
     },
     "metadata": {},
     "output_type": "display_data"
    },
    {
     "data": {
      "image/png": "[encoded data removed]",
      "text/plain": [
       "<matplotlib.figure.Figure at 0x7f42095cc828>"
      ]
     },
     "metadata": {},
     "output_type": "display_data"
    },
    {
     "data": {
      "image/png": "[encoded data removed]",
      "text/plain": [
       "<matplotlib.figure.Figure at 0x7f4209c4efd0>"
      ]
     },
     "metadata": {},
     "output_type": "display_data"
    },
    {
     "data": {
      "image/png": "[encoded data removed]",
      "text/plain": [
       "<matplotlib.figure.Figure at 0x7f4209f85438>"
      ]
     },
     "metadata": {},
     "output_type": "display_data"
    },
    {
     "data": {
      "image/png": "[encoded data removed]",
      "text/plain": [
       "<matplotlib.figure.Figure at 0x7f4209f84e48>"
      ]
     },
     "metadata": {},
     "output_type": "display_data"
    },
    {
     "data": {
      "image/png": "[encoded data removed]",
      "text/plain": [
       "<matplotlib.figure.Figure at 0x7f4209c05ba8>"
      ]
     },
     "metadata": {},
     "output_type": "display_data"
    },
    {
     "data": {
      "image/png": "[encoded data removed]",
      "text/plain": [
       "<matplotlib.figure.Figure at 0x7f4209d42b00>"
      ]
     },
     "metadata": {},
     "output_type": "display_data"
    },
    {
     "data": {
      "image/png": "[encoded data removed]",
      "text/plain": [
       "<matplotlib.figure.Figure at 0x7f41e8d8b2b0>"
      ]
     },
     "metadata": {},
     "output_type": "display_data"
    },
    {
     "data": {
      "image/png": "[encoded data removed]",
      "text/plain": [
       "<matplotlib.figure.Figure at 0x7f4209d429b0>"
      ]
     },
     "metadata": {},
     "output_type": "display_data"
    }
   ],
   "source": [
    "scores_person  = {}\n",
    "baseline_scores = {}\n",
    "scores_person2  = {}\n",
    "baseline_scores2 = {}\n",
    "\n",
    "xy_movement = np.arange(5,130,5)\n",
    "for cx in xy_movement:    \n",
    "    person    = ('person'  ,  white , (cx , cy,  2, 10))\n",
    "    dataset_test.image_info[image_id]['shapes'][1] = person\n",
    "    dataset_test.image_info[image_id]['shapes'][0] = car_2black\n",
    "    r = run_fcn_evaluation(fcn_model, mrcnn_model, dataset_test, image_id, verbose = False)  \n",
    "    if cx % 15 == 0 :\n",
    "        vis.display_image_gt(dataset_test, dataset_test.config, image_id, size=6, verbose = False)       \n",
    "    for idx, (mrcnn_row, fcn_row) in enumerate(  zip(r[0]['pr_scores'],r[0]['fcn_scores'])): \n",
    "        cls = int(fcn_row[CLASS_COLUMN])\n",
    "        cls_name = class_names[cls]\n",
    "        if cls_name  not in scores_person:\n",
    "            scores_person[cls_name] = []\n",
    "            baseline_scores[cls_name] = []\n",
    "        if cls_name  not in scores_person2:\n",
    "            scores_person2[cls_name] = []\n",
    "            baseline_scores2[cls_name] = []            \n",
    "        scores_person[cls_name].append(round(fcn_row[SCORE_1_COLUMN],4))  \n",
    "        baseline_scores[cls_name].append(round(mrcnn_row[SCORE_1_COLUMN],4))\n",
    "        scores_person2[cls_name].append(round(fcn_row[SCORE_2_COLUMN],4))  \n",
    "        baseline_scores2[cls_name].append(round(mrcnn_row[SCORE_2_COLUMN],4))\n",
    "    \n",
    "    print('cx:', cx, ' fcn_score2 person :', scores_person2['person'][-1], ' fcn_score2 car:', scores_person2['car'][-1])\n",
    "# print(scores_person)\n",
    "# print(baseline_scores)\n",
    "vis2.plot_fcn_score_curves(xy_movement, scores_person, baseline_scores, class_names, title = 'FCN Score 1 - change based on horizontal movement of Person',  classes = ['car', 'person'])\n",
    "vis2.plot_fcn_score_curves(xy_movement, scores_person2, baseline_scores2, class_names, title = 'FCN Score 2 - change based on horizontal movement of Person', classes = ['car', 'person'])"
   ]
  },
  {
   "cell_type": "markdown",
   "metadata": {},
   "source": [
    "###  Person- horizontially moving car across imge  "
   ]
  },
  {
   "cell_type": "code",
   "execution_count": 41,
   "metadata": {
    "ExecuteTime": {
     "end_time": "2019-05-19T20:10:30.849766Z",
     "start_time": "2019-05-19T20:10:30.319359Z"
    }
   },
   "outputs": [
    {
     "name": "stdout",
     "output_type": "stream",
     "text": [
      "29\n",
      " Image_id    :  29  Reference:  [('person', (255.0, 255.0, 255.0), (60, 92, 2, 12)), ('car', (227.0, 95.0, 90.0), (30, 92, 16, 8))] Coco Id: 29\n",
      " Image meta  :  [ 29 128 128   3   0   0 128 128   1   1]\n",
      " Class ids   :  (2,)    [1 2]\n",
      " Class Names :  ['person', 'car']\n"
     ]
    },
    {
     "data": {
      "image/png": "[encoded data removed]",
      "text/plain": [
       "<matplotlib.figure.Figure at 0x7f42005b92e8>"
      ]
     },
     "metadata": {},
     "output_type": "display_data"
    }
   ],
   "source": [
    "cx = 10\n",
    "cy = 92\n",
    "person_color = (139.0, 69.0, 19.0)\n",
    "red = (227.0, 95.0, 90.0)\n",
    "black = (0.0, 0.0, 0.0)\n",
    "white  = (255.0, 255.0,255.0)\n",
    "# car_2 = ('car'     , (227.0, 95.0, 90.0), (60, cy, 20, 10))\n",
    "car_2black = ('car'     , black , (30, cy, 20, 10))\n",
    "car_2black = ('car'     , red , (30, cy, 16, 8))\n",
    "person     = ('person'  , white, (60 ,cy,  2, 12))\n",
    "# vis2.display_gt_bboxes(dataset_test, dataset_test.config, image_id, size=6, verbose = True)\n",
    "\n",
    "print(image_id)\n",
    "# truck = ('truck', (150.0, 174.0, 8.0), (95, 93, 23, 11))\n",
    "# airplane = ('airplane', (200.0, 132.0, 126.0), (25, 23, 18, 7))\n",
    "\n",
    "dataset_test.image_info[image_id]['shapes'] = []\n",
    "# dataset_test.image_info[image_id]['shapes'].append(bldg)\n",
    "# dataset_test.image_info[image_id]['shapes'].append(tree)\n",
    "dataset_test.image_info[image_id]['shapes'].append(person)\n",
    "dataset_test.image_info[image_id]['shapes'].append(car_2black)\n",
    "vis.display_image_gt(dataset_test, dataset_test.config, image_id, size=6, verbose = True)\n",
    "r = run_fcn_evaluation(fcn_model, mrcnn_model, dataset_test, image_id, verbose = False)  \n",
    "# r = run_fcn_inference(fcn_model, mrcnn_model, dataset_test, image_id, verbose = False)  \n",
    "# vis2.display_fcn_hm(vis2.normalize_all(r[0]['fcn_hm'][1:]), class_names, columns =9, size = 8)\n",
    "# vis2.display_pr_fcn_scores(r[0], class_names)"
   ]
  },
  {
   "cell_type": "code",
   "execution_count": 42,
   "metadata": {
    "ExecuteTime": {
     "end_time": "2019-05-19T20:10:49.005647Z",
     "start_time": "2019-05-19T20:10:41.804657Z"
    },
    "scrolled": false
   },
   "outputs": [
    {
     "name": "stdout",
     "output_type": "stream",
     "text": [
      "cx: 5  fcn_score2 person : 0.5945  fcn_score2 car: 0.6061\n",
      "cx: 10  fcn_score2 person : 0.5944  fcn_score2 car: 0.5891\n",
      "cx: 15  fcn_score2 person : 0.5942  fcn_score2 car: 0.6138\n",
      "cx: 20  fcn_score2 person : 0.5944  fcn_score2 car: 0.5749\n",
      "cx: 25  fcn_score2 person : 0.5947  fcn_score2 car: 0.6513\n",
      "cx: 30  fcn_score2 person : 0.5975  fcn_score2 car: 0.6102\n",
      "cx: 35  fcn_score2 person : 0.5939  fcn_score2 car: 0.6418\n",
      "cx: 40  fcn_score2 person : 0.5836  fcn_score2 car: 0.6433\n",
      "cx: 45  fcn_score2 person : 0.5755  fcn_score2 car: 0.5193\n",
      "cx: 50  fcn_score2 person : 0.5335  fcn_score2 car: 0.4729\n",
      "cx: 55  fcn_score2 person : 0.6193  fcn_score2 car: 0.4061\n",
      "cx: 60  fcn_score2 person : 0.4697  fcn_score2 car: 0.271\n",
      "cx: 65  fcn_score2 person : 0.67  fcn_score2 car: 0.5694\n",
      "cx: 70  fcn_score2 person : 0.6651  fcn_score2 car: 0.6012\n",
      "cx: 75  fcn_score2 person : 0.5869  fcn_score2 car: 0.6108\n",
      "cx: 80  fcn_score2 person : 0.6012  fcn_score2 car: 0.674\n",
      "cx: 85  fcn_score2 person : 0.5951  fcn_score2 car: 0.5963\n",
      "cx: 90  fcn_score2 person : 0.5937  fcn_score2 car: 0.6327\n",
      "cx: 95  fcn_score2 person : 0.5943  fcn_score2 car: 0.6195\n",
      "cx: 100  fcn_score2 person : 0.5945  fcn_score2 car: 0.6037\n",
      "cx: 105  fcn_score2 person : 0.5946  fcn_score2 car: 0.6386\n",
      "cx: 110  fcn_score2 person : 0.5947  fcn_score2 car: 0.6103\n",
      "cx: 115  fcn_score2 person : 0.5947  fcn_score2 car: 0.6575\n",
      "cx: 120  fcn_score2 person : 0.5947  fcn_score2 car: 0.6423\n",
      "cx: 125  fcn_score2 person : 0.5947  fcn_score2 car: 0.5984\n",
      "{'car': [0.7967, 0.7935, 0.6852, 0.8254, 0.8835, 0.8754, 0.9308, 0.8672, 0.6562, 0.322, 0.288, 0.1632, 0.3, 0.5787, 0.9395, 0.95, 0.9553, 0.9516, 0.8584, 0.9258, 0.8798, 0.8153, 0.854, 0.8639, 0.709], 'person': [0.6824, 0.6822, 0.6821, 0.6824, 0.6826, 0.6849, 0.6788, 0.6664, 0.663, 0.5775, 0.6056, 0.5405, 0.633, 0.5925, 0.6812, 0.6609, 0.678, 0.6876, 0.6834, 0.683, 0.683, 0.6826, 0.6827, 0.6828, 0.6828]}\n",
      "{'car': [0.664, 0.6673, 0.6919, 0.6751, 0.6751, 0.6751, 0.6751, 0.6751, 0.6751, 0.6751, 0.6751, 0.6751, 0.6751, 0.6751, 0.6751, 0.6751, 0.6751, 0.6751, 0.6751, 0.6751, 0.6751, 0.6751, 0.6753, 0.6739, 0.6714], 'person': [0.6168, 0.6168, 0.6168, 0.6168, 0.6168, 0.6168, 0.6168, 0.6168, 0.6168, 0.6168, 0.6168, 0.6168, 0.6168, 0.6168, 0.6168, 0.6168, 0.6168, 0.6168, 0.6168, 0.6168, 0.6168, 0.6168, 0.6168, 0.6168, 0.6168]}\n",
      "cls:  car\n",
      "add to plot\n",
      "cls:  person\n",
      "add to plot\n",
      " y limit: (0.12359500000000001, 0.994905)  xlimit :  (-1.0, 131.0)\n",
      "cls:  car\n",
      "add to plot\n",
      "cls:  person\n",
      "add to plot\n",
      " y limit: (0.25085, 0.69415)  xlimit :  (-1.0, 131.0)\n"
     ]
    },
    {
     "data": {
      "image/png": "[encoded data removed]",
      "text/plain": [
       "<matplotlib.figure.Figure at 0x7f4209430cf8>"
      ]
     },
     "metadata": {},
     "output_type": "display_data"
    },
    {
     "data": {
      "image/png": "[encoded data removed]",
      "text/plain": [
       "<matplotlib.figure.Figure at 0x7f42093e1710>"
      ]
     },
     "metadata": {},
     "output_type": "display_data"
    },
    {
     "data": {
      "image/png": "[encoded data removed]",
      "text/plain": [
       "<matplotlib.figure.Figure at 0x7f4209b20eb8>"
      ]
     },
     "metadata": {},
     "output_type": "display_data"
    },
    {
     "data": {
      "image/png": "[encoded data removed]",
      "text/plain": [
       "<matplotlib.figure.Figure at 0x7f4209673e10>"
      ]
     },
     "metadata": {},
     "output_type": "display_data"
    },
    {
     "data": {
      "image/png": "[encoded data removed]",
      "text/plain": [
       "<matplotlib.figure.Figure at 0x7f4209679da0>"
      ]
     },
     "metadata": {},
     "output_type": "display_data"
    },
    {
     "data": {
      "image/png": "[encoded data removed]",
      "text/plain": [
       "<matplotlib.figure.Figure at 0x7f4209583c50>"
      ]
     },
     "metadata": {},
     "output_type": "display_data"
    },
    {
     "data": {
      "image/png": "[encoded data removed]",
      "text/plain": [
       "<matplotlib.figure.Figure at 0x7f4209622fd0>"
      ]
     },
     "metadata": {},
     "output_type": "display_data"
    },
    {
     "data": {
      "image/png": "[encoded data removed]",
      "text/plain": [
       "<matplotlib.figure.Figure at 0x7f4209382390>"
      ]
     },
     "metadata": {},
     "output_type": "display_data"
    },
    {
     "data": {
      "image/png": "[encoded data removed]",
      "text/plain": [
       "<matplotlib.figure.Figure at 0x7f41e8a9da58>"
      ]
     },
     "metadata": {},
     "output_type": "display_data"
    },
    {
     "data": {
      "image/png": "[encoded data removed]",
      "text/plain": [
       "<matplotlib.figure.Figure at 0x7f4209430be0>"
      ]
     },
     "metadata": {},
     "output_type": "display_data"
    }
   ],
   "source": [
    "scores_person  = {}\n",
    "baseline_scores = {}\n",
    "scores_person2  = {}\n",
    "baseline_scores2 = {}\n",
    "xy_movement = np.arange(5,130,5)\n",
    "for cx in xy_movement:    \n",
    "#     person    = ('person'  , (139.0, 69.0, 19.0)  , (cx , cy,  2, 10))\n",
    "    car_2= ('car', black, (cx, cy, 16, 8))\n",
    "    dataset_test.image_info[image_id]['shapes'][0] = person\n",
    "    dataset_test.image_info[image_id]['shapes'][1] = car_2\n",
    "    r = run_fcn_evaluation(fcn_model, mrcnn_model, dataset_test, image_id, verbose = False)  \n",
    "    if cx % 15 == 0 :\n",
    "        vis.display_image_gt(dataset_test, dataset_test.config, image_id, size=6, verbose = False)    \n",
    "    for idx, (mrcnn_row, fcn_row) in enumerate(  zip(r[0]['pr_scores'],r[0]['fcn_scores'])): \n",
    "        cls = int(fcn_row[CLASS_COLUMN])\n",
    "        cls_name = class_names[cls]\n",
    "        if cls_name  not in scores_person:\n",
    "            scores_person[cls_name] = []\n",
    "            baseline_scores[cls_name] = []\n",
    "        if cls_name  not in scores_person2:\n",
    "            scores_person2[cls_name] = []\n",
    "            baseline_scores2[cls_name] = []            \n",
    "        scores_person[cls_name].append(round(fcn_row[SCORE_1_COLUMN],4))  \n",
    "        baseline_scores[cls_name].append(round(mrcnn_row[SCORE_1_COLUMN],4))\n",
    "        scores_person2[cls_name].append(round(fcn_row[SCORE_2_COLUMN],4))  \n",
    "        baseline_scores2[cls_name].append(round(mrcnn_row[SCORE_2_COLUMN],4))\n",
    "    print('cx:', cx, ' fcn_score2 person :', scores_person2['person'][-1], ' fcn_score2 car:', scores_person2['car'][-1])\n",
    "print(scores_person)\n",
    "print(baseline_scores)\n",
    "vis2.plot_fcn_score_curves(xy_movement, scores_person, baseline_scores, class_names, \n",
    "                           title = 'FCN Score 1 - change based on horizontal movement of Car',  classes = ['car', 'person'])\n",
    "vis2.plot_fcn_score_curves(xy_movement, scores_person2, baseline_scores2, class_names, \n",
    "                           title = 'FCN Score 2 - change based on horizontal movement of Car', classes = ['car', 'person'])"
   ]
  },
  {
   "cell_type": "code",
   "execution_count": 31,
   "metadata": {
    "ExecuteTime": {
     "end_time": "2019-05-19T20:03:12.520533Z",
     "start_time": "2019-05-19T20:03:06.588385Z"
    },
    "scrolled": true
   },
   "outputs": [
    {
     "name": "stdout",
     "output_type": "stream",
     "text": [
      "cx: 5  fcn_score2 person : 0.5946  fcn_score2 car: 0.5335\n",
      "cx: 10  fcn_score2 person : 0.5945  fcn_score2 car: 0.5576\n",
      "cx: 15  fcn_score2 person : 0.5945  fcn_score2 car: 0.6031\n",
      "cx: 20  fcn_score2 person : 0.5947  fcn_score2 car: 0.5153\n",
      "cx: 25  fcn_score2 person : 0.5947  fcn_score2 car: 0.6284\n",
      "cx: 30  fcn_score2 person : 0.5971  fcn_score2 car: 0.5507\n",
      "cx: 35  fcn_score2 person : 0.5989  fcn_score2 car: 0.5949\n",
      "cx: 40  fcn_score2 person : 0.5977  fcn_score2 car: 0.5823\n",
      "cx: 45  fcn_score2 person : 0.5977  fcn_score2 car: 0.4525\n",
      "cx: 50  fcn_score2 person : 0.5971  fcn_score2 car: 0.2587\n",
      "cx: 55  fcn_score2 person : 0.6728  fcn_score2 car: 0.2576\n",
      "cx: 60  fcn_score2 person : 0.5583  fcn_score2 car: -0.02\n",
      "cx: 65  fcn_score2 person : 0.6317  fcn_score2 car: 0.1845\n",
      "cx: 70  fcn_score2 person : 0.6524  fcn_score2 car: 0.4812\n",
      "cx: 75  fcn_score2 person : 0.5825  fcn_score2 car: 0.519\n",
      "cx: 80  fcn_score2 person : 0.5947  fcn_score2 car: 0.6146\n",
      "cx: 85  fcn_score2 person : 0.5944  fcn_score2 car: 0.5411\n",
      "cx: 90  fcn_score2 person : 0.5938  fcn_score2 car: 0.6181\n",
      "cx: 95  fcn_score2 person : 0.5944  fcn_score2 car: 0.5858\n",
      "cx: 100  fcn_score2 person : 0.5945  fcn_score2 car: 0.5504\n",
      "cx: 105  fcn_score2 person : 0.5947  fcn_score2 car: 0.6168\n",
      "cx: 110  fcn_score2 person : 0.5948  fcn_score2 car: 0.5531\n",
      "cx: 115  fcn_score2 person : 0.5948  fcn_score2 car: 0.5721\n",
      "cx: 120  fcn_score2 person : 0.5948  fcn_score2 car: 0.5985\n",
      "cx: 125  fcn_score2 person : 0.5948  fcn_score2 car: 0.6042\n",
      "{'car': [0.6505, 0.5859, 0.6233, 0.6488, 0.7005, 0.7149, 0.7346, 0.6956, 0.4533, 0.1554, 0.1368, -0.0091, 0.0724, 0.3805, 0.6949, 0.7613, 0.7742, 0.7672, 0.7229, 0.7309, 0.6991, 0.7246, 0.6653, 0.6885, 0.7061], 'person': [0.6827, 0.6826, 0.6827, 0.6829, 0.6827, 0.6846, 0.6857, 0.6838, 0.6883, 0.6566, 0.6674, 0.6541, 0.6745, 0.6512, 0.7084, 0.6825, 0.6842, 0.6872, 0.6839, 0.6834, 0.6832, 0.6829, 0.6829, 0.683, 0.683]}\n",
      "{'car': [0.6819, 0.6955, 0.6832, 0.68, 0.68, 0.68, 0.68, 0.68, 0.68, 0.68, 0.68, 0.68, 0.68, 0.68, 0.68, 0.68, 0.68, 0.68, 0.68, 0.68, 0.68, 0.6894, 0.688, 0.6906, 0.7052], 'person': [0.6168, 0.6168, 0.6168, 0.6168, 0.6168, 0.6168, 0.6168, 0.6168, 0.6168, 0.6168, 0.6168, 0.6168, 0.6168, 0.6168, 0.6168, 0.6168, 0.6168, 0.6168, 0.6168, 0.6168, 0.6168, 0.6168, 0.6168, 0.6168, 0.6168]}\n",
      "cls:  car\n",
      "add to plot\n",
      "cls:  person\n",
      "add to plot\n",
      " y limit: (-0.048265, 0.813365)  xlimit :  (-1.0, 131.0)\n",
      "cls:  car\n",
      "add to plot\n",
      "cls:  person\n",
      "add to plot\n",
      " y limit: (-0.054639999999999994, 0.70744)  xlimit :  (-1.0, 131.0)\n"
     ]
    },
    {
     "data": {
      "image/png": "[encoded data removed]",
      "text/plain": [
       "<matplotlib.figure.Figure at 0x7f41e88ce978>"
      ]
     },
     "metadata": {},
     "output_type": "display_data"
    },
    {
     "data": {
      "image/png": "[encoded data removed]",
      "text/plain": [
       "<matplotlib.figure.Figure at 0x7f41e8a554e0>"
      ]
     },
     "metadata": {},
     "output_type": "display_data"
    }
   ],
   "source": [
    "scores_person  = {}\n",
    "baseline_scores = {}\n",
    "scores_person2  = {}\n",
    "baseline_scores2 = {}\n",
    "xy_movement = np.arange(5,130,5)\n",
    "for cx in xy_movement:    \n",
    "#     person    = ('person'  , (139.0, 69.0, 19.0)  , (cx , cy,  2, 10))\n",
    "    car_2= ('car', black, (cx, cy, 20, 10))\n",
    "    dataset_test.image_info[image_id]['shapes'][1] = person\n",
    "    dataset_test.image_info[image_id]['shapes'][0] = car_2\n",
    "    r = run_fcn_evaluation(fcn_model, mrcnn_model, dataset_test, image_id, verbose = False)  \n",
    "#     if cx % 15 == 0 :\n",
    "#         vis.display_image_gt(dataset_test, dataset_test.config, image_id, size=6, verbose = False)    \n",
    "    for idx, (mrcnn_row, fcn_row) in enumerate(  zip(r[0]['pr_scores'],r[0]['fcn_scores'])): \n",
    "        cls = int(fcn_row[CLASS_COLUMN])\n",
    "        cls_name = class_names[cls]\n",
    "        if cls_name  not in scores_person:\n",
    "            scores_person[cls_name] = []\n",
    "            baseline_scores[cls_name] = []\n",
    "        if cls_name  not in scores_person2:\n",
    "            scores_person2[cls_name] = []\n",
    "            baseline_scores2[cls_name] = []            \n",
    "        scores_person[cls_name].append(round(fcn_row[SCORE_1_COLUMN],4))  \n",
    "        baseline_scores[cls_name].append(round(mrcnn_row[SCORE_1_COLUMN],4))\n",
    "        scores_person2[cls_name].append(round(fcn_row[SCORE_2_COLUMN],4))  \n",
    "        baseline_scores2[cls_name].append(round(mrcnn_row[SCORE_2_COLUMN],4))\n",
    "    print('cx:', cx, ' fcn_score2 person :', scores_person2['person'][-1], ' fcn_score2 car:', scores_person2['car'][-1])\n",
    "print(scores_person)\n",
    "print(baseline_scores)\n",
    "vis2.plot_fcn_score_curves(xy_movement, scores_person, baseline_scores, class_names, \n",
    "                           title = 'FCN Score 1 - change based on horizontal movement of Car',  classes = ['car', 'person'])\n",
    "vis2.plot_fcn_score_curves(xy_movement, scores_person2, baseline_scores2, class_names, \n",
    "                           title = 'FCN Score 2 - change based on horizontal movement of Car', classes = ['car', 'person'])"
   ]
  },
  {
   "cell_type": "markdown",
   "metadata": {},
   "source": [
    "###  Image 29 Misc"
   ]
  },
  {
   "cell_type": "code",
   "execution_count": null,
   "metadata": {
    "ExecuteTime": {
     "end_time": "2019-04-08T15:35:07.934951Z",
     "start_time": "2019-04-08T15:35:07.719925Z"
    },
    "scrolled": true
   },
   "outputs": [],
   "source": [
    "dataset_test.image_info[29]['shapes'][0] =  ('car', (104.0, 52.0, 242.0),(80, 60,15,7))\n",
    "vis.display_image_gt(dataset_test, dataset_test.config, 29, size=6, verbose = True)"
   ]
  },
  {
   "cell_type": "code",
   "execution_count": null,
   "metadata": {
    "ExecuteTime": {
     "end_time": "2019-04-08T15:46:25.882351Z",
     "start_time": "2019-04-08T15:46:25.837644Z"
    }
   },
   "outputs": [],
   "source": [
    "person = ('person', (240.0, 230.0, 140.0), (50, 26, 2, 10))\n",
    "dataset_test.image_info[29]['shapes'][-1] = (person)"
   ]
  },
  {
   "cell_type": "code",
   "execution_count": null,
   "metadata": {
    "ExecuteTime": {
     "end_time": "2019-04-08T16:13:15.401852Z",
     "start_time": "2019-04-08T16:13:14.928257Z"
    },
    "scrolled": false
   },
   "outputs": [],
   "source": [
    "vis.display_image_gt(dataset_test, dataset_test.config, 29, size=6, verbose = True)\n",
    "vis2.display_gt_bboxes(dataset_test, dataset_test.config, 29)"
   ]
  },
  {
   "cell_type": "code",
   "execution_count": null,
   "metadata": {
    "ExecuteTime": {
     "end_time": "2019-04-08T16:19:05.397900Z",
     "start_time": "2019-04-08T16:19:05.348814Z"
    },
    "scrolled": false
   },
   "outputs": [],
   "source": [
    "print(image_id)\n",
    "# for y in range(60, 100, 2):\n",
    "#     x = 60\n",
    "#     person = ('person', (240.0, 230.0, 140.0), (x, y, 2, 10))\n",
    "#     dataset_test.image_info[29]['shapes'][-1] = person\n",
    "#     fcn_results = run_fcn_detection(fcn_model, mrcnn_model, dataset_test, image_id, verbose = False)  \n",
    "#     r = fcn_results[0]\n",
    "#     vis2.display_fcn_hm(vis2.normalize_all(r['fcn_hm'][...,:3]), class_names, columns = 3, size = 8)"
   ]
  },
  {
   "cell_type": "markdown",
   "metadata": {},
   "source": [
    "## Helper functions "
   ]
  },
  {
   "cell_type": "code",
   "execution_count": null,
   "metadata": {
    "ExecuteTime": {
     "end_time": "2019-04-17T00:40:24.802725Z",
     "start_time": "2019-04-17T00:40:24.688282Z"
    }
   },
   "outputs": [],
   "source": [
    "def plot_fcn_score_curves(x_y_dim, fcn_scores, mrcnn_scores, class_names, ax = None , min_x = 0.0, title = None):\n",
    "    if ax is None:\n",
    "        plt.figure(figsize=(10,5))\n",
    "        ax = plt.gca()\n",
    "\n",
    "    # scores is always passed ffom plot_mAP_by_scores, so it's nver None\n",
    "    # so we loop on scores instead of sorted(class_data)\n",
    "    # for idx, score_key in enumerate(sorted(class_data)):\n",
    "    for idx, cls  in enumerate(fcn_scores):\n",
    "        ax.plot(x_y_dim, fcn_scores[cls], label= cls + ' - FCN score')\n",
    "        # if  scores is not None and score_key not in  scores:\n",
    "            # continue        \n",
    "#         print('score_key is: {:20s} iou: {:6.3f}  avg_prec: {:10.4f}'.format(score_key,  iou_key, class_data[score_key][iou_key]['avg_prec']))\n",
    "#         score_keys.append(score_key)\n",
    "#         avg_precs[score_key] = class_data[score_key][iou_key]['avg_prec']\n",
    "#         precisions = class_data[score_key][iou_key]['precisions']\n",
    "#         recalls    = class_data[score_key][iou_key]['recalls']\n",
    "#         label      = '{:15s}'.format(score_key)\n",
    "        \n",
    "#         score_idx  = scores.index(score_key)\n",
    "#         print('idx: ', idx, ' Score_key: ' , score_key, 'Score Index: ' , score_idx, 'color:', SCORE_COLORS[score_key])\n",
    "    \n",
    "    for idx, cls  in enumerate(mrcnn_scores):\n",
    "        ax.plot(x_y_dim, mrcnn_scores[cls], label= cls + ' - MR-CNN score')\n",
    "        \n",
    "    print(' y limit:', plt.ylim(), ' xlimit : ', plt.xlim())\n",
    "\n",
    "    ax.set_title(title, fontsize=14)\n",
    "    ax.set_xlabel('Object displacement from origin axis', fontsize= 12)\n",
    "    ax.set_ylabel('FCN Score', fontsize= 12)\n",
    "    ax.tick_params(axis='both', labelsize = 10)\n",
    "#     ax.set_xlim([min_x,1.05])\n",
    "#     ax.set_ylim([all_scores.min()-0.05, all_scores.max()+0.05])\n",
    "    leg = plt.legend(loc='lower left',frameon=True, fontsize = 10, markerscale = 6)\n",
    "    leg.set_title(' Scores ',prop={'size':11})\n",
    "    plt.grid(True)\n",
    "#     for xval in np.linspace(0.0, 1.0, 11):\n",
    "#         plt.vlines(xval, 0.0, 1.1, color='gray', alpha=0.3, linestyles='dashed', linewidth=1)\n",
    "\n",
    "def plot_fcn_score_curves_1(x_y_dim, cls_scores, cls_name, ax = None , min_x = 0.0, title = None):\n",
    "\n",
    "    ax.set_title(title, fontsize=14)\n",
    "    ax.set_xlabel('Object displacement from origin axis', fontsize= 12)\n",
    "    ax.set_ylabel('FCN Score', fontsize= 12)\n",
    "    ax.tick_params(axis='both', labelsize = 10)\n",
    "#     ax.set_xlim([min_x,1.05])\n",
    "#     ax.set_ylim([all_scores.min()-0.05, all_scores.max()+0.05])\n",
    "    leg = plt.legend(loc='lower left',frameon=True, fontsize = 10, markerscale = 6)\n",
    "    leg.set_title(' Scores ',prop={'size':11})\n",
    "    plt.grid(True)\n",
    "#     for xval in np.linspace(0.0, 1.0, 11):\n",
    "#         plt.vlines(xval, 0.0, 1.1, color='gray', alpha=0.3, linestyles='dashed', linewidth=1)"
   ]
  },
  {
   "cell_type": "code",
   "execution_count": null,
   "metadata": {
    "ExecuteTime": {
     "end_time": "2019-05-19T14:29:05.465996Z",
     "start_time": "2019-05-19T14:29:05.089509Z"
    }
   },
   "outputs": [],
   "source": [
    "def aggregate_results(fcn_results, results):\n",
    "    r = fcn_results[0]\n",
    "        \n",
    "    gt_inst_per_class = np.bincount(np.abs(r['gt_class_ids']), minlength = NUM_CLASSES)\n",
    "    dt_inst_per_class = np.bincount(r['class_ids']           , minlength = NUM_CLASSES)\n",
    "\n",
    "    results['gt_cls_counts'] += gt_inst_per_class\n",
    "    results['dt_cls_counts'] += dt_inst_per_class\n",
    "\n",
    "    for i in range(NUM_CLASSES):\n",
    "        results['gt_ttl_img_by_inst'][i,gt_inst_per_class[i]] += 1\n",
    "        results['dt_ttl_img_by_inst'][i,dt_inst_per_class[i]] += 1\n",
    "\n",
    "\n",
    "    if len(r['class_ids']) == 1: \n",
    "        results['imgs_one_dt'] += 1\n",
    "    if len(r['gt_class_ids']) == 1:\n",
    "        results['imgs_one_gt'] += 1\n",
    "\n",
    "    fcn_hm_max   = np.max(r['fcn_hm'])\n",
    "    fcn_hm_min   = np.min(r['fcn_hm'])\n",
    "    pr_hm_max    = np.max(r['pr_hm'])\n",
    "    pr_hm_min    = np.min(r['pr_hm'])\n",
    "    \n",
    "    if fcn_hm_max > results['sav_fcn_max'] :\n",
    "        results['sav_fcn_max'] = fcn_hm_max\n",
    "\n",
    "    if fcn_hm_min < results['sav_fcn_min'] :\n",
    "        results['sav_fcn_min'] = fcn_hm_min\n",
    "\n",
    "    if pr_hm_max > results['sav_pr_max']:\n",
    "        results['sav_pr_max'] = pr_hm_max\n",
    "\n",
    "    if pr_hm_min > results['sav_pr_min']:\n",
    "        results['sav_pr_min'] = pr_hm_min\n",
    "    \n",
    "    results['pr_agg_hm']          += r['pr_hm']\n",
    "    results['fcn_agg_hm']         += r['fcn_hm']\n",
    "    results['pr_agg_hm_clipped']  += np.clip(r['pr_hm'], 0.0, 1.0)\n",
    "    results['fcn_agg_hm_clipped'] += np.clip(r['fcn_hm'], 0.0, 1.0)\n",
    "\n",
    "\n",
    "\n",
    "    return results\n",
    "        \n",
    "def save_results(results, save_path, save_file):\n",
    "    print(' Save to output file: ',save_path, save_file)\n",
    "    np.savez_compressed(os.path.join(save_path, save_file),     \n",
    "                    imgs_one_gt        = results['imgs_one_gt'], \n",
    "                    imgs_one_dt        = results['imgs_one_dt'],  \n",
    "                    gt_cls_counts      = results['gt_cls_counts'], \n",
    "                    dt_cls_counts      = results['dt_cls_counts'],\n",
    "                    gt_ttl_img_by_inst = results['gt_ttl_img_by_inst'],\n",
    "                    dt_ttl_img_by_inst = results['dt_ttl_img_by_inst'],\n",
    "                    sav_pr_min         = results['sav_pr_min']  ,\n",
    "                    sav_pr_max         = results['sav_pr_max']  , \n",
    "                    sav_fcn_min        = results['sav_fcn_min'] , \n",
    "                    sav_fcn_max        = results['sav_fcn_max'] ,                     \n",
    "                    pr_agg_hm          = results['pr_agg_hm']  ,\n",
    "                    fcn_agg_hm         = results['fcn_agg_hm']  ,\n",
    "                    pr_agg_hm_clipped  = results['pr_agg_hm_clipped'],\n",
    "                    fcn_agg_hm_clipped = results['fcn_agg_hm_clipped'] )     \n",
    "    return 0\n",
    "\n",
    "\n",
    "def display_results(results):\n",
    "    np_format = {}\n",
    "    np_format['float']  = lambda x: \"%10.4f\" % x\n",
    "    np_format['int']    = lambda x: \"%6d\" % x\n",
    "    np.set_printoptions(linewidth=195, precision=4, floatmode='fixed', threshold =10000, formatter = np_format)\n",
    "    \n",
    "    print()\n",
    "    print(' Final Results:')\n",
    "    print('---------------')\n",
    "    print('  pr_hm MIN: {:12.5f}      MAX: {:12.5f}'.format(results['sav_pr_min'], results['sav_pr_max']))\n",
    "    print(' fcn_hm MIN: {:12.5f}      MAX: {:12.5f}'.format(results['sav_fcn_min'], results['sav_fcn_max']))\n",
    "    print()\n",
    "    print(' images with one gt object:', results['imgs_one_gt'], '  one detection from MR-CNN:', results['imgs_one_dt'])\n",
    "    print(' Ground Truth by class    :', results['gt_cls_counts'])\n",
    "    print(' Detections by class      :', results['dt_cls_counts'])\n",
    "    print()\n",
    "    print(' Original Heatmap:')\n",
    "    print(' ----------------')\n",
    "    print('    pr_hm mins: ',np.min(results['pr_agg_hm'] , axis=(0,1)))\n",
    "    print('          maxs: ',np.max(results['pr_agg_hm'] , axis=(0,1)))\n",
    "    print()\n",
    "    print('   fcn_hm mins: ',np.min(results['fcn_agg_hm'], axis=(0,1)))\n",
    "    print('          maxs: ',np.max(results['fcn_agg_hm'], axis=(0,1)))\n",
    "    print()\n",
    "    print('   pr_hm sums : ',np.sum(results['pr_agg_hm'] , axis=(0,1)))\n",
    "    print('   fcn_hm sums: ',np.sum(results['fcn_agg_hm'], axis=(0,1)))\n",
    "    print()\n",
    "    print(' Clipped Heatmap:')\n",
    "    print(' ----------------')\n",
    "    print('   pr_hm mins : ',np.min(results['pr_agg_hm_clipped'], axis=(0,1)))\n",
    "    print('         maxs : ',np.max(results['pr_agg_hm_clipped'], axis=(0,1)))\n",
    "    print('  fcn_hm mins : ',np.min(results['fcn_agg_hm_clipped'], axis=(0,1)))\n",
    "    print('         maxs : ',np.max(results['fcn_agg_hm_clipped'], axis=(0,1)))\n",
    "    print('   pr_hm sums : ',np.sum(results['pr_agg_hm_clipped'], axis=(0,1)))\n",
    "    print('  fcn_hm sums : ',np.sum(results['fcn_agg_hm_clipped'], axis=(0,1)))\n",
    "\n",
    "    print('\\n gt_ttl_img_by_inst', results['gt_ttl_img_by_inst'].shape)\n",
    "    print(' ------------------')\n",
    "    print(results['gt_ttl_img_by_inst'][:,:16])\n",
    "    print('\\n dt_ttl_img_by_inst : ', results['dt_ttl_img_by_inst'].shape)\n",
    "    print(' ------------------')\n",
    "    print(results['dt_ttl_img_by_inst'][:,:16])\n",
    "    return(0)"
   ]
  },
  {
   "cell_type": "markdown",
   "metadata": {},
   "source": [
    "## Heatmap aggregation over a number of images"
   ]
  },
  {
   "cell_type": "code",
   "execution_count": null,
   "metadata": {
    "ExecuteTime": {
     "end_time": "2019-05-19T13:31:31.738848Z",
     "start_time": "2019-05-19T13:31:31.704995Z"
    }
   },
   "outputs": [],
   "source": [
    "np_format = {'float': lambda x: \"%10.4f\" % x, 'int': lambda x: \"%8d\" % x}\n",
    "np.set_printoptions(linewidth=195, precision=4, floatmode='fixed', threshold =10000, formatter = np_format), "
   ]
  },
  {
   "cell_type": "markdown",
   "metadata": {},
   "source": [
    "### Load weight file"
   ]
  },
  {
   "cell_type": "code",
   "execution_count": null,
   "metadata": {
    "ExecuteTime": {
     "end_time": "2019-05-19T13:31:56.710169Z",
     "start_time": "2019-05-19T13:31:52.017548Z"
    },
    "scrolled": true
   },
   "outputs": [],
   "source": [
    "FCN_DIR_WEIGHTS =  '/home/kbardool/models_newshapes2/train_fcn8L2_BCE/fcn20190323T0000'\n",
    "fcn_files  = ['fcn_0001.h5', 'fcn_0002.h5', 'fcn_0003.h5', 'fcn_0004.h5', \n",
    "          'fcn_0005.h5', 'fcn_0006.h5', 'fcn_0008.h5', 'fcn_0009.h5', \n",
    "          'fcn_0012.h5', 'fcn_0016.h5', 'fcn_0018.h5', 'fcn_0019.h5', \n",
    "          'fcn_0021.h5', 'fcn_0022.h5', 'fcn_0023.h5', 'fcn_0024.h5', \n",
    "          'fcn_0033.h5', \n",
    "          'fcn_0039.h5', 'fcn_0042.h5', 'fcn_0044.h5', 'fcn_0077.h5', 'fcn_0089.h5',    ## 17,18,19,20,21\n",
    "          'fcn_0170.h5', 'fcn_0177.h5', 'fcn_0253.h5', 'fcn_0266.h5']  ## 22,23,24,25\n",
    "\n",
    "FILE_IDX = 2    ## fcn_0003\n",
    "FILE_IDX = 5    ## fcn_0006\n",
    "FILE_IDX = 13   ## fcn_0022\n",
    "FILE_IDX = 17   ## fcn_0039\n",
    "FILE_IDX = 18   ## fcn_0042\n",
    "FILE_IDX = 20   ## fcn_0077\n",
    "FILE_IDX = 21   ## fcn_0089\n",
    "FILE_IDX = 22   ## fcn_0170\n",
    "FILE_IDX = 24   ## fcn_0253\n",
    "weights_file = os.path.join(FCN_DIR_WEIGHTS  , fcn_files[FILE_IDX])\n",
    "print(\"Loading weights \", weights_file)\n",
    "fcn_model.load_model_weights(weights_file)"
   ]
  },
  {
   "cell_type": "markdown",
   "metadata": {},
   "source": [
    "## Move person over image 79"
   ]
  },
  {
   "cell_type": "code",
   "execution_count": null,
   "metadata": {
    "ExecuteTime": {
     "end_time": "2019-05-19T14:09:02.203825Z",
     "start_time": "2019-05-19T14:09:01.992664Z"
    }
   },
   "outputs": [],
   "source": [
    "image_id = 79\n",
    "vis.display_image_gt(dataset_test, dataset_test.config, image_id, size=6, verbose = True)"
   ]
  },
  {
   "cell_type": "code",
   "execution_count": null,
   "metadata": {
    "ExecuteTime": {
     "end_time": "2019-05-19T14:09:10.287233Z",
     "start_time": "2019-05-19T14:09:10.229227Z"
    }
   },
   "outputs": [],
   "source": [
    "image_id = 79\n",
    "### Image 79 orig objects : [('airplane', (215.0, 217.0, 161.0), (31, 23, 16, 6)), ('person', (240.0, 230.0, 140.0), (50, 86, 1, 9))]\n",
    "\n",
    "# new_obj = ('airplane', (215.0, 217.0, 161.0), (15, 15, 16, 6))\n",
    "# building = ('building', (7.0, 9.0, 197.0), (92, 60, 24, 20))\n",
    "airplane = ('airplane', (200.0, 132.0, 126.0), (60, 30, 18, 7))\n",
    "truck = ('truck', (83.0, 192.0, 78.0), (65, 71, 25, 8))\n",
    "car = ('car', (150.0, 174.0, 8.0), (87, 90, 22, 11))\n",
    "person = ('person', (240.0, 230.0, 140.0), (50, 86, 2, 10))\n",
    "new_obj = ('airplane', (215.0, 217.0, 161.0), (15, 15, 16, 6))\n",
    "# new_obj = ('sun', (255.0, 215.0, 0.0), (67, 9, 6, 6))\n",
    "# new_obj = ('sun', (0.0, 0.0, 0.0), (cx, cy, 6, 6))        \n",
    "\n",
    "# del dataset_test.image_info[image_id]['shapes']\n",
    "dataset_test.image_info[image_id]['shapes'] = []\n",
    "dataset_test.image_info[image_id]['shapes'].append(car)\n",
    "dataset_test.image_info[image_id]['shapes'].append(airplane)\n",
    "dataset_test.image_info[image_id]['shapes'].append(person)\n",
    "\n",
    "# dataset_test.image_info[image_id]['shapes'].append(building)\n",
    "# dataset_test.image_info[image_id]['shapes'].append(truck)\n",
    " "
   ]
  },
  {
   "cell_type": "code",
   "execution_count": null,
   "metadata": {
    "ExecuteTime": {
     "end_time": "2019-05-19T14:10:36.677699Z",
     "start_time": "2019-05-19T14:10:36.480069Z"
    },
    "scrolled": false
   },
   "outputs": [],
   "source": [
    "print(dataset_test.image_info[image_id]['shapes'])\n",
    "vis.display_image_gt(dataset_test, dataset_test.config, image_id, size=6, verbose = True)\n",
    "# fcn_results = run_fcn_detection(fcn_model, mrcnn_model, dataset_test, image_id, verbose = True) "
   ]
  },
  {
   "cell_type": "markdown",
   "metadata": {},
   "source": [
    "### Run person over image : Run `compute_ap` over images"
   ]
  },
  {
   "cell_type": "code",
   "execution_count": null,
   "metadata": {
    "ExecuteTime": {
     "end_time": "2019-05-19T14:10:46.315703Z",
     "start_time": "2019-05-19T14:10:46.104508Z"
    }
   },
   "outputs": [],
   "source": [
    "save_path = \"/home/kbardool/git_projs/mrcnn3/train_newshapes_2/other\"\n",
    "exp_desc = 'car_mvmt_w_prsn'\n",
    "exp_desc = 'prsn_mvmt_w_car_airp'\n",
    "\n",
    "black = (0.0, 0.0, 0.0)\n",
    "FROM  = 4\n",
    "TO    = 124\n",
    "STEP_SIZE = 4\n",
    "NUM_CLASSES = 9\n",
    "image_id   = 79\n",
    "\n",
    "# del dataset_test.image_info[image_id]['shapes'][-1]\n",
    "vis.display_image_gt(dataset_test, dataset_test.config, image_id, size=6, verbose = True)"
   ]
  },
  {
   "cell_type": "code",
   "execution_count": null,
   "metadata": {
    "ExecuteTime": {
     "end_time": "2019-05-19T14:14:06.607896Z",
     "start_time": "2019-05-19T14:10:48.073920Z"
    },
    "scrolled": true
   },
   "outputs": [],
   "source": [
    "#---------------------------------------------------------------------------------------\n",
    "# for FILE_IDX in [2,5,13,18,21,22,24]:\n",
    "# for FILE_IDX in [ 17, 18, 21 ]:    \n",
    "\n",
    "# for FILE_IDX in [ 17, 18, 21, 22, 23, 24, 25 ]:    \n",
    "for FILE_IDX in [  25 ]:    \n",
    "    weights_file = os.path.join(FCN_DIR_WEIGHTS  , fcn_files[FILE_IDX])\n",
    "    fcn_model.load_model_weights(weights_file)\n",
    "    \n",
    "    epochs = fcn_files[FILE_IDX].split('_')[1].replace('.h5','')\n",
    "    print('Weight file: ', weights_file, ' epochs:', epochs)\n",
    "\n",
    "    ###  Initialize data structures \n",
    "    failed_predicts = 0\n",
    "    agg_hm_shape = (128,128,NUM_CLASSES)\n",
    "\n",
    "    results = {}\n",
    "    results['pr_agg_hm']          = np.zeros(agg_hm_shape)\n",
    "    results['fcn_agg_hm']         = np.zeros(agg_hm_shape)\n",
    "    results['pr_agg_hm_clipped']  = np.zeros(agg_hm_shape)\n",
    "    results['fcn_agg_hm_clipped'] = np.zeros(agg_hm_shape)\n",
    "#     results['fcn_hm_delta']       = np.zeros(agg_hm_shape)\n",
    "    results['gt_cls_counts']      = np.zeros((NUM_CLASSES), dtype = np.int)\n",
    "    results['dt_cls_counts']      = np.zeros((NUM_CLASSES), dtype = np.int)\n",
    "    results['gt_ttl_img_by_inst'] = np.zeros((NUM_CLASSES, 200), dtype = np.int)  # 16 is config.MAX_SHAPES_PER_IMAGE\n",
    "    results['dt_ttl_img_by_inst'] = np.zeros((NUM_CLASSES, 200), dtype = np.int)  # 16 is config.MAX_SHAPES_PER_IMAGE\n",
    "   \n",
    "    results['imgs_one_gt'] = 0\n",
    "    results['imgs_one_dt'] = 0\n",
    "    results['sav_pr_min']  = 0\n",
    "    results['sav_pr_max']  = 0\n",
    "    results['sav_fcn_min'] = 0\n",
    "    results['sav_fcn_max'] = 0\n",
    "\n",
    "\n",
    "    print('==> Calculate Heatmap aggregates for image_id : ', image_id)\n",
    "    for cx in range(FROM,TO, STEP_SIZE):\n",
    "        print('cx: ', cx)\n",
    "        for cy in range(FROM, TO, STEP_SIZE):    \n",
    "            \n",
    "#                 new_obj = ('car', black, (cx, cy, 15, 7))                      ## image 79\n",
    "#             new_obj = ('car', (150.0, 174.0, 8.0), (cx, cy, 22, 11))     ## image 79 - move car around \n",
    "    \n",
    "            new_obj = ('person', (0.0, 0.0, 0.0), (cx, cy, 2, 10))         ## image 176, 29\n",
    "\n",
    "#                 new_obj = ('sun', (0.0, 0.0, 0.0), (cx, cy, 4, 4))             ## image 18  - moving sun - black\n",
    "#                 new_obj = ('sun', (255.0, 215.0, 0.0), (cx, cy, 4, 4))         ## image 18 - moving sun - color\n",
    "\n",
    "#                 new_obj = ('building', (0.0, 0.0, 0.0), (cx, cy, 16, 16))      ## image 67 - moving building\n",
    "#                 new_obj = ('airplane', (0.0, 0.0, 0.0), (cx, cy, 16, 6))       ## image 67 - moving airplane - black\n",
    "#                 new_obj = ('airplane', (215.0, 217.0, 161.0), (cx, cy, 16, 6)) ## image 67 - moving airplane - color\n",
    "#                 new_obj = ('sun', (0.0, 0.0, 0.0), (cx, cy, 6, 6))             ## image 67 - moving sun - color\n",
    "#                 new_obj = ('sun', (255.0, 215.0, 0.0), (cx, cy, 6, 6))         ## image 67 - moving sun - color\n",
    "\n",
    "#             new_obj = ('airplane', (200.0, 132.0, 126.0), (cx, cy, 18, 7))       ## IMAGE 77 - moving airplane color\n",
    "#             new_obj = ('car', (200.0, 132.0, 126.0), (cx, cy, 16, 7))          ## IMAGE 77 - moving car color\n",
    "#             new_obj = ('truck', (83.0, 192.0, 78.0), (65, 71, 25, 8))    ## image 77 - moving truck\n",
    "\n",
    "            dataset_test.image_info[image_id]['shapes'].append(new_obj)\n",
    "#             if cx % 10 == 0 and cy % 20 == 0:\n",
    "#                 vis.display_image_gt(dataset_test, dataset_test.config, image_id, size=6, verbose = False)\n",
    "\n",
    "#             print(dataset_test.image_info[image_id]['shapes'])\n",
    "#             vis.display_image_gt(dataset_test, dataset_test.config, image_id, size=6, verbose = True)\n",
    "            \n",
    "        \n",
    "            try:\n",
    "#                 fcn_results = run_fcn_detection(fcn_model, mrcnn_model, dataset_test, image_id, verbose = False)  \n",
    "                fcn_results = run_fcn_evaluation(fcn_model, mrcnn_model, dataset_test, image_id, verbose = False)  \n",
    "            except Exception as e :\n",
    "                failed_predicts += 1\n",
    "                print('    failure on mrcnn predict - image id: {} at cx:{} cy:{}    total failures: {}'.format(image_id, cx, cy, failed_predicts))\n",
    "            else:    \n",
    "                results = aggregate_results(fcn_results, results)\n",
    "                pass\n",
    "\n",
    "            del dataset_test.image_info[image_id]['shapes'][-1]\n",
    "            \n",
    "        \n",
    "    save_file =  'exp2_i'+str(image_id)+'_e'+epochs+'_'+exp_desc+'.npz'\n",
    "    save_results(results, save_path, save_file)\n",
    "    display_results(results)\n",
    "\n",
    "    print('\\n\\n Agg heatmap Calcs completed for epoch:', epochs , ' (Weight file:', weights_file, ')')\n",
    "    print(' Written to :', save_path, save_file)\n",
    "    print(' Total failed :', failed_predicts)\n",
    "    "
   ]
  },
  {
   "cell_type": "code",
   "execution_count": null,
   "metadata": {
    "ExecuteTime": {
     "end_time": "2019-05-19T14:28:01.939721Z",
     "start_time": "2019-05-19T14:28:01.903497Z"
    }
   },
   "outputs": [],
   "source": [
    "save_file"
   ]
  },
  {
   "cell_type": "markdown",
   "metadata": {},
   "source": [
    "### Display FCN output heatmaps for a series of epoch files"
   ]
  },
  {
   "cell_type": "code",
   "execution_count": null,
   "metadata": {
    "ExecuteTime": {
     "end_time": "2019-05-19T14:36:54.186308Z",
     "start_time": "2019-05-19T14:36:54.100222Z"
    }
   },
   "outputs": [],
   "source": [
    "cols = 9 \n",
    "image_id = 79\n",
    "exp_desc = 'airp_mvmt_wo_bldg'\n",
    "exp_desc = 'prsn_mvmt_w_car_airp'\n",
    "classes = [1,2,3,4,5,6,7,8]\n",
    "# exp2_i79_e0266_prsn_mvmt_w_car_airp.npz\n",
    "# for FILE_IDX in [2,5,13,18,21,22,24]:    \n",
    "# for FILE_IDX in [17,18,21]:\n",
    "for FILE_IDX in [25]:\n",
    "\n",
    "    epochs = fcn_files[FILE_IDX].split('_')[1].replace('.h5','')\n",
    "    load_file =  'exp2_i'+str(image_id)+'_e'+epochs+'_'+exp_desc+'.npz'\n",
    "    filename  = os.path.join(save_path, load_file)\n",
    "    if os.path.exists(filename):\n",
    "        print('  input file: ', filename)\n",
    "        loaddata = np.load(os.path.join(save_path, load_file))\n",
    "    else: \n",
    "        print('file not found ', filename)\n",
    "        continue \n",
    "    pr_agg_hm         = loaddata['fcn_agg_hm']\n",
    "    pr_agg_hm_clipped = loaddata['pr_agg_hm_clipped']\n",
    "    fcn_agg_hm         = loaddata['fcn_agg_hm']\n",
    "    fcn_agg_hm_clipped = loaddata['fcn_agg_hm_clipped']\n",
    "    gt_cls_counts      = loaddata['gt_cls_counts']  \n",
    "    dt_cls_counts      = loaddata['dt_cls_counts']      \n",
    "    ttl = 'fcn hm - img '+str(image_id)+'  epoch:'+str(epochs) +'  '+ exp_desc "
   ]
  },
  {
   "cell_type": "code",
   "execution_count": null,
   "metadata": {
    "ExecuteTime": {
     "end_time": "2019-05-19T14:37:39.272564Z",
     "start_time": "2019-05-19T14:37:30.944625Z"
    },
    "scrolled": true
   },
   "outputs": [],
   "source": [
    "\n",
    "vis2.display_fcn_agg_heatmaps(pr_agg_hm_clipped, gt_cls_counts, dt_cls_counts, class_names, columns =cols, title = ttl +'- CLIPPED TO 0 ', classes = classes)\n",
    "vis2.display_fcn_agg_heatmaps(pr_agg_hm, gt_cls_counts, dt_cls_counts, class_names, columns = cols, title = ttl +'- RAW DATA ', norm = False, classes = classes)\n",
    "vis2.display_fcn_agg_heatmaps(vis2.normalize_fcn_hm(pr_agg_hm), gt_cls_counts, dt_cls_counts, class_names, columns = cols, title = ttl +'- NORMALIZED PER CLASS ', classes = classes)\n",
    "vis2.display_fcn_agg_heatmaps(vis2.normalize_all(pr_agg_hm), gt_cls_counts, dt_cls_counts, class_names, columns = cols, title = ttl +'- NORMALIZED ACROSS ALL CLASSES ', classes = classes)"
   ]
  },
  {
   "cell_type": "code",
   "execution_count": null,
   "metadata": {
    "ExecuteTime": {
     "end_time": "2019-05-19T14:38:22.496881Z",
     "start_time": "2019-05-19T14:38:13.584863Z"
    },
    "scrolled": true
   },
   "outputs": [],
   "source": [
    "classes = [1,2,3,4,5,6,7,8]\n",
    "vis2.display_fcn_agg_heatmaps(fcn_agg_hm_clipped, gt_cls_counts, dt_cls_counts, class_names, columns =cols, title = ttl +'- CLIPPED TO 0 ', classes = classes)\n",
    "vis2.display_fcn_agg_heatmaps(fcn_agg_hm, gt_cls_counts, dt_cls_counts, class_names, columns = cols, title = ttl +'- RAW DATA ', norm = False, classes = classes)\n",
    "vis2.display_fcn_agg_heatmaps(vis2.normalize_fcn_hm(fcn_agg_hm), gt_cls_counts, dt_cls_counts, class_names, columns = cols, title = ttl +'- NORMALIZED PER CLASS ', classes = classes)\n",
    "vis2.display_fcn_agg_heatmaps(vis2.normalize_all(fcn_agg_hm), gt_cls_counts, dt_cls_counts, class_names, columns = cols, title = ttl +'- NORMALIZED ACROSS ALL CLASSES ', classes = classes)"
   ]
  },
  {
   "cell_type": "code",
   "execution_count": null,
   "metadata": {
    "ExecuteTime": {
     "end_time": "2019-05-19T14:40:03.332520Z",
     "start_time": "2019-05-19T14:40:00.654487Z"
    }
   },
   "outputs": [],
   "source": [
    "delta = fcn_agg_hm_clipped - pr_agg_hm_clipped\n",
    "vis2.display_fcn_agg_heatmaps(delta, gt_cls_counts, dt_cls_counts, class_names, columns =cols, title = ttl +'- CLIPPED TO 0 ', classes = classes)"
   ]
  },
  {
   "cell_type": "code",
   "execution_count": null,
   "metadata": {},
   "outputs": [],
   "source": []
  },
  {
   "cell_type": "code",
   "execution_count": null,
   "metadata": {
    "ExecuteTime": {
     "end_time": "2019-04-08T09:56:19.825178Z",
     "start_time": "2019-04-08T09:56:19.775279Z"
    }
   },
   "outputs": [],
   "source": [
    "print(fcn_agg_hm.min(axis=(0,1), keepdims = True))\n",
    "print(fcn_agg_hm.min( keepdims = True))\n"
   ]
  },
  {
   "cell_type": "markdown",
   "metadata": {},
   "source": [
    "## Load and Display saved .npz file "
   ]
  },
  {
   "cell_type": "code",
   "execution_count": null,
   "metadata": {
    "ExecuteTime": {
     "end_time": "2019-05-18T15:54:59.588580Z",
     "start_time": "2019-05-18T15:54:59.551423Z"
    }
   },
   "outputs": [],
   "source": [
    "# epochs = files[FILE_IDX].split('_')[1].replace('.h5','')\n",
    "epochs = '0266'\n",
    "image_id =  176\n",
    "load_file =  'exp2_img'+'_'+str(image_id)+'_epoch_'+epochs+'.npz'\n",
    "print('  input file: ',os.path.join(save_path, load_file))"
   ]
  },
  {
   "cell_type": "code",
   "execution_count": null,
   "metadata": {
    "ExecuteTime": {
     "end_time": "2019-05-18T15:56:07.896871Z",
     "start_time": "2019-05-18T15:56:07.834317Z"
    },
    "scrolled": true
   },
   "outputs": [],
   "source": [
    "loaddata = np.load(os.path.join(save_path, load_file))\n",
    "# print(type(loaddata))\n",
    "# print(loaddata.keys)\n",
    "# print(type(loaddata['gt_ttl_img_by_inst']),'  ', type(loaddata['gt_ttl_img_by_inst'][0]))\n",
    "\n",
    "gt_cls_counts      = loaddata['gt_cls_counts']  \n",
    "dt_cls_counts      = loaddata['dt_cls_counts']  \n",
    "# imgs_one_gt        = loaddata['imgs_one_gt']  \n",
    "# imgs_one_dt        = loaddata['imgs_one_dt'] \n",
    "# gt_ttl_img_by_inst = loaddata['gt_ttl_img_by_inst']\n",
    "# dt_ttl_img_by_inst = loaddata['dt_ttl_img_by_inst']\n",
    "# sav_pr_min         = loaddata['sav_pr_min'] \n",
    "# sav_pr_max         = loaddata['sav_pr_max']  \n",
    "# sav_fcn_min        = loaddata['sav_fcn_min']\n",
    "# sav_fcn_max        = loaddata['sav_fcn_max']\n",
    "pr_agg_hm          = loaddata['pr_agg_hm']\n",
    "pr_agg_hm_clipped  = loaddata['pr_agg_hm_clipped']\n",
    "fcn_agg_hm         = loaddata['fcn_agg_hm']\n",
    "fcn_agg_hm_clipped = loaddata['fcn_agg_hm_clipped']\n",
    "\n",
    "print('Agg heatmap Calcs complete for epoch:', epochs , ' (heatmap file:', load_file, ')')\n",
    "# display_results(loaddata)"
   ]
  },
  {
   "cell_type": "markdown",
   "metadata": {},
   "source": [
    "## Display Heatmaps"
   ]
  },
  {
   "cell_type": "code",
   "execution_count": null,
   "metadata": {
    "ExecuteTime": {
     "end_time": "2019-04-05T14:28:41.556406Z",
     "start_time": "2019-04-05T14:28:41.506198Z"
    }
   },
   "outputs": [],
   "source": [
    "# hmfig = vis2.display_pairwise_heatmap(gt_ttl_img_by_inst, [0,1,2,3,4,5,6,7,8], class_names)"
   ]
  },
  {
   "cell_type": "markdown",
   "metadata": {},
   "source": [
    "### mask_rcnn output"
   ]
  },
  {
   "cell_type": "code",
   "execution_count": null,
   "metadata": {
    "ExecuteTime": {
     "end_time": "2019-05-18T15:56:09.833847Z",
     "start_time": "2019-05-18T15:56:09.788528Z"
    },
    "scrolled": true
   },
   "outputs": [],
   "source": [
    "classes = [1,2,3,4,5,6,7,8]\n",
    "vis2.display_fcn_input(pr_agg_hm, gt_cls_counts, dt_cls_counts, class_names, classes = classes, cmap = 'jet', columns = 7, title = 'rcnn heatmaps - NOT clipped ')\n",
    "vis.plot_2d_gaussian(pr_agg_hm[:,:,1], size =(5,5), title = 'MRCNN produced heatmap')"
   ]
  },
  {
   "cell_type": "markdown",
   "metadata": {},
   "source": [
    "### mask_rcnn output - normalized"
   ]
  },
  {
   "cell_type": "code",
   "execution_count": null,
   "metadata": {
    "ExecuteTime": {
     "end_time": "2019-04-05T16:51:40.311514Z",
     "start_time": "2019-04-05T16:51:37.654552Z"
    }
   },
   "outputs": [],
   "source": [
    "vis2.display_fcn_input_1(vis2.normalize_fcn_hm(pr_agg_hm), gt_cls_counts, dt_cls_counts, class_names, cmap = 'jet', columns = 7, title = 'rcnn heatmaps - NOT clipped ')\n",
    "vis.plot_2d_gaussian(vis2.normalize_fcn_hm(pr_agg_hm[:,:,2]), size =(5,5))"
   ]
  },
  {
   "cell_type": "code",
   "execution_count": null,
   "metadata": {
    "ExecuteTime": {
     "end_time": "2019-04-05T16:41:47.971642Z",
     "start_time": "2019-04-05T16:41:47.797077Z"
    }
   },
   "outputs": [],
   "source": [
    "vis.display_image_gt(dataset_test, dataset_test.config, image_id , size = 5, verbose = False)   "
   ]
  },
  {
   "cell_type": "markdown",
   "metadata": {},
   "source": [
    "### mask_rcnn output - standarize and clip"
   ]
  },
  {
   "cell_type": "code",
   "execution_count": null,
   "metadata": {
    "ExecuteTime": {
     "end_time": "2019-04-05T16:41:55.920090Z",
     "start_time": "2019-04-05T16:41:51.589716Z"
    },
    "scrolled": true
   },
   "outputs": [],
   "source": [
    "vis2.display_fcn_input_1(vis2.standardize_fcn_hm(pr_agg_hm), gt_cls_counts, dt_cls_counts, class_names, cmap = 'jet', columns = 7, title = 'rcnn heatmaps - Standardized - ')\n",
    "vis2.display_fcn_input_1(vis2.deprocess_image(pr_agg_hm), gt_cls_counts, dt_cls_counts, class_names, cmap = 'jet', columns = 7, title = 'rcnn heatmaps - NOT Clipped - Normalized - ')"
   ]
  },
  {
   "cell_type": "markdown",
   "metadata": {
    "heading_collapsed": true
   },
   "source": [
    "###  mask_rcnn clipped  \n",
    "(pr_agg_hm_clipped is same as pr_agg_hm since the ouptut of R-CNN is [0,1]"
   ]
  },
  {
   "cell_type": "code",
   "execution_count": null,
   "metadata": {
    "ExecuteTime": {
     "end_time": "2019-04-05T15:15:33.511113Z",
     "start_time": "2019-04-05T15:15:31.470918Z"
    },
    "hidden": true,
    "scrolled": true
   },
   "outputs": [],
   "source": [
    "vis2.display_fcn_input_1(pr_agg_hm_clipped, gt_cls_counts, dt_cls_counts, class_names , cmap = 'jet', columns = 7, title = 'rcnn heatmaps - clipped to [0 ,1]')"
   ]
  },
  {
   "cell_type": "code",
   "execution_count": null,
   "metadata": {
    "ExecuteTime": {
     "end_time": "2019-04-05T15:01:08.867824Z",
     "start_time": "2019-04-05T15:01:06.326622Z"
    },
    "hidden": true,
    "scrolled": true
   },
   "outputs": [],
   "source": [
    "vis2.display_fcn_input_1(vis2.normalize_fcn_hm(pr_agg_hm_clipped), gt_cls_counts, dt_cls_counts, class_names, cmap = 'jet', columns = 7, title = 'rcnn heatmaps - clipped to [0,1] and Normalized - ')"
   ]
  },
  {
   "cell_type": "code",
   "execution_count": null,
   "metadata": {
    "ExecuteTime": {
     "end_time": "2019-04-05T15:01:19.419214Z",
     "start_time": "2019-04-05T15:01:17.526865Z"
    },
    "hidden": true,
    "scrolled": true
   },
   "outputs": [],
   "source": [
    "vis2.display_fcn_input_1(vis2.deprocess_image(pr_agg_hm_clipped), gt_cls_counts, dt_cls_counts, class_names, cmap = 'jet', columns = 7, title = 'rcnn heatmaps - clipped to [0,1] and Normalized - ')"
   ]
  },
  {
   "cell_type": "markdown",
   "metadata": {},
   "source": [
    "###  fcn"
   ]
  },
  {
   "cell_type": "code",
   "execution_count": null,
   "metadata": {
    "ExecuteTime": {
     "end_time": "2019-04-05T16:56:39.839749Z",
     "start_time": "2019-04-05T16:56:37.266269Z"
    },
    "scrolled": true
   },
   "outputs": [],
   "source": [
    "vis2.display_fcn_input_1(fcn_agg_hm, gt_cls_counts, dt_cls_counts, class_names, cmap = 'jet', columns =7, title = 'fcn heatmaps - NOT clipped to [0,1]')\n",
    "vis.plot_2d_gaussian(vis2.normalize_fcn_hm(fcn_agg_hm[:,:,1]), size =(5,5))\n",
    "vis.plot_2d_gaussian(vis2.normalize_fcn_hm(fcn_agg_hm[:,:,2]), size =(5,5))"
   ]
  },
  {
   "cell_type": "code",
   "execution_count": null,
   "metadata": {
    "ExecuteTime": {
     "end_time": "2019-04-05T17:27:42.421312Z",
     "start_time": "2019-04-05T17:27:39.874694Z"
    },
    "scrolled": true
   },
   "outputs": [],
   "source": [
    "vis2.display_fcn_input_1(fcn_agg_hm, gt_cls_counts, dt_cls_counts, class_names, cmap = 'jet', columns =7, title = 'fcn heatmaps - NOT clipped to [0,1]')\n",
    "vis.plot_2d_gaussian(vis2.normalize_fcn_hm(fcn_agg_hm[:,:,1]), size =(5,5))\n",
    "vis.plot_2d_gaussian(vis2.normalize_fcn_hm(fcn_agg_hm[:,:,2]), size =(5,5))"
   ]
  },
  {
   "cell_type": "code",
   "execution_count": null,
   "metadata": {
    "ExecuteTime": {
     "end_time": "2019-04-05T17:38:25.999317Z",
     "start_time": "2019-04-05T17:38:23.391527Z"
    },
    "scrolled": true
   },
   "outputs": [],
   "source": [
    "vis2.display_fcn_input_1(fcn_agg_hm, gt_cls_counts, dt_cls_counts, class_names, cmap = 'jet', columns =7, title = 'fcn heatmaps - NOT clipped to [0,1]')\n",
    "vis.plot_2d_gaussian(vis2.normalize_fcn_hm(fcn_agg_hm[:,:,1]), size =(5,5))\n",
    "vis.plot_2d_gaussian(vis2.normalize_fcn_hm(fcn_agg_hm[:,:,2]), size =(5,5))"
   ]
  },
  {
   "cell_type": "markdown",
   "metadata": {
    "heading_collapsed": true
   },
   "source": [
    "### fcn normalized"
   ]
  },
  {
   "cell_type": "code",
   "execution_count": null,
   "metadata": {
    "ExecuteTime": {
     "end_time": "2019-04-05T16:42:36.633741Z",
     "start_time": "2019-04-05T16:42:34.574673Z"
    },
    "hidden": true
   },
   "outputs": [],
   "source": [
    "vis2.display_fcn_input_1(vis2.normalize_fcn_hm(fcn_agg_hm), gt_cls_counts, dt_cls_counts, class_names, cmap = 'jet', columns = 7, title = 'fcn heatmaps - NOT clipped to [0,1],  Normalized -')"
   ]
  },
  {
   "cell_type": "markdown",
   "metadata": {
    "heading_collapsed": true
   },
   "source": [
    "### fcn clipped"
   ]
  },
  {
   "cell_type": "code",
   "execution_count": null,
   "metadata": {
    "ExecuteTime": {
     "end_time": "2019-04-05T16:43:06.556233Z",
     "start_time": "2019-04-05T16:43:04.489246Z"
    },
    "hidden": true
   },
   "outputs": [],
   "source": [
    "vis2.display_fcn_input_1(fcn_agg_hm_clipped, gt_cls_counts, dt_cls_counts, class_names, cmap = 'jet', columns = 7, title = 'fcn heatmaps - clipped to [0,1] - ')"
   ]
  },
  {
   "cell_type": "markdown",
   "metadata": {
    "heading_collapsed": true
   },
   "source": [
    "### fcn clipped - normalized"
   ]
  },
  {
   "cell_type": "code",
   "execution_count": null,
   "metadata": {
    "ExecuteTime": {
     "end_time": "2019-04-05T16:43:34.670704Z",
     "start_time": "2019-04-05T16:43:34.623214Z"
    },
    "hidden": true,
    "scrolled": true
   },
   "outputs": [],
   "source": [
    "# vis2.display_fcn_input_1(vis2.deprocess_image(fcn_agg_hm_clipped), gt_cls_counts, dt_cls_counts, class_names, cmap = 'jet', columns = 7, title = 'fcn heatmaps - clipped to [0 ,1] and Normalized - ')"
   ]
  },
  {
   "cell_type": "markdown",
   "metadata": {},
   "source": [
    "## 2D Plots  "
   ]
  },
  {
   "cell_type": "markdown",
   "metadata": {},
   "source": [
    "####  2D plot of `model_gt_heatmap` returned from model"
   ]
  },
  {
   "cell_type": "code",
   "execution_count": null,
   "metadata": {
    "ExecuteTime": {
     "end_time": "2018-11-14T17:13:27.617635Z",
     "start_time": "2018-11-14T17:13:26.656954Z"
    },
    "hideCode": false,
    "hideOutput": false,
    "scrolled": false
   },
   "outputs": [],
   "source": [
    "fig = visualize.plot_2d_heatmap(model_gt_heatmap, model_gt_heatmap_scores, img_id, gt_class_ids, \n",
    "                          class_names = coco_class_names, columns = 3, scale = 4, scaling = 'all')"
   ]
  },
  {
   "cell_type": "markdown",
   "metadata": {},
   "source": [
    "####  2D plot of `pred_heatmap_norm` returned from MRCNN "
   ]
  },
  {
   "cell_type": "code",
   "execution_count": null,
   "metadata": {
    "ExecuteTime": {
     "end_time": "2018-11-14T17:16:04.933373Z",
     "start_time": "2018-11-14T17:16:03.676973Z"
    },
    "hideCode": false,
    "hideOutput": false,
    "scrolled": true
   },
   "outputs": [],
   "source": [
    "fig = visualize.plot_2d_heatmap(model_pr_heatmap, model_pr_heatmap_scores, img_id, pr_class_ids, columns = 3, \n",
    "                            class_names = coco_class_names, scale = 4, scaling = 'all')"
   ]
  },
  {
   "cell_type": "markdown",
   "metadata": {
    "heading_collapsed": true
   },
   "source": [
    "####  2D plot of `model_fcn_heatmap` returned from model"
   ]
  },
  {
   "cell_type": "code",
   "execution_count": null,
   "metadata": {
    "ExecuteTime": {
     "end_time": "2018-11-14T17:15:26.988165Z",
     "start_time": "2018-11-14T17:15:25.493102Z"
    },
    "hidden": true,
    "hideCode": false,
    "hideOutput": false,
    "scrolled": false
   },
   "outputs": [],
   "source": [
    "fig = visualize.plot_2d_heatmap(model_fcn_heatmap, model_pr_heatmap_scores, img_id, pr_class_ids, columns = 3,\n",
    "                          class_names = coco_class_names, scale = 4, scaling = 'all')"
   ]
  },
  {
   "cell_type": "markdown",
   "metadata": {
    "heading_collapsed": true
   },
   "source": [
    "####  2D plot of `model_fcn_heatmap` returned from model - ALL CLASSES"
   ]
  },
  {
   "cell_type": "code",
   "execution_count": null,
   "metadata": {
    "ExecuteTime": {
     "end_time": "2018-11-14T17:16:54.677624Z",
     "start_time": "2018-11-14T17:16:29.862417Z"
    },
    "hidden": true,
    "hideCode": false,
    "hideOutput": false,
    "scrolled": false
   },
   "outputs": [],
   "source": [
    "fig = visualize.plot_2d_heatmap(model_fcn_heatmap, model_gt_heatmap_scores, img_id,\n",
    "                                class_names = coco_class_names, columns = 3, scale = 4, scaling = 'all')"
   ]
  },
  {
   "cell_type": "code",
   "execution_count": null,
   "metadata": {
    "ExecuteTime": {
     "end_time": "2018-11-05T16:20:46.357754Z",
     "start_time": "2018-11-05T16:20:39.727892Z"
    },
    "hidden": true
   },
   "outputs": [],
   "source": [
    "fig.savefig('fcn_heatmaps_2d.png')"
   ]
  },
  {
   "cell_type": "markdown",
   "metadata": {
    "heading_collapsed": true
   },
   "source": [
    "####  2D comparative display `pred_heatmap` / `fcn_heatmap`  "
   ]
  },
  {
   "cell_type": "code",
   "execution_count": null,
   "metadata": {
    "ExecuteTime": {
     "end_time": "2018-11-14T14:03:50.330560Z",
     "start_time": "2018-11-14T14:03:48.017918Z"
    },
    "hidden": true,
    "hideCode": false,
    "hideOutput": false,
    "scrolled": true
   },
   "outputs": [],
   "source": [
    "fig = visualize.plot_2d_heatmap_compare(model_pr_heatmap, model_fcn_heatmap, model_pr_heatmap_scores, \n",
    "                        img_id, class_ids = pr_class_ids, class_names = coco_class_names, scale = 4, scaling = True )    "
   ]
  },
  {
   "cell_type": "markdown",
   "metadata": {
    "heading_collapsed": true
   },
   "source": [
    "##  3D Plots"
   ]
  },
  {
   "cell_type": "markdown",
   "metadata": {
    "heading_collapsed": true,
    "hidden": true
   },
   "source": [
    "####  3D plot of  `gt_heatmap_norm` returned form code above"
   ]
  },
  {
   "cell_type": "code",
   "execution_count": null,
   "metadata": {
    "ExecuteTime": {
     "end_time": "2018-11-14T14:21:09.839334Z",
     "start_time": "2018-11-14T14:21:06.445923Z"
    },
    "hidden": true,
    "hideCode": false,
    "hideOutput": false,
    "scrolled": false
   },
   "outputs": [],
   "source": [
    "print('Image : {}  ClassIds: {}'.format(img_id, gt_class_ids))\n",
    "visualize.plot_3d_heatmap(model_gt_heatmap, img_id, gt_class_ids, class_names = coco_class_names, scaling='class')"
   ]
  },
  {
   "cell_type": "markdown",
   "metadata": {
    "heading_collapsed": true,
    "hidden": true
   },
   "source": [
    "####  3D plot of `pred_heatmap_norm` returned form model"
   ]
  },
  {
   "cell_type": "code",
   "execution_count": null,
   "metadata": {
    "ExecuteTime": {
     "end_time": "2018-11-14T14:23:06.407165Z",
     "start_time": "2018-11-14T14:23:03.084807Z"
    },
    "hidden": true,
    "hideCode": false,
    "hideOutput": false,
    "scrolled": false
   },
   "outputs": [],
   "source": [
    "print('Image : {}  ClassIds: {}'.format(img_id, pr_class_ids))\n",
    "visualize.plot_3d_heatmap(model_pr_heatmap, img_id, pr_class_ids, class_names = coco_class_names, zlim = 'class' , scaling = 'none')"
   ]
  },
  {
   "cell_type": "markdown",
   "metadata": {
    "heading_collapsed": true,
    "hidden": true
   },
   "source": [
    "####  3D plot of `fcn_heatmap` returned form model - only classes in pred_scores"
   ]
  },
  {
   "cell_type": "code",
   "execution_count": null,
   "metadata": {
    "ExecuteTime": {
     "end_time": "2018-11-14T14:30:56.593828Z",
     "start_time": "2018-11-14T14:30:53.206421Z"
    },
    "hidden": true
   },
   "outputs": [],
   "source": [
    "print(np.max(model_fcn_heatmap), np.min(model_fcn_heatmap))\n",
    "\n",
    "print('Image : {}  ClassIds: {}'.format(img_id, pr_class_ids))\n",
    "visualize.plot_3d_heatmap(model_fcn_heatmap, img_id, pr_class_ids,class_names = coco_class_names, scaling = 'none')"
   ]
  },
  {
   "cell_type": "markdown",
   "metadata": {
    "heading_collapsed": true,
    "hidden": true
   },
   "source": [
    "####  3D plot of `fcn_heatmap` returned form model - all classes"
   ]
  },
  {
   "cell_type": "code",
   "execution_count": null,
   "metadata": {
    "ExecuteTime": {
     "end_time": "2018-11-14T14:32:29.686108Z",
     "start_time": "2018-11-14T14:31:23.272781Z"
    },
    "hidden": true,
    "hideCode": false,
    "hideOutput": false,
    "scrolled": false
   },
   "outputs": [],
   "source": [
    "print('Image : {}  ClassIds: {}'.format(img_id, pr_class_ids))\n",
    "#     plot_3d_heatmap(model_fcn_heatmap, img_id, class_ids,class_names = class_names, size = (8,8), zlim=0)\n",
    "visualize.plot_3d_heatmap(model_fcn_heatmap, img_id, class_names = coco_class_names, columns = 3,scaling = 'all')"
   ]
  },
  {
   "cell_type": "markdown",
   "metadata": {
    "heading_collapsed": true,
    "hidden": true
   },
   "source": [
    "####  3D comparative display `pred_heatmap` / `fcn_heatmap` "
   ]
  },
  {
   "cell_type": "code",
   "execution_count": null,
   "metadata": {
    "ExecuteTime": {
     "end_time": "2018-11-05T13:30:30.174183Z",
     "start_time": "2018-11-05T13:29:36.585211Z"
    },
    "hidden": true,
    "hideCode": false,
    "hideOutput": false,
    "scrolled": false
   },
   "outputs": [],
   "source": [
    "print('Image : {}  ClassIds: {}'.format(img_id, pr_class_ids))\n",
    "visualize.plot_3d_heatmap_compare(model_pr_heatmap, model_fcn_heatmap, img_id, class_ids = pr_class_ids, \n",
    "                            class_names = coco_class_names, size=(8,8), zlim = 'all' , scaling = 'all')"
   ]
  },
  {
   "cell_type": "markdown",
   "metadata": {
    "heading_collapsed": true,
    "hidden": true
   },
   "source": [
    "####  3D comparative display `gt_heatmap` / `fcn_heatmap` "
   ]
  },
  {
   "cell_type": "code",
   "execution_count": null,
   "metadata": {
    "ExecuteTime": {
     "end_time": "2018-11-14T15:29:06.019265Z",
     "start_time": "2018-11-14T15:28:59.449581Z"
    },
    "hidden": true,
    "hideCode": false,
    "hideOutput": false,
    "scrolled": false
   },
   "outputs": [],
   "source": [
    "print('Image : {}  ClassIds: {}'.format(img_id, gt_class_ids))\n",
    "visualize.plot_3d_heatmap_compare(model_gt_heatmap, model_fcn_heatmap, img_id, gt_class_ids, class_names = coco_class_names, scaling = 'none')"
   ]
  },
  {
   "cell_type": "markdown",
   "metadata": {
    "heading_collapsed": true
   },
   "source": [
    "## Overlay predictions on image"
   ]
  },
  {
   "cell_type": "markdown",
   "metadata": {
    "heading_collapsed": true,
    "hidden": true
   },
   "source": [
    "#### Overlay image with gt_heatmaps"
   ]
  },
  {
   "cell_type": "code",
   "execution_count": null,
   "metadata": {
    "ExecuteTime": {
     "end_time": "2018-11-14T15:29:37.764801Z",
     "start_time": "2018-11-14T15:29:33.866031Z"
    },
    "hidden": true,
    "scrolled": false
   },
   "outputs": [],
   "source": [
    "visualize.display_heatmaps_mrcnn(mrcnn_input, mrcnn_output, 0, hm = 'gt', columns = 3, \n",
    "                     config = mrcnn_model.config, class_ids = gt_class_ids, class_names = coco_class_names)"
   ]
  },
  {
   "cell_type": "markdown",
   "metadata": {
    "hidden": true
   },
   "source": [
    "#### Overlay image with pred_heatmaps"
   ]
  },
  {
   "cell_type": "code",
   "execution_count": null,
   "metadata": {
    "ExecuteTime": {
     "end_time": "2018-11-14T15:30:01.672786Z",
     "start_time": "2018-11-14T15:29:57.674950Z"
    },
    "hidden": true,
    "scrolled": false
   },
   "outputs": [],
   "source": [
    "visualize.display_heatmaps_mrcnn(mrcnn_input, mrcnn_output, 0, hm = 'pr', columns = 3,\n",
    "                     config = mrcnn_model.config, class_ids = pr_class_ids, class_names = coco_class_names)"
   ]
  },
  {
   "cell_type": "markdown",
   "metadata": {
    "heading_collapsed": true,
    "hidden": true
   },
   "source": [
    "#### Overlay image with fcn_heatmaps"
   ]
  },
  {
   "cell_type": "code",
   "execution_count": null,
   "metadata": {
    "ExecuteTime": {
     "end_time": "2018-11-14T16:34:56.222811Z",
     "start_time": "2018-11-14T16:34:52.830400Z"
    },
    "hidden": true,
    "scrolled": false
   },
   "outputs": [],
   "source": [
    "visualize.display_heatmaps_mrcnn_fcn(mrcnn_input, mrcnn_output, 0, heatmap = model_fcn_heatmap, hm = 'gt', columns = 3,\n",
    "                     config = mrcnn_model.config, class_ids = gt_class_ids, class_names = coco_class_names, scaling = 'clip')"
   ]
  },
  {
   "cell_type": "code",
   "execution_count": null,
   "metadata": {
    "ExecuteTime": {
     "end_time": "2018-11-14T16:25:45.542154Z",
     "start_time": "2018-11-14T16:25:45.227932Z"
    },
    "hidden": true
   },
   "outputs": [],
   "source": [
    "from IPython.core.display import HTML\n",
    "HTML(\"\"\"\n",
    "<style>\n",
    ".output_png {\n",
    "    display: table-cell;\n",
    "    text-align: center;\n",
    "    vertical-align: center;\n",
    "}\n",
    "</style>\n",
    "\"\"\")"
   ]
  },
  {
   "cell_type": "markdown",
   "metadata": {
    "heading_collapsed": true,
    "hidden": true
   },
   "source": [
    "#### Overlay image with gt_heatmaps and fcn_heatmaps"
   ]
  },
  {
   "cell_type": "code",
   "execution_count": null,
   "metadata": {
    "ExecuteTime": {
     "end_time": "2018-11-14T16:51:47.476864Z",
     "start_time": "2018-11-14T16:51:42.379245Z"
    },
    "hidden": true,
    "scrolled": false
   },
   "outputs": [],
   "source": [
    "visualize.display_heatmaps_compare(mrcnn_input, mrcnn_output, heatmap = model_fcn_heatmap, image_id = 0, \n",
    "                                   hm = 'gt', config = mrcnn_model.config, class_ids = gt_class_ids, class_names = coco_class_names, scaling = 'each')"
   ]
  },
  {
   "cell_type": "markdown",
   "metadata": {
    "heading_collapsed": true,
    "hidden": true
   },
   "source": [
    "#### Overlay image with pr_heatmaps and fcn_heatmaps"
   ]
  },
  {
   "cell_type": "code",
   "execution_count": null,
   "metadata": {
    "ExecuteTime": {
     "end_time": "2018-11-14T16:51:52.823664Z",
     "start_time": "2018-11-14T16:51:47.478866Z"
    },
    "hidden": true,
    "scrolled": false
   },
   "outputs": [],
   "source": [
    "visualize.display_heatmaps_compare(mrcnn_input, mrcnn_output, heatmap = model_fcn_heatmap, image_id = 0, hm = 'pr', \n",
    "                     config = mrcnn_model.config, class_ids = gt_class_ids, class_names = coco_class_names, scaling = 'each')"
   ]
  },
  {
   "cell_type": "code",
   "execution_count": null,
   "metadata": {
    "hidden": true
   },
   "outputs": [],
   "source": []
  }
 ],
 "metadata": {
  "anaconda-cloud": {},
  "celltoolbar": "Hide code",
  "hide_code_all_hidden": true,
  "kernelspec": {
   "display_name": "Python [conda env:TFG]",
   "language": "python",
   "name": "conda-env-TFG-py"
  },
  "language_info": {
   "codemirror_mode": {
    "name": "ipython",
    "version": 3
   },
   "file_extension": ".py",
   "mimetype": "text/x-python",
   "name": "python",
   "nbconvert_exporter": "python",
   "pygments_lexer": "ipython3",
   "version": "3.5.4"
  },
  "toc": {
   "base_numbering": 1,
   "nav_menu": {},
   "number_sections": true,
   "sideBar": true,
   "skip_h1_title": false,
   "title_cell": "Table of Contents",
   "title_sidebar": "Contents",
   "toc_cell": false,
   "toc_position": {
    "height": "1128px",
    "left": "20.9961px",
    "top": "109.453px",
    "width": "397px"
   },
   "toc_section_display": true,
   "toc_window_display": true
  }
 },
 "nbformat": 4,
 "nbformat_minor": 2
}
